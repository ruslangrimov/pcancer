{
 "cells": [
  {
   "cell_type": "code",
   "execution_count": 31,
   "metadata": {
    "_last_msg_id": "96d92e0fb4994e159ca1af880ae1be3d"
   },
   "outputs": [],
   "source": [
    "import os\n",
    "\n",
    "import skimage.io\n",
    "import numpy as np\n",
    "import tifffile\n",
    "\n",
    "import matplotlib.pyplot as plt\n",
    "\n",
    "import cv2"
   ]
  },
  {
   "cell_type": "code",
   "execution_count": 78,
   "metadata": {
    "_last_msg_id": "59ca08659da344508eea708cd8dbf03c"
   },
   "outputs": [],
   "source": [
    "TRAIN_PATH = '/mnt/HDDData/pdata/train_images/'\n",
    "TRAIN_MASKS_PATH = '/mnt/HDDData/pdata/train_label_masks/'\n",
    "TIFFTILES2JPG_BIN = '../tiff/tifftiles2jpg/tifftiles2jpg'"
   ]
  },
  {
   "cell_type": "code",
   "execution_count": 47,
   "metadata": {
    "_last_msg_id": "4d94615afb8e457cacff55d4d6ce9569"
   },
   "outputs": [],
   "source": [
    "fnames = os.listdir(TRAIN_MASKS_PATH)"
   ]
  },
  {
   "cell_type": "code",
   "execution_count": 48,
   "metadata": {
    "_last_msg_id": "0e8e9572aa5c411b97c80c8155981e15"
   },
   "outputs": [
    {
     "data": {
      "text/plain": [
       "10516"
      ]
     },
     "execution_count": 48,
     "metadata": {},
     "output_type": "execute_result"
    }
   ],
   "source": [
    "len(fnames)"
   ]
  },
  {
   "cell_type": "code",
   "execution_count": 49,
   "metadata": {
    "_last_msg_id": "71565f00b8f543de8925066cf0444519"
   },
   "outputs": [],
   "source": [
    "n = 0"
   ]
  },
  {
   "cell_type": "code",
   "execution_count": 50,
   "metadata": {
    "_last_msg_id": "fcd934f868494b77ab41308339fdf3d2"
   },
   "outputs": [],
   "source": [
    "n += 1"
   ]
  },
  {
   "cell_type": "code",
   "execution_count": 69,
   "metadata": {
    "_last_msg_id": "2ed528d145d64982ae4c69cf66bf1c43"
   },
   "outputs": [],
   "source": [
    "fname = fnames[1001]"
   ]
  },
  {
   "cell_type": "code",
   "execution_count": 70,
   "metadata": {
    "_last_msg_id": "21ff78c3891140ba8647585b57f3888c"
   },
   "outputs": [],
   "source": [
    "full_fname = os.path.join(TRAIN_MASKS_PATH, fname)"
   ]
  },
  {
   "cell_type": "code",
   "execution_count": 71,
   "metadata": {
    "_last_msg_id": "3e52a0cc202a466a8793958b789e865a"
   },
   "outputs": [],
   "source": [
    "# img = cv2.imread(full_fname)"
   ]
  },
  {
   "cell_type": "code",
   "execution_count": 72,
   "metadata": {
    "_last_msg_id": "37f623bf5ab14f6d91196b06961c4189"
   },
   "outputs": [],
   "source": [
    "# img.shape"
   ]
  },
  {
   "cell_type": "code",
   "execution_count": 73,
   "metadata": {
    "_last_msg_id": "da16992dcc8a4909a9d9fe017ca781f8"
   },
   "outputs": [],
   "source": [
    "#image = skimage.io.MultiImage(full_fname)\n",
    "#image = cv2.cvtColor(image[0], cv2.COLOR_BGR2RGB)"
   ]
  },
  {
   "cell_type": "code",
   "execution_count": 74,
   "metadata": {
    "_last_msg_id": "fb705ba1c80a43d3b4b35ce9f1950f71"
   },
   "outputs": [],
   "source": [
    "img = tifffile.imread(full_fname)"
   ]
  },
  {
   "cell_type": "code",
   "execution_count": 79,
   "metadata": {
    "_last_msg_id": "e7a7d9048c1c4a348386fb8fa4192735"
   },
   "outputs": [],
   "source": [
    "!mkdir ./tmp/tmpmask/"
   ]
  },
  {
   "cell_type": "code",
   "execution_count": 81,
   "metadata": {
    "_last_msg_id": "7db5122f758b4a959808923c5019c599"
   },
   "outputs": [
    {
     "name": "stdout",
     "output_type": "stream",
     "text": [
      "Image width: 27648, Image lenght: 30464\r\n",
      "Tile width: 512, Tile lenght: 512\r\n",
      "Tiles in width: 54, Tiles in lenght: 60\r\n",
      "BitsPerSample: 8\r\n",
      "SamplesPerPixel: 3\r\n",
      "Compression: 5\r\n",
      "Photometric: 2\r\n",
      "tifftiles2jpg: compression must be jpeg\r\n"
     ]
    }
   ],
   "source": [
    "!{TIFFTILES2JPG_BIN} {full_fname} 0 ./tmp/tmpmask/"
   ]
  },
  {
   "cell_type": "code",
   "execution_count": 83,
   "metadata": {
    "_last_msg_id": "26c2be86c6b64b3d86d26cc62ae40f02"
   },
   "outputs": [
    {
     "name": "stdout",
     "output_type": "stream",
     "text": [
      "TIFF Directory at offset 0x563cc6 (5651654)\r\n",
      "  Image Width: 27648 Image Length: 30464\r\n",
      "  Tile Width: 512 Tile Length: 512\r\n",
      "  Resolution: 22123, 22123 pixels/cm\r\n",
      "  Bits/Sample: 8\r\n",
      "  Sample Format: unsigned integer\r\n",
      "  Compression Scheme: LZW\r\n",
      "  Photometric Interpretation: RGB color\r\n",
      "  Orientation: row 0 top, col 0 lhs\r\n",
      "  Samples/Pixel: 3\r\n",
      "  SMin Sample Value: 0\r\n",
      "  SMax Sample Value: 2\r\n",
      "  Planar Configuration: single image plane\r\n",
      "TIFF Directory at offset 0x5d3d60 (6110560)\r\n",
      "  Subfile Type: reduced-resolution image (1 = 0x1)\r\n",
      "  Image Width: 6912 Image Length: 7616\r\n",
      "  Tile Width: 512 Tile Length: 512\r\n",
      "  Resolution: 5530.76, 5530.76 pixels/cm\r\n",
      "  Bits/Sample: 8\r\n",
      "  Sample Format: unsigned integer\r\n",
      "  Compression Scheme: LZW\r\n",
      "  Photometric Interpretation: RGB color\r\n",
      "  Orientation: row 0 top, col 0 lhs\r\n",
      "  Samples/Pixel: 3\r\n",
      "  Planar Configuration: single image plane\r\n",
      "TIFF Directory at offset 0x5dda04 (6150660)\r\n",
      "  Subfile Type: reduced-resolution image (1 = 0x1)\r\n",
      "  Image Width: 1728 Image Length: 1904\r\n",
      "  Tile Width: 512 Tile Length: 512\r\n",
      "  Resolution: 1382.69, 1382.69 pixels/cm\r\n",
      "  Bits/Sample: 8\r\n",
      "  Sample Format: unsigned integer\r\n",
      "  Compression Scheme: LZW\r\n",
      "  Photometric Interpretation: RGB color\r\n",
      "  Orientation: row 0 top, col 0 lhs\r\n",
      "  Samples/Pixel: 3\r\n",
      "  Planar Configuration: single image plane\r\n"
     ]
    }
   ],
   "source": [
    "!tiffinfo {full_fname}"
   ]
  },
  {
   "cell_type": "code",
   "execution_count": 84,
   "metadata": {
    "_last_msg_id": "d24928e495cf40c781bb6ff2d11c8d9b"
   },
   "outputs": [],
   "source": [
    "from PIL import Image"
   ]
  },
  {
   "cell_type": "code",
   "execution_count": 86,
   "metadata": {
    "_last_msg_id": "b0343a4541bf4d4dbbce932bed6f9566"
   },
   "outputs": [],
   "source": [
    "from skimage.io import imread"
   ]
  },
  {
   "cell_type": "code",
   "execution_count": 89,
   "metadata": {
    "_last_msg_id": "88a90fa55cfa46259d0bd4d6e29c1f68"
   },
   "outputs": [],
   "source": [
    "img = imread(full_fname)"
   ]
  },
  {
   "cell_type": "code",
   "execution_count": 91,
   "metadata": {
    "_last_msg_id": "dab5725e605f40eaa2c06e8049f13e2e"
   },
   "outputs": [
    {
     "data": {
      "text/plain": [
       "(30464, 27648, 3)"
      ]
     },
     "execution_count": 91,
     "metadata": {},
     "output_type": "execute_result"
    }
   ],
   "source": [
    "img.shape"
   ]
  },
  {
   "cell_type": "code",
   "execution_count": 92,
   "metadata": {
    "_last_msg_id": "7b24dc7f0c834dd0843db980ff8ff304"
   },
   "outputs": [],
   "source": [
    "img = cv2.resize(img, None, fx=0.1, fy=0.1, interpolation=cv2.INTER_CUBIC)"
   ]
  },
  {
   "cell_type": "code",
   "execution_count": 96,
   "metadata": {
    "_last_msg_id": "6c80b0f0c09a43a586319ea46d2dac8c"
   },
   "outputs": [
    {
     "data": {
      "text/plain": [
       "0"
      ]
     },
     "execution_count": 96,
     "metadata": {},
     "output_type": "execute_result"
    }
   ],
   "source": [
    "img.min()"
   ]
  },
  {
   "cell_type": "code",
   "execution_count": 93,
   "metadata": {
    "_last_msg_id": "bd99711bc3f943e7819fa1a0d462ed3b"
   },
   "outputs": [
    {
     "data": {
      "text/plain": [
       "(3046, 2765, 3)"
      ]
     },
     "execution_count": 93,
     "metadata": {},
     "output_type": "execute_result"
    }
   ],
   "source": [
    "img.shape"
   ]
  },
  {
   "cell_type": "code",
   "execution_count": 103,
   "metadata": {
    "_last_msg_id": "f4f19ce18be047b58e167baae727e508"
   },
   "outputs": [
    {
     "data": {
      "text/plain": [
       "0"
      ]
     },
     "execution_count": 103,
     "metadata": {},
     "output_type": "execute_result"
    }
   ],
   "source": [
    "img[..., 2].max()"
   ]
  },
  {
   "cell_type": "code",
   "execution_count": null,
   "metadata": {},
   "outputs": [],
   "source": []
  },
  {
   "cell_type": "code",
   "execution_count": 106,
   "metadata": {
    "_last_msg_id": "dbebe834253049c2bbfe49d357335269"
   },
   "outputs": [
    {
     "data": {
      "image/png": "[encoded data removed]",
      "text/plain": [
       "<Figure size 1296x1296 with 1 Axes>"
      ]
     },
     "metadata": {
      "needs_background": "light"
     },
     "output_type": "display_data"
    }
   ],
   "source": [
    "plt.figure(figsize=(18, 18))\n",
    "plt.imshow(img[..., 0] == 2);"
   ]
  },
  {
   "cell_type": "code",
   "execution_count": null,
   "metadata": {},
   "outputs": [],
   "source": []
  }
 ],
 "metadata": {
  "kernelspec": {
   "display_name": "Python 3",
   "language": "python",
   "name": "python3"
  },
  "language_info": {
   "codemirror_mode": {
    "name": "ipython",
    "version": 3
   },
   "file_extension": ".py",
   "mimetype": "text/x-python",
   "name": "python",
   "nbconvert_exporter": "python",
   "pygments_lexer": "ipython3",
   "version": "3.7.4"
  }
 },
 "nbformat": 4,
 "nbformat_minor": 2
}
