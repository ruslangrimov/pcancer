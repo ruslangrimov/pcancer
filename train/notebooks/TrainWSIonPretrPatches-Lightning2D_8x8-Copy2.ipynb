{
 "cells": [
  {
   "cell_type": "code",
   "execution_count": 1,
   "metadata": {
    "_last_msg_id": "492cdd8720b642e180271fbbb2264f21"
   },
   "outputs": [],
   "source": [
    "import sys\n",
    "sys.path.append('../..')"
   ]
  },
  {
   "cell_type": "code",
   "execution_count": 2,
   "metadata": {
    "_last_msg_id": "fb180258aa6a402299cfc254f394a56c"
   },
   "outputs": [],
   "source": [
    "import os\n",
    "import psutil\n",
    "\n",
    "import random\n",
    "import math\n",
    "from functools import partial\n",
    "\n",
    "import torch \n",
    "from torch import optim\n",
    "from torch.optim import lr_scheduler\n",
    "from torch import nn\n",
    "from torch.nn import functional as F\n",
    "\n",
    "import multiprocessing.dummy as mp\n",
    "\n",
    "from pytorch_lightning import Trainer\n",
    "from pytorch_lightning.core import LightningModule\n",
    "from pytorch_lightning.callbacks import ModelCheckpoint\n",
    "from pytorch_lightning.loggers.tensorboard import TensorBoardLogger\n",
    "\n",
    "\n",
    "from lib.schedulers import DelayedScheduler\n",
    "from lib.datasets import (max_lbl_nums, actual_lbl_nums, \n",
    "                          patches_rgb_mean_av1, patches_rgb_std_av1, \n",
    "                          get_train_test_img_ids_split)\n",
    "from lib.dataloaders import PatchesDataset, WSIPatchesDatasetRaw, WSIPatchesDummyDataloader\n",
    "from lib.augmentations import augment_v1_clr_only, augment_empty_clr_only\n",
    "from lib.losses import SmoothLoss\n",
    "from lib.trainers import WSIModuleV1\n",
    "\n",
    "from lib.models.unetv1 import get_model\n",
    "from lib.models.features_map import FeaturesMap\n",
    "\n",
    "from sklearn.metrics import cohen_kappa_score\n",
    "\n",
    "from tqdm.auto import tqdm\n",
    "\n",
    "import matplotlib.pyplot as plt"
   ]
  },
  {
   "cell_type": "code",
   "execution_count": 3,
   "metadata": {
    "_last_msg_id": "8b898fbf92cd415281a121c96bbe113e"
   },
   "outputs": [],
   "source": [
    "# import cv2\n",
    "import numpy as np\n",
    "# import pandas as pd\n",
    "# from lib.datasets import patches_csv_path, patches_path\n",
    "from lib.datasets import (patches_clean90_csv_path as patches_csv_path, patches_path,\n",
    "                          patches_clean90_pkl_path as patches_pkl_path)\n",
    "# from lib.dataloaders import imread, get_g_score_num, get_provider_num"
   ]
  },
  {
   "cell_type": "code",
   "execution_count": 4,
   "metadata": {
    "_last_msg_id": "d7c19a1b372a48bb804be2dec6010e47"
   },
   "outputs": [
    {
     "data": {
      "text/plain": [
       "['e8baa3bb9dcfb9cef5ca599d62bb8046',\n",
       " '9b2948ff81b64677a1a152a1532c1a50',\n",
       " '5b003d43ec0ce5979062442486f84cf7',\n",
       " '375b2c9501320b35ceb638a3274812aa']"
      ]
     },
     "execution_count": 4,
     "metadata": {},
     "output_type": "execute_result"
    }
   ],
   "source": [
    "train_img_ids, test_img_ids = get_train_test_img_ids_split()\n",
    "\n",
    "test_img_ids[:4]"
   ]
  },
  {
   "cell_type": "code",
   "execution_count": 5,
   "metadata": {
    "_last_msg_id": "da6f30ad39b947648ac3ea851acbf463"
   },
   "outputs": [],
   "source": [
    "from lib.dataloaders import WSIPatchesDataloader, WSIPatchesDatasetRaw\n",
    "from lib.utils import get_pretrained_model, get_features"
   ]
  },
  {
   "cell_type": "code",
   "execution_count": 6,
   "metadata": {
    "_last_msg_id": "e43a2c4a58304c738a112e9ea91c651d"
   },
   "outputs": [],
   "source": [
    "main_batch_size = 64"
   ]
  },
  {
   "cell_type": "code",
   "execution_count": 7,
   "metadata": {
    "_last_msg_id": "c0598ac7f1ac4555b6054ef3cdaf4030"
   },
   "outputs": [],
   "source": [
    "train_batch_path = '/mnt/HDDData/pdata/processed/pretrained_64x8x8/train/{}/'\n",
    "test_batch_path = '/mnt/HDDData/pdata/processed/pretrained_64x8x8/val/'\n",
    "\n",
    "train_loader = WSIPatchesDummyDataloader(train_batch_path, precalc_epochs=32, shuffle=True)\n",
    "val_loader = WSIPatchesDummyDataloader(test_batch_path, precalc_epochs=32, shuffle=False)"
   ]
  },
  {
   "cell_type": "code",
   "execution_count": 8,
   "metadata": {
    "_last_msg_id": "e7a8e703fc73493094843d7b71726242"
   },
   "outputs": [],
   "source": [
    "steps_in_epoh = 1\n",
    "\n",
    "epochs = 90\n",
    "\n",
    "warmup_epochs = 0\n",
    "warmup_steps = 0\n",
    "batch_size = 64\n",
    "\n",
    "hparams = {\n",
    "    'module': {\n",
    "        'name': 'lib.trainers.WSIModuleV1',\n",
    "        'params': {\n",
    "            'model': {\n",
    "                'name': 'lib.models.wsi_resnets.Resnet_512x1x1',\n",
    "                'params': {\n",
    "                    'backbone': 'resnet18',\n",
    "                    'backbone_features': 512,\n",
    "                    'classes': max_lbl_nums,\n",
    "                    'features_do': 0,\n",
    "                }\n",
    "            },\n",
    "        },\n",
    "    },\n",
    "    'batch_size': batch_size,\n",
    "    'learning_rate': 0.001 * batch_size / 256,\n",
    "    'dataset': {\n",
    "        'dataloader': 'dummy',\n",
    "        'rgb_mean': patches_rgb_mean_av1,\n",
    "        'rgb_std': patches_rgb_std_av1,\n",
    "        'classes': max_lbl_nums,\n",
    "        'precalc_epochs': 50,\n",
    "        'train_test_split': {},\n",
    "    },\n",
    "    'optimizer': {\n",
    "        'name': 'torch.optim.Adam',\n",
    "        'params': {\n",
    "            'weight_decay': 1e-4\n",
    "        }\n",
    "    },\n",
    "    'scheduler': {\n",
    "        'name': 'lib.schedulers.ExponentialLRWithMin',\n",
    "        'params': {\n",
    "            'gamma': 0.92,\n",
    "            'eta_min': 1.25e-5\n",
    "        },\n",
    "        'interval': 'epoch'\n",
    "    },\n",
    "    'loss': {\n",
    "        'weights': {\n",
    "            'reg': 1 / 2,\n",
    "            'class': 9 / 2\n",
    "        },\n",
    "        'label_smoothing': 0.1\n",
    "    },\n",
    "    'warmup_steps': warmup_steps,\n",
    "    'steps_in_epoh': steps_in_epoh,\n",
    "    'epochs': epochs\n",
    "}"
   ]
  },
  {
   "cell_type": "code",
   "execution_count": 9,
   "metadata": {
    "_last_msg_id": "39335c94569847738c5d248d708519f7"
   },
   "outputs": [],
   "source": [
    "steps_in_epoh = len(train_loader)"
   ]
  },
  {
   "cell_type": "code",
   "execution_count": 10,
   "metadata": {
    "_last_msg_id": "1563844016724f419f294b6e23adb139"
   },
   "outputs": [
    {
     "data": {
      "text/plain": [
       "132"
      ]
     },
     "execution_count": 10,
     "metadata": {},
     "output_type": "execute_result"
    }
   ],
   "source": [
    "steps_in_epoh"
   ]
  },
  {
   "cell_type": "code",
   "execution_count": 11,
   "metadata": {
    "_last_msg_id": "02ee8587fa0e4fdb8e91c0e95d42af32"
   },
   "outputs": [],
   "source": [
    "hparams['steps_in_batch'] = steps_in_epoh\n",
    "if 'T_max' in hparams['scheduler']['params']:\n",
    "    hparams['scheduler']['params']['T_max'] = (epochs * steps_in_epoh -\n",
    "                                               warmup_steps)"
   ]
  },
  {
   "cell_type": "code",
   "execution_count": 12,
   "metadata": {
    "_last_msg_id": "cda1fef080d146e18db4cb66a5dd65a5"
   },
   "outputs": [],
   "source": [
    "# tmp[0].shape\n",
    "# torch.Size([64, 300, 64, 8, 8])"
   ]
  },
  {
   "cell_type": "code",
   "execution_count": 13,
   "metadata": {
    "_last_msg_id": "932b909d6aaf418a9fb4654d5f36eeee"
   },
   "outputs": [],
   "source": [
    "class FeaturesMap(nn.Module):\n",
    "    def __init__(self, use_dummy_feature, f_channels=512, max_height=70,\n",
    "                 max_width=40, f_size=1):\n",
    "        super().__init__()\n",
    "        \n",
    "        self.f_size = f_size\n",
    "        self.max_height = max_height * self.f_size\n",
    "        self.max_width = max_width * self.f_size\n",
    "        self.f_channels = f_channels\n",
    "        self.use_dummy_feature = use_dummy_feature\n",
    "        \n",
    "        if self.use_dummy_feature:\n",
    "            self.backend_feature =\\\n",
    "                nn.Parameter(torch.full((self.f_channels, 1, 1), 0))\n",
    "\n",
    "    def forward(self, features, ys, xs, validation=None):\n",
    "        if validation is None:\n",
    "            validation = not self.training\n",
    "\n",
    "        b_sz = features.shape[0]\n",
    "\n",
    "        if self.use_dummy_feature:\n",
    "            f_map = self.backend_feature.expand(self.f_channels,\n",
    "                                                self.max_height,\n",
    "                                                self.max_width)\n",
    "        else:\n",
    "            f_map = torch.full((self.f_channels, self.max_height,\n",
    "                                self.max_width), 0,\n",
    "                               dtype=features.dtype, device=features.device)\n",
    "\n",
    "        res_f_maps = []\n",
    "        for b in range(b_sz):\n",
    "            real_mask = ys[b] > -1\n",
    "\n",
    "            min_y, max_y = (ys[b, real_mask].min().item(),\n",
    "                            ys[b, real_mask].max().item())\n",
    "            min_x, max_x = (xs[b, real_mask].min().item(),\n",
    "                            xs[b, real_mask].max().item())\n",
    "            \n",
    "            height = (max_y - min_y + 1) * self.f_size\n",
    "            width = (max_x - min_x + 1) * self.f_size\n",
    "\n",
    "            tmp_f_map = torch.full((self.f_channels, height, width), -1,\n",
    "                                   dtype=features.dtype,\n",
    "                                   device=features.device)\n",
    "\n",
    "            if self.f_size == 1:\n",
    "                tmp_f_map[:, ys[b, real_mask] - min_y, xs[b, real_mask] - min_x] =\\\n",
    "                    features[b, :, real_mask]\n",
    "            else:\n",
    "                for n in range(real_mask.sum().item()):\n",
    "                    t = features[b, n]\n",
    "                    _y = ys[b, n] - min_y\n",
    "                    _x = xs[b, n] - min_x                    \n",
    "                    tmp_f_map[:, _y*self.f_size:(_y+1)*self.f_size, \n",
    "                                 _x*self.f_size:(_x+1)*self.f_size] = t\n",
    "\n",
    "            if width > height:\n",
    "                tmp_f_map = tmp_f_map.transpose(-1, -2)\n",
    "\n",
    "            _, height, width = tmp_f_map.shape\n",
    "            # print(height, width)\n",
    "\n",
    "            h_dif = height - self.max_height\n",
    "            w_dif = width - self.max_width\n",
    "\n",
    "            if h_dif > 0:\n",
    "                cut_top = (math.ceil(h_dif / 2) if validation else\n",
    "                           random.randint(0, h_dif))\n",
    "                cut_bottom = -(h_dif - cut_top)\n",
    "                if cut_bottom >= 0:\n",
    "                    cut_bottom = None\n",
    "                pad_top, pad_bottom = 0, 0\n",
    "            else:\n",
    "                pad_top = (math.ceil(-h_dif / 2) if validation else\n",
    "                           random.randint(0, -h_dif))\n",
    "                pad_bottom = -h_dif - pad_top\n",
    "                cut_top, cut_bottom = 0, None\n",
    "\n",
    "            if w_dif > 0:\n",
    "                cut_left = (math.ceil(w_dif / 2) if validation else\n",
    "                            random.randint(0, w_dif))\n",
    "                cut_right = -(w_dif - cut_left)\n",
    "                if cut_right >= 0:\n",
    "                    cut_right = None\n",
    "                pad_right, pad_left = 0, 0\n",
    "            else:\n",
    "                pad_right = (math.ceil(-w_dif / 2) if validation else\n",
    "                             random.randint(0, -w_dif))\n",
    "                pad_left = -w_dif - pad_right\n",
    "                cut_left, cut_right = 0, None\n",
    "\n",
    "            if not validation:\n",
    "                if random.random() > 0.5:\n",
    "                    tmp_f_map = torch.flip(tmp_f_map, [-1])\n",
    "\n",
    "                if random.random() > 0.5:\n",
    "                    tmp_f_map = torch.flip(tmp_f_map, [-2])\n",
    "\n",
    "            tmp_f_map = F.pad(tmp_f_map[:, cut_top:cut_bottom,\n",
    "                                        cut_left:cut_right],\n",
    "                              (pad_right, pad_left,\n",
    "                               pad_top, pad_bottom), value=-1)\n",
    "\n",
    "            real_2d_mask = (tmp_f_map != -1).all(dim=0)\n",
    "\n",
    "            # print(real_2d_mask.shape, f_map.shape, tmp_f_map.shape)\n",
    "\n",
    "            res_f_map = (~real_2d_mask) * f_map + real_2d_mask * tmp_f_map\n",
    "            res_f_maps.append(res_f_map)\n",
    "\n",
    "        return torch.stack(res_f_maps)"
   ]
  },
  {
   "cell_type": "code",
   "execution_count": 14,
   "metadata": {
    "_last_msg_id": "880f5908920b4fec84a4a405d21975d4"
   },
   "outputs": [],
   "source": [
    "features, ys, xs, provider, isup_grade, gleason_score = next(iter(train_loader))"
   ]
  },
  {
   "cell_type": "code",
   "execution_count": 15,
   "metadata": {
    "_last_msg_id": "11779cf938f4478c825cfed755cae335"
   },
   "outputs": [
    {
     "data": {
      "text/plain": [
       "torch.Size([64, 300, 64, 8, 8])"
      ]
     },
     "execution_count": 15,
     "metadata": {},
     "output_type": "execute_result"
    }
   ],
   "source": [
    "features.shape"
   ]
  },
  {
   "cell_type": "code",
   "execution_count": 16,
   "metadata": {
    "_last_msg_id": "00f1bbf55bd54b45889619fc2c06eabd"
   },
   "outputs": [],
   "source": [
    "# f_map = FeaturesMap(False, 64, 70, 40, f_size=8)"
   ]
  },
  {
   "cell_type": "code",
   "execution_count": 17,
   "metadata": {
    "_last_msg_id": "2325b9f8fdbc4ad3836e0785a42e5623"
   },
   "outputs": [],
   "source": [
    "self = lambda x: x"
   ]
  },
  {
   "cell_type": "code",
   "execution_count": 18,
   "metadata": {
    "_last_msg_id": "ac65b5278c47492686345d6e81cc5a84"
   },
   "outputs": [],
   "source": [
    "self.t_size = 8"
   ]
  },
  {
   "cell_type": "code",
   "execution_count": 19,
   "metadata": {
    "_last_msg_id": "e607a71b26524204ba5b2deffc2fdd6e"
   },
   "outputs": [
    {
     "name": "stdout",
     "output_type": "stream",
     "text": [
      "CPU times: user 22.2 s, sys: 123 ms, total: 22.3 s\n",
      "Wall time: 22.3 s\n"
     ]
    }
   ],
   "source": [
    "%%time\n",
    "\n",
    "s_features = []\n",
    "all_cnt = (ys > -1).sum()*self.t_size*self.t_size\n",
    "# all_cnt = (ys[:2] > -1).sum()*self.t_size*self.t_size\n",
    "s_coords = torch.zeros((all_cnt, 3), dtype=torch.int32)\n",
    "cnt = 0\n",
    "for b in range(ys.shape[0]):\n",
    "# for b in range(2):\n",
    "    y_min = ys[b].min()\n",
    "    x_min = xs[b].min()    \n",
    "    for n in range(ys.shape[1]):\n",
    "        if ys[b, n] > -1:\n",
    "            for p_y in range(self.t_size):\n",
    "                for p_x in range(self.t_size):  \n",
    "                    s_coords[cnt, 0] = b\n",
    "                    s_coords[cnt, 1] = (ys[b, n]-y_min)*self.t_size + p_y\n",
    "                    s_coords[cnt, 2] = (xs[b, n]-x_min)*self.t_size + p_x\n",
    "                    s_features.append(features[b, n, :, p_y, p_x])\n",
    "                    cnt += 1\n",
    "                    \n",
    "s_features = torch.stack(s_features)"
   ]
  },
  {
   "cell_type": "code",
   "execution_count": 20,
   "metadata": {
    "_last_msg_id": "08c7c8d5759a46fd82f9a1d7362a494b"
   },
   "outputs": [],
   "source": [
    "device = torch.device('cuda:0')"
   ]
  },
  {
   "cell_type": "code",
   "execution_count": 21,
   "metadata": {
    "_last_msg_id": "bf3c3466ec0847508918f3535b99c169"
   },
   "outputs": [],
   "source": [
    "# features, ys, xs = features.to(device), ys.to(device), xs.to(device)"
   ]
  },
  {
   "cell_type": "code",
   "execution_count": 22,
   "metadata": {
    "_last_msg_id": "2219f183a46d48438023af0d61073b9f"
   },
   "outputs": [],
   "source": [
    "s_features, s_coords = s_features.to(device), s_coords.to(device)"
   ]
  },
  {
   "cell_type": "code",
   "execution_count": 23,
   "metadata": {
    "_last_msg_id": "3be4e5cc0e5f4ae692d9f9c0e906d569"
   },
   "outputs": [],
   "source": [
    "import spconv"
   ]
  },
  {
   "cell_type": "code",
   "execution_count": 24,
   "metadata": {
    "_last_msg_id": "ae176a36c21e4fdb8cac49b87aecb61d"
   },
   "outputs": [
    {
     "data": {
      "text/plain": [
       "(tensor(599, device='cuda:0', dtype=torch.int32),\n",
       " tensor(495, device='cuda:0', dtype=torch.int32))"
      ]
     },
     "execution_count": 24,
     "metadata": {},
     "output_type": "execute_result"
    }
   ],
   "source": [
    "s_coords[:, 1].max(), s_coords[:, 2].max()"
   ]
  },
  {
   "cell_type": "code",
   "execution_count": 25,
   "metadata": {
    "_last_msg_id": "22ac634e0f3d48fd8a080a0ee0c26bc7"
   },
   "outputs": [],
   "source": [
    "spatial_shape = (640, 640)"
   ]
  },
  {
   "cell_type": "code",
   "execution_count": 26,
   "metadata": {
    "_last_msg_id": "80d4c55927cd4a6c960b98a27f424610"
   },
   "outputs": [],
   "source": [
    "batch_size = 64"
   ]
  },
  {
   "cell_type": "code",
   "execution_count": 27,
   "metadata": {
    "_last_msg_id": "8d728d3bcd5d46d69986d868c0580ff7"
   },
   "outputs": [],
   "source": [
    "x = spconv.SparseConvTensor(s_features, s_coords, spatial_shape, batch_size)"
   ]
  },
  {
   "cell_type": "code",
   "execution_count": 28,
   "metadata": {
    "_last_msg_id": "69f4662b9e2f45259512dc53cc1c1cb5"
   },
   "outputs": [],
   "source": [
    "s_conv = spconv.SparseConv2d(64, 64, 3, use_hash=False).to(device)"
   ]
  },
  {
   "cell_type": "code",
   "execution_count": 29,
   "metadata": {
    "_last_msg_id": "f51f38d3468f4b6c8037e4dc2c5c25ed"
   },
   "outputs": [],
   "source": [
    "tmp = s_conv(x)"
   ]
  },
  {
   "cell_type": "code",
   "execution_count": 30,
   "metadata": {
    "_last_msg_id": "a229e5e5f9da4c598c6da5da3ca36928"
   },
   "outputs": [],
   "source": [
    "tmp = s_conv(tmp)"
   ]
  },
  {
   "cell_type": "code",
   "execution_count": 31,
   "metadata": {
    "_last_msg_id": "3cd263deb32c4618859ec737874e45c0"
   },
   "outputs": [],
   "source": [
    "tmp = s_conv(tmp)"
   ]
  },
  {
   "cell_type": "code",
   "execution_count": 32,
   "metadata": {
    "_last_msg_id": "631d737cceb24bf3890c0b05e998608b"
   },
   "outputs": [],
   "source": [
    "tmp = s_conv(tmp)"
   ]
  },
  {
   "cell_type": "code",
   "execution_count": 34,
   "metadata": {
    "_last_msg_id": "88523cf2d6ec4ed48af6306db1869243"
   },
   "outputs": [],
   "source": [
    "s_pool = spconv.SparseMaxPool2d(2)"
   ]
  },
  {
   "cell_type": "code",
   "execution_count": 38,
   "metadata": {
    "_last_msg_id": "41b89b358cec4e608df0af1c4375810d"
   },
   "outputs": [],
   "source": [
    "tmp = s_pool(tmp)"
   ]
  },
  {
   "cell_type": "code",
   "execution_count": null,
   "metadata": {},
   "outputs": [],
   "source": []
  },
  {
   "cell_type": "code",
   "execution_count": null,
   "metadata": {},
   "outputs": [],
   "source": []
  },
  {
   "cell_type": "code",
   "execution_count": null,
   "metadata": {
    "_last_msg_id": "5c0ffe28ac8147ac886e01b8dd4e889c"
   },
   "outputs": [],
   "source": [
    "x_dense_NCHW = tmp.dense()"
   ]
  },
  {
   "cell_type": "code",
   "execution_count": 79,
   "metadata": {
    "_last_msg_id": "540dc8c9cb1a46b1a343145d9ce5ec0f"
   },
   "outputs": [
    {
     "data": {
      "text/plain": [
       "torch.Size([2, 64, 718, 718])"
      ]
     },
     "execution_count": 79,
     "metadata": {},
     "output_type": "execute_result"
    }
   ],
   "source": [
    "x_dense_NCHW.shape"
   ]
  },
  {
   "cell_type": "code",
   "execution_count": 82,
   "metadata": {
    "_last_msg_id": "03390e5d43e74d93819af6f598a97c3a"
   },
   "outputs": [
    {
     "data": {
      "image/png": "[encoded data removed]",
      "text/plain": [
       "<Figure size 432x288 with 1 Axes>"
      ]
     },
     "metadata": {
      "needs_background": "light"
     },
     "output_type": "display_data"
    }
   ],
   "source": [
    "plt.imshow(x_dense_NCHW[0, 0].detach());"
   ]
  },
  {
   "cell_type": "code",
   "execution_count": null,
   "metadata": {},
   "outputs": [],
   "source": []
  },
  {
   "cell_type": "code",
   "execution_count": null,
   "metadata": {},
   "outputs": [],
   "source": []
  },
  {
   "cell_type": "code",
   "execution_count": 105,
   "metadata": {
    "_last_msg_id": "c1076c9b17dd4ff2881b7e03f1d7470c"
   },
   "outputs": [
    {
     "data": {
      "text/plain": [
       "tensor(35.8602)"
      ]
     },
     "execution_count": 105,
     "metadata": {},
     "output_type": "execute_result"
    }
   ],
   "source": [
    "x_dense_NCHW[1].sum()"
   ]
  },
  {
   "cell_type": "code",
   "execution_count": null,
   "metadata": {},
   "outputs": [],
   "source": []
  },
  {
   "cell_type": "code",
   "execution_count": null,
   "metadata": {},
   "outputs": [],
   "source": []
  },
  {
   "cell_type": "code",
   "execution_count": null,
   "metadata": {},
   "outputs": [],
   "source": [
    "features = # your features with shape [N, numPlanes]\n",
    "indices = # your indices/coordinates with shape [N, ndim + 1], batch index must be put in indices[:, 0]\n",
    "spatial_shape = # spatial shape of your sparse tensor.\n",
    "batch_size = # batch size of your sparse tensor.\n",
    "x = spconv.SparseConvTensor(features, indices, spatial_shape, batch_size)\n",
    "x_dense_NCHW = x.dense() # convert sparse tensor to dense NCHW tensor.\n",
    "print(x.sparity) # helper function to check sparity. "
   ]
  },
  {
   "cell_type": "code",
   "execution_count": null,
   "metadata": {},
   "outputs": [],
   "source": []
  },
  {
   "cell_type": "code",
   "execution_count": 21,
   "metadata": {
    "_last_msg_id": "7ba1000661564ec7850f1d2b1fb2c6b9"
   },
   "outputs": [],
   "source": [
    "from mmdet.ops import MaskedConv2d"
   ]
  },
  {
   "cell_type": "code",
   "execution_count": 22,
   "metadata": {
    "_last_msg_id": "45abdf3926864c9c8a8c8f9da7f07356"
   },
   "outputs": [],
   "source": [
    "class StackMaskedConv2d(MaskedConv2d):\n",
    "    def __init__(self, in_channels, out_channels, kernel_size, stride=1, \n",
    "                 padding=0, dilation=1, groups=1, bias=True):\n",
    "        super().__init__(in_channels, out_channels, kernel_size, stride, \n",
    "                         padding, dilation, groups, bias)\n",
    "\n",
    "    def forward(self, x, masks):\n",
    "        out = []\n",
    "        for b in range(x.shape[0]):\n",
    "            out.append(super().forward(x[b][None, ...], masks[b][None, ...]))\n",
    "        return torch.cat(out, dim=0)"
   ]
  },
  {
   "cell_type": "code",
   "execution_count": 23,
   "metadata": {
    "_last_msg_id": "c2d01fba63ab467c85614399a2eff842"
   },
   "outputs": [],
   "source": [
    "m_conv = StackMaskedConv2d(64, 64, 3).to(device)"
   ]
  },
  {
   "cell_type": "code",
   "execution_count": 26,
   "metadata": {
    "_last_msg_id": "d553ce55229e41d180d31fbcd612ab1e"
   },
   "outputs": [],
   "source": [
    "x_masks = ~(x_map == 0).all(dim=1)"
   ]
  },
  {
   "cell_type": "code",
   "execution_count": 29,
   "metadata": {
    "_last_msg_id": "7136cb7b2e394f2287d32ea7105339e1"
   },
   "outputs": [
    {
     "name": "stderr",
     "output_type": "stream",
     "text": [
      "/opt/conda/conda-bld/pytorch_1587428266983/work/torch/csrc/utils/python_arg_parser.cpp:756: UserWarning: This overload of addmm is deprecated:\n",
      "\taddmm(Number beta, Tensor input, Number alpha, Tensor mat1, Tensor mat2, *, Tensor out)\n",
      "Consider using one of the following signatures instead:\n",
      "\taddmm(Tensor input, Tensor mat1, Tensor mat2, *, Number beta, Number alpha, Tensor out)\n"
     ]
    }
   ],
   "source": [
    "tmp = m_conv(x_map, x_masks)"
   ]
  },
  {
   "cell_type": "code",
   "execution_count": 30,
   "metadata": {
    "_last_msg_id": "b841bbf4acc2415d989b80e51fe99d2a"
   },
   "outputs": [
    {
     "data": {
      "text/plain": [
       "torch.Size([64, 64, 558, 318])"
      ]
     },
     "execution_count": 30,
     "metadata": {},
     "output_type": "execute_result"
    }
   ],
   "source": [
    "tmp.shape"
   ]
  },
  {
   "cell_type": "code",
   "execution_count": 34,
   "metadata": {
    "_last_msg_id": "af19ebb5e42a4b718db023a9214be9c9"
   },
   "outputs": [],
   "source": [
    "x_masks = ~(tmp == 0).all(dim=1)"
   ]
  },
  {
   "cell_type": "code",
   "execution_count": 35,
   "metadata": {
    "_last_msg_id": "92c30ccad78c411087d50072f74f4887"
   },
   "outputs": [
    {
     "ename": "RuntimeError",
     "evalue": "CUDA out of memory. Tried to allocate 2.68 GiB (GPU 1; 10.92 GiB total capacity; 8.45 GiB already allocated; 1.84 GiB free; 8.55 GiB reserved in total by PyTorch)",
     "output_type": "error",
     "traceback": [
      "\u001b[0;31m---------------------------------------------------------------------------\u001b[0m",
      "\u001b[0;31mRuntimeError\u001b[0m                              Traceback (most recent call last)",
      "\u001b[0;32m<ipython-input-35-6b4525bf1fa4>\u001b[0m in \u001b[0;36m<module>\u001b[0;34m\u001b[0m\n\u001b[0;32m----> 1\u001b[0;31m \u001b[0mtmp2\u001b[0m \u001b[0;34m=\u001b[0m \u001b[0mm_conv\u001b[0m\u001b[0;34m(\u001b[0m\u001b[0mtmp\u001b[0m\u001b[0;34m,\u001b[0m \u001b[0mx_masks\u001b[0m\u001b[0;34m)\u001b[0m\u001b[0;34m\u001b[0m\u001b[0;34m\u001b[0m\u001b[0m\n\u001b[0m",
      "\u001b[0;32m~/anaconda3/lib/python3.7/site-packages/torch/nn/modules/module.py\u001b[0m in \u001b[0;36m__call__\u001b[0;34m(self, *input, **kwargs)\u001b[0m\n\u001b[1;32m    548\u001b[0m             \u001b[0mresult\u001b[0m \u001b[0;34m=\u001b[0m \u001b[0mself\u001b[0m\u001b[0;34m.\u001b[0m\u001b[0m_slow_forward\u001b[0m\u001b[0;34m(\u001b[0m\u001b[0;34m*\u001b[0m\u001b[0minput\u001b[0m\u001b[0;34m,\u001b[0m \u001b[0;34m**\u001b[0m\u001b[0mkwargs\u001b[0m\u001b[0;34m)\u001b[0m\u001b[0;34m\u001b[0m\u001b[0;34m\u001b[0m\u001b[0m\n\u001b[1;32m    549\u001b[0m         \u001b[0;32melse\u001b[0m\u001b[0;34m:\u001b[0m\u001b[0;34m\u001b[0m\u001b[0;34m\u001b[0m\u001b[0m\n\u001b[0;32m--> 550\u001b[0;31m             \u001b[0mresult\u001b[0m \u001b[0;34m=\u001b[0m \u001b[0mself\u001b[0m\u001b[0;34m.\u001b[0m\u001b[0mforward\u001b[0m\u001b[0;34m(\u001b[0m\u001b[0;34m*\u001b[0m\u001b[0minput\u001b[0m\u001b[0;34m,\u001b[0m \u001b[0;34m**\u001b[0m\u001b[0mkwargs\u001b[0m\u001b[0;34m)\u001b[0m\u001b[0;34m\u001b[0m\u001b[0;34m\u001b[0m\u001b[0m\n\u001b[0m\u001b[1;32m    551\u001b[0m         \u001b[0;32mfor\u001b[0m \u001b[0mhook\u001b[0m \u001b[0;32min\u001b[0m \u001b[0mself\u001b[0m\u001b[0;34m.\u001b[0m\u001b[0m_forward_hooks\u001b[0m\u001b[0;34m.\u001b[0m\u001b[0mvalues\u001b[0m\u001b[0;34m(\u001b[0m\u001b[0;34m)\u001b[0m\u001b[0;34m:\u001b[0m\u001b[0;34m\u001b[0m\u001b[0;34m\u001b[0m\u001b[0m\n\u001b[1;32m    552\u001b[0m             \u001b[0mhook_result\u001b[0m \u001b[0;34m=\u001b[0m \u001b[0mhook\u001b[0m\u001b[0;34m(\u001b[0m\u001b[0mself\u001b[0m\u001b[0;34m,\u001b[0m \u001b[0minput\u001b[0m\u001b[0;34m,\u001b[0m \u001b[0mresult\u001b[0m\u001b[0;34m)\u001b[0m\u001b[0;34m\u001b[0m\u001b[0;34m\u001b[0m\u001b[0m\n",
      "\u001b[0;32m<ipython-input-22-6d20f49d63cf>\u001b[0m in \u001b[0;36mforward\u001b[0;34m(self, x, masks)\u001b[0m\n\u001b[1;32m      9\u001b[0m         \u001b[0;32mfor\u001b[0m \u001b[0mb\u001b[0m \u001b[0;32min\u001b[0m \u001b[0mrange\u001b[0m\u001b[0;34m(\u001b[0m\u001b[0mx\u001b[0m\u001b[0;34m.\u001b[0m\u001b[0mshape\u001b[0m\u001b[0;34m[\u001b[0m\u001b[0;36m0\u001b[0m\u001b[0;34m]\u001b[0m\u001b[0;34m)\u001b[0m\u001b[0;34m:\u001b[0m\u001b[0;34m\u001b[0m\u001b[0;34m\u001b[0m\u001b[0m\n\u001b[1;32m     10\u001b[0m             \u001b[0mout\u001b[0m\u001b[0;34m.\u001b[0m\u001b[0mappend\u001b[0m\u001b[0;34m(\u001b[0m\u001b[0msuper\u001b[0m\u001b[0;34m(\u001b[0m\u001b[0;34m)\u001b[0m\u001b[0;34m.\u001b[0m\u001b[0mforward\u001b[0m\u001b[0;34m(\u001b[0m\u001b[0mx\u001b[0m\u001b[0;34m[\u001b[0m\u001b[0mb\u001b[0m\u001b[0;34m]\u001b[0m\u001b[0;34m[\u001b[0m\u001b[0;32mNone\u001b[0m\u001b[0;34m,\u001b[0m \u001b[0;34m...\u001b[0m\u001b[0;34m]\u001b[0m\u001b[0;34m,\u001b[0m \u001b[0mmasks\u001b[0m\u001b[0;34m[\u001b[0m\u001b[0mb\u001b[0m\u001b[0;34m]\u001b[0m\u001b[0;34m[\u001b[0m\u001b[0;32mNone\u001b[0m\u001b[0;34m,\u001b[0m \u001b[0;34m...\u001b[0m\u001b[0;34m]\u001b[0m\u001b[0;34m)\u001b[0m\u001b[0;34m)\u001b[0m\u001b[0;34m\u001b[0m\u001b[0;34m\u001b[0m\u001b[0m\n\u001b[0;32m---> 11\u001b[0;31m         \u001b[0;32mreturn\u001b[0m \u001b[0mtorch\u001b[0m\u001b[0;34m.\u001b[0m\u001b[0mcat\u001b[0m\u001b[0;34m(\u001b[0m\u001b[0mout\u001b[0m\u001b[0;34m,\u001b[0m \u001b[0mdim\u001b[0m\u001b[0;34m=\u001b[0m\u001b[0;36m0\u001b[0m\u001b[0;34m)\u001b[0m\u001b[0;34m\u001b[0m\u001b[0;34m\u001b[0m\u001b[0m\n\u001b[0m",
      "\u001b[0;31mRuntimeError\u001b[0m: CUDA out of memory. Tried to allocate 2.68 GiB (GPU 1; 10.92 GiB total capacity; 8.45 GiB already allocated; 1.84 GiB free; 8.55 GiB reserved in total by PyTorch)"
     ]
    }
   ],
   "source": [
    "tmp2 = m_conv(tmp, x_masks)"
   ]
  },
  {
   "cell_type": "code",
   "execution_count": null,
   "metadata": {},
   "outputs": [],
   "source": []
  },
  {
   "cell_type": "code",
   "execution_count": 28,
   "metadata": {
    "_last_msg_id": "a613865789754d408945e72c0933bb91"
   },
   "outputs": [
    {
     "data": {
      "text/plain": [
       "torch.Size([64, 64, 560, 320])"
      ]
     },
     "execution_count": 28,
     "metadata": {},
     "output_type": "execute_result"
    }
   ],
   "source": []
  },
  {
   "cell_type": "code",
   "execution_count": null,
   "metadata": {
    "_last_msg_id": "c76fbaf1c1fc40cabd80ad5f80c3923d"
   },
   "outputs": [],
   "source": []
  },
  {
   "cell_type": "code",
   "execution_count": 14,
   "metadata": {
    "_last_msg_id": "84ed3d9e861e48c58e6f172c45bdd091"
   },
   "outputs": [],
   "source": [
    "import torchvision.models as models\n",
    "\n",
    "class LambdaLayer(nn.Module):\n",
    "    def __init__(self, lambd):\n",
    "        super(LambdaLayer, self).__init__()\n",
    "        self.lambd = lambd\n",
    "    def forward(self, x):\n",
    "        return self.lambd(x)\n",
    "\n",
    "f_d_rate = 0.0\n",
    "d_rate = 0.0\n",
    "\n",
    "max_height = 70\n",
    "max_width = 40\n",
    "\n",
    "class MainModel(nn.Module):\n",
    "    def __init__(self):\n",
    "        super().__init__()\n",
    "        \n",
    "        self.f_map = FeaturesMap(False, 64, max_height, max_width, f_size=8)\n",
    "        \n",
    "        # self.backbone = models.resnext50_32x4d(pretrained=False)\n",
    "        self.backbone = models.resnet18(pretrained=False)\n",
    "        '''\n",
    "        self.backbone.conv1 = nn.Sequential(\n",
    "            nn.BatchNorm2d(64),\n",
    "            nn.Conv2d(64, 64, 1),\n",
    "            nn.BatchNorm2d(64),\n",
    "            nn.ReLU(),\n",
    "            nn.Conv2d(64, 64, 1),\n",
    "            nn.BatchNorm2d(64),\n",
    "            nn.ReLU(),\n",
    "            nn.Conv2d(64, 64, 1),\n",
    "        )\n",
    "        '''\n",
    "        self.backbone.conv1 = nn.Identity()\n",
    "        # self.backbone.fc = nn.Linear(2048, 512)\n",
    "        self.backbone.fc = nn.Linear(512, 512)\n",
    "        self.backbone.maxpool = nn.Identity()\n",
    "        \n",
    "        self.reg_linear = nn.Linear(512, 1)\n",
    "        self.class_linear = nn.Linear(512, max_lbl_nums)\n",
    "\n",
    "    def forward(self, features, ys, xs):\n",
    "        f_map = self.f_map(features, ys, xs)\n",
    "        x = self.backbone(f_map)\n",
    "        return self.reg_linear(x), self.class_linear(x)\n",
    "\n",
    "model = MainModel()"
   ]
  },
  {
   "cell_type": "code",
   "execution_count": 15,
   "metadata": {
    "_last_msg_id": "5d6bcc08805c4c939a57b8d537aab997"
   },
   "outputs": [],
   "source": [
    "# model.backbone"
   ]
  },
  {
   "cell_type": "code",
   "execution_count": 16,
   "metadata": {
    "_last_msg_id": "30274e08e87747b5bfd530ed7085978a"
   },
   "outputs": [],
   "source": [
    "#from torchsummary import summary"
   ]
  },
  {
   "cell_type": "code",
   "execution_count": 17,
   "metadata": {
    "_last_msg_id": "e2f1b4869ed04b45841c885260b1f813"
   },
   "outputs": [],
   "source": [
    "#summary(model.backbone, (64, 70*8, 40*8), device='cpu')"
   ]
  },
  {
   "cell_type": "code",
   "execution_count": 18,
   "metadata": {
    "_last_msg_id": "ebd17b2656a74c7e9846fe582044de01"
   },
   "outputs": [],
   "source": [
    "module = WSIModuleV1(model, hparams, log_train_every_batch=False)"
   ]
  },
  {
   "cell_type": "code",
   "execution_count": 19,
   "metadata": {
    "_last_msg_id": "0b02145e673441bbab548f17fa75dd97"
   },
   "outputs": [
    {
     "name": "stderr",
     "output_type": "stream",
     "text": [
      "INFO:lightning:GPU available: True, used: True\n",
      "INFO:lightning:CUDA_VISIBLE_DEVICES: [1]\n"
     ]
    }
   ],
   "source": [
    "trainer = Trainer(max_epochs=hparams['epochs'], gpus=[1,], fast_dev_run=False, num_sanity_val_steps=0)"
   ]
  },
  {
   "cell_type": "code",
   "execution_count": 20,
   "metadata": {
    "_last_msg_id": "04457fdd7c5747658488978346eb17e7",
    "scrolled": true
   },
   "outputs": [
    {
     "name": "stderr",
     "output_type": "stream",
     "text": [
      "INFO:lightning:\n",
      "   | Name                                 | Type              | Params\n",
      "-----------------------------------------------------------------------\n",
      "0  | model                                | MainModel         | 11 M  \n",
      "1  | model.f_map                          | FeaturesMap       | 0     \n",
      "2  | model.backbone                       | ResNet            | 11 M  \n",
      "3  | model.backbone.conv1                 | Identity          | 0     \n",
      "4  | model.backbone.bn1                   | BatchNorm2d       | 128   \n",
      "5  | model.backbone.relu                  | ReLU              | 0     \n",
      "6  | model.backbone.maxpool               | Identity          | 0     \n",
      "7  | model.backbone.layer1                | Sequential        | 147 K \n",
      "8  | model.backbone.layer1.0              | BasicBlock        | 73 K  \n",
      "9  | model.backbone.layer1.0.conv1        | Conv2d            | 36 K  \n",
      "10 | model.backbone.layer1.0.bn1          | BatchNorm2d       | 128   \n",
      "11 | model.backbone.layer1.0.relu         | ReLU              | 0     \n",
      "12 | model.backbone.layer1.0.conv2        | Conv2d            | 36 K  \n",
      "13 | model.backbone.layer1.0.bn2          | BatchNorm2d       | 128   \n",
      "14 | model.backbone.layer1.1              | BasicBlock        | 73 K  \n",
      "15 | model.backbone.layer1.1.conv1        | Conv2d            | 36 K  \n",
      "16 | model.backbone.layer1.1.bn1          | BatchNorm2d       | 128   \n",
      "17 | model.backbone.layer1.1.relu         | ReLU              | 0     \n",
      "18 | model.backbone.layer1.1.conv2        | Conv2d            | 36 K  \n",
      "19 | model.backbone.layer1.1.bn2          | BatchNorm2d       | 128   \n",
      "20 | model.backbone.layer2                | Sequential        | 525 K \n",
      "21 | model.backbone.layer2.0              | BasicBlock        | 230 K \n",
      "22 | model.backbone.layer2.0.conv1        | Conv2d            | 73 K  \n",
      "23 | model.backbone.layer2.0.bn1          | BatchNorm2d       | 256   \n",
      "24 | model.backbone.layer2.0.relu         | ReLU              | 0     \n",
      "25 | model.backbone.layer2.0.conv2        | Conv2d            | 147 K \n",
      "26 | model.backbone.layer2.0.bn2          | BatchNorm2d       | 256   \n",
      "27 | model.backbone.layer2.0.downsample   | Sequential        | 8 K   \n",
      "28 | model.backbone.layer2.0.downsample.0 | Conv2d            | 8 K   \n",
      "29 | model.backbone.layer2.0.downsample.1 | BatchNorm2d       | 256   \n",
      "30 | model.backbone.layer2.1              | BasicBlock        | 295 K \n",
      "31 | model.backbone.layer2.1.conv1        | Conv2d            | 147 K \n",
      "32 | model.backbone.layer2.1.bn1          | BatchNorm2d       | 256   \n",
      "33 | model.backbone.layer2.1.relu         | ReLU              | 0     \n",
      "34 | model.backbone.layer2.1.conv2        | Conv2d            | 147 K \n",
      "35 | model.backbone.layer2.1.bn2          | BatchNorm2d       | 256   \n",
      "36 | model.backbone.layer3                | Sequential        | 2 M   \n",
      "37 | model.backbone.layer3.0              | BasicBlock        | 919 K \n",
      "38 | model.backbone.layer3.0.conv1        | Conv2d            | 294 K \n",
      "39 | model.backbone.layer3.0.bn1          | BatchNorm2d       | 512   \n",
      "40 | model.backbone.layer3.0.relu         | ReLU              | 0     \n",
      "41 | model.backbone.layer3.0.conv2        | Conv2d            | 589 K \n",
      "42 | model.backbone.layer3.0.bn2          | BatchNorm2d       | 512   \n",
      "43 | model.backbone.layer3.0.downsample   | Sequential        | 33 K  \n",
      "44 | model.backbone.layer3.0.downsample.0 | Conv2d            | 32 K  \n",
      "45 | model.backbone.layer3.0.downsample.1 | BatchNorm2d       | 512   \n",
      "46 | model.backbone.layer3.1              | BasicBlock        | 1 M   \n",
      "47 | model.backbone.layer3.1.conv1        | Conv2d            | 589 K \n",
      "48 | model.backbone.layer3.1.bn1          | BatchNorm2d       | 512   \n",
      "49 | model.backbone.layer3.1.relu         | ReLU              | 0     \n",
      "50 | model.backbone.layer3.1.conv2        | Conv2d            | 589 K \n",
      "51 | model.backbone.layer3.1.bn2          | BatchNorm2d       | 512   \n",
      "52 | model.backbone.layer4                | Sequential        | 8 M   \n",
      "53 | model.backbone.layer4.0              | BasicBlock        | 3 M   \n",
      "54 | model.backbone.layer4.0.conv1        | Conv2d            | 1 M   \n",
      "55 | model.backbone.layer4.0.bn1          | BatchNorm2d       | 1 K   \n",
      "56 | model.backbone.layer4.0.relu         | ReLU              | 0     \n",
      "57 | model.backbone.layer4.0.conv2        | Conv2d            | 2 M   \n",
      "58 | model.backbone.layer4.0.bn2          | BatchNorm2d       | 1 K   \n",
      "59 | model.backbone.layer4.0.downsample   | Sequential        | 132 K \n",
      "60 | model.backbone.layer4.0.downsample.0 | Conv2d            | 131 K \n",
      "61 | model.backbone.layer4.0.downsample.1 | BatchNorm2d       | 1 K   \n",
      "62 | model.backbone.layer4.1              | BasicBlock        | 4 M   \n",
      "63 | model.backbone.layer4.1.conv1        | Conv2d            | 2 M   \n",
      "64 | model.backbone.layer4.1.bn1          | BatchNorm2d       | 1 K   \n",
      "65 | model.backbone.layer4.1.relu         | ReLU              | 0     \n",
      "66 | model.backbone.layer4.1.conv2        | Conv2d            | 2 M   \n",
      "67 | model.backbone.layer4.1.bn2          | BatchNorm2d       | 1 K   \n",
      "68 | model.backbone.avgpool               | AdaptiveAvgPool2d | 0     \n",
      "69 | model.backbone.fc                    | Linear            | 262 K \n",
      "70 | model.reg_linear                     | Linear            | 513   \n",
      "71 | model.class_linear                   | Linear            | 3 K   \n",
      "72 | reg_loss                             | MSELoss           | 0     \n",
      "73 | class_loss                           | SmoothLoss        | 0     \n",
      "74 | class_loss.criterion                 | KLDivLoss         | 0     \n"
     ]
    },
    {
     "name": "stdout",
     "output_type": "stream",
     "text": [
      "[Adam (\n",
      "Parameter Group 0\n",
      "    amsgrad: False\n",
      "    betas: (0.9, 0.999)\n",
      "    eps: 1e-08\n",
      "    initial_lr: 0.00025\n",
      "    lr: 0.00025\n",
      "    weight_decay: 0.0001\n",
      ")] [{'interval': 'epoch', 'scheduler': <lib.schedulers.DelayedScheduler object at 0x7fd8066486d0>}]\n"
     ]
    },
    {
     "name": "stderr",
     "output_type": "stream",
     "text": [
      "/home/ruslan/anaconda3/lib/python3.7/site-packages/pytorch_lightning/utilities/distributed.py:23: RuntimeWarning: Displayed epoch numbers in the progress bar start from \"1\" until v0.6.x, but will start from \"0\" in v0.8.0.\n",
      "  warnings.warn(*args, **kwargs)\n"
     ]
    },
    {
     "data": {
      "application/vnd.jupyter.widget-view+json": {
       "model_id": "bf5116c69a824d5ba37297eb88e958db",
       "version_major": 2,
       "version_minor": 0
      },
      "text/plain": [
       "HBox(children=(FloatProgress(value=1.0, bar_style='info', description='Training', layout=Layout(flex='2'), max…"
      ]
     },
     "metadata": {},
     "output_type": "display_data"
    },
    {
     "name": "stderr",
     "output_type": "stream",
     "text": [
      "/home/ruslan/anaconda3/lib/python3.7/site-packages/torch/nn/functional.py:2247: UserWarning: reduction: 'mean' divides the total loss by both the batch size and the support size.'batchmean' divides only by the batch size, and aligns with the KL div math definition.'mean' will be changed to behave the same as 'batchmean' in the next major release.\n",
      "  warnings.warn(\"reduction: 'mean' divides the total loss by both the batch size and the support size.\"\n",
      "INFO:lightning:Detected KeyboardInterrupt, attempting graceful shutdown...\n"
     ]
    },
    {
     "name": "stdout",
     "output_type": "stream",
     "text": [
      "\n"
     ]
    }
   ],
   "source": [
    "trainer.fit(module, train_loader, val_loader)\n",
    "trainer.save_checkpoint(os.path.join(trainer.checkpoint_callback.dirpath,\n",
    "                                     \"last.ckpt\"))"
   ]
  },
  {
   "cell_type": "code",
   "execution_count": null,
   "metadata": {},
   "outputs": [],
   "source": []
  },
  {
   "cell_type": "code",
   "execution_count": null,
   "metadata": {},
   "outputs": [],
   "source": []
  }
 ],
 "metadata": {
  "kernelspec": {
   "display_name": "Python 3",
   "language": "python",
   "name": "python3"
  },
  "language_info": {
   "codemirror_mode": {
    "name": "ipython",
    "version": 3
   },
   "file_extension": ".py",
   "mimetype": "text/x-python",
   "name": "python",
   "nbconvert_exporter": "python",
   "pygments_lexer": "ipython3",
   "version": "3.7.4"
  }
 },
 "nbformat": 4,
 "nbformat_minor": 2
}
