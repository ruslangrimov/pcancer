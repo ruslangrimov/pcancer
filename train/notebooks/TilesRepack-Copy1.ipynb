{
 "cells": [
  {
   "cell_type": "code",
   "execution_count": 1,
   "metadata": {
    "_last_msg_id": "ea7be266a6de44b8819a1427946cff95"
   },
   "outputs": [],
   "source": [
    "import sys\n",
    "sys.path.append('../..')"
   ]
  },
  {
   "cell_type": "code",
   "execution_count": 1074,
   "metadata": {
    "_last_msg_id": "ce42b91136bf44d983580842146720e9"
   },
   "outputs": [],
   "source": [
    "import os\n",
    "import psutil\n",
    "\n",
    "import random\n",
    "import math\n",
    "import copy\n",
    "from functools import partial\n",
    "from collections import Counter\n",
    "\n",
    "import torch \n",
    "from torch import optim\n",
    "from torch.optim import lr_scheduler\n",
    "from torch import nn\n",
    "from torch.nn import functional as F\n",
    "\n",
    "import multiprocessing.dummy as mp\n",
    "\n",
    "from pytorch_lightning import Trainer\n",
    "from pytorch_lightning.core import LightningModule\n",
    "from pytorch_lightning.callbacks import ModelCheckpoint\n",
    "from pytorch_lightning.loggers.tensorboard import TensorBoardLogger\n",
    "\n",
    "\n",
    "from lib.schedulers import DelayedScheduler\n",
    "from lib.datasets import (max_lbl_nums, actual_lbl_nums, \n",
    "                          patches_rgb_mean_av1, patches_rgb_std_av1, \n",
    "                          get_train_test_img_ids_split)\n",
    "from lib.dataloaders import PatchesDataset, WSIPatchesDatasetRaw, WSIPatchesDummyDataloader\n",
    "from lib.augmentations import augment_v1_clr_only, augment_empty_clr_only\n",
    "from lib.losses import SmoothLoss\n",
    "from lib.trainers import WSIModuleV1\n",
    "\n",
    "from lib.models.unetv1 import get_model\n",
    "from lib.models.features_map import FeaturesMap, TiledFeaturesMap\n",
    "from lib.models.wsi_resnets import Resnet_64x8x8\n",
    "\n",
    "from sklearn.metrics import cohen_kappa_score\n",
    "\n",
    "from tqdm.auto import tqdm\n",
    "\n",
    "import matplotlib.pyplot as plt"
   ]
  },
  {
   "cell_type": "code",
   "execution_count": 3,
   "metadata": {
    "_last_msg_id": "179ca41017664e288ba14d0aa3397d43"
   },
   "outputs": [],
   "source": [
    "# import cv2\n",
    "import numpy as np\n",
    "# import pandas as pd\n",
    "# from lib.datasets import patches_csv_path, patches_path\n",
    "from lib.datasets import (patches_clean90_csv_path as patches_csv_path, patches_path,\n",
    "                          patches_clean90_pkl_path as patches_pkl_path)\n",
    "# from lib.dataloaders import imread, get_g_score_num, get_provider_num"
   ]
  },
  {
   "cell_type": "code",
   "execution_count": 4,
   "metadata": {
    "_last_msg_id": "07526d1fd89a4de886be41fda3c86f52"
   },
   "outputs": [
    {
     "data": {
      "text/plain": [
       "['e8baa3bb9dcfb9cef5ca599d62bb8046',\n",
       " '9b2948ff81b64677a1a152a1532c1a50',\n",
       " '5b003d43ec0ce5979062442486f84cf7',\n",
       " '375b2c9501320b35ceb638a3274812aa']"
      ]
     },
     "execution_count": 4,
     "metadata": {},
     "output_type": "execute_result"
    }
   ],
   "source": [
    "train_img_ids, test_img_ids = get_train_test_img_ids_split()\n",
    "\n",
    "test_img_ids[:4]"
   ]
  },
  {
   "cell_type": "code",
   "execution_count": 5,
   "metadata": {
    "_last_msg_id": "88c32f4ea7f740ec9340ea578a6f1a50"
   },
   "outputs": [],
   "source": [
    "from lib.dataloaders import WSIPatchesDataloader, WSIPatchesDatasetRaw\n",
    "from lib.utils import get_pretrained_model, get_features"
   ]
  },
  {
   "cell_type": "code",
   "execution_count": 6,
   "metadata": {
    "_last_msg_id": "c2d4c80285d546bd8a026ba12e90fbf8"
   },
   "outputs": [],
   "source": [
    "batch_size = 16"
   ]
  },
  {
   "cell_type": "code",
   "execution_count": 7,
   "metadata": {
    "_last_msg_id": "a899c413a10e4439a1577b761590f002"
   },
   "outputs": [],
   "source": [
    "#train_batch_path = '/mnt/HDDData/pdata/processed/pretrained_64x8x8/train/{}/'\n",
    "#test_batch_path = '/mnt/HDDData/pdata/processed/pretrained_64x8x8/val/'\n",
    "\n",
    "train_batch_path = '/mnt/SSDData/pdata/processed/pretrained_64x8x8/train/{}/'\n",
    "test_batch_path = '/mnt/SSDData/pdata/processed/pretrained_64x8x8/val/'\n",
    "\n",
    "train_loader = WSIPatchesDummyDataloader(train_batch_path, precalc_epochs=6, batch_size=batch_size, shuffle=True)\n",
    "val_loader = WSIPatchesDummyDataloader(test_batch_path, precalc_epochs=6, batch_size=batch_size, shuffle=False)"
   ]
  },
  {
   "cell_type": "code",
   "execution_count": 8,
   "metadata": {
    "_last_msg_id": "a85a7509670b43639031157a4f24207e"
   },
   "outputs": [],
   "source": [
    "batch = next(iter(train_loader))"
   ]
  },
  {
   "cell_type": "code",
   "execution_count": 35,
   "metadata": {
    "_last_msg_id": "d97c5114e5744b6484f938e041f9482b"
   },
   "outputs": [],
   "source": [
    "features, ys, xs, provider, isup_grade, gleason_score = batch"
   ]
  },
  {
   "cell_type": "code",
   "execution_count": null,
   "metadata": {},
   "outputs": [],
   "source": [
    "b += 1"
   ]
  },
  {
   "cell_type": "code",
   "execution_count": 36,
   "metadata": {
    "_last_msg_id": "f636c12c08904f9a84d01bd754c2ed11"
   },
   "outputs": [],
   "source": [
    "r_mask = ys[b] > - 1"
   ]
  },
  {
   "cell_type": "code",
   "execution_count": 37,
   "metadata": {
    "_last_msg_id": "4c02c140ac8141568d58549ca0fe7243"
   },
   "outputs": [],
   "source": [
    "y_min, x_min = ys[b, r_mask].min(), xs[b, r_mask].min()\n",
    "y_max, x_max = ys[b, r_mask].max(), xs[b, r_mask].max()"
   ]
  },
  {
   "cell_type": "code",
   "execution_count": 45,
   "metadata": {
    "_last_msg_id": "aa2f6aadc4074d9885eebd25755722b3"
   },
   "outputs": [],
   "source": [
    "s_h = y_max - y_min + 1\n",
    "s_w = x_max - x_min + 1"
   ]
  },
  {
   "cell_type": "code",
   "execution_count": 892,
   "metadata": {
    "_last_msg_id": "dfb5e5db272546718768e2b80152bf2e"
   },
   "outputs": [],
   "source": [
    "def T(m):\n",
    "    return list(map(list, zip(*m)))\n",
    "\n",
    "def flip_h(m):\n",
    "    return [r[::-1] for r in m]\n",
    "\n",
    "def flip_v(m):\n",
    "    return m[::-1]\n",
    "\n",
    "def d8_transform(m, d8):\n",
    "    if d8 & 0b001:\n",
    "        m = T(m)\n",
    "    if d8 & 0b010:\n",
    "        m = flip_h(m)        \n",
    "    if d8 & 0b100:\n",
    "        m = flip_v(m)  \n",
    "        \n",
    "    return m"
   ]
  },
  {
   "cell_type": "code",
   "execution_count": 1093,
   "metadata": {
    "_last_msg_id": "1e0dd84fbc5f444aa19974555bbc0c44"
   },
   "outputs": [],
   "source": [
    "def get_score(coords, p=2):        \n",
    "    ns = [c[2] for r in coords for c in r if c is not None]\n",
    "    return sum([c**p for c in Counter(ns).values()])"
   ]
  },
  {
   "cell_type": "code",
   "execution_count": 1095,
   "metadata": {
    "_last_msg_id": "fa0a6538bbfa4b15b7731acd37a17f4d"
   },
   "outputs": [],
   "source": [
    "def get_blob(s_idx, s_coords, t_y, t_x, t_coords, n, d8):\n",
    "    def p_coords(c_idx, s_coords, t_start_c, t_coords):\n",
    "            y, x = s_coords[c_idx]\n",
    "\n",
    "            # Координаты относительно таргета                \n",
    "            t_y, t_x = y+t_start_c[0], x+t_start_c[1]\n",
    "            # Если target не занят\n",
    "            if (t_y >= 0 and t_y < len(t_coords) and \n",
    "                t_x >= 0 and t_x < len(t_coords[t_y]) and \n",
    "                t_coords[t_y][t_x] is None):\n",
    "                t_coords[t_y][t_x] = (y, x, n, d8)\n",
    "\n",
    "                del s_coords[c_idx]\n",
    "\n",
    "                # Перебор соседских клеток по периметру\n",
    "                for dy in range(-1, 2, 1):\n",
    "                    for dx in range(-1, 2, 1):\n",
    "                        try:\n",
    "                            c_ = y+dy, x+dx\n",
    "                            c_idx_ = s_coords.index(c_)  # foreground с такими координатами существует\n",
    "                            n_s, n_t = p_coords(c_idx_, s_coords, t_start_c, t_coords)\n",
    "                        except:\n",
    "                            pass\n",
    "    \n",
    "    y, x = s_coords[s_idx]\n",
    "    t_start_c = (-y+t_y, -x+t_x)\n",
    "    \n",
    "    p_coords(s_idx, s_coords, t_start_c, t_coords)"
   ]
  },
  {
   "cell_type": "code",
   "execution_count": 1187,
   "metadata": {
    "_last_msg_id": "dae0542557604a7ca73c0cb7802d5cea"
   },
   "outputs": [],
   "source": [
    "p = 2\n",
    "t_h, t_w = 20, 20"
   ]
  },
  {
   "cell_type": "code",
   "execution_count": 1188,
   "metadata": {
    "_last_msg_id": "85b22a9f755848209b59326781a04ccb"
   },
   "outputs": [],
   "source": [
    "n_ys = (ys[b, r_mask]-y_min).tolist()\n",
    "n_xs = (xs[b, r_mask]-y_min).tolist()"
   ]
  },
  {
   "cell_type": "code",
   "execution_count": 1189,
   "metadata": {
    "_last_msg_id": "f689de11a01a45dfbac17bddc00f60c1"
   },
   "outputs": [],
   "source": [
    "sequences = {}\n",
    "for _ in range(100):\n",
    "    sequence = []\n",
    "\n",
    "    t_coords = [[None for _ in range(t_w)] for _ in range(t_h)] \n",
    "    coords = list(zip(n_ys, n_xs))\n",
    "\n",
    "    n = 0\n",
    "    while len(coords) > 0:\n",
    "        d8 = 0\n",
    "        # d8 = random.randint(0, 7)\n",
    "\n",
    "        s_idx = random.randint(0, len(coords)-1)\n",
    "\n",
    "        t_coords = d8_transform(t_coords, d8)\n",
    "\n",
    "        empty_t_coords = [(n_r, n_c) for n_r, r in enumerate(t_coords) \n",
    "                          for n_c, c in enumerate(r) if c is None]\n",
    "        t_y, t_x = random.choice(empty_t_coords)\n",
    "\n",
    "        sequence.append((s_idx, d8, t_y, t_x))\n",
    "\n",
    "        n += 1\n",
    "        get_blob(s_idx, coords, t_y, t_x, t_coords, n, d8) \n",
    "\n",
    "    score = get_score(t_coords, p)\n",
    "    sequences[int(score)] = sequence"
   ]
  },
  {
   "cell_type": "code",
   "execution_count": 1190,
   "metadata": {
    "_last_msg_id": "123d95f33dee4cbdad3395fdff4f6fa1"
   },
   "outputs": [
    {
     "data": {
      "text/plain": [
       "9355"
      ]
     },
     "execution_count": 1190,
     "metadata": {},
     "output_type": "execute_result"
    }
   ],
   "source": [
    "max(sequences.keys())"
   ]
  },
  {
   "cell_type": "code",
   "execution_count": 1192,
   "metadata": {
    "_last_msg_id": "31acb7f1679244978ef52a8f2bd02bf3"
   },
   "outputs": [],
   "source": [
    "sequence = sequences[9355]"
   ]
  },
  {
   "cell_type": "code",
   "execution_count": 1193,
   "metadata": {
    "_last_msg_id": "a77ef69cc9c64b3481d8498e8ecc7f6f"
   },
   "outputs": [],
   "source": [
    "t_coords = [[None for _ in range(t_w)] for _ in range(t_h)] \n",
    "coords = list(zip(n_ys, n_xs))\n",
    "\n",
    "for n, (s_idx, d8, t_y, t_x) in enumerate(sequence):\n",
    "    get_blob(s_idx, coords, t_y, t_x, t_coords, n+1, d8) "
   ]
  },
  {
   "cell_type": "code",
   "execution_count": 1194,
   "metadata": {
    "_last_msg_id": "f81e02e16c2243988738872a2b013ec4"
   },
   "outputs": [],
   "source": [
    "s_img = np.zeros((s_h, s_w)) - 1\n",
    "t_img = np.zeros((t_h, t_w)) - 1\n",
    "\n",
    "s_img[ys[b, r_mask]-y_min, xs[b, r_mask]-x_min] = 0\n",
    "\n",
    "for n_r, r in enumerate(t_coords):\n",
    "    for n_c, tmp in enumerate(r):\n",
    "        if tmp is not None:\n",
    "            y, x, n, d8 = tmp\n",
    "            t_img[n_r, n_c] = n\n",
    "            s_img[y, x] = n"
   ]
  },
  {
   "cell_type": "code",
   "execution_count": 1195,
   "metadata": {
    "_last_msg_id": "61bd9e02588f49fe95235f6a90bae1b8"
   },
   "outputs": [
    {
     "data": {
      "image/png": "[encoded data removed]",
      "text/plain": [
       "<Figure size 432x288 with 1 Axes>"
      ]
     },
     "metadata": {
      "needs_background": "light"
     },
     "output_type": "display_data"
    }
   ],
   "source": [
    "plt.imshow(t_img, cmap='jet');"
   ]
  },
  {
   "cell_type": "code",
   "execution_count": 1196,
   "metadata": {
    "_last_msg_id": "191b4eb93aef490dbe38879db5ec06d5"
   },
   "outputs": [
    {
     "data": {
      "image/png": "[encoded data removed]",
      "text/plain": [
       "<Figure size 432x288 with 1 Axes>"
      ]
     },
     "metadata": {
      "needs_background": "light"
     },
     "output_type": "display_data"
    }
   ],
   "source": [
    "plt.imshow(s_img, cmap='jet');"
   ]
  },
  {
   "cell_type": "code",
   "execution_count": 1197,
   "metadata": {
    "_last_msg_id": "0cd611bf778b40d5a4ecf5f30a14825c"
   },
   "outputs": [
    {
     "data": {
      "text/plain": [
       "array([-1.,  1.,  2.,  3.,  4.,  5.,  6.,  7.,  8.,  9., 10., 11., 12.,\n",
       "       13., 14.])"
      ]
     },
     "execution_count": 1197,
     "metadata": {},
     "output_type": "execute_result"
    }
   ],
   "source": [
    "np.unique(s_img)"
   ]
  },
  {
   "cell_type": "code",
   "execution_count": 1198,
   "metadata": {
    "_last_msg_id": "28b12f13db8c4cb88e5ba893d310b171"
   },
   "outputs": [
    {
     "data": {
      "image/png": "[encoded data removed]",
      "text/plain": [
       "<Figure size 432x288 with 1 Axes>"
      ]
     },
     "metadata": {
      "needs_background": "light"
     },
     "output_type": "display_data"
    }
   ],
   "source": [
    "plt.imshow(s_img == 0);"
   ]
  },
  {
   "cell_type": "code",
   "execution_count": null,
   "metadata": {},
   "outputs": [],
   "source": []
  },
  {
   "cell_type": "code",
   "execution_count": null,
   "metadata": {},
   "outputs": [],
   "source": []
  },
  {
   "cell_type": "code",
   "execution_count": null,
   "metadata": {},
   "outputs": [],
   "source": [
    "#genome = []\n",
    "#for _ in range(1000):\n",
    "#    genome.append(((random.randint(0, s_h-1), random.randint(0, s_w-1)), \n",
    "#                   (random.randint(0, t_h-1), random.randint(0, t_w-1)),\n",
    "#                   random.randint(0, 7)))\n",
    "\n",
    "n = 0\n",
    "for ((s_y, s_x), (t_y, t_x), d8) in genome:\n",
    "    if t_coords[t_y][t_x] is not None:\n",
    "        continue   \n",
    "        \n",
    "    if (s_y, s_x) not in coords:\n",
    "        continue     \n",
    "        \n",
    "    t_coords = d8_transform(t_coords, d8)    \n",
    "    s_idx = coords.index((s_y, s_x))\n",
    "    n += 1\n",
    "    get_blob(s_idx, coords, t_y, t_x, t_coords, n, d8)"
   ]
  }
 ],
 "metadata": {
  "kernelspec": {
   "display_name": "Python 3",
   "language": "python",
   "name": "python3"
  },
  "language_info": {
   "codemirror_mode": {
    "name": "ipython",
    "version": 3
   },
   "file_extension": ".py",
   "mimetype": "text/x-python",
   "name": "python",
   "nbconvert_exporter": "python",
   "pygments_lexer": "ipython3",
   "version": "3.7.4"
  }
 },
 "nbformat": 4,
 "nbformat_minor": 2
}
