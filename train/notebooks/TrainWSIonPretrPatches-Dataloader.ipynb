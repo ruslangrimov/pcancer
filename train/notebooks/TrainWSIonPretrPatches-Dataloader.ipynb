{
 "cells": [
  {
   "cell_type": "code",
   "execution_count": 1,
   "metadata": {
    "_last_msg_id": "7c2be1f4520847788ed0174c0a2453e9"
   },
   "outputs": [],
   "source": [
    "import sys\n",
    "import os\n",
    "import psutil\n",
    "\n",
    "import random\n",
    "import math\n",
    "from functools import partial\n",
    "\n",
    "import torch \n",
    "from torch import optim\n",
    "from torch.optim import lr_scheduler\n",
    "from torch import nn\n",
    "from torch.nn import functional as F\n",
    "\n",
    "import multiprocessing.dummy as mp\n",
    "\n",
    "from pytorch_lightning import Trainer\n",
    "from pytorch_lightning.core import LightningModule\n",
    "from pytorch_lightning.callbacks import ModelCheckpoint\n",
    "from pytorch_lightning.loggers.tensorboard import TensorBoardLogger\n",
    "\n",
    "sys.path.append('../..')\n",
    "from lib.schedulers import DelayedScheduler\n",
    "from lib.datasets import (max_lbl_nums, actual_lbl_nums, \n",
    "                          patches_rgb_mean_av1, patches_rgb_std_av1, \n",
    "                          get_train_test_img_ids_split)\n",
    "from lib.dataloaders import PatchesDataset, WSIPatchesDatasetRaw\n",
    "from lib.augmentations import augment_v1_clr_only, augment_empty_clr_only\n",
    "from lib.losses import SmoothLoss\n",
    "\n",
    "from lib.models.unetv1 import get_model\n",
    "\n",
    "from sklearn.metrics import cohen_kappa_score\n",
    "\n",
    "from tqdm.auto import tqdm\n",
    "\n",
    "import matplotlib.pyplot as plt"
   ]
  },
  {
   "cell_type": "code",
   "execution_count": 2,
   "metadata": {
    "_last_msg_id": "99b04d75fa52453d9914e1f6814ce6dc"
   },
   "outputs": [],
   "source": [
    "# import cv2\n",
    "import numpy as np\n",
    "# import pandas as pd\n",
    "# from lib.datasets import patches_csv_path, patches_path\n",
    "from lib.datasets import (patches_clean90_csv_path as patches_csv_path, patches_path,\n",
    "                          patches_clean90_pkl_path as patches_pkl_path)\n",
    "# from lib.dataloaders import imread, get_g_score_num, get_provider_num"
   ]
  },
  {
   "cell_type": "code",
   "execution_count": 3,
   "metadata": {
    "_last_msg_id": "16428095eb1c42b18bb8a2b09b43a6f0"
   },
   "outputs": [],
   "source": [
    "patches_device = torch.device('cuda:0')\n",
    "# patches_device = torch.device('cpu')\n",
    "main_device = torch.device('cuda:1')"
   ]
  },
  {
   "cell_type": "code",
   "execution_count": null,
   "metadata": {},
   "outputs": [],
   "source": []
  },
  {
   "cell_type": "code",
   "execution_count": 4,
   "metadata": {
    "_last_msg_id": "a1198c54f2f9471fa9ca2468701100e7"
   },
   "outputs": [],
   "source": [
    "rgb_mean, rgb_std = (torch.tensor(patches_rgb_mean_av1, dtype=torch.float32, device=patches_device), \n",
    "                     torch.tensor(patches_rgb_std_av1, dtype=torch.float32, device=patches_device))"
   ]
  },
  {
   "cell_type": "code",
   "execution_count": 5,
   "metadata": {
    "_last_msg_id": "8ff8b6c80e32467d98b61ab24c7deaae"
   },
   "outputs": [
    {
     "data": {
      "text/plain": [
       "['e8baa3bb9dcfb9cef5ca599d62bb8046',\n",
       " '9b2948ff81b64677a1a152a1532c1a50',\n",
       " '5b003d43ec0ce5979062442486f84cf7',\n",
       " '375b2c9501320b35ceb638a3274812aa']"
      ]
     },
     "execution_count": 5,
     "metadata": {},
     "output_type": "execute_result"
    }
   ],
   "source": [
    "train_img_ids, test_img_ids = get_train_test_img_ids_split()\n",
    "\n",
    "test_img_ids[:4]"
   ]
  },
  {
   "cell_type": "code",
   "execution_count": 6,
   "metadata": {
    "_last_msg_id": "49e017c8d1d441888eeaa01a2d22ac54"
   },
   "outputs": [],
   "source": [
    "from lib.dataloaders import WSIPatchesDataloader, WSIPatchesDatasetRaw\n",
    "from lib.utils import get_pretrained_model, get_features"
   ]
  },
  {
   "cell_type": "code",
   "execution_count": 7,
   "metadata": {
    "_last_msg_id": "3e07bf639eb6440c8d0074e870208e30"
   },
   "outputs": [],
   "source": [
    "model = get_pretrained_model(get_model, {'classes': actual_lbl_nums}, \n",
    "                             \"../Patches256TestRun/version_0/checkpoints/last.ckpt\", patches_device)"
   ]
  },
  {
   "cell_type": "code",
   "execution_count": 8,
   "metadata": {
    "_last_msg_id": "6f022f93a7de4852953618b43c76cf10"
   },
   "outputs": [],
   "source": [
    "get_features_fn = partial(get_features, model=model, device=patches_device, \n",
    "                          rgb_mean=rgb_mean, rgb_std=rgb_std, \n",
    "                          features_batch_size=512)"
   ]
  },
  {
   "cell_type": "code",
   "execution_count": 9,
   "metadata": {
    "_last_msg_id": "46ba68d2877c44378bb3aaa13bd01fb7"
   },
   "outputs": [],
   "source": [
    "process = psutil.Process(os.getpid())"
   ]
  },
  {
   "cell_type": "code",
   "execution_count": 10,
   "metadata": {
    "_last_msg_id": "809ca7413e3247d880a8489ae8edc51a"
   },
   "outputs": [],
   "source": [
    "main_batch_size = 64"
   ]
  },
  {
   "cell_type": "code",
   "execution_count": 11,
   "metadata": {
    "_last_msg_id": "b7e7f2f43e7c4b5888a871c819e7d901"
   },
   "outputs": [],
   "source": [
    "train_loader = WSIPatchesDataloader(WSIPatchesDatasetRaw(train_img_ids, patches_pkl_path, \n",
    "                                                         scale=0.5, transform=augment_v1_clr_only),\n",
    "                                    get_features_fn, (512, 8, 8),\n",
    "                                    main_batch_size, shuffle=True, num_workers=6, max_len=300)"
   ]
  },
  {
   "cell_type": "code",
   "execution_count": null,
   "metadata": {
    "_last_msg_id": "152d7a104e3f4f9a8de67b0405dc0262"
   },
   "outputs": [
    {
     "data": {
      "application/vnd.jupyter.widget-view+json": {
       "model_id": "48acf3bad7f04d848c0d67ac7bd2a53d",
       "version_major": 2,
       "version_minor": 0
      },
      "text/plain": [
       "HBox(children=(FloatProgress(value=0.0, max=132.0), HTML(value='')))"
      ]
     },
     "metadata": {},
     "output_type": "display_data"
    }
   ],
   "source": [
    "for _ in range(5):\n",
    "    memory = []\n",
    "    for data in tqdm(train_loader, total=len(train_loader)):\n",
    "        memory.append(process.memory_info().rss)\n",
    "        \n",
    "    plt.axes().ticklabel_format(style='sci', scilimits=(9, 9))\n",
    "    plt.plot(memory)\n",
    "    plt.show()"
   ]
  },
  {
   "cell_type": "code",
   "execution_count": null,
   "metadata": {},
   "outputs": [],
   "source": []
  }
 ],
 "metadata": {
  "kernelspec": {
   "display_name": "Python 3",
   "language": "python",
   "name": "python3"
  },
  "language_info": {
   "codemirror_mode": {
    "name": "ipython",
    "version": 3
   },
   "file_extension": ".py",
   "mimetype": "text/x-python",
   "name": "python",
   "nbconvert_exporter": "python",
   "pygments_lexer": "ipython3",
   "version": "3.7.4"
  }
 },
 "nbformat": 4,
 "nbformat_minor": 2
}
