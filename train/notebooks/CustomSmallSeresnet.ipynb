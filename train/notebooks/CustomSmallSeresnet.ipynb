{
 "cells": [
  {
   "cell_type": "code",
   "execution_count": 1,
   "metadata": {
    "_last_msg_id": "64f13d8dcb6549ef868f4850c30b6196"
   },
   "outputs": [],
   "source": [
    "import os\n",
    "import sys\n",
    "import types\n",
    "\n",
    "sys.path.append('../..')\n",
    "\n",
    "from collections import OrderedDict\n",
    "import math\n",
    "\n",
    "import torch\n",
    "from torch import nn\n",
    "\n",
    "from torchsummary import summary\n",
    "\n",
    "from segmentation_models_pytorch.unet import Unet\n",
    "from segmentation_models_pytorch.unet.decoder import DecoderBlock\n",
    "from segmentation_models_pytorch import encoders\n",
    "\n",
    "from lib.models.seresnet_mini_custom import se_resnet18_mini_backbone, SEResNetBasicBlock"
   ]
  },
  {
   "cell_type": "code",
   "execution_count": 2,
   "metadata": {
    "_last_msg_id": "7446bd1b918443a4841f056d3b902674"
   },
   "outputs": [],
   "source": [
    "#from segmentation_models_pytorch.encoders.resnet import ResNetEncoder\n",
    "#import torchvision"
   ]
  },
  {
   "cell_type": "code",
   "execution_count": 3,
   "metadata": {
    "_last_msg_id": "db7f6e1c44e7473b9f21897033fbb96e"
   },
   "outputs": [],
   "source": [
    "#tmp_model = ResNetEncoder(out_channels=(3, 64, 64, 128, 256, 512), \n",
    "#                          depth=5, block=torchvision.models.resnet.BasicBlock, \n",
    "#                          layers=[2, 2, 2, 2])"
   ]
  },
  {
   "cell_type": "code",
   "execution_count": 4,
   "metadata": {
    "_last_msg_id": "bec9ec47875843d2b1065af68ef97830"
   },
   "outputs": [],
   "source": [
    "#fs = tmp_model(X)"
   ]
  },
  {
   "cell_type": "code",
   "execution_count": 5,
   "metadata": {
    "_last_msg_id": "9ae4eea3a84044949ab409ff90504319"
   },
   "outputs": [],
   "source": [
    "# [tuple(f.shape) for f in fs]\n",
    "#[(16, 3, 256, 256),\n",
    "# (16, 64, 128, 128),\n",
    "# (16, 64, 64, 64),\n",
    "# (16, 128, 32, 32),\n",
    "# (16, 256, 16, 16),\n",
    "# (16, 512, 8, 8)]"
   ]
  },
  {
   "cell_type": "code",
   "execution_count": null,
   "metadata": {},
   "outputs": [],
   "source": []
  },
  {
   "cell_type": "code",
   "execution_count": 6,
   "metadata": {
    "_last_msg_id": "6e20bfba6fb140efa5a0621b41762145"
   },
   "outputs": [],
   "source": [
    "my_model = se_resnet18_mini_backbone()"
   ]
  },
  {
   "cell_type": "code",
   "execution_count": 7,
   "metadata": {
    "_last_msg_id": "a17181e759184e66aaf64adbf3d7d681"
   },
   "outputs": [],
   "source": [
    "# my_model = models.se_resnet50(num_classes=1000, pretrained=None)"
   ]
  },
  {
   "cell_type": "code",
   "execution_count": 8,
   "metadata": {
    "_last_msg_id": "4f15bc458c3a478082b8cbfa9b459895",
    "scrolled": false
   },
   "outputs": [],
   "source": [
    "# summary(my_model, (3, 256, 256), -1, 'cpu')"
   ]
  },
  {
   "cell_type": "code",
   "execution_count": 9,
   "metadata": {
    "_last_msg_id": "fcabef36abff42a7ab74fc1e5b9e18d5"
   },
   "outputs": [],
   "source": [
    "X = torch.rand((16, 3, 256, 256))"
   ]
  },
  {
   "cell_type": "code",
   "execution_count": 10,
   "metadata": {
    "_last_msg_id": "6665e15260a94a55843a7256af63f81a"
   },
   "outputs": [],
   "source": [
    "fs = my_model(X)"
   ]
  },
  {
   "cell_type": "code",
   "execution_count": 11,
   "metadata": {
    "_last_msg_id": "9d10a731bf42445c8077bfe0cbb19f6f"
   },
   "outputs": [
    {
     "data": {
      "text/plain": [
       "[(16, 3, 256, 256),\n",
       " (16, 64, 128, 128),\n",
       " (16, 64, 64, 64),\n",
       " (16, 64, 32, 32),\n",
       " (16, 64, 16, 16),\n",
       " (16, 64, 8, 8)]"
      ]
     },
     "execution_count": 11,
     "metadata": {},
     "output_type": "execute_result"
    }
   ],
   "source": [
    "[tuple(f.shape) for f in fs]"
   ]
  },
  {
   "cell_type": "code",
   "execution_count": 12,
   "metadata": {
    "_last_msg_id": "d91b1aaf1a8842629771aff7bfd8bb81",
    "scrolled": false
   },
   "outputs": [],
   "source": [
    "# my_model"
   ]
  },
  {
   "cell_type": "code",
   "execution_count": null,
   "metadata": {},
   "outputs": [],
   "source": []
  },
  {
   "cell_type": "code",
   "execution_count": 13,
   "metadata": {
    "_last_msg_id": "1f2f16415f1b4f1b8f0c3fe56cc2d5ba"
   },
   "outputs": [],
   "source": [
    "classes=6\n",
    "decoder=True\n",
    "labels=True\n",
    "segmentation=True\n",
    "mask_activation=None\n",
    "label_activation=None"
   ]
  },
  {
   "cell_type": "code",
   "execution_count": null,
   "metadata": {},
   "outputs": [],
   "source": []
  },
  {
   "cell_type": "code",
   "execution_count": 14,
   "metadata": {
    "_last_msg_id": "55114e5de2b64c1b897f84cc4a56b5f8"
   },
   "outputs": [
    {
     "data": {
      "text/plain": [
       "{'out_channels': (3, 64, 64, 128, 256, 512),\n",
       " 'block': torchvision.models.resnet.BasicBlock,\n",
       " 'layers': [2, 2, 2, 2]}"
      ]
     },
     "execution_count": 14,
     "metadata": {},
     "output_type": "execute_result"
    }
   ],
   "source": [
    "encoders.encoders['resnet18']['params']"
   ]
  },
  {
   "cell_type": "code",
   "execution_count": 15,
   "metadata": {
    "_last_msg_id": "b91e53035ad24cbd95b8619ca351e229"
   },
   "outputs": [],
   "source": [
    "encoders.encoders['seresnet18_mini'] = {\n",
    "    'encoder': se_resnet18_mini_backbone,\n",
    "    'params': {\n",
    "\n",
    "    }\n",
    "}"
   ]
  },
  {
   "cell_type": "code",
   "execution_count": 16,
   "metadata": {
    "_last_msg_id": "24c9a9c8154449e49e3bae9f0715027f"
   },
   "outputs": [],
   "source": [
    "# model.encoder.out_channels"
   ]
  },
  {
   "cell_type": "code",
   "execution_count": 17,
   "metadata": {
    "_last_msg_id": "3a915555816742c38581cfd44a3213bd"
   },
   "outputs": [],
   "source": [
    "model = Unet('seresnet18_mini', encoder_weights=None,\n",
    "             decoder_channels=(64, 64, 64, 64, 64),\n",
    "             activation=mask_activation,\n",
    "             classes=classes,\n",
    "             aux_params={\n",
    "                 'classes': classes,\n",
    "                 'activation': label_activation} if labels else None\n",
    "            )"
   ]
  },
  {
   "cell_type": "code",
   "execution_count": 18,
   "metadata": {
    "_last_msg_id": "4b8974a9455c4167ba052065523c100a",
    "scrolled": true
   },
   "outputs": [
    {
     "name": "stdout",
     "output_type": "stream",
     "text": [
      "torch.Size([16, 64, 16, 16]) torch.Size([16, 64, 16, 16])\n",
      "torch.Size([16, 64, 32, 32]) torch.Size([16, 64, 32, 32])\n",
      "torch.Size([16, 64, 64, 64]) torch.Size([16, 64, 64, 64])\n",
      "torch.Size([16, 64, 128, 128]) torch.Size([16, 64, 128, 128])\n"
     ]
    }
   ],
   "source": [
    "tmp = model(X)"
   ]
  },
  {
   "cell_type": "code",
   "execution_count": null,
   "metadata": {
    "_last_msg_id": "3586bc4105d34df08aba3ba4ad4e6fd7"
   },
   "outputs": [],
   "source": [
    "tmp[1].shape"
   ]
  },
  {
   "cell_type": "code",
   "execution_count": null,
   "metadata": {},
   "outputs": [],
   "source": []
  },
  {
   "cell_type": "code",
   "execution_count": null,
   "metadata": {},
   "outputs": [],
   "source": [
    "def get_model(classes, decoder=True, labels=True, segmentation=True,\n",
    "              mask_activation=None, label_activation=None):\n",
    "    class AutoDecoder(nn.Module):\n",
    "        def __init__(\n",
    "                self,\n",
    "                channels,\n",
    "                use_batchnorm=True,\n",
    "                attention_type=None,\n",
    "        ):\n",
    "            super().__init__()\n",
    "\n",
    "            in_channels = channels[:0:-1]\n",
    "            out_channels = channels[-2::-1]\n",
    "\n",
    "            kwargs = dict(use_batchnorm=use_batchnorm,\n",
    "                          attention_type=attention_type)\n",
    "            blocks = [\n",
    "                DecoderBlock(in_ch, 0, out_ch, **kwargs)\n",
    "                for in_ch, out_ch in zip(in_channels, out_channels)\n",
    "            ]\n",
    "            self.blocks = nn.ModuleList(blocks)\n",
    "\n",
    "        def forward(self, features):\n",
    "            x = features\n",
    "\n",
    "            for i, decoder_block in enumerate(self.blocks):\n",
    "                x = decoder_block(x)\n",
    "\n",
    "            x = torch.sigmoid(x)\n",
    "            # x = torch.tanh(x)\n",
    "\n",
    "            return x\n",
    "\n",
    "    def forward(self, x, return_features=False):\n",
    "        \"\"\"Sequentially pass `x` trough model`s encoder, decoder and heads\"\"\"\n",
    "        features = self.encoder(x)\n",
    "\n",
    "        out = ()\n",
    "\n",
    "        if self.segmentation:\n",
    "            decoder_output = self.decoder(*features)\n",
    "            masks = self.segmentation_head(decoder_output)\n",
    "            out = out + (masks,)\n",
    "\n",
    "        if self.classification_head is not None:\n",
    "            labels = self.classification_head(features[-1])\n",
    "            out = out + (labels,)\n",
    "\n",
    "        if self.autodecoder is not None:\n",
    "            decoded = self.autodecoder(features[-1])\n",
    "            out = out + (decoded,)\n",
    "\n",
    "        return ((features[-1],) if return_features else ()) + out\n",
    "\n",
    "    model = Unet('seresnet18_mini', encoder_weights=None,\n",
    "                 activation=mask_activation,\n",
    "                 classes=classes,\n",
    "                 aux_params={\n",
    "                     'classes': classes,\n",
    "                     'activation': label_activation} if labels else None)\n",
    "\n",
    "    model.forward = types.MethodType(forward, model)\n",
    "    channels = model.encoder.out_channels\n",
    "    if decoder:\n",
    "        model.autodecoder = AutoDecoder(channels)\n",
    "    else:\n",
    "        model.autodecoder = None\n",
    "\n",
    "    model.segmentation = segmentation\n",
    "\n",
    "    return model"
   ]
  },
  {
   "cell_type": "code",
   "execution_count": null,
   "metadata": {},
   "outputs": [],
   "source": []
  },
  {
   "cell_type": "code",
   "execution_count": null,
   "metadata": {},
   "outputs": [],
   "source": []
  }
 ],
 "metadata": {
  "kernelspec": {
   "display_name": "Python 3",
   "language": "python",
   "name": "python3"
  },
  "language_info": {
   "codemirror_mode": {
    "name": "ipython",
    "version": 3
   },
   "file_extension": ".py",
   "mimetype": "text/x-python",
   "name": "python",
   "nbconvert_exporter": "python",
   "pygments_lexer": "ipython3",
   "version": "3.7.4"
  }
 },
 "nbformat": 4,
 "nbformat_minor": 2
}
