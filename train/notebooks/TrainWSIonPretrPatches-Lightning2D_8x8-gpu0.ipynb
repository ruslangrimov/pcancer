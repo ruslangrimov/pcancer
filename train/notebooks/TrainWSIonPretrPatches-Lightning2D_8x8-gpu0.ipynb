{
 "cells": [
  {
   "cell_type": "code",
   "execution_count": 1,
   "metadata": {
    "_last_msg_id": "182093db05d248d0a9a8284fcc28a3e9"
   },
   "outputs": [],
   "source": [
    "import sys\n",
    "sys.path.append('../..')"
   ]
  },
  {
   "cell_type": "code",
   "execution_count": 2,
   "metadata": {
    "_last_msg_id": "1edd3c19e7ed46b0804deb40be0cb989"
   },
   "outputs": [],
   "source": [
    "import os\n",
    "import psutil\n",
    "\n",
    "import random\n",
    "import math\n",
    "from functools import partial\n",
    "\n",
    "import torch \n",
    "from torch import optim\n",
    "from torch.optim import lr_scheduler\n",
    "from torch import nn\n",
    "from torch.nn import functional as F\n",
    "\n",
    "import multiprocessing.dummy as mp\n",
    "\n",
    "from pytorch_lightning import Trainer\n",
    "from pytorch_lightning.core import LightningModule\n",
    "from pytorch_lightning.callbacks import ModelCheckpoint\n",
    "from pytorch_lightning.loggers.tensorboard import TensorBoardLogger\n",
    "\n",
    "\n",
    "from lib.schedulers import DelayedScheduler\n",
    "from lib.datasets import (max_lbl_nums, actual_lbl_nums, \n",
    "                          patches_rgb_mean_av1, patches_rgb_std_av1, \n",
    "                          get_train_test_img_ids_split)\n",
    "from lib.dataloaders import PatchesDataset, WSIPatchesDatasetRaw, WSIPatchesDummyDataloader\n",
    "from lib.augmentations import augment_v1_clr_only, augment_empty_clr_only\n",
    "from lib.losses import SmoothLoss\n",
    "from lib.trainers import WSIModuleV1\n",
    "\n",
    "from lib.models.unetv1 import get_model\n",
    "from lib.models.features_map import FeaturesMap\n",
    "\n",
    "from sklearn.metrics import cohen_kappa_score\n",
    "\n",
    "from tqdm.auto import tqdm\n",
    "\n",
    "import matplotlib.pyplot as plt"
   ]
  },
  {
   "cell_type": "code",
   "execution_count": 3,
   "metadata": {
    "_last_msg_id": "e881430a09724ccf818e3d7464cf05a7"
   },
   "outputs": [],
   "source": [
    "# import cv2\n",
    "import numpy as np\n",
    "# import pandas as pd\n",
    "# from lib.datasets import patches_csv_path, patches_path\n",
    "from lib.datasets import (patches_clean90_csv_path as patches_csv_path, patches_path,\n",
    "                          patches_clean90_pkl_path as patches_pkl_path)\n",
    "# from lib.dataloaders import imread, get_g_score_num, get_provider_num"
   ]
  },
  {
   "cell_type": "code",
   "execution_count": 4,
   "metadata": {
    "_last_msg_id": "c751aae96a0a4449837b3a967fc8a7eb"
   },
   "outputs": [
    {
     "data": {
      "text/plain": [
       "['e8baa3bb9dcfb9cef5ca599d62bb8046',\n",
       " '9b2948ff81b64677a1a152a1532c1a50',\n",
       " '5b003d43ec0ce5979062442486f84cf7',\n",
       " '375b2c9501320b35ceb638a3274812aa']"
      ]
     },
     "execution_count": 4,
     "metadata": {},
     "output_type": "execute_result"
    }
   ],
   "source": [
    "train_img_ids, test_img_ids = get_train_test_img_ids_split()\n",
    "\n",
    "test_img_ids[:4]"
   ]
  },
  {
   "cell_type": "code",
   "execution_count": 5,
   "metadata": {
    "_last_msg_id": "3ba24e7e06c54e9a8a11ea442f863a34"
   },
   "outputs": [],
   "source": [
    "from lib.dataloaders import WSIPatchesDataloader, WSIPatchesDatasetRaw\n",
    "from lib.utils import get_pretrained_model, get_features"
   ]
  },
  {
   "cell_type": "code",
   "execution_count": 6,
   "metadata": {
    "_last_msg_id": "b77c331367fc4cc4893d9090555ba409"
   },
   "outputs": [],
   "source": [
    "batch_size = 16"
   ]
  },
  {
   "cell_type": "code",
   "execution_count": 7,
   "metadata": {
    "_last_msg_id": "7887a105d17a411186bf4877165b6279"
   },
   "outputs": [],
   "source": [
    "#train_batch_path = '/mnt/HDDData/pdata/processed/pretrained_64x8x8/train/{}/'\n",
    "#test_batch_path = '/mnt/HDDData/pdata/processed/pretrained_64x8x8/val/'\n",
    "\n",
    "train_batch_path = '/mnt/SSDData/pdata/processed/pretrained_64x8x8/train/{}/'\n",
    "test_batch_path = '/mnt/SSDData/pdata/processed/pretrained_64x8x8/val/'\n",
    "\n",
    "train_loader = WSIPatchesDummyDataloader(train_batch_path, precalc_epochs=6, batch_size=batch_size, shuffle=True)\n",
    "val_loader = WSIPatchesDummyDataloader(test_batch_path, precalc_epochs=6, batch_size=batch_size, shuffle=False)"
   ]
  },
  {
   "cell_type": "code",
   "execution_count": 8,
   "metadata": {
    "_last_msg_id": "9849243adea04442b15dbb91295c28a6"
   },
   "outputs": [],
   "source": [
    "steps_in_epoh = 1\n",
    "\n",
    "epochs = 90\n",
    "\n",
    "warmup_epochs = 0\n",
    "warmup_steps = 0\n",
    "\n",
    "hparams = {\n",
    "    'batch_size': batch_size,\n",
    "    'learning_rate': 0.001 * 32 / 256,\n",
    "    'dataset': {\n",
    "        'dataloader': 'dummy',\n",
    "        'rgb_mean': patches_rgb_mean_av1,\n",
    "        'rgb_std': patches_rgb_std_av1,\n",
    "        'classes': max_lbl_nums,\n",
    "        'precalc_epochs': 50,\n",
    "        'train_test_split': {},\n",
    "    },\n",
    "    'optimizer': {\n",
    "        'name': 'torch.optim.Adam',\n",
    "        'params': {\n",
    "            'weight_decay': 1e-4\n",
    "        }\n",
    "    },\n",
    "    'scheduler': {\n",
    "        'name': 'lib.schedulers.ExponentialLRWithMin',\n",
    "        'params': {\n",
    "            'gamma': 0.92,\n",
    "            'eta_min': 1.25e-5\n",
    "        },\n",
    "        'interval': 'epoch'\n",
    "    },\n",
    "    'loss': {\n",
    "        'weights': {\n",
    "            'reg': 1 / 2,\n",
    "            'class': 9 / 2\n",
    "        },\n",
    "        'label_smoothing': 0.1\n",
    "    },\n",
    "    'warmup_steps': warmup_steps,\n",
    "    'steps_in_epoh': steps_in_epoh,\n",
    "    'epochs': epochs\n",
    "}"
   ]
  },
  {
   "cell_type": "code",
   "execution_count": 9,
   "metadata": {
    "_last_msg_id": "78fe4858827a401a8052fd6ab52bd3a7"
   },
   "outputs": [],
   "source": [
    "hparams['steps_in_batch'] = steps_in_epoh\n",
    "if 'T_max' in hparams['scheduler']['params']:\n",
    "    hparams['scheduler']['params']['T_max'] = (epochs * steps_in_epoh -\n",
    "                                               warmup_steps)"
   ]
  },
  {
   "cell_type": "code",
   "execution_count": 10,
   "metadata": {
    "_last_msg_id": "6a2acabca4d548598f06880fbc0be6b6"
   },
   "outputs": [],
   "source": [
    "# tmp[0].shape\n",
    "# torch.Size([64, 300, 64, 8, 8])"
   ]
  },
  {
   "cell_type": "code",
   "execution_count": 11,
   "metadata": {
    "_last_msg_id": "23c1760618d14b169bc6b5b1851d9ec8"
   },
   "outputs": [],
   "source": [
    "class TiledFeaturesMap(nn.Module):\n",
    "    def __init__(self, f_channels=512, f_size=1,\n",
    "                 t_sz=9, t_step=6, t_cut=2):\n",
    "        super().__init__()\n",
    "\n",
    "        self.f_size = f_size\n",
    "        self.f_channels = f_channels\n",
    "        self.t_sz = t_sz\n",
    "        self.t_step = t_step\n",
    "        self.t_cut = t_cut\n",
    "\n",
    "    def forward(self, features, ys, xs, validation=None):\n",
    "        if validation is None:\n",
    "            validation = not self.training\n",
    "\n",
    "        f_tiles = []\n",
    "        f_ns = []\n",
    "\n",
    "        for b in range(features.shape[0]):\n",
    "            y_min, x_min = ys[b].min(), xs[b].min()\n",
    "            y_max, x_max = ys[b].max(), xs[b].max()\n",
    "            \n",
    "            if not validation:\n",
    "                y_rnd = random.randint(0, self.t_step)\n",
    "                x_rnd = random.randint(0, self.t_step)   \n",
    "            else:\n",
    "                y_rnd, x_rnd = 0, 0\n",
    "\n",
    "            r_mask = ys[b] > -1\n",
    "\n",
    "            x_map = torch.zeros((y_max-y_min+1+self.t_sz+y_rnd, \n",
    "                                 x_max-x_min+1+self.t_sz+x_rnd,\n",
    "                                 self.f_channels, self.f_size, self.f_size),\n",
    "                                dtype=features.dtype, device=features.device)\n",
    "\n",
    "            x_map[ys[b, r_mask]-y_min+y_rnd, xs[b, r_mask]-x_min+x_rnd] = features[b, r_mask]\n",
    "\n",
    "            x_tiles = x_map.unfold(0, self.t_sz, self.t_step).unfold(1, self.t_sz, self.t_step)\n",
    "\n",
    "            f_t_idxs = x_tiles[..., self.t_cut:-self.t_cut,\n",
    "                               self.t_cut:-self.t_cut].reshape(x_tiles.shape[:2]+(-1,)).sum(-1)\n",
    "\n",
    "            f_tiles.append(x_tiles[f_t_idxs > 0])\n",
    "            f_ns.extend([b,]*(f_t_idxs > 0).sum().item())\n",
    "\n",
    "        f_tiles = torch.cat(f_tiles, dim=0)\n",
    "        f_ns = torch.tensor(f_ns)\n",
    "\n",
    "        f_tiles = f_tiles.permute(0, 1, 4, 2, 5, 3).reshape(f_tiles.shape[:2] +\n",
    "                                                            (self.t_sz*self.f_size, \n",
    "                                                             self.t_sz*self.f_size))\n",
    "\n",
    "        if not validation:\n",
    "            for n in range(len(f_tiles)):\n",
    "                f_tile = f_tiles[n]\n",
    "                if random.random() > 0.5:\n",
    "                    f_tile = torch.flip(f_tile, [-1])\n",
    "\n",
    "                if random.random() > 0.5:\n",
    "                    f_tile = torch.flip(f_tile, [-2])\n",
    "\n",
    "                if random.random() > 0.5:\n",
    "                    f_tile = f_tile.transpose(-1, -2)\n",
    "                f_tiles[n] = f_tile\n",
    "\n",
    "        return f_ns, f_tiles"
   ]
  },
  {
   "cell_type": "code",
   "execution_count": null,
   "metadata": {},
   "outputs": [],
   "source": []
  },
  {
   "cell_type": "code",
   "execution_count": 12,
   "metadata": {
    "_last_msg_id": "663a51616ed842848abeee2c0b2521ed"
   },
   "outputs": [],
   "source": [
    "import torchvision.models as models\n",
    "\n",
    "class LambdaLayer(nn.Module):\n",
    "    def __init__(self, lambd):\n",
    "        super(LambdaLayer, self).__init__()\n",
    "        self.lambd = lambd\n",
    "    def forward(self, x):\n",
    "        return self.lambd(x)\n",
    "\n",
    "f_d_rate = 0.0\n",
    "d_rate = 0.0\n",
    "\n",
    "class MainModel(nn.Module):\n",
    "    def __init__(self):\n",
    "        super().__init__()\n",
    "        \n",
    "        self.tf_map = TiledFeaturesMap(f_channels=64, f_size=8, t_sz=9, t_step=6, t_cut=2)\n",
    "        \n",
    "        self.backbone = models.resnet18(pretrained=False)\n",
    "        # self.backbone.conv1 = nn.Identity()\n",
    "\n",
    "        self.backbone.conv1 = nn.Sequential(\n",
    "            nn.BatchNorm2d(64),\n",
    "            nn.Conv2d(64, 64, 1),\n",
    "            nn.BatchNorm2d(64),\n",
    "            nn.ReLU(),\n",
    "            nn.Conv2d(64, 64, 1),\n",
    "        )\n",
    "    \n",
    "        self.backbone.fc = nn.Linear(512, 512)\n",
    "        self.backbone.maxpool = nn.Identity()\n",
    "        \n",
    "        self.reg_linear = nn.Linear(512, 1)\n",
    "        self.class_linear = nn.Linear(512, max_lbl_nums)\n",
    "\n",
    "    def forward(self, features, ys, xs):\n",
    "        f_ns, f_tiles = self.tf_map(features, ys, xs)\n",
    "\n",
    "        b_out = self.backbone(f_tiles)\n",
    "\n",
    "        out = [F.adaptive_max_pool1d(b_out[f_ns == i].T[None, ...], 1)[..., 0]\n",
    "               for i in range(f_ns.max()+1)]\n",
    "        out = torch.cat(out)\n",
    "        return self.reg_linear(out), self.class_linear(out)\n",
    "\n",
    "model = MainModel()"
   ]
  },
  {
   "cell_type": "code",
   "execution_count": 13,
   "metadata": {
    "_last_msg_id": "66c857f85f7a4031b107dd1ff0123e98"
   },
   "outputs": [],
   "source": [
    "#summary(model.backbone, (64, 70*8, 40*8), device='cpu')"
   ]
  },
  {
   "cell_type": "code",
   "execution_count": 14,
   "metadata": {
    "_last_msg_id": "fd15959b1fbc42f68c90904029671c5a"
   },
   "outputs": [],
   "source": [
    "module = WSIModuleV1(model, hparams, log_train_every_batch=False)"
   ]
  },
  {
   "cell_type": "code",
   "execution_count": 15,
   "metadata": {
    "_last_msg_id": "dd821b1b3d11433e94c83c658e98ba2d"
   },
   "outputs": [
    {
     "name": "stderr",
     "output_type": "stream",
     "text": [
      "INFO:lightning:GPU available: True, used: True\n",
      "INFO:lightning:CUDA_VISIBLE_DEVICES: [0]\n"
     ]
    }
   ],
   "source": [
    "trainer = Trainer(max_epochs=hparams['epochs'], gpus=[0,], fast_dev_run=False, num_sanity_val_steps=0)"
   ]
  },
  {
   "cell_type": "code",
   "execution_count": null,
   "metadata": {
    "_last_msg_id": "ceaf0ffb024b45a0bb1a90426266b060",
    "scrolled": true
   },
   "outputs": [
    {
     "name": "stderr",
     "output_type": "stream",
     "text": [
      "INFO:lightning:\n",
      "   | Name                                 | Type              | Params\n",
      "-----------------------------------------------------------------------\n",
      "0  | model                                | MainModel         | 11 M  \n",
      "1  | model.tf_map                         | TiledFeaturesMap  | 0     \n",
      "2  | model.backbone                       | ResNet            | 11 M  \n",
      "3  | model.backbone.conv1                 | Sequential        | 8 K   \n",
      "4  | model.backbone.conv1.0               | BatchNorm2d       | 128   \n",
      "5  | model.backbone.conv1.1               | Conv2d            | 4 K   \n",
      "6  | model.backbone.conv1.2               | BatchNorm2d       | 128   \n",
      "7  | model.backbone.conv1.3               | ReLU              | 0     \n",
      "8  | model.backbone.conv1.4               | Conv2d            | 4 K   \n",
      "9  | model.backbone.bn1                   | BatchNorm2d       | 128   \n",
      "10 | model.backbone.relu                  | ReLU              | 0     \n",
      "11 | model.backbone.maxpool               | Identity          | 0     \n",
      "12 | model.backbone.layer1                | Sequential        | 147 K \n",
      "13 | model.backbone.layer1.0              | BasicBlock        | 73 K  \n",
      "14 | model.backbone.layer1.0.conv1        | Conv2d            | 36 K  \n",
      "15 | model.backbone.layer1.0.bn1          | BatchNorm2d       | 128   \n",
      "16 | model.backbone.layer1.0.relu         | ReLU              | 0     \n",
      "17 | model.backbone.layer1.0.conv2        | Conv2d            | 36 K  \n",
      "18 | model.backbone.layer1.0.bn2          | BatchNorm2d       | 128   \n",
      "19 | model.backbone.layer1.1              | BasicBlock        | 73 K  \n",
      "20 | model.backbone.layer1.1.conv1        | Conv2d            | 36 K  \n",
      "21 | model.backbone.layer1.1.bn1          | BatchNorm2d       | 128   \n",
      "22 | model.backbone.layer1.1.relu         | ReLU              | 0     \n",
      "23 | model.backbone.layer1.1.conv2        | Conv2d            | 36 K  \n",
      "24 | model.backbone.layer1.1.bn2          | BatchNorm2d       | 128   \n",
      "25 | model.backbone.layer2                | Sequential        | 525 K \n",
      "26 | model.backbone.layer2.0              | BasicBlock        | 230 K \n",
      "27 | model.backbone.layer2.0.conv1        | Conv2d            | 73 K  \n",
      "28 | model.backbone.layer2.0.bn1          | BatchNorm2d       | 256   \n",
      "29 | model.backbone.layer2.0.relu         | ReLU              | 0     \n",
      "30 | model.backbone.layer2.0.conv2        | Conv2d            | 147 K \n",
      "31 | model.backbone.layer2.0.bn2          | BatchNorm2d       | 256   \n",
      "32 | model.backbone.layer2.0.downsample   | Sequential        | 8 K   \n",
      "33 | model.backbone.layer2.0.downsample.0 | Conv2d            | 8 K   \n",
      "34 | model.backbone.layer2.0.downsample.1 | BatchNorm2d       | 256   \n",
      "35 | model.backbone.layer2.1              | BasicBlock        | 295 K \n",
      "36 | model.backbone.layer2.1.conv1        | Conv2d            | 147 K \n",
      "37 | model.backbone.layer2.1.bn1          | BatchNorm2d       | 256   \n",
      "38 | model.backbone.layer2.1.relu         | ReLU              | 0     \n",
      "39 | model.backbone.layer2.1.conv2        | Conv2d            | 147 K \n",
      "40 | model.backbone.layer2.1.bn2          | BatchNorm2d       | 256   \n",
      "41 | model.backbone.layer3                | Sequential        | 2 M   \n",
      "42 | model.backbone.layer3.0              | BasicBlock        | 919 K \n",
      "43 | model.backbone.layer3.0.conv1        | Conv2d            | 294 K \n",
      "44 | model.backbone.layer3.0.bn1          | BatchNorm2d       | 512   \n",
      "45 | model.backbone.layer3.0.relu         | ReLU              | 0     \n",
      "46 | model.backbone.layer3.0.conv2        | Conv2d            | 589 K \n",
      "47 | model.backbone.layer3.0.bn2          | BatchNorm2d       | 512   \n",
      "48 | model.backbone.layer3.0.downsample   | Sequential        | 33 K  \n",
      "49 | model.backbone.layer3.0.downsample.0 | Conv2d            | 32 K  \n",
      "50 | model.backbone.layer3.0.downsample.1 | BatchNorm2d       | 512   \n",
      "51 | model.backbone.layer3.1              | BasicBlock        | 1 M   \n",
      "52 | model.backbone.layer3.1.conv1        | Conv2d            | 589 K \n",
      "53 | model.backbone.layer3.1.bn1          | BatchNorm2d       | 512   \n",
      "54 | model.backbone.layer3.1.relu         | ReLU              | 0     \n",
      "55 | model.backbone.layer3.1.conv2        | Conv2d            | 589 K \n",
      "56 | model.backbone.layer3.1.bn2          | BatchNorm2d       | 512   \n",
      "57 | model.backbone.layer4                | Sequential        | 8 M   \n",
      "58 | model.backbone.layer4.0              | BasicBlock        | 3 M   \n",
      "59 | model.backbone.layer4.0.conv1        | Conv2d            | 1 M   \n",
      "60 | model.backbone.layer4.0.bn1          | BatchNorm2d       | 1 K   \n",
      "61 | model.backbone.layer4.0.relu         | ReLU              | 0     \n",
      "62 | model.backbone.layer4.0.conv2        | Conv2d            | 2 M   \n",
      "63 | model.backbone.layer4.0.bn2          | BatchNorm2d       | 1 K   \n",
      "64 | model.backbone.layer4.0.downsample   | Sequential        | 132 K \n",
      "65 | model.backbone.layer4.0.downsample.0 | Conv2d            | 131 K \n",
      "66 | model.backbone.layer4.0.downsample.1 | BatchNorm2d       | 1 K   \n",
      "67 | model.backbone.layer4.1              | BasicBlock        | 4 M   \n",
      "68 | model.backbone.layer4.1.conv1        | Conv2d            | 2 M   \n",
      "69 | model.backbone.layer4.1.bn1          | BatchNorm2d       | 1 K   \n",
      "70 | model.backbone.layer4.1.relu         | ReLU              | 0     \n",
      "71 | model.backbone.layer4.1.conv2        | Conv2d            | 2 M   \n",
      "72 | model.backbone.layer4.1.bn2          | BatchNorm2d       | 1 K   \n",
      "73 | model.backbone.avgpool               | AdaptiveAvgPool2d | 0     \n",
      "74 | model.backbone.fc                    | Linear            | 262 K \n",
      "75 | model.reg_linear                     | Linear            | 513   \n",
      "76 | model.class_linear                   | Linear            | 3 K   \n",
      "77 | reg_loss                             | MSELoss           | 0     \n",
      "78 | class_loss                           | SmoothLoss        | 0     \n",
      "79 | class_loss.criterion                 | KLDivLoss         | 0     \n"
     ]
    },
    {
     "name": "stdout",
     "output_type": "stream",
     "text": [
      "[Adam (\n",
      "Parameter Group 0\n",
      "    amsgrad: False\n",
      "    betas: (0.9, 0.999)\n",
      "    eps: 1e-08\n",
      "    initial_lr: 0.000125\n",
      "    lr: 0.000125\n",
      "    weight_decay: 0.0001\n",
      ")] [{'interval': 'epoch', 'scheduler': <lib.schedulers.DelayedScheduler object at 0x7f4b694f8650>}]\n"
     ]
    },
    {
     "name": "stderr",
     "output_type": "stream",
     "text": [
      "/home/ruslan/anaconda3/lib/python3.7/site-packages/pytorch_lightning/utilities/distributed.py:23: RuntimeWarning: Displayed epoch numbers in the progress bar start from \"1\" until v0.6.x, but will start from \"0\" in v0.8.0.\n",
      "  warnings.warn(*args, **kwargs)\n"
     ]
    },
    {
     "data": {
      "application/vnd.jupyter.widget-view+json": {
       "model_id": "88a0e0e7a7fa46dd9b4bb31c156eacde",
       "version_major": 2,
       "version_minor": 0
      },
      "text/plain": [
       "HBox(children=(FloatProgress(value=1.0, bar_style='info', description='Training', layout=Layout(flex='2'), max…"
      ]
     },
     "metadata": {},
     "output_type": "display_data"
    },
    {
     "name": "stderr",
     "output_type": "stream",
     "text": [
      "/home/ruslan/anaconda3/lib/python3.7/site-packages/torch/nn/functional.py:2247: UserWarning: reduction: 'mean' divides the total loss by both the batch size and the support size.'batchmean' divides only by the batch size, and aligns with the KL div math definition.'mean' will be changed to behave the same as 'batchmean' in the next major release.\n",
      "  warnings.warn(\"reduction: 'mean' divides the total loss by both the batch size and the support size.\"\n"
     ]
    },
    {
     "data": {
      "application/vnd.jupyter.widget-view+json": {
       "model_id": "",
       "version_major": 2,
       "version_minor": 0
      },
      "text/plain": [
       "HBox(children=(FloatProgress(value=1.0, bar_style='info', description='Validating', layout=Layout(flex='2'), m…"
      ]
     },
     "metadata": {},
     "output_type": "display_data"
    },
    {
     "name": "stderr",
     "output_type": "stream",
     "text": [
      "/home/ruslan/anaconda3/lib/python3.7/site-packages/torch/optim/lr_scheduler.py:426: UserWarning: To get the last learning rate computed by the scheduler, please use `get_last_lr()`.\n",
      "  \"please use `get_last_lr()`.\", UserWarning)\n"
     ]
    },
    {
     "data": {
      "application/vnd.jupyter.widget-view+json": {
       "model_id": "",
       "version_major": 2,
       "version_minor": 0
      },
      "text/plain": [
       "HBox(children=(FloatProgress(value=1.0, bar_style='info', description='Validating', layout=Layout(flex='2'), m…"
      ]
     },
     "metadata": {},
     "output_type": "display_data"
    },
    {
     "data": {
      "application/vnd.jupyter.widget-view+json": {
       "model_id": "",
       "version_major": 2,
       "version_minor": 0
      },
      "text/plain": [
       "HBox(children=(FloatProgress(value=1.0, bar_style='info', description='Validating', layout=Layout(flex='2'), m…"
      ]
     },
     "metadata": {},
     "output_type": "display_data"
    },
    {
     "data": {
      "application/vnd.jupyter.widget-view+json": {
       "model_id": "",
       "version_major": 2,
       "version_minor": 0
      },
      "text/plain": [
       "HBox(children=(FloatProgress(value=1.0, bar_style='info', description='Validating', layout=Layout(flex='2'), m…"
      ]
     },
     "metadata": {},
     "output_type": "display_data"
    },
    {
     "data": {
      "application/vnd.jupyter.widget-view+json": {
       "model_id": "",
       "version_major": 2,
       "version_minor": 0
      },
      "text/plain": [
       "HBox(children=(FloatProgress(value=1.0, bar_style='info', description='Validating', layout=Layout(flex='2'), m…"
      ]
     },
     "metadata": {},
     "output_type": "display_data"
    },
    {
     "data": {
      "application/vnd.jupyter.widget-view+json": {
       "model_id": "",
       "version_major": 2,
       "version_minor": 0
      },
      "text/plain": [
       "HBox(children=(FloatProgress(value=1.0, bar_style='info', description='Validating', layout=Layout(flex='2'), m…"
      ]
     },
     "metadata": {},
     "output_type": "display_data"
    },
    {
     "data": {
      "application/vnd.jupyter.widget-view+json": {
       "model_id": "",
       "version_major": 2,
       "version_minor": 0
      },
      "text/plain": [
       "HBox(children=(FloatProgress(value=1.0, bar_style='info', description='Validating', layout=Layout(flex='2'), m…"
      ]
     },
     "metadata": {},
     "output_type": "display_data"
    },
    {
     "data": {
      "application/vnd.jupyter.widget-view+json": {
       "model_id": "",
       "version_major": 2,
       "version_minor": 0
      },
      "text/plain": [
       "HBox(children=(FloatProgress(value=1.0, bar_style='info', description='Validating', layout=Layout(flex='2'), m…"
      ]
     },
     "metadata": {},
     "output_type": "display_data"
    },
    {
     "data": {
      "application/vnd.jupyter.widget-view+json": {
       "model_id": "",
       "version_major": 2,
       "version_minor": 0
      },
      "text/plain": [
       "HBox(children=(FloatProgress(value=1.0, bar_style='info', description='Validating', layout=Layout(flex='2'), m…"
      ]
     },
     "metadata": {},
     "output_type": "display_data"
    },
    {
     "data": {
      "application/vnd.jupyter.widget-view+json": {
       "model_id": "",
       "version_major": 2,
       "version_minor": 0
      },
      "text/plain": [
       "HBox(children=(FloatProgress(value=1.0, bar_style='info', description='Validating', layout=Layout(flex='2'), m…"
      ]
     },
     "metadata": {},
     "output_type": "display_data"
    },
    {
     "data": {
      "application/vnd.jupyter.widget-view+json": {
       "model_id": "",
       "version_major": 2,
       "version_minor": 0
      },
      "text/plain": [
       "HBox(children=(FloatProgress(value=1.0, bar_style='info', description='Validating', layout=Layout(flex='2'), m…"
      ]
     },
     "metadata": {},
     "output_type": "display_data"
    },
    {
     "data": {
      "application/vnd.jupyter.widget-view+json": {
       "model_id": "",
       "version_major": 2,
       "version_minor": 0
      },
      "text/plain": [
       "HBox(children=(FloatProgress(value=1.0, bar_style='info', description='Validating', layout=Layout(flex='2'), m…"
      ]
     },
     "metadata": {},
     "output_type": "display_data"
    },
    {
     "data": {
      "application/vnd.jupyter.widget-view+json": {
       "model_id": "",
       "version_major": 2,
       "version_minor": 0
      },
      "text/plain": [
       "HBox(children=(FloatProgress(value=1.0, bar_style='info', description='Validating', layout=Layout(flex='2'), m…"
      ]
     },
     "metadata": {},
     "output_type": "display_data"
    },
    {
     "data": {
      "application/vnd.jupyter.widget-view+json": {
       "model_id": "",
       "version_major": 2,
       "version_minor": 0
      },
      "text/plain": [
       "HBox(children=(FloatProgress(value=1.0, bar_style='info', description='Validating', layout=Layout(flex='2'), m…"
      ]
     },
     "metadata": {},
     "output_type": "display_data"
    },
    {
     "data": {
      "application/vnd.jupyter.widget-view+json": {
       "model_id": "",
       "version_major": 2,
       "version_minor": 0
      },
      "text/plain": [
       "HBox(children=(FloatProgress(value=1.0, bar_style='info', description='Validating', layout=Layout(flex='2'), m…"
      ]
     },
     "metadata": {},
     "output_type": "display_data"
    },
    {
     "data": {
      "application/vnd.jupyter.widget-view+json": {
       "model_id": "",
       "version_major": 2,
       "version_minor": 0
      },
      "text/plain": [
       "HBox(children=(FloatProgress(value=1.0, bar_style='info', description='Validating', layout=Layout(flex='2'), m…"
      ]
     },
     "metadata": {},
     "output_type": "display_data"
    },
    {
     "data": {
      "application/vnd.jupyter.widget-view+json": {
       "model_id": "",
       "version_major": 2,
       "version_minor": 0
      },
      "text/plain": [
       "HBox(children=(FloatProgress(value=1.0, bar_style='info', description='Validating', layout=Layout(flex='2'), m…"
      ]
     },
     "metadata": {},
     "output_type": "display_data"
    }
   ],
   "source": [
    "trainer.fit(module, train_loader, val_loader)\n",
    "trainer.save_checkpoint(os.path.join(trainer.checkpoint_callback.dirpath,\n",
    "                                     \"last.ckpt\"))"
   ]
  },
  {
   "cell_type": "code",
   "execution_count": null,
   "metadata": {
    "_last_msg_id": "56489edfc3164cd681f5a9fc69cbc66c"
   },
   "outputs": [],
   "source": [
    "165*3"
   ]
  },
  {
   "cell_type": "code",
   "execution_count": null,
   "metadata": {},
   "outputs": [],
   "source": []
  }
 ],
 "metadata": {
  "kernelspec": {
   "display_name": "Python 3",
   "language": "python",
   "name": "python3"
  },
  "language_info": {
   "codemirror_mode": {
    "name": "ipython",
    "version": 3
   },
   "file_extension": ".py",
   "mimetype": "text/x-python",
   "name": "python",
   "nbconvert_exporter": "python",
   "pygments_lexer": "ipython3",
   "version": "3.7.4"
  }
 },
 "nbformat": 4,
 "nbformat_minor": 2
}
