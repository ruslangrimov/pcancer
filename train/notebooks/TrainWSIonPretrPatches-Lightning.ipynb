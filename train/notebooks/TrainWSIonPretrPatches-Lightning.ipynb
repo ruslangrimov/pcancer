{
 "cells": [
  {
   "cell_type": "code",
   "execution_count": 1,
   "metadata": {
    "_last_msg_id": "22702208754746a387bf1f65571a6c22"
   },
   "outputs": [],
   "source": [
    "import sys\n",
    "import os\n",
    "import psutil\n",
    "\n",
    "import random\n",
    "import math\n",
    "from functools import partial\n",
    "\n",
    "import torch \n",
    "from torch import optim\n",
    "from torch.optim import lr_scheduler\n",
    "from torch import nn\n",
    "from torch.nn import functional as F\n",
    "\n",
    "import multiprocessing.dummy as mp\n",
    "\n",
    "from pytorch_lightning import Trainer\n",
    "from pytorch_lightning.core import LightningModule\n",
    "from pytorch_lightning.callbacks import ModelCheckpoint\n",
    "from pytorch_lightning.loggers.tensorboard import TensorBoardLogger\n",
    "\n",
    "sys.path.append('../..')\n",
    "from lib.schedulers import DelayedScheduler\n",
    "from lib.datasets import (max_lbl_nums, actual_lbl_nums, \n",
    "                          patches_rgb_mean_av1, patches_rgb_std_av1, \n",
    "                          get_train_test_img_ids_split)\n",
    "from lib.dataloaders import PatchesDataset, WSIPatchesDatasetRaw, WSIPatchesDummyDataloader\n",
    "from lib.augmentations import augment_v1_clr_only, augment_empty_clr_only\n",
    "from lib.losses import SmoothLoss\n",
    "from lib.trainers import GeneralModule\n",
    "\n",
    "from lib.models.unetv1 import get_model\n",
    "\n",
    "from sklearn.metrics import cohen_kappa_score\n",
    "\n",
    "from tqdm.auto import tqdm\n",
    "\n",
    "import matplotlib.pyplot as plt"
   ]
  },
  {
   "cell_type": "code",
   "execution_count": 2,
   "metadata": {
    "_last_msg_id": "1269c782c3814c0cbfc763945674e019"
   },
   "outputs": [],
   "source": [
    "# import cv2\n",
    "import numpy as np\n",
    "# import pandas as pd\n",
    "# from lib.datasets import patches_csv_path, patches_path\n",
    "from lib.datasets import (patches_clean90_csv_path as patches_csv_path, patches_path,\n",
    "                          patches_clean90_pkl_path as patches_pkl_path)\n",
    "# from lib.dataloaders import imread, get_g_score_num, get_provider_num"
   ]
  },
  {
   "cell_type": "code",
   "execution_count": 3,
   "metadata": {
    "_last_msg_id": "089c275df50b4bd78875a7ba19ea33d8"
   },
   "outputs": [
    {
     "data": {
      "text/plain": [
       "['e8baa3bb9dcfb9cef5ca599d62bb8046',\n",
       " '9b2948ff81b64677a1a152a1532c1a50',\n",
       " '5b003d43ec0ce5979062442486f84cf7',\n",
       " '375b2c9501320b35ceb638a3274812aa']"
      ]
     },
     "execution_count": 3,
     "metadata": {},
     "output_type": "execute_result"
    }
   ],
   "source": [
    "train_img_ids, test_img_ids = get_train_test_img_ids_split()\n",
    "\n",
    "test_img_ids[:4]"
   ]
  },
  {
   "cell_type": "code",
   "execution_count": 4,
   "metadata": {
    "_last_msg_id": "bec6017a63344997b62cd68dc83d5f1d"
   },
   "outputs": [],
   "source": [
    "from lib.dataloaders import WSIPatchesDataloader, WSIPatchesDatasetRaw\n",
    "from lib.utils import get_pretrained_model, get_features"
   ]
  },
  {
   "cell_type": "code",
   "execution_count": 5,
   "metadata": {
    "_last_msg_id": "2abd55c7e2db4180ac1cfd19cf6b545b"
   },
   "outputs": [],
   "source": [
    "# patches_device = torch.device('cuda:0')\n",
    "\n",
    "#rgb_mean, rgb_std = (torch.tensor(patches_rgb_mean_av1, dtype=torch.float32, device=patches_device), \n",
    "#                     torch.tensor(patches_rgb_std_av1, dtype=torch.float32, device=patches_device))\n",
    "\n",
    "#model = get_pretrained_model(get_model, {'classes': actual_lbl_nums}, \n",
    "#                             \"../Patches256TestRun/version_0/checkpoints/last.ckpt\", patches_device)\n",
    "\n",
    "#get_features_fn = partial(get_features, model=model, device=patches_device, \n",
    "#                          rgb_mean=rgb_mean, rgb_std=rgb_std, \n",
    "#                          features_batch_size=512)"
   ]
  },
  {
   "cell_type": "code",
   "execution_count": null,
   "metadata": {
    "_last_msg_id": "9a7c88b326e3434b866ba3a844e43af4"
   },
   "outputs": [],
   "source": []
  },
  {
   "cell_type": "code",
   "execution_count": 6,
   "metadata": {
    "_last_msg_id": "dca15fe108aa4e65b82d807678cbc7c7"
   },
   "outputs": [],
   "source": [
    "main_batch_size = 64"
   ]
  },
  {
   "cell_type": "code",
   "execution_count": 7,
   "metadata": {
    "_last_msg_id": "23df30ea9b8f4329a24d653cdf7e78b0"
   },
   "outputs": [],
   "source": [
    "train_batch_path = '/mnt/SSDData/pdata/processed/pretrained/train/{}/'\n",
    "test_batch_path = '/mnt/SSDData/pdata/processed/pretrained/val/'\n",
    "\n",
    "train_loader = WSIPatchesDummyDataloader(train_batch_path, precalc_epochs=10, shuffle=True)\n",
    "val_loader = WSIPatchesDummyDataloader(test_batch_path, precalc_epochs=10, shuffle=False)"
   ]
  },
  {
   "cell_type": "code",
   "execution_count": 8,
   "metadata": {
    "_last_msg_id": "9aa63516bbf24bbb8e9ce797a7e03dea"
   },
   "outputs": [],
   "source": [
    "'''\n",
    "train_loader = WSIPatchesDataloader(WSIPatchesDatasetRaw(train_img_ids, patches_pkl_path, \n",
    "                                                         scale=0.5, transform=augment_v1_clr_only),\n",
    "                                    get_features_fn, (512, 8, 8),\n",
    "                                    main_batch_size, shuffle=True, num_workers=5, max_len=300)\n",
    "\n",
    "val_loader = WSIPatchesDataloader(WSIPatchesDatasetRaw(test_img_ids, patches_pkl_path, \n",
    "                                                       scale=0.5, transform=augment_empty_clr_only),\n",
    "                                    get_features_fn, (512, 8, 8),\n",
    "                                    main_batch_size, shuffle=True, num_workers=5, max_len=300)\n",
    "''';"
   ]
  },
  {
   "cell_type": "code",
   "execution_count": null,
   "metadata": {},
   "outputs": [],
   "source": []
  },
  {
   "cell_type": "code",
   "execution_count": 9,
   "metadata": {
    "_last_msg_id": "75995277311347d8865382e7e2113f17"
   },
   "outputs": [],
   "source": [
    "class WSIModule1DV1(GeneralModule):\n",
    "    def __init__(self, model, hparams, log_train_every_batch=False):\n",
    "        super().__init__(model, hparams, log_train_every_batch)\n",
    "        self.hparams = hparams\n",
    "        self.model = model\n",
    "        self.log_train_every_batch = log_train_every_batch\n",
    "\n",
    "        self.reg_loss = nn.MSELoss()\n",
    "\n",
    "        label_smoothing = self.hparams['loss']['label_smoothing']\n",
    "        self.class_loss = SmoothLoss(nn.KLDivLoss(), smoothing=label_smoothing,\n",
    "                                     one_hot_target=True)\n",
    "\n",
    "        self.loss_weights = self.hparams['loss']['weights']\n",
    "\n",
    "        self.rgb_mean = torch.tensor(hparams['dataset']['rgb_mean'],\n",
    "                                     dtype=torch.float32)\n",
    "        self.rgb_std = torch.tensor(hparams['dataset']['rgb_std'],\n",
    "                                    dtype=torch.float32)\n",
    "        \n",
    "        self.process = psutil.Process(os.getpid())\n",
    "        \n",
    "        self.max_lbl_nums = hparams['dataset']['classes']\n",
    "        \n",
    "    @classmethod\n",
    "    def _accuracy(cls, output, target):\n",
    "        pred = output\n",
    "        eq = pred.eq(target.view_as(pred))\n",
    "        return eq.float().mean()\n",
    "\n",
    "    def step(self, batch, batch_idx, is_train):\n",
    "        # features, ys, xs, provider, isup_grade, gleason_score = batch \n",
    "        # features = features.mean(-1).mean(-1).transpose(1, -1)\n",
    "        features, ys, xs, provider, isup_grade, gleason_score = batch\n",
    "        \n",
    "        b = features.shape[0]\n",
    "        \n",
    "        labels = isup_grade\n",
    "        \n",
    "        labels_reg = labels[:, None].float()\n",
    "        labels_class = labels        \n",
    "        \n",
    "        o_labels_reg, o_labels_class = self(features)\n",
    "        \n",
    "        o_labels_reg = torch.sigmoid(o_labels_reg) * self.max_lbl_nums - 0.5\n",
    "        o_labels_class = F.log_softmax(o_labels_class, dim=-1)\n",
    "        \n",
    "        \n",
    "        \n",
    "        reg_loss = self.reg_loss(o_labels_reg, labels_reg)\n",
    "        class_loss = self.class_loss(o_labels_class, labels_class)\n",
    "\n",
    "        loss = (self.loss_weights['reg'] * reg_loss +\n",
    "                self.loss_weights['class'] * class_loss)\n",
    "\n",
    "        o_labels_reg = o_labels_reg.round().long().clamp(0, self.max_lbl_nums-1)\n",
    "        o_labels_class = o_labels_class.argmax(dim=-1)        \n",
    "        \n",
    "        acc_reg = self._accuracy(o_labels_reg, labels)\n",
    "        acc_class = self._accuracy(o_labels_class, labels) \n",
    "        \n",
    "        qwk_reg = cohen_kappa_score(o_labels_reg.cpu().numpy(), labels.cpu().numpy(), weights=\"quadratic\")\n",
    "        qwk_class = cohen_kappa_score(o_labels_class.cpu().numpy(), labels.cpu().numpy(), weights=\"quadratic\")        \n",
    "        \n",
    "        lr = self.optimizer.param_groups[0]['lr']\n",
    "\n",
    "        pr = '' if is_train else 'val_'\n",
    "\n",
    "        log_dict = {\n",
    "            pr+'loss': loss,\n",
    "            pr+'reg_loss': float(reg_loss),\n",
    "            pr+'class_loss': float(class_loss),\n",
    "            pr+'acc_reg': float(acc_reg),\n",
    "            pr+'acc_class': float(acc_class),            \n",
    "            pr+'qwk_reg': float(qwk_reg),\n",
    "            pr+'qwk_class': float(qwk_class),            \n",
    "            pr+'lr': lr,\n",
    "            pr+'memory': self.process.memory_info().rss\n",
    "        }\n",
    "\n",
    "        if is_train and self.log_train_every_batch:\n",
    "            return {'loss': loss, 'log': log_dict}\n",
    "        else:\n",
    "            return log_dict\n",
    "\n",
    "    def training_step(self, batch, batch_idx):\n",
    "        return self.step(batch, batch_idx, True)\n",
    "\n",
    "    def validation_step(self, batch, batch_idx):\n",
    "        return self.step(batch, batch_idx, False)\n",
    "\n",
    "    def _apply(self, fn):\n",
    "        super()._apply(fn)\n",
    "        self.rgb_mean = fn(self.rgb_mean)\n",
    "        self.rgb_std = fn(self.rgb_std)\n",
    "\n",
    "        return self"
   ]
  },
  {
   "cell_type": "code",
   "execution_count": 10,
   "metadata": {
    "_last_msg_id": "3da8d2d366fa42c99bbd1e837b6e30cb"
   },
   "outputs": [],
   "source": [
    "steps_in_epoh = 1\n",
    "\n",
    "epochs = 30\n",
    "\n",
    "warmup_epochs = 0\n",
    "warmup_steps = 132\n",
    "batch_size = 64\n",
    "\n",
    "hparams = {\n",
    "    'batch_size': batch_size,\n",
    "    # 'learning_rate': 0.1 * batch_size / 256,\n",
    "    'learning_rate': 0.1 * batch_size / 256 / 2.5,\n",
    "    'dataset': {\n",
    "        'rgb_mean': patches_rgb_mean_av1,\n",
    "        'rgb_std': patches_rgb_std_av1,\n",
    "        'classes': max_lbl_nums\n",
    "    },\n",
    "    'optimizer': {\n",
    "        'name': 'torch.optim.SGD',\n",
    "        'params': {\n",
    "            'momentum': 0.9,\n",
    "            # 'weight_decay': 2e-3\n",
    "            'weight_decay': 1e-4\n",
    "            # 'weight_decay': 0\n",
    "        }\n",
    "    },\n",
    "    'scheduler': {\n",
    "        'name': 'torch.optim.lr_scheduler.CosineAnnealingLR',\n",
    "        'params': {\n",
    "            'T_max': epochs * steps_in_epoh - warmup_steps,\n",
    "            'eta_min': 1e-3\n",
    "        },\n",
    "        'interval': 'step'\n",
    "    },\n",
    "    'loss': {\n",
    "        'weights': {\n",
    "            'reg': 1 / 2, \n",
    "            'class': 9 / 2\n",
    "        },\n",
    "        'label_smoothing': 0.1\n",
    "    },\n",
    "    'warmup_steps': warmup_steps,\n",
    "    'steps_in_epoh': steps_in_epoh,\n",
    "    'epochs': epochs,\n",
    "    # 'source_code': open(__file__, 'rt').read()\n",
    "}"
   ]
  },
  {
   "cell_type": "code",
   "execution_count": 11,
   "metadata": {
    "_last_msg_id": "258593b67d5d496cb47b0f8018c97168"
   },
   "outputs": [],
   "source": [
    "steps_in_epoh = len(train_loader)"
   ]
  },
  {
   "cell_type": "code",
   "execution_count": 12,
   "metadata": {
    "_last_msg_id": "e733d64472f24d4b8985a7836aa7c1f1"
   },
   "outputs": [
    {
     "data": {
      "text/plain": [
       "132"
      ]
     },
     "execution_count": 12,
     "metadata": {},
     "output_type": "execute_result"
    }
   ],
   "source": [
    "steps_in_epoh"
   ]
  },
  {
   "cell_type": "code",
   "execution_count": 13,
   "metadata": {
    "_last_msg_id": "c33163bc6a1941eb9d4611190af4fd31"
   },
   "outputs": [],
   "source": [
    "hparams['steps_in_batch'] = steps_in_epoh\n",
    "hparams['scheduler']['params']['T_max'] = (epochs * steps_in_epoh -\n",
    "                                           warmup_steps)"
   ]
  },
  {
   "cell_type": "code",
   "execution_count": 14,
   "metadata": {
    "_last_msg_id": "67b00a0ce0f24c4b8f0bcd6e6975be4a"
   },
   "outputs": [],
   "source": [
    "class LambdaLayer(nn.Module):\n",
    "    def __init__(self, lambd):\n",
    "        super(LambdaLayer, self).__init__()\n",
    "        self.lambd = lambd\n",
    "    def forward(self, x):\n",
    "        return self.lambd(x)\n",
    "\n",
    "f_d_rate = 0.0\n",
    "d_rate = 0.0\n",
    "\n",
    "class MainModel(nn.Module):\n",
    "    def __init__(self):\n",
    "        super().__init__()\n",
    "        \n",
    "        # self.dummy_feature = nn.Parameter(torch.randn((1, 512, 1), dtype=torch.float32))\n",
    "        \n",
    "        self.backbone = nn.Sequential(\n",
    "            nn.BatchNorm1d(512),\n",
    "            nn.Dropout(f_d_rate),\n",
    "\n",
    "            nn.Conv1d(512, 512, 1),\n",
    "            #nn.Conv1d(512*8*8, 64, 1),\n",
    "            nn.ReLU(inplace=True),\n",
    "            #nn.Dropout(d_rate),\n",
    "            nn.BatchNorm1d(512),\n",
    "\n",
    "            nn.Conv1d(512, 512, 1),\n",
    "            nn.ReLU(inplace=True),\n",
    "            #nn.Dropout(d_rate),\n",
    "            nn.BatchNorm1d(512),\n",
    "\n",
    "            nn.AdaptiveMaxPool1d(1),\n",
    "            LambdaLayer(lambda x: x.view(-1, 512)),\n",
    "\n",
    "            nn.Linear(512, 64),\n",
    "            nn.ReLU(inplace=True),\n",
    "            #nn.Dropout(d_rate),\n",
    "            nn.BatchNorm1d(64),\n",
    "            # nn.LayerNorm(64),\n",
    "        )\n",
    "        \n",
    "        self.reg_linear = nn.Linear(64, 1)\n",
    "        self.class_linear = nn.Linear(64, max_lbl_nums)\n",
    "\n",
    "    def forward(self, x):\n",
    "        # b, 300, 512\n",
    "        b = x.shape[0]\n",
    "        \n",
    "        # empty_mask = (x == 0).all(dim=1)[:, None, :]\n",
    "        # x = x + empty_mask * self.dummy_feature.expand(b, 512, max_len)\n",
    "        \n",
    "        x = self.backbone(x)\n",
    "        return self.reg_linear(x), self.class_linear(x)\n",
    "\n",
    "model = MainModel()"
   ]
  },
  {
   "cell_type": "code",
   "execution_count": 15,
   "metadata": {
    "_last_msg_id": "bd525ec8223043e38d85486c47ed9241"
   },
   "outputs": [],
   "source": [
    "module = WSIModule1DV1(model, hparams, log_train_every_batch=False)"
   ]
  },
  {
   "cell_type": "code",
   "execution_count": 16,
   "metadata": {
    "_last_msg_id": "75707eff03eb4fc6bbd7b2edde41df84"
   },
   "outputs": [
    {
     "name": "stderr",
     "output_type": "stream",
     "text": [
      "INFO:lightning:GPU available: True, used: True\n",
      "INFO:lightning:CUDA_VISIBLE_DEVICES: [1]\n"
     ]
    }
   ],
   "source": [
    "trainer = Trainer(max_epochs=hparams['epochs'], gpus=[1,], fast_dev_run=False, num_sanity_val_steps=0)"
   ]
  },
  {
   "cell_type": "code",
   "execution_count": 17,
   "metadata": {
    "_last_msg_id": "a8efaaf0f1c94c5f8242739d6774753c",
    "scrolled": true
   },
   "outputs": [
    {
     "name": "stdout",
     "output_type": "stream",
     "text": [
      "[SGD (\n",
      "Parameter Group 0\n",
      "    dampening: 0\n",
      "    initial_lr: 0.01\n",
      "    lr: 0.01\n",
      "    momentum: 0.9\n",
      "    nesterov: False\n",
      "    weight_decay: 0\n",
      ")] [{'interval': 'step', 'scheduler': <lib.schedulers.DelayedScheduler object at 0x7fbf2758a250>}]\n"
     ]
    },
    {
     "name": "stderr",
     "output_type": "stream",
     "text": [
      "INFO:lightning:\n",
      "   | Name                 | Type              | Params\n",
      "-------------------------------------------------------\n",
      "0  | model                | MainModel         | 561 K \n",
      "1  | model.backbone       | Sequential        | 561 K \n",
      "2  | model.backbone.0     | BatchNorm1d       | 1 K   \n",
      "3  | model.backbone.1     | Dropout           | 0     \n",
      "4  | model.backbone.2     | Conv1d            | 262 K \n",
      "5  | model.backbone.3     | ReLU              | 0     \n",
      "6  | model.backbone.4     | BatchNorm1d       | 1 K   \n",
      "7  | model.backbone.5     | Conv1d            | 262 K \n",
      "8  | model.backbone.6     | ReLU              | 0     \n",
      "9  | model.backbone.7     | BatchNorm1d       | 1 K   \n",
      "10 | model.backbone.8     | AdaptiveMaxPool1d | 0     \n",
      "11 | model.backbone.9     | LambdaLayer       | 0     \n",
      "12 | model.backbone.10    | Linear            | 32 K  \n",
      "13 | model.backbone.11    | ReLU              | 0     \n",
      "14 | model.backbone.12    | BatchNorm1d       | 128   \n",
      "15 | model.reg_linear     | Linear            | 65    \n",
      "16 | model.class_linear   | Linear            | 390   \n",
      "17 | reg_loss             | MSELoss           | 0     \n",
      "18 | class_loss           | SmoothLoss        | 0     \n",
      "19 | class_loss.criterion | KLDivLoss         | 0     \n",
      "/home/ruslan/anaconda3/lib/python3.7/site-packages/pytorch_lightning/utilities/distributed.py:23: RuntimeWarning: Displayed epoch numbers in the progress bar start from \"1\" until v0.6.x, but will start from \"0\" in v0.8.0.\n",
      "  warnings.warn(*args, **kwargs)\n"
     ]
    },
    {
     "data": {
      "application/vnd.jupyter.widget-view+json": {
       "model_id": "9533093696854039ba133142531469cc",
       "version_major": 2,
       "version_minor": 0
      },
      "text/plain": [
       "HBox(children=(FloatProgress(value=1.0, bar_style='info', description='Training', layout=Layout(flex='2'), max…"
      ]
     },
     "metadata": {},
     "output_type": "display_data"
    },
    {
     "name": "stderr",
     "output_type": "stream",
     "text": [
      "/home/ruslan/anaconda3/lib/python3.7/site-packages/torch/nn/functional.py:1958: UserWarning: reduction: 'mean' divides the total loss by both the batch size and the support size.'batchmean' divides only by the batch size, and aligns with the KL div math definition.'mean' will be changed to behave the same as 'batchmean' in the next major release.\n",
      "  warnings.warn(\"reduction: 'mean' divides the total loss by both the batch size and the support size.\"\n"
     ]
    },
    {
     "data": {
      "application/vnd.jupyter.widget-view+json": {
       "model_id": "",
       "version_major": 2,
       "version_minor": 0
      },
      "text/plain": [
       "HBox(children=(FloatProgress(value=1.0, bar_style='info', description='Validating', layout=Layout(flex='2'), m…"
      ]
     },
     "metadata": {},
     "output_type": "display_data"
    },
    {
     "data": {
      "application/vnd.jupyter.widget-view+json": {
       "model_id": "",
       "version_major": 2,
       "version_minor": 0
      },
      "text/plain": [
       "HBox(children=(FloatProgress(value=1.0, bar_style='info', description='Validating', layout=Layout(flex='2'), m…"
      ]
     },
     "metadata": {},
     "output_type": "display_data"
    },
    {
     "data": {
      "application/vnd.jupyter.widget-view+json": {
       "model_id": "",
       "version_major": 2,
       "version_minor": 0
      },
      "text/plain": [
       "HBox(children=(FloatProgress(value=1.0, bar_style='info', description='Validating', layout=Layout(flex='2'), m…"
      ]
     },
     "metadata": {},
     "output_type": "display_data"
    },
    {
     "data": {
      "application/vnd.jupyter.widget-view+json": {
       "model_id": "",
       "version_major": 2,
       "version_minor": 0
      },
      "text/plain": [
       "HBox(children=(FloatProgress(value=1.0, bar_style='info', description='Validating', layout=Layout(flex='2'), m…"
      ]
     },
     "metadata": {},
     "output_type": "display_data"
    },
    {
     "data": {
      "application/vnd.jupyter.widget-view+json": {
       "model_id": "",
       "version_major": 2,
       "version_minor": 0
      },
      "text/plain": [
       "HBox(children=(FloatProgress(value=1.0, bar_style='info', description='Validating', layout=Layout(flex='2'), m…"
      ]
     },
     "metadata": {},
     "output_type": "display_data"
    },
    {
     "data": {
      "application/vnd.jupyter.widget-view+json": {
       "model_id": "",
       "version_major": 2,
       "version_minor": 0
      },
      "text/plain": [
       "HBox(children=(FloatProgress(value=1.0, bar_style='info', description='Validating', layout=Layout(flex='2'), m…"
      ]
     },
     "metadata": {},
     "output_type": "display_data"
    },
    {
     "data": {
      "application/vnd.jupyter.widget-view+json": {
       "model_id": "",
       "version_major": 2,
       "version_minor": 0
      },
      "text/plain": [
       "HBox(children=(FloatProgress(value=1.0, bar_style='info', description='Validating', layout=Layout(flex='2'), m…"
      ]
     },
     "metadata": {},
     "output_type": "display_data"
    },
    {
     "data": {
      "application/vnd.jupyter.widget-view+json": {
       "model_id": "",
       "version_major": 2,
       "version_minor": 0
      },
      "text/plain": [
       "HBox(children=(FloatProgress(value=1.0, bar_style='info', description='Validating', layout=Layout(flex='2'), m…"
      ]
     },
     "metadata": {},
     "output_type": "display_data"
    },
    {
     "data": {
      "application/vnd.jupyter.widget-view+json": {
       "model_id": "",
       "version_major": 2,
       "version_minor": 0
      },
      "text/plain": [
       "HBox(children=(FloatProgress(value=1.0, bar_style='info', description='Validating', layout=Layout(flex='2'), m…"
      ]
     },
     "metadata": {},
     "output_type": "display_data"
    },
    {
     "data": {
      "application/vnd.jupyter.widget-view+json": {
       "model_id": "",
       "version_major": 2,
       "version_minor": 0
      },
      "text/plain": [
       "HBox(children=(FloatProgress(value=1.0, bar_style='info', description='Validating', layout=Layout(flex='2'), m…"
      ]
     },
     "metadata": {},
     "output_type": "display_data"
    },
    {
     "data": {
      "application/vnd.jupyter.widget-view+json": {
       "model_id": "",
       "version_major": 2,
       "version_minor": 0
      },
      "text/plain": [
       "HBox(children=(FloatProgress(value=1.0, bar_style='info', description='Validating', layout=Layout(flex='2'), m…"
      ]
     },
     "metadata": {},
     "output_type": "display_data"
    },
    {
     "data": {
      "application/vnd.jupyter.widget-view+json": {
       "model_id": "",
       "version_major": 2,
       "version_minor": 0
      },
      "text/plain": [
       "HBox(children=(FloatProgress(value=1.0, bar_style='info', description='Validating', layout=Layout(flex='2'), m…"
      ]
     },
     "metadata": {},
     "output_type": "display_data"
    },
    {
     "data": {
      "application/vnd.jupyter.widget-view+json": {
       "model_id": "",
       "version_major": 2,
       "version_minor": 0
      },
      "text/plain": [
       "HBox(children=(FloatProgress(value=1.0, bar_style='info', description='Validating', layout=Layout(flex='2'), m…"
      ]
     },
     "metadata": {},
     "output_type": "display_data"
    },
    {
     "data": {
      "application/vnd.jupyter.widget-view+json": {
       "model_id": "",
       "version_major": 2,
       "version_minor": 0
      },
      "text/plain": [
       "HBox(children=(FloatProgress(value=1.0, bar_style='info', description='Validating', layout=Layout(flex='2'), m…"
      ]
     },
     "metadata": {},
     "output_type": "display_data"
    },
    {
     "data": {
      "application/vnd.jupyter.widget-view+json": {
       "model_id": "",
       "version_major": 2,
       "version_minor": 0
      },
      "text/plain": [
       "HBox(children=(FloatProgress(value=1.0, bar_style='info', description='Validating', layout=Layout(flex='2'), m…"
      ]
     },
     "metadata": {},
     "output_type": "display_data"
    },
    {
     "data": {
      "application/vnd.jupyter.widget-view+json": {
       "model_id": "",
       "version_major": 2,
       "version_minor": 0
      },
      "text/plain": [
       "HBox(children=(FloatProgress(value=1.0, bar_style='info', description='Validating', layout=Layout(flex='2'), m…"
      ]
     },
     "metadata": {},
     "output_type": "display_data"
    },
    {
     "data": {
      "application/vnd.jupyter.widget-view+json": {
       "model_id": "",
       "version_major": 2,
       "version_minor": 0
      },
      "text/plain": [
       "HBox(children=(FloatProgress(value=1.0, bar_style='info', description='Validating', layout=Layout(flex='2'), m…"
      ]
     },
     "metadata": {},
     "output_type": "display_data"
    },
    {
     "data": {
      "application/vnd.jupyter.widget-view+json": {
       "model_id": "",
       "version_major": 2,
       "version_minor": 0
      },
      "text/plain": [
       "HBox(children=(FloatProgress(value=1.0, bar_style='info', description='Validating', layout=Layout(flex='2'), m…"
      ]
     },
     "metadata": {},
     "output_type": "display_data"
    },
    {
     "data": {
      "application/vnd.jupyter.widget-view+json": {
       "model_id": "",
       "version_major": 2,
       "version_minor": 0
      },
      "text/plain": [
       "HBox(children=(FloatProgress(value=1.0, bar_style='info', description='Validating', layout=Layout(flex='2'), m…"
      ]
     },
     "metadata": {},
     "output_type": "display_data"
    },
    {
     "data": {
      "application/vnd.jupyter.widget-view+json": {
       "model_id": "",
       "version_major": 2,
       "version_minor": 0
      },
      "text/plain": [
       "HBox(children=(FloatProgress(value=1.0, bar_style='info', description='Validating', layout=Layout(flex='2'), m…"
      ]
     },
     "metadata": {},
     "output_type": "display_data"
    },
    {
     "data": {
      "application/vnd.jupyter.widget-view+json": {
       "model_id": "",
       "version_major": 2,
       "version_minor": 0
      },
      "text/plain": [
       "HBox(children=(FloatProgress(value=1.0, bar_style='info', description='Validating', layout=Layout(flex='2'), m…"
      ]
     },
     "metadata": {},
     "output_type": "display_data"
    },
    {
     "data": {
      "application/vnd.jupyter.widget-view+json": {
       "model_id": "",
       "version_major": 2,
       "version_minor": 0
      },
      "text/plain": [
       "HBox(children=(FloatProgress(value=1.0, bar_style='info', description='Validating', layout=Layout(flex='2'), m…"
      ]
     },
     "metadata": {},
     "output_type": "display_data"
    },
    {
     "data": {
      "application/vnd.jupyter.widget-view+json": {
       "model_id": "",
       "version_major": 2,
       "version_minor": 0
      },
      "text/plain": [
       "HBox(children=(FloatProgress(value=1.0, bar_style='info', description='Validating', layout=Layout(flex='2'), m…"
      ]
     },
     "metadata": {},
     "output_type": "display_data"
    },
    {
     "data": {
      "application/vnd.jupyter.widget-view+json": {
       "model_id": "",
       "version_major": 2,
       "version_minor": 0
      },
      "text/plain": [
       "HBox(children=(FloatProgress(value=1.0, bar_style='info', description='Validating', layout=Layout(flex='2'), m…"
      ]
     },
     "metadata": {},
     "output_type": "display_data"
    },
    {
     "data": {
      "application/vnd.jupyter.widget-view+json": {
       "model_id": "",
       "version_major": 2,
       "version_minor": 0
      },
      "text/plain": [
       "HBox(children=(FloatProgress(value=1.0, bar_style='info', description='Validating', layout=Layout(flex='2'), m…"
      ]
     },
     "metadata": {},
     "output_type": "display_data"
    },
    {
     "data": {
      "application/vnd.jupyter.widget-view+json": {
       "model_id": "",
       "version_major": 2,
       "version_minor": 0
      },
      "text/plain": [
       "HBox(children=(FloatProgress(value=1.0, bar_style='info', description='Validating', layout=Layout(flex='2'), m…"
      ]
     },
     "metadata": {},
     "output_type": "display_data"
    },
    {
     "data": {
      "application/vnd.jupyter.widget-view+json": {
       "model_id": "",
       "version_major": 2,
       "version_minor": 0
      },
      "text/plain": [
       "HBox(children=(FloatProgress(value=1.0, bar_style='info', description='Validating', layout=Layout(flex='2'), m…"
      ]
     },
     "metadata": {},
     "output_type": "display_data"
    },
    {
     "data": {
      "application/vnd.jupyter.widget-view+json": {
       "model_id": "",
       "version_major": 2,
       "version_minor": 0
      },
      "text/plain": [
       "HBox(children=(FloatProgress(value=1.0, bar_style='info', description='Validating', layout=Layout(flex='2'), m…"
      ]
     },
     "metadata": {},
     "output_type": "display_data"
    },
    {
     "data": {
      "application/vnd.jupyter.widget-view+json": {
       "model_id": "",
       "version_major": 2,
       "version_minor": 0
      },
      "text/plain": [
       "HBox(children=(FloatProgress(value=1.0, bar_style='info', description='Validating', layout=Layout(flex='2'), m…"
      ]
     },
     "metadata": {},
     "output_type": "display_data"
    },
    {
     "data": {
      "application/vnd.jupyter.widget-view+json": {
       "model_id": "",
       "version_major": 2,
       "version_minor": 0
      },
      "text/plain": [
       "HBox(children=(FloatProgress(value=1.0, bar_style='info', description='Validating', layout=Layout(flex='2'), m…"
      ]
     },
     "metadata": {},
     "output_type": "display_data"
    },
    {
     "name": "stdout",
     "output_type": "stream",
     "text": [
      "\n"
     ]
    }
   ],
   "source": [
    "trainer.fit(module, train_loader, val_loader)\n",
    "trainer.save_checkpoint(os.path.join(trainer.checkpoint_callback.dirpath,\n",
    "                                     \"last.ckpt\"))"
   ]
  },
  {
   "cell_type": "code",
   "execution_count": 18,
   "metadata": {
    "_last_msg_id": "e3d06c63c4d946378da0e16aaf0afb16"
   },
   "outputs": [
    {
     "data": {
      "text/plain": [
       "123"
      ]
     },
     "execution_count": 18,
     "metadata": {},
     "output_type": "execute_result"
    }
   ],
   "source": [
    "123"
   ]
  },
  {
   "cell_type": "code",
   "execution_count": 19,
   "metadata": {
    "_last_msg_id": "88271aa0b02547488bf954e7dad58f93"
   },
   "outputs": [
    {
     "name": "stderr",
     "output_type": "stream",
     "text": [
      "INFO:numexpr.utils:Note: NumExpr detected 12 cores but \"NUMEXPR_MAX_THREADS\" not set, so enforcing safe limit of 8.\n",
      "INFO:numexpr.utils:NumExpr defaulting to 8 threads.\n"
     ]
    },
    {
     "ename": "NameError",
     "evalue": "name 'fname' is not defined",
     "output_type": "error",
     "traceback": [
      "\u001b[0;31m---------------------------------------------------------------------------\u001b[0m",
      "\u001b[0;31mNameError\u001b[0m                                 Traceback (most recent call last)",
      "\u001b[0;32m<ipython-input-19-c1ad46c3050a>\u001b[0m in \u001b[0;36m<module>\u001b[0;34m\u001b[0m\n\u001b[0;32m----> 1\u001b[0;31m \u001b[0mos\u001b[0m\u001b[0;34m.\u001b[0m\u001b[0mpath\u001b[0m\u001b[0;34m.\u001b[0m\u001b[0misfile\u001b[0m\u001b[0;34m(\u001b[0m\u001b[0mfname\u001b[0m\u001b[0;34m)\u001b[0m\u001b[0;34m\u001b[0m\u001b[0;34m\u001b[0m\u001b[0m\n\u001b[0m",
      "\u001b[0;31mNameError\u001b[0m: name 'fname' is not defined"
     ]
    }
   ],
   "source": [
    "os.path.isfile(fname)"
   ]
  },
  {
   "cell_type": "code",
   "execution_count": null,
   "metadata": {},
   "outputs": [],
   "source": []
  }
 ],
 "metadata": {
  "kernelspec": {
   "display_name": "Python 3",
   "language": "python",
   "name": "python3"
  },
  "language_info": {
   "codemirror_mode": {
    "name": "ipython",
    "version": 3
   },
   "file_extension": ".py",
   "mimetype": "text/x-python",
   "name": "python",
   "nbconvert_exporter": "python",
   "pygments_lexer": "ipython3",
   "version": "3.7.4"
  }
 },
 "nbformat": 4,
 "nbformat_minor": 2
}
