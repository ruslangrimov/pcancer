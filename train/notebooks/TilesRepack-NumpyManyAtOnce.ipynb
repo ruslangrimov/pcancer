{
 "cells": [
  {
   "cell_type": "code",
   "execution_count": 1,
   "metadata": {
    "_last_msg_id": "36d8ae5cc0f8467ab21bae9b1f2f21d9"
   },
   "outputs": [],
   "source": [
    "import sys\n",
    "sys.path.append('../..')"
   ]
  },
  {
   "cell_type": "code",
   "execution_count": 2,
   "metadata": {
    "_last_msg_id": "813ec019c0fd4cf19ee0a94cc88b78bc"
   },
   "outputs": [],
   "source": [
    "import cv2\n",
    "\n",
    "import os\n",
    "import psutil\n",
    "\n",
    "import random\n",
    "import math\n",
    "import copy\n",
    "from functools import partial\n",
    "from collections import Counter\n",
    "\n",
    "import torch \n",
    "from torch import optim\n",
    "from torch.optim import lr_scheduler\n",
    "from torch import nn\n",
    "from torch.nn import functional as F\n",
    "\n",
    "import multiprocessing.dummy as mp\n",
    "\n",
    "from pytorch_lightning import Trainer\n",
    "from pytorch_lightning.core import LightningModule\n",
    "from pytorch_lightning.callbacks import ModelCheckpoint\n",
    "from pytorch_lightning.loggers.tensorboard import TensorBoardLogger\n",
    "\n",
    "\n",
    "from lib.schedulers import DelayedScheduler\n",
    "from lib.datasets import (max_lbl_nums, actual_lbl_nums, \n",
    "                          patches_rgb_mean_av1, patches_rgb_std_av1, \n",
    "                          get_train_test_img_ids_split)\n",
    "from lib.dataloaders import PatchesDataset, WSIPatchesDatasetRaw, WSIPatchesDummyDataloader\n",
    "from lib.augmentations import augment_v1_clr_only, augment_empty_clr_only\n",
    "from lib.losses import SmoothLoss\n",
    "from lib.trainers import WSIModuleV1\n",
    "\n",
    "from lib.models.unetv1 import get_model\n",
    "from lib.models.features_map import FeaturesMap, TiledFeaturesMap\n",
    "from lib.models.wsi_resnets import Resnet_64x8x8\n",
    "\n",
    "from sklearn.metrics import cohen_kappa_score\n",
    "\n",
    "from tqdm.auto import tqdm\n",
    "\n",
    "import matplotlib.pyplot as plt"
   ]
  },
  {
   "cell_type": "code",
   "execution_count": 3,
   "metadata": {
    "_last_msg_id": "95f4b472778d4c129b4d945fbd96a9fe"
   },
   "outputs": [],
   "source": [
    "# import cv2\n",
    "import numpy as np\n",
    "# import pandas as pd\n",
    "# from lib.datasets import patches_csv_path, patches_path\n",
    "from lib.datasets import (patches_clean90_csv_path as patches_csv_path, patches_path,\n",
    "                          patches_clean90_pkl_path as patches_pkl_path)\n",
    "# from lib.dataloaders import imread, get_g_score_num, get_provider_num"
   ]
  },
  {
   "cell_type": "code",
   "execution_count": 4,
   "metadata": {
    "_last_msg_id": "a7439d032f304e36bff3b7cf1de8a0a3"
   },
   "outputs": [
    {
     "data": {
      "text/plain": [
       "['e8baa3bb9dcfb9cef5ca599d62bb8046',\n",
       " '9b2948ff81b64677a1a152a1532c1a50',\n",
       " '5b003d43ec0ce5979062442486f84cf7',\n",
       " '375b2c9501320b35ceb638a3274812aa']"
      ]
     },
     "execution_count": 4,
     "metadata": {},
     "output_type": "execute_result"
    }
   ],
   "source": [
    "train_img_ids, test_img_ids = get_train_test_img_ids_split()\n",
    "\n",
    "test_img_ids[:4]"
   ]
  },
  {
   "cell_type": "code",
   "execution_count": 5,
   "metadata": {
    "_last_msg_id": "10e0f681b5c14605b9129630ac4b4cd3"
   },
   "outputs": [],
   "source": [
    "from lib.dataloaders import WSIPatchesDataloader, WSIPatchesDatasetRaw\n",
    "from lib.utils import get_pretrained_model, get_features"
   ]
  },
  {
   "cell_type": "code",
   "execution_count": 6,
   "metadata": {
    "_last_msg_id": "504f64062590467f8d11fec14ff6a8a2"
   },
   "outputs": [],
   "source": [
    "batch_size = 16"
   ]
  },
  {
   "cell_type": "code",
   "execution_count": 7,
   "metadata": {
    "_last_msg_id": "e53c25bc710146c9858cc0e32b1f5d8e"
   },
   "outputs": [],
   "source": [
    "#train_batch_path = '/mnt/HDDData/pdata/processed/pretrained_64x8x8/train/{}/'\n",
    "#test_batch_path = '/mnt/HDDData/pdata/processed/pretrained_64x8x8/val/'\n",
    "\n",
    "train_batch_path = '/mnt/SSDData/pdata/processed/pretrained_64x8x8/train/{}/'\n",
    "test_batch_path = '/mnt/SSDData/pdata/processed/pretrained_64x8x8/val/'\n",
    "\n",
    "train_loader = WSIPatchesDummyDataloader(train_batch_path, precalc_epochs=6, batch_size=batch_size, shuffle=True)\n",
    "val_loader = WSIPatchesDummyDataloader(test_batch_path, precalc_epochs=6, batch_size=batch_size, shuffle=False)"
   ]
  },
  {
   "cell_type": "code",
   "execution_count": 8,
   "metadata": {
    "_last_msg_id": "853cfc4db46a49348ca620f2d874b347"
   },
   "outputs": [],
   "source": [
    "batch = next(iter(train_loader))"
   ]
  },
  {
   "cell_type": "code",
   "execution_count": 9,
   "metadata": {
    "_last_msg_id": "1f710e3b81ee4d1e998bb6ed74f63c1e"
   },
   "outputs": [],
   "source": [
    "features, ys, xs, provider, isup_grade, gleason_score = batch"
   ]
  },
  {
   "cell_type": "code",
   "execution_count": 10,
   "metadata": {
    "_last_msg_id": "e6a4e5388441499e8bc18a43f3294f46"
   },
   "outputs": [],
   "source": [
    "b = 0"
   ]
  },
  {
   "cell_type": "code",
   "execution_count": 101,
   "metadata": {
    "_last_msg_id": "f6246369699e460ca84dda2647a78028"
   },
   "outputs": [],
   "source": [
    "def T(m):\n",
    "    return list(map(list, zip(*m)))\n",
    "\n",
    "def flip_h(m):\n",
    "    return [r[::-1] for r in m]\n",
    "\n",
    "def flip_v(m):\n",
    "    return m[::-1]\n",
    "\n",
    "def d8_transform(m, d8):\n",
    "    if d8 & 0b001:\n",
    "        m = T(m)\n",
    "    if d8 & 0b010:\n",
    "        m = flip_h(m)        \n",
    "    if d8 & 0b100:\n",
    "        m = flip_v(m)  \n",
    "        \n",
    "    return m\n",
    "\n",
    "def get_fg_score(coords, p=2):        \n",
    "    ns = [c[2] for r in coords for c in r if c is not None]\n",
    "    return sum([c**p for c in Counter(ns).values()])\n",
    "\n",
    "def get_bg_score(coords, p=2):\n",
    "    tmp = np.array(coords) == None\n",
    "    dist = cv2.distanceTransform(tmp.astype(np.uint8), cv2.DIST_L1, 5) ** p\n",
    "    return dist.sum()\n",
    "\n",
    "def get_blob(s_idx, s_coords, t_y, t_x, t_coords, n, d8):\n",
    "    def p_coords(c_idx, s_coords, t_start_c, t_coords):\n",
    "            y, x = s_coords[c_idx]\n",
    "\n",
    "            # Координаты относительно таргета                \n",
    "            t_y, t_x = y+t_start_c[0], x+t_start_c[1]\n",
    "            # Если target не занят\n",
    "            if (t_y >= 0 and t_y < len(t_coords) and \n",
    "                t_x >= 0 and t_x < len(t_coords[t_y]) and \n",
    "                t_coords[t_y][t_x] is None):\n",
    "                t_coords[t_y][t_x] = (y, x, n, d8)\n",
    "\n",
    "                del s_coords[c_idx]\n",
    "\n",
    "                # Перебор соседских клеток по периметру\n",
    "                for dy in range(-1, 2, 1):\n",
    "                    for dx in range(-1, 2, 1):\n",
    "                        try:\n",
    "                            c_ = y+dy, x+dx\n",
    "                            c_idx_ = s_coords.index(c_)  # foreground с такими координатами существует\n",
    "                            n_s, n_t = p_coords(c_idx_, s_coords, t_start_c, t_coords)\n",
    "                        except:\n",
    "                            pass\n",
    "    \n",
    "    y, x = s_coords[s_idx]\n",
    "    t_start_c = (-y+t_y, -x+t_x)\n",
    "    \n",
    "    p_coords(s_idx, s_coords, t_start_c, t_coords)\n",
    "\n",
    "def mean_children_score(coords, t_coords, n, c_num, p):\n",
    "    scores = []\n",
    "    for _ in range(c_num):\n",
    "        while len(coords) > 0:\n",
    "            # d8 = 0\n",
    "            d8 = random.randint(0, 7)\n",
    "\n",
    "            s_idx = random.randint(0, len(coords)-1)\n",
    "\n",
    "            t_coords = d8_transform(t_coords, d8)\n",
    "\n",
    "            empty_t_coords = [(n_r, n_c) for n_r, r in enumerate(t_coords) \n",
    "                              for n_c, c in enumerate(r) if c is None]\n",
    "            t_y, t_x = random.choice(empty_t_coords)\n",
    "\n",
    "            n += 1\n",
    "            get_blob(s_idx, coords, t_y, t_x, t_coords, n, d8) \n",
    "\n",
    "        scores.append(get_fg_score(t_coords, p))\n",
    "\n",
    "    return sum(scores) / len(scores)"
   ]
  },
  {
   "cell_type": "code",
   "execution_count": 13,
   "metadata": {
    "_last_msg_id": "47c505258bb54ae09ae3a5c5a5874e71"
   },
   "outputs": [],
   "source": [
    "from scipy import ndimage"
   ]
  },
  {
   "cell_type": "code",
   "execution_count": 15,
   "metadata": {
    "_last_msg_id": "e2a2bc5b01264492b6d5c5ff80003459"
   },
   "outputs": [],
   "source": [
    "#for y in range(20):\n",
    "#    for x in range(20):\n",
    "#        if tmp[y, x] is None:\n",
    "#            tmp[y, x] = (-1, -1, -1, -1)\n",
    "#        t_coords[:, y, x] = tmp[y, x]"
   ]
  },
  {
   "cell_type": "code",
   "execution_count": null,
   "metadata": {
    "_last_msg_id": "c8015b72b9a94a61815088760ce9101f"
   },
   "outputs": [],
   "source": []
  },
  {
   "cell_type": "code",
   "execution_count": 108,
   "metadata": {
    "_last_msg_id": "32f56d297e904a6288a6f0fa17b19c04"
   },
   "outputs": [],
   "source": [
    "def d8_transform(m, d8):\n",
    "    if d8 & 0b001:\n",
    "        m = m.transpose(1, 0, 2)\n",
    "    if d8 & 0b010:\n",
    "        m = m[:, ::-1]        \n",
    "    if d8 & 0b100:\n",
    "        m = m[::-1, :]  \n",
    "        \n",
    "    return m\n",
    "\n",
    "def get_fg_score(img, p=2):        \n",
    "    return (np.unique(img[..., 2], return_counts=True)[1][1:]**p).sum()\n",
    "\n",
    "def get_bg_score(img, p=2):\n",
    "    tmp = (img[..., 0] == -1).astype(np.uint8)\n",
    "    dist_sum = (cv2.distanceTransform(tmp, cv2.DIST_L1, 5)**p).sum()\n",
    "    return dist_sum"
   ]
  },
  {
   "cell_type": "code",
   "execution_count": 109,
   "metadata": {
    "_last_msg_id": "918d7ae60e8d4e81928341e049f9b3f1"
   },
   "outputs": [],
   "source": [
    "#b = -1"
   ]
  },
  {
   "cell_type": "code",
   "execution_count": 110,
   "metadata": {
    "_last_msg_id": "5b7de70a0bdb4aab91632f8b3efbb0f1"
   },
   "outputs": [],
   "source": [
    "#b += 1\n",
    "\n",
    "r_mask = ys[b] > - 1\n",
    "\n",
    "y_min, x_min = ys[b, r_mask].min(), xs[b, r_mask].min()\n",
    "y_max, x_max = ys[b, r_mask].max(), xs[b, r_mask].max()\n",
    "\n",
    "s_h = y_max - y_min + 1\n",
    "s_w = x_max - x_min + 1\n",
    "\n",
    "t_h, t_w = 20, 20\n",
    "\n",
    "m_pad = t_w"
   ]
  },
  {
   "cell_type": "code",
   "execution_count": 111,
   "metadata": {
    "_last_msg_id": "f2a2e03c0eb54eff867b9d6f9ee484de"
   },
   "outputs": [],
   "source": [
    "p = 1.4\n",
    "p0, p1 = 1.4, 1"
   ]
  },
  {
   "cell_type": "code",
   "execution_count": 112,
   "metadata": {
    "_last_msg_id": "deac4466bba04f428741703d83b8c847"
   },
   "outputs": [],
   "source": [
    "n_ys = (ys[b, r_mask]-y_min)\n",
    "n_xs = (xs[b, r_mask]-x_min)"
   ]
  },
  {
   "cell_type": "code",
   "execution_count": 133,
   "metadata": {
    "_last_msg_id": "42d518d2030e4932b133e3b70df3d747"
   },
   "outputs": [],
   "source": [
    "t_img = np.full((t_h, t_w, 4), -1, dtype=np.int16)\n",
    "\n",
    "s_img = np.zeros((s_h, s_w), dtype=np.uint8)\n",
    "s_img[n_ys, n_xs] = 1"
   ]
  },
  {
   "cell_type": "code",
   "execution_count": null,
   "metadata": {},
   "outputs": [],
   "source": []
  },
  {
   "cell_type": "code",
   "execution_count": 134,
   "metadata": {
    "_last_msg_id": "f4e9c3248ff443258103a91cbc62737c"
   },
   "outputs": [
    {
     "name": "stdout",
     "output_type": "stream",
     "text": [
      "CPU times: user 236 ms, sys: 0 ns, total: 236 ms\n",
      "Wall time: 235 ms\n"
     ]
    }
   ],
   "source": [
    "%%time\n",
    "\n",
    "n = 0\n",
    "a = 200\n",
    "mask = np.ones((s_h+2*m_pad, s_w+2*m_pad), dtype=np.uint8)\n",
    "\n",
    "while s_img.max() != 0:\n",
    "    c_s_img = s_img[None, ...].repeat(a, 0)\n",
    "    c_t_img = t_img[None, ...].repeat(a, 0) \n",
    "    \n",
    "    d8 = np.random.randint(8, size=(a,))\n",
    "    # c_t_img = d8_transform(c_t_img, d8)\n",
    "    \n",
    "    t_empty_mask = t_img[..., 0] == -1\n",
    "    \n",
    "    t_empty_ys, t_empty_xs = np.where(t_empty_mask)\n",
    "    r = np.random.randint(len(t_empty_ys), size=(a,))\n",
    "    t_y, t_x = t_empty_ys[r], t_empty_xs[r]   \n",
    "    \n",
    "    s_fg_ys, s_fg_xs = np.where(s_img != 0)\n",
    "    r = np.random.randint(len(s_fg_ys), size=(a,))\n",
    "    s_y, s_x = s_fg_ys[r], s_fg_xs[r]\n",
    "    \n",
    "    m_y = s_y+m_pad-t_y\n",
    "    m_x = s_x+m_pad-t_x\n",
    "    \n",
    "    scores = []\n",
    "    for i in range(a):\n",
    "        mask.fill(1)\n",
    "        mask[m_y[i]:m_y[i]+t_h, m_x[i]:m_x[i]+t_w] = ~t_empty_mask\n",
    "        \n",
    "        fimg = cv2.floodFill(c_s_img[i], mask[m_pad-1:-m_pad+1, m_pad-1:-m_pad+1], \n",
    "                             (s_x[i], s_y[i]), 2, flags=8) \n",
    "        \n",
    "        if fimg[0] > 0:\n",
    "            blob_yxs = np.where(fimg[1] == 2)\n",
    "            c_t_img[i, blob_yxs[0]-s_y[i]+t_y[i], blob_yxs[1]-s_x[i]+t_x[i]] =\\\n",
    "                np.stack(blob_yxs + (np.full_like(blob_yxs[0], n+1), \n",
    "                                     np.full_like(blob_yxs[0], d8[i])), axis=-1)\n",
    "\n",
    "            c_s_img[c_s_img == 2] = 0\n",
    "        else:\n",
    "            print(\"WTF?\")\n",
    "\n",
    "        scores.append(get_fg_score(c_t_img[i], p0) + 0.5 * get_bg_score(c_t_img[i], p1)**0.5)\n",
    "        \n",
    "    scores = np.array(scores)\n",
    "    \n",
    "    best_i = scores.argmax()\n",
    "\n",
    "    s_img, t_img = c_s_img[best_i], c_t_img[best_i]\n",
    "    n += 1"
   ]
  },
  {
   "cell_type": "code",
   "execution_count": 135,
   "metadata": {
    "_last_msg_id": "5c469981d4d144b78e76d49a1947df84"
   },
   "outputs": [
    {
     "data": {
      "image/png": "[encoded data removed]",
      "text/plain": [
       "<Figure size 432x288 with 1 Axes>"
      ]
     },
     "metadata": {
      "needs_background": "light"
     },
     "output_type": "display_data"
    }
   ],
   "source": [
    "plt.imshow(t_img[..., 2]);"
   ]
  },
  {
   "cell_type": "code",
   "execution_count": null,
   "metadata": {},
   "outputs": [],
   "source": []
  },
  {
   "cell_type": "code",
   "execution_count": 124,
   "metadata": {
    "_last_msg_id": "b8fd7f386c82438bae81993617fe2eed"
   },
   "outputs": [],
   "source": [
    "t_img = np.full((t_h, t_w, 4), -1, dtype=np.int16)\n",
    "\n",
    "s_img = np.zeros((s_h, s_w), dtype=np.uint8)\n",
    "s_img[n_ys, n_xs] = 1"
   ]
  },
  {
   "cell_type": "code",
   "execution_count": 125,
   "metadata": {
    "_last_msg_id": "4af2dc21477b457bbb2af58ff2b58822"
   },
   "outputs": [
    {
     "name": "stdout",
     "output_type": "stream",
     "text": [
      "CPU times: user 227 ms, sys: 0 ns, total: 227 ms\n",
      "Wall time: 226 ms\n"
     ]
    }
   ],
   "source": [
    "%%time\n",
    "\n",
    "sequence = []\n",
    "n = 0\n",
    "mask = np.ones((s_h+2*m_pad, s_w+2*m_pad), dtype=np.uint8)\n",
    "\n",
    "while s_img.max() != 0:\n",
    "    best_step = None\n",
    "    best_score = -99999999  \n",
    "    \n",
    "    for a in range(200):\n",
    "        c_s_img = s_img.copy()\n",
    "        c_t_img = t_img.copy()\n",
    "\n",
    "        d8 = random.randint(0, 7)\n",
    "        c_t_img = d8_transform(c_t_img, d8)\n",
    "        \n",
    "        t_empty_mask = c_t_img[..., 0] == -1\n",
    "\n",
    "        t_empty_ys, t_empty_xs = np.where(t_empty_mask)\n",
    "        r = random.randint(0, len(t_empty_ys)-1)\n",
    "        t_y, t_x = t_empty_ys[r], t_empty_xs[r]\n",
    "\n",
    "        s_fg_ys, s_fg_xs = np.where(c_s_img != 0)\n",
    "        r = random.randint(0, len(s_fg_ys)-1)\n",
    "        s_y, s_x = s_fg_ys[r], s_fg_xs[r]\n",
    "\n",
    "        mask.fill(1)\n",
    "\n",
    "        m_y = s_y+m_pad-t_y\n",
    "        m_x = s_x+m_pad-t_x\n",
    "\n",
    "        mask[m_y:m_y+t_h, m_x:m_x+t_w] = ~t_empty_mask\n",
    "\n",
    "        fimg = cv2.floodFill(c_s_img, mask[m_pad-1:-m_pad+1, m_pad-1:-m_pad+1], \n",
    "                             (s_x, s_y), 2, flags=8)\n",
    "\n",
    "        if fimg[0] > 0:\n",
    "            blob_yxs = np.where(fimg[1] == 2)\n",
    "            c_t_img[blob_yxs[0]-s_y+t_y, blob_yxs[1]-s_x+t_x] =\\\n",
    "                    np.stack(blob_yxs + (np.full_like(blob_yxs[0], n+1), \n",
    "                                         np.full_like(blob_yxs[0], d8)), axis=-1)\n",
    "\n",
    "            c_s_img[c_s_img == 2] = 0\n",
    "        else:\n",
    "            print(\"WTF?\")\n",
    "\n",
    "        score = get_fg_score(c_t_img, p0) + 0.5 * get_bg_score(c_t_img, p1)**0.5\n",
    "        \n",
    "        if score > best_score:\n",
    "            best_state = c_s_img, c_t_img\n",
    "            best_score = score\n",
    "            \n",
    "    s_img, t_img = best_state\n",
    "    n += 1\n",
    "\n",
    "    #if c_s_img.max() == 0:\n",
    "    #    break"
   ]
  },
  {
   "cell_type": "code",
   "execution_count": null,
   "metadata": {},
   "outputs": [],
   "source": []
  },
  {
   "cell_type": "code",
   "execution_count": null,
   "metadata": {},
   "outputs": [],
   "source": []
  },
  {
   "cell_type": "code",
   "execution_count": 95,
   "metadata": {
    "_last_msg_id": "dad65463f6e94d0187ce4a9776f8eed5"
   },
   "outputs": [
    {
     "data": {
      "text/plain": [
       "1834028.564998508"
      ]
     },
     "execution_count": 95,
     "metadata": {},
     "output_type": "execute_result"
    }
   ],
   "source": [
    "get_fg_score(c_t_img, p)"
   ]
  },
  {
   "cell_type": "code",
   "execution_count": null,
   "metadata": {},
   "outputs": [],
   "source": []
  },
  {
   "cell_type": "code",
   "execution_count": 264,
   "metadata": {
    "_last_msg_id": "5c9f05774c704ca59665f8af9fdcdcfd"
   },
   "outputs": [],
   "source": [
    "#b = -1"
   ]
  },
  {
   "cell_type": "code",
   "execution_count": 265,
   "metadata": {
    "_last_msg_id": "b2549e2f4d5142e9b63167924cdab285"
   },
   "outputs": [],
   "source": [
    "#b += 1\n",
    "\n",
    "r_mask = ys[b] > - 1\n",
    "\n",
    "y_min, x_min = ys[b, r_mask].min(), xs[b, r_mask].min()\n",
    "y_max, x_max = ys[b, r_mask].max(), xs[b, r_mask].max()\n",
    "\n",
    "s_h = y_max - y_min + 1\n",
    "s_w = x_max - x_min + 1\n",
    "\n",
    "t_h, t_w = 20, 20"
   ]
  },
  {
   "cell_type": "code",
   "execution_count": 1008,
   "metadata": {
    "_last_msg_id": "5e38e007cb324a268f7ca8025b2153db"
   },
   "outputs": [],
   "source": []
  },
  {
   "cell_type": "code",
   "execution_count": 96,
   "metadata": {
    "_last_msg_id": "718f356258c44f1b840b9c5818e48be9"
   },
   "outputs": [],
   "source": [
    "n_ys = (ys[b, r_mask]-y_min).tolist()\n",
    "n_xs = (xs[b, r_mask]-x_min).tolist()"
   ]
  },
  {
   "cell_type": "code",
   "execution_count": 97,
   "metadata": {
    "_last_msg_id": "2965a98694ac4e59891966cc7c2212dc"
   },
   "outputs": [],
   "source": [
    "p = 1.4"
   ]
  },
  {
   "cell_type": "code",
   "execution_count": 98,
   "metadata": {
    "_last_msg_id": "20160fdeb1ca46f68acb459af0deaed6"
   },
   "outputs": [],
   "source": [
    "p0, p1 = 1.4, 1"
   ]
  },
  {
   "cell_type": "code",
   "execution_count": 106,
   "metadata": {
    "_last_msg_id": "1df5cf197c454e088b85bcb49376d4ab"
   },
   "outputs": [],
   "source": [
    "t_coords = [[None for _ in range(t_w)] for _ in range(t_h)] \n",
    "coords = list(zip(n_ys, n_xs))\n",
    "\n",
    "sequence = []\n",
    "\n",
    "n = 0"
   ]
  },
  {
   "cell_type": "code",
   "execution_count": 107,
   "metadata": {
    "_last_msg_id": "e196a144930f41d7a44f9a353cd71636",
    "scrolled": true
   },
   "outputs": [
    {
     "name": "stdout",
     "output_type": "stream",
     "text": [
      "CPU times: user 1.72 s, sys: 0 ns, total: 1.72 s\n",
      "Wall time: 1.72 s\n"
     ]
    }
   ],
   "source": [
    "%%time\n",
    "\n",
    "while len(coords) > 0:\n",
    "    best_step = None\n",
    "    best_score = -99999999\n",
    "\n",
    "    for a in range(200):\n",
    "        c_coords = copy.deepcopy(coords)\n",
    "        c_t_coords = copy.deepcopy(t_coords)        \n",
    "        \n",
    "        # d8 = 0\n",
    "        d8 = random.randint(0, 7)\n",
    "\n",
    "        s_idx = random.randint(0, len(coords)-1)\n",
    "        if a % 4 == 0 and best_step is not None:\n",
    "            s_idx, *_ = best_step\n",
    "\n",
    "        c_t_coords = d8_transform(c_t_coords, d8)\n",
    "\n",
    "        empty_t_coords = [(n_r, n_c) for n_r, r in enumerate(t_coords) \n",
    "                          for n_c, c in enumerate(r) if c is None]\n",
    "        t_y, t_x = random.choice(empty_t_coords)\n",
    "        \n",
    "        get_blob(s_idx, c_coords, t_y, t_x, c_t_coords, n+1, d8)\n",
    "        \n",
    "        # score = mean_children_score(c_coords, c_t_coords, n+1, 40, p0)\n",
    "        score = get_fg_score(c_t_coords, p0) + 0.1*get_bg_score(c_t_coords)**0.5\n",
    "\n",
    "        if score > best_score:\n",
    "            best_step = s_idx, d8, t_y, t_x\n",
    "            best_score = score\n",
    "            \n",
    "    sequence.append(best_step)\n",
    "    s_idx, d8, t_y, t_x = best_step\n",
    "    n += 1\n",
    "    t_coords = d8_transform(t_coords, d8)\n",
    "    get_blob(s_idx, coords, t_y, t_x, t_coords, n, d8)\n",
    "    \n",
    "    # break"
   ]
  },
  {
   "cell_type": "code",
   "execution_count": 1014,
   "metadata": {
    "_last_msg_id": "85a7cd25f3ed495b88d7143831353e62"
   },
   "outputs": [
    {
     "data": {
      "text/plain": [
       "763.8988076286804"
      ]
     },
     "execution_count": 1014,
     "metadata": {},
     "output_type": "execute_result"
    }
   ],
   "source": [
    "get_fg_score(t_coords, p)"
   ]
  },
  {
   "cell_type": "code",
   "execution_count": 905,
   "metadata": {
    "_last_msg_id": "1081d15a1988477b84e00dd46ced4071"
   },
   "outputs": [],
   "source": [
    "t_coords = [[None for _ in range(t_w)] for _ in range(t_h)] \n",
    "coords = list(zip(n_ys, n_xs))\n",
    "\n",
    "for n, (s_idx, d8, t_y, t_x) in enumerate(sequence):\n",
    "    t_coords = d8_transform(t_coords, d8)\n",
    "    get_blob(s_idx, coords, t_y, t_x, t_coords, n+1, d8) "
   ]
  },
  {
   "cell_type": "code",
   "execution_count": 906,
   "metadata": {
    "_last_msg_id": "68d89b66ba2e4f3c8234e14874dff74e"
   },
   "outputs": [
    {
     "data": {
      "text/plain": [
       "925.8393856066778"
      ]
     },
     "execution_count": 906,
     "metadata": {},
     "output_type": "execute_result"
    }
   ],
   "source": [
    "get_fg_score(t_coords, p)"
   ]
  },
  {
   "cell_type": "code",
   "execution_count": 907,
   "metadata": {
    "_last_msg_id": "d7b486ac10df4c169ebc094f084e2f82"
   },
   "outputs": [],
   "source": [
    "s_img = np.zeros((s_h, s_w)) - 1\n",
    "t_img = np.zeros((t_h, t_w)) - 1\n",
    "\n",
    "s_img[ys[b, r_mask]-y_min, xs[b, r_mask]-x_min] = 0\n",
    "\n",
    "for n_r, r in enumerate(t_coords):\n",
    "    for n_c, tmp in enumerate(r):\n",
    "        if tmp is not None:\n",
    "            y, x, n, d8 = tmp\n",
    "            t_img[n_r, n_c] = n\n",
    "            s_img[y, x] = n"
   ]
  },
  {
   "cell_type": "code",
   "execution_count": 908,
   "metadata": {
    "_last_msg_id": "9438a147c22a4aee9bcbb0ffaed9146f"
   },
   "outputs": [
    {
     "data": {
      "image/png": "[encoded data removed]",
      "text/plain": [
       "<Figure size 432x288 with 1 Axes>"
      ]
     },
     "metadata": {
      "needs_background": "light"
     },
     "output_type": "display_data"
    }
   ],
   "source": [
    "plt.imshow(t_img, cmap='jet');"
   ]
  },
  {
   "cell_type": "code",
   "execution_count": 909,
   "metadata": {
    "_last_msg_id": "cee3fef739ed401791dbce20c96749db"
   },
   "outputs": [
    {
     "data": {
      "image/png": "[encoded data removed]",
      "text/plain": [
       "<Figure size 432x288 with 1 Axes>"
      ]
     },
     "metadata": {
      "needs_background": "light"
     },
     "output_type": "display_data"
    }
   ],
   "source": [
    "plt.imshow(s_img, cmap='jet');"
   ]
  },
  {
   "cell_type": "code",
   "execution_count": 896,
   "metadata": {
    "_last_msg_id": "df8d56e5196549ce88a54cc1e1acd37e"
   },
   "outputs": [
    {
     "data": {
      "text/plain": [
       "183"
      ]
     },
     "execution_count": 896,
     "metadata": {},
     "output_type": "execute_result"
    }
   ],
   "source": [
    "(s_img > -1).sum()"
   ]
  },
  {
   "cell_type": "code",
   "execution_count": 897,
   "metadata": {
    "_last_msg_id": "cb8c3e0cb1784875b5c0db967ac64152"
   },
   "outputs": [
    {
     "data": {
      "text/plain": [
       "array([-1.,  0.,  1.,  3.,  4.,  5.])"
      ]
     },
     "execution_count": 897,
     "metadata": {},
     "output_type": "execute_result"
    }
   ],
   "source": [
    "np.unique(s_img)"
   ]
  },
  {
   "cell_type": "code",
   "execution_count": 898,
   "metadata": {
    "_last_msg_id": "953452cf056144ec88d7e12b3629a3e1"
   },
   "outputs": [
    {
     "data": {
      "image/png": "[encoded data removed]",
      "text/plain": [
       "<Figure size 432x288 with 1 Axes>"
      ]
     },
     "metadata": {
      "needs_background": "light"
     },
     "output_type": "display_data"
    }
   ],
   "source": [
    "plt.imshow(s_img == 0);"
   ]
  },
  {
   "cell_type": "code",
   "execution_count": null,
   "metadata": {},
   "outputs": [],
   "source": []
  },
  {
   "cell_type": "code",
   "execution_count": null,
   "metadata": {},
   "outputs": [],
   "source": []
  },
  {
   "cell_type": "code",
   "execution_count": null,
   "metadata": {},
   "outputs": [],
   "source": [
    "#genome = []\n",
    "#for _ in range(1000):\n",
    "#    genome.append(((random.randint(0, s_h-1), random.randint(0, s_w-1)), \n",
    "#                   (random.randint(0, t_h-1), random.randint(0, t_w-1)),\n",
    "#                   random.randint(0, 7)))\n",
    "\n",
    "n = 0\n",
    "for ((s_y, s_x), (t_y, t_x), d8) in genome:\n",
    "    if t_coords[t_y][t_x] is not None:\n",
    "        continue   \n",
    "        \n",
    "    if (s_y, s_x) not in coords:\n",
    "        continue     \n",
    "        \n",
    "    t_coords = d8_transform(t_coords, d8)    \n",
    "    s_idx = coords.index((s_y, s_x))\n",
    "    n += 1\n",
    "    get_blob(s_idx, coords, t_y, t_x, t_coords, n, d8)"
   ]
  }
 ],
 "metadata": {
  "kernelspec": {
   "display_name": "Python 3",
   "language": "python",
   "name": "python3"
  },
  "language_info": {
   "codemirror_mode": {
    "name": "ipython",
    "version": 3
   },
   "file_extension": ".py",
   "mimetype": "text/x-python",
   "name": "python",
   "nbconvert_exporter": "python",
   "pygments_lexer": "ipython3",
   "version": "3.7.4"
  }
 },
 "nbformat": 4,
 "nbformat_minor": 2
}
