{
 "cells": [
  {
   "cell_type": "code",
   "execution_count": 1,
   "metadata": {
    "_last_msg_id": "50149339842141e29f854563efbd1627"
   },
   "outputs": [],
   "source": [
    "import sys\n",
    "import os\n",
    "\n",
    "import random\n",
    "import math\n",
    "\n",
    "import torch \n",
    "from torch import optim\n",
    "from torch.optim import lr_scheduler\n",
    "from torch import nn\n",
    "from torch.nn import functional as F\n",
    "\n",
    "from pytorch_lightning import Trainer\n",
    "from pytorch_lightning.core import LightningModule\n",
    "from pytorch_lightning.callbacks import ModelCheckpoint\n",
    "from pytorch_lightning.loggers.tensorboard import TensorBoardLogger\n",
    "\n",
    "sys.path.append('../..')\n",
    "from lib.schedulers import DelayedScheduler\n",
    "from lib.datasets import (max_lbl_nums, actual_lbl_nums, \n",
    "                          patches_rgb_mean_av1, patches_rgb_std_av1, \n",
    "                          get_train_test_img_ids_split)\n",
    "from lib.dataloaders import PatchesDataset, WSIPatchesDatasetRaw\n",
    "from lib.augmentations import augment_v1_clr_only, augment_empty_clr_only\n",
    "from lib.losses import SmoothLoss\n",
    "\n",
    "from lib.models.unetv1 import get_model\n",
    "\n",
    "from sklearn.metrics import cohen_kappa_score"
   ]
  },
  {
   "cell_type": "code",
   "execution_count": 2,
   "metadata": {
    "_last_msg_id": "5b3de49c28a24ef0851c5bb4594f1f60"
   },
   "outputs": [],
   "source": [
    "# import cv2\n",
    "import numpy as np\n",
    "# import pandas as pd\n",
    "# from lib.datasets import patches_csv_path, patches_path\n",
    "from lib.datasets import patches_clean90_csv_path as patches_csv_path, patches_path\n",
    "# from lib.dataloaders import imread, get_g_score_num, get_provider_num"
   ]
  },
  {
   "cell_type": "code",
   "execution_count": 3,
   "metadata": {
    "_last_msg_id": "27329f9df47c44b6883528c0c3518267"
   },
   "outputs": [],
   "source": [
    "train_img_ids, test_img_ids = get_train_test_img_ids_split()"
   ]
  },
  {
   "cell_type": "code",
   "execution_count": 4,
   "metadata": {
    "_last_msg_id": "3ba93c23c0cd40c6a6df388b27004c2e"
   },
   "outputs": [
    {
     "data": {
      "text/plain": [
       "8420"
      ]
     },
     "execution_count": 4,
     "metadata": {},
     "output_type": "execute_result"
    }
   ],
   "source": [
    "len(train_img_ids)"
   ]
  },
  {
   "cell_type": "code",
   "execution_count": 5,
   "metadata": {
    "_last_msg_id": "31a8ff7ed0da4e5fb628b0d72677b48e"
   },
   "outputs": [
    {
     "data": {
      "text/plain": [
       "['e8baa3bb9dcfb9cef5ca599d62bb8046',\n",
       " '9b2948ff81b64677a1a152a1532c1a50',\n",
       " '5b003d43ec0ce5979062442486f84cf7',\n",
       " '375b2c9501320b35ceb638a3274812aa']"
      ]
     },
     "execution_count": 5,
     "metadata": {},
     "output_type": "execute_result"
    }
   ],
   "source": [
    "test_img_ids[:4]"
   ]
  },
  {
   "cell_type": "code",
   "execution_count": 6,
   "metadata": {
    "_last_msg_id": "efc2c1909e444f1b9465d185652e3522"
   },
   "outputs": [],
   "source": [
    "class WSIPatchesDataset1D(WSIPatchesDatasetRaw):\n",
    "    def __init__(self, image_ids, csv_path=patches_csv_path,\n",
    "                 path=patches_path, scale=1, transform=None, max_len=300):\n",
    "        super().__init__(image_ids, csv_path, patches_path, scale, transform)\n",
    "        self.max_len = max_len\n",
    "\n",
    "    def __getitem__(self, idx):\n",
    "        def trim(x):\n",
    "            return x[:self.max_len]\n",
    "        \n",
    "        def pad(x):\n",
    "            return np.pad(x[:self.max_len], ((0, self.max_len-p),)+((0, 0),)*(len(x.shape)-1), constant_values=-1)\n",
    "        \n",
    "        imgs, ys, xs, provider, isup_grade, gleason_score =\\\n",
    "            super().__getitem__(idx)\n",
    "        \n",
    "        p = imgs.shape[0]\n",
    "        if p > self.max_len:\n",
    "            imgs, ys, xs = trim(imgs), trim(ys), trim(xs)\n",
    "        elif p < self.max_len:\n",
    "            imgs, ys, xs = pad(imgs), pad(ys), pad(xs)\n",
    "        else:\n",
    "            pass\n",
    "\n",
    "        return imgs, ys, xs, provider, isup_grade, gleason_score\n",
    "    \n",
    "    \n",
    "class LambdaLayer(nn.Module):\n",
    "    def __init__(self, lambd):\n",
    "        super(LambdaLayer, self).__init__()\n",
    "        self.lambd = lambd\n",
    "    def forward(self, x):\n",
    "        return self.lambd(x)"
   ]
  },
  {
   "cell_type": "code",
   "execution_count": 7,
   "metadata": {
    "_last_msg_id": "59992abbc96f4674bd271b24a9d8da07"
   },
   "outputs": [],
   "source": [
    "max_len = 300"
   ]
  },
  {
   "cell_type": "code",
   "execution_count": 8,
   "metadata": {
    "_last_msg_id": "401620d827a44dbd871281c58089c6d8"
   },
   "outputs": [],
   "source": [
    "rgb_mean, rgb_std = (torch.tensor(patches_rgb_mean_av1, dtype=torch.float32), \n",
    "                     torch.tensor(patches_rgb_std_av1, dtype=torch.float32))"
   ]
  },
  {
   "cell_type": "code",
   "execution_count": 9,
   "metadata": {
    "_last_msg_id": "c5173b682a7a49e18addd452a4156ce0"
   },
   "outputs": [],
   "source": [
    "# imgs, ys, xs, provider, isup_grade, gleason_score = next(iter(train_wsipatches_dataset))"
   ]
  },
  {
   "cell_type": "code",
   "execution_count": 10,
   "metadata": {
    "_last_msg_id": "2a470cc4adca4823bfbe7d4b803cd56e"
   },
   "outputs": [],
   "source": [
    "patches_device = torch.device('cuda:0')\n",
    "# patches_device = torch.device('cpu')\n",
    "main_device = torch.device('cuda:1')"
   ]
  },
  {
   "cell_type": "code",
   "execution_count": 11,
   "metadata": {
    "_last_msg_id": "899808b83feb4d659604aa941d01d3b1"
   },
   "outputs": [],
   "source": [
    "tmp = torch.load(\"../Patches256TestRun/version_0/checkpoints/last.ckpt\", map_location=patches_device)"
   ]
  },
  {
   "cell_type": "code",
   "execution_count": 12,
   "metadata": {
    "_last_msg_id": "c0e8c0c848244bd7b33bfea4c0e3a57d"
   },
   "outputs": [],
   "source": [
    "# model = get_model(actual_lbl_nums, decoder=False, labels=False)\n",
    "model = get_model(actual_lbl_nums)"
   ]
  },
  {
   "cell_type": "code",
   "execution_count": 13,
   "metadata": {
    "_last_msg_id": "916ac75809df4148887549038d473691"
   },
   "outputs": [],
   "source": [
    "module = nn.Sequential()"
   ]
  },
  {
   "cell_type": "code",
   "execution_count": 14,
   "metadata": {
    "_last_msg_id": "1046301380414c9584b50809d00155b5"
   },
   "outputs": [],
   "source": [
    "module.add_module('model', model)"
   ]
  },
  {
   "cell_type": "code",
   "execution_count": 15,
   "metadata": {
    "_last_msg_id": "cc4a11906e9f488d8bed38a88fb150fa"
   },
   "outputs": [],
   "source": [
    "module.to(patches_device);"
   ]
  },
  {
   "cell_type": "code",
   "execution_count": 16,
   "metadata": {
    "_last_msg_id": "31abba62c9c14884839e707919eaad7d"
   },
   "outputs": [
    {
     "data": {
      "text/plain": [
       "<All keys matched successfully>"
      ]
     },
     "execution_count": 16,
     "metadata": {},
     "output_type": "execute_result"
    }
   ],
   "source": [
    "module.load_state_dict(tmp['state_dict'])"
   ]
  },
  {
   "cell_type": "code",
   "execution_count": 17,
   "metadata": {
    "_last_msg_id": "0b0f923a54cb438a84f963c24e868b7a"
   },
   "outputs": [],
   "source": [
    "model.segmentation = False\n",
    "model.classification_head = None\n",
    "model.autodecoder = None"
   ]
  },
  {
   "cell_type": "code",
   "execution_count": 18,
   "metadata": {
    "_last_msg_id": "2f53b03516a648589fb0ce99ad293123"
   },
   "outputs": [],
   "source": [
    "module.eval();"
   ]
  },
  {
   "cell_type": "code",
   "execution_count": 19,
   "metadata": {
    "_last_msg_id": "c191188c2db24d1eb64982f7155c228b"
   },
   "outputs": [],
   "source": [
    "rgb_mean = rgb_mean.to(patches_device)\n",
    "rgb_std = rgb_std.to(patches_device)"
   ]
  },
  {
   "cell_type": "code",
   "execution_count": 20,
   "metadata": {
    "_last_msg_id": "f7640b2f24554ccc81c4cf9470935d6c"
   },
   "outputs": [],
   "source": [
    "from time import time"
   ]
  },
  {
   "cell_type": "code",
   "execution_count": 21,
   "metadata": {
    "_last_msg_id": "687e78734cd14191b086b8c7fae4dbba"
   },
   "outputs": [],
   "source": [
    "features_batch_size = 128"
   ]
  },
  {
   "cell_type": "code",
   "execution_count": 22,
   "metadata": {
    "_last_msg_id": "55479185908d4e4483f38421bedcda77"
   },
   "outputs": [],
   "source": [
    "def get_features(imgs):\n",
    "    imgs = imgs.to(patches_device)\n",
    "    n_imgs = (imgs - rgb_mean) / rgb_std\n",
    "    \n",
    "    b_features = []\n",
    "    for b in range(0, n_imgs.shape[0], features_batch_size):\n",
    "        with torch.no_grad():\n",
    "            features, *_ = model(n_imgs[b:b+features_batch_size], return_features=True)\n",
    "            b_features.append(features)\n",
    "\n",
    "    features = torch.cat(b_features, dim=0)\n",
    "    \n",
    "    return features"
   ]
  },
  {
   "cell_type": "code",
   "execution_count": 23,
   "metadata": {
    "_last_msg_id": "3b994d0415444f8382b1058a65e7adad"
   },
   "outputs": [],
   "source": [
    "class MainBatchGenerator1D:\n",
    "    def __init__(self, img_ids, batch_size, patches_batch_size, shuffle, num_workers, max_len, \n",
    "                 patches_csv_path, scale, transform):\n",
    "        self.batch_size = batch_size\n",
    "        self.patches_batch_size = patches_batch_size\n",
    "        \n",
    "        train_wsipatches_dataset = WSIPatchesDataset1D(img_ids, patches_csv_path, \n",
    "                                                       patches_path, scale=scale, \n",
    "                                                       transform=transform,\n",
    "                                                       max_len=max_len)\n",
    "\n",
    "        self.train_loader = torch.utils.data.DataLoader(\n",
    "            train_wsipatches_dataset,\n",
    "            batch_size=patches_batch_size, shuffle=shuffle,\n",
    "            num_workers=num_workers, pin_memory=True,\n",
    "        )\n",
    "        \n",
    "    def __len__(self):\n",
    "        return math.ceil(len(self.train_loader) * self.patches_batch_size / self.batch_size)\n",
    "        \n",
    "    def __iter__(self):\n",
    "        patches_iter = iter(self.train_loader)\n",
    "        stop_iteration = False\n",
    "        \n",
    "        while not stop_iteration:\n",
    "            main_features = []\n",
    "            main_isup_grade = []\n",
    "            for _ in range(0, self.batch_size, self.patches_batch_size):\n",
    "                try:\n",
    "                    imgs, ys, xs, provider, isup_grade, gleason_score = next(patches_iter)\n",
    "                except StopIteration:\n",
    "                    print(\"Epoch end\")\n",
    "                    stop_iteration = True\n",
    "                    break\n",
    "\n",
    "                real_mask = ys != -1\n",
    "                features = torch.zeros((imgs.shape[0], max_len, 512, 8, 8), \n",
    "                                       dtype=torch.float32, device=patches_device)\n",
    "                if real_mask.any():\n",
    "                    imgs = imgs[real_mask]   \n",
    "\n",
    "                    real_features = get_features(imgs)\n",
    "                    features[real_mask] = real_features\n",
    "\n",
    "                #main_features.append(features.cpu())\n",
    "                #main_isup_grade.append(isup_grade.cpu())\n",
    "                main_features.append(features)\n",
    "                main_isup_grade.append(isup_grade)\n",
    "                \n",
    "            main_features = torch.cat(main_features)\n",
    "            main_isup_grade = torch.cat(main_isup_grade)\n",
    "\n",
    "            yield main_features, main_isup_grade"
   ]
  },
  {
   "cell_type": "code",
   "execution_count": 24,
   "metadata": {
    "_last_msg_id": "e1c99dd4108447b48fa8cb95e87b12a7"
   },
   "outputs": [],
   "source": [
    "f_d_rate = 0.5\n",
    "d_rate = 0.4\n",
    "\n",
    "main_model = nn.Sequential(\n",
    "    #nn.Dropout(f_d_rate),\n",
    "    \n",
    "    nn.Conv1d(512, 64, 1),\n",
    "    #nn.Conv1d(512*8*8, 64, 1),\n",
    "    nn.ReLU(inplace=True),\n",
    "    #nn.Dropout(d_rate),\n",
    "    nn.BatchNorm1d(64),\n",
    "    \n",
    "    nn.Conv1d(64, 64, 1),\n",
    "    nn.ReLU(inplace=True),\n",
    "    #nn.Dropout(d_rate),\n",
    "    nn.BatchNorm1d(64),\n",
    "    \n",
    "    nn.AdaptiveMaxPool1d(1),\n",
    "    LambdaLayer(lambda x: x.view(-1, 64)),\n",
    "    \n",
    "    nn.Linear(64, 64),\n",
    "    nn.ReLU(inplace=True),\n",
    "    #nn.Dropout(d_rate),\n",
    "    nn.BatchNorm1d(64),\n",
    "    \n",
    "    nn.Linear(64, max_lbl_nums)\n",
    ").to(main_device)"
   ]
  },
  {
   "cell_type": "code",
   "execution_count": 25,
   "metadata": {
    "_last_msg_id": "7410741478a14a4580a0d66463610a8f"
   },
   "outputs": [
    {
     "data": {
      "text/plain": [
       "41926"
      ]
     },
     "execution_count": 25,
     "metadata": {},
     "output_type": "execute_result"
    }
   ],
   "source": [
    "sum([p.data.numel() for p in main_model.parameters()])"
   ]
  },
  {
   "cell_type": "code",
   "execution_count": null,
   "metadata": {},
   "outputs": [],
   "source": []
  },
  {
   "cell_type": "code",
   "execution_count": 26,
   "metadata": {
    "_last_msg_id": "93659966682a4523a32894047ea9a749"
   },
   "outputs": [],
   "source": [
    "optimizer = optim.Adam(main_model.parameters(), lr=0.001, weight_decay=0)\n",
    "lr_scheduler = optim.lr_scheduler.ExponentialLR(optimizer, gamma=1.0, last_epoch=-1)\n",
    "\n",
    "criterion = SmoothLoss(lambda o, t: F.kl_div(o, t), smoothing=0.1, one_hot_target=True)"
   ]
  },
  {
   "cell_type": "code",
   "execution_count": null,
   "metadata": {
    "_last_msg_id": "03e99894ebab4ae1a304be5541d35f8a"
   },
   "outputs": [],
   "source": []
  },
  {
   "cell_type": "code",
   "execution_count": 27,
   "metadata": {
    "_last_msg_id": "9eaee4be03024b81ba221112b40eaf7d"
   },
   "outputs": [
    {
     "data": {
      "text/plain": [
       "False"
      ]
     },
     "execution_count": 27,
     "metadata": {},
     "output_type": "execute_result"
    }
   ],
   "source": [
    "model.training"
   ]
  },
  {
   "cell_type": "code",
   "execution_count": 28,
   "metadata": {
    "_last_msg_id": "46530a0f138e4b508b9f99413f3987ed"
   },
   "outputs": [],
   "source": [
    "from tqdm.auto import tqdm"
   ]
  },
  {
   "cell_type": "code",
   "execution_count": 29,
   "metadata": {
    "_last_msg_id": "ad16277deeb049fd9f02d0731f7a89b7"
   },
   "outputs": [
    {
     "data": {
      "application/vnd.jupyter.widget-view+json": {
       "model_id": "c28be4565efd4d22ba6839a094bf74f5",
       "version_major": 2,
       "version_minor": 0
      },
      "text/plain": [
       "HBox(children=(FloatProgress(value=0.0, max=132.0), HTML(value='')))"
      ]
     },
     "metadata": {},
     "output_type": "display_data"
    },
    {
     "name": "stdout",
     "output_type": "stream",
     "text": [
      "Epoch end\n",
      "\n"
     ]
    }
   ],
   "source": [
    "# for e in range(1, 100):\n",
    "# save_batch_path = f'/mnt/SSDData/pdata/processed/tmp{e}/'\n",
    "save_batch_path = f'/mnt/SSDData/pdata/processed/tmp/tmp_wo_aug/'\n",
    "os.makedirs(save_batch_path, exist_ok=True)\n",
    "\n",
    "train_loader = MainBatchGenerator1D(train_img_ids, batch_size=64, patches_batch_size=2, shuffle=True, \n",
    "                                    num_workers=6, max_len=300, patches_csv_path=patches_csv_path,\n",
    "                                    scale=0.5, transform=augment_empty_clr_only)\n",
    "                                    # scale=0.5, transform=augment_v1_clr_only)\n",
    "\n",
    "n = 0\n",
    "for features, target in tqdm(train_loader, total=len(train_loader)):\n",
    "    features = features.mean(dim=-1).mean(dim=-1).transpose(1, -1)\n",
    "    torch.save(features, os.path.join(save_batch_path, f\"features_{n}.pth\"))\n",
    "    torch.save(target, os.path.join(save_batch_path, f\"target_{n}.pth\"))    \n",
    "    n += 1\n",
    "\n",
    "del train_loader"
   ]
  },
  {
   "cell_type": "code",
   "execution_count": 29,
   "metadata": {
    "_last_msg_id": "4f4af636eb7c46e2af6c7f48e951c74b"
   },
   "outputs": [],
   "source": [
    "        coefficients = optimized_rounder.coefficients()\n",
    "        final_preds = optimized_rounder.predict(preds, coefficients)"
   ]
  },
  {
   "cell_type": "code",
   "execution_count": 30,
   "metadata": {
    "_last_msg_id": "54a43f59a4084d37a42a6f31ee73eb82"
   },
   "outputs": [],
   "source": [
    "optimized_rounder = OptimizedRounder()"
   ]
  },
  {
   "cell_type": "code",
   "execution_count": 31,
   "metadata": {
    "_last_msg_id": "44f5250c0cc443a099d33e881618f5ff"
   },
   "outputs": [
    {
     "data": {
      "application/vnd.jupyter.widget-view+json": {
       "model_id": "0661331dc4f5474cb3a5f326a87f75d0",
       "version_major": 2,
       "version_minor": 0
      },
      "text/plain": [
       "HBox(children=(FloatProgress(value=0.0, max=132.0), HTML(value='')))"
      ]
     },
     "metadata": {},
     "output_type": "display_data"
    },
    {
     "name": "stdout",
     "output_type": "stream",
     "text": [
      "Epoch end\n",
      "\n"
     ]
    }
   ],
   "source": []
  },
  {
   "cell_type": "code",
   "execution_count": 24,
   "metadata": {
    "_last_msg_id": "2d4552c501e74744bcf4a49162fb1604"
   },
   "outputs": [
    {
     "data": {
      "text/plain": [
       "False"
      ]
     },
     "execution_count": 24,
     "metadata": {},
     "output_type": "execute_result"
    }
   ],
   "source": [
    "model.training"
   ]
  },
  {
   "cell_type": "code",
   "execution_count": 25,
   "metadata": {
    "_last_msg_id": "34652533376046e89cfaed9cc6d48867"
   },
   "outputs": [],
   "source": [
    "save_batch_path = '/mnt/SSDData/pdata/processed/val_tmp/'"
   ]
  },
  {
   "cell_type": "code",
   "execution_count": 26,
   "metadata": {
    "_last_msg_id": "9d829733e508418d8d01495574dccb56"
   },
   "outputs": [],
   "source": [
    "os.makedirs(save_batch_path, exist_ok=True)"
   ]
  },
  {
   "cell_type": "code",
   "execution_count": 27,
   "metadata": {
    "_last_msg_id": "3b64bc68c467449c801564c9cd893d8e"
   },
   "outputs": [],
   "source": [
    "val_loader = MainBatchGenerator1D(test_img_ids, batch_size=64, patches_batch_size=2, shuffle=False, \n",
    "                                  num_workers=8, max_len=300, patches_csv_path=patches_csv_path,\n",
    "                                  scale=0.5, transform=augment_empty_clr_only)"
   ]
  },
  {
   "cell_type": "code",
   "execution_count": 28,
   "metadata": {
    "_last_msg_id": "158fb3423d9347aa8aed3bebc9564b64"
   },
   "outputs": [
    {
     "data": {
      "text/plain": [
       "'/mnt/SSDData/pdata/processed/val_tmp/'"
      ]
     },
     "execution_count": 28,
     "metadata": {},
     "output_type": "execute_result"
    }
   ],
   "source": [
    "save_batch_path"
   ]
  },
  {
   "cell_type": "code",
   "execution_count": 29,
   "metadata": {
    "_last_msg_id": "bb8fdf66110449638829748c78d401a3"
   },
   "outputs": [],
   "source": [
    "os.makedirs(save_batch_path, exist_ok=True)"
   ]
  },
  {
   "cell_type": "code",
   "execution_count": 32,
   "metadata": {
    "_last_msg_id": "27d3ae8c8b4b4f7487aee89ec6a0738b"
   },
   "outputs": [
    {
     "data": {
      "application/vnd.jupyter.widget-view+json": {
       "model_id": "",
       "version_major": 2,
       "version_minor": 0
      },
      "text/plain": [
       "HBox(children=(FloatProgress(value=0.0, max=33.0), HTML(value='')))"
      ]
     },
     "metadata": {},
     "output_type": "display_data"
    },
    {
     "name": "stdout",
     "output_type": "stream",
     "text": [
      "Epoch end\n",
      "\n"
     ]
    }
   ],
   "source": [
    "n = 0\n",
    "for features, target in tqdm(val_loader, total=len(val_loader)):\n",
    "    features = features.mean(dim=-1).mean(dim=-1).transpose(1, -1)\n",
    "    torch.save(features, os.path.join(save_batch_path, f\"features_{n}.pth\"))\n",
    "    torch.save(target, os.path.join(save_batch_path, f\"target_{n}.pth\"))    \n",
    "    n += 1"
   ]
  },
  {
   "cell_type": "code",
   "execution_count": null,
   "metadata": {},
   "outputs": [],
   "source": []
  },
  {
   "cell_type": "code",
   "execution_count": 35,
   "metadata": {
    "_last_msg_id": "ff53782374b54c0190daa395afc00899"
   },
   "outputs": [
    {
     "data": {
      "text/plain": [
       "2516582400"
      ]
     },
     "execution_count": 35,
     "metadata": {},
     "output_type": "execute_result"
    }
   ],
   "source": [
    "64 * 300 * 512 * 8 * 8 * 4"
   ]
  },
  {
   "cell_type": "code",
   "execution_count": 36,
   "metadata": {
    "_last_msg_id": "dd638bc49a464a388e139cf6b2e0034c"
   },
   "outputs": [
    {
     "data": {
      "text/plain": [
       "330.0"
      ]
     },
     "execution_count": 36,
     "metadata": {},
     "output_type": "execute_result"
    }
   ],
   "source": [
    "2.5 * 132"
   ]
  },
  {
   "cell_type": "code",
   "execution_count": 37,
   "metadata": {
    "_last_msg_id": "dd0f8662860f4bc89c0ab25a6f60d398"
   },
   "outputs": [
    {
     "name": "stdout",
     "output_type": "stream",
     "text": [
      "/dev/nvme0n1p1  503G  286G  192G  60% /mnt/SSDData\r\n",
      "/dev/sda1       4.1T  3.7T  351G  92% /mnt/HDDData\r\n"
     ]
    }
   ],
   "source": [
    "!df -H | grep mnt"
   ]
  },
  {
   "cell_type": "code",
   "execution_count": null,
   "metadata": {},
   "outputs": [],
   "source": []
  },
  {
   "cell_type": "code",
   "execution_count": 29,
   "metadata": {
    "_last_msg_id": "3f9006438bb14a86b0ccc03d04f6ab8c",
    "scrolled": true
   },
   "outputs": [
    {
     "data": {
      "application/vnd.jupyter.widget-view+json": {
       "model_id": "c9d486d4973047e4a099589bf58daac7",
       "version_major": 2,
       "version_minor": 0
      },
      "text/plain": [
       "HBox(children=(FloatProgress(value=0.0, max=132.0), HTML(value='')))"
      ]
     },
     "metadata": {},
     "output_type": "display_data"
    },
    {
     "name": "stderr",
     "output_type": "stream",
     "text": [
      "/home/ruslan/anaconda3/lib/python3.7/site-packages/torch/nn/functional.py:1958: UserWarning: reduction: 'mean' divides the total loss by both the batch size and the support size.'batchmean' divides only by the batch size, and aligns with the KL div math definition.'mean' will be changed to behave the same as 'batchmean' in the next major release.\n",
      "  warnings.warn(\"reduction: 'mean' divides the total loss by both the batch size and the support size.\"\n"
     ]
    },
    {
     "name": "stdout",
     "output_type": "stream",
     "text": [
      "0. loss: 0.2220, acc: 0.1875, qwk: 0.3540, lr: 0.00100\n",
      "1. loss: 0.2414, acc: 0.1719, qwk: 0.0078, lr: 0.00100\n",
      "2. loss: 0.2180, acc: 0.2969, qwk: 0.2317, lr: 0.00100\n",
      "3. loss: 0.2230, acc: 0.2812, qwk: 0.2266, lr: 0.00100\n",
      "4. loss: 0.2267, acc: 0.2188, qwk: 0.2150, lr: 0.00100\n",
      "5. loss: 0.2156, acc: 0.2188, qwk: 0.2237, lr: 0.00100\n",
      "6. loss: 0.2173, acc: 0.3438, qwk: 0.4303, lr: 0.00100\n",
      "7. loss: 0.2315, acc: 0.1719, qwk: -0.0081, lr: 0.00100\n",
      "8. loss: 0.2201, acc: 0.2812, qwk: -0.0116, lr: 0.00100\n",
      "9. loss: 0.2223, acc: 0.2812, qwk: 0.3463, lr: 0.00100\n",
      "10. loss: 0.1905, acc: 0.3750, qwk: 0.4988, lr: 0.00100\n",
      "11. loss: 0.2019, acc: 0.3906, qwk: 0.2900, lr: 0.00100\n",
      "12. loss: 0.2017, acc: 0.3906, qwk: 0.4337, lr: 0.00100\n",
      "13. loss: 0.1885, acc: 0.4062, qwk: 0.3425, lr: 0.00100\n",
      "\n"
     ]
    },
    {
     "ename": "KeyboardInterrupt",
     "evalue": "",
     "output_type": "error",
     "traceback": [
      "\u001b[0;31m---------------------------------------------------------------------------\u001b[0m",
      "\u001b[0;31mEmpty\u001b[0m                                     Traceback (most recent call last)",
      "\u001b[0;32m~/anaconda3/lib/python3.7/site-packages/torch/utils/data/dataloader.py\u001b[0m in \u001b[0;36m_try_get_data\u001b[0;34m(self, timeout)\u001b[0m\n\u001b[1;32m    760\u001b[0m         \u001b[0;32mtry\u001b[0m\u001b[0;34m:\u001b[0m\u001b[0;34m\u001b[0m\u001b[0;34m\u001b[0m\u001b[0m\n\u001b[0;32m--> 761\u001b[0;31m             \u001b[0mdata\u001b[0m \u001b[0;34m=\u001b[0m \u001b[0mself\u001b[0m\u001b[0;34m.\u001b[0m\u001b[0m_data_queue\u001b[0m\u001b[0;34m.\u001b[0m\u001b[0mget\u001b[0m\u001b[0;34m(\u001b[0m\u001b[0mtimeout\u001b[0m\u001b[0;34m=\u001b[0m\u001b[0mtimeout\u001b[0m\u001b[0;34m)\u001b[0m\u001b[0;34m\u001b[0m\u001b[0;34m\u001b[0m\u001b[0m\n\u001b[0m\u001b[1;32m    762\u001b[0m             \u001b[0;32mreturn\u001b[0m \u001b[0;34m(\u001b[0m\u001b[0;32mTrue\u001b[0m\u001b[0;34m,\u001b[0m \u001b[0mdata\u001b[0m\u001b[0;34m)\u001b[0m\u001b[0;34m\u001b[0m\u001b[0;34m\u001b[0m\u001b[0m\n",
      "\u001b[0;32m~/anaconda3/lib/python3.7/queue.py\u001b[0m in \u001b[0;36mget\u001b[0;34m(self, block, timeout)\u001b[0m\n\u001b[1;32m    177\u001b[0m                     \u001b[0;32mif\u001b[0m \u001b[0mremaining\u001b[0m \u001b[0;34m<=\u001b[0m \u001b[0;36m0.0\u001b[0m\u001b[0;34m:\u001b[0m\u001b[0;34m\u001b[0m\u001b[0;34m\u001b[0m\u001b[0m\n\u001b[0;32m--> 178\u001b[0;31m                         \u001b[0;32mraise\u001b[0m \u001b[0mEmpty\u001b[0m\u001b[0;34m\u001b[0m\u001b[0;34m\u001b[0m\u001b[0m\n\u001b[0m\u001b[1;32m    179\u001b[0m                     \u001b[0mself\u001b[0m\u001b[0;34m.\u001b[0m\u001b[0mnot_empty\u001b[0m\u001b[0;34m.\u001b[0m\u001b[0mwait\u001b[0m\u001b[0;34m(\u001b[0m\u001b[0mremaining\u001b[0m\u001b[0;34m)\u001b[0m\u001b[0;34m\u001b[0m\u001b[0;34m\u001b[0m\u001b[0m\n",
      "\u001b[0;31mEmpty\u001b[0m: ",
      "\nDuring handling of the above exception, another exception occurred:\n",
      "\u001b[0;31mKeyboardInterrupt\u001b[0m                         Traceback (most recent call last)",
      "\u001b[0;32m<ipython-input-29-dfb5659a1172>\u001b[0m in \u001b[0;36m<module>\u001b[0;34m\u001b[0m\n\u001b[1;32m      1\u001b[0m \u001b[0mn\u001b[0m \u001b[0;34m=\u001b[0m \u001b[0;36m0\u001b[0m\u001b[0;34m\u001b[0m\u001b[0;34m\u001b[0m\u001b[0m\n\u001b[1;32m      2\u001b[0m \u001b[0;32mfor\u001b[0m \u001b[0mepoch\u001b[0m \u001b[0;32min\u001b[0m \u001b[0mrange\u001b[0m\u001b[0;34m(\u001b[0m\u001b[0;36m10\u001b[0m\u001b[0;34m)\u001b[0m\u001b[0;34m:\u001b[0m\u001b[0;34m\u001b[0m\u001b[0;34m\u001b[0m\u001b[0m\n\u001b[0;32m----> 3\u001b[0;31m     \u001b[0;32mfor\u001b[0m \u001b[0mfeatures\u001b[0m\u001b[0;34m,\u001b[0m \u001b[0mtarget\u001b[0m \u001b[0;32min\u001b[0m \u001b[0mtqdm\u001b[0m\u001b[0;34m(\u001b[0m\u001b[0mtrain_loader\u001b[0m\u001b[0;34m,\u001b[0m \u001b[0mtotal\u001b[0m\u001b[0;34m=\u001b[0m\u001b[0mlen\u001b[0m\u001b[0;34m(\u001b[0m\u001b[0mtrain_loader\u001b[0m\u001b[0;34m)\u001b[0m\u001b[0;34m)\u001b[0m\u001b[0;34m:\u001b[0m\u001b[0;34m\u001b[0m\u001b[0;34m\u001b[0m\u001b[0m\n\u001b[0m\u001b[1;32m      4\u001b[0m         \u001b[0mb\u001b[0m \u001b[0;34m=\u001b[0m \u001b[0mfeatures\u001b[0m\u001b[0;34m.\u001b[0m\u001b[0mshape\u001b[0m\u001b[0;34m[\u001b[0m\u001b[0;36m0\u001b[0m\u001b[0;34m]\u001b[0m\u001b[0;34m\u001b[0m\u001b[0;34m\u001b[0m\u001b[0m\n\u001b[1;32m      5\u001b[0m \u001b[0;34m\u001b[0m\u001b[0m\n",
      "\u001b[0;32m~/anaconda3/lib/python3.7/site-packages/tqdm/notebook.py\u001b[0m in \u001b[0;36m__iter__\u001b[0;34m(self, *args, **kwargs)\u001b[0m\n\u001b[1;32m    216\u001b[0m     \u001b[0;32mdef\u001b[0m \u001b[0m__iter__\u001b[0m\u001b[0;34m(\u001b[0m\u001b[0mself\u001b[0m\u001b[0;34m,\u001b[0m \u001b[0;34m*\u001b[0m\u001b[0margs\u001b[0m\u001b[0;34m,\u001b[0m \u001b[0;34m**\u001b[0m\u001b[0mkwargs\u001b[0m\u001b[0;34m)\u001b[0m\u001b[0;34m:\u001b[0m\u001b[0;34m\u001b[0m\u001b[0;34m\u001b[0m\u001b[0m\n\u001b[1;32m    217\u001b[0m         \u001b[0;32mtry\u001b[0m\u001b[0;34m:\u001b[0m\u001b[0;34m\u001b[0m\u001b[0;34m\u001b[0m\u001b[0m\n\u001b[0;32m--> 218\u001b[0;31m             \u001b[0;32mfor\u001b[0m \u001b[0mobj\u001b[0m \u001b[0;32min\u001b[0m \u001b[0msuper\u001b[0m\u001b[0;34m(\u001b[0m\u001b[0mtqdm_notebook\u001b[0m\u001b[0;34m,\u001b[0m \u001b[0mself\u001b[0m\u001b[0;34m)\u001b[0m\u001b[0;34m.\u001b[0m\u001b[0m__iter__\u001b[0m\u001b[0;34m(\u001b[0m\u001b[0;34m*\u001b[0m\u001b[0margs\u001b[0m\u001b[0;34m,\u001b[0m \u001b[0;34m**\u001b[0m\u001b[0mkwargs\u001b[0m\u001b[0;34m)\u001b[0m\u001b[0;34m:\u001b[0m\u001b[0;34m\u001b[0m\u001b[0;34m\u001b[0m\u001b[0m\n\u001b[0m\u001b[1;32m    219\u001b[0m                 \u001b[0;31m# return super(tqdm...) will not catch exception\u001b[0m\u001b[0;34m\u001b[0m\u001b[0;34m\u001b[0m\u001b[0;34m\u001b[0m\u001b[0m\n\u001b[1;32m    220\u001b[0m                 \u001b[0;32myield\u001b[0m \u001b[0mobj\u001b[0m\u001b[0;34m\u001b[0m\u001b[0;34m\u001b[0m\u001b[0m\n",
      "\u001b[0;32m~/anaconda3/lib/python3.7/site-packages/tqdm/std.py\u001b[0m in \u001b[0;36m__iter__\u001b[0;34m(self)\u001b[0m\n\u001b[1;32m   1125\u001b[0m \u001b[0;34m\u001b[0m\u001b[0m\n\u001b[1;32m   1126\u001b[0m         \u001b[0;32mtry\u001b[0m\u001b[0;34m:\u001b[0m\u001b[0;34m\u001b[0m\u001b[0;34m\u001b[0m\u001b[0m\n\u001b[0;32m-> 1127\u001b[0;31m             \u001b[0;32mfor\u001b[0m \u001b[0mobj\u001b[0m \u001b[0;32min\u001b[0m \u001b[0miterable\u001b[0m\u001b[0;34m:\u001b[0m\u001b[0;34m\u001b[0m\u001b[0;34m\u001b[0m\u001b[0m\n\u001b[0m\u001b[1;32m   1128\u001b[0m                 \u001b[0;32myield\u001b[0m \u001b[0mobj\u001b[0m\u001b[0;34m\u001b[0m\u001b[0;34m\u001b[0m\u001b[0m\n\u001b[1;32m   1129\u001b[0m                 \u001b[0;31m# Update and possibly print the progressbar.\u001b[0m\u001b[0;34m\u001b[0m\u001b[0;34m\u001b[0m\u001b[0;34m\u001b[0m\u001b[0m\n",
      "\u001b[0;32m<ipython-input-23-21f2594b80ce>\u001b[0m in \u001b[0;36m__iter__\u001b[0;34m(self)\u001b[0m\n\u001b[1;32m     28\u001b[0m             \u001b[0;32mfor\u001b[0m \u001b[0m_\u001b[0m \u001b[0;32min\u001b[0m \u001b[0mrange\u001b[0m\u001b[0;34m(\u001b[0m\u001b[0;36m0\u001b[0m\u001b[0;34m,\u001b[0m \u001b[0mself\u001b[0m\u001b[0;34m.\u001b[0m\u001b[0mbatch_size\u001b[0m\u001b[0;34m,\u001b[0m \u001b[0mself\u001b[0m\u001b[0;34m.\u001b[0m\u001b[0mpatches_batch_size\u001b[0m\u001b[0;34m)\u001b[0m\u001b[0;34m:\u001b[0m\u001b[0;34m\u001b[0m\u001b[0;34m\u001b[0m\u001b[0m\n\u001b[1;32m     29\u001b[0m                 \u001b[0;32mtry\u001b[0m\u001b[0;34m:\u001b[0m\u001b[0;34m\u001b[0m\u001b[0;34m\u001b[0m\u001b[0m\n\u001b[0;32m---> 30\u001b[0;31m                     \u001b[0mimgs\u001b[0m\u001b[0;34m,\u001b[0m \u001b[0mys\u001b[0m\u001b[0;34m,\u001b[0m \u001b[0mxs\u001b[0m\u001b[0;34m,\u001b[0m \u001b[0mprovider\u001b[0m\u001b[0;34m,\u001b[0m \u001b[0misup_grade\u001b[0m\u001b[0;34m,\u001b[0m \u001b[0mgleason_score\u001b[0m \u001b[0;34m=\u001b[0m \u001b[0mnext\u001b[0m\u001b[0;34m(\u001b[0m\u001b[0mpatches_iter\u001b[0m\u001b[0;34m)\u001b[0m\u001b[0;34m\u001b[0m\u001b[0;34m\u001b[0m\u001b[0m\n\u001b[0m\u001b[1;32m     31\u001b[0m                 \u001b[0;32mexcept\u001b[0m \u001b[0mStopIteration\u001b[0m\u001b[0;34m:\u001b[0m\u001b[0;34m\u001b[0m\u001b[0;34m\u001b[0m\u001b[0m\n\u001b[1;32m     32\u001b[0m                     \u001b[0mprint\u001b[0m\u001b[0;34m(\u001b[0m\u001b[0;34m\"Epoch end\"\u001b[0m\u001b[0;34m)\u001b[0m\u001b[0;34m\u001b[0m\u001b[0;34m\u001b[0m\u001b[0m\n",
      "\u001b[0;32m~/anaconda3/lib/python3.7/site-packages/torch/utils/data/dataloader.py\u001b[0m in \u001b[0;36m__next__\u001b[0;34m(self)\u001b[0m\n\u001b[1;32m    343\u001b[0m \u001b[0;34m\u001b[0m\u001b[0m\n\u001b[1;32m    344\u001b[0m     \u001b[0;32mdef\u001b[0m \u001b[0m__next__\u001b[0m\u001b[0;34m(\u001b[0m\u001b[0mself\u001b[0m\u001b[0;34m)\u001b[0m\u001b[0;34m:\u001b[0m\u001b[0;34m\u001b[0m\u001b[0;34m\u001b[0m\u001b[0m\n\u001b[0;32m--> 345\u001b[0;31m         \u001b[0mdata\u001b[0m \u001b[0;34m=\u001b[0m \u001b[0mself\u001b[0m\u001b[0;34m.\u001b[0m\u001b[0m_next_data\u001b[0m\u001b[0;34m(\u001b[0m\u001b[0;34m)\u001b[0m\u001b[0;34m\u001b[0m\u001b[0;34m\u001b[0m\u001b[0m\n\u001b[0m\u001b[1;32m    346\u001b[0m         \u001b[0mself\u001b[0m\u001b[0;34m.\u001b[0m\u001b[0m_num_yielded\u001b[0m \u001b[0;34m+=\u001b[0m \u001b[0;36m1\u001b[0m\u001b[0;34m\u001b[0m\u001b[0;34m\u001b[0m\u001b[0m\n\u001b[1;32m    347\u001b[0m         \u001b[0;32mif\u001b[0m \u001b[0mself\u001b[0m\u001b[0;34m.\u001b[0m\u001b[0m_dataset_kind\u001b[0m \u001b[0;34m==\u001b[0m \u001b[0m_DatasetKind\u001b[0m\u001b[0;34m.\u001b[0m\u001b[0mIterable\u001b[0m \u001b[0;32mand\u001b[0m\u001b[0;31m \u001b[0m\u001b[0;31m\\\u001b[0m\u001b[0;34m\u001b[0m\u001b[0;34m\u001b[0m\u001b[0m\n",
      "\u001b[0;32m~/anaconda3/lib/python3.7/site-packages/torch/utils/data/dataloader.py\u001b[0m in \u001b[0;36m_next_data\u001b[0;34m(self)\u001b[0m\n\u001b[1;32m    839\u001b[0m \u001b[0;34m\u001b[0m\u001b[0m\n\u001b[1;32m    840\u001b[0m             \u001b[0;32massert\u001b[0m \u001b[0;32mnot\u001b[0m \u001b[0mself\u001b[0m\u001b[0;34m.\u001b[0m\u001b[0m_shutdown\u001b[0m \u001b[0;32mand\u001b[0m \u001b[0mself\u001b[0m\u001b[0;34m.\u001b[0m\u001b[0m_tasks_outstanding\u001b[0m \u001b[0;34m>\u001b[0m \u001b[0;36m0\u001b[0m\u001b[0;34m\u001b[0m\u001b[0;34m\u001b[0m\u001b[0m\n\u001b[0;32m--> 841\u001b[0;31m             \u001b[0midx\u001b[0m\u001b[0;34m,\u001b[0m \u001b[0mdata\u001b[0m \u001b[0;34m=\u001b[0m \u001b[0mself\u001b[0m\u001b[0;34m.\u001b[0m\u001b[0m_get_data\u001b[0m\u001b[0;34m(\u001b[0m\u001b[0;34m)\u001b[0m\u001b[0;34m\u001b[0m\u001b[0;34m\u001b[0m\u001b[0m\n\u001b[0m\u001b[1;32m    842\u001b[0m             \u001b[0mself\u001b[0m\u001b[0;34m.\u001b[0m\u001b[0m_tasks_outstanding\u001b[0m \u001b[0;34m-=\u001b[0m \u001b[0;36m1\u001b[0m\u001b[0;34m\u001b[0m\u001b[0;34m\u001b[0m\u001b[0m\n\u001b[1;32m    843\u001b[0m \u001b[0;34m\u001b[0m\u001b[0m\n",
      "\u001b[0;32m~/anaconda3/lib/python3.7/site-packages/torch/utils/data/dataloader.py\u001b[0m in \u001b[0;36m_get_data\u001b[0;34m(self)\u001b[0m\n\u001b[1;32m    796\u001b[0m         \u001b[0;32melif\u001b[0m \u001b[0mself\u001b[0m\u001b[0;34m.\u001b[0m\u001b[0m_pin_memory\u001b[0m\u001b[0;34m:\u001b[0m\u001b[0;34m\u001b[0m\u001b[0;34m\u001b[0m\u001b[0m\n\u001b[1;32m    797\u001b[0m             \u001b[0;32mwhile\u001b[0m \u001b[0mself\u001b[0m\u001b[0;34m.\u001b[0m\u001b[0m_pin_memory_thread\u001b[0m\u001b[0;34m.\u001b[0m\u001b[0mis_alive\u001b[0m\u001b[0;34m(\u001b[0m\u001b[0;34m)\u001b[0m\u001b[0;34m:\u001b[0m\u001b[0;34m\u001b[0m\u001b[0;34m\u001b[0m\u001b[0m\n\u001b[0;32m--> 798\u001b[0;31m                 \u001b[0msuccess\u001b[0m\u001b[0;34m,\u001b[0m \u001b[0mdata\u001b[0m \u001b[0;34m=\u001b[0m \u001b[0mself\u001b[0m\u001b[0;34m.\u001b[0m\u001b[0m_try_get_data\u001b[0m\u001b[0;34m(\u001b[0m\u001b[0;34m)\u001b[0m\u001b[0;34m\u001b[0m\u001b[0;34m\u001b[0m\u001b[0m\n\u001b[0m\u001b[1;32m    799\u001b[0m                 \u001b[0;32mif\u001b[0m \u001b[0msuccess\u001b[0m\u001b[0;34m:\u001b[0m\u001b[0;34m\u001b[0m\u001b[0;34m\u001b[0m\u001b[0m\n\u001b[1;32m    800\u001b[0m                     \u001b[0;32mreturn\u001b[0m \u001b[0mdata\u001b[0m\u001b[0;34m\u001b[0m\u001b[0;34m\u001b[0m\u001b[0m\n",
      "\u001b[0;32m~/anaconda3/lib/python3.7/site-packages/torch/utils/data/dataloader.py\u001b[0m in \u001b[0;36m_try_get_data\u001b[0;34m(self, timeout)\u001b[0m\n\u001b[1;32m    767\u001b[0m             \u001b[0mfailed_workers\u001b[0m \u001b[0;34m=\u001b[0m \u001b[0;34m[\u001b[0m\u001b[0;34m]\u001b[0m\u001b[0;34m\u001b[0m\u001b[0;34m\u001b[0m\u001b[0m\n\u001b[1;32m    768\u001b[0m             \u001b[0;32mfor\u001b[0m \u001b[0mworker_id\u001b[0m\u001b[0;34m,\u001b[0m \u001b[0mw\u001b[0m \u001b[0;32min\u001b[0m \u001b[0menumerate\u001b[0m\u001b[0;34m(\u001b[0m\u001b[0mself\u001b[0m\u001b[0;34m.\u001b[0m\u001b[0m_workers\u001b[0m\u001b[0;34m)\u001b[0m\u001b[0;34m:\u001b[0m\u001b[0;34m\u001b[0m\u001b[0;34m\u001b[0m\u001b[0m\n\u001b[0;32m--> 769\u001b[0;31m                 \u001b[0;32mif\u001b[0m \u001b[0mself\u001b[0m\u001b[0;34m.\u001b[0m\u001b[0m_workers_status\u001b[0m\u001b[0;34m[\u001b[0m\u001b[0mworker_id\u001b[0m\u001b[0;34m]\u001b[0m \u001b[0;32mand\u001b[0m \u001b[0;32mnot\u001b[0m \u001b[0mw\u001b[0m\u001b[0;34m.\u001b[0m\u001b[0mis_alive\u001b[0m\u001b[0;34m(\u001b[0m\u001b[0;34m)\u001b[0m\u001b[0;34m:\u001b[0m\u001b[0;34m\u001b[0m\u001b[0;34m\u001b[0m\u001b[0m\n\u001b[0m\u001b[1;32m    770\u001b[0m                     \u001b[0mfailed_workers\u001b[0m\u001b[0;34m.\u001b[0m\u001b[0mappend\u001b[0m\u001b[0;34m(\u001b[0m\u001b[0mw\u001b[0m\u001b[0;34m)\u001b[0m\u001b[0;34m\u001b[0m\u001b[0;34m\u001b[0m\u001b[0m\n\u001b[1;32m    771\u001b[0m                     \u001b[0mself\u001b[0m\u001b[0;34m.\u001b[0m\u001b[0m_shutdown_worker\u001b[0m\u001b[0;34m(\u001b[0m\u001b[0mworker_id\u001b[0m\u001b[0;34m)\u001b[0m\u001b[0;34m\u001b[0m\u001b[0;34m\u001b[0m\u001b[0m\n",
      "\u001b[0;32m~/anaconda3/lib/python3.7/multiprocessing/process.py\u001b[0m in \u001b[0;36mis_alive\u001b[0;34m(self)\u001b[0m\n\u001b[1;32m    154\u001b[0m             \u001b[0;32mreturn\u001b[0m \u001b[0;32mFalse\u001b[0m\u001b[0;34m\u001b[0m\u001b[0;34m\u001b[0m\u001b[0m\n\u001b[1;32m    155\u001b[0m \u001b[0;34m\u001b[0m\u001b[0m\n\u001b[0;32m--> 156\u001b[0;31m         \u001b[0mreturncode\u001b[0m \u001b[0;34m=\u001b[0m \u001b[0mself\u001b[0m\u001b[0;34m.\u001b[0m\u001b[0m_popen\u001b[0m\u001b[0;34m.\u001b[0m\u001b[0mpoll\u001b[0m\u001b[0;34m(\u001b[0m\u001b[0;34m)\u001b[0m\u001b[0;34m\u001b[0m\u001b[0;34m\u001b[0m\u001b[0m\n\u001b[0m\u001b[1;32m    157\u001b[0m         \u001b[0;32mif\u001b[0m \u001b[0mreturncode\u001b[0m \u001b[0;32mis\u001b[0m \u001b[0;32mNone\u001b[0m\u001b[0;34m:\u001b[0m\u001b[0;34m\u001b[0m\u001b[0;34m\u001b[0m\u001b[0m\n\u001b[1;32m    158\u001b[0m             \u001b[0;32mreturn\u001b[0m \u001b[0;32mTrue\u001b[0m\u001b[0;34m\u001b[0m\u001b[0;34m\u001b[0m\u001b[0m\n",
      "\u001b[0;32m~/anaconda3/lib/python3.7/multiprocessing/popen_fork.py\u001b[0m in \u001b[0;36mpoll\u001b[0;34m(self, flag)\u001b[0m\n\u001b[1;32m     26\u001b[0m         \u001b[0;32mif\u001b[0m \u001b[0mself\u001b[0m\u001b[0;34m.\u001b[0m\u001b[0mreturncode\u001b[0m \u001b[0;32mis\u001b[0m \u001b[0;32mNone\u001b[0m\u001b[0;34m:\u001b[0m\u001b[0;34m\u001b[0m\u001b[0;34m\u001b[0m\u001b[0m\n\u001b[1;32m     27\u001b[0m             \u001b[0;32mtry\u001b[0m\u001b[0;34m:\u001b[0m\u001b[0;34m\u001b[0m\u001b[0;34m\u001b[0m\u001b[0m\n\u001b[0;32m---> 28\u001b[0;31m                 \u001b[0mpid\u001b[0m\u001b[0;34m,\u001b[0m \u001b[0msts\u001b[0m \u001b[0;34m=\u001b[0m \u001b[0mos\u001b[0m\u001b[0;34m.\u001b[0m\u001b[0mwaitpid\u001b[0m\u001b[0;34m(\u001b[0m\u001b[0mself\u001b[0m\u001b[0;34m.\u001b[0m\u001b[0mpid\u001b[0m\u001b[0;34m,\u001b[0m \u001b[0mflag\u001b[0m\u001b[0;34m)\u001b[0m\u001b[0;34m\u001b[0m\u001b[0;34m\u001b[0m\u001b[0m\n\u001b[0m\u001b[1;32m     29\u001b[0m             \u001b[0;32mexcept\u001b[0m \u001b[0mOSError\u001b[0m \u001b[0;32mas\u001b[0m \u001b[0me\u001b[0m\u001b[0;34m:\u001b[0m\u001b[0;34m\u001b[0m\u001b[0;34m\u001b[0m\u001b[0m\n\u001b[1;32m     30\u001b[0m                 \u001b[0;31m# Child process not yet created. See #1731717\u001b[0m\u001b[0;34m\u001b[0m\u001b[0;34m\u001b[0m\u001b[0;34m\u001b[0m\u001b[0m\n",
      "\u001b[0;31mKeyboardInterrupt\u001b[0m: "
     ]
    }
   ],
   "source": [
    "n = 0\n",
    "for epoch in range(10):\n",
    "    for features, target in tqdm(train_loader, total=len(train_loader)):\n",
    "        b = features.shape[0]\n",
    "\n",
    "        features, target = features.to(main_device), target.to(main_device)\n",
    "        \n",
    "        # features = features.view(b, max_len, -1).transpose(1, -1)\n",
    "        features = features.mean(dim=-1).mean(dim=-1).transpose(1, -1)\n",
    "\n",
    "        optimizer.zero_grad()\n",
    "\n",
    "        output = main_model(features)\n",
    "        output = F.log_softmax(output, dim=-1)\n",
    "        loss = criterion(output, target)    \n",
    "\n",
    "        loss.backward()\n",
    "        # torch.nn.utils.clip_grad_norm_(main_model.parameters(), 0.01)\n",
    "        optimizer.step()\n",
    "        lr_scheduler.step()\n",
    "\n",
    "        acc = output.argmax(dim=-1).eq(target).float().mean()\n",
    "        \n",
    "        o_output = output.argmax(dim=-1)\n",
    "        qwk = cohen_kappa_score(o_output.cpu().numpy(), target.cpu().numpy(), weights=\"quadratic\")\n",
    "\n",
    "        print(f\"{n}. loss: {loss.item():.4f}, acc: {acc.item():.4f}, qwk: {qwk:.4f}, lr: {optimizer.param_groups[0]['lr']:.5f}\")\n",
    "\n",
    "        n += 1"
   ]
  },
  {
   "cell_type": "code",
   "execution_count": null,
   "metadata": {
    "_last_msg_id": "d896d4c6208341e78fbb4f41de34ec3a"
   },
   "outputs": [],
   "source": [
    "#main_batch_size = 64\n",
    "\n",
    "#patches_batch_size = 2\n",
    "#num_workers = 11"
   ]
  },
  {
   "cell_type": "code",
   "execution_count": null,
   "metadata": {},
   "outputs": [],
   "source": [
    "output, target"
   ]
  },
  {
   "cell_type": "code",
   "execution_count": 44,
   "metadata": {
    "_last_msg_id": "621ef5070f524700bd5aebf781f68642"
   },
   "outputs": [],
   "source": [
    "o_output = output.argmax(dim=-1)"
   ]
  },
  {
   "cell_type": "code",
   "execution_count": 45,
   "metadata": {
    "_last_msg_id": "ba109ce7899547cab29d7423926a6981"
   },
   "outputs": [
    {
     "data": {
      "text/plain": [
       "tensor([1, 0, 3, 5, 1, 1, 2, 1, 0, 0, 1, 0, 5, 4, 4, 4, 5, 1, 3, 0, 2, 3, 0, 0,\n",
       "        1, 3, 0, 0, 1, 1, 1, 1, 0, 1, 1, 3, 4, 3, 0, 4, 1, 0, 2, 1, 5, 5, 1, 3,\n",
       "        0, 0, 5, 1, 0, 1, 5, 5, 3, 1, 1, 0, 0, 0, 0, 4], device='cuda:1')"
      ]
     },
     "execution_count": 45,
     "metadata": {},
     "output_type": "execute_result"
    }
   ],
   "source": [
    "o_output"
   ]
  },
  {
   "cell_type": "code",
   "execution_count": 46,
   "metadata": {
    "_last_msg_id": "fa26785d6f8744a3a20657f77626fae8"
   },
   "outputs": [
    {
     "data": {
      "text/plain": [
       "tensor([5, 0, 3, 4, 1, 4, 3, 0, 0, 0, 1, 3, 5, 3, 4, 5, 5, 1, 4, 0, 3, 5, 0, 1,\n",
       "        0, 1, 0, 0, 1, 2, 2, 1, 0, 2, 1, 3, 3, 4, 0, 0, 1, 2, 1, 1, 5, 5, 4, 4,\n",
       "        1, 5, 5, 2, 0, 1, 3, 5, 5, 1, 1, 0, 4, 0, 0, 4], device='cuda:1')"
      ]
     },
     "execution_count": 46,
     "metadata": {},
     "output_type": "execute_result"
    }
   ],
   "source": [
    "target"
   ]
  },
  {
   "cell_type": "code",
   "execution_count": null,
   "metadata": {},
   "outputs": [],
   "source": []
  },
  {
   "cell_type": "code",
   "execution_count": 47,
   "metadata": {
    "_last_msg_id": "8f087de68017411dbf0d3a6ade8f97a3"
   },
   "outputs": [],
   "source": []
  },
  {
   "cell_type": "code",
   "execution_count": 49,
   "metadata": {
    "_last_msg_id": "b5965095f3d54d1884725c844234efd7"
   },
   "outputs": [
    {
     "data": {
      "text/plain": [
       "0.6770040959625512"
      ]
     },
     "execution_count": 49,
     "metadata": {},
     "output_type": "execute_result"
    }
   ],
   "source": [
    "cohen_kappa_score(o_output.cpu().numpy(), target.cpu().numpy(), weights=\"quadratic\")"
   ]
  },
  {
   "cell_type": "code",
   "execution_count": null,
   "metadata": {
    "_last_msg_id": "46fc79353ade44368a942b6bceac24b5"
   },
   "outputs": [],
   "source": [
    "oh_target = torch.tensor((b, max_lbl_nums), device=main_device)\n",
    "oh_o_output = torch.tensor((b, max_lbl_nums), device=main_device)"
   ]
  },
  {
   "cell_type": "code",
   "execution_count": null,
   "metadata": {
    "_last_msg_id": "2b89118f8de847858da1a28ed82f3e33"
   },
   "outputs": [],
   "source": [
    "o_output"
   ]
  },
  {
   "cell_type": "code",
   "execution_count": null,
   "metadata": {
    "_last_msg_id": "2e64d9ccc48041fb826e5da25ac5c720"
   },
   "outputs": [],
   "source": [
    "oh_target[target] = 1\n",
    "oh_o_output[o_output] = 1"
   ]
  },
  {
   "cell_type": "code",
   "execution_count": 52,
   "metadata": {
    "_last_msg_id": "e710b44d6c404bd18c49039b4f12e31d"
   },
   "outputs": [],
   "source": [
    "cm = torch.matmul(oh_target[:, :, None], oh_o_output[:, None, :]).sum(0)"
   ]
  },
  {
   "cell_type": "code",
   "execution_count": null,
   "metadata": {},
   "outputs": [],
   "source": []
  },
  {
   "cell_type": "code",
   "execution_count": null,
   "metadata": {},
   "outputs": [],
   "source": [
    "@dataclass\n",
    "class KappaScore(ConfusionMatrix):\n",
    "    \"Computes the rate of agreement (Cohens Kappa).\"\n",
    "    weights:Optional[str]=None      # None, `linear`, or `quadratic`\n",
    "\n",
    "    def on_epoch_end(self, last_metrics, **kwargs):\n",
    "        sum0 = self.cm.sum(dim=0)\n",
    "        sum1 = self.cm.sum(dim=1)\n",
    "        expected = torch.einsum('i,j->ij', (sum0, sum1)) / sum0.sum()\n",
    "        if self.weights is None:\n",
    "            w = torch.ones((self.n_classes, self.n_classes))\n",
    "            w[self.x, self.x] = 0\n",
    "        elif self.weights == \"linear\" or self.weights == \"quadratic\":\n",
    "            w = torch.zeros((self.n_classes, self.n_classes))\n",
    "            w += torch.arange(self.n_classes, dtype=torch.float)\n",
    "            w = torch.abs(w - torch.t(w)) if self.weights == \"linear\" else (w - torch.t(w)) ** 2\n",
    "        else: raise ValueError('Unknown weights. Expected None, \"linear\", or \"quadratic\".')\n",
    "        k = torch.sum(w * self.cm) / torch.sum(w * expected)\n",
    "        return add_metrics(last_metrics, 1-k)"
   ]
  },
  {
   "cell_type": "code",
   "execution_count": null,
   "metadata": {},
   "outputs": [],
   "source": []
  },
  {
   "cell_type": "code",
   "execution_count": null,
   "metadata": {},
   "outputs": [],
   "source": []
  },
  {
   "cell_type": "code",
   "execution_count": 31,
   "metadata": {
    "_last_msg_id": "9442d4898c694d9eb66188952ab9ea55"
   },
   "outputs": [],
   "source": [
    "#empty_mask = (main_features.view(b, max_len, -1) == 0).all(dim=-1)[..., None, None, None]\n",
    "#dummy_feature = nn.Parameter(torch.ones((1, 1, 512, 8, 8), dtype=torch.float32, device=main_device))\n",
    "#main_features = main_features + empty_mask * dummy_feature.expand(b, 1, 512, 8, 8)"
   ]
  },
  {
   "cell_type": "code",
   "execution_count": 105,
   "metadata": {
    "_last_msg_id": "b378cb3e88e54bebb8c3ef680758a783"
   },
   "outputs": [],
   "source": []
  },
  {
   "cell_type": "code",
   "execution_count": 106,
   "metadata": {
    "_last_msg_id": "3d47f5f9340f475b9e8f42f5bcab8824"
   },
   "outputs": [],
   "source": []
  },
  {
   "cell_type": "code",
   "execution_count": null,
   "metadata": {
    "_last_msg_id": "d5d54a861315407f875c739057c6f907"
   },
   "outputs": [],
   "source": [
    "# 8*55 - 200 сек"
   ]
  },
  {
   "cell_type": "code",
   "execution_count": null,
   "metadata": {
    "_last_msg_id": "9db22436e0d94292826b764517cb5861"
   },
   "outputs": [],
   "source": [
    "# imgs, ys, xs, provider, isup_grade, gleason_score"
   ]
  },
  {
   "cell_type": "code",
   "execution_count": null,
   "metadata": {},
   "outputs": [],
   "source": []
  },
  {
   "cell_type": "code",
   "execution_count": null,
   "metadata": {},
   "outputs": [],
   "source": []
  },
  {
   "cell_type": "code",
   "execution_count": null,
   "metadata": {
    "_last_msg_id": "d82948714cb3453eb4761169a387bb5f"
   },
   "outputs": [],
   "source": [
    "import matplotlib.pyplot as plt"
   ]
  },
  {
   "cell_type": "code",
   "execution_count": null,
   "metadata": {
    "_last_msg_id": "49adedcd20004fe383497646f9a5afdc"
   },
   "outputs": [],
   "source": [
    "train_wsipatches_dataset_iter = iter(train_wsipatches_dataset)"
   ]
  },
  {
   "cell_type": "code",
   "execution_count": null,
   "metadata": {
    "_last_msg_id": "056646e2e9d04785833ea2d3a11e6bf0"
   },
   "outputs": [],
   "source": [
    "fig, axs = plt.subplots(6, 6, figsize=(18, 18))\n",
    "axs = axs.ravel()\n",
    "n = 0\n",
    "for imgs, ys, xs, provider, isup_grade, gleason_score in train_wsipatches_dataset_iter:\n",
    "    imgs = imgs.transpose([0, 2, 3, 1])\n",
    "    height = ys.max() + 1\n",
    "    width = xs.max() + 1\n",
    "    wsi_img = np.zeros((height, width, 3), dtype=np.float32)\n",
    "    for y, x, img in zip(ys, xs, imgs):\n",
    "        wsi_img[y, x] = img.reshape(-1, 3).mean(0)\n",
    "        \n",
    "    axs[n].imshow(wsi_img);\n",
    "    axs[n].set_title(f\"{n}: {provider}\")\n",
    "    \n",
    "    n += 1\n",
    "    \n",
    "    if n == 36:\n",
    "        break"
   ]
  },
  {
   "cell_type": "code",
   "execution_count": null,
   "metadata": {},
   "outputs": [],
   "source": []
  },
  {
   "cell_type": "code",
   "execution_count": null,
   "metadata": {},
   "outputs": [],
   "source": []
  },
  {
   "cell_type": "code",
   "execution_count": null,
   "metadata": {},
   "outputs": [],
   "source": []
  },
  {
   "cell_type": "code",
   "execution_count": null,
   "metadata": {},
   "outputs": [],
   "source": []
  }
 ],
 "metadata": {
  "kernelspec": {
   "display_name": "Python 3",
   "language": "python",
   "name": "python3"
  },
  "language_info": {
   "codemirror_mode": {
    "name": "ipython",
    "version": 3
   },
   "file_extension": ".py",
   "mimetype": "text/x-python",
   "name": "python",
   "nbconvert_exporter": "python",
   "pygments_lexer": "ipython3",
   "version": "3.7.4"
  }
 },
 "nbformat": 4,
 "nbformat_minor": 2
}
