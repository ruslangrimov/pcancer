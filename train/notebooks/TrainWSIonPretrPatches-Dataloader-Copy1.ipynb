{
 "cells": [
  {
   "cell_type": "code",
   "execution_count": 1,
   "metadata": {
    "_last_msg_id": "b549733a229746019e6f6249956628e9"
   },
   "outputs": [],
   "source": [
    "import sys\n",
    "import os\n",
    "import psutil\n",
    "\n",
    "import random\n",
    "import math\n",
    "\n",
    "import torch \n",
    "from torch import optim\n",
    "from torch.optim import lr_scheduler\n",
    "from torch import nn\n",
    "from torch.nn import functional as F\n",
    "\n",
    "import multiprocessing.dummy as mp\n",
    "\n",
    "from pytorch_lightning import Trainer\n",
    "from pytorch_lightning.core import LightningModule\n",
    "from pytorch_lightning.callbacks import ModelCheckpoint\n",
    "from pytorch_lightning.loggers.tensorboard import TensorBoardLogger\n",
    "\n",
    "sys.path.append('../..')\n",
    "from lib.schedulers import DelayedScheduler\n",
    "from lib.datasets import (max_lbl_nums, actual_lbl_nums, \n",
    "                          patches_rgb_mean_av1, patches_rgb_std_av1, \n",
    "                          get_train_test_img_ids_split)\n",
    "from lib.dataloaders import PatchesDataset, WSIPatchesDatasetRaw\n",
    "from lib.augmentations import augment_v1_clr_only, augment_empty_clr_only\n",
    "from lib.losses import SmoothLoss\n",
    "\n",
    "from lib.models.unetv1 import get_model\n",
    "\n",
    "from sklearn.metrics import cohen_kappa_score\n",
    "\n",
    "from tqdm.auto import tqdm\n",
    "\n",
    "import matplotlib.pyplot as plt"
   ]
  },
  {
   "cell_type": "code",
   "execution_count": 2,
   "metadata": {
    "_last_msg_id": "619b00c0d26243ba8f3673febd55a8ee"
   },
   "outputs": [],
   "source": [
    "# import cv2\n",
    "import numpy as np\n",
    "# import pandas as pd\n",
    "# from lib.datasets import patches_csv_path, patches_path\n",
    "from lib.datasets import (patches_clean90_csv_path as patches_csv_path, patches_path,\n",
    "                          patches_clean90_pkl_path as patches_pkl_path)\n",
    "# from lib.dataloaders import imread, get_g_score_num, get_provider_num"
   ]
  },
  {
   "cell_type": "code",
   "execution_count": 12,
   "metadata": {
    "_last_msg_id": "285260787b4248148ae56316c51fc6a2"
   },
   "outputs": [],
   "source": [
    "class LambdaLayer(nn.Module):\n",
    "    def __init__(self, lambd):\n",
    "        super(LambdaLayer, self).__init__()\n",
    "        self.lambd = lambd\n",
    "    def forward(self, x):\n",
    "        return self.lambd(x)\n",
    "    \n",
    "def get_pretrained_model(get_model_fn, checkpoint, device):\n",
    "    tmp = torch.load(checkpoint, map_location=device)\n",
    "    \n",
    "    model = get_model_fn(actual_lbl_nums)\n",
    "\n",
    "    module = nn.Sequential()\n",
    "\n",
    "    module.add_module('model', model)\n",
    "\n",
    "    module.to(device);\n",
    "\n",
    "    module.load_state_dict(tmp['state_dict'])\n",
    "\n",
    "    model.segmentation = False\n",
    "    model.classification_head = None\n",
    "    model.autodecoder = None\n",
    "    module.eval();\n",
    "    \n",
    "    return model\n",
    "\n",
    "def get_features(imgs, features_batch_size=512):\n",
    "    model.eval()\n",
    "    \n",
    "    imgs = imgs if isinstance(imgs, torch.Tensor) else torch.from_numpy(imgs)\n",
    "    imgs = imgs.to(patches_device)\n",
    "    n_imgs = (imgs - rgb_mean) / rgb_std\n",
    "    \n",
    "    b_features = []\n",
    "    for b in range(0, n_imgs.shape[0], features_batch_size):\n",
    "        with torch.no_grad():\n",
    "            features, *_ = model(n_imgs[b:b+features_batch_size], return_features=True)\n",
    "            b_features.append(features)\n",
    "\n",
    "    features = torch.cat(b_features, dim=0)\n",
    "    \n",
    "    return features.cpu()"
   ]
  },
  {
   "cell_type": "code",
   "execution_count": 13,
   "metadata": {
    "_last_msg_id": "70fa3f5f8cb0449886046cc677c212ba"
   },
   "outputs": [],
   "source": [
    "patches_device = torch.device('cuda:0')\n",
    "# patches_device = torch.device('cpu')\n",
    "main_device = torch.device('cuda:1')"
   ]
  },
  {
   "cell_type": "code",
   "execution_count": 14,
   "metadata": {
    "_last_msg_id": "b882f19f59a8492387fae60a8e341b0b"
   },
   "outputs": [],
   "source": [
    "model = get_pretrained_model(get_model, \"../Patches256TestRun/version_0/checkpoints/last.ckpt\", patches_device)"
   ]
  },
  {
   "cell_type": "code",
   "execution_count": 16,
   "metadata": {
    "_last_msg_id": "877553be5e0b4c9bafceaa9d6b03dc61"
   },
   "outputs": [
    {
     "ename": "RuntimeError",
     "evalue": "Can't redefine method: forward on class: __torch__.segmentation_models_pytorch.encoders.resnet.ResNetEncoder (addMethod at /opt/conda/conda-bld/pytorch_1579040055865/work/torch/csrc/jit/script/class_type.cpp:73)\nframe #0: c10::Error::Error(c10::SourceLocation, std::string const&) + 0x47 (0x7faa93886627 in /home/ruslan/anaconda3/lib/python3.7/site-packages/torch/lib/libc10.so)\nframe #1: c10::ClassType::addMethod(torch::jit::Function*) + 0x1d9 (0x7faa99219f69 in /home/ruslan/anaconda3/lib/python3.7/site-packages/torch/lib/libtorch.so)\nframe #2: torch::jit::script::CompilationUnit::define(c10::optional<c10::QualifiedName> const&, torch::jit::script::Def const&, std::shared_ptr<torch::jit::script::Resolver> const&, torch::jit::script::Self const*, std::unordered_map<std::string, torch::jit::Function*, std::hash<std::string>, std::equal_to<std::string>, std::allocator<std::pair<std::string const, torch::jit::Function*> > > const&, bool) const + 0x6d7 (0x7faa991a6f47 in /home/ruslan/anaconda3/lib/python3.7/site-packages/torch/lib/libtorch.so)\nframe #3: torch::jit::script::CompilationUnit::define(c10::optional<c10::QualifiedName> const&, std::vector<torch::jit::script::Def, std::allocator<torch::jit::script::Def> > const&, std::vector<std::shared_ptr<torch::jit::script::Resolver>, std::allocator<std::shared_ptr<torch::jit::script::Resolver> > > const&, torch::jit::script::Self const*, bool) + 0x17d (0x7faa991a768d in /home/ruslan/anaconda3/lib/python3.7/site-packages/torch/lib/libtorch.so)\nframe #4: <unknown function> + 0x78ad7f (0x7faac4a55d7f in /home/ruslan/anaconda3/lib/python3.7/site-packages/torch/lib/libtorch_python.so)\nframe #5: <unknown function> + 0x28ba06 (0x7faac4556a06 in /home/ruslan/anaconda3/lib/python3.7/site-packages/torch/lib/libtorch_python.so)\nframe #6: _PyMethodDef_RawFastCallKeywords + 0x254 (0x555fd853f744 in /home/ruslan/anaconda3/bin/python)\nframe #7: _PyCFunction_FastCallKeywords + 0x21 (0x555fd853f861 in /home/ruslan/anaconda3/bin/python)\nframe #8: _PyEval_EvalFrameDefault + 0x52f8 (0x555fd85ab6e8 in /home/ruslan/anaconda3/bin/python)\nframe #9: _PyFunction_FastCallKeywords + 0xfb (0x555fd853eccb in /home/ruslan/anaconda3/bin/python)\nframe #10: _PyEval_EvalFrameDefault + 0x416 (0x555fd85a6806 in /home/ruslan/anaconda3/bin/python)\nframe #11: _PyEval_EvalCodeWithName + 0xac9 (0x555fd84efd09 in /home/ruslan/anaconda3/bin/python)\nframe #12: _PyFunction_FastCallKeywords + 0x387 (0x555fd853ef57 in /home/ruslan/anaconda3/bin/python)\nframe #13: _PyEval_EvalFrameDefault + 0x416 (0x555fd85a6806 in /home/ruslan/anaconda3/bin/python)\nframe #14: _PyFunction_FastCallKeywords + 0xfb (0x555fd853eccb in /home/ruslan/anaconda3/bin/python)\nframe #15: _PyEval_EvalFrameDefault + 0x416 (0x555fd85a6806 in /home/ruslan/anaconda3/bin/python)\nframe #16: _PyFunction_FastCallKeywords + 0xfb (0x555fd853eccb in /home/ruslan/anaconda3/bin/python)\nframe #17: _PyEval_EvalFrameDefault + 0x4b39 (0x555fd85aaf29 in /home/ruslan/anaconda3/bin/python)\nframe #18: _PyEval_EvalCodeWithName + 0x2f9 (0x555fd84ef539 in /home/ruslan/anaconda3/bin/python)\nframe #19: _PyFunction_FastCallKeywords + 0x325 (0x555fd853eef5 in /home/ruslan/anaconda3/bin/python)\nframe #20: _PyEval_EvalFrameDefault + 0x4b39 (0x555fd85aaf29 in /home/ruslan/anaconda3/bin/python)\nframe #21: _PyEval_EvalCodeWithName + 0x2f9 (0x555fd84ef539 in /home/ruslan/anaconda3/bin/python)\nframe #22: PyEval_EvalCodeEx + 0x44 (0x555fd84f0424 in /home/ruslan/anaconda3/bin/python)\nframe #23: PyEval_EvalCode + 0x1c (0x555fd84f044c in /home/ruslan/anaconda3/bin/python)\nframe #24: <unknown function> + 0x1daf8d (0x555fd85b5f8d in /home/ruslan/anaconda3/bin/python)\nframe #25: _PyMethodDef_RawFastCallKeywords + 0xe9 (0x555fd853f5d9 in /home/ruslan/anaconda3/bin/python)\nframe #26: _PyCFunction_FastCallKeywords + 0x21 (0x555fd853f861 in /home/ruslan/anaconda3/bin/python)\nframe #27: _PyEval_EvalFrameDefault + 0x47a4 (0x555fd85aab94 in /home/ruslan/anaconda3/bin/python)\nframe #28: _PyGen_Send + 0x2a2 (0x555fd8548592 in /home/ruslan/anaconda3/bin/python)\nframe #29: _PyEval_EvalFrameDefault + 0x1a79 (0x555fd85a7e69 in /home/ruslan/anaconda3/bin/python)\nframe #30: _PyGen_Send + 0x2a2 (0x555fd8548592 in /home/ruslan/anaconda3/bin/python)\nframe #31: _PyEval_EvalFrameDefault + 0x1a79 (0x555fd85a7e69 in /home/ruslan/anaconda3/bin/python)\nframe #32: _PyGen_Send + 0x2a2 (0x555fd8548592 in /home/ruslan/anaconda3/bin/python)\nframe #33: _PyMethodDef_RawFastCallKeywords + 0x8d (0x555fd853f57d in /home/ruslan/anaconda3/bin/python)\nframe #34: _PyMethodDescr_FastCallKeywords + 0x4f (0x555fd85473cf in /home/ruslan/anaconda3/bin/python)\nframe #35: _PyEval_EvalFrameDefault + 0x4c8c (0x555fd85ab07c in /home/ruslan/anaconda3/bin/python)\nframe #36: _PyFunction_FastCallKeywords + 0xfb (0x555fd853eccb in /home/ruslan/anaconda3/bin/python)\nframe #37: _PyEval_EvalFrameDefault + 0x416 (0x555fd85a6806 in /home/ruslan/anaconda3/bin/python)\nframe #38: _PyFunction_FastCallKeywords + 0xfb (0x555fd853eccb in /home/ruslan/anaconda3/bin/python)\nframe #39: _PyEval_EvalFrameDefault + 0x6a3 (0x555fd85a6a93 in /home/ruslan/anaconda3/bin/python)\nframe #40: _PyEval_EvalCodeWithName + 0x2f9 (0x555fd84ef539 in /home/ruslan/anaconda3/bin/python)\nframe #41: _PyFunction_FastCallDict + 0x400 (0x555fd84f0860 in /home/ruslan/anaconda3/bin/python)\nframe #42: _PyObject_Call_Prepend + 0x63 (0x555fd850ee53 in /home/ruslan/anaconda3/bin/python)\nframe #43: PyObject_Call + 0x6e (0x555fd8501dbe in /home/ruslan/anaconda3/bin/python)\nframe #44: _PyEval_EvalFrameDefault + 0x1e42 (0x555fd85a8232 in /home/ruslan/anaconda3/bin/python)\nframe #45: _PyEval_EvalCodeWithName + 0x5da (0x555fd84ef81a in /home/ruslan/anaconda3/bin/python)\nframe #46: _PyFunction_FastCallKeywords + 0x387 (0x555fd853ef57 in /home/ruslan/anaconda3/bin/python)\nframe #47: _PyEval_EvalFrameDefault + 0x14dc (0x555fd85a78cc in /home/ruslan/anaconda3/bin/python)\nframe #48: <unknown function> + 0x16d059 (0x555fd8548059 in /home/ruslan/anaconda3/bin/python)\nframe #49: _PyMethodDef_RawFastCallKeywords + 0xe9 (0x555fd853f5d9 in /home/ruslan/anaconda3/bin/python)\nframe #50: _PyCFunction_FastCallKeywords + 0x21 (0x555fd853f861 in /home/ruslan/anaconda3/bin/python)\nframe #51: _PyEval_EvalFrameDefault + 0x47a4 (0x555fd85aab94 in /home/ruslan/anaconda3/bin/python)\nframe #52: _PyEval_EvalCodeWithName + 0x5da (0x555fd84ef81a in /home/ruslan/anaconda3/bin/python)\nframe #53: _PyFunction_FastCallKeywords + 0x387 (0x555fd853ef57 in /home/ruslan/anaconda3/bin/python)\nframe #54: _PyEval_EvalFrameDefault + 0x6a3 (0x555fd85a6a93 in /home/ruslan/anaconda3/bin/python)\nframe #55: <unknown function> + 0x16d059 (0x555fd8548059 in /home/ruslan/anaconda3/bin/python)\nframe #56: _PyMethodDef_RawFastCallKeywords + 0xe9 (0x555fd853f5d9 in /home/ruslan/anaconda3/bin/python)\nframe #57: _PyCFunction_FastCallKeywords + 0x21 (0x555fd853f861 in /home/ruslan/anaconda3/bin/python)\nframe #58: _PyEval_EvalFrameDefault + 0x47a4 (0x555fd85aab94 in /home/ruslan/anaconda3/bin/python)\nframe #59: _PyEval_EvalCodeWithName + 0x5da (0x555fd84ef81a in /home/ruslan/anaconda3/bin/python)\nframe #60: _PyFunction_FastCallKeywords + 0x387 (0x555fd853ef57 in /home/ruslan/anaconda3/bin/python)\nframe #61: _PyEval_EvalFrameDefault + 0x416 (0x555fd85a6806 in /home/ruslan/anaconda3/bin/python)\nframe #62: <unknown function> + 0x16d059 (0x555fd8548059 in /home/ruslan/anaconda3/bin/python)\nframe #63: _PyMethodDef_RawFastCallKeywords + 0xe9 (0x555fd853f5d9 in /home/ruslan/anaconda3/bin/python)\n",
     "output_type": "error",
     "traceback": [
      "\u001b[0;31m---------------------------------------------------------------------------\u001b[0m",
      "\u001b[0;31mRuntimeError\u001b[0m                              Traceback (most recent call last)",
      "\u001b[0;32m<ipython-input-16-9631dad1f244>\u001b[0m in \u001b[0;36m<module>\u001b[0;34m\u001b[0m\n\u001b[0;32m----> 1\u001b[0;31m \u001b[0mmodel\u001b[0m \u001b[0;34m=\u001b[0m \u001b[0mtorch\u001b[0m\u001b[0;34m.\u001b[0m\u001b[0mjit\u001b[0m\u001b[0;34m.\u001b[0m\u001b[0mscript\u001b[0m\u001b[0;34m(\u001b[0m\u001b[0mmodel\u001b[0m\u001b[0;34m)\u001b[0m\u001b[0;34m\u001b[0m\u001b[0;34m\u001b[0m\u001b[0m\n\u001b[0m",
      "\u001b[0;32m~/anaconda3/lib/python3.7/site-packages/torch/jit/__init__.py\u001b[0m in \u001b[0;36mscript\u001b[0;34m(obj, optimize, _frames_up, _rcb)\u001b[0m\n\u001b[1;32m   1253\u001b[0m \u001b[0;34m\u001b[0m\u001b[0m\n\u001b[1;32m   1254\u001b[0m     \u001b[0;32mif\u001b[0m \u001b[0misinstance\u001b[0m\u001b[0;34m(\u001b[0m\u001b[0mobj\u001b[0m\u001b[0;34m,\u001b[0m \u001b[0mtorch\u001b[0m\u001b[0;34m.\u001b[0m\u001b[0mnn\u001b[0m\u001b[0;34m.\u001b[0m\u001b[0mModule\u001b[0m\u001b[0;34m)\u001b[0m\u001b[0;34m:\u001b[0m\u001b[0;34m\u001b[0m\u001b[0;34m\u001b[0m\u001b[0m\n\u001b[0;32m-> 1255\u001b[0;31m         \u001b[0;32mreturn\u001b[0m \u001b[0mtorch\u001b[0m\u001b[0;34m.\u001b[0m\u001b[0mjit\u001b[0m\u001b[0;34m.\u001b[0m\u001b[0m_recursive\u001b[0m\u001b[0;34m.\u001b[0m\u001b[0mrecursive_script\u001b[0m\u001b[0;34m(\u001b[0m\u001b[0mobj\u001b[0m\u001b[0;34m)\u001b[0m\u001b[0;34m\u001b[0m\u001b[0;34m\u001b[0m\u001b[0m\n\u001b[0m\u001b[1;32m   1256\u001b[0m \u001b[0;34m\u001b[0m\u001b[0m\n\u001b[1;32m   1257\u001b[0m     \u001b[0mqualified_name\u001b[0m \u001b[0;34m=\u001b[0m \u001b[0m_qualified_name\u001b[0m\u001b[0;34m(\u001b[0m\u001b[0mobj\u001b[0m\u001b[0;34m)\u001b[0m\u001b[0;34m\u001b[0m\u001b[0;34m\u001b[0m\u001b[0m\n",
      "\u001b[0;32m~/anaconda3/lib/python3.7/site-packages/torch/jit/_recursive.py\u001b[0m in \u001b[0;36mrecursive_script\u001b[0;34m(nn_module)\u001b[0m\n\u001b[1;32m    532\u001b[0m     \u001b[0mcheck_module_initialized\u001b[0m\u001b[0;34m(\u001b[0m\u001b[0mnn_module\u001b[0m\u001b[0;34m)\u001b[0m\u001b[0;34m\u001b[0m\u001b[0;34m\u001b[0m\u001b[0m\n\u001b[1;32m    533\u001b[0m \u001b[0;34m\u001b[0m\u001b[0m\n\u001b[0;32m--> 534\u001b[0;31m     \u001b[0;32mreturn\u001b[0m \u001b[0mcreate_script_module\u001b[0m\u001b[0;34m(\u001b[0m\u001b[0mnn_module\u001b[0m\u001b[0;34m,\u001b[0m \u001b[0minfer_methods_to_compile\u001b[0m\u001b[0;34m(\u001b[0m\u001b[0mnn_module\u001b[0m\u001b[0;34m)\u001b[0m\u001b[0;34m)\u001b[0m\u001b[0;34m\u001b[0m\u001b[0;34m\u001b[0m\u001b[0m\n\u001b[0m\u001b[1;32m    535\u001b[0m \u001b[0;34m\u001b[0m\u001b[0m\n\u001b[1;32m    536\u001b[0m \u001b[0;32mdef\u001b[0m \u001b[0mtry_compile_fn\u001b[0m\u001b[0;34m(\u001b[0m\u001b[0mfn\u001b[0m\u001b[0;34m,\u001b[0m \u001b[0mloc\u001b[0m\u001b[0;34m)\u001b[0m\u001b[0;34m:\u001b[0m\u001b[0;34m\u001b[0m\u001b[0;34m\u001b[0m\u001b[0m\n",
      "\u001b[0;32m~/anaconda3/lib/python3.7/site-packages/torch/jit/_recursive.py\u001b[0m in \u001b[0;36mcreate_script_module\u001b[0;34m(nn_module, stubs)\u001b[0m\n\u001b[1;32m    294\u001b[0m     \u001b[0mcpp_module\u001b[0m \u001b[0;34m=\u001b[0m \u001b[0mtorch\u001b[0m\u001b[0;34m.\u001b[0m\u001b[0m_C\u001b[0m\u001b[0;34m.\u001b[0m\u001b[0m_create_module_with_type\u001b[0m\u001b[0;34m(\u001b[0m\u001b[0mconcrete_type\u001b[0m\u001b[0;34m.\u001b[0m\u001b[0mjit_type\u001b[0m\u001b[0;34m)\u001b[0m\u001b[0;34m\u001b[0m\u001b[0;34m\u001b[0m\u001b[0m\n\u001b[1;32m    295\u001b[0m \u001b[0;34m\u001b[0m\u001b[0m\n\u001b[0;32m--> 296\u001b[0;31m     \u001b[0;32mreturn\u001b[0m \u001b[0mcreate_script_module_impl\u001b[0m\u001b[0;34m(\u001b[0m\u001b[0mnn_module\u001b[0m\u001b[0;34m,\u001b[0m \u001b[0mconcrete_type\u001b[0m\u001b[0;34m,\u001b[0m \u001b[0mcpp_module\u001b[0m\u001b[0;34m,\u001b[0m \u001b[0mstubs\u001b[0m\u001b[0;34m)\u001b[0m\u001b[0;34m\u001b[0m\u001b[0;34m\u001b[0m\u001b[0m\n\u001b[0m\u001b[1;32m    297\u001b[0m \u001b[0;34m\u001b[0m\u001b[0m\n\u001b[1;32m    298\u001b[0m \u001b[0;32mdef\u001b[0m \u001b[0mcreate_script_module_impl\u001b[0m\u001b[0;34m(\u001b[0m\u001b[0mnn_module\u001b[0m\u001b[0;34m,\u001b[0m \u001b[0mconcrete_type\u001b[0m\u001b[0;34m,\u001b[0m \u001b[0mcpp_module\u001b[0m\u001b[0;34m,\u001b[0m \u001b[0mstubs\u001b[0m\u001b[0;34m)\u001b[0m\u001b[0;34m:\u001b[0m\u001b[0;34m\u001b[0m\u001b[0;34m\u001b[0m\u001b[0m\n",
      "\u001b[0;32m~/anaconda3/lib/python3.7/site-packages/torch/jit/_recursive.py\u001b[0m in \u001b[0;36mcreate_script_module_impl\u001b[0;34m(nn_module, concrete_type, cpp_module, stubs)\u001b[0m\n\u001b[1;32m    338\u001b[0m     \u001b[0;31m# Compile methods if necessary\u001b[0m\u001b[0;34m\u001b[0m\u001b[0;34m\u001b[0m\u001b[0;34m\u001b[0m\u001b[0m\n\u001b[1;32m    339\u001b[0m     \u001b[0;32mif\u001b[0m \u001b[0mconcrete_type\u001b[0m \u001b[0;32mnot\u001b[0m \u001b[0;32min\u001b[0m \u001b[0mconcrete_type_store\u001b[0m\u001b[0;34m.\u001b[0m\u001b[0mmethods_compiled\u001b[0m\u001b[0;34m:\u001b[0m\u001b[0;34m\u001b[0m\u001b[0;34m\u001b[0m\u001b[0m\n\u001b[0;32m--> 340\u001b[0;31m         \u001b[0mcreate_methods_from_stubs\u001b[0m\u001b[0;34m(\u001b[0m\u001b[0mconcrete_type\u001b[0m\u001b[0;34m,\u001b[0m \u001b[0mstubs\u001b[0m\u001b[0;34m)\u001b[0m\u001b[0;34m\u001b[0m\u001b[0;34m\u001b[0m\u001b[0m\n\u001b[0m\u001b[1;32m    341\u001b[0m         \u001b[0mtorch\u001b[0m\u001b[0;34m.\u001b[0m\u001b[0m_C\u001b[0m\u001b[0;34m.\u001b[0m\u001b[0m_run_emit_module_hook\u001b[0m\u001b[0;34m(\u001b[0m\u001b[0mcpp_module\u001b[0m\u001b[0;34m)\u001b[0m\u001b[0;34m\u001b[0m\u001b[0;34m\u001b[0m\u001b[0m\n\u001b[1;32m    342\u001b[0m         \u001b[0mconcrete_type_store\u001b[0m\u001b[0;34m.\u001b[0m\u001b[0mmethods_compiled\u001b[0m\u001b[0;34m.\u001b[0m\u001b[0madd\u001b[0m\u001b[0;34m(\u001b[0m\u001b[0mconcrete_type\u001b[0m\u001b[0;34m)\u001b[0m\u001b[0;34m\u001b[0m\u001b[0;34m\u001b[0m\u001b[0m\n",
      "\u001b[0;32m~/anaconda3/lib/python3.7/site-packages/torch/jit/_recursive.py\u001b[0m in \u001b[0;36mcreate_methods_from_stubs\u001b[0;34m(concrete_type, stubs)\u001b[0m\n\u001b[1;32m    257\u001b[0m     \u001b[0mrcbs\u001b[0m \u001b[0;34m=\u001b[0m \u001b[0;34m[\u001b[0m\u001b[0mm\u001b[0m\u001b[0;34m.\u001b[0m\u001b[0mresolution_callback\u001b[0m \u001b[0;32mfor\u001b[0m \u001b[0mm\u001b[0m \u001b[0;32min\u001b[0m \u001b[0mstubs\u001b[0m\u001b[0;34m]\u001b[0m\u001b[0;34m\u001b[0m\u001b[0;34m\u001b[0m\u001b[0m\n\u001b[1;32m    258\u001b[0m     \u001b[0mdefaults\u001b[0m \u001b[0;34m=\u001b[0m \u001b[0;34m[\u001b[0m\u001b[0mget_default_args\u001b[0m\u001b[0;34m(\u001b[0m\u001b[0mm\u001b[0m\u001b[0;34m.\u001b[0m\u001b[0moriginal_method\u001b[0m\u001b[0;34m)\u001b[0m \u001b[0;32mfor\u001b[0m \u001b[0mm\u001b[0m \u001b[0;32min\u001b[0m \u001b[0mstubs\u001b[0m\u001b[0;34m]\u001b[0m\u001b[0;34m\u001b[0m\u001b[0;34m\u001b[0m\u001b[0m\n\u001b[0;32m--> 259\u001b[0;31m     \u001b[0mconcrete_type\u001b[0m\u001b[0;34m.\u001b[0m\u001b[0m_create_methods\u001b[0m\u001b[0;34m(\u001b[0m\u001b[0mdefs\u001b[0m\u001b[0;34m,\u001b[0m \u001b[0mrcbs\u001b[0m\u001b[0;34m,\u001b[0m \u001b[0mdefaults\u001b[0m\u001b[0;34m)\u001b[0m\u001b[0;34m\u001b[0m\u001b[0;34m\u001b[0m\u001b[0m\n\u001b[0m\u001b[1;32m    260\u001b[0m \u001b[0;34m\u001b[0m\u001b[0m\n\u001b[1;32m    261\u001b[0m \u001b[0;32mdef\u001b[0m \u001b[0mcreate_script_module_for_tracing\u001b[0m\u001b[0;34m(\u001b[0m\u001b[0mnn_module\u001b[0m\u001b[0;34m,\u001b[0m \u001b[0mstubs\u001b[0m\u001b[0;34m)\u001b[0m\u001b[0;34m:\u001b[0m\u001b[0;34m\u001b[0m\u001b[0;34m\u001b[0m\u001b[0m\n",
      "\u001b[0;31mRuntimeError\u001b[0m: Can't redefine method: forward on class: __torch__.segmentation_models_pytorch.encoders.resnet.ResNetEncoder (addMethod at /opt/conda/conda-bld/pytorch_1579040055865/work/torch/csrc/jit/script/class_type.cpp:73)\nframe #0: c10::Error::Error(c10::SourceLocation, std::string const&) + 0x47 (0x7faa93886627 in /home/ruslan/anaconda3/lib/python3.7/site-packages/torch/lib/libc10.so)\nframe #1: c10::ClassType::addMethod(torch::jit::Function*) + 0x1d9 (0x7faa99219f69 in /home/ruslan/anaconda3/lib/python3.7/site-packages/torch/lib/libtorch.so)\nframe #2: torch::jit::script::CompilationUnit::define(c10::optional<c10::QualifiedName> const&, torch::jit::script::Def const&, std::shared_ptr<torch::jit::script::Resolver> const&, torch::jit::script::Self const*, std::unordered_map<std::string, torch::jit::Function*, std::hash<std::string>, std::equal_to<std::string>, std::allocator<std::pair<std::string const, torch::jit::Function*> > > const&, bool) const + 0x6d7 (0x7faa991a6f47 in /home/ruslan/anaconda3/lib/python3.7/site-packages/torch/lib/libtorch.so)\nframe #3: torch::jit::script::CompilationUnit::define(c10::optional<c10::QualifiedName> const&, std::vector<torch::jit::script::Def, std::allocator<torch::jit::script::Def> > const&, std::vector<std::shared_ptr<torch::jit::script::Resolver>, std::allocator<std::shared_ptr<torch::jit::script::Resolver> > > const&, torch::jit::script::Self const*, bool) + 0x17d (0x7faa991a768d in /home/ruslan/anaconda3/lib/python3.7/site-packages/torch/lib/libtorch.so)\nframe #4: <unknown function> + 0x78ad7f (0x7faac4a55d7f in /home/ruslan/anaconda3/lib/python3.7/site-packages/torch/lib/libtorch_python.so)\nframe #5: <unknown function> + 0x28ba06 (0x7faac4556a06 in /home/ruslan/anaconda3/lib/python3.7/site-packages/torch/lib/libtorch_python.so)\nframe #6: _PyMethodDef_RawFastCallKeywords + 0x254 (0x555fd853f744 in /home/ruslan/anaconda3/bin/python)\nframe #7: _PyCFunction_FastCallKeywords + 0x21 (0x555fd853f861 in /home/ruslan/anaconda3/bin/python)\nframe #8: _PyEval_EvalFrameDefault + 0x52f8 (0x555fd85ab6e8 in /home/ruslan/anaconda3/bin/python)\nframe #9: _PyFunction_FastCallKeywords + 0xfb (0x555fd853eccb in /home/ruslan/anaconda3/bin/python)\nframe #10: _PyEval_EvalFrameDefault + 0x416 (0x555fd85a6806 in /home/ruslan/anaconda3/bin/python)\nframe #11: _PyEval_EvalCodeWithName + 0xac9 (0x555fd84efd09 in /home/ruslan/anaconda3/bin/python)\nframe #12: _PyFunction_FastCallKeywords + 0x387 (0x555fd853ef57 in /home/ruslan/anaconda3/bin/python)\nframe #13: _PyEval_EvalFrameDefault + 0x416 (0x555fd85a6806 in /home/ruslan/anaconda3/bin/python)\nframe #14: _PyFunction_FastCallKeywords + 0xfb (0x555fd853eccb in /home/ruslan/anaconda3/bin/python)\nframe #15: _PyEval_EvalFrameDefault + 0x416 (0x555fd85a6806 in /home/ruslan/anaconda3/bin/python)\nframe #16: _PyFunction_FastCallKeywords + 0xfb (0x555fd853eccb in /home/ruslan/anaconda3/bin/python)\nframe #17: _PyEval_EvalFrameDefault + 0x4b39 (0x555fd85aaf29 in /home/ruslan/anaconda3/bin/python)\nframe #18: _PyEval_EvalCodeWithName + 0x2f9 (0x555fd84ef539 in /home/ruslan/anaconda3/bin/python)\nframe #19: _PyFunction_FastCallKeywords + 0x325 (0x555fd853eef5 in /home/ruslan/anaconda3/bin/python)\nframe #20: _PyEval_EvalFrameDefault + 0x4b39 (0x555fd85aaf29 in /home/ruslan/anaconda3/bin/python)\nframe #21: _PyEval_EvalCodeWithName + 0x2f9 (0x555fd84ef539 in /home/ruslan/anaconda3/bin/python)\nframe #22: PyEval_EvalCodeEx + 0x44 (0x555fd84f0424 in /home/ruslan/anaconda3/bin/python)\nframe #23: PyEval_EvalCode + 0x1c (0x555fd84f044c in /home/ruslan/anaconda3/bin/python)\nframe #24: <unknown function> + 0x1daf8d (0x555fd85b5f8d in /home/ruslan/anaconda3/bin/python)\nframe #25: _PyMethodDef_RawFastCallKeywords + 0xe9 (0x555fd853f5d9 in /home/ruslan/anaconda3/bin/python)\nframe #26: _PyCFunction_FastCallKeywords + 0x21 (0x555fd853f861 in /home/ruslan/anaconda3/bin/python)\nframe #27: _PyEval_EvalFrameDefault + 0x47a4 (0x555fd85aab94 in /home/ruslan/anaconda3/bin/python)\nframe #28: _PyGen_Send + 0x2a2 (0x555fd8548592 in /home/ruslan/anaconda3/bin/python)\nframe #29: _PyEval_EvalFrameDefault + 0x1a79 (0x555fd85a7e69 in /home/ruslan/anaconda3/bin/python)\nframe #30: _PyGen_Send + 0x2a2 (0x555fd8548592 in /home/ruslan/anaconda3/bin/python)\nframe #31: _PyEval_EvalFrameDefault + 0x1a79 (0x555fd85a7e69 in /home/ruslan/anaconda3/bin/python)\nframe #32: _PyGen_Send + 0x2a2 (0x555fd8548592 in /home/ruslan/anaconda3/bin/python)\nframe #33: _PyMethodDef_RawFastCallKeywords + 0x8d (0x555fd853f57d in /home/ruslan/anaconda3/bin/python)\nframe #34: _PyMethodDescr_FastCallKeywords + 0x4f (0x555fd85473cf in /home/ruslan/anaconda3/bin/python)\nframe #35: _PyEval_EvalFrameDefault + 0x4c8c (0x555fd85ab07c in /home/ruslan/anaconda3/bin/python)\nframe #36: _PyFunction_FastCallKeywords + 0xfb (0x555fd853eccb in /home/ruslan/anaconda3/bin/python)\nframe #37: _PyEval_EvalFrameDefault + 0x416 (0x555fd85a6806 in /home/ruslan/anaconda3/bin/python)\nframe #38: _PyFunction_FastCallKeywords + 0xfb (0x555fd853eccb in /home/ruslan/anaconda3/bin/python)\nframe #39: _PyEval_EvalFrameDefault + 0x6a3 (0x555fd85a6a93 in /home/ruslan/anaconda3/bin/python)\nframe #40: _PyEval_EvalCodeWithName + 0x2f9 (0x555fd84ef539 in /home/ruslan/anaconda3/bin/python)\nframe #41: _PyFunction_FastCallDict + 0x400 (0x555fd84f0860 in /home/ruslan/anaconda3/bin/python)\nframe #42: _PyObject_Call_Prepend + 0x63 (0x555fd850ee53 in /home/ruslan/anaconda3/bin/python)\nframe #43: PyObject_Call + 0x6e (0x555fd8501dbe in /home/ruslan/anaconda3/bin/python)\nframe #44: _PyEval_EvalFrameDefault + 0x1e42 (0x555fd85a8232 in /home/ruslan/anaconda3/bin/python)\nframe #45: _PyEval_EvalCodeWithName + 0x5da (0x555fd84ef81a in /home/ruslan/anaconda3/bin/python)\nframe #46: _PyFunction_FastCallKeywords + 0x387 (0x555fd853ef57 in /home/ruslan/anaconda3/bin/python)\nframe #47: _PyEval_EvalFrameDefault + 0x14dc (0x555fd85a78cc in /home/ruslan/anaconda3/bin/python)\nframe #48: <unknown function> + 0x16d059 (0x555fd8548059 in /home/ruslan/anaconda3/bin/python)\nframe #49: _PyMethodDef_RawFastCallKeywords + 0xe9 (0x555fd853f5d9 in /home/ruslan/anaconda3/bin/python)\nframe #50: _PyCFunction_FastCallKeywords + 0x21 (0x555fd853f861 in /home/ruslan/anaconda3/bin/python)\nframe #51: _PyEval_EvalFrameDefault + 0x47a4 (0x555fd85aab94 in /home/ruslan/anaconda3/bin/python)\nframe #52: _PyEval_EvalCodeWithName + 0x5da (0x555fd84ef81a in /home/ruslan/anaconda3/bin/python)\nframe #53: _PyFunction_FastCallKeywords + 0x387 (0x555fd853ef57 in /home/ruslan/anaconda3/bin/python)\nframe #54: _PyEval_EvalFrameDefault + 0x6a3 (0x555fd85a6a93 in /home/ruslan/anaconda3/bin/python)\nframe #55: <unknown function> + 0x16d059 (0x555fd8548059 in /home/ruslan/anaconda3/bin/python)\nframe #56: _PyMethodDef_RawFastCallKeywords + 0xe9 (0x555fd853f5d9 in /home/ruslan/anaconda3/bin/python)\nframe #57: _PyCFunction_FastCallKeywords + 0x21 (0x555fd853f861 in /home/ruslan/anaconda3/bin/python)\nframe #58: _PyEval_EvalFrameDefault + 0x47a4 (0x555fd85aab94 in /home/ruslan/anaconda3/bin/python)\nframe #59: _PyEval_EvalCodeWithName + 0x5da (0x555fd84ef81a in /home/ruslan/anaconda3/bin/python)\nframe #60: _PyFunction_FastCallKeywords + 0x387 (0x555fd853ef57 in /home/ruslan/anaconda3/bin/python)\nframe #61: _PyEval_EvalFrameDefault + 0x416 (0x555fd85a6806 in /home/ruslan/anaconda3/bin/python)\nframe #62: <unknown function> + 0x16d059 (0x555fd8548059 in /home/ruslan/anaconda3/bin/python)\nframe #63: _PyMethodDef_RawFastCallKeywords + 0xe9 (0x555fd853f5d9 in /home/ruslan/anaconda3/bin/python)\n"
     ]
    }
   ],
   "source": [
    "model = torch.jit.script(model)"
   ]
  },
  {
   "cell_type": "code",
   "execution_count": 18,
   "metadata": {
    "_last_msg_id": "a0693b94c070416c8402e0492187be4f"
   },
   "outputs": [
    {
     "data": {
      "text/plain": [
       "<function segmentation_models_pytorch.encoders.resnet.ResNetEncoder.forward(self, x)>"
      ]
     },
     "execution_count": 18,
     "metadata": {},
     "output_type": "execute_result"
    }
   ],
   "source": [
    "model.__class__.forward"
   ]
  },
  {
   "cell_type": "code",
   "execution_count": null,
   "metadata": {},
   "outputs": [],
   "source": []
  },
  {
   "cell_type": "code",
   "execution_count": null,
   "metadata": {},
   "outputs": [],
   "source": []
  },
  {
   "cell_type": "code",
   "execution_count": null,
   "metadata": {
    "_last_msg_id": "01d3602c05054f6b80dcd0f9684c2b3c"
   },
   "outputs": [],
   "source": [
    "rgb_mean, rgb_std = (torch.tensor(patches_rgb_mean_av1, dtype=torch.float32, device=patches_device), \n",
    "                     torch.tensor(patches_rgb_std_av1, dtype=torch.float32, device=patches_device))"
   ]
  },
  {
   "cell_type": "code",
   "execution_count": null,
   "metadata": {
    "_last_msg_id": "988a3b9e8dbb40a49d935b14afa0eb6a"
   },
   "outputs": [],
   "source": [
    "train_img_ids, test_img_ids = get_train_test_img_ids_split()\n",
    "\n",
    "test_img_ids[:4]"
   ]
  },
  {
   "cell_type": "code",
   "execution_count": null,
   "metadata": {
    "_last_msg_id": "cb702d22b0bc452f9192ea0f21537c77"
   },
   "outputs": [],
   "source": [
    "dataset = WSIPatchesDatasetRaw(train_img_ids, patches_pkl_path, \n",
    "                               scale=0.5, transform=augment_v1_clr_only)"
   ]
  },
  {
   "cell_type": "code",
   "execution_count": null,
   "metadata": {
    "_last_msg_id": "e99f9d106ded4fcc813d05e77a406555"
   },
   "outputs": [],
   "source": [
    "process = psutil.Process(os.getpid())"
   ]
  },
  {
   "cell_type": "code",
   "execution_count": null,
   "metadata": {
    "_last_msg_id": "742ff56bf9f6405185d4b6698bfbe602"
   },
   "outputs": [],
   "source": []
  },
  {
   "cell_type": "code",
   "execution_count": null,
   "metadata": {},
   "outputs": [],
   "source": []
  },
  {
   "cell_type": "code",
   "execution_count": null,
   "metadata": {
    "_last_msg_id": "165cc48498b148c780a60b0f2270f09d",
    "scrolled": true
   },
   "outputs": [],
   "source": [
    "for _ in range(5):        \n",
    "    memory = []\n",
    "\n",
    "    main_batch_size = 64\n",
    "\n",
    "    max_len = 300\n",
    "\n",
    "    idxs = list(range(len(dataset)))\n",
    "    random.shuffle(idxs)\n",
    "\n",
    "    def process_item(idx):\n",
    "        item_data = dataset[idx]\n",
    "        return item_data\n",
    "\n",
    "    b_features = torch.zeros((main_batch_size, max_len, 512, 8, 8), dtype=torch.float32)\n",
    "    b_ys = torch.zeros((main_batch_size, max_len), dtype=torch.int64)\n",
    "    b_xs = torch.zeros((main_batch_size, max_len), dtype=torch.int64)\n",
    "    b_provider = torch.zeros((main_batch_size), dtype=torch.int64)\n",
    "    b_isup_grade = torch.zeros((main_batch_size), dtype=torch.int64)\n",
    "    b_gleason_score = torch.zeros((main_batch_size), dtype=torch.int64)\n",
    "\n",
    "    batch = [b_features, b_ys, b_xs, b_provider, \n",
    "             b_isup_grade, b_gleason_score]\n",
    "\n",
    "    def clean_batch():\n",
    "        for a in batch:\n",
    "            a.fill_(-1)\n",
    "\n",
    "    clean_batch()\n",
    "\n",
    "    c_iter = 0\n",
    "    with mp.Pool(processes=6) as pool:\n",
    "        for item_data in tqdm(pool.imap_unordered(process_item, idxs), total=len(dataset)):\n",
    "        # for item_data in pool.imap_unordered(process_item, idxs):\n",
    "            imgs, ys, xs, provider, isup_grade, gleason_score = item_data\n",
    "            # imgs = torch.from_numpy(imgs).to(patches_device)\n",
    "            features = get_features(imgs)\n",
    "\n",
    "            b_iter = c_iter % main_batch_size\n",
    "            p = ys.shape[0]\n",
    "\n",
    "            b_features[b_iter, :p] = features[:max_len]\n",
    "            b_ys[b_iter, :p] = torch.from_numpy(ys)[:max_len]        \n",
    "            b_xs[b_iter, :p] = torch.from_numpy(xs)[:max_len]\n",
    "            b_provider[b_iter] = provider\n",
    "            b_isup_grade[b_iter] = isup_grade        \n",
    "            b_gleason_score[b_iter] = gleason_score\n",
    "\n",
    "            if (c_iter + 1) % main_batch_size == 0:\n",
    "                #process batch\n",
    "                #yield batch\n",
    "\n",
    "                # clean batch data\n",
    "                clean_batch()\n",
    "\n",
    "            c_iter += 1\n",
    "\n",
    "            memory.append(process.memory_info().rss)\n",
    "\n",
    "    plt.axes().ticklabel_format(style='sci', scilimits=(9, 9))\n",
    "    plt.plot(memory);\n",
    "    plt.show()"
   ]
  },
  {
   "cell_type": "code",
   "execution_count": 19,
   "metadata": {
    "_last_msg_id": "7b61ee9e2180482698f253e0bf3938d1"
   },
   "outputs": [],
   "source": []
  },
  {
   "cell_type": "code",
   "execution_count": null,
   "metadata": {},
   "outputs": [],
   "source": []
  },
  {
   "cell_type": "code",
   "execution_count": 10,
   "metadata": {
    "_last_msg_id": "d95b5f8c01e34b61adcd2041743d1a50"
   },
   "outputs": [],
   "source": [
    "class WSIPatchesDataloader():\n",
    "    def __init__(self, dataset, batch_size=1, shuffle=False, num_workers=0, max_len=300):\n",
    "        self.dataset = dataset\n",
    "        self.batch_size = batch_size\n",
    "        self.shuffle = shuffle\n",
    "        self.num_workers = num_workers\n",
    "        self.max_len = max_len\n",
    "    \n",
    "    def __len__(self):\n",
    "        return math.ceil(len(self.dataset) / self.batch_size)\n",
    "    \n",
    "    def __iter__(self):\n",
    "        return self.produce_batches()\n",
    "    \n",
    "    def produce_batches(self):\n",
    "        def process_item(idx):\n",
    "            item_data = self.dataset[idx]\n",
    "            return item_data\n",
    "\n",
    "        def clean_batch():\n",
    "            for a in batch:\n",
    "                a.fill_(-1)        \n",
    "        \n",
    "        idxs = list(range(len(self.dataset)))\n",
    "        \n",
    "        if self.shuffle:\n",
    "            random.shuffle(idxs)\n",
    "            \n",
    "        max_len = self.max_len\n",
    "\n",
    "        b_features = torch.zeros((main_batch_size, max_len, 512, 8, 8), dtype=torch.float32)\n",
    "        b_ys = torch.zeros((main_batch_size, max_len), dtype=torch.int64)\n",
    "        b_xs = torch.zeros((main_batch_size, max_len), dtype=torch.int64)\n",
    "        b_provider = torch.zeros((main_batch_size), dtype=torch.int64)\n",
    "        b_isup_grade = torch.zeros((main_batch_size), dtype=torch.int64)\n",
    "        b_gleason_score = torch.zeros((main_batch_size), dtype=torch.int64)\n",
    "\n",
    "        batch = [b_features, b_ys, b_xs, b_provider, \n",
    "                 b_isup_grade, b_gleason_score]\n",
    "\n",
    "        clean_batch()\n",
    "\n",
    "        c_iter = 0\n",
    "        with mp.Pool(processes=self.num_workers) as pool:\n",
    "            # for item_data in tqdm(pool.imap_unordered(process_item, idxs), total=len(dataset)):\n",
    "            for item_data in pool.imap_unordered(process_item, idxs):\n",
    "                imgs, ys, xs, provider, isup_grade, gleason_score = item_data\n",
    "                features = get_features(imgs)\n",
    "\n",
    "                b_iter = c_iter % main_batch_size\n",
    "                p = ys.shape[0]\n",
    "\n",
    "                b_features[b_iter, :p] = features[:max_len]\n",
    "                b_ys[b_iter, :p] = torch.from_numpy(ys)[:max_len]        \n",
    "                b_xs[b_iter, :p] = torch.from_numpy(xs)[:max_len]\n",
    "                b_provider[b_iter] = provider\n",
    "                b_provider[b_isup_grade] = isup_grade        \n",
    "                b_provider[b_gleason_score] = gleason_score\n",
    "\n",
    "                if (c_iter + 1) % main_batch_size == 0:\n",
    "                    #process batch\n",
    "                    yield batch\n",
    "\n",
    "                    # clean batch data\n",
    "                    clean_batch()\n",
    "\n",
    "                c_iter += 1\n",
    "\n",
    "        if c_iter % main_batch_size != 0:        \n",
    "            yield [a[:c_iter % main_batch_size] for a in batch]"
   ]
  },
  {
   "cell_type": "code",
   "execution_count": 11,
   "metadata": {
    "_last_msg_id": "ee6c0ba7da824bc08fa1227d6938206b"
   },
   "outputs": [],
   "source": [
    "main_batch_size = 64"
   ]
  },
  {
   "cell_type": "code",
   "execution_count": 12,
   "metadata": {
    "_last_msg_id": "9f7d7100c52d4692babd78847426f83b"
   },
   "outputs": [],
   "source": [
    "train_loader = WSIPatchesDataloader(WSIPatchesDatasetRaw(train_img_ids, patches_pkl_path, \n",
    "                                                         scale=0.5, transform=augment_v1_clr_only), \n",
    "                                    main_batch_size, shuffle=True, num_workers=6, max_len=300)"
   ]
  },
  {
   "cell_type": "code",
   "execution_count": 13,
   "metadata": {
    "_last_msg_id": "1912cbf4311d488c8271dc9383f2dd11"
   },
   "outputs": [
    {
     "data": {
      "application/vnd.jupyter.widget-view+json": {
       "model_id": "45f2129ec2a748fe98c6e75d2efc18f4",
       "version_major": 2,
       "version_minor": 0
      },
      "text/plain": [
       "HBox(children=(FloatProgress(value=0.0, max=132.0), HTML(value='')))"
      ]
     },
     "metadata": {},
     "output_type": "display_data"
    },
    {
     "name": "stdout",
     "output_type": "stream",
     "text": [
      "\n"
     ]
    }
   ],
   "source": [
    "memory = []\n",
    "for data in tqdm(train_loader, total=len(train_loader)):\n",
    "    memory.append(process.memory_info().rss)"
   ]
  },
  {
   "cell_type": "code",
   "execution_count": 14,
   "metadata": {
    "_last_msg_id": "ae244de055474bb1a8042361677e227e"
   },
   "outputs": [
    {
     "data": {
      "image/png": "[encoded data removed]",
      "text/plain": [
       "<Figure size 432x288 with 1 Axes>"
      ]
     },
     "metadata": {
      "needs_background": "light"
     },
     "output_type": "display_data"
    }
   ],
   "source": [
    "plt.axes().ticklabel_format(style='sci', scilimits=(9, 9))\n",
    "plt.plot(memory);"
   ]
  },
  {
   "cell_type": "code",
   "execution_count": 15,
   "metadata": {
    "_last_msg_id": "95efd85def4f4a809cefa23369433254"
   },
   "outputs": [
    {
     "data": {
      "application/vnd.jupyter.widget-view+json": {
       "model_id": "27aef7db8b814423ab99c7532f32fbd9",
       "version_major": 2,
       "version_minor": 0
      },
      "text/plain": [
       "HBox(children=(FloatProgress(value=0.0, max=132.0), HTML(value='')))"
      ]
     },
     "metadata": {},
     "output_type": "display_data"
    },
    {
     "name": "stdout",
     "output_type": "stream",
     "text": [
      "\n"
     ]
    }
   ],
   "source": [
    "memory = []\n",
    "for data in tqdm(train_loader, total=len(train_loader)):\n",
    "    memory.append(process.memory_info().rss)"
   ]
  },
  {
   "cell_type": "code",
   "execution_count": 16,
   "metadata": {
    "_last_msg_id": "982a32b7edfb4c1e8a418348f65554af"
   },
   "outputs": [
    {
     "data": {
      "image/png": "[encoded data removed]",
      "text/plain": [
       "<Figure size 432x288 with 1 Axes>"
      ]
     },
     "metadata": {
      "needs_background": "light"
     },
     "output_type": "display_data"
    }
   ],
   "source": [
    "plt.axes().ticklabel_format(style='sci', scilimits=(9, 9))\n",
    "plt.plot(memory);"
   ]
  },
  {
   "cell_type": "code",
   "execution_count": 17,
   "metadata": {
    "_last_msg_id": "cc9ea7a5b610497f8ddd895a88710a1a"
   },
   "outputs": [
    {
     "data": {
      "application/vnd.jupyter.widget-view+json": {
       "model_id": "7c47372806f441e392081aba599f51bc",
       "version_major": 2,
       "version_minor": 0
      },
      "text/plain": [
       "HBox(children=(FloatProgress(value=0.0, max=132.0), HTML(value='')))"
      ]
     },
     "metadata": {},
     "output_type": "display_data"
    },
    {
     "name": "stdout",
     "output_type": "stream",
     "text": [
      "\n"
     ]
    }
   ],
   "source": [
    "memory = []\n",
    "for data in tqdm(train_loader, total=len(train_loader)):\n",
    "    memory.append(process.memory_info().rss)"
   ]
  },
  {
   "cell_type": "code",
   "execution_count": 18,
   "metadata": {
    "_last_msg_id": "f105157ab08848ff81b7610365075329"
   },
   "outputs": [
    {
     "data": {
      "image/png": "[encoded data removed]",
      "text/plain": [
       "<Figure size 432x288 with 1 Axes>"
      ]
     },
     "metadata": {
      "needs_background": "light"
     },
     "output_type": "display_data"
    }
   ],
   "source": [
    "plt.axes().ticklabel_format(style='sci', scilimits=(9, 9))\n",
    "plt.plot(memory);"
   ]
  },
  {
   "cell_type": "code",
   "execution_count": null,
   "metadata": {},
   "outputs": [],
   "source": []
  },
  {
   "cell_type": "code",
   "execution_count": null,
   "metadata": {},
   "outputs": [],
   "source": []
  },
  {
   "cell_type": "code",
   "execution_count": null,
   "metadata": {},
   "outputs": [],
   "source": []
  },
  {
   "cell_type": "code",
   "execution_count": null,
   "metadata": {
    "_last_msg_id": "9ac92b45143d43d88aebb36fd34ea195"
   },
   "outputs": [],
   "source": []
  },
  {
   "cell_type": "code",
   "execution_count": 10,
   "metadata": {
    "_last_msg_id": "cc70cba0be2a4f7f8f1dac35bc59fdd4"
   },
   "outputs": [],
   "source": [
    "def get_batches():\n",
    "    main_batch_size = 64\n",
    "\n",
    "    max_len = 300\n",
    "\n",
    "    idxs = list(range(len(dataset)))\n",
    "    random.shuffle(idxs)\n",
    "\n",
    "    def process_item(idx):\n",
    "        item_data = dataset[idx]\n",
    "        return item_data\n",
    "\n",
    "    b_features = torch.zeros((main_batch_size, max_len, 512, 8, 8), dtype=torch.float32)\n",
    "    b_ys = torch.zeros((main_batch_size, max_len), dtype=torch.int64)\n",
    "    b_xs = torch.zeros((main_batch_size, max_len), dtype=torch.int64)\n",
    "    b_provider = torch.zeros((main_batch_size), dtype=torch.int64)\n",
    "    b_isup_grade = torch.zeros((main_batch_size), dtype=torch.int64)\n",
    "    b_gleason_score = torch.zeros((main_batch_size), dtype=torch.int64)\n",
    "\n",
    "    batch = [b_features, b_ys, b_xs, b_provider, \n",
    "             b_isup_grade, b_gleason_score]\n",
    "\n",
    "    def clean_batch():\n",
    "        for a in batch:\n",
    "            a.fill_(-1)\n",
    "\n",
    "    clean_batch()\n",
    "\n",
    "    c_iter = 0\n",
    "    with mp.Pool(processes=6) as pool:\n",
    "        # for item_data in tqdm(pool.imap_unordered(process_item, idxs), total=len(dataset)):\n",
    "        for item_data in pool.imap_unordered(process_item, idxs):\n",
    "            imgs, ys, xs, provider, isup_grade, gleason_score = item_data\n",
    "            imgs = torch.from_numpy(imgs).to(patches_device)\n",
    "            features = get_features(imgs)\n",
    "\n",
    "            b_iter = c_iter % main_batch_size\n",
    "            p = ys.shape[0]\n",
    "\n",
    "            b_features[b_iter, :p] = features[:max_len]\n",
    "            b_ys[b_iter, :p] = torch.from_numpy(ys)[:max_len]        \n",
    "            b_xs[b_iter, :p] = torch.from_numpy(xs)[:max_len]\n",
    "            b_provider[b_iter] = provider\n",
    "            b_provider[b_isup_grade] = isup_grade        \n",
    "            b_provider[b_gleason_score] = gleason_score\n",
    "\n",
    "            if (c_iter + 1) % main_batch_size == 0:\n",
    "                #process batch\n",
    "                yield batch\n",
    "\n",
    "                # clean batch data\n",
    "                clean_batch()\n",
    "\n",
    "            c_iter += 1\n",
    "\n",
    "    if c_iter % main_batch_size != 0:        \n",
    "        yield [a[:c_iter % main_batch_size] for a in batch]"
   ]
  },
  {
   "cell_type": "code",
   "execution_count": 12,
   "metadata": {
    "_last_msg_id": "861b2d8062934ce4922f263aba824207"
   },
   "outputs": [
    {
     "data": {
      "application/vnd.jupyter.widget-view+json": {
       "model_id": "6badb476d9fb42a6ac5eea7601b43443",
       "version_major": 2,
       "version_minor": 0
      },
      "text/plain": [
       "HBox(children=(FloatProgress(value=0.0, max=132.0), HTML(value='')))"
      ]
     },
     "metadata": {},
     "output_type": "display_data"
    },
    {
     "name": "stdout",
     "output_type": "stream",
     "text": [
      "\n"
     ]
    }
   ],
   "source": [
    "memory = []\n",
    "for data in tqdm(get_batches(), total=132):\n",
    "    memory.append(process.memory_info().rss)"
   ]
  },
  {
   "cell_type": "code",
   "execution_count": 13,
   "metadata": {
    "_last_msg_id": "33b2412587b0431ea4cfce45ce7f9b20"
   },
   "outputs": [
    {
     "data": {
      "image/png": "[encoded data removed]",
      "text/plain": [
       "<Figure size 432x288 with 1 Axes>"
      ]
     },
     "metadata": {
      "needs_background": "light"
     },
     "output_type": "display_data"
    }
   ],
   "source": [
    "plt.axes().ticklabel_format(style='sci', scilimits=(9, 9))\n",
    "plt.plot(memory);"
   ]
  },
  {
   "cell_type": "code",
   "execution_count": null,
   "metadata": {},
   "outputs": [],
   "source": []
  }
 ],
 "metadata": {
  "kernelspec": {
   "display_name": "Python 3",
   "language": "python",
   "name": "python3"
  },
  "language_info": {
   "codemirror_mode": {
    "name": "ipython",
    "version": 3
   },
   "file_extension": ".py",
   "mimetype": "text/x-python",
   "name": "python",
   "nbconvert_exporter": "python",
   "pygments_lexer": "ipython3",
   "version": "3.7.4"
  }
 },
 "nbformat": 4,
 "nbformat_minor": 2
}
