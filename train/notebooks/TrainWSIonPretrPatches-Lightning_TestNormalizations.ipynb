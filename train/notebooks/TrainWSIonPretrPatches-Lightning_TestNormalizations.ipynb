{
 "cells": [
  {
   "cell_type": "code",
   "execution_count": 1,
   "metadata": {
    "_last_msg_id": "7d7d0d6fe6884497bfe6ff5ea447b8ed"
   },
   "outputs": [],
   "source": [
    "import sys\n",
    "sys.path.append('../..')"
   ]
  },
  {
   "cell_type": "code",
   "execution_count": 2,
   "metadata": {
    "_last_msg_id": "c417075a95384288841c95ff9b1182bc"
   },
   "outputs": [],
   "source": [
    "import os\n",
    "import psutil\n",
    "\n",
    "import random\n",
    "import math\n",
    "from functools import partial\n",
    "\n",
    "import torch \n",
    "from torch import optim\n",
    "from torch.optim import lr_scheduler\n",
    "from torch import nn\n",
    "from torch.nn import functional as F\n",
    "\n",
    "import multiprocessing.dummy as mp\n",
    "\n",
    "from pytorch_lightning import Trainer\n",
    "from pytorch_lightning.core import LightningModule\n",
    "from pytorch_lightning.callbacks import ModelCheckpoint\n",
    "from pytorch_lightning.loggers.tensorboard import TensorBoardLogger\n",
    "\n",
    "\n",
    "from lib.schedulers import DelayedScheduler\n",
    "from lib.datasets import (max_lbl_nums, actual_lbl_nums, \n",
    "                          patches_rgb_mean_av1, patches_rgb_std_av1, \n",
    "                          get_train_test_img_ids_split)\n",
    "from lib.dataloaders import PatchesDataset, WSIPatchesDatasetRaw, WSIPatchesDummyDataloader\n",
    "from lib.augmentations import augment_v1_clr_only, augment_empty_clr_only\n",
    "from lib.losses import SmoothLoss\n",
    "from lib.trainers import WSIModuleV1\n",
    "\n",
    "from lib.models.unetv1 import get_model\n",
    "from lib.models.features_map import FeaturesMap\n",
    "\n",
    "from sklearn.metrics import cohen_kappa_score\n",
    "\n",
    "from tqdm.auto import tqdm\n",
    "\n",
    "import matplotlib.pyplot as plt"
   ]
  },
  {
   "cell_type": "code",
   "execution_count": 3,
   "metadata": {
    "_last_msg_id": "32ea7fa795104aae8073c53e94e572ef"
   },
   "outputs": [],
   "source": [
    "# import cv2\n",
    "import numpy as np\n",
    "# import pandas as pd\n",
    "# from lib.datasets import patches_csv_path, patches_path\n",
    "from lib.datasets import (patches_clean90_csv_path as patches_csv_path, patches_path,\n",
    "                          patches_clean90_pkl_path as patches_pkl_path)\n",
    "# from lib.dataloaders import imread, get_g_score_num, get_provider_num"
   ]
  },
  {
   "cell_type": "code",
   "execution_count": 4,
   "metadata": {
    "_last_msg_id": "30ca085d7cbb4b2eb78413e86724e699"
   },
   "outputs": [
    {
     "data": {
      "text/plain": [
       "['e8baa3bb9dcfb9cef5ca599d62bb8046',\n",
       " '9b2948ff81b64677a1a152a1532c1a50',\n",
       " '5b003d43ec0ce5979062442486f84cf7',\n",
       " '375b2c9501320b35ceb638a3274812aa']"
      ]
     },
     "execution_count": 4,
     "metadata": {},
     "output_type": "execute_result"
    }
   ],
   "source": [
    "train_img_ids, test_img_ids = get_train_test_img_ids_split()\n",
    "\n",
    "test_img_ids[:4]"
   ]
  },
  {
   "cell_type": "code",
   "execution_count": 5,
   "metadata": {
    "_last_msg_id": "6727396bd2ef4ca3890a42c879cf5f9b"
   },
   "outputs": [],
   "source": [
    "from lib.dataloaders import WSIPatchesDataloader, WSIPatchesDatasetRaw\n",
    "from lib.utils import get_pretrained_model, get_features"
   ]
  },
  {
   "cell_type": "code",
   "execution_count": 6,
   "metadata": {
    "_last_msg_id": "04cb3e9ac40e4b8989b989a7b23db541"
   },
   "outputs": [],
   "source": [
    "batch_size = 64"
   ]
  },
  {
   "cell_type": "code",
   "execution_count": 7,
   "metadata": {
    "_last_msg_id": "d461e2ae17a541c185991dfb5e7b43c2"
   },
   "outputs": [],
   "source": [
    "train_batch_path = '/mnt/SSDData/pdata/processed/pretrained/train/{}/'\n",
    "test_batch_path = '/mnt/SSDData/pdata/processed/pretrained/val/'\n",
    "\n",
    "train_loader = WSIPatchesDummyDataloader(train_batch_path, precalc_epochs=50, batch_size=batch_size, shuffle=True)\n",
    "val_loader = WSIPatchesDummyDataloader(test_batch_path, precalc_epochs=50, batch_size=batch_size, shuffle=False)"
   ]
  },
  {
   "cell_type": "code",
   "execution_count": 8,
   "metadata": {
    "_last_msg_id": "426004541124443c9eea8b62e5167c29"
   },
   "outputs": [],
   "source": [
    "steps_in_epoh = 1\n",
    "\n",
    "epochs = 90\n",
    "\n",
    "warmup_epochs = 0\n",
    "warmup_steps = 0\n",
    "\n",
    "\n",
    "hparams = {\n",
    "    'batch_size': batch_size,\n",
    "    'learning_rate': 0.001 * batch_size / 256,\n",
    "    'dataset': {\n",
    "        'dataloader': 'dummy',\n",
    "        'rgb_mean': patches_rgb_mean_av1,\n",
    "        'rgb_std': patches_rgb_std_av1,\n",
    "        'classes': max_lbl_nums,\n",
    "        'precalc_epochs': 11,\n",
    "        'train_test_split': {},\n",
    "    },\n",
    "    'optimizer': {\n",
    "        'name': 'torch.optim.Adam',\n",
    "        'params': {\n",
    "            'weight_decay': 1e-4\n",
    "        }\n",
    "    },\n",
    "    'scheduler': {\n",
    "        'name': 'torch.optim.lr_scheduler.ExponentialLR',\n",
    "        'params': {\n",
    "            'gamma': 0.96,\n",
    "        },\n",
    "        'interval': 'epoch'\n",
    "    },\n",
    "    'loss': {\n",
    "        'weights': {\n",
    "            'reg': 1 / 2,\n",
    "            'class': 9 / 2\n",
    "        },\n",
    "        'label_smoothing': 0.1\n",
    "    },\n",
    "    'warmup_steps': warmup_steps,\n",
    "    'steps_in_epoh': steps_in_epoh,\n",
    "    'epochs': epochs\n",
    "}"
   ]
  },
  {
   "cell_type": "code",
   "execution_count": 9,
   "metadata": {
    "_last_msg_id": "db095804841343e08f888560ba55de70"
   },
   "outputs": [],
   "source": [
    "steps_in_epoh = len(train_loader)"
   ]
  },
  {
   "cell_type": "code",
   "execution_count": 10,
   "metadata": {
    "_last_msg_id": "2aac67d2476f4b5a9ae4426512123083"
   },
   "outputs": [
    {
     "data": {
      "text/plain": [
       "132"
      ]
     },
     "execution_count": 10,
     "metadata": {},
     "output_type": "execute_result"
    }
   ],
   "source": [
    "steps_in_epoh"
   ]
  },
  {
   "cell_type": "code",
   "execution_count": 11,
   "metadata": {
    "_last_msg_id": "a3bb5a02e290464587967f30cce284c3"
   },
   "outputs": [],
   "source": [
    "hparams['steps_in_batch'] = steps_in_epoh\n",
    "if 'T_max' in hparams['scheduler']['params']:\n",
    "    hparams['scheduler']['params']['T_max'] = (epochs * steps_in_epoh -\n",
    "                                               warmup_steps)"
   ]
  },
  {
   "cell_type": "code",
   "execution_count": 12,
   "metadata": {
    "_last_msg_id": "1ca49cd03b0e4cd296ab32ce7634b4d0"
   },
   "outputs": [],
   "source": [
    "# tmp[0].shape\n",
    "# torch.Size([64, 300, 64, 8, 8])"
   ]
  },
  {
   "cell_type": "code",
   "execution_count": 13,
   "metadata": {
    "_last_msg_id": "52b91ebeb4ce47578de9bbe58838287b"
   },
   "outputs": [],
   "source": [
    "class Dense_512x1x1(nn.Module):\n",
    "    def __init__(self, classes, features_do):\n",
    "        super().__init__()\n",
    "\n",
    "        self.reduce = nn.Sequential(\n",
    "            nn.Dropout1d(features_do) if features_do > 0 else nn.Identity(),\n",
    "            nn.BatchNorm1d(512),\n",
    "            nn.Conv1d(512, 512, 1),\n",
    "            nn.BatchNorm1d(512),\n",
    "            nn.ReLU(),\n",
    "            nn.Conv1d(512, 512, 1),\n",
    "            nn.BatchNorm1d(512),\n",
    "            nn.ReLU(),\n",
    "            nn.Conv1d(512, 512, 1),\n",
    "        )\n",
    "\n",
    "        self.reg_linear = nn.Linear(512, 1)\n",
    "        self.class_linear = nn.Linear(512, classes)\n",
    "\n",
    "    def forward(self, features, ys, xs):\n",
    "        b = features.shape[0]\n",
    "        r_mask = ys > -1\n",
    "        x = features.transpose(-1, -2)[r_mask][..., None]\n",
    "        f_ns = torch.arange(b, device=features.device)[:, None].expand(b, ys.shape[1])[r_mask]\n",
    "        \n",
    "        out = self.reduce(x)\n",
    "        out = [F.adaptive_max_pool1d(out[f_ns == i].T, 1)[..., 0] for i in range(f_ns.max()+1)]\n",
    "        out = torch.cat(out)\n",
    "\n",
    "        return self.reg_linear(out), self.class_linear(out)"
   ]
  },
  {
   "cell_type": "code",
   "execution_count": 14,
   "metadata": {
    "_last_msg_id": "f68bf74ca0094d3096acb87934760dce"
   },
   "outputs": [],
   "source": [
    "def conv3x3(in_planes, out_planes, stride=1, groups=1, dilation=1):\n",
    "    \"\"\"3x3 convolution with padding\"\"\"\n",
    "    return nn.Conv1d(in_planes, out_planes, kernel_size=1, bias=False)\n",
    "\n",
    "class ResBlock(nn.Module):\n",
    "    def __init__(self, inplanes, planes):\n",
    "        super().__init__()\n",
    "        norm_layer = nn.BatchNorm1d        \n",
    "        \n",
    "        self.conv1 = conv3x3(inplanes, planes)\n",
    "        self.bn1 = norm_layer(planes)\n",
    "        self.relu = nn.ReLU(inplace=True)\n",
    "        self.conv2 = conv3x3(planes, planes)\n",
    "        self.bn2 = norm_layer(planes)\n",
    "        \n",
    "    def forward(self, x):\n",
    "        identity = x\n",
    "\n",
    "        out = self.conv1(x)\n",
    "        out = self.bn1(out)\n",
    "        out = self.relu(out)\n",
    "\n",
    "        out = self.conv2(out)\n",
    "        out = self.bn2(out)\n",
    "\n",
    "        out += identity\n",
    "        out = self.relu(out)\n",
    "\n",
    "        return out"
   ]
  },
  {
   "cell_type": "code",
   "execution_count": 15,
   "metadata": {
    "_last_msg_id": "096c5edc2d1a406d87c4ece5bc6e254b"
   },
   "outputs": [],
   "source": [
    "class ResNet1D_512x1x1(nn.Module):\n",
    "    def __init__(self, classes, features_do):\n",
    "        super().__init__()\n",
    "\n",
    "        self.reduce = nn.Sequential(\n",
    "            nn.BatchNorm1d(512),\n",
    "            \n",
    "            ResBlock(512, 512),\n",
    "            ResBlock(512, 512),\n",
    "            ResBlock(512, 512),\n",
    "        )\n",
    "\n",
    "        self.reg_linear = nn.Linear(512, 1)\n",
    "        self.class_linear = nn.Linear(512, classes)\n",
    "\n",
    "    def forward(self, features, ys, xs):\n",
    "        b = features.shape[0]\n",
    "        r_mask = ys > -1\n",
    "        x = features.transpose(-1, -2)[r_mask][..., None]\n",
    "        f_ns = torch.arange(b, device=features.device)[:, None].expand(b, ys.shape[1])[r_mask]\n",
    "        \n",
    "        out = self.reduce(x)\n",
    "        out = [F.adaptive_max_pool1d(out[f_ns == i].T, 1)[..., 0] for i in range(f_ns.max()+1)]\n",
    "        out = torch.cat(out)\n",
    "\n",
    "        return self.reg_linear(out), self.class_linear(out)"
   ]
  },
  {
   "cell_type": "code",
   "execution_count": null,
   "metadata": {},
   "outputs": [],
   "source": []
  },
  {
   "cell_type": "code",
   "execution_count": 16,
   "metadata": {
    "_last_msg_id": "51ab8553ca554a2191d35f64644540b3"
   },
   "outputs": [],
   "source": [
    "from lib.models.wsi_resnets import Resnet_512x1x1"
   ]
  },
  {
   "cell_type": "code",
   "execution_count": 17,
   "metadata": {
    "_last_msg_id": "0d570a6f5b864b1c85d5204923694587"
   },
   "outputs": [
    {
     "name": "stderr",
     "output_type": "stream",
     "text": [
      "/opt/conda/conda-bld/pytorch_1587428266983/work/aten/src/ATen/native/TensorFactories.cpp:361: UserWarning: Deprecation warning: In a future PyTorch release torch.full will no longer return tensors of floating dtype by default. Instead, a bool fill_value will return a tensor of torch.bool dtype, and an integral fill_value will return a tensor of torch.long dtype. Set the optional `dtype` or `out` arguments to suppress this warning.\n"
     ]
    }
   ],
   "source": [
    "model = Resnet_512x1x1('resnet18', 512, 6, 0)"
   ]
  },
  {
   "cell_type": "code",
   "execution_count": null,
   "metadata": {
    "_last_msg_id": "f5e006a8f070418a98a9103bb653c209"
   },
   "outputs": [],
   "source": []
  },
  {
   "cell_type": "code",
   "execution_count": 18,
   "metadata": {
    "_last_msg_id": "329b839a39354f55871d043ba687d8b7"
   },
   "outputs": [],
   "source": [
    "#tmp = torch.load('./lightning_logs/version_1/checkpoints/last.ckpt')\n",
    "\n",
    "#module = nn.Sequential()\n",
    "#module.add_module('model', model)\n",
    "\n",
    "# module.load_state_dict(tmp['state_dict']);"
   ]
  },
  {
   "cell_type": "code",
   "execution_count": null,
   "metadata": {
    "_last_msg_id": "ff366d2b9a25474885bd5f10e7037526"
   },
   "outputs": [],
   "source": []
  },
  {
   "cell_type": "code",
   "execution_count": 19,
   "metadata": {
    "_last_msg_id": "a72fce58131544dd9db100c30dc72db2"
   },
   "outputs": [],
   "source": [
    "features, ys, xs, provider, isup_grade, gleason_score = next(iter(train_loader))"
   ]
  },
  {
   "cell_type": "code",
   "execution_count": 20,
   "metadata": {
    "_last_msg_id": "361ebb64138e47b491f0fb5409b47c9c"
   },
   "outputs": [],
   "source": [
    "'''\n",
    "class SaveOutput:\n",
    "    def __init__(self):\n",
    "        self.outputs = []\n",
    "        \n",
    "    def __call__(self, module, module_in, module_out):\n",
    "        self.outputs.append(module_out)\n",
    "        \n",
    "    def clear(self):\n",
    "        self.outputs = []\n",
    "        \n",
    "save_output = SaveOutput()\n",
    "\n",
    "hook_handles = []\n",
    "\n",
    "for layer in model.modules():\n",
    "    if isinstance(layer, torch.nn.modules.conv.Conv2d):\n",
    "        handle = layer.register_forward_hook(save_output)\n",
    "        hook_handles.append(handle)\n",
    "''';        "
   ]
  },
  {
   "cell_type": "code",
   "execution_count": 21,
   "metadata": {
    "_last_msg_id": "24cef6bfcb2246d3a4443184078f5104"
   },
   "outputs": [],
   "source": [
    "#device = torch.device('cuda:0')"
   ]
  },
  {
   "cell_type": "code",
   "execution_count": 22,
   "metadata": {
    "_last_msg_id": "0602fcf7815d40e5a38784c1071bdd0f"
   },
   "outputs": [],
   "source": [
    "#with torch.no_grad():\n",
    "#    # x, f_mask = model(features, ys, xs)\n",
    "#    tmp = model(features.to(device), ys.to(device), xs.to(device))"
   ]
  },
  {
   "cell_type": "code",
   "execution_count": 23,
   "metadata": {
    "_last_msg_id": "b45f39e5ba7f453482ae292507d38c3c"
   },
   "outputs": [],
   "source": [
    "#x.shape, f_mask.shape"
   ]
  },
  {
   "cell_type": "code",
   "execution_count": 24,
   "metadata": {
    "_last_msg_id": "f96beef8bdfe4a3c8d9a50b61c3ad2a7"
   },
   "outputs": [],
   "source": [
    "#xs = torch.stack([x[b].permute(1, 2, 0)[f_mask[b]].mean(0)\n",
    "#                  for b in range(x.shape[0])])"
   ]
  },
  {
   "cell_type": "code",
   "execution_count": 25,
   "metadata": {
    "_last_msg_id": "a8a61424316f49768e166c462b2f6186"
   },
   "outputs": [],
   "source": [
    "#plt.imshow(x[3, 0]);"
   ]
  },
  {
   "cell_type": "code",
   "execution_count": 26,
   "metadata": {
    "_last_msg_id": "53e7239f01bc40448ad871e6d71d42b2"
   },
   "outputs": [],
   "source": [
    "# [o.shape for o in save_output.outputs]"
   ]
  },
  {
   "cell_type": "code",
   "execution_count": null,
   "metadata": {},
   "outputs": [],
   "source": []
  },
  {
   "cell_type": "code",
   "execution_count": null,
   "metadata": {},
   "outputs": [],
   "source": []
  },
  {
   "cell_type": "code",
   "execution_count": 27,
   "metadata": {
    "_last_msg_id": "82c91bafd76a44329a082aeb1a68f130"
   },
   "outputs": [],
   "source": [
    "# model.f_map.backend_feature = model.f_map.backend_feature.to(torch.device('cuda:0'));"
   ]
  },
  {
   "cell_type": "code",
   "execution_count": 28,
   "metadata": {
    "_last_msg_id": "ddc9ff76cdbb4e138facc734acb2c180"
   },
   "outputs": [],
   "source": [
    "# features.shape"
   ]
  },
  {
   "cell_type": "code",
   "execution_count": 29,
   "metadata": {
    "_last_msg_id": "7b326f0e46474b068b3ab3452d175bab"
   },
   "outputs": [],
   "source": [
    "# np.save(\"val_lbl_data.npy\", preds.cpu().numpy())"
   ]
  },
  {
   "cell_type": "code",
   "execution_count": 30,
   "metadata": {
    "_last_msg_id": "5f51825469e744ad856a44077f58cd3a"
   },
   "outputs": [],
   "source": [
    "module = WSIModuleV1(model, hparams, log_train_every_batch=False)"
   ]
  },
  {
   "cell_type": "code",
   "execution_count": 31,
   "metadata": {
    "_last_msg_id": "5ffb5d0217934e1d8977a6f3506e2b84"
   },
   "outputs": [],
   "source": [
    "#module.load_from_checkpoint('./lightning_logs/version_3/checkpoints/last.ckpt', \n",
    "#                            hparams=hparams)"
   ]
  },
  {
   "cell_type": "code",
   "execution_count": null,
   "metadata": {},
   "outputs": [],
   "source": []
  },
  {
   "cell_type": "code",
   "execution_count": 32,
   "metadata": {
    "_last_msg_id": "614d0db471bf493987a4627378530fee"
   },
   "outputs": [
    {
     "name": "stderr",
     "output_type": "stream",
     "text": [
      "INFO:lightning:GPU available: True, used: True\n",
      "INFO:lightning:CUDA_VISIBLE_DEVICES: [0]\n"
     ]
    }
   ],
   "source": [
    "trainer = Trainer(max_epochs=hparams['epochs'], gpus=[0,], fast_dev_run=False, num_sanity_val_steps=0)"
   ]
  },
  {
   "cell_type": "code",
   "execution_count": null,
   "metadata": {
    "_last_msg_id": "26ef6d7d35c44b5198cab25827225e27",
    "scrolled": true
   },
   "outputs": [
    {
     "name": "stderr",
     "output_type": "stream",
     "text": [
      "INFO:lightning:\n",
      "   | Name                                 | Type           | Params\n",
      "--------------------------------------------------------------------\n",
      "0  | model                                | Resnet_512x1x1 | 2 M   \n",
      "1  | model.f_map                          | FeaturesMap    | 512   \n",
      "2  | model.backbone                       | ResNet         | 1 M   \n",
      "3  | model.backbone.conv1                 | Sequential     | 174 K \n",
      "4  | model.backbone.conv1.0               | Identity       | 0     \n",
      "5  | model.backbone.conv1.1               | BatchNorm2d    | 1 K   \n",
      "6  | model.backbone.conv1.2               | Conv2d         | 131 K \n",
      "7  | model.backbone.conv1.3               | BatchNorm2d    | 512   \n",
      "8  | model.backbone.conv1.4               | ReLU           | 0     \n",
      "9  | model.backbone.conv1.5               | Conv2d         | 32 K  \n",
      "10 | model.backbone.conv1.6               | BatchNorm2d    | 256   \n",
      "11 | model.backbone.conv1.7               | ReLU           | 0     \n",
      "12 | model.backbone.conv1.8               | Conv2d         | 8 K   \n",
      "13 | model.backbone.bn1                   | BatchNorm2d    | 128   \n",
      "14 | model.backbone.relu                  | ReLU           | 0     \n",
      "15 | model.backbone.maxpool               | Identity       | 0     \n",
      "16 | model.backbone.layer1                | Sequential     | 16 K  \n",
      "17 | model.backbone.layer1.0              | BasicBlock     | 8 K   \n",
      "18 | model.backbone.layer1.0.conv1        | Conv2d         | 4 K   \n",
      "19 | model.backbone.layer1.0.bn1          | BatchNorm2d    | 128   \n",
      "20 | model.backbone.layer1.0.relu         | ReLU           | 0     \n",
      "21 | model.backbone.layer1.0.conv2        | Conv2d         | 4 K   \n",
      "22 | model.backbone.layer1.0.bn2          | BatchNorm2d    | 128   \n",
      "23 | model.backbone.layer1.1              | BasicBlock     | 8 K   \n",
      "24 | model.backbone.layer1.1.conv1        | Conv2d         | 4 K   \n",
      "25 | model.backbone.layer1.1.bn1          | BatchNorm2d    | 128   \n",
      "26 | model.backbone.layer1.1.relu         | ReLU           | 0     \n",
      "27 | model.backbone.layer1.1.conv2        | Conv2d         | 4 K   \n",
      "28 | model.backbone.layer1.1.bn2          | BatchNorm2d    | 128   \n",
      "29 | model.backbone.layer2                | Sequential     | 66 K  \n",
      "30 | model.backbone.layer2.0              | BasicBlock     | 33 K  \n",
      "31 | model.backbone.layer2.0.conv1        | Conv2d         | 8 K   \n",
      "32 | model.backbone.layer2.0.bn1          | BatchNorm2d    | 256   \n",
      "33 | model.backbone.layer2.0.relu         | ReLU           | 0     \n",
      "34 | model.backbone.layer2.0.conv2        | Conv2d         | 16 K  \n",
      "35 | model.backbone.layer2.0.bn2          | BatchNorm2d    | 256   \n",
      "36 | model.backbone.layer2.0.downsample   | Sequential     | 8 K   \n",
      "37 | model.backbone.layer2.0.downsample.0 | Conv2d         | 8 K   \n",
      "38 | model.backbone.layer2.0.downsample.1 | BatchNorm2d    | 256   \n",
      "39 | model.backbone.layer2.1              | BasicBlock     | 33 K  \n",
      "40 | model.backbone.layer2.1.conv1        | Conv2d         | 16 K  \n",
      "41 | model.backbone.layer2.1.bn1          | BatchNorm2d    | 256   \n",
      "42 | model.backbone.layer2.1.relu         | ReLU           | 0     \n",
      "43 | model.backbone.layer2.1.conv2        | Conv2d         | 16 K  \n",
      "44 | model.backbone.layer2.1.bn2          | BatchNorm2d    | 256   \n",
      "45 | model.backbone.layer3                | Sequential     | 264 K \n",
      "46 | model.backbone.layer3.0              | BasicBlock     | 132 K \n",
      "47 | model.backbone.layer3.0.conv1        | Conv2d         | 32 K  \n",
      "48 | model.backbone.layer3.0.bn1          | BatchNorm2d    | 512   \n",
      "49 | model.backbone.layer3.0.relu         | ReLU           | 0     \n",
      "50 | model.backbone.layer3.0.conv2        | Conv2d         | 65 K  \n",
      "51 | model.backbone.layer3.0.bn2          | BatchNorm2d    | 512   \n",
      "52 | model.backbone.layer3.0.downsample   | Sequential     | 33 K  \n",
      "53 | model.backbone.layer3.0.downsample.0 | Conv2d         | 32 K  \n",
      "54 | model.backbone.layer3.0.downsample.1 | BatchNorm2d    | 512   \n",
      "55 | model.backbone.layer3.1              | BasicBlock     | 132 K \n",
      "56 | model.backbone.layer3.1.conv1        | Conv2d         | 65 K  \n",
      "57 | model.backbone.layer3.1.bn1          | BatchNorm2d    | 512   \n",
      "58 | model.backbone.layer3.1.relu         | ReLU           | 0     \n",
      "59 | model.backbone.layer3.1.conv2        | Conv2d         | 65 K  \n",
      "60 | model.backbone.layer3.1.bn2          | BatchNorm2d    | 512   \n",
      "61 | model.backbone.layer4                | Sequential     | 1 M   \n",
      "62 | model.backbone.layer4.0              | BasicBlock     | 527 K \n",
      "63 | model.backbone.layer4.0.conv1        | Conv2d         | 131 K \n",
      "64 | model.backbone.layer4.0.bn1          | BatchNorm2d    | 1 K   \n",
      "65 | model.backbone.layer4.0.relu         | ReLU           | 0     \n",
      "66 | model.backbone.layer4.0.conv2        | Conv2d         | 262 K \n",
      "67 | model.backbone.layer4.0.bn2          | BatchNorm2d    | 1 K   \n",
      "68 | model.backbone.layer4.0.downsample   | Sequential     | 132 K \n",
      "69 | model.backbone.layer4.0.downsample.0 | Conv2d         | 131 K \n",
      "70 | model.backbone.layer4.0.downsample.1 | BatchNorm2d    | 1 K   \n",
      "71 | model.backbone.layer4.1              | BasicBlock     | 526 K \n",
      "72 | model.backbone.layer4.1.conv1        | Conv2d         | 262 K \n",
      "73 | model.backbone.layer4.1.bn1          | BatchNorm2d    | 1 K   \n",
      "74 | model.backbone.layer4.1.relu         | ReLU           | 0     \n",
      "75 | model.backbone.layer4.1.conv2        | Conv2d         | 262 K \n",
      "76 | model.backbone.layer4.1.bn2          | BatchNorm2d    | 1 K   \n",
      "77 | model.backbone.avgpool               | Identity       | 0     \n",
      "78 | model.backbone.fc                    | Identity       | 0     \n",
      "79 | model.fc                             | Linear         | 262 K \n",
      "80 | model.reg_linear                     | Sequential     | 165 K \n",
      "81 | model.reg_linear.0                   | Linear         | 131 K \n",
      "82 | model.reg_linear.1                   | BatchNorm1d    | 512   \n",
      "83 | model.reg_linear.2                   | Tanh           | 0     \n",
      "84 | model.reg_linear.3                   | Linear         | 32 K  \n",
      "85 | model.reg_linear.4                   | BatchNorm1d    | 256   \n",
      "86 | model.reg_linear.5                   | Tanh           | 0     \n",
      "87 | model.reg_linear.6                   | Linear         | 129   \n",
      "88 | model.class_linear                   | Sequential     | 4 K   \n",
      "89 | model.class_linear.0                 | BatchNorm1d    | 1 K   \n",
      "90 | model.class_linear.1                 | Linear         | 3 K   \n",
      "91 | reg_loss                             | MSELoss        | 0     \n",
      "92 | class_loss                           | SmoothLoss     | 0     \n",
      "93 | class_loss.criterion                 | KLDivLoss      | 0     \n"
     ]
    },
    {
     "name": "stdout",
     "output_type": "stream",
     "text": [
      "[Adam (\n",
      "Parameter Group 0\n",
      "    amsgrad: False\n",
      "    betas: (0.9, 0.999)\n",
      "    eps: 1e-08\n",
      "    initial_lr: 0.00025\n",
      "    lr: 0.00025\n",
      "    weight_decay: 0.0001\n",
      ")] [{'interval': 'epoch', 'scheduler': <lib.schedulers.DelayedScheduler object at 0x7faace9f58d0>}]\n"
     ]
    },
    {
     "name": "stderr",
     "output_type": "stream",
     "text": [
      "/home/ruslan/anaconda3/lib/python3.7/site-packages/pytorch_lightning/utilities/distributed.py:23: RuntimeWarning: Displayed epoch numbers in the progress bar start from \"1\" until v0.6.x, but will start from \"0\" in v0.8.0.\n",
      "  warnings.warn(*args, **kwargs)\n"
     ]
    },
    {
     "data": {
      "application/vnd.jupyter.widget-view+json": {
       "model_id": "fc29b1371087413c80e92408ad9b54af",
       "version_major": 2,
       "version_minor": 0
      },
      "text/plain": [
       "HBox(children=(FloatProgress(value=1.0, bar_style='info', description='Training', layout=Layout(flex='2'), max…"
      ]
     },
     "metadata": {},
     "output_type": "display_data"
    },
    {
     "name": "stderr",
     "output_type": "stream",
     "text": [
      "/home/ruslan/anaconda3/lib/python3.7/site-packages/torch/nn/functional.py:2247: UserWarning: reduction: 'mean' divides the total loss by both the batch size and the support size.'batchmean' divides only by the batch size, and aligns with the KL div math definition.'mean' will be changed to behave the same as 'batchmean' in the next major release.\n",
      "  warnings.warn(\"reduction: 'mean' divides the total loss by both the batch size and the support size.\"\n"
     ]
    },
    {
     "data": {
      "application/vnd.jupyter.widget-view+json": {
       "model_id": "",
       "version_major": 2,
       "version_minor": 0
      },
      "text/plain": [
       "HBox(children=(FloatProgress(value=1.0, bar_style='info', description='Validating', layout=Layout(flex='2'), m…"
      ]
     },
     "metadata": {},
     "output_type": "display_data"
    },
    {
     "name": "stderr",
     "output_type": "stream",
     "text": [
      "/home/ruslan/anaconda3/lib/python3.7/site-packages/torch/optim/lr_scheduler.py:426: UserWarning: To get the last learning rate computed by the scheduler, please use `get_last_lr()`.\n",
      "  \"please use `get_last_lr()`.\", UserWarning)\n"
     ]
    },
    {
     "data": {
      "application/vnd.jupyter.widget-view+json": {
       "model_id": "",
       "version_major": 2,
       "version_minor": 0
      },
      "text/plain": [
       "HBox(children=(FloatProgress(value=1.0, bar_style='info', description='Validating', layout=Layout(flex='2'), m…"
      ]
     },
     "metadata": {},
     "output_type": "display_data"
    },
    {
     "data": {
      "application/vnd.jupyter.widget-view+json": {
       "model_id": "",
       "version_major": 2,
       "version_minor": 0
      },
      "text/plain": [
       "HBox(children=(FloatProgress(value=1.0, bar_style='info', description='Validating', layout=Layout(flex='2'), m…"
      ]
     },
     "metadata": {},
     "output_type": "display_data"
    },
    {
     "data": {
      "application/vnd.jupyter.widget-view+json": {
       "model_id": "",
       "version_major": 2,
       "version_minor": 0
      },
      "text/plain": [
       "HBox(children=(FloatProgress(value=1.0, bar_style='info', description='Validating', layout=Layout(flex='2'), m…"
      ]
     },
     "metadata": {},
     "output_type": "display_data"
    },
    {
     "data": {
      "application/vnd.jupyter.widget-view+json": {
       "model_id": "",
       "version_major": 2,
       "version_minor": 0
      },
      "text/plain": [
       "HBox(children=(FloatProgress(value=1.0, bar_style='info', description='Validating', layout=Layout(flex='2'), m…"
      ]
     },
     "metadata": {},
     "output_type": "display_data"
    },
    {
     "data": {
      "application/vnd.jupyter.widget-view+json": {
       "model_id": "",
       "version_major": 2,
       "version_minor": 0
      },
      "text/plain": [
       "HBox(children=(FloatProgress(value=1.0, bar_style='info', description='Validating', layout=Layout(flex='2'), m…"
      ]
     },
     "metadata": {},
     "output_type": "display_data"
    },
    {
     "data": {
      "application/vnd.jupyter.widget-view+json": {
       "model_id": "",
       "version_major": 2,
       "version_minor": 0
      },
      "text/plain": [
       "HBox(children=(FloatProgress(value=1.0, bar_style='info', description='Validating', layout=Layout(flex='2'), m…"
      ]
     },
     "metadata": {},
     "output_type": "display_data"
    },
    {
     "data": {
      "application/vnd.jupyter.widget-view+json": {
       "model_id": "",
       "version_major": 2,
       "version_minor": 0
      },
      "text/plain": [
       "HBox(children=(FloatProgress(value=1.0, bar_style='info', description='Validating', layout=Layout(flex='2'), m…"
      ]
     },
     "metadata": {},
     "output_type": "display_data"
    },
    {
     "data": {
      "application/vnd.jupyter.widget-view+json": {
       "model_id": "",
       "version_major": 2,
       "version_minor": 0
      },
      "text/plain": [
       "HBox(children=(FloatProgress(value=1.0, bar_style='info', description='Validating', layout=Layout(flex='2'), m…"
      ]
     },
     "metadata": {},
     "output_type": "display_data"
    },
    {
     "data": {
      "application/vnd.jupyter.widget-view+json": {
       "model_id": "",
       "version_major": 2,
       "version_minor": 0
      },
      "text/plain": [
       "HBox(children=(FloatProgress(value=1.0, bar_style='info', description='Validating', layout=Layout(flex='2'), m…"
      ]
     },
     "metadata": {},
     "output_type": "display_data"
    },
    {
     "data": {
      "application/vnd.jupyter.widget-view+json": {
       "model_id": "",
       "version_major": 2,
       "version_minor": 0
      },
      "text/plain": [
       "HBox(children=(FloatProgress(value=1.0, bar_style='info', description='Validating', layout=Layout(flex='2'), m…"
      ]
     },
     "metadata": {},
     "output_type": "display_data"
    },
    {
     "data": {
      "application/vnd.jupyter.widget-view+json": {
       "model_id": "",
       "version_major": 2,
       "version_minor": 0
      },
      "text/plain": [
       "HBox(children=(FloatProgress(value=1.0, bar_style='info', description='Validating', layout=Layout(flex='2'), m…"
      ]
     },
     "metadata": {},
     "output_type": "display_data"
    },
    {
     "data": {
      "application/vnd.jupyter.widget-view+json": {
       "model_id": "",
       "version_major": 2,
       "version_minor": 0
      },
      "text/plain": [
       "HBox(children=(FloatProgress(value=1.0, bar_style='info', description='Validating', layout=Layout(flex='2'), m…"
      ]
     },
     "metadata": {},
     "output_type": "display_data"
    },
    {
     "data": {
      "application/vnd.jupyter.widget-view+json": {
       "model_id": "",
       "version_major": 2,
       "version_minor": 0
      },
      "text/plain": [
       "HBox(children=(FloatProgress(value=1.0, bar_style='info', description='Validating', layout=Layout(flex='2'), m…"
      ]
     },
     "metadata": {},
     "output_type": "display_data"
    },
    {
     "data": {
      "application/vnd.jupyter.widget-view+json": {
       "model_id": "",
       "version_major": 2,
       "version_minor": 0
      },
      "text/plain": [
       "HBox(children=(FloatProgress(value=1.0, bar_style='info', description='Validating', layout=Layout(flex='2'), m…"
      ]
     },
     "metadata": {},
     "output_type": "display_data"
    },
    {
     "data": {
      "application/vnd.jupyter.widget-view+json": {
       "model_id": "",
       "version_major": 2,
       "version_minor": 0
      },
      "text/plain": [
       "HBox(children=(FloatProgress(value=1.0, bar_style='info', description='Validating', layout=Layout(flex='2'), m…"
      ]
     },
     "metadata": {},
     "output_type": "display_data"
    },
    {
     "data": {
      "application/vnd.jupyter.widget-view+json": {
       "model_id": "",
       "version_major": 2,
       "version_minor": 0
      },
      "text/plain": [
       "HBox(children=(FloatProgress(value=1.0, bar_style='info', description='Validating', layout=Layout(flex='2'), m…"
      ]
     },
     "metadata": {},
     "output_type": "display_data"
    },
    {
     "data": {
      "application/vnd.jupyter.widget-view+json": {
       "model_id": "",
       "version_major": 2,
       "version_minor": 0
      },
      "text/plain": [
       "HBox(children=(FloatProgress(value=1.0, bar_style='info', description='Validating', layout=Layout(flex='2'), m…"
      ]
     },
     "metadata": {},
     "output_type": "display_data"
    },
    {
     "data": {
      "application/vnd.jupyter.widget-view+json": {
       "model_id": "",
       "version_major": 2,
       "version_minor": 0
      },
      "text/plain": [
       "HBox(children=(FloatProgress(value=1.0, bar_style='info', description='Validating', layout=Layout(flex='2'), m…"
      ]
     },
     "metadata": {},
     "output_type": "display_data"
    },
    {
     "data": {
      "application/vnd.jupyter.widget-view+json": {
       "model_id": "",
       "version_major": 2,
       "version_minor": 0
      },
      "text/plain": [
       "HBox(children=(FloatProgress(value=1.0, bar_style='info', description='Validating', layout=Layout(flex='2'), m…"
      ]
     },
     "metadata": {},
     "output_type": "display_data"
    },
    {
     "data": {
      "application/vnd.jupyter.widget-view+json": {
       "model_id": "",
       "version_major": 2,
       "version_minor": 0
      },
      "text/plain": [
       "HBox(children=(FloatProgress(value=1.0, bar_style='info', description='Validating', layout=Layout(flex='2'), m…"
      ]
     },
     "metadata": {},
     "output_type": "display_data"
    },
    {
     "data": {
      "application/vnd.jupyter.widget-view+json": {
       "model_id": "",
       "version_major": 2,
       "version_minor": 0
      },
      "text/plain": [
       "HBox(children=(FloatProgress(value=1.0, bar_style='info', description='Validating', layout=Layout(flex='2'), m…"
      ]
     },
     "metadata": {},
     "output_type": "display_data"
    },
    {
     "data": {
      "application/vnd.jupyter.widget-view+json": {
       "model_id": "",
       "version_major": 2,
       "version_minor": 0
      },
      "text/plain": [
       "HBox(children=(FloatProgress(value=1.0, bar_style='info', description='Validating', layout=Layout(flex='2'), m…"
      ]
     },
     "metadata": {},
     "output_type": "display_data"
    },
    {
     "data": {
      "application/vnd.jupyter.widget-view+json": {
       "model_id": "",
       "version_major": 2,
       "version_minor": 0
      },
      "text/plain": [
       "HBox(children=(FloatProgress(value=1.0, bar_style='info', description='Validating', layout=Layout(flex='2'), m…"
      ]
     },
     "metadata": {},
     "output_type": "display_data"
    },
    {
     "data": {
      "application/vnd.jupyter.widget-view+json": {
       "model_id": "",
       "version_major": 2,
       "version_minor": 0
      },
      "text/plain": [
       "HBox(children=(FloatProgress(value=1.0, bar_style='info', description='Validating', layout=Layout(flex='2'), m…"
      ]
     },
     "metadata": {},
     "output_type": "display_data"
    },
    {
     "data": {
      "application/vnd.jupyter.widget-view+json": {
       "model_id": "",
       "version_major": 2,
       "version_minor": 0
      },
      "text/plain": [
       "HBox(children=(FloatProgress(value=1.0, bar_style='info', description='Validating', layout=Layout(flex='2'), m…"
      ]
     },
     "metadata": {},
     "output_type": "display_data"
    },
    {
     "data": {
      "application/vnd.jupyter.widget-view+json": {
       "model_id": "",
       "version_major": 2,
       "version_minor": 0
      },
      "text/plain": [
       "HBox(children=(FloatProgress(value=1.0, bar_style='info', description='Validating', layout=Layout(flex='2'), m…"
      ]
     },
     "metadata": {},
     "output_type": "display_data"
    },
    {
     "data": {
      "application/vnd.jupyter.widget-view+json": {
       "model_id": "",
       "version_major": 2,
       "version_minor": 0
      },
      "text/plain": [
       "HBox(children=(FloatProgress(value=1.0, bar_style='info', description='Validating', layout=Layout(flex='2'), m…"
      ]
     },
     "metadata": {},
     "output_type": "display_data"
    },
    {
     "data": {
      "application/vnd.jupyter.widget-view+json": {
       "model_id": "",
       "version_major": 2,
       "version_minor": 0
      },
      "text/plain": [
       "HBox(children=(FloatProgress(value=1.0, bar_style='info', description='Validating', layout=Layout(flex='2'), m…"
      ]
     },
     "metadata": {},
     "output_type": "display_data"
    },
    {
     "data": {
      "application/vnd.jupyter.widget-view+json": {
       "model_id": "",
       "version_major": 2,
       "version_minor": 0
      },
      "text/plain": [
       "HBox(children=(FloatProgress(value=1.0, bar_style='info', description='Validating', layout=Layout(flex='2'), m…"
      ]
     },
     "metadata": {},
     "output_type": "display_data"
    },
    {
     "data": {
      "application/vnd.jupyter.widget-view+json": {
       "model_id": "",
       "version_major": 2,
       "version_minor": 0
      },
      "text/plain": [
       "HBox(children=(FloatProgress(value=1.0, bar_style='info', description='Validating', layout=Layout(flex='2'), m…"
      ]
     },
     "metadata": {},
     "output_type": "display_data"
    },
    {
     "data": {
      "application/vnd.jupyter.widget-view+json": {
       "model_id": "",
       "version_major": 2,
       "version_minor": 0
      },
      "text/plain": [
       "HBox(children=(FloatProgress(value=1.0, bar_style='info', description='Validating', layout=Layout(flex='2'), m…"
      ]
     },
     "metadata": {},
     "output_type": "display_data"
    },
    {
     "data": {
      "application/vnd.jupyter.widget-view+json": {
       "model_id": "",
       "version_major": 2,
       "version_minor": 0
      },
      "text/plain": [
       "HBox(children=(FloatProgress(value=1.0, bar_style='info', description='Validating', layout=Layout(flex='2'), m…"
      ]
     },
     "metadata": {},
     "output_type": "display_data"
    },
    {
     "data": {
      "application/vnd.jupyter.widget-view+json": {
       "model_id": "",
       "version_major": 2,
       "version_minor": 0
      },
      "text/plain": [
       "HBox(children=(FloatProgress(value=1.0, bar_style='info', description='Validating', layout=Layout(flex='2'), m…"
      ]
     },
     "metadata": {},
     "output_type": "display_data"
    },
    {
     "data": {
      "application/vnd.jupyter.widget-view+json": {
       "model_id": "",
       "version_major": 2,
       "version_minor": 0
      },
      "text/plain": [
       "HBox(children=(FloatProgress(value=1.0, bar_style='info', description='Validating', layout=Layout(flex='2'), m…"
      ]
     },
     "metadata": {},
     "output_type": "display_data"
    },
    {
     "data": {
      "application/vnd.jupyter.widget-view+json": {
       "model_id": "",
       "version_major": 2,
       "version_minor": 0
      },
      "text/plain": [
       "HBox(children=(FloatProgress(value=1.0, bar_style='info', description='Validating', layout=Layout(flex='2'), m…"
      ]
     },
     "metadata": {},
     "output_type": "display_data"
    },
    {
     "data": {
      "application/vnd.jupyter.widget-view+json": {
       "model_id": "",
       "version_major": 2,
       "version_minor": 0
      },
      "text/plain": [
       "HBox(children=(FloatProgress(value=1.0, bar_style='info', description='Validating', layout=Layout(flex='2'), m…"
      ]
     },
     "metadata": {},
     "output_type": "display_data"
    },
    {
     "data": {
      "application/vnd.jupyter.widget-view+json": {
       "model_id": "",
       "version_major": 2,
       "version_minor": 0
      },
      "text/plain": [
       "HBox(children=(FloatProgress(value=1.0, bar_style='info', description='Validating', layout=Layout(flex='2'), m…"
      ]
     },
     "metadata": {},
     "output_type": "display_data"
    },
    {
     "data": {
      "application/vnd.jupyter.widget-view+json": {
       "model_id": "",
       "version_major": 2,
       "version_minor": 0
      },
      "text/plain": [
       "HBox(children=(FloatProgress(value=1.0, bar_style='info', description='Validating', layout=Layout(flex='2'), m…"
      ]
     },
     "metadata": {},
     "output_type": "display_data"
    },
    {
     "data": {
      "application/vnd.jupyter.widget-view+json": {
       "model_id": "",
       "version_major": 2,
       "version_minor": 0
      },
      "text/plain": [
       "HBox(children=(FloatProgress(value=1.0, bar_style='info', description='Validating', layout=Layout(flex='2'), m…"
      ]
     },
     "metadata": {},
     "output_type": "display_data"
    },
    {
     "data": {
      "application/vnd.jupyter.widget-view+json": {
       "model_id": "",
       "version_major": 2,
       "version_minor": 0
      },
      "text/plain": [
       "HBox(children=(FloatProgress(value=1.0, bar_style='info', description='Validating', layout=Layout(flex='2'), m…"
      ]
     },
     "metadata": {},
     "output_type": "display_data"
    },
    {
     "data": {
      "application/vnd.jupyter.widget-view+json": {
       "model_id": "",
       "version_major": 2,
       "version_minor": 0
      },
      "text/plain": [
       "HBox(children=(FloatProgress(value=1.0, bar_style='info', description='Validating', layout=Layout(flex='2'), m…"
      ]
     },
     "metadata": {},
     "output_type": "display_data"
    },
    {
     "data": {
      "application/vnd.jupyter.widget-view+json": {
       "model_id": "",
       "version_major": 2,
       "version_minor": 0
      },
      "text/plain": [
       "HBox(children=(FloatProgress(value=1.0, bar_style='info', description='Validating', layout=Layout(flex='2'), m…"
      ]
     },
     "metadata": {},
     "output_type": "display_data"
    },
    {
     "data": {
      "application/vnd.jupyter.widget-view+json": {
       "model_id": "",
       "version_major": 2,
       "version_minor": 0
      },
      "text/plain": [
       "HBox(children=(FloatProgress(value=1.0, bar_style='info', description='Validating', layout=Layout(flex='2'), m…"
      ]
     },
     "metadata": {},
     "output_type": "display_data"
    },
    {
     "data": {
      "application/vnd.jupyter.widget-view+json": {
       "model_id": "",
       "version_major": 2,
       "version_minor": 0
      },
      "text/plain": [
       "HBox(children=(FloatProgress(value=1.0, bar_style='info', description='Validating', layout=Layout(flex='2'), m…"
      ]
     },
     "metadata": {},
     "output_type": "display_data"
    },
    {
     "data": {
      "application/vnd.jupyter.widget-view+json": {
       "model_id": "",
       "version_major": 2,
       "version_minor": 0
      },
      "text/plain": [
       "HBox(children=(FloatProgress(value=1.0, bar_style='info', description='Validating', layout=Layout(flex='2'), m…"
      ]
     },
     "metadata": {},
     "output_type": "display_data"
    },
    {
     "data": {
      "application/vnd.jupyter.widget-view+json": {
       "model_id": "",
       "version_major": 2,
       "version_minor": 0
      },
      "text/plain": [
       "HBox(children=(FloatProgress(value=1.0, bar_style='info', description='Validating', layout=Layout(flex='2'), m…"
      ]
     },
     "metadata": {},
     "output_type": "display_data"
    },
    {
     "data": {
      "application/vnd.jupyter.widget-view+json": {
       "model_id": "",
       "version_major": 2,
       "version_minor": 0
      },
      "text/plain": [
       "HBox(children=(FloatProgress(value=1.0, bar_style='info', description='Validating', layout=Layout(flex='2'), m…"
      ]
     },
     "metadata": {},
     "output_type": "display_data"
    },
    {
     "data": {
      "application/vnd.jupyter.widget-view+json": {
       "model_id": "",
       "version_major": 2,
       "version_minor": 0
      },
      "text/plain": [
       "HBox(children=(FloatProgress(value=1.0, bar_style='info', description='Validating', layout=Layout(flex='2'), m…"
      ]
     },
     "metadata": {},
     "output_type": "display_data"
    },
    {
     "data": {
      "application/vnd.jupyter.widget-view+json": {
       "model_id": "",
       "version_major": 2,
       "version_minor": 0
      },
      "text/plain": [
       "HBox(children=(FloatProgress(value=1.0, bar_style='info', description='Validating', layout=Layout(flex='2'), m…"
      ]
     },
     "metadata": {},
     "output_type": "display_data"
    },
    {
     "data": {
      "application/vnd.jupyter.widget-view+json": {
       "model_id": "",
       "version_major": 2,
       "version_minor": 0
      },
      "text/plain": [
       "HBox(children=(FloatProgress(value=1.0, bar_style='info', description='Validating', layout=Layout(flex='2'), m…"
      ]
     },
     "metadata": {},
     "output_type": "display_data"
    },
    {
     "data": {
      "application/vnd.jupyter.widget-view+json": {
       "model_id": "",
       "version_major": 2,
       "version_minor": 0
      },
      "text/plain": [
       "HBox(children=(FloatProgress(value=1.0, bar_style='info', description='Validating', layout=Layout(flex='2'), m…"
      ]
     },
     "metadata": {},
     "output_type": "display_data"
    },
    {
     "data": {
      "application/vnd.jupyter.widget-view+json": {
       "model_id": "",
       "version_major": 2,
       "version_minor": 0
      },
      "text/plain": [
       "HBox(children=(FloatProgress(value=1.0, bar_style='info', description='Validating', layout=Layout(flex='2'), m…"
      ]
     },
     "metadata": {},
     "output_type": "display_data"
    },
    {
     "data": {
      "application/vnd.jupyter.widget-view+json": {
       "model_id": "",
       "version_major": 2,
       "version_minor": 0
      },
      "text/plain": [
       "HBox(children=(FloatProgress(value=1.0, bar_style='info', description='Validating', layout=Layout(flex='2'), m…"
      ]
     },
     "metadata": {},
     "output_type": "display_data"
    },
    {
     "data": {
      "application/vnd.jupyter.widget-view+json": {
       "model_id": "",
       "version_major": 2,
       "version_minor": 0
      },
      "text/plain": [
       "HBox(children=(FloatProgress(value=1.0, bar_style='info', description='Validating', layout=Layout(flex='2'), m…"
      ]
     },
     "metadata": {},
     "output_type": "display_data"
    },
    {
     "data": {
      "application/vnd.jupyter.widget-view+json": {
       "model_id": "",
       "version_major": 2,
       "version_minor": 0
      },
      "text/plain": [
       "HBox(children=(FloatProgress(value=1.0, bar_style='info', description='Validating', layout=Layout(flex='2'), m…"
      ]
     },
     "metadata": {},
     "output_type": "display_data"
    },
    {
     "data": {
      "application/vnd.jupyter.widget-view+json": {
       "model_id": "",
       "version_major": 2,
       "version_minor": 0
      },
      "text/plain": [
       "HBox(children=(FloatProgress(value=1.0, bar_style='info', description='Validating', layout=Layout(flex='2'), m…"
      ]
     },
     "metadata": {},
     "output_type": "display_data"
    },
    {
     "data": {
      "application/vnd.jupyter.widget-view+json": {
       "model_id": "",
       "version_major": 2,
       "version_minor": 0
      },
      "text/plain": [
       "HBox(children=(FloatProgress(value=1.0, bar_style='info', description='Validating', layout=Layout(flex='2'), m…"
      ]
     },
     "metadata": {},
     "output_type": "display_data"
    },
    {
     "data": {
      "application/vnd.jupyter.widget-view+json": {
       "model_id": "",
       "version_major": 2,
       "version_minor": 0
      },
      "text/plain": [
       "HBox(children=(FloatProgress(value=1.0, bar_style='info', description='Validating', layout=Layout(flex='2'), m…"
      ]
     },
     "metadata": {},
     "output_type": "display_data"
    },
    {
     "data": {
      "application/vnd.jupyter.widget-view+json": {
       "model_id": "",
       "version_major": 2,
       "version_minor": 0
      },
      "text/plain": [
       "HBox(children=(FloatProgress(value=1.0, bar_style='info', description='Validating', layout=Layout(flex='2'), m…"
      ]
     },
     "metadata": {},
     "output_type": "display_data"
    },
    {
     "data": {
      "application/vnd.jupyter.widget-view+json": {
       "model_id": "",
       "version_major": 2,
       "version_minor": 0
      },
      "text/plain": [
       "HBox(children=(FloatProgress(value=1.0, bar_style='info', description='Validating', layout=Layout(flex='2'), m…"
      ]
     },
     "metadata": {},
     "output_type": "display_data"
    },
    {
     "data": {
      "application/vnd.jupyter.widget-view+json": {
       "model_id": "",
       "version_major": 2,
       "version_minor": 0
      },
      "text/plain": [
       "HBox(children=(FloatProgress(value=1.0, bar_style='info', description='Validating', layout=Layout(flex='2'), m…"
      ]
     },
     "metadata": {},
     "output_type": "display_data"
    },
    {
     "data": {
      "application/vnd.jupyter.widget-view+json": {
       "model_id": "",
       "version_major": 2,
       "version_minor": 0
      },
      "text/plain": [
       "HBox(children=(FloatProgress(value=1.0, bar_style='info', description='Validating', layout=Layout(flex='2'), m…"
      ]
     },
     "metadata": {},
     "output_type": "display_data"
    },
    {
     "data": {
      "application/vnd.jupyter.widget-view+json": {
       "model_id": "",
       "version_major": 2,
       "version_minor": 0
      },
      "text/plain": [
       "HBox(children=(FloatProgress(value=1.0, bar_style='info', description='Validating', layout=Layout(flex='2'), m…"
      ]
     },
     "metadata": {},
     "output_type": "display_data"
    },
    {
     "data": {
      "application/vnd.jupyter.widget-view+json": {
       "model_id": "",
       "version_major": 2,
       "version_minor": 0
      },
      "text/plain": [
       "HBox(children=(FloatProgress(value=1.0, bar_style='info', description='Validating', layout=Layout(flex='2'), m…"
      ]
     },
     "metadata": {},
     "output_type": "display_data"
    },
    {
     "data": {
      "application/vnd.jupyter.widget-view+json": {
       "model_id": "",
       "version_major": 2,
       "version_minor": 0
      },
      "text/plain": [
       "HBox(children=(FloatProgress(value=1.0, bar_style='info', description='Validating', layout=Layout(flex='2'), m…"
      ]
     },
     "metadata": {},
     "output_type": "display_data"
    },
    {
     "data": {
      "application/vnd.jupyter.widget-view+json": {
       "model_id": "",
       "version_major": 2,
       "version_minor": 0
      },
      "text/plain": [
       "HBox(children=(FloatProgress(value=1.0, bar_style='info', description='Validating', layout=Layout(flex='2'), m…"
      ]
     },
     "metadata": {},
     "output_type": "display_data"
    },
    {
     "data": {
      "application/vnd.jupyter.widget-view+json": {
       "model_id": "",
       "version_major": 2,
       "version_minor": 0
      },
      "text/plain": [
       "HBox(children=(FloatProgress(value=1.0, bar_style='info', description='Validating', layout=Layout(flex='2'), m…"
      ]
     },
     "metadata": {},
     "output_type": "display_data"
    },
    {
     "data": {
      "application/vnd.jupyter.widget-view+json": {
       "model_id": "",
       "version_major": 2,
       "version_minor": 0
      },
      "text/plain": [
       "HBox(children=(FloatProgress(value=1.0, bar_style='info', description='Validating', layout=Layout(flex='2'), m…"
      ]
     },
     "metadata": {},
     "output_type": "display_data"
    },
    {
     "data": {
      "application/vnd.jupyter.widget-view+json": {
       "model_id": "",
       "version_major": 2,
       "version_minor": 0
      },
      "text/plain": [
       "HBox(children=(FloatProgress(value=1.0, bar_style='info', description='Validating', layout=Layout(flex='2'), m…"
      ]
     },
     "metadata": {},
     "output_type": "display_data"
    },
    {
     "data": {
      "application/vnd.jupyter.widget-view+json": {
       "model_id": "",
       "version_major": 2,
       "version_minor": 0
      },
      "text/plain": [
       "HBox(children=(FloatProgress(value=1.0, bar_style='info', description='Validating', layout=Layout(flex='2'), m…"
      ]
     },
     "metadata": {},
     "output_type": "display_data"
    },
    {
     "data": {
      "application/vnd.jupyter.widget-view+json": {
       "model_id": "",
       "version_major": 2,
       "version_minor": 0
      },
      "text/plain": [
       "HBox(children=(FloatProgress(value=1.0, bar_style='info', description='Validating', layout=Layout(flex='2'), m…"
      ]
     },
     "metadata": {},
     "output_type": "display_data"
    },
    {
     "data": {
      "application/vnd.jupyter.widget-view+json": {
       "model_id": "",
       "version_major": 2,
       "version_minor": 0
      },
      "text/plain": [
       "HBox(children=(FloatProgress(value=1.0, bar_style='info', description='Validating', layout=Layout(flex='2'), m…"
      ]
     },
     "metadata": {},
     "output_type": "display_data"
    }
   ],
   "source": [
    "trainer.fit(module, train_loader, val_loader)\n",
    "trainer.save_checkpoint(os.path.join(trainer.checkpoint_callback.dirpath,\n",
    "                                     \"last.ckpt\"))"
   ]
  },
  {
   "cell_type": "code",
   "execution_count": null,
   "metadata": {},
   "outputs": [],
   "source": []
  },
  {
   "cell_type": "code",
   "execution_count": null,
   "metadata": {},
   "outputs": [],
   "source": []
  }
 ],
 "metadata": {
  "kernelspec": {
   "display_name": "Python 3",
   "language": "python",
   "name": "python3"
  },
  "language_info": {
   "codemirror_mode": {
    "name": "ipython",
    "version": 3
   },
   "file_extension": ".py",
   "mimetype": "text/x-python",
   "name": "python",
   "nbconvert_exporter": "python",
   "pygments_lexer": "ipython3",
   "version": "3.7.4"
  }
 },
 "nbformat": 4,
 "nbformat_minor": 2
}
