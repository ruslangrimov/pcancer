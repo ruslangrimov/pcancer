{
 "cells": [
  {
   "cell_type": "code",
   "execution_count": 1,
   "metadata": {
    "_last_msg_id": "3305c2e3c67f4fe389fbe9f464db2447"
   },
   "outputs": [],
   "source": [
    "import sys\n",
    "import os\n",
    "import psutil\n",
    "\n",
    "import random\n",
    "import math\n",
    "from functools import partial\n",
    "\n",
    "import torch \n",
    "from torch import optim\n",
    "from torch.optim import lr_scheduler\n",
    "from torch import nn\n",
    "from torch.nn import functional as F\n",
    "\n",
    "import multiprocessing.dummy as mp\n",
    "\n",
    "from pytorch_lightning import Trainer\n",
    "from pytorch_lightning.core import LightningModule\n",
    "from pytorch_lightning.callbacks import ModelCheckpoint\n",
    "from pytorch_lightning.loggers.tensorboard import TensorBoardLogger\n",
    "\n",
    "sys.path.append('../..')\n",
    "from lib.schedulers import DelayedScheduler\n",
    "from lib.datasets import (max_lbl_nums, actual_lbl_nums, \n",
    "                          patches_rgb_mean_av1, patches_rgb_std_av1, \n",
    "                          get_train_test_img_ids_split)\n",
    "from lib.dataloaders import PatchesDataset, WSIPatchesDatasetRaw\n",
    "from lib.augmentations import augment_v1_clr_only, augment_empty_clr_only\n",
    "from lib.losses import SmoothLoss\n",
    "\n",
    "from lib.models.unetv1 import get_model\n",
    "\n",
    "from sklearn.metrics import cohen_kappa_score\n",
    "\n",
    "from tqdm.auto import tqdm\n",
    "\n",
    "import matplotlib.pyplot as plt"
   ]
  },
  {
   "cell_type": "code",
   "execution_count": 2,
   "metadata": {
    "_last_msg_id": "58fceff0ebf84db8b1a5038485a88c47"
   },
   "outputs": [],
   "source": [
    "# import cv2\n",
    "import numpy as np\n",
    "# import pandas as pd\n",
    "# from lib.datasets import patches_csv_path, patches_path\n",
    "from lib.datasets import (patches_clean90_csv_path as patches_csv_path, patches_path,\n",
    "                          patches_clean90_pkl_path as patches_pkl_path)\n",
    "# from lib.dataloaders import imread, get_g_score_num, get_provider_num"
   ]
  },
  {
   "cell_type": "code",
   "execution_count": 3,
   "metadata": {
    "_last_msg_id": "8d3c2c6e56a6416195583c73c5d91677"
   },
   "outputs": [],
   "source": [
    "# patches_device = torch.device('cuda:0')\n",
    "patches_device = torch.device('cpu')\n",
    "# main_device = torch.device('cuda:1')"
   ]
  },
  {
   "cell_type": "code",
   "execution_count": null,
   "metadata": {},
   "outputs": [],
   "source": []
  },
  {
   "cell_type": "code",
   "execution_count": 4,
   "metadata": {
    "_last_msg_id": "25ae904c311249308f3681914f1fb8cf"
   },
   "outputs": [],
   "source": [
    "rgb_mean, rgb_std = (torch.tensor(patches_rgb_mean_av1, dtype=torch.float32, device=patches_device), \n",
    "                     torch.tensor(patches_rgb_std_av1, dtype=torch.float32, device=patches_device))"
   ]
  },
  {
   "cell_type": "code",
   "execution_count": 5,
   "metadata": {
    "_last_msg_id": "fae8b7d04d8e49169ea2346d48abff97"
   },
   "outputs": [
    {
     "data": {
      "text/plain": [
       "['e8baa3bb9dcfb9cef5ca599d62bb8046',\n",
       " '9b2948ff81b64677a1a152a1532c1a50',\n",
       " '5b003d43ec0ce5979062442486f84cf7',\n",
       " '375b2c9501320b35ceb638a3274812aa']"
      ]
     },
     "execution_count": 5,
     "metadata": {},
     "output_type": "execute_result"
    }
   ],
   "source": [
    "train_img_ids, test_img_ids = get_train_test_img_ids_split()\n",
    "\n",
    "test_img_ids[:4]"
   ]
  },
  {
   "cell_type": "code",
   "execution_count": 6,
   "metadata": {
    "_last_msg_id": "65affde743634d94806e503e084f1ca3"
   },
   "outputs": [],
   "source": [
    "from lib.dataloaders import WSIPatchesDataloader, WSIPatchesDatasetRaw\n",
    "from lib.utils import get_pretrained_model, get_features"
   ]
  },
  {
   "cell_type": "code",
   "execution_count": 7,
   "metadata": {
    "_last_msg_id": "7ce4e6163d7f47898a915651b3c98762"
   },
   "outputs": [],
   "source": [
    "model = get_pretrained_model(get_model, {'classes': actual_lbl_nums}, \n",
    "                             \"../Patches256TestRun/version_0/checkpoints/last.ckpt\", patches_device)\n",
    "#model = get_pretrained_model(get_model, {\n",
    "#    'classes': actual_lbl_nums,                     \n",
    "#    'backbone': 'seresnet18_mini',\n",
    "#    'decoder_channels': (64, 64, 64, 32, 16),\n",
    "#}, \"/mnt/HDDData/notebooks/pcancer/experiments_results/pretrain/clean_patches90_small_se_resnet18_v1/version_0/checkpoints/last.ckpt\", \n",
    "#                             patches_device)"
   ]
  },
  {
   "cell_type": "code",
   "execution_count": 8,
   "metadata": {
    "_last_msg_id": "729c73e7683443ef9fc24e4401e54426"
   },
   "outputs": [],
   "source": [
    "get_features_fn = partial(get_features, model=model, device=patches_device, \n",
    "                          rgb_mean=rgb_mean, rgb_std=rgb_std, \n",
    "                          features_batch_size=512)"
   ]
  },
  {
   "cell_type": "code",
   "execution_count": 34,
   "metadata": {
    "_last_msg_id": "daa01795febe465e9695b382561167b9"
   },
   "outputs": [],
   "source": [
    "imgs = torch.full((1, 3, 256, 256), 0)"
   ]
  },
  {
   "cell_type": "code",
   "execution_count": 35,
   "metadata": {
    "_last_msg_id": "d2fbc15acb134683b959e00f2c3cba68"
   },
   "outputs": [],
   "source": [
    "f_zero = get_features_fn(imgs)"
   ]
  },
  {
   "cell_type": "code",
   "execution_count": 36,
   "metadata": {
    "_last_msg_id": "f22ce5dd177e41d88d81cc2b6956914a"
   },
   "outputs": [
    {
     "data": {
      "text/plain": [
       "torch.Size([512, 8, 8])"
      ]
     },
     "execution_count": 36,
     "metadata": {},
     "output_type": "execute_result"
    }
   ],
   "source": [
    "f_zero[0].shape"
   ]
  },
  {
   "cell_type": "code",
   "execution_count": null,
   "metadata": {
    "_last_msg_id": "c39f2fbd8abf49aa9340eaa53126b525"
   },
   "outputs": [],
   "source": [
    "torch.save(f_zero[0], \"../../zero_512x8x8.pth\")"
   ]
  },
  {
   "cell_type": "code",
   "execution_count": 37,
   "metadata": {
    "_last_msg_id": "c377db77b9ce4f88a6faba09d09aba79"
   },
   "outputs": [
    {
     "data": {
      "text/plain": [
       "tensor([[[0.8911, 0.4344, 0.3693,  ..., 0.3882, 0.4269, 0.4107],\n",
       "         [0.7177, 0.7432, 0.6247,  ..., 0.6243, 0.6053, 0.4441],\n",
       "         [0.6855, 0.7341, 0.5785,  ..., 0.5672, 0.5236, 0.4106],\n",
       "         ...,\n",
       "         [0.6727, 0.6943, 0.5321,  ..., 0.5108, 0.4844, 0.4052],\n",
       "         [0.6892, 0.7498, 0.5720,  ..., 0.5394, 0.5984, 0.4974],\n",
       "         [0.6060, 0.8411, 0.6860,  ..., 0.6501, 0.6594, 0.6359]],\n",
       "\n",
       "        [[0.0000, 0.0000, 0.0000,  ..., 0.0000, 0.0000, 0.0000],\n",
       "         [0.0000, 0.0000, 0.0000,  ..., 0.0000, 0.0000, 0.0000],\n",
       "         [0.0000, 0.0000, 0.0000,  ..., 0.0000, 0.0000, 0.0000],\n",
       "         ...,\n",
       "         [0.0000, 0.0000, 0.0000,  ..., 0.0000, 0.0000, 0.0000],\n",
       "         [0.0000, 0.0000, 0.0000,  ..., 0.0000, 0.0000, 0.0000],\n",
       "         [0.2442, 0.0000, 0.0000,  ..., 0.0000, 0.0000, 0.1425]],\n",
       "\n",
       "        [[0.0000, 0.0000, 0.0000,  ..., 0.0000, 0.0000, 0.0000],\n",
       "         [0.0000, 0.0000, 0.0000,  ..., 0.0000, 0.0000, 0.0000],\n",
       "         [0.0000, 0.0000, 0.0000,  ..., 0.0000, 0.0000, 0.0000],\n",
       "         ...,\n",
       "         [0.0000, 0.0000, 0.0000,  ..., 0.0000, 0.0000, 0.0000],\n",
       "         [0.0000, 0.0000, 0.0000,  ..., 0.0000, 0.0000, 0.0000],\n",
       "         [0.0000, 0.0000, 0.0000,  ..., 0.0000, 0.0000, 0.0000]],\n",
       "\n",
       "        ...,\n",
       "\n",
       "        [[0.0000, 0.0000, 0.0000,  ..., 0.0000, 0.0000, 0.3302],\n",
       "         [0.0000, 0.0000, 0.0000,  ..., 0.0000, 0.0000, 0.0000],\n",
       "         [0.0000, 0.0000, 0.0000,  ..., 0.0000, 0.0000, 0.0000],\n",
       "         ...,\n",
       "         [0.0000, 0.0000, 0.0000,  ..., 0.0000, 0.0000, 0.0000],\n",
       "         [0.0000, 0.0000, 0.0000,  ..., 0.0000, 0.0000, 0.0000],\n",
       "         [0.0000, 0.0000, 0.0000,  ..., 0.0000, 0.0000, 0.0000]],\n",
       "\n",
       "        [[1.3719, 1.2028, 0.7389,  ..., 0.6369, 0.2870, 0.0000],\n",
       "         [0.9596, 0.7531, 0.2341,  ..., 0.1052, 0.0000, 0.0000],\n",
       "         [0.8667, 0.5600, 0.0621,  ..., 0.0000, 0.0000, 0.0389],\n",
       "         ...,\n",
       "         [0.9665, 0.6982, 0.1969,  ..., 0.1052, 0.0000, 0.1013],\n",
       "         [0.8695, 0.8348, 0.4026,  ..., 0.3171, 0.0000, 0.3099],\n",
       "         [0.6704, 1.0368, 0.8970,  ..., 0.8286, 0.5056, 0.9584]],\n",
       "\n",
       "        [[0.0000, 0.0000, 0.0000,  ..., 0.0000, 0.0000, 0.1186],\n",
       "         [0.0000, 0.0000, 0.0000,  ..., 0.0000, 0.0803, 0.1563],\n",
       "         [0.0000, 0.0000, 0.0000,  ..., 0.0000, 0.0000, 0.0022],\n",
       "         ...,\n",
       "         [0.0000, 0.0000, 0.0000,  ..., 0.0000, 0.0000, 0.0000],\n",
       "         [0.0000, 0.0000, 0.0000,  ..., 0.0000, 0.0000, 0.0000],\n",
       "         [0.0000, 0.0000, 0.0000,  ..., 0.0000, 0.0000, 0.5416]]])"
      ]
     },
     "execution_count": 37,
     "metadata": {},
     "output_type": "execute_result"
    }
   ],
   "source": [
    "f_zero[0]#.mean(-1).mean(-1)"
   ]
  },
  {
   "cell_type": "code",
   "execution_count": null,
   "metadata": {},
   "outputs": [],
   "source": []
  },
  {
   "cell_type": "code",
   "execution_count": 11,
   "metadata": {
    "_last_msg_id": "4b2db91679f64a03954b1dcef838423b"
   },
   "outputs": [],
   "source": [
    "process = psutil.Process(os.getpid())"
   ]
  },
  {
   "cell_type": "code",
   "execution_count": 12,
   "metadata": {
    "_last_msg_id": "6202531bcf6242f585fd28404b6aae73"
   },
   "outputs": [],
   "source": [
    "main_batch_size = 64"
   ]
  },
  {
   "cell_type": "code",
   "execution_count": 13,
   "metadata": {
    "_last_msg_id": "7ca063ee70094337804e64408d893a11"
   },
   "outputs": [],
   "source": [
    "train_loader = WSIPatchesDataloader(WSIPatchesDatasetRaw(train_img_ids, patches_pkl_path, \n",
    "                                                         scale=0.5, transform=augment_v1_clr_only),\n",
    "                                    get_features_fn, (64, 8, 8),\n",
    "                                    main_batch_size, shuffle=True, num_workers=5, max_len=300)"
   ]
  },
  {
   "cell_type": "code",
   "execution_count": 14,
   "metadata": {
    "_last_msg_id": "4422976c20e041d8b84eb078f1ffed53"
   },
   "outputs": [],
   "source": [
    "# batches_path = \"/mnt/SSDData/pdata/processed/pretrained/train/\"\n",
    "# batches_path = \"/mnt/HDDData/pdata/processed/pretrained_64x8x8/train/\""
   ]
  },
  {
   "cell_type": "code",
   "execution_count": null,
   "metadata": {
    "_last_msg_id": "f5b7ed886ae74b39a3fde75bea8c737f",
    "scrolled": true
   },
   "outputs": [
    {
     "data": {
      "application/vnd.jupyter.widget-view+json": {
       "model_id": "a3ba8aef545841139dd40ea09b0d4b9d",
       "version_major": 2,
       "version_minor": 0
      },
      "text/plain": [
       "HBox(children=(FloatProgress(value=0.0, max=132.0), HTML(value='')))"
      ]
     },
     "metadata": {},
     "output_type": "display_data"
    },
    {
     "name": "stdout",
     "output_type": "stream",
     "text": [
      "\n"
     ]
    },
    {
     "data": {
      "application/vnd.jupyter.widget-view+json": {
       "model_id": "23ffa30e46eb45c285f624206a365d56",
       "version_major": 2,
       "version_minor": 0
      },
      "text/plain": [
       "HBox(children=(FloatProgress(value=0.0, max=132.0), HTML(value='')))"
      ]
     },
     "metadata": {},
     "output_type": "display_data"
    }
   ],
   "source": [
    "for epoch in range(34, 50):\n",
    "    for b, batch in enumerate(tqdm(train_loader, total=len(train_loader))):\n",
    "        features, ys, xs, provider, isup_grade, gleason_score = batch\n",
    "        # features = features.mean(-1).mean(-1).transpose(1, -1)\n",
    "        batch = [features, ys, xs, provider, isup_grade, gleason_score]\n",
    "        path = os.path.join(batches_path, str(epoch), f\"batch{b}.pth\")\n",
    "        os.makedirs(os.path.dirname(path), exist_ok=True)\n",
    "        torch.save(batch, path)"
   ]
  },
  {
   "cell_type": "code",
   "execution_count": null,
   "metadata": {
    "_last_msg_id": "636fbeb2e032494b802d0efcc17780c6"
   },
   "outputs": [],
   "source": [
    "features.shape"
   ]
  },
  {
   "cell_type": "code",
   "execution_count": null,
   "metadata": {},
   "outputs": [],
   "source": []
  },
  {
   "cell_type": "code",
   "execution_count": 15,
   "metadata": {
    "_last_msg_id": "95ab90cbc0be4803980718fa8a903d66"
   },
   "outputs": [],
   "source": [
    "val_loader = WSIPatchesDataloader(WSIPatchesDatasetRaw(test_img_ids, patches_pkl_path, \n",
    "                                                       scale=0.5, transform=augment_empty_clr_only),\n",
    "                                  get_features_fn, (64, 8, 8),\n",
    "                                  main_batch_size, shuffle=False, num_workers=5, max_len=300)"
   ]
  },
  {
   "cell_type": "code",
   "execution_count": 16,
   "metadata": {
    "_last_msg_id": "d2046e0ddece44ac8bdf5bed9b9c16f5"
   },
   "outputs": [],
   "source": [
    "# batches_path = \"/mnt/HDDData/pdata/processed/pretrained_64x8x8/val/\""
   ]
  },
  {
   "cell_type": "code",
   "execution_count": 17,
   "metadata": {
    "_last_msg_id": "c58b3af1d6b245b3867e54b4b149aac7",
    "scrolled": true
   },
   "outputs": [
    {
     "data": {
      "application/vnd.jupyter.widget-view+json": {
       "model_id": "65cafca9418e473ba3328511d990a9a9",
       "version_major": 2,
       "version_minor": 0
      },
      "text/plain": [
       "HBox(children=(FloatProgress(value=0.0, max=33.0), HTML(value='')))"
      ]
     },
     "metadata": {},
     "output_type": "display_data"
    },
    {
     "name": "stdout",
     "output_type": "stream",
     "text": [
      "\n"
     ]
    }
   ],
   "source": [
    "for b, batch in enumerate(tqdm(val_loader, total=len(val_loader))):\n",
    "    features, ys, xs, provider, isup_grade, gleason_score = batch\n",
    "    # features = features.mean(-1).mean(-1).transpose(1, -1)\n",
    "    batch = [features, ys, xs, provider, isup_grade, gleason_score]\n",
    "    path = os.path.join(batches_path, f\"batch{b}.pth\")\n",
    "    os.makedirs(os.path.dirname(path), exist_ok=True)\n",
    "    torch.save(batch, path)"
   ]
  },
  {
   "cell_type": "code",
   "execution_count": 15,
   "metadata": {
    "_last_msg_id": "379f204f9d8f4c71a680848a76c91582"
   },
   "outputs": [],
   "source": [
    "# 24:55"
   ]
  }
 ],
 "metadata": {
  "kernelspec": {
   "display_name": "Python 3",
   "language": "python",
   "name": "python3"
  },
  "language_info": {
   "codemirror_mode": {
    "name": "ipython",
    "version": 3
   },
   "file_extension": ".py",
   "mimetype": "text/x-python",
   "name": "python",
   "nbconvert_exporter": "python",
   "pygments_lexer": "ipython3",
   "version": "3.7.4"
  }
 },
 "nbformat": 4,
 "nbformat_minor": 2
}
