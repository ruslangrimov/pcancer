{
 "cells": [
  {
   "cell_type": "code",
   "execution_count": 1,
   "metadata": {
    "_last_msg_id": "0342771fa24b4bfc8d83824a2411f0ba"
   },
   "outputs": [],
   "source": [
    "import os, sys\n",
    "\n",
    "import torch\n",
    "\n",
    "import matplotlib.pyplot as plt"
   ]
  },
  {
   "cell_type": "code",
   "execution_count": 2,
   "metadata": {
    "_last_msg_id": "849976567bc044dfab23561a08012c1b"
   },
   "outputs": [],
   "source": [
    "sys.path.append('../..')"
   ]
  },
  {
   "cell_type": "code",
   "execution_count": 3,
   "metadata": {
    "_last_msg_id": "57ed90ad58544a9c8cdf106cd34474a5"
   },
   "outputs": [],
   "source": [
    "from lib.datasets import get_train_test_img_ids_split, get_kfolds\n",
    "from lib.dataloaders import PatchesDataset\n",
    "from lib.augmentations import augment_v1"
   ]
  },
  {
   "cell_type": "code",
   "execution_count": 4,
   "metadata": {
    "_last_msg_id": "cf7e437bb8a04ed4b8d3b371af299f68"
   },
   "outputs": [],
   "source": [
    "train_img_ids, test_img_ids = get_train_test_img_ids_split()"
   ]
  },
  {
   "cell_type": "code",
   "execution_count": 5,
   "metadata": {
    "_last_msg_id": "87e44cba942a4943881e70b55ba02b5f"
   },
   "outputs": [
    {
     "data": {
      "text/plain": [
       "(['eaf66ac783499827a7f09d69793a07d7',\n",
       "  'ea035a96c752f59a4934a91068b318f2',\n",
       "  '4c0d7290c72b5495df6c337b1e5dee88',\n",
       "  '9edf591d741baf346fc1ff0f42dd4ddc'],\n",
       " ['e8baa3bb9dcfb9cef5ca599d62bb8046',\n",
       "  '9b2948ff81b64677a1a152a1532c1a50',\n",
       "  '5b003d43ec0ce5979062442486f84cf7',\n",
       "  '375b2c9501320b35ceb638a3274812aa'])"
      ]
     },
     "execution_count": 5,
     "metadata": {},
     "output_type": "execute_result"
    }
   ],
   "source": [
    "train_img_ids[:4], test_img_ids[:4]"
   ]
  },
  {
   "cell_type": "code",
   "execution_count": null,
   "metadata": {},
   "outputs": [],
   "source": []
  },
  {
   "cell_type": "code",
   "execution_count": 6,
   "metadata": {
    "_last_msg_id": "54a786350b0841a89ae72b80694fd7d9"
   },
   "outputs": [],
   "source": [
    "#%%time\n",
    "#img, mask, labes, provider, isup_grade, g_score = next(iter(train_loader))"
   ]
  },
  {
   "cell_type": "code",
   "execution_count": 7,
   "metadata": {
    "_last_msg_id": "2a140a167a49450e8221a9e32b344bb9"
   },
   "outputs": [],
   "source": [
    "import torch\n",
    "import torchvision\n",
    "from torchsummary import summary\n",
    "from torch import optim\n",
    "\n",
    "from torch.nn import functional as F\n",
    "from torch import nn"
   ]
  },
  {
   "cell_type": "code",
   "execution_count": 8,
   "metadata": {
    "_last_msg_id": "f6ad3a398f4146178940fbb439f96e9e"
   },
   "outputs": [],
   "source": [
    "import pretrainedmodels"
   ]
  },
  {
   "cell_type": "code",
   "execution_count": 9,
   "metadata": {
    "_last_msg_id": "56cf50e231c1422dadab421e08468d8f"
   },
   "outputs": [],
   "source": [
    "# backbone_model = pretrainedmodels.se_resnet50()\n",
    "# backbone_model = torchvision.models.resnet18(num_classes=9)"
   ]
  },
  {
   "cell_type": "code",
   "execution_count": 10,
   "metadata": {
    "_last_msg_id": "c0e188b4d7b7441eb8fa0666828d1e41"
   },
   "outputs": [],
   "source": [
    "#backbone_model.avg_pool = nn.Identity()\n",
    "#backbone_model.last_linear = nn.Identity()"
   ]
  },
  {
   "cell_type": "code",
   "execution_count": 11,
   "metadata": {
    "_last_msg_id": "1203f9f1d62746c28aabde94edb59a9d"
   },
   "outputs": [],
   "source": [
    "sys.path.append('../../../captcha/lib/')"
   ]
  },
  {
   "cell_type": "code",
   "execution_count": 12,
   "metadata": {
    "_last_msg_id": "9568d2f6ad1049cd88ccd50a6437675d"
   },
   "outputs": [],
   "source": [
    "from models import resnet_mini_custom"
   ]
  },
  {
   "cell_type": "code",
   "execution_count": 13,
   "metadata": {
    "_last_msg_id": "92c558bec5a84ef0b895db420204b0fa"
   },
   "outputs": [],
   "source": [
    "backbone_model = resnet_mini_custom.resnet20_c7_fls2(num_classes=9)"
   ]
  },
  {
   "cell_type": "code",
   "execution_count": 14,
   "metadata": {
    "_last_msg_id": "a70b8d39ef33473d8ce6622bc1ac5bea"
   },
   "outputs": [],
   "source": [
    "backbone_model.conv1 = nn.Conv2d(3, 16, kernel_size=(7, 7), stride=(2, 2), padding=(1, 1), bias=False)"
   ]
  },
  {
   "cell_type": "code",
   "execution_count": 15,
   "metadata": {
    "_last_msg_id": "966b27ead4af4c33864d55a12d208154",
    "scrolled": true
   },
   "outputs": [
    {
     "name": "stdout",
     "output_type": "stream",
     "text": [
      "----------------------------------------------------------------\n",
      "        Layer (type)               Output Shape         Param #\n",
      "================================================================\n",
      "            Conv2d-1         [-1, 16, 254, 254]           2,352\n",
      "       BatchNorm2d-2         [-1, 16, 254, 254]              32\n",
      "            Conv2d-3           [-1, 16, 64, 64]           2,304\n",
      "       BatchNorm2d-4           [-1, 16, 64, 64]              32\n",
      "            Conv2d-5           [-1, 16, 64, 64]           2,304\n",
      "       BatchNorm2d-6           [-1, 16, 64, 64]              32\n",
      "       LambdaLayer-7           [-1, 16, 64, 64]               0\n",
      "        BasicBlock-8           [-1, 16, 64, 64]               0\n",
      "            Conv2d-9           [-1, 16, 64, 64]           2,304\n",
      "      BatchNorm2d-10           [-1, 16, 64, 64]              32\n",
      "           Conv2d-11           [-1, 16, 64, 64]           2,304\n",
      "      BatchNorm2d-12           [-1, 16, 64, 64]              32\n",
      "       BasicBlock-13           [-1, 16, 64, 64]               0\n",
      "           Conv2d-14           [-1, 16, 64, 64]           2,304\n",
      "      BatchNorm2d-15           [-1, 16, 64, 64]              32\n",
      "           Conv2d-16           [-1, 16, 64, 64]           2,304\n",
      "      BatchNorm2d-17           [-1, 16, 64, 64]              32\n",
      "       BasicBlock-18           [-1, 16, 64, 64]               0\n",
      "           Conv2d-19           [-1, 32, 32, 32]           4,608\n",
      "      BatchNorm2d-20           [-1, 32, 32, 32]              64\n",
      "           Conv2d-21           [-1, 32, 32, 32]           9,216\n",
      "      BatchNorm2d-22           [-1, 32, 32, 32]              64\n",
      "      LambdaLayer-23           [-1, 32, 32, 32]               0\n",
      "       BasicBlock-24           [-1, 32, 32, 32]               0\n",
      "           Conv2d-25           [-1, 32, 32, 32]           9,216\n",
      "      BatchNorm2d-26           [-1, 32, 32, 32]              64\n",
      "           Conv2d-27           [-1, 32, 32, 32]           9,216\n",
      "      BatchNorm2d-28           [-1, 32, 32, 32]              64\n",
      "       BasicBlock-29           [-1, 32, 32, 32]               0\n",
      "           Conv2d-30           [-1, 32, 32, 32]           9,216\n",
      "      BatchNorm2d-31           [-1, 32, 32, 32]              64\n",
      "           Conv2d-32           [-1, 32, 32, 32]           9,216\n",
      "      BatchNorm2d-33           [-1, 32, 32, 32]              64\n",
      "       BasicBlock-34           [-1, 32, 32, 32]               0\n",
      "           Conv2d-35           [-1, 64, 16, 16]          18,432\n",
      "      BatchNorm2d-36           [-1, 64, 16, 16]             128\n",
      "           Conv2d-37           [-1, 64, 16, 16]          36,864\n",
      "      BatchNorm2d-38           [-1, 64, 16, 16]             128\n",
      "      LambdaLayer-39           [-1, 64, 16, 16]               0\n",
      "       BasicBlock-40           [-1, 64, 16, 16]               0\n",
      "           Conv2d-41           [-1, 64, 16, 16]          36,864\n",
      "      BatchNorm2d-42           [-1, 64, 16, 16]             128\n",
      "           Conv2d-43           [-1, 64, 16, 16]          36,864\n",
      "      BatchNorm2d-44           [-1, 64, 16, 16]             128\n",
      "       BasicBlock-45           [-1, 64, 16, 16]               0\n",
      "           Conv2d-46           [-1, 64, 16, 16]          36,864\n",
      "      BatchNorm2d-47           [-1, 64, 16, 16]             128\n",
      "           Conv2d-48           [-1, 64, 16, 16]          36,864\n",
      "      BatchNorm2d-49           [-1, 64, 16, 16]             128\n",
      "       BasicBlock-50           [-1, 64, 16, 16]               0\n",
      "           Linear-51                    [-1, 9]             585\n",
      "================================================================\n",
      "Total params: 271,577\n",
      "Trainable params: 271,577\n",
      "Non-trainable params: 0\n",
      "----------------------------------------------------------------\n",
      "Input size (MB): 3.00\n",
      "Forward/backward pass size (MB): 29.75\n",
      "Params size (MB): 1.04\n",
      "Estimated Total Size (MB): 33.79\n",
      "----------------------------------------------------------------\n"
     ]
    }
   ],
   "source": [
    "summary(backbone_model, (3, 512, 512), -1, 'cpu')"
   ]
  },
  {
   "cell_type": "code",
   "execution_count": 16,
   "metadata": {
    "_last_msg_id": "90d12668dc364455876b9160d2c1c897"
   },
   "outputs": [],
   "source": [
    "device = torch.device('cuda:0')"
   ]
  },
  {
   "cell_type": "code",
   "execution_count": 17,
   "metadata": {
    "_last_msg_id": "e30f7d51977f477ebedc4c2bf2e8d644"
   },
   "outputs": [],
   "source": [
    "backbone_model.to(device);"
   ]
  },
  {
   "cell_type": "code",
   "execution_count": 18,
   "metadata": {
    "_last_msg_id": "25c03ae67bd74b0e8cf90f4c0086adae"
   },
   "outputs": [],
   "source": [
    "from tqdm.auto import tqdm"
   ]
  },
  {
   "cell_type": "code",
   "execution_count": 19,
   "metadata": {
    "_last_msg_id": "9a24336f7ee34c5e886b31bc17315c9a"
   },
   "outputs": [],
   "source": [
    "class SmoothLoss:\n",
    "    \"A simple loss compute and train function.\"\n",
    "    def __init__(self, criterion, smoothing=0.1):\n",
    "        self.criterion = criterion\n",
    "        self.smoothing = smoothing\n",
    "        self.confidence = 1 - smoothing\n",
    "        \n",
    "    def __call__(self, output, target):\n",
    "        smooth_target = target\n",
    "        # smooth_target = torch.full_like(output, self.smoothing / (output.size(1) - 1))\n",
    "        # smooth_target.scatter_(1, target[:, None, :], self.confidence)\n",
    "        loss = self.criterion(output, smooth_target)\n",
    "        return loss"
   ]
  },
  {
   "cell_type": "code",
   "execution_count": 20,
   "metadata": {
    "_last_msg_id": "8cf4a2ab040449f391c9295d2a1c775b"
   },
   "outputs": [],
   "source": [
    "c_criterion0 = SmoothLoss(lambda o, t: F.kl_div(o, t) * o.size(1), smoothing=0.1)\n",
    "criterion = c_criterion0"
   ]
  },
  {
   "cell_type": "code",
   "execution_count": 21,
   "metadata": {
    "_last_msg_id": "51eabede003a47dcb4efb1427ab98eff"
   },
   "outputs": [],
   "source": [
    "model = backbone_model"
   ]
  },
  {
   "cell_type": "code",
   "execution_count": 22,
   "metadata": {
    "_last_msg_id": "7e5b54fa803541f28cdb04458ed7f882"
   },
   "outputs": [],
   "source": [
    "optimizer = optim.Adam(model.parameters(), lr=0.001, weight_decay=1e-4)"
   ]
  },
  {
   "cell_type": "code",
   "execution_count": 23,
   "metadata": {
    "_last_msg_id": "523b9daba61840ee8dfeb240f9eb489e"
   },
   "outputs": [],
   "source": [
    "train_loader = torch.utils.data.DataLoader(\n",
    "    PatchesDataset(train_img_ids, transform=augment_v1, scale=0.5, load_masks=True),\n",
    "    batch_size=64, shuffle=True, num_workers=6, pin_memory=True,\n",
    ")"
   ]
  },
  {
   "cell_type": "code",
   "execution_count": 24,
   "metadata": {
    "_last_msg_id": "b79ca99dcabc48509ae04113f9b7cfa6"
   },
   "outputs": [],
   "source": [
    "import itertools"
   ]
  },
  {
   "cell_type": "code",
   "execution_count": 25,
   "metadata": {
    "_last_msg_id": "6a865fee5cbe4221811b08796bbe9911"
   },
   "outputs": [],
   "source": [
    "train_loader_iter = iter(itertools.cycle(train_loader))"
   ]
  },
  {
   "cell_type": "code",
   "execution_count": 26,
   "metadata": {
    "_last_msg_id": "bacadac2b8854838a561f3c38ff4db2f"
   },
   "outputs": [
    {
     "name": "stdout",
     "output_type": "stream",
     "text": [
      "CPU times: user 443 ms, sys: 119 ms, total: 562 ms\n",
      "Wall time: 1.15 s\n"
     ]
    }
   ],
   "source": [
    "%%time\n",
    "img, mask, labels, provider, isup_grade, g_score = next(train_loader_iter)"
   ]
  },
  {
   "cell_type": "code",
   "execution_count": 27,
   "metadata": {
    "_last_msg_id": "f38386e3c7af4556849964dc4639bb0d",
    "scrolled": true
   },
   "outputs": [
    {
     "data": {
      "application/vnd.jupyter.widget-view+json": {
       "model_id": "3b3ea5a9945a40d49ceed27666fc6192",
       "version_major": 2,
       "version_minor": 0
      },
      "text/plain": [
       "HBox(children=(FloatProgress(value=0.0, max=120.0), HTML(value='')))"
      ]
     },
     "metadata": {},
     "output_type": "display_data"
    },
    {
     "name": "stdout",
     "output_type": "stream",
     "text": [
      "\n",
      "CPU times: user 2.14 s, sys: 3.28 s, total: 5.43 s\n",
      "Wall time: 18.1 s\n"
     ]
    }
   ],
   "source": [
    "%%time\n",
    "for b in tqdm(range(120)):\n",
    "    #model.train()\n",
    "    \n",
    "    img, mask, labels, provider, isup_grade, g_score = next(train_loader_iter)\n",
    "    \n",
    "    img, labels = img.to(device), labels.to(device)\n",
    "    \n",
    "    #optimizer.zero_grad()\n",
    "    \n",
    "    #output = model(img)\n",
    "    \n",
    "    #loss = criterion(output, labels)\n",
    "    \n",
    "    #loss.backward()\n",
    "\n",
    "    #optimizer.step()"
   ]
  },
  {
   "cell_type": "code",
   "execution_count": 28,
   "metadata": {
    "_last_msg_id": "f690badf90184b478b124e1c3ea4b966"
   },
   "outputs": [],
   "source": [
    "# Без сети\n",
    "# 1 wo aug 12.7 s\n",
    "# 1 w aug 27.6 s\n",
    "\n",
    "# 0.5 wo aug 8.57 \n",
    "# 0.5 w aug 11.3\n",
    "# 0.5 w aug w masks 18.1\n",
    "\n",
    "\n",
    "# resnet18\n",
    "# 0.5 wo aug 15.1\n",
    "# 0.5 w aug 15.0\n",
    "# 1 w aug 60.0\n",
    "\n",
    "# resnet20_c7_fls2\n",
    "# 1 w aug 00:26 - затык в подготовке данных\n",
    "# 1 wo aug 00:13"
   ]
  },
  {
   "cell_type": "code",
   "execution_count": null,
   "metadata": {},
   "outputs": [],
   "source": []
  },
  {
   "cell_type": "code",
   "execution_count": null,
   "metadata": {},
   "outputs": [],
   "source": []
  },
  {
   "cell_type": "code",
   "execution_count": null,
   "metadata": {},
   "outputs": [],
   "source": []
  }
 ],
 "metadata": {
  "kernelspec": {
   "display_name": "Python 3",
   "language": "python",
   "name": "python3"
  },
  "language_info": {
   "codemirror_mode": {
    "name": "ipython",
    "version": 3
   },
   "file_extension": ".py",
   "mimetype": "text/x-python",
   "name": "python",
   "nbconvert_exporter": "python",
   "pygments_lexer": "ipython3",
   "version": "3.7.4"
  }
 },
 "nbformat": 4,
 "nbformat_minor": 2
}
