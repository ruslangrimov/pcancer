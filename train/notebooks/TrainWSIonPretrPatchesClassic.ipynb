{
 "cells": [
  {
   "cell_type": "code",
   "execution_count": 1,
   "metadata": {
    "_last_msg_id": "4a65400a14334f1d80ac59296cbca295"
   },
   "outputs": [],
   "source": [
    "import sys\n",
    "sys.path.append('../..')"
   ]
  },
  {
   "cell_type": "code",
   "execution_count": 2,
   "metadata": {
    "_last_msg_id": "80354fea2ba443fb95df21ed06649f8a"
   },
   "outputs": [],
   "source": [
    "import os\n",
    "import psutil\n",
    "\n",
    "import random\n",
    "import math\n",
    "from functools import partial\n",
    "\n",
    "import torch \n",
    "from torch import optim\n",
    "from torch.optim import lr_scheduler\n",
    "from torch import nn\n",
    "from torch.nn import functional as F\n",
    "\n",
    "import multiprocessing.dummy as mp\n",
    "\n",
    "from pytorch_lightning import Trainer\n",
    "from pytorch_lightning.core import LightningModule\n",
    "from pytorch_lightning.callbacks import ModelCheckpoint\n",
    "from pytorch_lightning.loggers.tensorboard import TensorBoardLogger\n",
    "\n",
    "\n",
    "from lib.schedulers import DelayedScheduler\n",
    "from lib.datasets import (max_lbl_nums, actual_lbl_nums, \n",
    "                          patches_rgb_mean_av1, patches_rgb_std_av1, \n",
    "                          get_train_test_img_ids_split)\n",
    "from lib.dataloaders import PatchesDataset, WSIPatchesDatasetRaw, WSIPatchesDummyDataloader\n",
    "from lib.augmentations import augment_v1_clr_only, augment_empty_clr_only\n",
    "from lib.losses import SmoothLoss\n",
    "\n",
    "from lib.models.unetv1 import get_model\n",
    "from lib.models.features_map import FeaturesMap\n",
    "\n",
    "from sklearn.metrics import cohen_kappa_score\n",
    "\n",
    "from tqdm.auto import tqdm\n",
    "\n",
    "import matplotlib.pyplot as plt"
   ]
  },
  {
   "cell_type": "code",
   "execution_count": 3,
   "metadata": {
    "_last_msg_id": "9620aa9268b84cfaaa02609a57e2285b"
   },
   "outputs": [],
   "source": [
    "# import cv2\n",
    "import numpy as np\n",
    "# import pandas as pd\n",
    "# from lib.datasets import patches_csv_path, patches_path\n",
    "from lib.datasets import (patches_clean90_csv_path as patches_csv_path, patches_path,\n",
    "                          patches_clean90_pkl_path as patches_pkl_path)\n",
    "# from lib.dataloaders import imread, get_g_score_num, get_provider_num"
   ]
  },
  {
   "cell_type": "code",
   "execution_count": 4,
   "metadata": {
    "_last_msg_id": "c453b090d09f43b1973acdcfdfc2e627"
   },
   "outputs": [
    {
     "data": {
      "text/plain": [
       "['e8baa3bb9dcfb9cef5ca599d62bb8046',\n",
       " '9b2948ff81b64677a1a152a1532c1a50',\n",
       " '5b003d43ec0ce5979062442486f84cf7',\n",
       " '375b2c9501320b35ceb638a3274812aa']"
      ]
     },
     "execution_count": 4,
     "metadata": {},
     "output_type": "execute_result"
    }
   ],
   "source": [
    "train_img_ids, test_img_ids = get_train_test_img_ids_split()\n",
    "\n",
    "test_img_ids[:4]"
   ]
  },
  {
   "cell_type": "code",
   "execution_count": 5,
   "metadata": {
    "_last_msg_id": "11e6bc97cb1146e180aaf63f280617b0"
   },
   "outputs": [],
   "source": [
    "from lib.dataloaders import WSIPatchesDataloader, WSIPatchesDatasetRaw\n",
    "from lib.utils import get_pretrained_model, get_features"
   ]
  },
  {
   "cell_type": "code",
   "execution_count": 6,
   "metadata": {
    "_last_msg_id": "7c2a23acbbd44f328c9469dca9c56672"
   },
   "outputs": [],
   "source": [
    "batch_size = 64"
   ]
  },
  {
   "cell_type": "code",
   "execution_count": 7,
   "metadata": {
    "_last_msg_id": "129d568c621341918c2261bca53979d6"
   },
   "outputs": [],
   "source": [
    "device = torch.device('cuda:0')"
   ]
  },
  {
   "cell_type": "code",
   "execution_count": null,
   "metadata": {
    "_last_msg_id": "d46d491a9648443884cc13eedd2c4aa9"
   },
   "outputs": [],
   "source": [
    "model = get_pretrained_model(get_model, {\n",
    "    'classes': actual_lbl_nums,\n",
    "    #'backbone': 'seresnet18_mini',\n",
    "    #'decoder_channels': (64, 64, 64, 32, 16),\n",
    "}, \n",
    "\"../Patches256TestRun/version_0/checkpoints/last.ckpt\", \n",
    "#\"/mnt/HDDData/notebooks/pcancer/experiments_results/pretrain/clean_patches90_small_se_resnet18_v1/version_0/checkpoints/last.ckpt\",\n",
    "device, encoder_only=False)"
   ]
  },
  {
   "cell_type": "code",
   "execution_count": 199,
   "metadata": {
    "_last_msg_id": "4c0a5adf1902442e989657ac2ae60d69"
   },
   "outputs": [],
   "source": [
    "train_batch_path = '/mnt/HDDData/pdata/processed/pretrained/train/{}/'\n",
    "test_batch_path = '/mnt/HDDData/pdata/processed/pretrained/val/'\n",
    "\n",
    "train_loader = WSIPatchesDummyDataloader(train_batch_path, precalc_epochs=50, batch_size=batch_size, shuffle=True)\n",
    "val_loader = WSIPatchesDummyDataloader(test_batch_path, precalc_epochs=50, batch_size=batch_size, shuffle=False)"
   ]
  },
  {
   "cell_type": "code",
   "execution_count": 177,
   "metadata": {
    "_last_msg_id": "bae3d94edbdc46af86ddf04db3c4df9d",
    "scrolled": true
   },
   "outputs": [
    {
     "data": {
      "application/vnd.jupyter.widget-view+json": {
       "model_id": "a4e0c9b394b44b43806689300d2a7d25",
       "version_major": 2,
       "version_minor": 0
      },
      "text/plain": [
       "HBox(children=(FloatProgress(value=0.0, max=50.0), HTML(value='')))"
      ]
     },
     "metadata": {},
     "output_type": "display_data"
    },
    {
     "name": "stdout",
     "output_type": "stream",
     "text": [
      "\n"
     ]
    }
   ],
   "source": [
    "data = []\n",
    "target = []\n",
    "\n",
    "for _ in tqdm(range(50)):\n",
    "    for features, ys, xs, provider, isup_grade, gleason_score in train_loader:\n",
    "        for b in range(features.shape[0]):\n",
    "            r_mask = ys[b] > -1\n",
    "            f = features.transpose(-2, -1)[b, r_mask][..., None, None]\n",
    "\n",
    "            with torch.no_grad():\n",
    "                preds = model.classification_head(f.to(device))\n",
    "\n",
    "            lbls = torch.cat([preds.mean(dim=0),\n",
    "                              torch.cat([F.softmax(preds[:, :6], dim=1), \n",
    "                                         F.softmax(preds[:, -3:], dim=1)],\n",
    "                                        dim=1).mean(dim=0)]).cpu()\n",
    "\n",
    "            c_lbl = torch.zeros((1, 9))\n",
    "            p_lbl = torch.zeros((1, 9))\n",
    "            a_max0 = preds[:, :6].argmax(dim=1)\n",
    "            a_max1 = preds[:, -3:].argmax(dim=1) + 6\n",
    "\n",
    "            for l in range(9):\n",
    "                p_lbl[0, l] = (a_max0 == l).sum() + (a_max1 == l).sum()    \n",
    "                p_lbl[0, l] = (a_max0 == l).float().mean() + (a_max1 == l).float().mean()            \n",
    "            \n",
    "            data.append(torch.cat([provider[b][None, None, ...].float(), \n",
    "                                   lbls[None, ...], \n",
    "                                   c_lbl, p_lbl], dim=1).numpy())\n",
    "        target.append(isup_grade.numpy()) \n",
    "    \n",
    "data = np.concatenate(data)\n",
    "target = np.concatenate(target)"
   ]
  },
  {
   "cell_type": "code",
   "execution_count": 228,
   "metadata": {
    "_last_msg_id": "e94c82db514348dea04f2251eeb5b572"
   },
   "outputs": [
    {
     "data": {
      "application/vnd.jupyter.widget-view+json": {
       "model_id": "1903d7cc32d94e8b9a97bcc60ad6a306",
       "version_major": 2,
       "version_minor": 0
      },
      "text/plain": [
       "HBox(children=(FloatProgress(value=0.0, max=1.0), HTML(value='')))"
      ]
     },
     "metadata": {},
     "output_type": "display_data"
    },
    {
     "name": "stdout",
     "output_type": "stream",
     "text": [
      "\n"
     ]
    }
   ],
   "source": [
    "data = []\n",
    "target = []\n",
    "\n",
    "for _ in tqdm(range(1)):\n",
    "    for features, ys, xs, provider, isup_grade, gleason_score in val_loader:\n",
    "        r_mask = ys > -1\n",
    "\n",
    "        f_ns = torch.arange(features.shape[0])[..., None].expand(features.shape[0], 300)[r_mask]\n",
    "        f = features.transpose(-2, -1)[r_mask]\n",
    "\n",
    "        out = [F.adaptive_max_pool1d(f[f_ns == i].T[None, ...], 1)[..., 0]\n",
    "               for i in range(f_ns.max()+1)]\n",
    "        out = torch.cat(out)        \n",
    "        \n",
    "        data.append(out.numpy())\n",
    "        target.append(isup_grade.numpy()) \n",
    "    \n",
    "data = np.concatenate(data)\n",
    "target = np.concatenate(target)"
   ]
  },
  {
   "cell_type": "code",
   "execution_count": null,
   "metadata": {},
   "outputs": [],
   "source": []
  },
  {
   "cell_type": "code",
   "execution_count": 230,
   "metadata": {
    "_last_msg_id": "936dbc5210e64aa48c436a59fe841218"
   },
   "outputs": [],
   "source": [
    "#val_data = data.copy()\n",
    "#val_target = target.copy()\n",
    "\n",
    "#np.save(\"val_raw512_data.npy\", val_data)\n",
    "#np.save(\"val_raw512_target.npy\", val_target)"
   ]
  },
  {
   "cell_type": "code",
   "execution_count": 226,
   "metadata": {
    "_last_msg_id": "a9adebcea9734050ae5222a5e82edfcf"
   },
   "outputs": [],
   "source": [
    "#train_data = data.copy()\n",
    "#train_target = target.copy()\n",
    "\n",
    "#np.save(\"train_raw512_data.npy\", train_data)\n",
    "#np.save(\"train_raw512_target.npy\", train_target)"
   ]
  },
  {
   "cell_type": "code",
   "execution_count": 227,
   "metadata": {
    "_last_msg_id": "40e1cf7b56ec46d3829b88d7d7666fff"
   },
   "outputs": [
    {
     "data": {
      "text/plain": [
       "((421000, 512), (421000,))"
      ]
     },
     "execution_count": 227,
     "metadata": {},
     "output_type": "execute_result"
    }
   ],
   "source": [
    "train_data.shape, train_target.shape"
   ]
  },
  {
   "cell_type": "code",
   "execution_count": 7,
   "metadata": {
    "_last_msg_id": "5a8f0680a5cb490494fa701f0aa60846"
   },
   "outputs": [],
   "source": [
    "train_data = np.load(\"train_raw512_data.npy\")\n",
    "train_target = np.load(\"train_raw512_target.npy\")\n",
    "\n",
    "val_data = np.load(\"val_raw512_data.npy\")\n",
    "val_target = np.load(\"val_raw512_target.npy\")"
   ]
  },
  {
   "cell_type": "code",
   "execution_count": null,
   "metadata": {},
   "outputs": [],
   "source": []
  },
  {
   "cell_type": "code",
   "execution_count": 8,
   "metadata": {
    "_last_msg_id": "3e6b42e96362449a81a61ced0a89bb44"
   },
   "outputs": [],
   "source": [
    "import lightgbm as lgb"
   ]
  },
  {
   "cell_type": "code",
   "execution_count": 9,
   "metadata": {
    "_last_msg_id": "ec3c85920c744ccb89d9137ebdc8bd8c"
   },
   "outputs": [],
   "source": [
    "def quadratic_weighted_kappa(y_hat, y):\n",
    "    return cohen_kappa_score(y_hat, y, weights='quadratic')\n",
    "\n",
    "def QWK(preds, dtrain):\n",
    "    labels = dtrain.get_label()\n",
    "    preds = np.rint(preds)\n",
    "    score = quadratic_weighted_kappa(preds, labels)\n",
    "    return (\"QWK\", score, True)"
   ]
  },
  {
   "cell_type": "code",
   "execution_count": 233,
   "metadata": {
    "_last_msg_id": "b77891927476409a89d6e7d8e9437cd1"
   },
   "outputs": [
    {
     "data": {
      "text/plain": [
       "(421000, 512)"
      ]
     },
     "execution_count": 233,
     "metadata": {},
     "output_type": "execute_result"
    }
   ],
   "source": [
    "train_data.shape"
   ]
  },
  {
   "cell_type": "code",
   "execution_count": 235,
   "metadata": {
    "_last_msg_id": "15996daa40164d3d962f819afcf42169"
   },
   "outputs": [],
   "source": [
    "train_dataset = lgb.Dataset(train_data, train_target)\n",
    "valid_dataset = lgb.Dataset(val_data, val_target)"
   ]
  },
  {
   "cell_type": "code",
   "execution_count": 236,
   "metadata": {
    "_last_msg_id": "1031cbbf949543b88e56c208f1ec8334"
   },
   "outputs": [],
   "source": [
    "params = {\n",
    "            \"objective\": 'regression',\n",
    "            \"metric\": 'rmse',\n",
    "            \"seed\": 42,\n",
    "            \"learning_rate\": 0.01,\n",
    "            \"boosting\": \"gbdt\",\n",
    "        }"
   ]
  },
  {
   "cell_type": "code",
   "execution_count": 237,
   "metadata": {
    "_last_msg_id": "f8c05ffcf03342419f93ab240788e0ad",
    "scrolled": true
   },
   "outputs": [
    {
     "name": "stdout",
     "output_type": "stream",
     "text": [
      "Training until validation scores don't improve for 2000 rounds\n",
      "[100]\ttraining's rmse: 1.13963\ttraining's QWK: 0.589671\tvalid_1's rmse: 1.13894\tvalid_1's QWK: 0.609197\n",
      "[200]\ttraining's rmse: 0.993364\ttraining's QWK: 0.764304\tvalid_1's rmse: 0.980739\tvalid_1's QWK: 0.787545\n",
      "[300]\ttraining's rmse: 0.945727\ttraining's QWK: 0.797465\tvalid_1's rmse: 0.938806\tvalid_1's QWK: 0.814201\n",
      "[400]\ttraining's rmse: 0.920672\ttraining's QWK: 0.813302\tvalid_1's rmse: 0.922793\tvalid_1's QWK: 0.825779\n",
      "[500]\ttraining's rmse: 0.902415\ttraining's QWK: 0.822338\tvalid_1's rmse: 0.91451\tvalid_1's QWK: 0.832676\n",
      "[600]\ttraining's rmse: 0.887646\ttraining's QWK: 0.828793\tvalid_1's rmse: 0.910156\tvalid_1's QWK: 0.83823\n",
      "[700]\ttraining's rmse: 0.874647\ttraining's QWK: 0.834527\tvalid_1's rmse: 0.906254\tvalid_1's QWK: 0.837652\n",
      "[800]\ttraining's rmse: 0.862997\ttraining's QWK: 0.83922\tvalid_1's rmse: 0.903555\tvalid_1's QWK: 0.838964\n",
      "[900]\ttraining's rmse: 0.852342\ttraining's QWK: 0.843279\tvalid_1's rmse: 0.901034\tvalid_1's QWK: 0.840341\n",
      "[1000]\ttraining's rmse: 0.8428\ttraining's QWK: 0.846982\tvalid_1's rmse: 0.898939\tvalid_1's QWK: 0.841224\n",
      "[1100]\ttraining's rmse: 0.833908\ttraining's QWK: 0.850054\tvalid_1's rmse: 0.896718\tvalid_1's QWK: 0.841875\n",
      "[1200]\ttraining's rmse: 0.825684\ttraining's QWK: 0.853157\tvalid_1's rmse: 0.894823\tvalid_1's QWK: 0.841637\n",
      "[1300]\ttraining's rmse: 0.818106\ttraining's QWK: 0.85594\tvalid_1's rmse: 0.893768\tvalid_1's QWK: 0.842186\n",
      "[1400]\ttraining's rmse: 0.811015\ttraining's QWK: 0.858496\tvalid_1's rmse: 0.8921\tvalid_1's QWK: 0.842843\n",
      "[1500]\ttraining's rmse: 0.804264\ttraining's QWK: 0.86087\tvalid_1's rmse: 0.891053\tvalid_1's QWK: 0.84266\n",
      "[1600]\ttraining's rmse: 0.797739\ttraining's QWK: 0.863061\tvalid_1's rmse: 0.88966\tvalid_1's QWK: 0.842924\n",
      "[1700]\ttraining's rmse: 0.791533\ttraining's QWK: 0.865218\tvalid_1's rmse: 0.888028\tvalid_1's QWK: 0.844099\n",
      "[1800]\ttraining's rmse: 0.785428\ttraining's QWK: 0.867179\tvalid_1's rmse: 0.886772\tvalid_1's QWK: 0.844813\n",
      "[1900]\ttraining's rmse: 0.779762\ttraining's QWK: 0.868945\tvalid_1's rmse: 0.885668\tvalid_1's QWK: 0.84512\n",
      "[2000]\ttraining's rmse: 0.774278\ttraining's QWK: 0.870884\tvalid_1's rmse: 0.88451\tvalid_1's QWK: 0.845152\n",
      "[2100]\ttraining's rmse: 0.769025\ttraining's QWK: 0.872649\tvalid_1's rmse: 0.883716\tvalid_1's QWK: 0.845412\n",
      "[2200]\ttraining's rmse: 0.763918\ttraining's QWK: 0.874289\tvalid_1's rmse: 0.882534\tvalid_1's QWK: 0.845497\n",
      "[2300]\ttraining's rmse: 0.759124\ttraining's QWK: 0.875783\tvalid_1's rmse: 0.881754\tvalid_1's QWK: 0.846049\n",
      "[2400]\ttraining's rmse: 0.754349\ttraining's QWK: 0.877576\tvalid_1's rmse: 0.880879\tvalid_1's QWK: 0.847066\n",
      "[2500]\ttraining's rmse: 0.749735\ttraining's QWK: 0.879062\tvalid_1's rmse: 0.879914\tvalid_1's QWK: 0.847277\n",
      "[2600]\ttraining's rmse: 0.745331\ttraining's QWK: 0.880511\tvalid_1's rmse: 0.879213\tvalid_1's QWK: 0.847674\n",
      "[2700]\ttraining's rmse: 0.740928\ttraining's QWK: 0.881892\tvalid_1's rmse: 0.878566\tvalid_1's QWK: 0.847805\n",
      "[2800]\ttraining's rmse: 0.736671\ttraining's QWK: 0.883241\tvalid_1's rmse: 0.877588\tvalid_1's QWK: 0.848379\n",
      "[2900]\ttraining's rmse: 0.732482\ttraining's QWK: 0.884596\tvalid_1's rmse: 0.876821\tvalid_1's QWK: 0.848771\n",
      "[3000]\ttraining's rmse: 0.728369\ttraining's QWK: 0.8859\tvalid_1's rmse: 0.876047\tvalid_1's QWK: 0.849193\n",
      "[3100]\ttraining's rmse: 0.724416\ttraining's QWK: 0.887183\tvalid_1's rmse: 0.87556\tvalid_1's QWK: 0.849\n",
      "[3200]\ttraining's rmse: 0.72051\ttraining's QWK: 0.888439\tvalid_1's rmse: 0.87513\tvalid_1's QWK: 0.849198\n",
      "[3300]\ttraining's rmse: 0.716582\ttraining's QWK: 0.889742\tvalid_1's rmse: 0.874509\tvalid_1's QWK: 0.849572\n",
      "[3400]\ttraining's rmse: 0.712722\ttraining's QWK: 0.890908\tvalid_1's rmse: 0.874119\tvalid_1's QWK: 0.848975\n",
      "[3500]\ttraining's rmse: 0.709179\ttraining's QWK: 0.892108\tvalid_1's rmse: 0.873638\tvalid_1's QWK: 0.849611\n",
      "[3600]\ttraining's rmse: 0.705482\ttraining's QWK: 0.893203\tvalid_1's rmse: 0.873192\tvalid_1's QWK: 0.848995\n",
      "[3700]\ttraining's rmse: 0.701923\ttraining's QWK: 0.894326\tvalid_1's rmse: 0.872589\tvalid_1's QWK: 0.849959\n",
      "[3800]\ttraining's rmse: 0.698593\ttraining's QWK: 0.895315\tvalid_1's rmse: 0.872149\tvalid_1's QWK: 0.850479\n",
      "[3900]\ttraining's rmse: 0.69522\ttraining's QWK: 0.896403\tvalid_1's rmse: 0.871806\tvalid_1's QWK: 0.850921\n",
      "[4000]\ttraining's rmse: 0.691959\ttraining's QWK: 0.89743\tvalid_1's rmse: 0.871575\tvalid_1's QWK: 0.85038\n",
      "[4100]\ttraining's rmse: 0.688699\ttraining's QWK: 0.898425\tvalid_1's rmse: 0.871149\tvalid_1's QWK: 0.850772\n",
      "[4200]\ttraining's rmse: 0.685509\ttraining's QWK: 0.899399\tvalid_1's rmse: 0.870729\tvalid_1's QWK: 0.850402\n",
      "[4300]\ttraining's rmse: 0.682299\ttraining's QWK: 0.900354\tvalid_1's rmse: 0.870323\tvalid_1's QWK: 0.85045\n",
      "[4400]\ttraining's rmse: 0.679136\ttraining's QWK: 0.901293\tvalid_1's rmse: 0.869991\tvalid_1's QWK: 0.851069\n",
      "[4500]\ttraining's rmse: 0.675999\ttraining's QWK: 0.902251\tvalid_1's rmse: 0.869747\tvalid_1's QWK: 0.850995\n",
      "[4600]\ttraining's rmse: 0.672782\ttraining's QWK: 0.903252\tvalid_1's rmse: 0.86945\tvalid_1's QWK: 0.851013\n",
      "[4700]\ttraining's rmse: 0.669836\ttraining's QWK: 0.904136\tvalid_1's rmse: 0.869072\tvalid_1's QWK: 0.852122\n",
      "[4800]\ttraining's rmse: 0.666897\ttraining's QWK: 0.904967\tvalid_1's rmse: 0.86884\tvalid_1's QWK: 0.851679\n",
      "[4900]\ttraining's rmse: 0.663886\ttraining's QWK: 0.905848\tvalid_1's rmse: 0.868571\tvalid_1's QWK: 0.850947\n",
      "[5000]\ttraining's rmse: 0.661098\ttraining's QWK: 0.906661\tvalid_1's rmse: 0.868315\tvalid_1's QWK: 0.851462\n",
      "[5100]\ttraining's rmse: 0.658257\ttraining's QWK: 0.907481\tvalid_1's rmse: 0.868049\tvalid_1's QWK: 0.852156\n",
      "[5200]\ttraining's rmse: 0.655471\ttraining's QWK: 0.908233\tvalid_1's rmse: 0.867844\tvalid_1's QWK: 0.852251\n",
      "[5300]\ttraining's rmse: 0.652693\ttraining's QWK: 0.909066\tvalid_1's rmse: 0.867561\tvalid_1's QWK: 0.85228\n",
      "[5400]\ttraining's rmse: 0.650016\ttraining's QWK: 0.909869\tvalid_1's rmse: 0.867223\tvalid_1's QWK: 0.852207\n",
      "[5500]\ttraining's rmse: 0.647442\ttraining's QWK: 0.910608\tvalid_1's rmse: 0.866948\tvalid_1's QWK: 0.852181\n",
      "[5600]\ttraining's rmse: 0.644849\ttraining's QWK: 0.911382\tvalid_1's rmse: 0.866957\tvalid_1's QWK: 0.852009\n",
      "[5700]\ttraining's rmse: 0.642212\ttraining's QWK: 0.912145\tvalid_1's rmse: 0.866667\tvalid_1's QWK: 0.852086\n",
      "[5800]\ttraining's rmse: 0.639717\ttraining's QWK: 0.912848\tvalid_1's rmse: 0.866363\tvalid_1's QWK: 0.851914\n",
      "[5900]\ttraining's rmse: 0.637209\ttraining's QWK: 0.913573\tvalid_1's rmse: 0.86621\tvalid_1's QWK: 0.852083\n",
      "[6000]\ttraining's rmse: 0.634755\ttraining's QWK: 0.91423\tvalid_1's rmse: 0.865803\tvalid_1's QWK: 0.852601\n",
      "[6100]\ttraining's rmse: 0.632289\ttraining's QWK: 0.914931\tvalid_1's rmse: 0.865551\tvalid_1's QWK: 0.852772\n",
      "[6200]\ttraining's rmse: 0.62981\ttraining's QWK: 0.915635\tvalid_1's rmse: 0.865402\tvalid_1's QWK: 0.852603\n",
      "[6300]\ttraining's rmse: 0.627411\ttraining's QWK: 0.916238\tvalid_1's rmse: 0.865153\tvalid_1's QWK: 0.852822\n",
      "[6400]\ttraining's rmse: 0.625\ttraining's QWK: 0.916924\tvalid_1's rmse: 0.865009\tvalid_1's QWK: 0.852751\n",
      "[6500]\ttraining's rmse: 0.622723\ttraining's QWK: 0.917512\tvalid_1's rmse: 0.86485\tvalid_1's QWK: 0.853387\n",
      "[6600]\ttraining's rmse: 0.620375\ttraining's QWK: 0.918133\tvalid_1's rmse: 0.86467\tvalid_1's QWK: 0.853508\n",
      "[6700]\ttraining's rmse: 0.618084\ttraining's QWK: 0.918736\tvalid_1's rmse: 0.864692\tvalid_1's QWK: 0.853681\n",
      "[6800]\ttraining's rmse: 0.615786\ttraining's QWK: 0.919375\tvalid_1's rmse: 0.864522\tvalid_1's QWK: 0.854051\n",
      "[6900]\ttraining's rmse: 0.613595\ttraining's QWK: 0.919923\tvalid_1's rmse: 0.864355\tvalid_1's QWK: 0.854248\n",
      "[7000]\ttraining's rmse: 0.611302\ttraining's QWK: 0.920549\tvalid_1's rmse: 0.864219\tvalid_1's QWK: 0.853762\n",
      "[7100]\ttraining's rmse: 0.609042\ttraining's QWK: 0.921195\tvalid_1's rmse: 0.86421\tvalid_1's QWK: 0.853858\n",
      "[7200]\ttraining's rmse: 0.606815\ttraining's QWK: 0.921786\tvalid_1's rmse: 0.864039\tvalid_1's QWK: 0.853564\n",
      "[7300]\ttraining's rmse: 0.604678\ttraining's QWK: 0.9224\tvalid_1's rmse: 0.864012\tvalid_1's QWK: 0.853854\n",
      "[7400]\ttraining's rmse: 0.602514\ttraining's QWK: 0.92299\tvalid_1's rmse: 0.86379\tvalid_1's QWK: 0.853654\n",
      "[7500]\ttraining's rmse: 0.600409\ttraining's QWK: 0.923543\tvalid_1's rmse: 0.863636\tvalid_1's QWK: 0.853972\n",
      "[7600]\ttraining's rmse: 0.598355\ttraining's QWK: 0.924084\tvalid_1's rmse: 0.863383\tvalid_1's QWK: 0.854046\n",
      "[7700]\ttraining's rmse: 0.596354\ttraining's QWK: 0.924582\tvalid_1's rmse: 0.863211\tvalid_1's QWK: 0.854315\n"
     ]
    },
    {
     "name": "stdout",
     "output_type": "stream",
     "text": [
      "[7800]\ttraining's rmse: 0.594292\ttraining's QWK: 0.925076\tvalid_1's rmse: 0.863045\tvalid_1's QWK: 0.854462\n",
      "[7900]\ttraining's rmse: 0.592359\ttraining's QWK: 0.925591\tvalid_1's rmse: 0.862836\tvalid_1's QWK: 0.853823\n",
      "[8000]\ttraining's rmse: 0.590368\ttraining's QWK: 0.926112\tvalid_1's rmse: 0.862814\tvalid_1's QWK: 0.854192\n",
      "[8100]\ttraining's rmse: 0.588344\ttraining's QWK: 0.926625\tvalid_1's rmse: 0.862598\tvalid_1's QWK: 0.854608\n",
      "[8200]\ttraining's rmse: 0.586403\ttraining's QWK: 0.92711\tvalid_1's rmse: 0.862393\tvalid_1's QWK: 0.85478\n",
      "[8300]\ttraining's rmse: 0.584509\ttraining's QWK: 0.927559\tvalid_1's rmse: 0.86218\tvalid_1's QWK: 0.85488\n",
      "[8400]\ttraining's rmse: 0.582577\ttraining's QWK: 0.92804\tvalid_1's rmse: 0.862056\tvalid_1's QWK: 0.854952\n",
      "[8500]\ttraining's rmse: 0.580703\ttraining's QWK: 0.928541\tvalid_1's rmse: 0.861901\tvalid_1's QWK: 0.854755\n",
      "[8600]\ttraining's rmse: 0.57875\ttraining's QWK: 0.929003\tvalid_1's rmse: 0.861745\tvalid_1's QWK: 0.854682\n",
      "[8700]\ttraining's rmse: 0.576834\ttraining's QWK: 0.929486\tvalid_1's rmse: 0.8617\tvalid_1's QWK: 0.854583\n",
      "[8800]\ttraining's rmse: 0.575017\ttraining's QWK: 0.929973\tvalid_1's rmse: 0.861599\tvalid_1's QWK: 0.85456\n",
      "[8900]\ttraining's rmse: 0.57322\ttraining's QWK: 0.930391\tvalid_1's rmse: 0.861579\tvalid_1's QWK: 0.85483\n",
      "[9000]\ttraining's rmse: 0.571353\ttraining's QWK: 0.930837\tvalid_1's rmse: 0.861475\tvalid_1's QWK: 0.854538\n",
      "[9100]\ttraining's rmse: 0.569583\ttraining's QWK: 0.931289\tvalid_1's rmse: 0.861343\tvalid_1's QWK: 0.855027\n",
      "[9200]\ttraining's rmse: 0.567868\ttraining's QWK: 0.931713\tvalid_1's rmse: 0.861235\tvalid_1's QWK: 0.855051\n",
      "[9300]\ttraining's rmse: 0.566047\ttraining's QWK: 0.932161\tvalid_1's rmse: 0.860993\tvalid_1's QWK: 0.8551\n",
      "[9400]\ttraining's rmse: 0.564269\ttraining's QWK: 0.932562\tvalid_1's rmse: 0.860895\tvalid_1's QWK: 0.854412\n",
      "[9500]\ttraining's rmse: 0.562568\ttraining's QWK: 0.932994\tvalid_1's rmse: 0.860731\tvalid_1's QWK: 0.854487\n",
      "[9600]\ttraining's rmse: 0.560806\ttraining's QWK: 0.933456\tvalid_1's rmse: 0.860511\tvalid_1's QWK: 0.854684\n",
      "[9700]\ttraining's rmse: 0.559056\ttraining's QWK: 0.933928\tvalid_1's rmse: 0.860406\tvalid_1's QWK: 0.854637\n",
      "[9800]\ttraining's rmse: 0.557355\ttraining's QWK: 0.934351\tvalid_1's rmse: 0.860257\tvalid_1's QWK: 0.854831\n",
      "[9900]\ttraining's rmse: 0.555628\ttraining's QWK: 0.934794\tvalid_1's rmse: 0.860135\tvalid_1's QWK: 0.855004\n",
      "[10000]\ttraining's rmse: 0.553956\ttraining's QWK: 0.935163\tvalid_1's rmse: 0.860083\tvalid_1's QWK: 0.855029\n",
      "[10100]\ttraining's rmse: 0.55231\ttraining's QWK: 0.935574\tvalid_1's rmse: 0.86002\tvalid_1's QWK: 0.8552\n",
      "[10200]\ttraining's rmse: 0.550616\ttraining's QWK: 0.935961\tvalid_1's rmse: 0.859994\tvalid_1's QWK: 0.855592\n",
      "[10300]\ttraining's rmse: 0.548965\ttraining's QWK: 0.936321\tvalid_1's rmse: 0.859939\tvalid_1's QWK: 0.855543\n",
      "[10400]\ttraining's rmse: 0.547312\ttraining's QWK: 0.936727\tvalid_1's rmse: 0.859949\tvalid_1's QWK: 0.855665\n",
      "[10500]\ttraining's rmse: 0.545676\ttraining's QWK: 0.937138\tvalid_1's rmse: 0.859791\tvalid_1's QWK: 0.856008\n",
      "[10600]\ttraining's rmse: 0.544124\ttraining's QWK: 0.937499\tvalid_1's rmse: 0.859732\tvalid_1's QWK: 0.855787\n",
      "[10700]\ttraining's rmse: 0.542494\ttraining's QWK: 0.937859\tvalid_1's rmse: 0.859801\tvalid_1's QWK: 0.855836\n",
      "[10800]\ttraining's rmse: 0.540893\ttraining's QWK: 0.93822\tvalid_1's rmse: 0.859696\tvalid_1's QWK: 0.856032\n",
      "[10900]\ttraining's rmse: 0.539264\ttraining's QWK: 0.938613\tvalid_1's rmse: 0.859646\tvalid_1's QWK: 0.856032\n",
      "[11000]\ttraining's rmse: 0.537618\ttraining's QWK: 0.938983\tvalid_1's rmse: 0.859556\tvalid_1's QWK: 0.855689\n",
      "[11100]\ttraining's rmse: 0.536066\ttraining's QWK: 0.939355\tvalid_1's rmse: 0.859532\tvalid_1's QWK: 0.855493\n",
      "[11200]\ttraining's rmse: 0.534471\ttraining's QWK: 0.939734\tvalid_1's rmse: 0.859448\tvalid_1's QWK: 0.855592\n",
      "[11300]\ttraining's rmse: 0.53287\ttraining's QWK: 0.940092\tvalid_1's rmse: 0.859434\tvalid_1's QWK: 0.855812\n",
      "[11400]\ttraining's rmse: 0.531348\ttraining's QWK: 0.940421\tvalid_1's rmse: 0.85942\tvalid_1's QWK: 0.8563\n",
      "[11500]\ttraining's rmse: 0.529729\ttraining's QWK: 0.940793\tvalid_1's rmse: 0.859478\tvalid_1's QWK: 0.856668\n",
      "[11600]\ttraining's rmse: 0.5282\ttraining's QWK: 0.941147\tvalid_1's rmse: 0.859521\tvalid_1's QWK: 0.856888\n",
      "[11700]\ttraining's rmse: 0.526675\ttraining's QWK: 0.941532\tvalid_1's rmse: 0.859545\tvalid_1's QWK: 0.856986\n",
      "[11800]\ttraining's rmse: 0.525223\ttraining's QWK: 0.941841\tvalid_1's rmse: 0.859523\tvalid_1's QWK: 0.857403\n",
      "[11900]\ttraining's rmse: 0.523697\ttraining's QWK: 0.942169\tvalid_1's rmse: 0.859555\tvalid_1's QWK: 0.857647\n",
      "[12000]\ttraining's rmse: 0.522236\ttraining's QWK: 0.942523\tvalid_1's rmse: 0.859427\tvalid_1's QWK: 0.857647\n",
      "[12100]\ttraining's rmse: 0.52078\ttraining's QWK: 0.942818\tvalid_1's rmse: 0.859432\tvalid_1's QWK: 0.857697\n",
      "[12200]\ttraining's rmse: 0.519342\ttraining's QWK: 0.943158\tvalid_1's rmse: 0.859433\tvalid_1's QWK: 0.857427\n",
      "[12300]\ttraining's rmse: 0.517821\ttraining's QWK: 0.943478\tvalid_1's rmse: 0.859426\tvalid_1's QWK: 0.857599\n",
      "[12400]\ttraining's rmse: 0.516412\ttraining's QWK: 0.943834\tvalid_1's rmse: 0.859463\tvalid_1's QWK: 0.858138\n",
      "[12500]\ttraining's rmse: 0.515016\ttraining's QWK: 0.944125\tvalid_1's rmse: 0.859434\tvalid_1's QWK: 0.858039\n",
      "[12600]\ttraining's rmse: 0.513593\ttraining's QWK: 0.944445\tvalid_1's rmse: 0.859374\tvalid_1's QWK: 0.857917\n",
      "[12700]\ttraining's rmse: 0.512257\ttraining's QWK: 0.944757\tvalid_1's rmse: 0.859286\tvalid_1's QWK: 0.857794\n",
      "[12800]\ttraining's rmse: 0.51093\ttraining's QWK: 0.945028\tvalid_1's rmse: 0.859302\tvalid_1's QWK: 0.857818\n",
      "[12900]\ttraining's rmse: 0.509556\ttraining's QWK: 0.945293\tvalid_1's rmse: 0.859301\tvalid_1's QWK: 0.858186\n",
      "[13000]\ttraining's rmse: 0.508189\ttraining's QWK: 0.945557\tvalid_1's rmse: 0.859347\tvalid_1's QWK: 0.857696\n",
      "[13100]\ttraining's rmse: 0.506899\ttraining's QWK: 0.945884\tvalid_1's rmse: 0.859251\tvalid_1's QWK: 0.857671\n",
      "[13200]\ttraining's rmse: 0.505555\ttraining's QWK: 0.946187\tvalid_1's rmse: 0.859229\tvalid_1's QWK: 0.857671\n",
      "[13300]\ttraining's rmse: 0.504243\ttraining's QWK: 0.94648\tvalid_1's rmse: 0.85929\tvalid_1's QWK: 0.857843\n",
      "[13400]\ttraining's rmse: 0.502862\ttraining's QWK: 0.946786\tvalid_1's rmse: 0.859164\tvalid_1's QWK: 0.857622\n",
      "[13500]\ttraining's rmse: 0.501527\ttraining's QWK: 0.947076\tvalid_1's rmse: 0.859151\tvalid_1's QWK: 0.857671\n",
      "[13600]\ttraining's rmse: 0.500122\ttraining's QWK: 0.947378\tvalid_1's rmse: 0.858987\tvalid_1's QWK: 0.857647\n",
      "[13700]\ttraining's rmse: 0.498877\ttraining's QWK: 0.947622\tvalid_1's rmse: 0.858912\tvalid_1's QWK: 0.857524\n",
      "[13800]\ttraining's rmse: 0.497557\ttraining's QWK: 0.947907\tvalid_1's rmse: 0.858891\tvalid_1's QWK: 0.8575\n",
      "[13900]\ttraining's rmse: 0.496274\ttraining's QWK: 0.948169\tvalid_1's rmse: 0.858911\tvalid_1's QWK: 0.857353\n",
      "[14000]\ttraining's rmse: 0.495009\ttraining's QWK: 0.94843\tvalid_1's rmse: 0.858861\tvalid_1's QWK: 0.857451\n",
      "[14100]\ttraining's rmse: 0.493724\ttraining's QWK: 0.948688\tvalid_1's rmse: 0.858916\tvalid_1's QWK: 0.857475\n",
      "[14200]\ttraining's rmse: 0.492515\ttraining's QWK: 0.948934\tvalid_1's rmse: 0.858894\tvalid_1's QWK: 0.857475\n",
      "[14300]\ttraining's rmse: 0.491277\ttraining's QWK: 0.949213\tvalid_1's rmse: 0.858928\tvalid_1's QWK: 0.857353\n",
      "[14400]\ttraining's rmse: 0.490047\ttraining's QWK: 0.949486\tvalid_1's rmse: 0.858925\tvalid_1's QWK: 0.857426\n",
      "Early stopping, best iteration is:\n",
      "[12449]\ttraining's rmse: 0.51573\ttraining's QWK: 0.943992\tvalid_1's rmse: 0.859411\tvalid_1's QWK: 0.858284\n"
     ]
    }
   ],
   "source": [
    "model = lgb.train(\n",
    "    params=params,\n",
    "    num_boost_round=20000,\n",
    "    early_stopping_rounds=2000,\n",
    "    train_set=train_dataset,\n",
    "    valid_sets=[train_dataset, valid_dataset],\n",
    "    verbose_eval=100,\n",
    "    feval=QWK,\n",
    ")"
   ]
  },
  {
   "cell_type": "code",
   "execution_count": null,
   "metadata": {},
   "outputs": [],
   "source": []
  },
  {
   "cell_type": "code",
   "execution_count": 249,
   "metadata": {
    "_last_msg_id": "77609a7de92e4bc982031b801b700909"
   },
   "outputs": [],
   "source": [
    "val_preds0 = model.predict(val_data, num_iteration=model.best_iteration)"
   ]
  },
  {
   "cell_type": "code",
   "execution_count": 250,
   "metadata": {
    "_last_msg_id": "937eaed3ce784f02be2c1b2a4dfa04b5"
   },
   "outputs": [
    {
     "data": {
      "text/plain": [
       "0.8582839049683022"
      ]
     },
     "execution_count": 250,
     "metadata": {},
     "output_type": "execute_result"
    }
   ],
   "source": [
    "quadratic_weighted_kappa(np.rint(val_preds), val_target)"
   ]
  },
  {
   "cell_type": "code",
   "execution_count": null,
   "metadata": {},
   "outputs": [],
   "source": []
  },
  {
   "cell_type": "code",
   "execution_count": 10,
   "metadata": {
    "_last_msg_id": "7aeeaea693d34cdf99e2695dfd5a8cfd"
   },
   "outputs": [],
   "source": [
    "import xgboost as xgb"
   ]
  },
  {
   "cell_type": "code",
   "execution_count": 23,
   "metadata": {
    "_last_msg_id": "76c9bc9145a446d18890984b7f173e0f"
   },
   "outputs": [],
   "source": [
    "xg_model0 = xgb.XGBRegressor(objective='reg:squarederror', \n",
    "                             colsample_bytree=0.3, learning_rate=0.1, \n",
    "                             max_depth=6, alpha=10, n_estimators=300)"
   ]
  },
  {
   "cell_type": "code",
   "execution_count": 24,
   "metadata": {
    "_last_msg_id": "3fd650134c124a908a3951a3f7434ed8"
   },
   "outputs": [
    {
     "data": {
      "text/plain": [
       "XGBRegressor(alpha=10, base_score=0.5, booster=None, colsample_bylevel=1,\n",
       "             colsample_bynode=1, colsample_bytree=0.3, gamma=0, gpu_id=-1,\n",
       "             importance_type='gain', interaction_constraints=None,\n",
       "             learning_rate=0.2, max_delta_step=0, max_depth=6,\n",
       "             min_child_weight=1, missing=nan, monotone_constraints=None,\n",
       "             n_estimators=300, n_jobs=0, num_parallel_tree=1,\n",
       "             objective='reg:squarederror', random_state=0, reg_alpha=10,\n",
       "             reg_lambda=1, scale_pos_weight=1, subsample=1, tree_method=None,\n",
       "             validate_parameters=False, verbosity=None)"
      ]
     },
     "execution_count": 24,
     "metadata": {},
     "output_type": "execute_result"
    }
   ],
   "source": [
    "xg_model0.fit(train_data, train_target)"
   ]
  },
  {
   "cell_type": "code",
   "execution_count": 26,
   "metadata": {
    "_last_msg_id": "f95cfa3b64c44a5b8eb08a81a58919ac"
   },
   "outputs": [],
   "source": [
    "xg_val_preds0 = xg_model0.predict(val_data)"
   ]
  },
  {
   "cell_type": "code",
   "execution_count": 27,
   "metadata": {
    "_last_msg_id": "349cb21fd786472a885e0317777790ad"
   },
   "outputs": [
    {
     "data": {
      "text/plain": [
       "0.842433937385245"
      ]
     },
     "execution_count": 27,
     "metadata": {},
     "output_type": "execute_result"
    }
   ],
   "source": [
    "quadratic_weighted_kappa(np.rint(xg_val_preds0), val_target)"
   ]
  },
  {
   "cell_type": "code",
   "execution_count": null,
   "metadata": {},
   "outputs": [],
   "source": []
  },
  {
   "cell_type": "code",
   "execution_count": 286,
   "metadata": {
    "_last_msg_id": "930a974b5d5e4b0a9ed4bb4775d4fec1"
   },
   "outputs": [
    {
     "data": {
      "text/plain": [
       "0.8581618585211558"
      ]
     },
     "execution_count": 286,
     "metadata": {},
     "output_type": "execute_result"
    }
   ],
   "source": [
    "quadratic_weighted_kappa(np.rint(0.01*xg_val_preds0 + 0.99*val_preds0), val_target)"
   ]
  },
  {
   "cell_type": "code",
   "execution_count": 247,
   "metadata": {
    "_last_msg_id": "7f8b37378df041f782d0228b6c779070"
   },
   "outputs": [],
   "source": [
    "#torch.save(torch.from_numpy(train_data.mean(axis=0)), \"../../train_mean_512x8x8.pth\")"
   ]
  },
  {
   "cell_type": "code",
   "execution_count": 248,
   "metadata": {
    "_last_msg_id": "ef8cc882f8a945c49ebf1f031ef21d82"
   },
   "outputs": [],
   "source": [
    "#torch.save(torch.from_numpy(val_data.mean(axis=0)), \"../../val_mean_512x8x8.pth\")"
   ]
  },
  {
   "cell_type": "code",
   "execution_count": null,
   "metadata": {},
   "outputs": [],
   "source": []
  }
 ],
 "metadata": {
  "kernelspec": {
   "display_name": "Python 3",
   "language": "python",
   "name": "python3"
  },
  "language_info": {
   "codemirror_mode": {
    "name": "ipython",
    "version": 3
   },
   "file_extension": ".py",
   "mimetype": "text/x-python",
   "name": "python",
   "nbconvert_exporter": "python",
   "pygments_lexer": "ipython3",
   "version": "3.7.4"
  }
 },
 "nbformat": 4,
 "nbformat_minor": 2
}
