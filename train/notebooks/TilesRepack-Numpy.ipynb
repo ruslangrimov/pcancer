{
 "cells": [
  {
   "cell_type": "code",
   "execution_count": 3,
   "metadata": {
    "_last_msg_id": "39bb27c9e54d4e2286ed70e8ef0e390f"
   },
   "outputs": [],
   "source": [
    "import sys\n",
    "sys.path.append('../..')"
   ]
  },
  {
   "cell_type": "code",
   "execution_count": 4,
   "metadata": {
    "_last_msg_id": "f9a9b9610f5e4c498aca598e033351c4"
   },
   "outputs": [],
   "source": [
    "import cv2\n",
    "\n",
    "import os\n",
    "import psutil\n",
    "\n",
    "import random\n",
    "import math\n",
    "import copy\n",
    "from functools import partial\n",
    "from collections import Counter\n",
    "\n",
    "import torch \n",
    "from torch import optim\n",
    "from torch.optim import lr_scheduler\n",
    "from torch import nn\n",
    "from torch.nn import functional as F\n",
    "\n",
    "import multiprocessing.dummy as mp\n",
    "\n",
    "from pytorch_lightning import Trainer\n",
    "from pytorch_lightning.core import LightningModule\n",
    "from pytorch_lightning.callbacks import ModelCheckpoint\n",
    "from pytorch_lightning.loggers.tensorboard import TensorBoardLogger\n",
    "\n",
    "\n",
    "from lib.schedulers import DelayedScheduler\n",
    "from lib.datasets import (max_lbl_nums, actual_lbl_nums, \n",
    "                          patches_rgb_mean_av1, patches_rgb_std_av1, \n",
    "                          get_train_test_img_ids_split)\n",
    "from lib.dataloaders import PatchesDataset, WSIPatchesDatasetRaw, WSIPatchesDummyDataloader\n",
    "from lib.augmentations import augment_v1_clr_only, augment_empty_clr_only\n",
    "from lib.losses import SmoothLoss\n",
    "from lib.trainers import WSIModuleV1\n",
    "\n",
    "from lib.models.unetv1 import get_model\n",
    "from lib.models.features_map import FeaturesMap, TiledFeaturesMap\n",
    "from lib.models.wsi_resnets import Resnet_64x8x8\n",
    "\n",
    "from sklearn.metrics import cohen_kappa_score\n",
    "\n",
    "from tqdm.auto import tqdm\n",
    "\n",
    "import matplotlib.pyplot as plt"
   ]
  },
  {
   "cell_type": "code",
   "execution_count": 5,
   "metadata": {
    "_last_msg_id": "64cf2bfb480043658e5fb68f82072f23"
   },
   "outputs": [],
   "source": [
    "# import cv2\n",
    "import numpy as np\n",
    "# import pandas as pd\n",
    "# from lib.datasets import patches_csv_path, patches_path\n",
    "from lib.datasets import (patches_clean90_csv_path as patches_csv_path, patches_path,\n",
    "                          patches_clean90_pkl_path as patches_pkl_path)\n",
    "# from lib.dataloaders import imread, get_g_score_num, get_provider_num"
   ]
  },
  {
   "cell_type": "code",
   "execution_count": 6,
   "metadata": {
    "_last_msg_id": "5ebf8fa9f15041fc8f134799a88daae1"
   },
   "outputs": [
    {
     "data": {
      "text/plain": [
       "['e8baa3bb9dcfb9cef5ca599d62bb8046',\n",
       " '9b2948ff81b64677a1a152a1532c1a50',\n",
       " '5b003d43ec0ce5979062442486f84cf7',\n",
       " '375b2c9501320b35ceb638a3274812aa']"
      ]
     },
     "execution_count": 6,
     "metadata": {},
     "output_type": "execute_result"
    }
   ],
   "source": [
    "train_img_ids, test_img_ids = get_train_test_img_ids_split()\n",
    "\n",
    "test_img_ids[:4]"
   ]
  },
  {
   "cell_type": "code",
   "execution_count": 7,
   "metadata": {
    "_last_msg_id": "cc311de1a4844d3d8d89d8ac84c531f2"
   },
   "outputs": [],
   "source": [
    "from lib.dataloaders import WSIPatchesDataloader, WSIPatchesDatasetRaw\n",
    "from lib.utils import get_pretrained_model, get_features"
   ]
  },
  {
   "cell_type": "code",
   "execution_count": 8,
   "metadata": {
    "_last_msg_id": "37f6dfa61e484106b079ca1c406dc930"
   },
   "outputs": [],
   "source": [
    "batch_size = 16"
   ]
  },
  {
   "cell_type": "code",
   "execution_count": 9,
   "metadata": {
    "_last_msg_id": "b2f12b4430d24f31ac60a54ef1b4a0d5"
   },
   "outputs": [],
   "source": [
    "#train_batch_path = '/mnt/HDDData/pdata/processed/pretrained_64x8x8/train/{}/'\n",
    "#test_batch_path = '/mnt/HDDData/pdata/processed/pretrained_64x8x8/val/'\n",
    "\n",
    "train_batch_path = '/mnt/SSDData/pdata/processed/pretrained_64x8x8/train/{}/'\n",
    "test_batch_path = '/mnt/SSDData/pdata/processed/pretrained_64x8x8/val/'\n",
    "\n",
    "train_loader = WSIPatchesDummyDataloader(train_batch_path, precalc_epochs=6, batch_size=batch_size, shuffle=True)\n",
    "val_loader = WSIPatchesDummyDataloader(test_batch_path, precalc_epochs=6, batch_size=batch_size, shuffle=False)"
   ]
  },
  {
   "cell_type": "code",
   "execution_count": 10,
   "metadata": {
    "_last_msg_id": "0bdf0482b3a44d908931e82feeb64c69"
   },
   "outputs": [],
   "source": [
    "batch = next(iter(train_loader))"
   ]
  },
  {
   "cell_type": "code",
   "execution_count": 11,
   "metadata": {
    "_last_msg_id": "3d7478ae257d4d8a9f6c2bf73f12ea47"
   },
   "outputs": [],
   "source": [
    "features, ys, xs, provider, isup_grade, gleason_score = batch"
   ]
  },
  {
   "cell_type": "code",
   "execution_count": 21,
   "metadata": {
    "_last_msg_id": "c199f3b9ade445eb804005e3e41db231"
   },
   "outputs": [
    {
     "data": {
      "text/plain": [
       "torch.Size([16, 300, 64, 8, 8])"
      ]
     },
     "execution_count": 21,
     "metadata": {},
     "output_type": "execute_result"
    }
   ],
   "source": [
    "features.shape"
   ]
  },
  {
   "cell_type": "code",
   "execution_count": 19,
   "metadata": {
    "_last_msg_id": "8c29171e6e0243368a4b0e8699c74c77"
   },
   "outputs": [],
   "source": [
    "features2 = F.avg_pool2d(features.view(-1, 64, 8, 8), 4).view(features.shape[:3] + (2, 2))"
   ]
  },
  {
   "cell_type": "code",
   "execution_count": 20,
   "metadata": {
    "_last_msg_id": "959bda6e850c455a8fd2b875d7ba5636"
   },
   "outputs": [
    {
     "data": {
      "text/plain": [
       "torch.Size([16, 300, 64, 2, 2])"
      ]
     },
     "execution_count": 20,
     "metadata": {},
     "output_type": "execute_result"
    }
   ],
   "source": [
    "features2.shape"
   ]
  },
  {
   "cell_type": "code",
   "execution_count": null,
   "metadata": {},
   "outputs": [],
   "source": []
  },
  {
   "cell_type": "code",
   "execution_count": null,
   "metadata": {
    "_last_msg_id": "c8015b72b9a94a61815088760ce9101f"
   },
   "outputs": [],
   "source": []
  },
  {
   "cell_type": "code",
   "execution_count": 64,
   "metadata": {
    "_last_msg_id": "74226b0ab40c4e1280610f03e1391d86"
   },
   "outputs": [],
   "source": [
    "from lib.models.features_map import RearrangedFeaturesMap\n",
    "rf_map = RearrangedFeaturesMap(f_channels=64, f_size=8)"
   ]
  },
  {
   "cell_type": "code",
   "execution_count": 16,
   "metadata": {
    "_last_msg_id": "3cc56e69b8e949738ed8372d51a01bdc"
   },
   "outputs": [],
   "source": [
    "b = -1"
   ]
  },
  {
   "cell_type": "code",
   "execution_count": 65,
   "metadata": {
    "_last_msg_id": "0a972f4040284b839fb39fe06862a818"
   },
   "outputs": [],
   "source": [
    "t_imgs, t_d8imgs = rf_map(features, ys, xs)"
   ]
  },
  {
   "cell_type": "code",
   "execution_count": 13,
   "metadata": {
    "_last_msg_id": "f4b9e28838f748668e78ddbc8cc5f7cf"
   },
   "outputs": [
    {
     "data": {
      "text/plain": [
       "torch.Size([16, 64, 160, 160])"
      ]
     },
     "execution_count": 13,
     "metadata": {},
     "output_type": "execute_result"
    }
   ],
   "source": [
    "t_d8imgs.shape"
   ]
  },
  {
   "cell_type": "code",
   "execution_count": 71,
   "metadata": {
    "_last_msg_id": "7b5f3014541b427c8e1103f44376913c"
   },
   "outputs": [],
   "source": [
    "b += 1"
   ]
  },
  {
   "cell_type": "code",
   "execution_count": 72,
   "metadata": {
    "_last_msg_id": "dc1f915b844245e79ecc6d60cf367ac8"
   },
   "outputs": [
    {
     "data": {
      "image/png": "[encoded data removed]",
      "text/plain": [
       "<Figure size 864x864 with 1 Axes>"
      ]
     },
     "metadata": {
      "needs_background": "light"
     },
     "output_type": "display_data"
    }
   ],
   "source": [
    "plt.figure(figsize=(12, 12))\n",
    "plt.imshow(t_d8imgs[b, 0]);"
   ]
  },
  {
   "cell_type": "code",
   "execution_count": 73,
   "metadata": {
    "_last_msg_id": "6d5714a50a4743abb3e345022141a05a"
   },
   "outputs": [
    {
     "data": {
      "image/png": "[encoded data removed]",
      "text/plain": [
       "<Figure size 432x288 with 1 Axes>"
      ]
     },
     "metadata": {
      "needs_background": "light"
     },
     "output_type": "display_data"
    }
   ],
   "source": [
    "plt.imshow(t_imgs[b][..., 2], cmap='jet');"
   ]
  },
  {
   "cell_type": "code",
   "execution_count": null,
   "metadata": {
    "_last_msg_id": "b12a1916ec29418f803d6cd11b1c75b8"
   },
   "outputs": [],
   "source": [
    "18*18"
   ]
  },
  {
   "cell_type": "code",
   "execution_count": null,
   "metadata": {},
   "outputs": [],
   "source": []
  },
  {
   "cell_type": "code",
   "execution_count": 11,
   "metadata": {
    "_last_msg_id": "e6c1f42e0dbe41d08f68240345c035ac"
   },
   "outputs": [],
   "source": [
    "def d8_transform(m, d8):\n",
    "    if d8 & 0b001:\n",
    "        m = m.transpose(1, 0, 2)\n",
    "    if d8 & 0b010:\n",
    "        m = m[:, ::-1]        \n",
    "    if d8 & 0b100:\n",
    "        m = m[::-1, :]  \n",
    "        \n",
    "    return m\n",
    "\n",
    "def get_fg_score(img, p=2):        \n",
    "    return (np.unique(img[..., 2], return_counts=True)[1][1:]**p).sum()\n",
    "\n",
    "def get_bg_score(img, p=2):\n",
    "    tmp = (img[..., 0] == -1).astype(np.uint8)\n",
    "    dist_sum = (cv2.distanceTransform(tmp, cv2.DIST_L1, 5)**p).sum()\n",
    "    return dist_sum"
   ]
  },
  {
   "cell_type": "code",
   "execution_count": 12,
   "metadata": {
    "_last_msg_id": "69c5abff48cf4783aee0c62c141e77af"
   },
   "outputs": [],
   "source": [
    "m = np.arange(4).reshape((2, 2, 1))\n",
    "\n",
    "m2d8 = {}\n",
    "d82m = {}\n",
    "for i in range(8):\n",
    "    m_ = d8_transform(m.copy(), i)\n",
    "    m_ = ''.join([str(s) for s in m_.ravel().tolist()])\n",
    "    m2d8[m_] = i\n",
    "    d82m[i] = m_\n",
    "    \n",
    "d8pd8 = np.zeros((8, 8), dtype=np.uint8)\n",
    "for i in range(8):\n",
    "    for j in range(8):\n",
    "        mi = d8_transform(m.copy(), i)\n",
    "        mj = d8_transform(mi.copy(), j)\n",
    "        mj = ''.join([str(s) for s in mj.ravel().tolist()])\n",
    "        d8pd8[i, j] = m2d8[mj]"
   ]
  },
  {
   "cell_type": "code",
   "execution_count": 13,
   "metadata": {
    "_last_msg_id": "c5c22634182e43a38181ba26a68da8f7"
   },
   "outputs": [],
   "source": [
    "# d8pd8"
   ]
  },
  {
   "cell_type": "code",
   "execution_count": 14,
   "metadata": {
    "_last_msg_id": "520157f2df274a738ed277aca0e9be71"
   },
   "outputs": [],
   "source": [
    "# d8_rev = d8pd8.argmin(axis=-1)"
   ]
  },
  {
   "cell_type": "code",
   "execution_count": 15,
   "metadata": {
    "_last_msg_id": "e5fa798d1f57458c8711a2498a630fbb"
   },
   "outputs": [],
   "source": [
    "d8_rev = [0, 1, 2, 5, 4, 3, 6, 7]"
   ]
  },
  {
   "cell_type": "code",
   "execution_count": null,
   "metadata": {
    "_last_msg_id": "f9ef8f6117bc40b2a9d7eb586bf9ce20"
   },
   "outputs": [],
   "source": []
  },
  {
   "cell_type": "code",
   "execution_count": 24,
   "metadata": {
    "_last_msg_id": "b2526bbb481842818dea21a86cd2ee8b"
   },
   "outputs": [],
   "source": [
    "t_h, t_w = 20, 20\n",
    "m_pad = t_h"
   ]
  },
  {
   "cell_type": "code",
   "execution_count": null,
   "metadata": {},
   "outputs": [],
   "source": []
  },
  {
   "cell_type": "code",
   "execution_count": 25,
   "metadata": {
    "_last_msg_id": "085e9e9cc8e7439b8fa6cd9b8cd8d197"
   },
   "outputs": [],
   "source": [
    "b = -1"
   ]
  },
  {
   "cell_type": "code",
   "execution_count": 26,
   "metadata": {
    "_last_msg_id": "0d40a0033a354049952540c662aa21f2"
   },
   "outputs": [],
   "source": [
    "b += 1\n",
    "\n",
    "r_mask = ys[b] > - 1\n",
    "\n",
    "y_min, x_min = ys[b, r_mask].min(), xs[b, r_mask].min()\n",
    "y_max, x_max = ys[b, r_mask].max(), xs[b, r_mask].max()\n",
    "\n",
    "s_h = y_max - y_min + 1\n",
    "s_w = x_max - x_min + 1\n",
    "\n",
    "n_ys = (ys[b, r_mask]-y_min)\n",
    "n_xs = (xs[b, r_mask]-x_min)"
   ]
  },
  {
   "cell_type": "code",
   "execution_count": 27,
   "metadata": {
    "_last_msg_id": "925c7f7ab8944779bc9ad219ec1f97d1"
   },
   "outputs": [],
   "source": [
    "n0, n1 = 1, 200"
   ]
  },
  {
   "cell_type": "code",
   "execution_count": 28,
   "metadata": {
    "_last_msg_id": "f33785adf47148608232e476c30e5010"
   },
   "outputs": [
    {
     "name": "stdout",
     "output_type": "stream",
     "text": [
      "CPU times: user 50.1 ms, sys: 307 µs, total: 50.4 ms\n",
      "Wall time: 49.7 ms\n"
     ]
    }
   ],
   "source": [
    "%%time\n",
    "\n",
    "o_t_img = np.full((t_h, t_w, 4), -1, dtype=np.int16)\n",
    "\n",
    "o_s_img = np.zeros((s_h, s_w), dtype=np.uint8)\n",
    "o_s_img[n_ys, n_xs] = 1\n",
    "\n",
    "mask = np.ones((s_h+2*m_pad, s_w+2*m_pad), dtype=np.uint8)\n",
    "\n",
    "def r(a, b):\n",
    "    return random.random() * (b - a) + a \n",
    "\n",
    "o_best = None\n",
    "o_best_score = -99999999\n",
    "for _ in range(n0):\n",
    "    p0, p1, p2 = 1.4, 1, 1\n",
    "    a0, a1, a2 = 1, 0.1, 1000\n",
    "\n",
    "    s_img, t_img = o_s_img.copy(), o_t_img.copy()\n",
    "    \n",
    "    n = 0\n",
    "    while s_img.max() != 0:\n",
    "        best_step = None\n",
    "        best_score = -99999999  \n",
    "\n",
    "        s_fg_ys, s_fg_xs = np.where(s_img != 0)\n",
    "        \n",
    "        for a in range(n1):\n",
    "            c_s_img, c_t_img = s_img.copy(), t_img.copy()\n",
    "\n",
    "            d8 = random.randint(0, 7)\n",
    "            # d8 = random.choice([0, 3, 5, 6])  # only rotation\n",
    "            c_t_img = d8_transform(c_t_img, d8)\n",
    "\n",
    "            t_empty_mask = c_t_img[..., 0] == -1\n",
    "            t_empty_ys, t_empty_xs = np.where(t_empty_mask)\n",
    "\n",
    "            r = random.randint(0, len(t_empty_ys)-1)\n",
    "            t_y, t_x = t_empty_ys[r], t_empty_xs[r]\n",
    "\n",
    "            r = random.randint(0, len(s_fg_ys)-1)\n",
    "            s_y, s_x = s_fg_ys[r], s_fg_xs[r]\n",
    "\n",
    "            mask.fill(1)\n",
    "\n",
    "            m_y = s_y+m_pad-t_y\n",
    "            m_x = s_x+m_pad-t_x\n",
    "\n",
    "            mask[m_y:m_y+t_h, m_x:m_x+t_w] = ~t_empty_mask\n",
    "\n",
    "            fimg = cv2.floodFill(c_s_img, mask[m_pad-1:-m_pad+1, m_pad-1:-m_pad+1], \n",
    "                                 (s_x, s_y), 2, flags=8)\n",
    "\n",
    "            if fimg[0] > 0:\n",
    "                blob_yxs = np.where(fimg[1] == 2)\n",
    "                c_t_img[blob_yxs[0]-s_y+t_y, blob_yxs[1]-s_x+t_x] =\\\n",
    "                        np.stack(blob_yxs + (np.full_like(blob_yxs[0], n+1), \n",
    "                                             np.full_like(blob_yxs[0], d8)), axis=-1)\n",
    "\n",
    "                c_s_img[c_s_img == 2] = 0\n",
    "            else:\n",
    "                print(\"WTF?\")\n",
    "\n",
    "            c_t_img = d8_transform(c_t_img, d8_rev[d8])\n",
    "\n",
    "            score = (a0 * get_fg_score(c_t_img, p0) + \n",
    "                     a1 * get_bg_score(c_t_img, p1)**0.5 +\n",
    "                     a2 * -(cv2.connectedComponents(c_s_img, connectivity=4)[0])**p2)\n",
    "            # print(get_fg_score(c_t_img, 1), get_bg_score(c_t_img, 1)**0.5)\n",
    "\n",
    "            if score > best_score:\n",
    "                best_state = c_s_img, c_t_img\n",
    "                best_score = score\n",
    "\n",
    "        s_img, t_img = best_state\n",
    "        n += 1\n",
    "        \n",
    "        # break\n",
    "        \n",
    "    if best_score > o_best_score:\n",
    "        s_img, t_img = best_state    "
   ]
  },
  {
   "cell_type": "code",
   "execution_count": 29,
   "metadata": {
    "_last_msg_id": "2a198600a36849f28a883ab09c11156f"
   },
   "outputs": [],
   "source": [
    "s_img, t_img = best_state"
   ]
  },
  {
   "cell_type": "code",
   "execution_count": 31,
   "metadata": {
    "_last_msg_id": "4a74936c8b874f63965288df9be59c48"
   },
   "outputs": [
    {
     "data": {
      "text/plain": [
       "620.2268095202504"
      ]
     },
     "execution_count": 31,
     "metadata": {},
     "output_type": "execute_result"
    }
   ],
   "source": [
    "get_fg_score(t_img, 1.4)"
   ]
  },
  {
   "cell_type": "code",
   "execution_count": 32,
   "metadata": {
    "_last_msg_id": "f7cd157ca7ec42769589fc4068e04f1e"
   },
   "outputs": [
    {
     "data": {
      "image/png": "[encoded data removed]",
      "text/plain": [
       "<Figure size 432x288 with 1 Axes>"
      ]
     },
     "metadata": {
      "needs_background": "light"
     },
     "output_type": "display_data"
    }
   ],
   "source": [
    "plt.imshow(t_img[..., 2], cmap='jet');"
   ]
  },
  {
   "cell_type": "code",
   "execution_count": 33,
   "metadata": {
    "_last_msg_id": "03c87b7356894c59a8217f80ac6183f3"
   },
   "outputs": [],
   "source": [
    "r_s_img = np.full_like(s_img, -1, dtype=np.int16)\n",
    "for i in range(1, t_img[..., 2].max()+1):\n",
    "    s_yxs = t_img[t_img[..., 2] == i, :2]\n",
    "    r_s_img[s_yxs[:, 0], s_yxs[:, 1]] = i"
   ]
  },
  {
   "cell_type": "code",
   "execution_count": 34,
   "metadata": {
    "_last_msg_id": "8ddb60d18580438f837e9d9a17875e76"
   },
   "outputs": [
    {
     "data": {
      "image/png": "[encoded data removed]",
      "text/plain": [
       "<Figure size 432x288 with 1 Axes>"
      ]
     },
     "metadata": {
      "needs_background": "light"
     },
     "output_type": "display_data"
    }
   ],
   "source": [
    "plt.imshow(r_s_img, cmap='jet');"
   ]
  },
  {
   "cell_type": "code",
   "execution_count": null,
   "metadata": {},
   "outputs": [],
   "source": []
  },
  {
   "cell_type": "code",
   "execution_count": 35,
   "metadata": {
    "_last_msg_id": "2168ea83884c4eae8723e38c6a8e8e34"
   },
   "outputs": [],
   "source": [
    "def torch_d8_transform(m, d8):\n",
    "    if d8 & 0b001:\n",
    "        m = m.transpose(-2, -1)\n",
    "    if d8 & 0b010:\n",
    "        m = torch.flip(m, [-1])        \n",
    "    if d8 & 0b100:\n",
    "        m = torch.flip(m, [-2])  \n",
    "        \n",
    "    return m"
   ]
  },
  {
   "cell_type": "code",
   "execution_count": 36,
   "metadata": {
    "_last_msg_id": "788f5fec4b05451e9ff7aaa7b42bab39"
   },
   "outputs": [
    {
     "name": "stdout",
     "output_type": "stream",
     "text": [
      "5 5 3\n",
      "0 0 0\n"
     ]
    }
   ],
   "source": [
    "f_size = 8\n",
    "f_channels = 64\n",
    "t_d8img = torch.zeros((f_channels, t_h*f_size, t_w*f_size), dtype=features.dtype, \n",
    "                      device=features.device)\n",
    "d8 = 0\n",
    "for i in range(1, t_img[..., 2].max()+1):\n",
    "    t_i = t_img[..., 2] == i\n",
    "    t_ys, t_xs = np.where(t_i)\n",
    "    s_yxs = t_img[t_i, :2]\n",
    "    d8_ = t_img[t_i, -1][0]\n",
    "    d8 = d8_\n",
    "    # d8 = d8pd8[d8, d8_]\n",
    "    d8_r = d8_rev[d8]\n",
    "    \n",
    "    for n in range(len(s_yxs)):\n",
    "        f_idx = ((ys[b]-y_min) == s_yxs[n, 0]) & ((xs[b]-x_min) == s_yxs[n, 1])\n",
    "        f = features[b, f_idx][0]\n",
    "        f = torch_d8_transform(f, d8_r)\n",
    "        t_d8img[:, t_ys[n]*f_size:(t_ys[n]+1)*f_size, \n",
    "                t_xs[n]*f_size:(t_xs[n]+1)*f_size] = f\n",
    "    \n",
    "    print(d8_, d8, d8_r)\n",
    "    \n",
    "    # break\n",
    "    #if i == 2:\n",
    "    #    break"
   ]
  },
  {
   "cell_type": "code",
   "execution_count": 37,
   "metadata": {
    "_last_msg_id": "6a6c2e49d042431f820285903e1063b2"
   },
   "outputs": [
    {
     "data": {
      "text/plain": [
       "torch.Size([64, 160, 160])"
      ]
     },
     "execution_count": 37,
     "metadata": {},
     "output_type": "execute_result"
    }
   ],
   "source": [
    "t_d8img.shape"
   ]
  },
  {
   "cell_type": "code",
   "execution_count": 38,
   "metadata": {
    "_last_msg_id": "03793610111f4a08bffde04e291eb36d"
   },
   "outputs": [
    {
     "data": {
      "image/png": "[encoded data removed]",
      "text/plain": [
       "<Figure size 864x864 with 1 Axes>"
      ]
     },
     "metadata": {
      "needs_background": "light"
     },
     "output_type": "display_data"
    }
   ],
   "source": [
    "plt.figure(figsize=(12, 12))\n",
    "plt.imshow(t_d8img[0]);"
   ]
  },
  {
   "cell_type": "code",
   "execution_count": null,
   "metadata": {},
   "outputs": [],
   "source": []
  },
  {
   "cell_type": "code",
   "execution_count": null,
   "metadata": {},
   "outputs": [],
   "source": []
  },
  {
   "cell_type": "code",
   "execution_count": null,
   "metadata": {},
   "outputs": [],
   "source": []
  }
 ],
 "metadata": {
  "kernelspec": {
   "display_name": "Python 3",
   "language": "python",
   "name": "python3"
  },
  "language_info": {
   "codemirror_mode": {
    "name": "ipython",
    "version": 3
   },
   "file_extension": ".py",
   "mimetype": "text/x-python",
   "name": "python",
   "nbconvert_exporter": "python",
   "pygments_lexer": "ipython3",
   "version": "3.7.4"
  }
 },
 "nbformat": 4,
 "nbformat_minor": 2
}
