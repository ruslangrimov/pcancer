{
 "cells": [
  {
   "cell_type": "code",
   "execution_count": 1,
   "metadata": {
    "_last_msg_id": "a5df4026b88e42d5a863a716942fbaa2"
   },
   "outputs": [],
   "source": [
    "import sys\n",
    "sys.path.append('../..')"
   ]
  },
  {
   "cell_type": "code",
   "execution_count": 2,
   "metadata": {
    "_last_msg_id": "e0faf522c6c942f7869b537a5a59d42e"
   },
   "outputs": [],
   "source": [
    "import os\n",
    "import psutil\n",
    "\n",
    "import random\n",
    "import math\n",
    "from functools import partial\n",
    "\n",
    "import torch \n",
    "from torch import optim\n",
    "from torch.optim import lr_scheduler\n",
    "from torch import nn\n",
    "from torch.nn import functional as F\n",
    "\n",
    "import multiprocessing.dummy as mp\n",
    "\n",
    "from pytorch_lightning import Trainer\n",
    "from pytorch_lightning.core import LightningModule\n",
    "from pytorch_lightning.callbacks import ModelCheckpoint\n",
    "from pytorch_lightning.loggers.tensorboard import TensorBoardLogger\n",
    "\n",
    "\n",
    "from lib.schedulers import DelayedScheduler\n",
    "from lib.datasets import (max_lbl_nums, actual_lbl_nums, \n",
    "                          patches_rgb_mean_av1, patches_rgb_std_av1, \n",
    "                          get_train_test_img_ids_split)\n",
    "from lib.dataloaders import PatchesDataset, WSIPatchesDatasetRaw, WSIPatchesDummyDataloader\n",
    "from lib.augmentations import augment_v1_clr_only, augment_empty_clr_only\n",
    "from lib.losses import SmoothLoss\n",
    "from lib.trainers import WSIModuleV1\n",
    "\n",
    "from lib.models.unetv1 import get_model\n",
    "from lib.models.features_map import FeaturesMap, TiledFeaturesMap, RearrangedFeaturesMap\n",
    "from lib.models.wsi_resnets import ResnetTiled_64x8x8, Resnet_64x8x8\n",
    "\n",
    "from sklearn.metrics import cohen_kappa_score\n",
    "\n",
    "from tqdm.auto import tqdm\n",
    "\n",
    "import matplotlib.pyplot as plt"
   ]
  },
  {
   "cell_type": "code",
   "execution_count": 3,
   "metadata": {
    "_last_msg_id": "c2d12e74ca7c4a44a9c9558412bb09a4"
   },
   "outputs": [],
   "source": [
    "# import cv2\n",
    "import numpy as np\n",
    "# import pandas as pd\n",
    "# from lib.datasets import patches_csv_path, patches_path\n",
    "from lib.datasets import (patches_clean90_csv_path as patches_csv_path, patches_path,\n",
    "                          patches_clean90_pkl_path as patches_pkl_path)\n",
    "# from lib.dataloaders import imread, get_g_score_num, get_provider_num"
   ]
  },
  {
   "cell_type": "code",
   "execution_count": 4,
   "metadata": {
    "_last_msg_id": "9c3cca4a6b4e490bb22f07e5221641d8"
   },
   "outputs": [
    {
     "data": {
      "text/plain": [
       "['e8baa3bb9dcfb9cef5ca599d62bb8046',\n",
       " '9b2948ff81b64677a1a152a1532c1a50',\n",
       " '5b003d43ec0ce5979062442486f84cf7',\n",
       " '375b2c9501320b35ceb638a3274812aa']"
      ]
     },
     "execution_count": 4,
     "metadata": {},
     "output_type": "execute_result"
    }
   ],
   "source": [
    "train_img_ids, test_img_ids = get_train_test_img_ids_split()\n",
    "\n",
    "test_img_ids[:4]"
   ]
  },
  {
   "cell_type": "code",
   "execution_count": 5,
   "metadata": {
    "_last_msg_id": "f79e5352bdb74cf08599852951bfbc44"
   },
   "outputs": [],
   "source": [
    "from lib.dataloaders import WSIPatchesDataloader, WSIPatchesDatasetRaw\n",
    "from lib.utils import get_pretrained_model, get_features"
   ]
  },
  {
   "cell_type": "code",
   "execution_count": 6,
   "metadata": {
    "_last_msg_id": "a527aa9e150145c18162f3b8c68685c4"
   },
   "outputs": [],
   "source": [
    "batch_size = 64"
   ]
  },
  {
   "cell_type": "code",
   "execution_count": 7,
   "metadata": {
    "_last_msg_id": "d2cde02df978432ab81878247b8c9ff7"
   },
   "outputs": [],
   "source": [
    "#train_batch_path = '/mnt/HDDData/pdata/processed/pretrained_64x8x8/train/{}/'\n",
    "#test_batch_path = '/mnt/HDDData/pdata/processed/pretrained_64x8x8/val/'\n",
    "\n",
    "train_batch_path = '/mnt/SSDData/pdata/processed/pretrained_64x8x8/train/{}/'\n",
    "test_batch_path = '/mnt/SSDData/pdata/processed/pretrained_64x8x8/val/'\n",
    "\n",
    "train_loader = WSIPatchesDummyDataloader(train_batch_path, precalc_epochs=11, batch_size=batch_size, shuffle=True)\n",
    "val_loader = WSIPatchesDummyDataloader(test_batch_path, precalc_epochs=11, batch_size=batch_size, shuffle=False)"
   ]
  },
  {
   "cell_type": "code",
   "execution_count": 8,
   "metadata": {
    "_last_msg_id": "a65f435365a64e8fa732526f625700ab"
   },
   "outputs": [],
   "source": [
    "steps_in_epoh = 1\n",
    "\n",
    "epochs = 90\n",
    "\n",
    "warmup_epochs = 0\n",
    "warmup_steps = 0\n",
    "\n",
    "hparams = {\n",
    "    'batch_size': batch_size,\n",
    "    'learning_rate': 0.001 * 64 / 256,\n",
    "    'dataset': {\n",
    "        'dataloader': 'dummy',\n",
    "        'rgb_mean': patches_rgb_mean_av1,\n",
    "        'rgb_std': patches_rgb_std_av1,\n",
    "        'classes': max_lbl_nums,\n",
    "        'precalc_epochs': 50,\n",
    "        'train_test_split': {},\n",
    "    },\n",
    "    'optimizer': {\n",
    "        'name': 'torch.optim.Adam',\n",
    "        'params': {\n",
    "            'weight_decay': 1e-4\n",
    "        }\n",
    "    },\n",
    "    'scheduler': {\n",
    "        'name': 'lib.schedulers.ExponentialLRWithMin',\n",
    "        'params': {\n",
    "            'gamma': 0.92,\n",
    "            'eta_min': 1.25e-5\n",
    "        },\n",
    "        'interval': 'epoch'\n",
    "    },\n",
    "    'loss': {\n",
    "        'weights': {\n",
    "            'reg': 1 / 2,\n",
    "            'class': 9 / 2\n",
    "        },\n",
    "        'label_smoothing': 0.1\n",
    "    },\n",
    "    'warmup_steps': warmup_steps,\n",
    "    'steps_in_epoh': steps_in_epoh,\n",
    "    'epochs': epochs\n",
    "}"
   ]
  },
  {
   "cell_type": "code",
   "execution_count": 9,
   "metadata": {
    "_last_msg_id": "217fbae6c39d424faf0ad7aba417d33d"
   },
   "outputs": [],
   "source": [
    "steps_in_epoh = len(train_loader)"
   ]
  },
  {
   "cell_type": "code",
   "execution_count": 10,
   "metadata": {
    "_last_msg_id": "fb76713fbda245748a04a41e4bf3fe96"
   },
   "outputs": [
    {
     "data": {
      "text/plain": [
       "132"
      ]
     },
     "execution_count": 10,
     "metadata": {},
     "output_type": "execute_result"
    }
   ],
   "source": [
    "steps_in_epoh"
   ]
  },
  {
   "cell_type": "code",
   "execution_count": 11,
   "metadata": {
    "_last_msg_id": "adadc5f5cc954d548e88b5c9f207ff94"
   },
   "outputs": [],
   "source": [
    "hparams['steps_in_batch'] = steps_in_epoh\n",
    "if 'T_max' in hparams['scheduler']['params']:\n",
    "    hparams['scheduler']['params']['T_max'] = (epochs * steps_in_epoh -\n",
    "                                               warmup_steps)"
   ]
  },
  {
   "cell_type": "code",
   "execution_count": 12,
   "metadata": {
    "_last_msg_id": "3531f9c8a1ef40dd98d00281dd34c5ec"
   },
   "outputs": [],
   "source": [
    "from lib.models.tresnet_models.tresnet.tresnet import TResNet, TResnetM"
   ]
  },
  {
   "cell_type": "code",
   "execution_count": 13,
   "metadata": {
    "_last_msg_id": "7b4ec73be3fd4a7399451ee3c34c07ef"
   },
   "outputs": [],
   "source": [
    "#backbone = TResnetM({'num_classes': 10, 'remove_aa_jit': False})"
   ]
  },
  {
   "cell_type": "code",
   "execution_count": 14,
   "metadata": {
    "_last_msg_id": "db441cf5db434eae9e5f84ad69caf0f2"
   },
   "outputs": [],
   "source": [
    "#device = 'cuda:1'"
   ]
  },
  {
   "cell_type": "code",
   "execution_count": 15,
   "metadata": {
    "_last_msg_id": "45d4764122934d958e72817d4356b04b"
   },
   "outputs": [],
   "source": [
    "#backbone.to(device);"
   ]
  },
  {
   "cell_type": "code",
   "execution_count": 16,
   "metadata": {
    "_last_msg_id": "8fafb41170b14e7ba48777e3113f5358"
   },
   "outputs": [],
   "source": [
    "#sum([p.data.numel() for p in model.backbone.parameters()])"
   ]
  },
  {
   "cell_type": "code",
   "execution_count": 17,
   "metadata": {
    "_last_msg_id": "9676a7d7ef4f47c49a7d9ea771c303b3"
   },
   "outputs": [],
   "source": [
    "from torchvision import models"
   ]
  },
  {
   "cell_type": "code",
   "execution_count": 18,
   "metadata": {
    "_last_msg_id": "43dc2be18ac04e8c91ffa559d485e3d4"
   },
   "outputs": [],
   "source": [
    "from inplace_abn import ABN, InPlaceABN"
   ]
  },
  {
   "cell_type": "code",
   "execution_count": 19,
   "metadata": {
    "_last_msg_id": "7e20378c41434a20800e1ea34118e0df"
   },
   "outputs": [],
   "source": [
    "from lib.models.abn_models.models import net_resnet18"
   ]
  },
  {
   "cell_type": "code",
   "execution_count": 20,
   "metadata": {
    "_last_msg_id": "ef762e5302c240e5a90ee16913584789"
   },
   "outputs": [],
   "source": [
    "class RearrangedResnet_64x8x8(nn.Module):\n",
    "    def __init__(self, backbone, backbone_features, classes, features_do, h=20, w=20):\n",
    "        super().__init__()\n",
    "\n",
    "        self.rf_map = RearrangedFeaturesMap(False, 64, f_size=8, h=h, w=w)\n",
    "\n",
    "        # self.backbone = net_resnet18(classes=512) \n",
    "        # self.backbone.mod1 = nn.Sequential()\n",
    "        self.backbone = getattr(models, backbone)(pretrained=False)\n",
    "        self.backbone.conv1 = nn.Sequential(\n",
    "            # nn.Dropout2d(features_do) if features_do > 0 else nn.Identity(),\n",
    "            nn.BatchNorm2d(64),\n",
    "            nn.Conv2d(64, 64, 1),\n",
    "            nn.BatchNorm2d(64),\n",
    "            nn.ReLU(inplace=True),\n",
    "            nn.Conv2d(64, 64, 1),\n",
    "            nn.BatchNorm2d(64),\n",
    "            nn.ReLU(inplace=True),\n",
    "            nn.Conv2d(64, 64, 1),\n",
    "        )\n",
    "\n",
    "        self.backbone.fc = nn.Linear(backbone_features, 512)\n",
    "        self.backbone.maxpool = nn.Identity()\n",
    "\n",
    "        self.reg_linear = nn.Linear(512, 1)\n",
    "        self.class_linear = nn.Linear(512, classes)\n",
    "\n",
    "    def forward(self, features, ys, xs):\n",
    "        f_map = self.rf_map(features, ys, xs)\n",
    "        x = self.backbone(f_map)\n",
    "        return self.reg_linear(x), self.class_linear(x)"
   ]
  },
  {
   "cell_type": "code",
   "execution_count": 40,
   "metadata": {
    "_last_msg_id": "deefe03907a9480fa62f1f6458b5550f"
   },
   "outputs": [],
   "source": [
    "model = RearrangedResnet_64x8x8(\n",
    "    backbone='resnet18',\n",
    "    backbone_features=512,\n",
    "    classes=max_lbl_nums,\n",
    "    features_do=0)"
   ]
  },
  {
   "cell_type": "code",
   "execution_count": 22,
   "metadata": {
    "_last_msg_id": "a3570e2011d249ee858fc0d9f1cbcb61"
   },
   "outputs": [],
   "source": [
    "# model.backbone"
   ]
  },
  {
   "cell_type": "code",
   "execution_count": 23,
   "metadata": {
    "_last_msg_id": "cb675e20ec2548a191bc0e5630992dcf"
   },
   "outputs": [],
   "source": [
    "#from torchsummary import summary"
   ]
  },
  {
   "cell_type": "code",
   "execution_count": 24,
   "metadata": {
    "_last_msg_id": "56878ebddacb44f480d1e0db6ecf181c",
    "scrolled": true
   },
   "outputs": [],
   "source": [
    "# summary(model.backbone.cuda(), (64, 7*8, 7*8), -1, 'cuda')"
   ]
  },
  {
   "cell_type": "code",
   "execution_count": 25,
   "metadata": {
    "_last_msg_id": "d3de67a5eca94d83875a034fd6d25f92"
   },
   "outputs": [],
   "source": [
    "#batch = next(iter(train_loader))"
   ]
  },
  {
   "cell_type": "code",
   "execution_count": 26,
   "metadata": {
    "_last_msg_id": "ca5fbb0cdd4b41d1a7168c2e15a79a59"
   },
   "outputs": [],
   "source": [
    "#features, ys, xs, provider, isup_grade, gleason_score = batch"
   ]
  },
  {
   "cell_type": "code",
   "execution_count": 27,
   "metadata": {
    "_last_msg_id": "505ce42bd97a499c8356ae68a6c8fa66"
   },
   "outputs": [],
   "source": [
    "#with torch.no_grad():\n",
    "#    tmp = model.rf_map(features, ys, xs)"
   ]
  },
  {
   "cell_type": "code",
   "execution_count": 28,
   "metadata": {
    "_last_msg_id": "b53556c50ece4acdba2450b7a6b14c84",
    "scrolled": true
   },
   "outputs": [],
   "source": [
    "#tmp.shape"
   ]
  },
  {
   "cell_type": "code",
   "execution_count": null,
   "metadata": {
    "_last_msg_id": "ed76dbd50522408ebbab5f6675418765"
   },
   "outputs": [],
   "source": []
  },
  {
   "cell_type": "code",
   "execution_count": 29,
   "metadata": {
    "_last_msg_id": "c49a814b2ad34bd48315550f85f28125"
   },
   "outputs": [],
   "source": [
    "#device = torch.device('cuda:0')"
   ]
  },
  {
   "cell_type": "code",
   "execution_count": 30,
   "metadata": {
    "_last_msg_id": "e27e391319e049ec8f5b0c32939e94f4"
   },
   "outputs": [],
   "source": [
    "#model.to(device);"
   ]
  },
  {
   "cell_type": "code",
   "execution_count": 31,
   "metadata": {
    "_last_msg_id": "8c464c27cf864b439e78ab7664d72516"
   },
   "outputs": [],
   "source": [
    "#train_loader = WSIPatchesDummyDataloader(train_batch_path, precalc_epochs=6, \n",
    "#                                         batch_size=64, shuffle=True)"
   ]
  },
  {
   "cell_type": "code",
   "execution_count": 32,
   "metadata": {
    "_last_msg_id": "b412996bcd18456c83eb91e3615f1c11"
   },
   "outputs": [],
   "source": [
    "#batch = next(iter(train_loader))"
   ]
  },
  {
   "cell_type": "code",
   "execution_count": 33,
   "metadata": {
    "_last_msg_id": "011a3ccd6fb14def8d0c523127a513f0"
   },
   "outputs": [],
   "source": [
    "#features, ys, xs, provider, isup_grade, gleason_score = batch"
   ]
  },
  {
   "cell_type": "code",
   "execution_count": 34,
   "metadata": {
    "_last_msg_id": "d9a4b8879fe8419fa19ec2c154a3b39d"
   },
   "outputs": [],
   "source": [
    "#features, ys, xs = features.to(device), ys.to(device), xs.to(device)"
   ]
  },
  {
   "cell_type": "code",
   "execution_count": 35,
   "metadata": {
    "_last_msg_id": "50ce6fc672a14dd79f3d25f61f9ab3ce"
   },
   "outputs": [],
   "source": [
    "#tmp = model(features, ys, xs)"
   ]
  },
  {
   "cell_type": "code",
   "execution_count": 36,
   "metadata": {
    "_last_msg_id": "76d098d5ee9e497788d98e6b791e8a7d"
   },
   "outputs": [],
   "source": [
    "#xxx"
   ]
  },
  {
   "cell_type": "code",
   "execution_count": null,
   "metadata": {},
   "outputs": [],
   "source": []
  },
  {
   "cell_type": "code",
   "execution_count": 37,
   "metadata": {
    "_last_msg_id": "593f66c5aa83440587645dc4927524f5"
   },
   "outputs": [],
   "source": [
    "#f_ns, f_tiles = model.tf_map(features, ys, xs)"
   ]
  },
  {
   "cell_type": "code",
   "execution_count": null,
   "metadata": {},
   "outputs": [],
   "source": []
  },
  {
   "cell_type": "code",
   "execution_count": 38,
   "metadata": {
    "_last_msg_id": "96d6b9d061a940f383bd9c6f8f935083"
   },
   "outputs": [],
   "source": [
    "#summary(model.backbone, (64, 70*8, 40*8), device='cpu')"
   ]
  },
  {
   "cell_type": "code",
   "execution_count": 41,
   "metadata": {
    "_last_msg_id": "349174729d4a45178dc4850931408945"
   },
   "outputs": [],
   "source": [
    "module = WSIModuleV1(model, hparams, log_train_every_batch=False)"
   ]
  },
  {
   "cell_type": "code",
   "execution_count": 42,
   "metadata": {
    "_last_msg_id": "7d0cb555c41340538f73a57e290eaeae"
   },
   "outputs": [
    {
     "name": "stderr",
     "output_type": "stream",
     "text": [
      "INFO:lightning:GPU available: True, used: True\n",
      "INFO:lightning:CUDA_VISIBLE_DEVICES: [0]\n"
     ]
    }
   ],
   "source": [
    "trainer = Trainer(max_epochs=hparams['epochs'], gpus=[0,], fast_dev_run=False, num_sanity_val_steps=0)"
   ]
  },
  {
   "cell_type": "code",
   "execution_count": 43,
   "metadata": {
    "_last_msg_id": "6faff5188ba040279ee5011a2dce68ac",
    "scrolled": true
   },
   "outputs": [
    {
     "name": "stderr",
     "output_type": "stream",
     "text": [
      "INFO:lightning:\n",
      "   | Name                                 | Type                    | Params\n",
      "-----------------------------------------------------------------------------\n",
      "0  | model                                | RearrangedResnet_64x8x8 | 11 M  \n",
      "1  | model.rf_map                         | RearrangedFeaturesMap   | 0     \n",
      "2  | model.backbone                       | ResNet                  | 11 M  \n",
      "3  | model.backbone.conv1                 | Sequential              | 12 K  \n",
      "4  | model.backbone.conv1.0               | BatchNorm2d             | 128   \n",
      "5  | model.backbone.conv1.1               | Conv2d                  | 4 K   \n",
      "6  | model.backbone.conv1.2               | BatchNorm2d             | 128   \n",
      "7  | model.backbone.conv1.3               | ReLU                    | 0     \n",
      "8  | model.backbone.conv1.4               | Conv2d                  | 4 K   \n",
      "9  | model.backbone.conv1.5               | BatchNorm2d             | 128   \n",
      "10 | model.backbone.conv1.6               | ReLU                    | 0     \n",
      "11 | model.backbone.conv1.7               | Conv2d                  | 4 K   \n",
      "12 | model.backbone.bn1                   | BatchNorm2d             | 128   \n",
      "13 | model.backbone.relu                  | ReLU                    | 0     \n",
      "14 | model.backbone.maxpool               | Identity                | 0     \n",
      "15 | model.backbone.layer1                | Sequential              | 147 K \n",
      "16 | model.backbone.layer1.0              | BasicBlock              | 73 K  \n",
      "17 | model.backbone.layer1.0.conv1        | Conv2d                  | 36 K  \n",
      "18 | model.backbone.layer1.0.bn1          | BatchNorm2d             | 128   \n",
      "19 | model.backbone.layer1.0.relu         | ReLU                    | 0     \n",
      "20 | model.backbone.layer1.0.conv2        | Conv2d                  | 36 K  \n",
      "21 | model.backbone.layer1.0.bn2          | BatchNorm2d             | 128   \n",
      "22 | model.backbone.layer1.1              | BasicBlock              | 73 K  \n",
      "23 | model.backbone.layer1.1.conv1        | Conv2d                  | 36 K  \n",
      "24 | model.backbone.layer1.1.bn1          | BatchNorm2d             | 128   \n",
      "25 | model.backbone.layer1.1.relu         | ReLU                    | 0     \n",
      "26 | model.backbone.layer1.1.conv2        | Conv2d                  | 36 K  \n",
      "27 | model.backbone.layer1.1.bn2          | BatchNorm2d             | 128   \n",
      "28 | model.backbone.layer2                | Sequential              | 525 K \n",
      "29 | model.backbone.layer2.0              | BasicBlock              | 230 K \n",
      "30 | model.backbone.layer2.0.conv1        | Conv2d                  | 73 K  \n",
      "31 | model.backbone.layer2.0.bn1          | BatchNorm2d             | 256   \n",
      "32 | model.backbone.layer2.0.relu         | ReLU                    | 0     \n",
      "33 | model.backbone.layer2.0.conv2        | Conv2d                  | 147 K \n",
      "34 | model.backbone.layer2.0.bn2          | BatchNorm2d             | 256   \n",
      "35 | model.backbone.layer2.0.downsample   | Sequential              | 8 K   \n",
      "36 | model.backbone.layer2.0.downsample.0 | Conv2d                  | 8 K   \n",
      "37 | model.backbone.layer2.0.downsample.1 | BatchNorm2d             | 256   \n",
      "38 | model.backbone.layer2.1              | BasicBlock              | 295 K \n",
      "39 | model.backbone.layer2.1.conv1        | Conv2d                  | 147 K \n",
      "40 | model.backbone.layer2.1.bn1          | BatchNorm2d             | 256   \n",
      "41 | model.backbone.layer2.1.relu         | ReLU                    | 0     \n",
      "42 | model.backbone.layer2.1.conv2        | Conv2d                  | 147 K \n",
      "43 | model.backbone.layer2.1.bn2          | BatchNorm2d             | 256   \n",
      "44 | model.backbone.layer3                | Sequential              | 2 M   \n",
      "45 | model.backbone.layer3.0              | BasicBlock              | 919 K \n",
      "46 | model.backbone.layer3.0.conv1        | Conv2d                  | 294 K \n",
      "47 | model.backbone.layer3.0.bn1          | BatchNorm2d             | 512   \n",
      "48 | model.backbone.layer3.0.relu         | ReLU                    | 0     \n",
      "49 | model.backbone.layer3.0.conv2        | Conv2d                  | 589 K \n",
      "50 | model.backbone.layer3.0.bn2          | BatchNorm2d             | 512   \n",
      "51 | model.backbone.layer3.0.downsample   | Sequential              | 33 K  \n",
      "52 | model.backbone.layer3.0.downsample.0 | Conv2d                  | 32 K  \n",
      "53 | model.backbone.layer3.0.downsample.1 | BatchNorm2d             | 512   \n",
      "54 | model.backbone.layer3.1              | BasicBlock              | 1 M   \n",
      "55 | model.backbone.layer3.1.conv1        | Conv2d                  | 589 K \n",
      "56 | model.backbone.layer3.1.bn1          | BatchNorm2d             | 512   \n",
      "57 | model.backbone.layer3.1.relu         | ReLU                    | 0     \n",
      "58 | model.backbone.layer3.1.conv2        | Conv2d                  | 589 K \n",
      "59 | model.backbone.layer3.1.bn2          | BatchNorm2d             | 512   \n",
      "60 | model.backbone.layer4                | Sequential              | 8 M   \n",
      "61 | model.backbone.layer4.0              | BasicBlock              | 3 M   \n",
      "62 | model.backbone.layer4.0.conv1        | Conv2d                  | 1 M   \n",
      "63 | model.backbone.layer4.0.bn1          | BatchNorm2d             | 1 K   \n",
      "64 | model.backbone.layer4.0.relu         | ReLU                    | 0     \n",
      "65 | model.backbone.layer4.0.conv2        | Conv2d                  | 2 M   \n",
      "66 | model.backbone.layer4.0.bn2          | BatchNorm2d             | 1 K   \n",
      "67 | model.backbone.layer4.0.downsample   | Sequential              | 132 K \n",
      "68 | model.backbone.layer4.0.downsample.0 | Conv2d                  | 131 K \n",
      "69 | model.backbone.layer4.0.downsample.1 | BatchNorm2d             | 1 K   \n",
      "70 | model.backbone.layer4.1              | BasicBlock              | 4 M   \n",
      "71 | model.backbone.layer4.1.conv1        | Conv2d                  | 2 M   \n",
      "72 | model.backbone.layer4.1.bn1          | BatchNorm2d             | 1 K   \n",
      "73 | model.backbone.layer4.1.relu         | ReLU                    | 0     \n",
      "74 | model.backbone.layer4.1.conv2        | Conv2d                  | 2 M   \n",
      "75 | model.backbone.layer4.1.bn2          | BatchNorm2d             | 1 K   \n",
      "76 | model.backbone.avgpool               | AdaptiveAvgPool2d       | 0     \n",
      "77 | model.backbone.fc                    | Linear                  | 262 K \n",
      "78 | model.reg_linear                     | Linear                  | 513   \n",
      "79 | model.class_linear                   | Linear                  | 3 K   \n",
      "80 | reg_loss                             | MSELoss                 | 0     \n",
      "81 | class_loss                           | SmoothLoss              | 0     \n",
      "82 | class_loss.criterion                 | KLDivLoss               | 0     \n"
     ]
    },
    {
     "name": "stdout",
     "output_type": "stream",
     "text": [
      "[Adam (\n",
      "Parameter Group 0\n",
      "    amsgrad: False\n",
      "    betas: (0.9, 0.999)\n",
      "    eps: 1e-08\n",
      "    initial_lr: 0.00025\n",
      "    lr: 0.00025\n",
      "    weight_decay: 0.0001\n",
      ")] [{'interval': 'epoch', 'scheduler': <lib.schedulers.DelayedScheduler object at 0x7fca9bbe1310>}]\n"
     ]
    },
    {
     "name": "stderr",
     "output_type": "stream",
     "text": [
      "/home/ruslan/anaconda3/lib/python3.7/site-packages/pytorch_lightning/utilities/distributed.py:23: RuntimeWarning: Displayed epoch numbers in the progress bar start from \"1\" until v0.6.x, but will start from \"0\" in v0.8.0.\n",
      "  warnings.warn(*args, **kwargs)\n"
     ]
    },
    {
     "data": {
      "application/vnd.jupyter.widget-view+json": {
       "model_id": "d2795f18091b4ba9a25f737b1d990c0f",
       "version_major": 2,
       "version_minor": 0
      },
      "text/plain": [
       "HBox(children=(FloatProgress(value=1.0, bar_style='info', description='Training', layout=Layout(flex='2'), max…"
      ]
     },
     "metadata": {},
     "output_type": "display_data"
    },
    {
     "name": "stderr",
     "output_type": "stream",
     "text": [
      "/home/ruslan/anaconda3/lib/python3.7/site-packages/torch/nn/functional.py:2247: UserWarning: reduction: 'mean' divides the total loss by both the batch size and the support size.'batchmean' divides only by the batch size, and aligns with the KL div math definition.'mean' will be changed to behave the same as 'batchmean' in the next major release.\n",
      "  warnings.warn(\"reduction: 'mean' divides the total loss by both the batch size and the support size.\"\n",
      "INFO:lightning:Detected KeyboardInterrupt, attempting graceful shutdown...\n"
     ]
    },
    {
     "name": "stdout",
     "output_type": "stream",
     "text": [
      "\n"
     ]
    }
   ],
   "source": [
    "trainer.fit(module, train_loader, val_loader)\n",
    "trainer.save_checkpoint(os.path.join(trainer.checkpoint_callback.dirpath,\n",
    "                                     \"last.ckpt\"))"
   ]
  },
  {
   "cell_type": "code",
   "execution_count": null,
   "metadata": {
    "_last_msg_id": "13e90a9299414b7a8b4eb8f51a0fb568"
   },
   "outputs": [],
   "source": [
    "165*3"
   ]
  },
  {
   "cell_type": "code",
   "execution_count": null,
   "metadata": {},
   "outputs": [],
   "source": []
  }
 ],
 "metadata": {
  "kernelspec": {
   "display_name": "Python 3",
   "language": "python",
   "name": "python3"
  },
  "language_info": {
   "codemirror_mode": {
    "name": "ipython",
    "version": 3
   },
   "file_extension": ".py",
   "mimetype": "text/x-python",
   "name": "python",
   "nbconvert_exporter": "python",
   "pygments_lexer": "ipython3",
   "version": "3.7.4"
  }
 },
 "nbformat": 4,
 "nbformat_minor": 2
}
