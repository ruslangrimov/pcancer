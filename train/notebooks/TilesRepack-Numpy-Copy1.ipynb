{
 "cells": [
  {
   "cell_type": "code",
   "execution_count": 1,
   "metadata": {
    "_last_msg_id": "e2d69df80dcf4ae79465d59645aed83b"
   },
   "outputs": [],
   "source": [
    "import sys\n",
    "sys.path.append('../..')"
   ]
  },
  {
   "cell_type": "code",
   "execution_count": 2,
   "metadata": {
    "_last_msg_id": "362cd4e1043d4be8a27d0eb7ac6c30ed"
   },
   "outputs": [],
   "source": [
    "import cv2\n",
    "\n",
    "import os\n",
    "import psutil\n",
    "\n",
    "import random\n",
    "import math\n",
    "import copy\n",
    "from functools import partial\n",
    "from collections import Counter\n",
    "\n",
    "import torch \n",
    "from torch import optim\n",
    "from torch.optim import lr_scheduler\n",
    "from torch import nn\n",
    "from torch.nn import functional as F\n",
    "\n",
    "import multiprocessing.dummy as mp\n",
    "\n",
    "from pytorch_lightning import Trainer\n",
    "from pytorch_lightning.core import LightningModule\n",
    "from pytorch_lightning.callbacks import ModelCheckpoint\n",
    "from pytorch_lightning.loggers.tensorboard import TensorBoardLogger\n",
    "\n",
    "\n",
    "from lib.schedulers import DelayedScheduler\n",
    "from lib.datasets import (max_lbl_nums, actual_lbl_nums, \n",
    "                          patches_rgb_mean_av1, patches_rgb_std_av1, \n",
    "                          get_train_test_img_ids_split)\n",
    "from lib.dataloaders import PatchesDataset, WSIPatchesDatasetRaw, WSIPatchesDummyDataloader\n",
    "from lib.augmentations import augment_v1_clr_only, augment_empty_clr_only\n",
    "from lib.losses import SmoothLoss\n",
    "from lib.trainers import WSIModuleV1\n",
    "\n",
    "from lib.models.unetv1 import get_model\n",
    "from lib.models.features_map import FeaturesMap, TiledFeaturesMap\n",
    "from lib.models.wsi_resnets import Resnet_64x8x8\n",
    "\n",
    "from sklearn.metrics import cohen_kappa_score\n",
    "\n",
    "from tqdm.auto import tqdm\n",
    "\n",
    "import matplotlib.pyplot as plt"
   ]
  },
  {
   "cell_type": "code",
   "execution_count": 3,
   "metadata": {
    "_last_msg_id": "b5ba07c80a0e4f1eb60b9d4f3b875583"
   },
   "outputs": [],
   "source": [
    "# import cv2\n",
    "import numpy as np\n",
    "# import pandas as pd\n",
    "# from lib.datasets import patches_csv_path, patches_path\n",
    "from lib.datasets import (patches_clean90_csv_path as patches_csv_path, patches_path,\n",
    "                          patches_clean90_pkl_path as patches_pkl_path)\n",
    "# from lib.dataloaders import imread, get_g_score_num, get_provider_num"
   ]
  },
  {
   "cell_type": "code",
   "execution_count": 4,
   "metadata": {
    "_last_msg_id": "4b0193be463945ec95719ff7ac78e7f7"
   },
   "outputs": [
    {
     "data": {
      "text/plain": [
       "['e8baa3bb9dcfb9cef5ca599d62bb8046',\n",
       " '9b2948ff81b64677a1a152a1532c1a50',\n",
       " '5b003d43ec0ce5979062442486f84cf7',\n",
       " '375b2c9501320b35ceb638a3274812aa']"
      ]
     },
     "execution_count": 4,
     "metadata": {},
     "output_type": "execute_result"
    }
   ],
   "source": [
    "train_img_ids, test_img_ids = get_train_test_img_ids_split()\n",
    "\n",
    "test_img_ids[:4]"
   ]
  },
  {
   "cell_type": "code",
   "execution_count": 5,
   "metadata": {
    "_last_msg_id": "120110f45d784923b00e28650d5f98bb"
   },
   "outputs": [],
   "source": [
    "from lib.dataloaders import WSIPatchesDataloader, WSIPatchesDatasetRaw\n",
    "from lib.utils import get_pretrained_model, get_features"
   ]
  },
  {
   "cell_type": "code",
   "execution_count": 6,
   "metadata": {
    "_last_msg_id": "b6d490684fe34ea6810e9aba997574ea"
   },
   "outputs": [],
   "source": [
    "batch_size = 16"
   ]
  },
  {
   "cell_type": "code",
   "execution_count": 7,
   "metadata": {
    "_last_msg_id": "4929926bc15d4e4989c72c29788a714c"
   },
   "outputs": [],
   "source": [
    "#train_batch_path = '/mnt/HDDData/pdata/processed/pretrained_64x8x8/train/{}/'\n",
    "#test_batch_path = '/mnt/HDDData/pdata/processed/pretrained_64x8x8/val/'\n",
    "\n",
    "train_batch_path = '/mnt/SSDData/pdata/processed/pretrained_64x8x8/train/{}/'\n",
    "test_batch_path = '/mnt/SSDData/pdata/processed/pretrained_64x8x8/val/'\n",
    "\n",
    "train_loader = WSIPatchesDummyDataloader(train_batch_path, precalc_epochs=6, batch_size=batch_size, shuffle=True)\n",
    "val_loader = WSIPatchesDummyDataloader(test_batch_path, precalc_epochs=6, batch_size=batch_size, shuffle=False)"
   ]
  },
  {
   "cell_type": "code",
   "execution_count": 8,
   "metadata": {
    "_last_msg_id": "77f3240a9dca4aebbc03ced8c85df481"
   },
   "outputs": [],
   "source": [
    "batch = next(iter(train_loader))"
   ]
  },
  {
   "cell_type": "code",
   "execution_count": 11,
   "metadata": {
    "_last_msg_id": "5503763313c84df3811e7a218c13f280"
   },
   "outputs": [],
   "source": [
    "features, ys, xs, provider, isup_grade, gleason_score = batch"
   ]
  },
  {
   "cell_type": "code",
   "execution_count": null,
   "metadata": {
    "_last_msg_id": "c8015b72b9a94a61815088760ce9101f"
   },
   "outputs": [],
   "source": []
  },
  {
   "cell_type": "code",
   "execution_count": 497,
   "metadata": {
    "_last_msg_id": "e0433fed5a0f46d6b6aa8cf7e0061853"
   },
   "outputs": [],
   "source": [
    "def d8_transform(m, d8):\n",
    "    if d8 & 0b001:\n",
    "        m = m.transpose(1, 0, 2)\n",
    "    if d8 & 0b010:\n",
    "        m = m[:, ::-1]        \n",
    "    if d8 & 0b100:\n",
    "        m = m[::-1, :]  \n",
    "        \n",
    "    return m\n",
    "\n",
    "def get_fg_score(img, p=2):        \n",
    "    return (np.unique(img[..., 2], return_counts=True)[1][1:]**p).sum()\n",
    "\n",
    "def get_bg_score(img, p=2):\n",
    "    tmp = (img[..., 0] == -1).astype(np.uint8)\n",
    "    dist_sum = (cv2.distanceTransform(tmp, cv2.DIST_L1, 5)**p).sum()\n",
    "    return dist_sum"
   ]
  },
  {
   "cell_type": "code",
   "execution_count": 498,
   "metadata": {
    "_last_msg_id": "21b13a46c2ee490e8394fc9108978ef4"
   },
   "outputs": [],
   "source": [
    "m = np.arange(4).reshape((2, 2, 1))\n",
    "\n",
    "m2d8 = {}\n",
    "d82m = {}\n",
    "for i in range(8):\n",
    "    m_ = d8_transform(m.copy(), i)\n",
    "    m_ = ''.join([str(s) for s in m_.ravel().tolist()])\n",
    "    m2d8[m_] = i\n",
    "    d82m[i] = m_\n",
    "    \n",
    "d8pd8 = np.zeros((8, 8), dtype=np.uint8)\n",
    "for i in range(8):\n",
    "    for j in range(8):\n",
    "        mi = d8_transform(m.copy(), i)\n",
    "        mj = d8_transform(mi.copy(), j)\n",
    "        mj = ''.join([str(s) for s in mj.ravel().tolist()])\n",
    "        d8pd8[i, j] = m2d8[mj]"
   ]
  },
  {
   "cell_type": "code",
   "execution_count": 986,
   "metadata": {
    "_last_msg_id": "13a647cd64cc4201baeea9dc547bbcd3"
   },
   "outputs": [],
   "source": [
    "# d8pd8"
   ]
  },
  {
   "cell_type": "code",
   "execution_count": 987,
   "metadata": {
    "_last_msg_id": "61101a65faf0447db75373ec5a093af5"
   },
   "outputs": [],
   "source": [
    "# d8_rev = d8pd8.argmin(axis=-1)"
   ]
  },
  {
   "cell_type": "code",
   "execution_count": 985,
   "metadata": {
    "_last_msg_id": "efe20610a0ac467a973eb1f0bf9a00a1"
   },
   "outputs": [
    {
     "data": {
      "text/plain": [
       "array([0, 1, 2, 5, 4, 3, 6, 7])"
      ]
     },
     "execution_count": 985,
     "metadata": {},
     "output_type": "execute_result"
    }
   ],
   "source": [
    "d8_rev = [0, 1, 2, 5, 4, 3, 6, 7]"
   ]
  },
  {
   "cell_type": "code",
   "execution_count": 504,
   "metadata": {
    "_last_msg_id": "f9ef8f6117bc40b2a9d7eb586bf9ce20"
   },
   "outputs": [],
   "source": []
  },
  {
   "cell_type": "code",
   "execution_count": 505,
   "metadata": {
    "_last_msg_id": "93e95b8948024c518ab5d843a1ced329"
   },
   "outputs": [],
   "source": [
    "#b = -1"
   ]
  },
  {
   "cell_type": "code",
   "execution_count": 1324,
   "metadata": {
    "_last_msg_id": "201ea6aad275473095575d9b44640ad2"
   },
   "outputs": [],
   "source": [
    "b += 1\n",
    "\n",
    "r_mask = ys[b] > - 1\n",
    "\n",
    "y_min, x_min = ys[b, r_mask].min(), xs[b, r_mask].min()\n",
    "y_max, x_max = ys[b, r_mask].max(), xs[b, r_mask].max()\n",
    "\n",
    "s_h = y_max - y_min + 1\n",
    "s_w = x_max - x_min + 1"
   ]
  },
  {
   "cell_type": "code",
   "execution_count": 1325,
   "metadata": {
    "_last_msg_id": "dca1d571f4bd4c6488571e636e252bb6"
   },
   "outputs": [],
   "source": [
    "n_ys = (ys[b, r_mask]-y_min)\n",
    "n_xs = (xs[b, r_mask]-x_min)"
   ]
  },
  {
   "cell_type": "code",
   "execution_count": 1326,
   "metadata": {
    "_last_msg_id": "23b14242aeb74c7fa5f294dfff1a5490"
   },
   "outputs": [],
   "source": [
    "n0, n1 = 1, 200"
   ]
  },
  {
   "cell_type": "code",
   "execution_count": 1342,
   "metadata": {
    "_last_msg_id": "0d4a7c17127f48f69fb954b4429f0d61"
   },
   "outputs": [
    {
     "name": "stdout",
     "output_type": "stream",
     "text": [
      "CPU times: user 1.99 s, sys: 0 ns, total: 1.99 s\n",
      "Wall time: 214 ms\n"
     ]
    }
   ],
   "source": [
    "%%time\n",
    "\n",
    "o_t_img = np.full((t_h, t_w, 4), -1, dtype=np.int16)\n",
    "\n",
    "o_s_img = np.zeros((s_h, s_w), dtype=np.uint8)\n",
    "o_s_img[n_ys, n_xs] = 1\n",
    "\n",
    "mask = np.ones((s_h+2*m_pad, s_w+2*m_pad), dtype=np.uint8)\n",
    "\n",
    "def r(a, b):\n",
    "    return random.random() * (b - a) + a \n",
    "\n",
    "o_best = None\n",
    "o_best_score = -99999999\n",
    "for _ in range(n0):\n",
    "    p0, p1, p2 = 1.4, 1, 1\n",
    "    a0, a1, a2 = 1, 0.1, 1000\n",
    "    # p0, p1, a0 = 1, 1, 1\n",
    "    s_img, t_img = o_s_img.copy(), o_t_img.copy()\n",
    "    \n",
    "    n = 0\n",
    "    while s_img.max() != 0:\n",
    "        best_step = None\n",
    "        best_score = -99999999  \n",
    "\n",
    "        s_fg_ys, s_fg_xs = np.where(s_img != 0)\n",
    "        \n",
    "        for a in range(n1):\n",
    "            c_s_img, c_t_img = s_img.copy(), t_img.copy()\n",
    "\n",
    "            d8 = random.randint(0, 7)\n",
    "            # d8 = random.choice([0, 3, 5, 6])  # only rotation\n",
    "            c_t_img = d8_transform(c_t_img, d8)\n",
    "\n",
    "            t_empty_mask = c_t_img[..., 0] == -1\n",
    "            t_empty_ys, t_empty_xs = np.where(t_empty_mask)\n",
    "\n",
    "            r = random.randint(0, len(t_empty_ys)-1)\n",
    "            t_y, t_x = t_empty_ys[r], t_empty_xs[r]\n",
    "\n",
    "            r = random.randint(0, len(s_fg_ys)-1)\n",
    "            s_y, s_x = s_fg_ys[r], s_fg_xs[r]\n",
    "\n",
    "            mask.fill(1)\n",
    "\n",
    "            m_y = s_y+m_pad-t_y\n",
    "            m_x = s_x+m_pad-t_x\n",
    "\n",
    "            mask[m_y:m_y+t_h, m_x:m_x+t_w] = ~t_empty_mask\n",
    "\n",
    "            fimg = cv2.floodFill(c_s_img, mask[m_pad-1:-m_pad+1, m_pad-1:-m_pad+1], \n",
    "                                 (s_x, s_y), 2, flags=8)\n",
    "\n",
    "            if fimg[0] > 0:\n",
    "                blob_yxs = np.where(fimg[1] == 2)\n",
    "                c_t_img[blob_yxs[0]-s_y+t_y, blob_yxs[1]-s_x+t_x] =\\\n",
    "                        np.stack(blob_yxs + (np.full_like(blob_yxs[0], n+1), \n",
    "                                             np.full_like(blob_yxs[0], d8)), axis=-1)\n",
    "\n",
    "                c_s_img[c_s_img == 2] = 0\n",
    "            else:\n",
    "                print(\"WTF?\")\n",
    "\n",
    "            c_t_img = d8_transform(c_t_img, d8_rev[d8])\n",
    "\n",
    "            score = (a0 * get_fg_score(c_t_img, p0) + \n",
    "                     a1 * get_bg_score(c_t_img, p1)**0.5 +\n",
    "                     a2 * -(cv2.connectedComponents(c_s_img, connectivity=4)[0])**p2)\n",
    "            # print(get_fg_score(c_t_img, 1), get_bg_score(c_t_img, 1)**0.5)\n",
    "\n",
    "            if score > best_score:\n",
    "                best_state = c_s_img, c_t_img\n",
    "                best_score = score\n",
    "\n",
    "        s_img, t_img = best_state\n",
    "        n += 1\n",
    "        \n",
    "        # break\n",
    "        \n",
    "    if best_score > o_best_score:\n",
    "        s_img, t_img = best_state    "
   ]
  },
  {
   "cell_type": "code",
   "execution_count": 1343,
   "metadata": {
    "_last_msg_id": "4c902df03f5f4c71835a0c7c7fd81e45"
   },
   "outputs": [
    {
     "data": {
      "text/plain": [
       "802.3879908912276"
      ]
     },
     "execution_count": 1343,
     "metadata": {},
     "output_type": "execute_result"
    }
   ],
   "source": [
    "get_fg_score(c_t_img, p)"
   ]
  },
  {
   "cell_type": "code",
   "execution_count": 1344,
   "metadata": {
    "_last_msg_id": "f7f32f8bd9f24cd084a6afa344eea3ef"
   },
   "outputs": [
    {
     "data": {
      "image/png": "[encoded data removed]",
      "text/plain": [
       "<Figure size 432x288 with 1 Axes>"
      ]
     },
     "metadata": {
      "needs_background": "light"
     },
     "output_type": "display_data"
    }
   ],
   "source": [
    "plt.imshow(t_img[..., 2], cmap='jet');"
   ]
  },
  {
   "cell_type": "code",
   "execution_count": 1345,
   "metadata": {
    "_last_msg_id": "539613c053f24888b93b51f06612dabe"
   },
   "outputs": [],
   "source": [
    "r_s_img = np.full_like(s_img, -1, dtype=np.int16)\n",
    "for i in range(1, t_img[..., 2].max()+1):\n",
    "    s_yxs = t_img[t_img[..., 2] == i, :2]\n",
    "    r_s_img[s_yxs[:, 0], s_yxs[:, 1]] = i"
   ]
  },
  {
   "cell_type": "code",
   "execution_count": null,
   "metadata": {
    "_last_msg_id": "e8ef86202b0e493d8ad20809d4d774c2"
   },
   "outputs": [],
   "source": [
    "plt.imshow(r_s_img, cmap='jet');"
   ]
  },
  {
   "cell_type": "code",
   "execution_count": null,
   "metadata": {},
   "outputs": [],
   "source": []
  },
  {
   "cell_type": "code",
   "execution_count": 1151,
   "metadata": {
    "_last_msg_id": "f4335f731b3c41a480730e3693893697"
   },
   "outputs": [],
   "source": [
    "def torch_d8_transform(m, d8):\n",
    "    if d8 & 0b001:\n",
    "        m = m.transpose(-2, -1)\n",
    "    if d8 & 0b010:\n",
    "        m = torch.flip(m, [-1])        \n",
    "    if d8 & 0b100:\n",
    "        m = torch.flip(m, [-2])  \n",
    "        \n",
    "    return m"
   ]
  },
  {
   "cell_type": "code",
   "execution_count": 1152,
   "metadata": {
    "_last_msg_id": "a50536a9e43e402a8e4671785bfe92bc"
   },
   "outputs": [
    {
     "name": "stdout",
     "output_type": "stream",
     "text": [
      "5 5 3\n",
      "1 1 1\n",
      "5 5 3\n",
      "5 5 3\n"
     ]
    }
   ],
   "source": [
    "f_size = 8\n",
    "f_channels = 64\n",
    "t_d8img = torch.zeros((f_channels, t_h*f_size, t_w*f_size), dtype=features.dtype, \n",
    "                      device=features.device)\n",
    "d8 = 0\n",
    "for i in range(1, t_img[..., 2].max()+1):\n",
    "    t_i = t_img[..., 2] == i\n",
    "    t_ys, t_xs = np.where(t_i)\n",
    "    s_yxs = t_img[t_i, :2]\n",
    "    d8_ = t_img[t_i, -1][0]\n",
    "    d8 = d8_\n",
    "    # d8 = d8pd8[d8, d8_]\n",
    "    d8_r = d8_rev[d8]\n",
    "    \n",
    "    for n in range(len(s_yxs)):\n",
    "        f_idx = ((ys[b]-y_min) == s_yxs[n, 0]) & ((xs[b]-x_min) == s_yxs[n, 1])\n",
    "        f = features[b, f_idx][0]\n",
    "        f = torch_d8_transform(f, d8_r)\n",
    "        t_d8img[:, t_ys[n]*f_size:(t_ys[n]+1)*f_size, \n",
    "                t_xs[n]*f_size:(t_xs[n]+1)*f_size] = f\n",
    "    \n",
    "    print(d8_, d8, d8_r)\n",
    "    \n",
    "    # break\n",
    "    #if i == 2:\n",
    "    #    break"
   ]
  },
  {
   "cell_type": "code",
   "execution_count": 1153,
   "metadata": {
    "_last_msg_id": "7bb9628d44d14a4a8c8e260b8d61deb7"
   },
   "outputs": [
    {
     "data": {
      "text/plain": [
       "torch.Size([64, 160, 160])"
      ]
     },
     "execution_count": 1153,
     "metadata": {},
     "output_type": "execute_result"
    }
   ],
   "source": [
    "t_d8img.shape"
   ]
  },
  {
   "cell_type": "code",
   "execution_count": 1154,
   "metadata": {
    "_last_msg_id": "8de604bba04947b68bbcce13bc0fd854"
   },
   "outputs": [
    {
     "data": {
      "image/png": "[encoded data removed]",
      "text/plain": [
       "<Figure size 864x864 with 1 Axes>"
      ]
     },
     "metadata": {
      "needs_background": "light"
     },
     "output_type": "display_data"
    }
   ],
   "source": [
    "plt.figure(figsize=(12, 12))\n",
    "plt.imshow(t_d8img[0]);"
   ]
  },
  {
   "cell_type": "code",
   "execution_count": null,
   "metadata": {},
   "outputs": [],
   "source": []
  },
  {
   "cell_type": "code",
   "execution_count": null,
   "metadata": {},
   "outputs": [],
   "source": []
  },
  {
   "cell_type": "code",
   "execution_count": null,
   "metadata": {},
   "outputs": [],
   "source": []
  },
  {
   "cell_type": "code",
   "execution_count": null,
   "metadata": {},
   "outputs": [],
   "source": []
  },
  {
   "cell_type": "code",
   "execution_count": null,
   "metadata": {},
   "outputs": [],
   "source": []
  },
  {
   "cell_type": "code",
   "execution_count": null,
   "metadata": {},
   "outputs": [],
   "source": []
  },
  {
   "cell_type": "code",
   "execution_count": 209,
   "metadata": {
    "_last_msg_id": "c0babbbff6064082830ae1049fe374e1"
   },
   "outputs": [],
   "source": [
    "def T(m):\n",
    "    return list(map(list, zip(*m)))\n",
    "\n",
    "def flip_h(m):\n",
    "    return [r[::-1] for r in m]\n",
    "\n",
    "def flip_v(m):\n",
    "    return m[::-1]\n",
    "\n",
    "def d8_transform(m, d8):\n",
    "    if d8 & 0b001:\n",
    "        m = T(m)\n",
    "    if d8 & 0b010:\n",
    "        m = flip_h(m)        \n",
    "    if d8 & 0b100:\n",
    "        m = flip_v(m)  \n",
    "        \n",
    "    return m\n",
    "\n",
    "def get_fg_score(coords, p=2):        \n",
    "    ns = [c[2] for r in coords for c in r if c is not None]\n",
    "    return sum([c**p for c in Counter(ns).values()])\n",
    "\n",
    "def get_bg_score(coords, p=2):\n",
    "    tmp = np.array(coords) == None\n",
    "    dist = cv2.distanceTransform(tmp.astype(np.uint8), cv2.DIST_L1, 5) ** p\n",
    "    return dist.sum()\n",
    "\n",
    "def get_blob(s_idx, s_coords, t_y, t_x, t_coords, n, d8):\n",
    "    def p_coords(c_idx, s_coords, t_start_c, t_coords):\n",
    "            y, x = s_coords[c_idx]\n",
    "\n",
    "            # Координаты относительно таргета                \n",
    "            t_y, t_x = y+t_start_c[0], x+t_start_c[1]\n",
    "            # Если target не занят\n",
    "            if (t_y >= 0 and t_y < len(t_coords) and \n",
    "                t_x >= 0 and t_x < len(t_coords[t_y]) and \n",
    "                t_coords[t_y][t_x] is None):\n",
    "                t_coords[t_y][t_x] = (y, x, n, d8)\n",
    "\n",
    "                del s_coords[c_idx]\n",
    "\n",
    "                # Перебор соседских клеток по периметру\n",
    "                for dy in range(-1, 2, 1):\n",
    "                    for dx in range(-1, 2, 1):\n",
    "                        try:\n",
    "                            c_ = y+dy, x+dx\n",
    "                            c_idx_ = s_coords.index(c_)  # foreground с такими координатами существует\n",
    "                            n_s, n_t = p_coords(c_idx_, s_coords, t_start_c, t_coords)\n",
    "                        except:\n",
    "                            pass\n",
    "    \n",
    "    y, x = s_coords[s_idx]\n",
    "    t_start_c = (-y+t_y, -x+t_x)\n",
    "    \n",
    "    p_coords(s_idx, s_coords, t_start_c, t_coords)\n",
    "\n",
    "def mean_children_score(coords, t_coords, n, c_num, p):\n",
    "    scores = []\n",
    "    for _ in range(c_num):\n",
    "        while len(coords) > 0:\n",
    "            # d8 = 0\n",
    "            d8 = random.randint(0, 7)\n",
    "\n",
    "            s_idx = random.randint(0, len(coords)-1)\n",
    "\n",
    "            t_coords = d8_transform(t_coords, d8)\n",
    "\n",
    "            empty_t_coords = [(n_r, n_c) for n_r, r in enumerate(t_coords) \n",
    "                              for n_c, c in enumerate(r) if c is None]\n",
    "            t_y, t_x = random.choice(empty_t_coords)\n",
    "\n",
    "            n += 1\n",
    "            get_blob(s_idx, coords, t_y, t_x, t_coords, n, d8) \n",
    "\n",
    "        scores.append(get_fg_score(t_coords, p))\n",
    "\n",
    "    return sum(scores) / len(scores)"
   ]
  },
  {
   "cell_type": "code",
   "execution_count": 210,
   "metadata": {
    "_last_msg_id": "df269a3fc70143789c395f5a7dd6d722"
   },
   "outputs": [],
   "source": [
    "# b = -1"
   ]
  },
  {
   "cell_type": "code",
   "execution_count": 211,
   "metadata": {
    "_last_msg_id": "cf90bcb09a3849fd8354a68622508c17"
   },
   "outputs": [],
   "source": [
    "# b += 1\n",
    "\n",
    "r_mask = ys[b] > - 1\n",
    "\n",
    "y_min, x_min = ys[b, r_mask].min(), xs[b, r_mask].min()\n",
    "y_max, x_max = ys[b, r_mask].max(), xs[b, r_mask].max()\n",
    "\n",
    "s_h = y_max - y_min + 1\n",
    "s_w = x_max - x_min + 1"
   ]
  },
  {
   "cell_type": "code",
   "execution_count": 212,
   "metadata": {
    "_last_msg_id": "8ef8ee1d962f49878b2cf8ed97db467a"
   },
   "outputs": [],
   "source": [
    "t_h, t_w = 20, 20"
   ]
  },
  {
   "cell_type": "code",
   "execution_count": 213,
   "metadata": {
    "_last_msg_id": "00565d7b7d184eb48249081dfc00e974"
   },
   "outputs": [],
   "source": [
    "n_ys = (ys[b, r_mask]-y_min).tolist()\n",
    "n_xs = (xs[b, r_mask]-x_min).tolist()"
   ]
  },
  {
   "cell_type": "code",
   "execution_count": 214,
   "metadata": {
    "_last_msg_id": "34702cc2ce55449fa4fde1137f1efed1"
   },
   "outputs": [],
   "source": [
    "p = 1.4"
   ]
  },
  {
   "cell_type": "code",
   "execution_count": 215,
   "metadata": {
    "_last_msg_id": "7c4bae669be34592afdfc24646b98a35"
   },
   "outputs": [],
   "source": [
    "p0, p1 = 1.4, 1"
   ]
  },
  {
   "cell_type": "code",
   "execution_count": 216,
   "metadata": {
    "_last_msg_id": "026267186bdc40018aecd519a5799862",
    "scrolled": true
   },
   "outputs": [
    {
     "name": "stdout",
     "output_type": "stream",
     "text": [
      "CPU times: user 3.45 s, sys: 1.04 ms, total: 3.45 s\n",
      "Wall time: 3.45 s\n"
     ]
    }
   ],
   "source": [
    "%%time\n",
    "\n",
    "t_coords = [[None for _ in range(t_w)] for _ in range(t_h)] \n",
    "coords = list(zip(n_ys, n_xs))\n",
    "\n",
    "sequence = []\n",
    "\n",
    "n = 0\n",
    "\n",
    "while len(coords) > 0:\n",
    "    best_step = None\n",
    "    best_score = -99999999\n",
    "\n",
    "    for a in range(200):\n",
    "        c_coords = copy.deepcopy(coords)\n",
    "        c_t_coords = copy.deepcopy(t_coords)        \n",
    "        \n",
    "        # d8 = 0\n",
    "        d8 = random.randint(0, 7)\n",
    "\n",
    "        s_idx = random.randint(0, len(coords)-1)\n",
    "        if a % 4 == 0 and best_step is not None:\n",
    "            s_idx, *_ = best_step\n",
    "\n",
    "        c_t_coords = d8_transform(c_t_coords, d8)\n",
    "\n",
    "        empty_t_coords = [(n_r, n_c) for n_r, r in enumerate(t_coords) \n",
    "                          for n_c, c in enumerate(r) if c is None]\n",
    "        t_y, t_x = random.choice(empty_t_coords)\n",
    "        \n",
    "        get_blob(s_idx, c_coords, t_y, t_x, c_t_coords, n+1, d8)\n",
    "        \n",
    "        score = mean_children_score(c_coords, c_t_coords, n+1, 40, p0)\n",
    "        # score = get_fg_score(c_t_coords, p0) + 0.1*get_bg_score(c_t_coords)**0.5\n",
    "\n",
    "        if score > best_score:\n",
    "            best_step = s_idx, d8, t_y, t_x\n",
    "            best_score = score\n",
    "            \n",
    "    sequence.append(best_step)\n",
    "    s_idx, d8, t_y, t_x = best_step\n",
    "    n += 1\n",
    "    t_coords = d8_transform(t_coords, d8)\n",
    "    get_blob(s_idx, coords, t_y, t_x, t_coords, n, d8)\n",
    "    \n",
    "    # break"
   ]
  },
  {
   "cell_type": "code",
   "execution_count": 218,
   "metadata": {
    "_last_msg_id": "6e644a8d72564256a594f085de2e3118"
   },
   "outputs": [
    {
     "data": {
      "text/plain": [
       "961.2224906058973"
      ]
     },
     "execution_count": 218,
     "metadata": {},
     "output_type": "execute_result"
    }
   ],
   "source": [
    "get_fg_score(t_coords, p)"
   ]
  },
  {
   "cell_type": "code",
   "execution_count": 219,
   "metadata": {
    "_last_msg_id": "895d58bb07094cba87ac66493ddb269f"
   },
   "outputs": [],
   "source": [
    "t_coords = [[None for _ in range(t_w)] for _ in range(t_h)] \n",
    "coords = list(zip(n_ys, n_xs))\n",
    "\n",
    "for n, (s_idx, d8, t_y, t_x) in enumerate(sequence):\n",
    "    t_coords = d8_transform(t_coords, d8)\n",
    "    get_blob(s_idx, coords, t_y, t_x, t_coords, n+1, d8) "
   ]
  },
  {
   "cell_type": "code",
   "execution_count": 220,
   "metadata": {
    "_last_msg_id": "acd690a1e7dd46fdb54cbff303a80716"
   },
   "outputs": [
    {
     "data": {
      "text/plain": [
       "961.2224906058973"
      ]
     },
     "execution_count": 220,
     "metadata": {},
     "output_type": "execute_result"
    }
   ],
   "source": [
    "get_fg_score(t_coords, p)"
   ]
  },
  {
   "cell_type": "code",
   "execution_count": 221,
   "metadata": {
    "_last_msg_id": "5524ab80c4684599848ecf3ed1c184cc"
   },
   "outputs": [],
   "source": [
    "s_img = np.zeros((s_h, s_w)) - 1\n",
    "t_img = np.zeros((t_h, t_w)) - 1\n",
    "\n",
    "s_img[ys[b, r_mask]-y_min, xs[b, r_mask]-x_min] = 0\n",
    "\n",
    "for n_r, r in enumerate(t_coords):\n",
    "    for n_c, tmp in enumerate(r):\n",
    "        if tmp is not None:\n",
    "            y, x, n, d8 = tmp\n",
    "            t_img[n_r, n_c] = n\n",
    "            s_img[y, x] = n"
   ]
  },
  {
   "cell_type": "code",
   "execution_count": 222,
   "metadata": {
    "_last_msg_id": "e6361760603c4f9087a9bd3003f11cfe"
   },
   "outputs": [
    {
     "data": {
      "image/png": "[encoded data removed]",
      "text/plain": [
       "<Figure size 432x288 with 1 Axes>"
      ]
     },
     "metadata": {
      "needs_background": "light"
     },
     "output_type": "display_data"
    }
   ],
   "source": [
    "plt.imshow(t_img, cmap='jet');"
   ]
  },
  {
   "cell_type": "code",
   "execution_count": 223,
   "metadata": {
    "_last_msg_id": "435ee41de5f247a5801bff6e858fe545"
   },
   "outputs": [
    {
     "data": {
      "image/png": "[encoded data removed]",
      "text/plain": [
       "<Figure size 432x288 with 1 Axes>"
      ]
     },
     "metadata": {
      "needs_background": "light"
     },
     "output_type": "display_data"
    }
   ],
   "source": [
    "plt.imshow(s_img, cmap='jet');"
   ]
  },
  {
   "cell_type": "code",
   "execution_count": 896,
   "metadata": {
    "_last_msg_id": "df8d56e5196549ce88a54cc1e1acd37e"
   },
   "outputs": [
    {
     "data": {
      "text/plain": [
       "183"
      ]
     },
     "execution_count": 896,
     "metadata": {},
     "output_type": "execute_result"
    }
   ],
   "source": [
    "(s_img > -1).sum()"
   ]
  },
  {
   "cell_type": "code",
   "execution_count": 897,
   "metadata": {
    "_last_msg_id": "cb8c3e0cb1784875b5c0db967ac64152"
   },
   "outputs": [
    {
     "data": {
      "text/plain": [
       "array([-1.,  0.,  1.,  3.,  4.,  5.])"
      ]
     },
     "execution_count": 897,
     "metadata": {},
     "output_type": "execute_result"
    }
   ],
   "source": [
    "np.unique(s_img)"
   ]
  },
  {
   "cell_type": "code",
   "execution_count": 898,
   "metadata": {
    "_last_msg_id": "953452cf056144ec88d7e12b3629a3e1"
   },
   "outputs": [
    {
     "data": {
      "image/png": "[encoded data removed]",
      "text/plain": [
       "<Figure size 432x288 with 1 Axes>"
      ]
     },
     "metadata": {
      "needs_background": "light"
     },
     "output_type": "display_data"
    }
   ],
   "source": [
    "plt.imshow(s_img == 0);"
   ]
  },
  {
   "cell_type": "code",
   "execution_count": null,
   "metadata": {},
   "outputs": [],
   "source": []
  },
  {
   "cell_type": "code",
   "execution_count": null,
   "metadata": {},
   "outputs": [],
   "source": []
  },
  {
   "cell_type": "code",
   "execution_count": null,
   "metadata": {},
   "outputs": [],
   "source": [
    "#genome = []\n",
    "#for _ in range(1000):\n",
    "#    genome.append(((random.randint(0, s_h-1), random.randint(0, s_w-1)), \n",
    "#                   (random.randint(0, t_h-1), random.randint(0, t_w-1)),\n",
    "#                   random.randint(0, 7)))\n",
    "\n",
    "n = 0\n",
    "for ((s_y, s_x), (t_y, t_x), d8) in genome:\n",
    "    if t_coords[t_y][t_x] is not None:\n",
    "        continue   \n",
    "        \n",
    "    if (s_y, s_x) not in coords:\n",
    "        continue     \n",
    "        \n",
    "    t_coords = d8_transform(t_coords, d8)    \n",
    "    s_idx = coords.index((s_y, s_x))\n",
    "    n += 1\n",
    "    get_blob(s_idx, coords, t_y, t_x, t_coords, n, d8)"
   ]
  }
 ],
 "metadata": {
  "kernelspec": {
   "display_name": "Python 3",
   "language": "python",
   "name": "python3"
  },
  "language_info": {
   "codemirror_mode": {
    "name": "ipython",
    "version": 3
   },
   "file_extension": ".py",
   "mimetype": "text/x-python",
   "name": "python",
   "nbconvert_exporter": "python",
   "pygments_lexer": "ipython3",
   "version": "3.7.4"
  }
 },
 "nbformat": 4,
 "nbformat_minor": 2
}
