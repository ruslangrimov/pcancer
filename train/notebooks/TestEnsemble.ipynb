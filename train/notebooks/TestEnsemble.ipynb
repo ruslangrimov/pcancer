{
 "cells": [
  {
   "cell_type": "code",
   "execution_count": 1,
   "metadata": {
    "_last_msg_id": "a35f76d43f1846b18cb65b4830dec66a"
   },
   "outputs": [],
   "source": [
    "import sys\n",
    "sys.path.append('../..')"
   ]
  },
  {
   "cell_type": "code",
   "execution_count": 2,
   "metadata": {
    "_last_msg_id": "3cd5ea1cf08d4d36976e7263ed815181"
   },
   "outputs": [],
   "source": [
    "import os\n",
    "import importlib\n",
    "import pickle\n",
    "\n",
    "import numpy as np\n",
    "\n",
    "import torch\n",
    "from torch import nn\n",
    "import torch.nn.functional as F\n",
    "\n",
    "from sklearn.metrics import cohen_kappa_score\n",
    "\n",
    "from sklearn.metrics import plot_confusion_matrix, confusion_matrix, ConfusionMatrixDisplay\n",
    "\n",
    "from lib.datasets import get_train_test_img_ids_split, max_lbl_nums, patches_clean90_pkl_path\n",
    "from lib.dataloaders import WSIPatchesDummyDataloader\n",
    "from lib.utils import get_pretrained_model\n",
    "from lib.kappacoefs import OptimizedRounder\n",
    "\n",
    "import matplotlib.pyplot as plt\n",
    "\n",
    "from tqdm.auto import tqdm"
   ]
  },
  {
   "cell_type": "code",
   "execution_count": 40,
   "metadata": {
    "_last_msg_id": "09978e372a044f638fa30a9c46479bbc"
   },
   "outputs": [],
   "source": [
    "# experiments_path = '../../experiments_results/'\n",
    "experiments_path = '/mnt/HDDData/notebooks/pcancer/experiments_results/'\n",
    "exp_subfolder = 'wsi_on_dummy_64x8x8'\n",
    "# bad_qwk_wsi_on_dummy_512x1x1/\n",
    "\n",
    "# train_batch_path = '/mnt/SSDData/pdata/processed/pretrained/train/{}/'\n",
    "# test_batch_path = '/mnt/SSDData/pdata/processed/pretrained/val/'\n",
    "train_batch_path = '/mnt/HDDData/pdata/processed/pretrained_64x8x8/train/{}/'\n",
    "test_batch_path = '/mnt/HDDData/pdata/processed/pretrained_64x8x8/val/'"
   ]
  },
  {
   "cell_type": "code",
   "execution_count": 17,
   "metadata": {
    "_last_msg_id": "3c986962f79d4bc485a3b39c5af8b9d7"
   },
   "outputs": [],
   "source": [
    "val_targets = []\n",
    "val_outputs_reg = []\n",
    "val_outputs_class = []"
   ]
  },
  {
   "cell_type": "code",
   "execution_count": 41,
   "metadata": {
    "_last_msg_id": "b7c98a7505af4d268a8709e25e80f0f6"
   },
   "outputs": [],
   "source": [
    "# Bad WSI\n",
    "experiments = [\n",
    "    '90ep_adam_exp_with_min_v1/version_0', '90ep_adam_exp_with_min_v2/version_0',\n",
    "    '90ep_adam_exp_v1/version_0', '90ep_adam_cos_v1/version_0', \n",
    "    '90ep_adam_cos_an_v2/version_0', '90ep_adam_cos_an_v1/version_0',\n",
    "    # '90ep_sgd_cos_v1/version_0', '90ep_sgd_exp_v1/version_0',\n",
    "    '180ep_adam_exp_v1/version_0', '180ep_adam_exp_v2/version_0',\n",
    "    '450ep_adam_cos_an_v1/version_0'\n",
    "]"
   ]
  },
  {
   "cell_type": "code",
   "execution_count": 42,
   "metadata": {
    "_last_msg_id": "033bf36869684be5886547d313c46b9c"
   },
   "outputs": [],
   "source": [
    "experiments = [\n",
    "'90ep_adam_cos_an_v1/version_0',\n",
    "'90ep_adam_exp_with_min_v1/version_0',\n",
    "'90ep_adam_exp_v1/version_0',\n",
    "'90ep_adam_cos_v1/version_0',\n",
    "'300ep_adam_cos_an_lr150/version_0',\n",
    "'300ep_adam_cos_an_lr125/version_0',\n",
    "'300ep_adam_cos_an_lr080/version_0',\n",
    "'300ep_adam_cos_an_lr100/version_0',]"
   ]
  },
  {
   "cell_type": "code",
   "execution_count": null,
   "metadata": {
    "_last_msg_id": "6626645f4fb64a7985a61559783c56b1"
   },
   "outputs": [],
   "source": [
    "experiments = [f\"{e.split('.')[0]}/version_0\" \n",
    "               for e in os.listdir(f\"../../experiments_configs/{exp_subfolder}\")\n",
    "              #if not e.startswith('_') and e.find('do') == -1]\n",
    "               if (e.startswith('90') or \n",
    "                   e.startswith('300') or\n",
    "                   e.startswith('180') or\n",
    "                  e.startswith('450')) and \n",
    "               e.find('batch') == -1 and \n",
    "               # e.find('resnext') == -1 and\n",
    "               e.find('do') == -1]"
   ]
  },
  {
   "cell_type": "code",
   "execution_count": 9,
   "metadata": {
    "_last_msg_id": "f0458bdb1274496197121c376b25a471"
   },
   "outputs": [
    {
     "data": {
      "text/plain": [
       "['90ep_adam_exp_with_min_v1/version_0',\n",
       " '90ep_adam_exp_v1_grad_acc4/version_0',\n",
       " '90ep_adam_exp_v1/version_0',\n",
       " '90ep_adam_cos_v1/version_0',\n",
       " '90ep_adam_cos_an_v1/version_0']"
      ]
     },
     "execution_count": 9,
     "metadata": {},
     "output_type": "execute_result"
    }
   ],
   "source": [
    "experiments"
   ]
  },
  {
   "cell_type": "code",
   "execution_count": 10,
   "metadata": {
    "_last_msg_id": "c22d6c89def84bdf9b06a6d5a13bb821"
   },
   "outputs": [],
   "source": [
    "with open(patches_clean90_pkl_path, 'rb') as f:\n",
    "    wsi_dict = pickle.load(f)"
   ]
  },
  {
   "cell_type": "code",
   "execution_count": 11,
   "metadata": {
    "_last_msg_id": "f2d5f4d5465b475e82d79c9d36a9234c"
   },
   "outputs": [],
   "source": [
    "yxs_to_image_id = {}\n",
    "for image_id, rows in wsi_dict.items():\n",
    "    ys = []\n",
    "    xs = []\n",
    "    for row in rows:\n",
    "        (_, image_id, data_provider, isup_grade, gleason_score, y, x, *_) = row\n",
    "        ys.append(str(y))\n",
    "        xs.append(str(x))\n",
    "        \n",
    "    key = (','.join(ys[:300])) + ' ' + (','.join(xs[:300]))\n",
    "    \n",
    "    yxs_to_image_id[key] = image_id"
   ]
  },
  {
   "cell_type": "code",
   "execution_count": 12,
   "metadata": {
    "_last_msg_id": "486b2444879945528a7b9ea4cb733697"
   },
   "outputs": [
    {
     "data": {
      "text/plain": [
       "10515"
      ]
     },
     "execution_count": 12,
     "metadata": {},
     "output_type": "execute_result"
    }
   ],
   "source": [
    "len(yxs_to_image_id)"
   ]
  },
  {
   "cell_type": "code",
   "execution_count": 13,
   "metadata": {
    "_last_msg_id": "9027a2ff9b9647308c88104ab7ffc5a8"
   },
   "outputs": [],
   "source": [
    "device = torch.device('cuda:1')"
   ]
  },
  {
   "cell_type": "code",
   "execution_count": 18,
   "metadata": {
    "_last_msg_id": "81b6b5295bca4a56892741eb143e9165",
    "scrolled": true
   },
   "outputs": [
    {
     "data": {
      "application/vnd.jupyter.widget-view+json": {
       "model_id": "c2feecdc539b4c3280a0e77b7e6e5f18",
       "version_major": 2,
       "version_minor": 0
      },
      "text/plain": [
       "HBox(children=(FloatProgress(value=0.0, max=5.0), HTML(value='')))"
      ]
     },
     "metadata": {},
     "output_type": "display_data"
    },
    {
     "name": "stdout",
     "output_type": "stream",
     "text": [
      "\n"
     ]
    }
   ],
   "source": [
    "for experiment_path in tqdm(experiments):\n",
    "    #try:\n",
    "    exp_name = experiment_path.split('/')[0]\n",
    "\n",
    "    echeckpoint_path = os.path.join(experiments_path, exp_subfolder, \n",
    "                                    experiment_path, 'checkpoints', 'last.ckpt')\n",
    "\n",
    "    \n",
    "    e_mod = importlib.import_module(f'experiments_configs.{exp_subfolder}.{exp_name}')\n",
    "    hparams = e_mod.get_hrapams()\n",
    "\n",
    "    model_cfg = hparams['module']['params']['model']\n",
    "\n",
    "    model = get_pretrained_model(model_cfg['name'], model_cfg['params'], \n",
    "                                 echeckpoint_path, device, False)\n",
    "\n",
    "    val_loader = WSIPatchesDummyDataloader(test_batch_path,\n",
    "                                           precalc_epochs=hparams['dataset']['precalc_epochs'],\n",
    "                                           shuffle=False)    \n",
    "\n",
    "    if hasattr(e_mod, 'd'):\n",
    "        importlib.reload(e_mod.d)\n",
    "    \n",
    "    model.eval()\n",
    "\n",
    "    targets = []\n",
    "    outputs_reg = []\n",
    "    outputs_class = []\n",
    "\n",
    "    with torch.no_grad():\n",
    "        for features, ys, xs, provider, target, gleason_score in val_loader:\n",
    "            b = features.shape[0]\n",
    "\n",
    "            features, target = features.to(device), target.to(device)\n",
    "            target = target.float()\n",
    "\n",
    "            output_reg, output_class = model(features, ys, xs)\n",
    "            output_reg = torch.sigmoid(output_reg) * max_lbl_nums - 0.5\n",
    "            output_class = F.softmax(output_class, dim=-1)\n",
    "\n",
    "            targets.append(target)\n",
    "            outputs_reg.append(output_reg)\n",
    "            outputs_class.append(output_class)            \n",
    "\n",
    "    del model        \n",
    "\n",
    "    val_targets.append(torch.cat(targets).cpu().numpy())\n",
    "    val_outputs_reg.append(torch.cat(outputs_reg).cpu().numpy())\n",
    "    val_outputs_class.append(torch.cat(outputs_class).cpu().numpy()) \n",
    "    #except:\n",
    "    #    print(f\"Error {experiment_path}\")"
   ]
  },
  {
   "cell_type": "code",
   "execution_count": 19,
   "metadata": {
    "_last_msg_id": "9039f83506984c6983731d203d870ec1"
   },
   "outputs": [],
   "source": [
    "np_val_targets = np.stack(val_targets)\n",
    "np_val_outputs_reg = np.stack(val_outputs_reg)[..., 0]\n",
    "np_val_outputs_class = np.stack(val_outputs_class)"
   ]
  },
  {
   "cell_type": "code",
   "execution_count": null,
   "metadata": {},
   "outputs": [],
   "source": []
  },
  {
   "cell_type": "code",
   "execution_count": 20,
   "metadata": {
    "_last_msg_id": "405f61f2e2ce4d9d9fc1f75cb83fbbcb"
   },
   "outputs": [],
   "source": [
    "providers = []\n",
    "yss = []\n",
    "xss = []\n",
    "for features, ys, xs, provider, target, gleason_score in val_loader:\n",
    "    providers.append(provider)\n",
    "    yss.append(ys)\n",
    "    xss.append(xs)\n",
    "    \n",
    "providers = torch.cat(providers).cpu().numpy()\n",
    "yss = torch.cat(yss).cpu().numpy()\n",
    "xss = torch.cat(xss).cpu().numpy()"
   ]
  },
  {
   "cell_type": "code",
   "execution_count": 21,
   "metadata": {
    "_last_msg_id": "ccd2b195f7194f2a84eddd42a237eaf3"
   },
   "outputs": [],
   "source": [
    "val_image_ids = []\n",
    "for n in range(len(yss)):\n",
    "    key = ((','.join([str(c) for c in yss[n][yss[n] != -1].tolist()])) + ' ' + \n",
    "           (','.join([str(c) for c in xss[n][xss[n] != -1].tolist()])))\n",
    "    \n",
    "    val_image_ids.append(yxs_to_image_id[key])"
   ]
  },
  {
   "cell_type": "code",
   "execution_count": 22,
   "metadata": {
    "_last_msg_id": "941101f3c2ba4036bcdff46bc5270c83"
   },
   "outputs": [
    {
     "data": {
      "text/plain": [
       "['375b2c9501320b35ceb638a3274812aa',\n",
       " 'e4e49a91640feea58d109aff11df4197',\n",
       " '5b003d43ec0ce5979062442486f84cf7',\n",
       " '9b2948ff81b64677a1a152a1532c1a50']"
      ]
     },
     "execution_count": 22,
     "metadata": {},
     "output_type": "execute_result"
    }
   ],
   "source": [
    "val_image_ids[:4]"
   ]
  },
  {
   "cell_type": "code",
   "execution_count": 23,
   "metadata": {
    "_last_msg_id": "cfe25059a2444ddd8efb35c690d7d276"
   },
   "outputs": [],
   "source": [
    "import pandas as pd"
   ]
  },
  {
   "cell_type": "code",
   "execution_count": 24,
   "metadata": {
    "_last_msg_id": "f110301ba49349ae878727962d350dd7"
   },
   "outputs": [],
   "source": [
    "susp_image_ids_df = pd.read_csv('/mnt/SSDData/pdata/processed/PANDA_Suspicious_Slides.csv')"
   ]
  },
  {
   "cell_type": "code",
   "execution_count": 25,
   "metadata": {
    "_last_msg_id": "8fed754a7bd14562835deb4aac5f26bd"
   },
   "outputs": [],
   "source": [
    "susp_val = np.isin(val_image_ids, susp_image_ids_df[susp_image_ids_df['reason'] != 'marks']['image_id'].values)"
   ]
  },
  {
   "cell_type": "code",
   "execution_count": 26,
   "metadata": {
    "_last_msg_id": "97bbae2e2d1647268dddaba4befbcbf2"
   },
   "outputs": [
    {
     "data": {
      "text/plain": [
       "18"
      ]
     },
     "execution_count": 26,
     "metadata": {},
     "output_type": "execute_result"
    }
   ],
   "source": [
    "susp_val.sum()"
   ]
  },
  {
   "cell_type": "code",
   "execution_count": 27,
   "metadata": {
    "_last_msg_id": "944d8852415849c4aae9ed7bf6dc4014",
    "scrolled": true
   },
   "outputs": [
    {
     "name": "stdout",
     "output_type": "stream",
     "text": [
      "0.8673845038721245 0.7277777777777777 0.8458332791901297 0.7361111111111112\n",
      "0.8645448276191583 0.7212962962962963 0.8416272785521269 0.7333333333333333\n",
      "0.8618703522489298 0.7111111111111111 0.8356219703030423 0.7324074074074074\n",
      "0.8628852689558186 0.7287037037037037 0.8452008676296018 0.7453703703703703\n",
      "0.8671560943053593 0.7166666666666667 0.8464714365029977 0.7425925925925926\n"
     ]
    }
   ],
   "source": [
    "p = 1\n",
    "for val_output_reg, val_output_class, val_target in zip(np_val_outputs_reg, np_val_outputs_class, np_val_targets):\n",
    "    idxs = (providers==p) & ~susp_val\n",
    "    val_output_reg = np.clip(val_output_reg.round(), -0.5, 5.5)[idxs]\n",
    "    val_output_class = val_output_class.argmax(-1)[idxs]\n",
    "    val_target = val_target[idxs]\n",
    "    \n",
    "    #arr = np.arange((val_output_class != val_target).sum())\n",
    "    #np.random.shuffle(arr)\n",
    "    \n",
    "    # val_output_class[arr[:520]] = val_target[arr[:520]]\n",
    "    #w_idxs = val_output_class != val_target\n",
    "    #w_idxs[690:] = False\n",
    "    #val_output_reg[w_idxs] = val_target[w_idxs]\n",
    "    #val_output_class[w_idxs] = val_target[w_idxs]\n",
    "    \n",
    "    qwk_reg = cohen_kappa_score(val_output_reg, val_target, weights=\"quadratic\")\n",
    "    acc_reg = (val_output_reg == val_target).mean()\n",
    "    \n",
    "    qwk_class = cohen_kappa_score(val_output_class, val_target, weights=\"quadratic\")\n",
    "    acc_class = (val_output_class == val_target).mean()    \n",
    "    print(qwk_reg, acc_reg, qwk_class, acc_class)"
   ]
  },
  {
   "cell_type": "code",
   "execution_count": 28,
   "metadata": {
    "_last_msg_id": "1fdae8da6bea41468037e7b01089aea3"
   },
   "outputs": [],
   "source": [
    "# w_idxs.sum()"
   ]
  },
  {
   "cell_type": "code",
   "execution_count": 29,
   "metadata": {
    "_last_msg_id": "8aee18e0e62a4415b81e7a154a7df3f9"
   },
   "outputs": [],
   "source": [
    "lbl = 0"
   ]
  },
  {
   "cell_type": "code",
   "execution_count": null,
   "metadata": {},
   "outputs": [],
   "source": []
  },
  {
   "cell_type": "code",
   "execution_count": 30,
   "metadata": {
    "_last_msg_id": "6dc3895b1dcd4f959b8f6a799d4e0005"
   },
   "outputs": [
    {
     "name": "stdout",
     "output_type": "stream",
     "text": [
      "0.869476782184122 0.62782859894078 0.8595608050482554 0.6961964371689937\n",
      "0.8710326919200819 0.6268656716417911 0.8542694874996598 0.6812710640346654\n",
      "0.8681516768267711 0.6283100625902744 0.8496224104284746 0.6894559460760713\n",
      "0.8674885530003604 0.6364949446316803 0.8525049867435881 0.6981222917669716\n",
      "0.8785356601984006 0.6422725084256139 0.8633280840837068 0.698603755416466\n"
     ]
    }
   ],
   "source": [
    "for val_output_reg, val_output_class, val_target in zip(np_val_outputs_reg, np_val_outputs_class, np_val_targets):\n",
    "    idxs = np.ones(val_target.shape[0], dtype=np.bool) & ~susp_val\n",
    "    val_output_reg = np.clip(val_output_reg.round(), -0.5, 5.5)[idxs]\n",
    "    val_output_class = val_output_class.argmax(-1)[idxs]\n",
    "    val_target  = val_target[idxs]\n",
    "    \n",
    "    qwk_reg = cohen_kappa_score(val_output_reg, val_target, weights=\"quadratic\")\n",
    "    acc_reg = (val_output_reg == val_target).mean()\n",
    "    \n",
    "    qwk_class = cohen_kappa_score(val_output_class, val_target, weights=\"quadratic\")\n",
    "    acc_class = (val_output_class == val_target).mean()    \n",
    "    print(qwk_reg, acc_reg, qwk_class, acc_class)"
   ]
  },
  {
   "cell_type": "code",
   "execution_count": 31,
   "metadata": {
    "_last_msg_id": "36d19883067e4af49cc0cbf001c6005f"
   },
   "outputs": [],
   "source": [
    "lbl = 0"
   ]
  },
  {
   "cell_type": "code",
   "execution_count": 32,
   "metadata": {
    "_last_msg_id": "7ad71b61e9da46c190342366f53a8e46"
   },
   "outputs": [
    {
     "data": {
      "text/plain": [
       "0.9552238805970149"
      ]
     },
     "execution_count": 32,
     "metadata": {},
     "output_type": "execute_result"
    }
   ],
   "source": [
    "((val_output_class == lbl) == (val_target == lbl)).mean()"
   ]
  },
  {
   "cell_type": "code",
   "execution_count": 33,
   "metadata": {
    "_last_msg_id": "9e3e8d96b33341738ad5394b05246b70"
   },
   "outputs": [
    {
     "data": {
      "text/plain": [
       "0.9364467982667308"
      ]
     },
     "execution_count": 33,
     "metadata": {},
     "output_type": "execute_result"
    }
   ],
   "source": [
    "((val_output_reg == lbl) == (val_target == lbl)).mean()"
   ]
  },
  {
   "cell_type": "code",
   "execution_count": null,
   "metadata": {},
   "outputs": [],
   "source": []
  },
  {
   "cell_type": "code",
   "execution_count": null,
   "metadata": {},
   "outputs": [],
   "source": []
  },
  {
   "cell_type": "code",
   "execution_count": 34,
   "metadata": {
    "_last_msg_id": "b12dc1a742f14c878857dd3fc23fa630"
   },
   "outputs": [],
   "source": [
    "p = 1\n",
    "idxs = (providers==p) & ~susp_val\n",
    "val_target = np_val_targets[0]\n",
    "val_output = np_val_outputs_reg[:].mean(axis=0)\n",
    "val_output_raw = val_output.copy()\n",
    "val_output = np.clip(val_output.round(), -0.5, 5.5)\n",
    "qwk_reg = cohen_kappa_score(val_target[idxs], val_output[idxs], weights=\"quadratic\")"
   ]
  },
  {
   "cell_type": "code",
   "execution_count": 35,
   "metadata": {
    "_last_msg_id": "8b1291c4fd574210817841ca367ab3f9"
   },
   "outputs": [
    {
     "data": {
      "text/plain": [
       "0.870819968146083"
      ]
     },
     "execution_count": 35,
     "metadata": {},
     "output_type": "execute_result"
    }
   ],
   "source": [
    "qwk_reg"
   ]
  },
  {
   "cell_type": "code",
   "execution_count": null,
   "metadata": {},
   "outputs": [],
   "source": []
  },
  {
   "cell_type": "code",
   "execution_count": 36,
   "metadata": {
    "_last_msg_id": "c8732754de1a428587fa8269d55d5bfa"
   },
   "outputs": [],
   "source": [
    "val_target = np_val_targets[0]\n",
    "val_output = np_val_outputs_reg[:].mean(axis=0)\n",
    "val_output_raw = val_output.copy()\n",
    "val_output = np.clip(val_output.round(), -0.5, 5.5)\n",
    "qwk_reg = cohen_kappa_score(val_target, val_output, weights=\"quadratic\")"
   ]
  },
  {
   "cell_type": "code",
   "execution_count": 37,
   "metadata": {
    "_last_msg_id": "6286ae5f5ccd453e8839e8d150877f23"
   },
   "outputs": [
    {
     "data": {
      "text/plain": [
       "0.8645876502695777"
      ]
     },
     "execution_count": 37,
     "metadata": {},
     "output_type": "execute_result"
    }
   ],
   "source": [
    "qwk_reg"
   ]
  },
  {
   "cell_type": "code",
   "execution_count": 38,
   "metadata": {
    "_last_msg_id": "79c2214504eb4e658e1489973ecedf7c"
   },
   "outputs": [],
   "source": [
    "val_target = np_val_targets[0]\n",
    "val_output = np_val_outputs_reg[:].mean(axis=0)\n",
    "val_output_raw = val_output.copy()\n",
    "val_output = np.clip(val_output.round(), -0.5, 5.5)\n",
    "qwk_reg = cohen_kappa_score(val_target[~susp_val], val_output[~susp_val], weights=\"quadratic\")"
   ]
  },
  {
   "cell_type": "code",
   "execution_count": 39,
   "metadata": {
    "_last_msg_id": "8e13dd75216242fba85f8f01fcc845f5"
   },
   "outputs": [
    {
     "data": {
      "text/plain": [
       "0.8764893263208833"
      ]
     },
     "execution_count": 39,
     "metadata": {},
     "output_type": "execute_result"
    }
   ],
   "source": [
    "qwk_reg"
   ]
  },
  {
   "cell_type": "code",
   "execution_count": null,
   "metadata": {},
   "outputs": [],
   "source": []
  },
  {
   "cell_type": "code",
   "execution_count": 76,
   "metadata": {
    "_last_msg_id": "6e1bc0fafa4d4e7d8364f579991f8cb5"
   },
   "outputs": [],
   "source": [
    "optimized_rounder = OptimizedRounder()"
   ]
  },
  {
   "cell_type": "code",
   "execution_count": 77,
   "metadata": {
    "_last_msg_id": "8442aa3770b849d48d638625d246bd99",
    "scrolled": true
   },
   "outputs": [],
   "source": [
    "optimized_rounder.fit(val_output_raw[~susp_val], val_target[~susp_val])"
   ]
  },
  {
   "cell_type": "code",
   "execution_count": 78,
   "metadata": {
    "_last_msg_id": "47841a576607422ebc4d20b3a2ae8427"
   },
   "outputs": [
    {
     "data": {
      "text/plain": [
       "array([0.50939092, 1.65725755, 2.35192337, 3.35145924, 4.17272064])"
      ]
     },
     "execution_count": 78,
     "metadata": {},
     "output_type": "execute_result"
    }
   ],
   "source": [
    "# 0 - array([0.57281728, 1.50037176, 2.38909082, 3.42044636, 4.17974069])\n",
    "# 1 - array([0.52981011, 1.44531919, 2.38075203, 3.56832626, 4.45295682])\n",
    "optimized_rounder.coefficients()"
   ]
  },
  {
   "cell_type": "code",
   "execution_count": 85,
   "metadata": {
    "_last_msg_id": "845723e4bf02434986a17490b8369a5c"
   },
   "outputs": [],
   "source": [
    "val_output2 = optimized_rounder.predict(val_output_raw, old_coefs)\n",
    "# val_output2 = optimized_rounder.predict(val_output_raw, optimized_rounder.coefficients())"
   ]
  },
  {
   "cell_type": "code",
   "execution_count": 86,
   "metadata": {
    "_last_msg_id": "3eacc8525976480aa60db5ceed43ac01"
   },
   "outputs": [
    {
     "data": {
      "text/plain": [
       "0.8964139099949694"
      ]
     },
     "execution_count": 86,
     "metadata": {},
     "output_type": "execute_result"
    }
   ],
   "source": [
    "cohen_kappa_score(val_target[~susp_val], val_output2[~susp_val], weights=\"quadratic\")"
   ]
  },
  {
   "cell_type": "code",
   "execution_count": null,
   "metadata": {},
   "outputs": [],
   "source": []
  },
  {
   "cell_type": "code",
   "execution_count": 482,
   "metadata": {
    "_last_msg_id": "87a982cd218745098a850c81fe7ecf36"
   },
   "outputs": [
    {
     "data": {
      "text/plain": [
       "0.876489613405978"
      ]
     },
     "execution_count": 482,
     "metadata": {},
     "output_type": "execute_result"
    }
   ],
   "source": [
    "# !!! Это максимум !!! На валидации обучался !!!\n",
    "cohen_kappa_score(val_target[providers==p], val_output2[providers==p], weights=\"quadratic\")"
   ]
  },
  {
   "cell_type": "code",
   "execution_count": 486,
   "metadata": {
    "_last_msg_id": "3c0add088957445f818c8d937c30d53b"
   },
   "outputs": [],
   "source": [
    "val_output01 = val_output2.copy()"
   ]
  },
  {
   "cell_type": "code",
   "execution_count": 487,
   "metadata": {
    "_last_msg_id": "00f4782ba9e7482db3d4c07f57e15cb6"
   },
   "outputs": [],
   "source": [
    "p = 0\n",
    "val_output01[providers==p] = optimized_rounder.predict(val_output_raw[providers==p], \n",
    "                                                      np.array([0.57281728, 1.50037176, 2.38909082, 3.42044636, 4.17974069]))\n",
    "p = 1\n",
    "val_output01[providers==p] = optimized_rounder.predict(val_output_raw[providers==p], \n",
    "                                                      np.array([0.52981011, 1.44531919, 2.38075203, 3.56832626, 4.45295682]))"
   ]
  },
  {
   "cell_type": "code",
   "execution_count": 488,
   "metadata": {
    "_last_msg_id": "4b98514e9cf1458f89b81450da64f5fb"
   },
   "outputs": [
    {
     "data": {
      "text/plain": [
       "0.8851264287913517"
      ]
     },
     "execution_count": 488,
     "metadata": {},
     "output_type": "execute_result"
    }
   ],
   "source": [
    "cohen_kappa_score(val_target, val_output01, weights=\"quadratic\")"
   ]
  },
  {
   "cell_type": "code",
   "execution_count": null,
   "metadata": {},
   "outputs": [],
   "source": []
  },
  {
   "cell_type": "code",
   "execution_count": null,
   "metadata": {},
   "outputs": [],
   "source": []
  },
  {
   "cell_type": "code",
   "execution_count": 443,
   "metadata": {
    "_last_msg_id": "b5cbe773d50947feb2288a45801111ec"
   },
   "outputs": [
    {
     "data": {
      "text/plain": [
       "0.8798580508889466"
      ]
     },
     "execution_count": 443,
     "metadata": {},
     "output_type": "execute_result"
    }
   ],
   "source": [
    "# !!! Это на старых !!!\n",
    "cohen_kappa_score(val_target, val_output2, weights=\"quadratic\")"
   ]
  },
  {
   "cell_type": "code",
   "execution_count": 330,
   "metadata": {
    "_last_msg_id": "9444cb45b6a04e4791b64ef308c28c00"
   },
   "outputs": [
    {
     "data": {
      "text/plain": [
       "0.884086056976147"
      ]
     },
     "execution_count": 330,
     "metadata": {},
     "output_type": "execute_result"
    }
   ],
   "source": []
  },
  {
   "cell_type": "code",
   "execution_count": 83,
   "metadata": {
    "_last_msg_id": "e7adc683e54a4e1b8f228ae8fef0a298"
   },
   "outputs": [],
   "source": [
    "old_coefs =\\\n",
    "np.array(\n",
    "[[0.54569598, 1.62824866, 2.35215448, 3.27274745, 4.14168655],\n",
    " [0.55146103, 1.54651653, 2.41228703, 3.2341663,  4.18983145],\n",
    " [0.52759456, 1.66193384, 2.42119538, 3.22981731, 4.1679057 ],\n",
    " [0.50560013, 1.66279228, 2.48869419, 3.20977081, 4.21148184],\n",
    " [0.59420817, 1.58363668, 2.40486243, 3.21171697, 4.22344555],\n",
    " [0.55964892, 1.58687257, 2.42119557, 3.20594279, 4.20727218],\n",
    " [0.52965801, 1.62990205, 2.56598612, 3.18684522, 4.0254026 ],\n",
    " [0.56310764, 1.63544987, 2.44483939, 3.12796843, 4.08308392],\n",
    " [0.54240544, 1.61370524, 2.52179569, 3.2963418,  4.09494376], \n",
    " [0.55924867, 1.64874465, 2.49730719, 3.25221745, 4.15355419]]).mean(axis=0)"
   ]
  },
  {
   "cell_type": "code",
   "execution_count": 84,
   "metadata": {
    "_last_msg_id": "41b2bb7547bd4ef18d2a6713e580cb8b"
   },
   "outputs": [
    {
     "data": {
      "text/plain": [
       "array([0.54786285, 1.61978024, 2.45303175, 3.22275345, 4.14986077])"
      ]
     },
     "execution_count": 84,
     "metadata": {},
     "output_type": "execute_result"
    }
   ],
   "source": [
    "old_coefs"
   ]
  },
  {
   "cell_type": "code",
   "execution_count": 261,
   "metadata": {
    "_last_msg_id": "b7f44017a0854170bd2d67443a5cd0b2"
   },
   "outputs": [],
   "source": [
    "# val_output[((val_output == 0) & (val_target > 1))] = 4\n",
    "# val_output[((val_output == 5) & (val_target < 5))] = 4"
   ]
  },
  {
   "cell_type": "code",
   "execution_count": 639,
   "metadata": {
    "_last_msg_id": "64224113908043aba51027461e07d718"
   },
   "outputs": [],
   "source": [
    "strange_idx = ((val_output == 0) & (val_target > 1))"
   ]
  },
  {
   "cell_type": "code",
   "execution_count": 759,
   "metadata": {
    "_last_msg_id": "52bb7cebf7a4402387282a49f47ab75a"
   },
   "outputs": [
    {
     "data": {
      "text/plain": [
       "18"
      ]
     },
     "execution_count": 759,
     "metadata": {},
     "output_type": "execute_result"
    }
   ],
   "source": [
    "strange_idx.sum()"
   ]
  },
  {
   "cell_type": "code",
   "execution_count": 774,
   "metadata": {
    "_last_msg_id": "92c08a16d0e34a84b97dc75567812881"
   },
   "outputs": [
    {
     "data": {
      "text/plain": [
       "array(['158754df49e00760f8e4659a05e7cc0c',\n",
       "       '7e7e6dac3271a6cad2744ae393328a36',\n",
       "       '8d9e28e97edc6598da7df0b5b7c098d6',\n",
       "       '2ce127e7731155d1373bfbd0abdc368b',\n",
       "       '44f60ac5d5d82e5c72d077e50701863d'], dtype='<U32')"
      ]
     },
     "execution_count": 774,
     "metadata": {},
     "output_type": "execute_result"
    }
   ],
   "source": [
    "np.array(val_image_ids)[strange_idx & susp_val]"
   ]
  },
  {
   "cell_type": "code",
   "execution_count": 775,
   "metadata": {
    "_last_msg_id": "e4006f13a10a4d0194fb580653fd4b1e"
   },
   "outputs": [
    {
     "data": {
      "text/plain": [
       "array(['ec382d53fa1973de25c35af7af550aff',\n",
       "       '07a7ef0ba3bb0d6564a73f4f3e1c2293',\n",
       "       'e919022fbfe7c9ff599a866aa0be352f',\n",
       "       'f187290ba0d588d11f47467ec93ce202',\n",
       "       'f19fe3c267aa523b6b96393d698ab273',\n",
       "       '979eda484717cd406350e95df7862329',\n",
       "       '2464608febcd797682b2392b5badbc2d',\n",
       "       'dc60380b0dba9d1876e40f0b53ec484b',\n",
       "       '741f6260e0f75b64a72e9a905003c29d',\n",
       "       '7f50cd92c0f5cca94434fc6165354acd',\n",
       "       '9aea86aa9b34cebb8bbc0db42d6c7559',\n",
       "       'af2e93677f85a4ff065cfd55c279793d',\n",
       "       '0bd0a172d1f92a1c8bb43585affe0648'], dtype='<U32')"
      ]
     },
     "execution_count": 775,
     "metadata": {},
     "output_type": "execute_result"
    }
   ],
   "source": [
    "np.array(val_image_ids)[strange_idx & ~susp_val]"
   ]
  },
  {
   "cell_type": "code",
   "execution_count": null,
   "metadata": {
    "_last_msg_id": "d18ba97aa94e46ff9a0f1e9af28d1f08"
   },
   "outputs": [],
   "source": [
    "val_output_raw[strange_idx & ~susp_val]"
   ]
  },
  {
   "cell_type": "code",
   "execution_count": null,
   "metadata": {},
   "outputs": [],
   "source": []
  },
  {
   "cell_type": "code",
   "execution_count": 757,
   "metadata": {
    "_last_msg_id": "e6e3f2d7a473457aa6d554d6302c6d74"
   },
   "outputs": [],
   "source": [
    "# val_target[strange_idx]"
   ]
  },
  {
   "cell_type": "code",
   "execution_count": 756,
   "metadata": {
    "_last_msg_id": "b2c1a4c3ed2d43c49833cf1d623fab26"
   },
   "outputs": [],
   "source": [
    "# np.clip(np_val_outputs[:, strange_idx].round(), -0.5, 5.5)"
   ]
  },
  {
   "cell_type": "code",
   "execution_count": null,
   "metadata": {},
   "outputs": [],
   "source": []
  },
  {
   "cell_type": "code",
   "execution_count": 247,
   "metadata": {
    "_last_msg_id": "def7884769054a768eae879f3c61ac70"
   },
   "outputs": [],
   "source": [
    "th = 1.0\n",
    "dif_idx_mask = dif_idx > th"
   ]
  },
  {
   "cell_type": "code",
   "execution_count": 248,
   "metadata": {
    "_last_msg_id": "0e8099e26d6e4ea48d990269b9867be1"
   },
   "outputs": [
    {
     "data": {
      "text/plain": [
       "18"
      ]
     },
     "execution_count": 248,
     "metadata": {},
     "output_type": "execute_result"
    }
   ],
   "source": [
    "dif_idx_mask.sum()"
   ]
  },
  {
   "cell_type": "code",
   "execution_count": 249,
   "metadata": {
    "_last_msg_id": "526ff851a7d8442a8918a31ae60cafa4"
   },
   "outputs": [
    {
     "data": {
      "text/plain": [
       "0.05555555555555555"
      ]
     },
     "execution_count": 249,
     "metadata": {},
     "output_type": "execute_result"
    }
   ],
   "source": [
    "(val_output[dif_idx_mask] == val_target[dif_idx_mask]).mean()"
   ]
  },
  {
   "cell_type": "code",
   "execution_count": null,
   "metadata": {},
   "outputs": [],
   "source": [
    "cohen_kappa_score(val_target[dif_idx_mask], val_output[dif_idx_mask], weights=\"quadratic\")"
   ]
  },
  {
   "cell_type": "code",
   "execution_count": 255,
   "metadata": {
    "_last_msg_id": "0c664d300bd84f0f8ca2db963b9a2a2a"
   },
   "outputs": [],
   "source": [
    "val_output[dif_idx_mask] = val_target[dif_idx_mask]"
   ]
  },
  {
   "cell_type": "code",
   "execution_count": 37,
   "metadata": {
    "_last_msg_id": "69c7107af01d439f810a8dd43c39cc12"
   },
   "outputs": [],
   "source": [
    "qwk_reg = cohen_kappa_score(val_target, val_output, weights=\"quadratic\")"
   ]
  },
  {
   "cell_type": "code",
   "execution_count": 38,
   "metadata": {
    "_last_msg_id": "31ed54f02b1d4cd6b3c3c95534442ba7"
   },
   "outputs": [
    {
     "data": {
      "text/plain": [
       "0.8812285676128291"
      ]
     },
     "execution_count": 38,
     "metadata": {},
     "output_type": "execute_result"
    }
   ],
   "source": [
    "qwk_reg"
   ]
  },
  {
   "cell_type": "code",
   "execution_count": 89,
   "metadata": {
    "_last_msg_id": "70767ef43886447f8cdaec028249a2fc"
   },
   "outputs": [],
   "source": [
    "cm = confusion_matrix(val_target, val_output)\n",
    "cmd = ConfusionMatrixDisplay(cm, display_labels=[f'grade{n}' for n in range(max_lbl_nums)])"
   ]
  },
  {
   "cell_type": "code",
   "execution_count": 90,
   "metadata": {
    "_last_msg_id": "3dc32222609b4d998951199f912b1a25"
   },
   "outputs": [
    {
     "data": {
      "image/png": "[encoded data removed]",
      "text/plain": [
       "<Figure size 432x288 with 2 Axes>"
      ]
     },
     "metadata": {
      "needs_background": "light"
     },
     "output_type": "display_data"
    }
   ],
   "source": [
    "cmd.plot(values_format='d');"
   ]
  },
  {
   "cell_type": "code",
   "execution_count": 87,
   "metadata": {
    "_last_msg_id": "ea3759999e97421cb43ffa299a196658"
   },
   "outputs": [],
   "source": [
    "cm = confusion_matrix(val_target[~susp_val], val_output[~susp_val])\n",
    "cmd = ConfusionMatrixDisplay(cm, display_labels=[f'grade{n}' for n in range(max_lbl_nums)])"
   ]
  },
  {
   "cell_type": "code",
   "execution_count": 88,
   "metadata": {
    "_last_msg_id": "bc9f35acdc93471a8466cd6b7cb97da1"
   },
   "outputs": [
    {
     "data": {
      "image/png": "[encoded data removed]",
      "text/plain": [
       "<Figure size 432x288 with 2 Axes>"
      ]
     },
     "metadata": {
      "needs_background": "light"
     },
     "output_type": "display_data"
    }
   ],
   "source": [
    "cmd.plot(values_format='d');"
   ]
  },
  {
   "cell_type": "code",
   "execution_count": 91,
   "metadata": {
    "_last_msg_id": "23482988bf4c418b8ab81c6751d0b264"
   },
   "outputs": [],
   "source": [
    "cm = confusion_matrix(val_target, val_output2)\n",
    "cmd = ConfusionMatrixDisplay(cm, display_labels=[f'grade{n}' for n in range(max_lbl_nums)])"
   ]
  },
  {
   "cell_type": "code",
   "execution_count": 92,
   "metadata": {
    "_last_msg_id": "62bb16f622d04d55bd699c85d6364a0b"
   },
   "outputs": [
    {
     "data": {
      "image/png": "[encoded data removed]",
      "text/plain": [
       "<Figure size 432x288 with 2 Axes>"
      ]
     },
     "metadata": {
      "needs_background": "light"
     },
     "output_type": "display_data"
    }
   ],
   "source": [
    "cmd.plot(values_format='d');"
   ]
  },
  {
   "cell_type": "code",
   "execution_count": 93,
   "metadata": {
    "_last_msg_id": "77ef1bb96a4c4e798403c01ca50a7eb5"
   },
   "outputs": [],
   "source": [
    "cm = confusion_matrix(val_target[~susp_val], val_output2[~susp_val])\n",
    "cmd = ConfusionMatrixDisplay(cm, display_labels=[f'grade{n}' for n in range(max_lbl_nums)])"
   ]
  },
  {
   "cell_type": "code",
   "execution_count": 94,
   "metadata": {
    "_last_msg_id": "e25fe1652af64b138a2d1b62b541d095"
   },
   "outputs": [
    {
     "data": {
      "image/png": "[encoded data removed]",
      "text/plain": [
       "<Figure size 432x288 with 2 Axes>"
      ]
     },
     "metadata": {
      "needs_background": "light"
     },
     "output_type": "display_data"
    }
   ],
   "source": [
    "cmd.plot(values_format='d');"
   ]
  },
  {
   "cell_type": "code",
   "execution_count": null,
   "metadata": {},
   "outputs": [],
   "source": []
  },
  {
   "cell_type": "code",
   "execution_count": 96,
   "metadata": {
    "_last_msg_id": "f4510a8f077e40b1bbc27d44ad12b368"
   },
   "outputs": [],
   "source": [
    "tmp = np_val_outputs_reg"
   ]
  },
  {
   "cell_type": "code",
   "execution_count": 97,
   "metadata": {
    "_last_msg_id": "687ccec3e9914abdbbd303a8e73f02ab"
   },
   "outputs": [
    {
     "data": {
      "text/plain": [
       "(31, 2095)"
      ]
     },
     "execution_count": 97,
     "metadata": {},
     "output_type": "execute_result"
    }
   ],
   "source": [
    "tmp.shape"
   ]
  },
  {
   "cell_type": "code",
   "execution_count": 98,
   "metadata": {
    "_last_msg_id": "a8810dbb53ed41ed8251d7a3e0f4427d"
   },
   "outputs": [],
   "source": [
    "dif_idx = np.abs((tmp[:, None, :] - tmp[None, :, :])).mean(axis=(0,1))"
   ]
  },
  {
   "cell_type": "code",
   "execution_count": 99,
   "metadata": {
    "_last_msg_id": "d2e51f24c69244178cadc9b816389711"
   },
   "outputs": [
    {
     "data": {
      "image/png": "[encoded data removed]",
      "text/plain": [
       "<Figure size 432x288 with 1 Axes>"
      ]
     },
     "metadata": {
      "needs_background": "light"
     },
     "output_type": "display_data"
    }
   ],
   "source": [
    "plt.hist(dif_idx, bins=100);"
   ]
  },
  {
   "cell_type": "code",
   "execution_count": null,
   "metadata": {},
   "outputs": [],
   "source": []
  },
  {
   "cell_type": "code",
   "execution_count": 57,
   "metadata": {
    "_last_msg_id": "24652c32c2c5463a8b3a9bf5135f760f"
   },
   "outputs": [],
   "source": [
    "mean_qwk_regs = []\n",
    "real_qwk_regs = []\n",
    "\n",
    "for n in range(len(np_val_outputs)):\n",
    "    val_output, val_target = np_val_outputs[n], np_val_targets[n]\n",
    "    val_output = np.clip(val_output.round(), -0.5, 5.5)\n",
    "\n",
    "    real_qwk_regs.append(cohen_kappa_score(val_output, val_target, weights=\"quadratic\"))\n",
    "\n",
    "    qwk_regs = []\n",
    "    for b in range(0, len(val_output), 64):\n",
    "        qwk_reg = cohen_kappa_score(val_output[b:b+64], val_target[b:b+64], weights=\"quadratic\")\n",
    "        qwk_regs.append(qwk_reg)\n",
    "        # print(qwk_reg)\n",
    "\n",
    "    mean_qwk_regs.append(sum(qwk_regs) / len(qwk_regs))"
   ]
  },
  {
   "cell_type": "code",
   "execution_count": 58,
   "metadata": {
    "_last_msg_id": "b5a4a09a00214b3b8df72a9b36e768d2"
   },
   "outputs": [
    {
     "data": {
      "text/plain": [
       "0.8478560161334803"
      ]
     },
     "execution_count": 58,
     "metadata": {},
     "output_type": "execute_result"
    }
   ],
   "source": [
    "mean_qwk_regs[0]"
   ]
  },
  {
   "cell_type": "code",
   "execution_count": 59,
   "metadata": {
    "_last_msg_id": "54f0c51f918049ee98e62d304c8a7dc3"
   },
   "outputs": [
    {
     "data": {
      "text/plain": [
       "0.853761742673917"
      ]
     },
     "execution_count": 59,
     "metadata": {},
     "output_type": "execute_result"
    }
   ],
   "source": [
    "real_qwk_regs[0]"
   ]
  },
  {
   "cell_type": "code",
   "execution_count": 184,
   "metadata": {
    "_last_msg_id": "383e8557a29a461e87b3dc1683a7128e"
   },
   "outputs": [
    {
     "data": {
      "text/plain": [
       "array([0.00590573, 0.00475616, 0.00505762, 0.00529246, 0.00454274,\n",
       "       0.00441364, 0.00510879, 0.00577147, 0.00335479])"
      ]
     },
     "execution_count": 184,
     "metadata": {},
     "output_type": "execute_result"
    }
   ],
   "source": [
    "np.array(real_qwk_regs) - np.array(mean_qwk_regs)"
   ]
  },
  {
   "cell_type": "code",
   "execution_count": 60,
   "metadata": {
    "_last_msg_id": "9df5df1c26b84633b1dc12ed128d5990"
   },
   "outputs": [
    {
     "data": {
      "text/plain": [
       "<matplotlib.collections.PathCollection at 0x7f136f34bc50>"
      ]
     },
     "execution_count": 60,
     "metadata": {},
     "output_type": "execute_result"
    },
    {
     "data": {
      "image/png": "[encoded data removed]",
      "text/plain": [
       "<Figure size 432x288 with 1 Axes>"
      ]
     },
     "metadata": {
      "needs_background": "light"
     },
     "output_type": "display_data"
    }
   ],
   "source": [
    "plt.scatter(mean_qwk_regs, real_qwk_regs)"
   ]
  },
  {
   "cell_type": "code",
   "execution_count": null,
   "metadata": {},
   "outputs": [],
   "source": []
  },
  {
   "cell_type": "code",
   "execution_count": 33,
   "metadata": {
    "_last_msg_id": "3c3dca444d414f4b96266457fed8a345"
   },
   "outputs": [
    {
     "ename": "NameError",
     "evalue": "name 'WSIPatchesDummyDataset' is not defined",
     "output_type": "error",
     "traceback": [
      "\u001b[0;31m---------------------------------------------------------------------------\u001b[0m",
      "\u001b[0;31mNameError\u001b[0m                                 Traceback (most recent call last)",
      "\u001b[0;32m<ipython-input-33-2341457ac1ee>\u001b[0m in \u001b[0;36m<module>\u001b[0;34m\u001b[0m\n\u001b[1;32m     31\u001b[0m     \u001b[0moutputs\u001b[0m \u001b[0;34m=\u001b[0m \u001b[0;34m[\u001b[0m\u001b[0;34m]\u001b[0m\u001b[0;34m\u001b[0m\u001b[0;34m\u001b[0m\u001b[0m\n\u001b[1;32m     32\u001b[0m \u001b[0;34m\u001b[0m\u001b[0m\n\u001b[0;32m---> 33\u001b[0;31m     train_loader = torch.utils.data.DataLoader(WSIPatchesDummyDataset(train_batch_path.format(epoch % 10)),\n\u001b[0m\u001b[1;32m     34\u001b[0m                                                \u001b[0mbatch_size\u001b[0m\u001b[0;34m=\u001b[0m\u001b[0;36m1\u001b[0m\u001b[0;34m,\u001b[0m \u001b[0mshuffle\u001b[0m\u001b[0;34m=\u001b[0m\u001b[0;32mTrue\u001b[0m\u001b[0;34m,\u001b[0m \u001b[0mnum_workers\u001b[0m\u001b[0;34m=\u001b[0m\u001b[0;36m4\u001b[0m\u001b[0;34m,\u001b[0m\u001b[0;34m\u001b[0m\u001b[0;34m\u001b[0m\u001b[0m\n\u001b[1;32m     35\u001b[0m                                                pin_memory=True)\n",
      "\u001b[0;31mNameError\u001b[0m: name 'WSIPatchesDummyDataset' is not defined"
     ]
    }
   ],
   "source": [
    "model.eval()\n",
    "\n",
    "targets = []\n",
    "o_outputs = []\n",
    "outputs = []\n",
    "\n",
    "with torch.no_grad():\n",
    "    for features, ys, xs, provider, target, gleason_score in val_loader:\n",
    "        b = features.shape[0]\n",
    "\n",
    "        features, target = features.to(device), target.to(device)\n",
    "        target = target[:, None].float()\n",
    "\n",
    "        output, o_labels_class = model(features, ys, xs)\n",
    "        output = torch.sigmoid(output) * max_lbl_nums - 0.5\n",
    "        o_output = output.round().long().clamp(-0.5, 5.5)\n",
    "\n",
    "        targets.append(target)\n",
    "        o_outputs.append(o_output)\n",
    "        outputs.append(output)\n",
    "\n",
    "val_o_outputs = torch.cat(o_outputs).cpu().numpy()\n",
    "val_targets = torch.cat(targets).cpu().numpy()\n",
    "val_outputs = torch.cat(outputs).cpu().numpy()\n",
    "\n",
    "all_coefficients = []\n",
    "\n",
    "for epoch in range(10):\n",
    "    targets = []\n",
    "    o_outputs = []\n",
    "    outputs = []\n",
    "\n",
    "    with torch.no_grad():\n",
    "        for features, ys, xs, provider, target, gleason_score in train_loader:\n",
    "            b = features.shape[0]\n",
    "\n",
    "            features, target = features.to(evice), target.to(device)\n",
    "            target = target[:, None].float()\n",
    "\n",
    "            output, o_labels_class = model(features, ys, xs)\n",
    "            output = torch.sigmoid(output) * max_lbl_nums - 0.5\n",
    "            o_output = output.round().long().clamp(-0.5, 5.5)\n",
    "\n",
    "            targets.append(target)\n",
    "            o_outputs.append(o_output)\n",
    "            outputs.append(output)\n",
    "\n",
    "    o_outputs = torch.cat(o_outputs).cpu().numpy()\n",
    "    targets = torch.cat(targets).cpu().numpy()\n",
    "    outputs = torch.cat(outputs).cpu().numpy()\n",
    "\n",
    "    optimized_rounder = OptimizedRounder()\n",
    "    optimized_rounder.fit(outputs, targets)\n",
    "    coefficients = optimized_rounder.coefficients()\n",
    "    print(coefficients)\n",
    "    all_coefficients.append(coefficients)"
   ]
  }
 ],
 "metadata": {
  "kernelspec": {
   "display_name": "Python 3",
   "language": "python",
   "name": "python3"
  },
  "language_info": {
   "codemirror_mode": {
    "name": "ipython",
    "version": 3
   },
   "file_extension": ".py",
   "mimetype": "text/x-python",
   "name": "python",
   "nbconvert_exporter": "python",
   "pygments_lexer": "ipython3",
   "version": "3.7.4"
  }
 },
 "nbformat": 4,
 "nbformat_minor": 2
}
