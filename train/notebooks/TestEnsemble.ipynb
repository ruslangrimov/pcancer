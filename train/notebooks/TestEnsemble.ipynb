{
 "cells": [
  {
   "cell_type": "code",
   "execution_count": 3,
   "metadata": {
    "_last_msg_id": "569502b58eed43c79a71295987ec0b48"
   },
   "outputs": [],
   "source": [
    "import sys\n",
    "sys.path.append('../..')"
   ]
  },
  {
   "cell_type": "code",
   "execution_count": 700,
   "metadata": {
    "_last_msg_id": "043e080e6e3348ea96a3fd0e8c3fa4ab"
   },
   "outputs": [],
   "source": [
    "import os\n",
    "import importlib\n",
    "import pickle\n",
    "\n",
    "import numpy as np\n",
    "\n",
    "import torch\n",
    "from torch import nn\n",
    "import torch.nn.functional as F\n",
    "\n",
    "from sklearn.metrics import cohen_kappa_score\n",
    "\n",
    "from sklearn.metrics import plot_confusion_matrix, confusion_matrix, ConfusionMatrixDisplay\n",
    "\n",
    "from lib.datasets import get_train_test_img_ids_split, max_lbl_nums, pat\n",
    "from lib.dataloaders import WSIPatchesDummyDataloader\n",
    "from lib.utils import get_pretrained_model\n",
    "from lib.kappacoefs import OptimizedRounder\n",
    "\n",
    "import matplotlib.pyplot as plt\n",
    "\n",
    "from tqdm.auto import tqdm"
   ]
  },
  {
   "cell_type": "code",
   "execution_count": 6,
   "metadata": {
    "_last_msg_id": "956e44590e5f4478bd8883fa155e73f2"
   },
   "outputs": [],
   "source": [
    "experiments_path = '../../experiments_results/'\n",
    "exp_subfolder = 'wsi_on_dummy_512x1x1'\n",
    "# bad_qwk_wsi_on_dummy_512x1x1/\n",
    "\n",
    "train_batch_path = '/mnt/SSDData/pdata/processed/pretrained/train/{}/'\n",
    "test_batch_path = '/mnt/SSDData/pdata/processed/pretrained/val/'"
   ]
  },
  {
   "cell_type": "code",
   "execution_count": 407,
   "metadata": {
    "_last_msg_id": "69c0876270884a6b96ae44448f37fb42"
   },
   "outputs": [],
   "source": [
    "val_targets = []\n",
    "val_outputs_reg = []\n",
    "val_outputs_class = []"
   ]
  },
  {
   "cell_type": "code",
   "execution_count": 8,
   "metadata": {
    "_last_msg_id": "fbcbdcc18e334eedab2aa97788072ca6"
   },
   "outputs": [],
   "source": [
    "# Bad WSI\n",
    "experiments = [\n",
    "    '90ep_adam_exp_with_min_v1/version_0', '90ep_adam_exp_with_min_v2/version_0',\n",
    "    '90ep_adam_exp_v1/version_0', '90ep_adam_cos_v1/version_0', \n",
    "    '90ep_adam_cos_an_v2/version_0', '90ep_adam_cos_an_v1/version_0',\n",
    "    # '90ep_sgd_cos_v1/version_0', '90ep_sgd_exp_v1/version_0',\n",
    "    '180ep_adam_exp_v1/version_0', '180ep_adam_exp_v2/version_0',\n",
    "    '450ep_adam_cos_an_v1/version_0'\n",
    "]"
   ]
  },
  {
   "cell_type": "code",
   "execution_count": 387,
   "metadata": {
    "_last_msg_id": "5fbc406ac34e45c0858f056ffd1779ca"
   },
   "outputs": [],
   "source": [
    "experiments = [\n",
    "'90ep_adam_cos_an_v1/version_0',\n",
    "'90ep_adam_exp_with_min_v1/version_0',\n",
    "'90ep_adam_exp_v1/version_0',\n",
    "'90ep_adam_cos_v1/version_0',\n",
    "'300ep_adam_cos_an_lr150/version_0',\n",
    "'300ep_adam_cos_an_lr125/version_0',\n",
    "'300ep_adam_cos_an_lr080/version_0',\n",
    "'300ep_adam_cos_an_lr100/version_0',]"
   ]
  },
  {
   "cell_type": "code",
   "execution_count": 675,
   "metadata": {
    "_last_msg_id": "b5d9c6c4d7624b3796763c2ef8b3e2f1"
   },
   "outputs": [],
   "source": []
  },
  {
   "cell_type": "code",
   "execution_count": 712,
   "metadata": {
    "_last_msg_id": "247860c0c939475887ea530b1b5d4314"
   },
   "outputs": [],
   "source": [
    "with open(patches_clean90_pkl_path, 'rb') as f:\n",
    "    wsi_dict = pickle.load(f)"
   ]
  },
  {
   "cell_type": "code",
   "execution_count": 722,
   "metadata": {
    "_last_msg_id": "043d2de4d8ce43ab8e6b40bfab6089ca"
   },
   "outputs": [],
   "source": [
    "yxs_to_image_id = {}\n",
    "for image_id, rows in wsi_dict.items():\n",
    "    ys = []\n",
    "    xs = []\n",
    "    for row in rows:\n",
    "        (_, image_id, data_provider, isup_grade, gleason_score, y, x, *_) = row\n",
    "        ys.append(str(y))\n",
    "        xs.append(str(x))\n",
    "        \n",
    "    key = (','.join(ys[:300])) + ' ' + (','.join(xs[:300]))\n",
    "    \n",
    "    yxs_to_image_id[key] = image_id"
   ]
  },
  {
   "cell_type": "code",
   "execution_count": 723,
   "metadata": {
    "_last_msg_id": "5dc84c8269b84aaf88c61da99b079821"
   },
   "outputs": [
    {
     "data": {
      "text/plain": [
       "10515"
      ]
     },
     "execution_count": 723,
     "metadata": {},
     "output_type": "execute_result"
    }
   ],
   "source": [
    "len(yxs_to_image_id)"
   ]
  },
  {
   "cell_type": "code",
   "execution_count": 724,
   "metadata": {
    "_last_msg_id": "60c68b21e20b4ede937c8b9610ddccfd"
   },
   "outputs": [],
   "source": [
    "providers = []\n",
    "yss = []\n",
    "xss = []\n",
    "for features, ys, xs, provider, target, gleason_score in val_loader:\n",
    "    providers.append(provider)\n",
    "    yss.append(ys)\n",
    "    xss.append(xs)\n",
    "    \n",
    "providers = torch.cat(providers).cpu().numpy()\n",
    "yss = torch.cat(yss).cpu().numpy()\n",
    "xss = torch.cat(xss).cpu().numpy()"
   ]
  },
  {
   "cell_type": "code",
   "execution_count": 726,
   "metadata": {
    "_last_msg_id": "50c1fa8577a848448b838fa2f299b514"
   },
   "outputs": [],
   "source": [
    "val_image_ids = []\n",
    "for n in range(len(yss)):\n",
    "    key = ((','.join([str(c) for c in yss[n][yss[n] != -1].tolist()])) + ' ' + \n",
    "           (','.join([str(c) for c in xss[n][xss[n] != -1].tolist()])))\n",
    "    \n",
    "    val_image_ids.append(yxs_to_image_id[key])"
   ]
  },
  {
   "cell_type": "code",
   "execution_count": 729,
   "metadata": {
    "_last_msg_id": "280cb50493cc4abd8e455a7810fa44b7"
   },
   "outputs": [
    {
     "data": {
      "text/plain": [
       "['375b2c9501320b35ceb638a3274812aa',\n",
       " 'e4e49a91640feea58d109aff11df4197',\n",
       " '5b003d43ec0ce5979062442486f84cf7',\n",
       " '9b2948ff81b64677a1a152a1532c1a50']"
      ]
     },
     "execution_count": 729,
     "metadata": {},
     "output_type": "execute_result"
    }
   ],
   "source": [
    "val_image_ids[:4]"
   ]
  },
  {
   "cell_type": "code",
   "execution_count": 730,
   "metadata": {
    "_last_msg_id": "5321ca63bec843f995c248c5a861e441"
   },
   "outputs": [],
   "source": [
    "import pandas as pd"
   ]
  },
  {
   "cell_type": "code",
   "execution_count": 733,
   "metadata": {
    "_last_msg_id": "100ce7b26fed4bae9f7f2cad9187234d"
   },
   "outputs": [],
   "source": [
    "susp_image_ids_df = pd.read_csv('/mnt/SSDData/pdata/processed/PANDA_Suspicious_Slides.csv')"
   ]
  },
  {
   "cell_type": "code",
   "execution_count": 742,
   "metadata": {
    "_last_msg_id": "e6dd77203dd14a6f8482d107040f34d8"
   },
   "outputs": [],
   "source": [
    "susp_val = np.isin(val_image_ids, susp_image_ids_df['image_id'].values)"
   ]
  },
  {
   "cell_type": "code",
   "execution_count": null,
   "metadata": {},
   "outputs": [],
   "source": []
  },
  {
   "cell_type": "code",
   "execution_count": 408,
   "metadata": {
    "_last_msg_id": "700aa72e8426434a99ed653ddcb62883"
   },
   "outputs": [
    {
     "data": {
      "application/vnd.jupyter.widget-view+json": {
       "model_id": "a299fca1bad64f52af611007a504ed4f",
       "version_major": 2,
       "version_minor": 0
      },
      "text/plain": [
       "HBox(children=(FloatProgress(value=0.0, max=8.0), HTML(value='')))"
      ]
     },
     "metadata": {},
     "output_type": "display_data"
    },
    {
     "name": "stdout",
     "output_type": "stream",
     "text": [
      "\n"
     ]
    }
   ],
   "source": [
    "for experiment_path in tqdm(experiments):\n",
    "    exp_name = experiment_path.split('/')[0]\n",
    "\n",
    "    echeckpoint_path = os.path.join(experiments_path, exp_subfolder, \n",
    "                                    experiment_path, 'checkpoints', 'last.ckpt')\n",
    "\n",
    "    e_mod = importlib.import_module(f'experiments_configs.{exp_subfolder}.{exp_name}')\n",
    "\n",
    "    hparams = e_mod.get_hrapams()\n",
    "\n",
    "    model_cfg = hparams['module']['params']['model']\n",
    "\n",
    "    model = get_pretrained_model(model_cfg['name'], model_cfg['params'], \n",
    "                                 echeckpoint_path, device, False)\n",
    "\n",
    "    val_loader = WSIPatchesDummyDataloader(test_batch_path,\n",
    "                                           precalc_epochs=hparams['dataset']['precalc_epochs'],\n",
    "                                           shuffle=False)    \n",
    "    \n",
    "    model.eval()\n",
    "\n",
    "    targets = []\n",
    "    outputs_reg = []\n",
    "    outputs_class = []\n",
    "\n",
    "    with torch.no_grad():\n",
    "        for features, ys, xs, provider, target, gleason_score in val_loader:\n",
    "            b = features.shape[0]\n",
    "\n",
    "            features, target = features.to(device), target.to(device)\n",
    "            target = target.float()\n",
    "\n",
    "            output_reg, output_class = model(features, ys, xs)\n",
    "            output_reg = torch.sigmoid(output_reg) * max_lbl_nums - 0.5\n",
    "            output_class = F.softmax(output_class, dim=-1)\n",
    "\n",
    "            targets.append(target)\n",
    "            outputs_reg.append(output_reg)\n",
    "            outputs_class.append(output_class)            \n",
    "\n",
    "    del model        \n",
    "            \n",
    "    val_targets.append(torch.cat(targets).cpu().numpy())\n",
    "    val_outputs_reg.append(torch.cat(outputs_reg).cpu().numpy())\n",
    "    val_outputs_class.append(torch.cat(outputs_class).cpu().numpy())    "
   ]
  },
  {
   "cell_type": "code",
   "execution_count": 417,
   "metadata": {
    "_last_msg_id": "d7a043cc8bb5404096bb167d9fb7f6eb"
   },
   "outputs": [],
   "source": [
    "np_val_targets = np.stack(val_targets)\n",
    "np_val_outputs_reg = np.stack(val_outputs_reg)[..., 0]\n",
    "np_val_outputs_class = np.stack(val_outputs_class)"
   ]
  },
  {
   "cell_type": "code",
   "execution_count": 574,
   "metadata": {
    "_last_msg_id": "1f6272135a8c4038b126662aeaed97d2"
   },
   "outputs": [
    {
     "name": "stdout",
     "output_type": "stream",
     "text": [
      "0.8349761444410524 0.5576354679802956 0.8265202709486998 0.6443349753694582\n",
      "0.8153046107427133 0.5280788177339901 0.8127550320974449 0.6463054187192119\n",
      "0.8261472522225521 0.5753694581280788 0.8104889737153289 0.6443349753694582\n",
      "0.8236687999864012 0.5566502463054187 0.8222962504616772 0.6561576354679803\n",
      "0.823228972611406 0.587192118226601 0.8083321190277379 0.6600985221674877\n",
      "0.8389134016075214 0.593103448275862 0.8188231101262496 0.6413793103448275\n",
      "0.8312858346655486 0.5960591133004927 0.8187053198594684 0.6532019704433497\n",
      "0.8285158698733659 0.587192118226601 0.8177368220097212 0.6413793103448275\n"
     ]
    }
   ],
   "source": [
    "p = 0\n",
    "for val_output_reg, val_output_class, val_target in zip(np_val_outputs_reg, np_val_outputs_class, np_val_targets):\n",
    "    val_output_reg = np.clip(val_output_reg.round(), -0.5, 5.5)[providers==p]\n",
    "    val_output_class = val_output_class.argmax(-1)[providers==p]\n",
    "    val_target = val_target[providers==p]\n",
    "    \n",
    "    #arr = np.arange((val_output_class != val_target).sum())\n",
    "    #np.random.shuffle(arr)\n",
    "    \n",
    "    # val_output_class[arr[:520]] = val_target[arr[:520]]\n",
    "    #w_idxs = val_output_class != val_target\n",
    "    #w_idxs[690:] = False\n",
    "    #val_output_reg[w_idxs] = val_target[w_idxs]\n",
    "    #val_output_class[w_idxs] = val_target[w_idxs]\n",
    "    \n",
    "    qwk_reg = cohen_kappa_score(val_output_reg, val_target, weights=\"quadratic\")\n",
    "    acc_reg = (val_output_reg == val_target).mean()\n",
    "    \n",
    "    qwk_class = cohen_kappa_score(val_output_class, val_target, weights=\"quadratic\")\n",
    "    acc_class = (val_output_class == val_target).mean()    \n",
    "    print(qwk_reg, acc_reg, qwk_class, acc_class)"
   ]
  },
  {
   "cell_type": "code",
   "execution_count": 576,
   "metadata": {
    "_last_msg_id": "2d19b07002ad479d8dcec602ec69b470"
   },
   "outputs": [
    {
     "data": {
      "text/plain": [
       "256"
      ]
     },
     "execution_count": 576,
     "metadata": {},
     "output_type": "execute_result"
    }
   ],
   "source": [
    "w_idxs.sum()"
   ]
  },
  {
   "cell_type": "code",
   "execution_count": 602,
   "metadata": {
    "_last_msg_id": "add7d0fa07d2486a8bbde8eecdfe957a"
   },
   "outputs": [],
   "source": [
    "lbl = 0"
   ]
  },
  {
   "cell_type": "code",
   "execution_count": 603,
   "metadata": {
    "_last_msg_id": "de4bf35a2f0f4cfa8b6e6db6fe90aaf2"
   },
   "outputs": [
    {
     "data": {
      "text/plain": [
       "0.9507389162561576"
      ]
     },
     "execution_count": 603,
     "metadata": {},
     "output_type": "execute_result"
    }
   ],
   "source": [
    "((val_output_class == lbl) == (val_target == lbl)).mean()"
   ]
  },
  {
   "cell_type": "code",
   "execution_count": 604,
   "metadata": {
    "_last_msg_id": "130b7b81d7994f50a500902ea5c153fb"
   },
   "outputs": [
    {
     "data": {
      "text/plain": [
       "0.9399014778325123"
      ]
     },
     "execution_count": 604,
     "metadata": {},
     "output_type": "execute_result"
    }
   ],
   "source": [
    "((val_output_reg == lbl) == (val_target == lbl)).mean()"
   ]
  },
  {
   "cell_type": "code",
   "execution_count": null,
   "metadata": {},
   "outputs": [],
   "source": []
  },
  {
   "cell_type": "code",
   "execution_count": 754,
   "metadata": {
    "_last_msg_id": "ad9a813ee7e647d3818eda34cb76a70b"
   },
   "outputs": [
    {
     "name": "stdout",
     "output_type": "stream",
     "text": [
      "0.8349761444410524 0.5576354679802956 0.8265202709486998 0.6443349753694582\n",
      "0.8153046107427133 0.5280788177339901 0.8127550320974449 0.6463054187192119\n",
      "0.8261472522225521 0.5753694581280788 0.8104889737153289 0.6443349753694582\n",
      "0.8236687999864012 0.5566502463054187 0.8222962504616772 0.6561576354679803\n",
      "0.823228972611406 0.587192118226601 0.8083321190277379 0.6600985221674877\n",
      "0.8389134016075214 0.593103448275862 0.8188231101262496 0.6413793103448275\n",
      "0.8312858346655486 0.5960591133004927 0.8187053198594684 0.6532019704433497\n",
      "0.8285158698733659 0.587192118226601 0.8177368220097212 0.6413793103448275\n"
     ]
    }
   ],
   "source": [
    "p = 0\n",
    "for val_output_reg, val_output_class, val_target in zip(np_val_outputs_reg, np_val_outputs_class, np_val_targets):\n",
    "    val_output_reg = np.clip(val_output_reg.round(), -0.5, 5.5)\n",
    "    val_output_class = val_output_class.argmax(-1)\n",
    "    qwk_reg = cohen_kappa_score(val_output_reg[providers==p], val_target[providers==p], weights=\"quadratic\")\n",
    "    acc_reg = (val_output_reg[providers==p] == val_target[providers==p]).mean()\n",
    "    \n",
    "    qwk_class = cohen_kappa_score(val_output_class[providers==p], val_target[providers==p], weights=\"quadratic\")\n",
    "    acc_class = (val_output_class[providers==p] == val_target[providers==p]).mean()    \n",
    "    print(qwk_reg, acc_reg, qwk_class, acc_class)"
   ]
  },
  {
   "cell_type": "code",
   "execution_count": null,
   "metadata": {},
   "outputs": [],
   "source": []
  },
  {
   "cell_type": "code",
   "execution_count": 769,
   "metadata": {
    "_last_msg_id": "b31958ede6de49e4ab7e1f345b0f2956"
   },
   "outputs": [
    {
     "name": "stdout",
     "output_type": "stream",
     "text": [
      "0.8790138156228517 0.6450632911392405 0.8646309531388126 0.6967088607594937\n",
      "0.8729476099354694 0.6283544303797468 0.859639794949966 0.6951898734177215\n",
      "0.8751966682867595 0.6541772151898734 0.8519966443509372 0.6956962025316455\n",
      "0.875634128549037 0.640506329113924 0.8684797597532979 0.7027848101265822\n",
      "0.8685168725794328 0.6551898734177215 0.8528724802880795 0.6987341772151898\n",
      "0.8785312140556332 0.6592405063291139 0.8625469660197962 0.6967088607594937\n",
      "0.8713285022147021 0.659746835443038 0.8542807866643716 0.6921518987341773\n",
      "0.8704949757253255 0.6526582278481012 0.8614259224795238 0.6886075949367089\n"
     ]
    }
   ],
   "source": [
    "for val_output_reg, val_output_class, val_target in zip(np_val_outputs_reg, np_val_outputs_class, np_val_targets):\n",
    "    val_output_reg = np.clip(val_output_reg.round(), -0.5, 5.5)[~susp_val]\n",
    "    val_output_class = val_output_class.argmax(-1)[~susp_val]\n",
    "    val_target  = val_target[~susp_val]\n",
    "    #lbl = 0\n",
    "    #val_output_reg[val_output_class == lbl] = lbl\n",
    "    \n",
    "    qwk_reg = cohen_kappa_score(val_output_reg, val_target, weights=\"quadratic\")\n",
    "    acc_reg = (val_output_reg == val_target).mean()\n",
    "    \n",
    "    qwk_class = cohen_kappa_score(val_output_class, val_target, weights=\"quadratic\")\n",
    "    acc_class = (val_output_class == val_target).mean()    \n",
    "    print(qwk_reg, acc_reg, qwk_class, acc_class)"
   ]
  },
  {
   "cell_type": "code",
   "execution_count": 746,
   "metadata": {
    "_last_msg_id": "ffad98466bf84df08491e6a684005deb"
   },
   "outputs": [],
   "source": [
    "lbl = 0"
   ]
  },
  {
   "cell_type": "code",
   "execution_count": 747,
   "metadata": {
    "_last_msg_id": "5bf8cc53af474041834e1c1b85769a60"
   },
   "outputs": [
    {
     "data": {
      "text/plain": [
       "0.9412887828162291"
      ]
     },
     "execution_count": 747,
     "metadata": {},
     "output_type": "execute_result"
    }
   ],
   "source": [
    "((val_output_class == lbl) == (val_target == lbl)).mean()"
   ]
  },
  {
   "cell_type": "code",
   "execution_count": 748,
   "metadata": {
    "_last_msg_id": "4e2b0cfc81b64819b42297f1dd0a0824"
   },
   "outputs": [
    {
     "data": {
      "text/plain": [
       "0.9365155131264916"
      ]
     },
     "execution_count": 748,
     "metadata": {},
     "output_type": "execute_result"
    }
   ],
   "source": [
    "((val_output_reg == lbl) == (val_target == lbl)).mean()"
   ]
  },
  {
   "cell_type": "code",
   "execution_count": null,
   "metadata": {},
   "outputs": [],
   "source": []
  },
  {
   "cell_type": "code",
   "execution_count": null,
   "metadata": {},
   "outputs": [],
   "source": []
  },
  {
   "cell_type": "code",
   "execution_count": 476,
   "metadata": {
    "_last_msg_id": "42fc0c0db9654ad6b9d0444f55966c2b"
   },
   "outputs": [],
   "source": [
    "p = 1\n",
    "val_target = np_val_targets[0]\n",
    "val_output = np_val_outputs[1:].mean(axis=0)\n",
    "val_output_raw = val_output.copy()\n",
    "val_output = np.clip(val_output.round(), -0.5, 5.5)\n",
    "qwk_reg = cohen_kappa_score(val_target[providers==p], val_output[providers==p], weights=\"quadratic\")"
   ]
  },
  {
   "cell_type": "code",
   "execution_count": 477,
   "metadata": {
    "_last_msg_id": "647db5a8ce86494b8cd879b7e41f9d70"
   },
   "outputs": [
    {
     "data": {
      "text/plain": [
       "0.8718147508148452"
      ]
     },
     "execution_count": 477,
     "metadata": {},
     "output_type": "execute_result"
    }
   ],
   "source": [
    "qwk_reg"
   ]
  },
  {
   "cell_type": "code",
   "execution_count": null,
   "metadata": {},
   "outputs": [],
   "source": []
  },
  {
   "cell_type": "code",
   "execution_count": 778,
   "metadata": {
    "_last_msg_id": "14613b1dbe6843d5875f5ddb80719a6e"
   },
   "outputs": [],
   "source": [
    "val_target = np_val_targets[0]\n",
    "val_output = np_val_outputs[1:].mean(axis=0)\n",
    "val_output_raw = val_output.copy()\n",
    "val_output = np.clip(val_output.round(), -0.5, 5.5)\n",
    "qwk_reg = cohen_kappa_score(val_target, val_output, weights=\"quadratic\")"
   ]
  },
  {
   "cell_type": "code",
   "execution_count": 779,
   "metadata": {
    "_last_msg_id": "41404a8e015043128c03b359bcd005ff"
   },
   "outputs": [
    {
     "data": {
      "text/plain": [
       "0.8778305221966491"
      ]
     },
     "execution_count": 779,
     "metadata": {},
     "output_type": "execute_result"
    }
   ],
   "source": [
    "qwk_reg"
   ]
  },
  {
   "cell_type": "code",
   "execution_count": 752,
   "metadata": {
    "_last_msg_id": "a6f130c0c7b04df3aecd03a423d5831a"
   },
   "outputs": [],
   "source": [
    "val_target = np_val_targets[0]\n",
    "val_output = np_val_outputs[1:].mean(axis=0)\n",
    "val_output_raw = val_output.copy()\n",
    "val_output = np.clip(val_output.round(), -0.5, 5.5)\n",
    "qwk_reg = cohen_kappa_score(val_target[~susp_val], val_output[~susp_val], weights=\"quadratic\")"
   ]
  },
  {
   "cell_type": "code",
   "execution_count": 753,
   "metadata": {
    "_last_msg_id": "f57cad914e3e41e99718f0f7c79dad80"
   },
   "outputs": [
    {
     "data": {
      "text/plain": [
       "0.8889623817367844"
      ]
     },
     "execution_count": 753,
     "metadata": {},
     "output_type": "execute_result"
    }
   ],
   "source": [
    "qwk_reg"
   ]
  },
  {
   "cell_type": "code",
   "execution_count": null,
   "metadata": {},
   "outputs": [],
   "source": []
  },
  {
   "cell_type": "code",
   "execution_count": 478,
   "metadata": {
    "_last_msg_id": "98aad3f26fc04be1b22a70f295c2fbbc"
   },
   "outputs": [],
   "source": [
    "optimized_rounder = OptimizedRounder()"
   ]
  },
  {
   "cell_type": "code",
   "execution_count": 479,
   "metadata": {
    "_last_msg_id": "532ab0c03b1645a580d3dea61c4bf58e",
    "scrolled": true
   },
   "outputs": [],
   "source": [
    "optimized_rounder.fit(val_output_raw[providers==p], val_target[providers==p])"
   ]
  },
  {
   "cell_type": "code",
   "execution_count": 480,
   "metadata": {
    "_last_msg_id": "4b127871672d4c41a8ce77b057645930"
   },
   "outputs": [
    {
     "data": {
      "text/plain": [
       "array([0.52981011, 1.44531919, 2.38075203, 3.56832626, 4.45295682])"
      ]
     },
     "execution_count": 480,
     "metadata": {},
     "output_type": "execute_result"
    }
   ],
   "source": [
    "# 0 - array([0.57281728, 1.50037176, 2.38909082, 3.42044636, 4.17974069])\n",
    "# 1 - array([0.52981011, 1.44531919, 2.38075203, 3.56832626, 4.45295682])\n",
    "optimized_rounder.coefficients()"
   ]
  },
  {
   "cell_type": "code",
   "execution_count": 481,
   "metadata": {
    "_last_msg_id": "c995f4f4d58443fc8c7fb1c669322128"
   },
   "outputs": [],
   "source": [
    "# val_output2 = optimized_rounder.predict(val_output_raw, old_coefs)\n",
    "val_output2 = optimized_rounder.predict(val_output_raw, optimized_rounder.coefficients())"
   ]
  },
  {
   "cell_type": "code",
   "execution_count": 482,
   "metadata": {
    "_last_msg_id": "87a982cd218745098a850c81fe7ecf36"
   },
   "outputs": [
    {
     "data": {
      "text/plain": [
       "0.876489613405978"
      ]
     },
     "execution_count": 482,
     "metadata": {},
     "output_type": "execute_result"
    }
   ],
   "source": [
    "# !!! Это максимум !!! На валидации обучался !!!\n",
    "cohen_kappa_score(val_target[providers==p], val_output2[providers==p], weights=\"quadratic\")"
   ]
  },
  {
   "cell_type": "code",
   "execution_count": 486,
   "metadata": {
    "_last_msg_id": "3c0add088957445f818c8d937c30d53b"
   },
   "outputs": [],
   "source": [
    "val_output01 = val_output2.copy()"
   ]
  },
  {
   "cell_type": "code",
   "execution_count": 487,
   "metadata": {
    "_last_msg_id": "00f4782ba9e7482db3d4c07f57e15cb6"
   },
   "outputs": [],
   "source": [
    "p = 0\n",
    "val_output01[providers==p] = optimized_rounder.predict(val_output_raw[providers==p], \n",
    "                                                      np.array([0.57281728, 1.50037176, 2.38909082, 3.42044636, 4.17974069]))\n",
    "p = 1\n",
    "val_output01[providers==p] = optimized_rounder.predict(val_output_raw[providers==p], \n",
    "                                                      np.array([0.52981011, 1.44531919, 2.38075203, 3.56832626, 4.45295682]))"
   ]
  },
  {
   "cell_type": "code",
   "execution_count": 488,
   "metadata": {
    "_last_msg_id": "4b98514e9cf1458f89b81450da64f5fb"
   },
   "outputs": [
    {
     "data": {
      "text/plain": [
       "0.8851264287913517"
      ]
     },
     "execution_count": 488,
     "metadata": {},
     "output_type": "execute_result"
    }
   ],
   "source": [
    "cohen_kappa_score(val_target, val_output01, weights=\"quadratic\")"
   ]
  },
  {
   "cell_type": "code",
   "execution_count": null,
   "metadata": {},
   "outputs": [],
   "source": []
  },
  {
   "cell_type": "code",
   "execution_count": null,
   "metadata": {},
   "outputs": [],
   "source": []
  },
  {
   "cell_type": "code",
   "execution_count": 443,
   "metadata": {
    "_last_msg_id": "b5cbe773d50947feb2288a45801111ec"
   },
   "outputs": [
    {
     "data": {
      "text/plain": [
       "0.8798580508889466"
      ]
     },
     "execution_count": 443,
     "metadata": {},
     "output_type": "execute_result"
    }
   ],
   "source": [
    "# !!! Это на старых !!!\n",
    "cohen_kappa_score(val_target, val_output2, weights=\"quadratic\")"
   ]
  },
  {
   "cell_type": "code",
   "execution_count": 330,
   "metadata": {
    "_last_msg_id": "9444cb45b6a04e4791b64ef308c28c00"
   },
   "outputs": [
    {
     "data": {
      "text/plain": [
       "0.884086056976147"
      ]
     },
     "execution_count": 330,
     "metadata": {},
     "output_type": "execute_result"
    }
   ],
   "source": []
  },
  {
   "cell_type": "code",
   "execution_count": 335,
   "metadata": {
    "_last_msg_id": "20f7ef672da948dbb21adb0fee7633bb"
   },
   "outputs": [],
   "source": [
    "old_coefs =\\\n",
    "np.array(\n",
    "[[0.54569598, 1.62824866, 2.35215448, 3.27274745, 4.14168655],\n",
    " [0.55146103, 1.54651653, 2.41228703, 3.2341663,  4.18983145],\n",
    " [0.52759456, 1.66193384, 2.42119538, 3.22981731, 4.1679057 ],\n",
    " [0.50560013, 1.66279228, 2.48869419, 3.20977081, 4.21148184],\n",
    " [0.59420817, 1.58363668, 2.40486243, 3.21171697, 4.22344555],\n",
    " [0.55964892, 1.58687257, 2.42119557, 3.20594279, 4.20727218],\n",
    " [0.52965801, 1.62990205, 2.56598612, 3.18684522, 4.0254026 ],\n",
    " [0.56310764, 1.63544987, 2.44483939, 3.12796843, 4.08308392],\n",
    " [0.54240544, 1.61370524, 2.52179569, 3.2963418,  4.09494376], \n",
    " [0.55924867, 1.64874465, 2.49730719, 3.25221745, 4.15355419]]).mean(axis=0)"
   ]
  },
  {
   "cell_type": "code",
   "execution_count": 336,
   "metadata": {
    "_last_msg_id": "41a3ea9a85ef466184176c3c32f0df6d"
   },
   "outputs": [
    {
     "data": {
      "text/plain": [
       "array([0.54786285, 1.61978024, 2.45303175, 3.22275345, 4.14986077])"
      ]
     },
     "execution_count": 336,
     "metadata": {},
     "output_type": "execute_result"
    }
   ],
   "source": [
    "old_coefs"
   ]
  },
  {
   "cell_type": "code",
   "execution_count": 261,
   "metadata": {
    "_last_msg_id": "b7f44017a0854170bd2d67443a5cd0b2"
   },
   "outputs": [],
   "source": [
    "# val_output[((val_output == 0) & (val_target > 1))] = 4\n",
    "# val_output[((val_output == 5) & (val_target < 5))] = 4"
   ]
  },
  {
   "cell_type": "code",
   "execution_count": 639,
   "metadata": {
    "_last_msg_id": "64224113908043aba51027461e07d718"
   },
   "outputs": [],
   "source": [
    "strange_idx = ((val_output == 0) & (val_target > 1))"
   ]
  },
  {
   "cell_type": "code",
   "execution_count": 759,
   "metadata": {
    "_last_msg_id": "52bb7cebf7a4402387282a49f47ab75a"
   },
   "outputs": [
    {
     "data": {
      "text/plain": [
       "18"
      ]
     },
     "execution_count": 759,
     "metadata": {},
     "output_type": "execute_result"
    }
   ],
   "source": [
    "strange_idx.sum()"
   ]
  },
  {
   "cell_type": "code",
   "execution_count": 774,
   "metadata": {
    "_last_msg_id": "92c08a16d0e34a84b97dc75567812881"
   },
   "outputs": [
    {
     "data": {
      "text/plain": [
       "array(['158754df49e00760f8e4659a05e7cc0c',\n",
       "       '7e7e6dac3271a6cad2744ae393328a36',\n",
       "       '8d9e28e97edc6598da7df0b5b7c098d6',\n",
       "       '2ce127e7731155d1373bfbd0abdc368b',\n",
       "       '44f60ac5d5d82e5c72d077e50701863d'], dtype='<U32')"
      ]
     },
     "execution_count": 774,
     "metadata": {},
     "output_type": "execute_result"
    }
   ],
   "source": [
    "np.array(val_image_ids)[strange_idx & susp_val]"
   ]
  },
  {
   "cell_type": "code",
   "execution_count": 775,
   "metadata": {
    "_last_msg_id": "e4006f13a10a4d0194fb580653fd4b1e"
   },
   "outputs": [
    {
     "data": {
      "text/plain": [
       "array(['ec382d53fa1973de25c35af7af550aff',\n",
       "       '07a7ef0ba3bb0d6564a73f4f3e1c2293',\n",
       "       'e919022fbfe7c9ff599a866aa0be352f',\n",
       "       'f187290ba0d588d11f47467ec93ce202',\n",
       "       'f19fe3c267aa523b6b96393d698ab273',\n",
       "       '979eda484717cd406350e95df7862329',\n",
       "       '2464608febcd797682b2392b5badbc2d',\n",
       "       'dc60380b0dba9d1876e40f0b53ec484b',\n",
       "       '741f6260e0f75b64a72e9a905003c29d',\n",
       "       '7f50cd92c0f5cca94434fc6165354acd',\n",
       "       '9aea86aa9b34cebb8bbc0db42d6c7559',\n",
       "       'af2e93677f85a4ff065cfd55c279793d',\n",
       "       '0bd0a172d1f92a1c8bb43585affe0648'], dtype='<U32')"
      ]
     },
     "execution_count": 775,
     "metadata": {},
     "output_type": "execute_result"
    }
   ],
   "source": [
    "np.array(val_image_ids)[strange_idx & ~susp_val]"
   ]
  },
  {
   "cell_type": "code",
   "execution_count": null,
   "metadata": {
    "_last_msg_id": "d18ba97aa94e46ff9a0f1e9af28d1f08"
   },
   "outputs": [],
   "source": [
    "val_output_raw[strange_idx & ~susp_val]"
   ]
  },
  {
   "cell_type": "code",
   "execution_count": null,
   "metadata": {},
   "outputs": [],
   "source": []
  },
  {
   "cell_type": "code",
   "execution_count": 757,
   "metadata": {
    "_last_msg_id": "e6e3f2d7a473457aa6d554d6302c6d74"
   },
   "outputs": [],
   "source": [
    "# val_target[strange_idx]"
   ]
  },
  {
   "cell_type": "code",
   "execution_count": 756,
   "metadata": {
    "_last_msg_id": "b2c1a4c3ed2d43c49833cf1d623fab26"
   },
   "outputs": [],
   "source": [
    "# np.clip(np_val_outputs[:, strange_idx].round(), -0.5, 5.5)"
   ]
  },
  {
   "cell_type": "code",
   "execution_count": null,
   "metadata": {},
   "outputs": [],
   "source": []
  },
  {
   "cell_type": "code",
   "execution_count": 247,
   "metadata": {
    "_last_msg_id": "def7884769054a768eae879f3c61ac70"
   },
   "outputs": [],
   "source": [
    "th = 1.0\n",
    "dif_idx_mask = dif_idx > th"
   ]
  },
  {
   "cell_type": "code",
   "execution_count": 248,
   "metadata": {
    "_last_msg_id": "0e8099e26d6e4ea48d990269b9867be1"
   },
   "outputs": [
    {
     "data": {
      "text/plain": [
       "18"
      ]
     },
     "execution_count": 248,
     "metadata": {},
     "output_type": "execute_result"
    }
   ],
   "source": [
    "dif_idx_mask.sum()"
   ]
  },
  {
   "cell_type": "code",
   "execution_count": 249,
   "metadata": {
    "_last_msg_id": "526ff851a7d8442a8918a31ae60cafa4"
   },
   "outputs": [
    {
     "data": {
      "text/plain": [
       "0.05555555555555555"
      ]
     },
     "execution_count": 249,
     "metadata": {},
     "output_type": "execute_result"
    }
   ],
   "source": [
    "(val_output[dif_idx_mask] == val_target[dif_idx_mask]).mean()"
   ]
  },
  {
   "cell_type": "code",
   "execution_count": null,
   "metadata": {},
   "outputs": [],
   "source": [
    "cohen_kappa_score(val_target[dif_idx_mask], val_output[dif_idx_mask], weights=\"quadratic\")"
   ]
  },
  {
   "cell_type": "code",
   "execution_count": 255,
   "metadata": {
    "_last_msg_id": "0c664d300bd84f0f8ca2db963b9a2a2a"
   },
   "outputs": [],
   "source": [
    "val_output[dif_idx_mask] = val_target[dif_idx_mask]"
   ]
  },
  {
   "cell_type": "code",
   "execution_count": 256,
   "metadata": {
    "_last_msg_id": "046c5f193aad46f489edd584fb877f85"
   },
   "outputs": [],
   "source": [
    "qwk_reg = cohen_kappa_score(val_target, val_output, weights=\"quadratic\")"
   ]
  },
  {
   "cell_type": "code",
   "execution_count": 257,
   "metadata": {
    "_last_msg_id": "f0286e558f6b459ba0eac8cf58d441e3"
   },
   "outputs": [
    {
     "data": {
      "text/plain": [
       "0.8834018993073014"
      ]
     },
     "execution_count": 257,
     "metadata": {},
     "output_type": "execute_result"
    }
   ],
   "source": [
    "qwk_reg"
   ]
  },
  {
   "cell_type": "code",
   "execution_count": 765,
   "metadata": {
    "_last_msg_id": "5662c7c97e4f40a587d8384d937ffa4f"
   },
   "outputs": [],
   "source": [
    "cm = confusion_matrix(val_target[~susp_val], val_output[~susp_val])\n",
    "cmd = ConfusionMatrixDisplay(cm, display_labels=[f'grade{n}' for n in range(max_lbl_nums)])"
   ]
  },
  {
   "cell_type": "code",
   "execution_count": 766,
   "metadata": {
    "_last_msg_id": "56e89b3946004691a786691a1a784ad3"
   },
   "outputs": [
    {
     "data": {
      "image/png": "[encoded data removed]",
      "text/plain": [
       "<Figure size 432x288 with 2 Axes>"
      ]
     },
     "metadata": {
      "needs_background": "light"
     },
     "output_type": "display_data"
    }
   ],
   "source": [
    "cmd.plot(values_format='d');"
   ]
  },
  {
   "cell_type": "code",
   "execution_count": null,
   "metadata": {},
   "outputs": [],
   "source": []
  },
  {
   "cell_type": "code",
   "execution_count": 339,
   "metadata": {
    "_last_msg_id": "258e089a4efe439780e4264dae2668c5"
   },
   "outputs": [],
   "source": [
    "cm = confusion_matrix(val_target, val_output)\n",
    "cmd = ConfusionMatrixDisplay(cm, display_labels=[f'grade{n}' for n in range(max_lbl_nums)])"
   ]
  },
  {
   "cell_type": "code",
   "execution_count": 340,
   "metadata": {
    "_last_msg_id": "d349388cfc30413980be13e53044c96a"
   },
   "outputs": [
    {
     "data": {
      "image/png": "[encoded data removed]",
      "text/plain": [
       "<Figure size 432x288 with 2 Axes>"
      ]
     },
     "metadata": {
      "needs_background": "light"
     },
     "output_type": "display_data"
    }
   ],
   "source": [
    "cmd.plot(values_format='d');"
   ]
  },
  {
   "cell_type": "code",
   "execution_count": null,
   "metadata": {},
   "outputs": [],
   "source": []
  },
  {
   "cell_type": "code",
   "execution_count": 341,
   "metadata": {
    "_last_msg_id": "c190b7a536a1430a8be8ef976ea542bd"
   },
   "outputs": [],
   "source": [
    "cm = confusion_matrix(val_target, val_output2)\n",
    "cmd = ConfusionMatrixDisplay(cm, display_labels=[f'grade{n}' for n in range(max_lbl_nums)])"
   ]
  },
  {
   "cell_type": "code",
   "execution_count": 342,
   "metadata": {
    "_last_msg_id": "801ee5c00e89411380b49f4b806f7354"
   },
   "outputs": [
    {
     "data": {
      "image/png": "[encoded data removed]",
      "text/plain": [
       "<Figure size 432x288 with 2 Axes>"
      ]
     },
     "metadata": {
      "needs_background": "light"
     },
     "output_type": "display_data"
    }
   ],
   "source": [
    "cmd.plot(values_format='d');"
   ]
  },
  {
   "cell_type": "code",
   "execution_count": null,
   "metadata": {},
   "outputs": [],
   "source": []
  },
  {
   "cell_type": "code",
   "execution_count": 193,
   "metadata": {
    "_last_msg_id": "bb8aa3f34b154d7fbe7e11fda4daea41"
   },
   "outputs": [],
   "source": [
    "tmp = np_val_outputs[1:]"
   ]
  },
  {
   "cell_type": "code",
   "execution_count": 194,
   "metadata": {
    "_last_msg_id": "86101f7134a3475c888e04262a8cc802"
   },
   "outputs": [
    {
     "data": {
      "text/plain": [
       "(8, 2095)"
      ]
     },
     "execution_count": 194,
     "metadata": {},
     "output_type": "execute_result"
    }
   ],
   "source": [
    "tmp.shape"
   ]
  },
  {
   "cell_type": "code",
   "execution_count": 208,
   "metadata": {
    "_last_msg_id": "51949b6b4c514cc0a1aabea1a6484e25"
   },
   "outputs": [],
   "source": [
    "dif_idx = np.abs((tmp[:, None, :] - tmp[None, :, :])).mean(axis=(0,1))"
   ]
  },
  {
   "cell_type": "code",
   "execution_count": 211,
   "metadata": {
    "_last_msg_id": "37b401cfa8a74aff80c1153df505baae"
   },
   "outputs": [
    {
     "data": {
      "image/png": "[encoded data removed]",
      "text/plain": [
       "<Figure size 432x288 with 1 Axes>"
      ]
     },
     "metadata": {
      "needs_background": "light"
     },
     "output_type": "display_data"
    }
   ],
   "source": [
    "plt.hist(dif_idx, bins=100);"
   ]
  },
  {
   "cell_type": "code",
   "execution_count": null,
   "metadata": {},
   "outputs": [],
   "source": []
  },
  {
   "cell_type": "code",
   "execution_count": 57,
   "metadata": {
    "_last_msg_id": "24652c32c2c5463a8b3a9bf5135f760f"
   },
   "outputs": [],
   "source": [
    "mean_qwk_regs = []\n",
    "real_qwk_regs = []\n",
    "\n",
    "for n in range(len(np_val_outputs)):\n",
    "    val_output, val_target = np_val_outputs[n], np_val_targets[n]\n",
    "    val_output = np.clip(val_output.round(), -0.5, 5.5)\n",
    "\n",
    "    real_qwk_regs.append(cohen_kappa_score(val_output, val_target, weights=\"quadratic\"))\n",
    "\n",
    "    qwk_regs = []\n",
    "    for b in range(0, len(val_output), 64):\n",
    "        qwk_reg = cohen_kappa_score(val_output[b:b+64], val_target[b:b+64], weights=\"quadratic\")\n",
    "        qwk_regs.append(qwk_reg)\n",
    "        # print(qwk_reg)\n",
    "\n",
    "    mean_qwk_regs.append(sum(qwk_regs) / len(qwk_regs))"
   ]
  },
  {
   "cell_type": "code",
   "execution_count": 58,
   "metadata": {
    "_last_msg_id": "b5a4a09a00214b3b8df72a9b36e768d2"
   },
   "outputs": [
    {
     "data": {
      "text/plain": [
       "0.8478560161334803"
      ]
     },
     "execution_count": 58,
     "metadata": {},
     "output_type": "execute_result"
    }
   ],
   "source": [
    "mean_qwk_regs[0]"
   ]
  },
  {
   "cell_type": "code",
   "execution_count": 59,
   "metadata": {
    "_last_msg_id": "54f0c51f918049ee98e62d304c8a7dc3"
   },
   "outputs": [
    {
     "data": {
      "text/plain": [
       "0.853761742673917"
      ]
     },
     "execution_count": 59,
     "metadata": {},
     "output_type": "execute_result"
    }
   ],
   "source": [
    "real_qwk_regs[0]"
   ]
  },
  {
   "cell_type": "code",
   "execution_count": 184,
   "metadata": {
    "_last_msg_id": "383e8557a29a461e87b3dc1683a7128e"
   },
   "outputs": [
    {
     "data": {
      "text/plain": [
       "array([0.00590573, 0.00475616, 0.00505762, 0.00529246, 0.00454274,\n",
       "       0.00441364, 0.00510879, 0.00577147, 0.00335479])"
      ]
     },
     "execution_count": 184,
     "metadata": {},
     "output_type": "execute_result"
    }
   ],
   "source": [
    "np.array(real_qwk_regs) - np.array(mean_qwk_regs)"
   ]
  },
  {
   "cell_type": "code",
   "execution_count": 60,
   "metadata": {
    "_last_msg_id": "9df5df1c26b84633b1dc12ed128d5990"
   },
   "outputs": [
    {
     "data": {
      "text/plain": [
       "<matplotlib.collections.PathCollection at 0x7f136f34bc50>"
      ]
     },
     "execution_count": 60,
     "metadata": {},
     "output_type": "execute_result"
    },
    {
     "data": {
      "image/png": "[encoded data removed]",
      "text/plain": [
       "<Figure size 432x288 with 1 Axes>"
      ]
     },
     "metadata": {
      "needs_background": "light"
     },
     "output_type": "display_data"
    }
   ],
   "source": [
    "plt.scatter(mean_qwk_regs, real_qwk_regs)"
   ]
  },
  {
   "cell_type": "code",
   "execution_count": null,
   "metadata": {},
   "outputs": [],
   "source": []
  },
  {
   "cell_type": "code",
   "execution_count": 33,
   "metadata": {
    "_last_msg_id": "3c3dca444d414f4b96266457fed8a345"
   },
   "outputs": [
    {
     "ename": "NameError",
     "evalue": "name 'WSIPatchesDummyDataset' is not defined",
     "output_type": "error",
     "traceback": [
      "\u001b[0;31m---------------------------------------------------------------------------\u001b[0m",
      "\u001b[0;31mNameError\u001b[0m                                 Traceback (most recent call last)",
      "\u001b[0;32m<ipython-input-33-2341457ac1ee>\u001b[0m in \u001b[0;36m<module>\u001b[0;34m\u001b[0m\n\u001b[1;32m     31\u001b[0m     \u001b[0moutputs\u001b[0m \u001b[0;34m=\u001b[0m \u001b[0;34m[\u001b[0m\u001b[0;34m]\u001b[0m\u001b[0;34m\u001b[0m\u001b[0;34m\u001b[0m\u001b[0m\n\u001b[1;32m     32\u001b[0m \u001b[0;34m\u001b[0m\u001b[0m\n\u001b[0;32m---> 33\u001b[0;31m     train_loader = torch.utils.data.DataLoader(WSIPatchesDummyDataset(train_batch_path.format(epoch % 10)),\n\u001b[0m\u001b[1;32m     34\u001b[0m                                                \u001b[0mbatch_size\u001b[0m\u001b[0;34m=\u001b[0m\u001b[0;36m1\u001b[0m\u001b[0;34m,\u001b[0m \u001b[0mshuffle\u001b[0m\u001b[0;34m=\u001b[0m\u001b[0;32mTrue\u001b[0m\u001b[0;34m,\u001b[0m \u001b[0mnum_workers\u001b[0m\u001b[0;34m=\u001b[0m\u001b[0;36m4\u001b[0m\u001b[0;34m,\u001b[0m\u001b[0;34m\u001b[0m\u001b[0;34m\u001b[0m\u001b[0m\n\u001b[1;32m     35\u001b[0m                                                pin_memory=True)\n",
      "\u001b[0;31mNameError\u001b[0m: name 'WSIPatchesDummyDataset' is not defined"
     ]
    }
   ],
   "source": [
    "model.eval()\n",
    "\n",
    "targets = []\n",
    "o_outputs = []\n",
    "outputs = []\n",
    "\n",
    "with torch.no_grad():\n",
    "    for features, ys, xs, provider, target, gleason_score in val_loader:\n",
    "        b = features.shape[0]\n",
    "\n",
    "        features, target = features.to(device), target.to(device)\n",
    "        target = target[:, None].float()\n",
    "\n",
    "        output, o_labels_class = model(features, ys, xs)\n",
    "        output = torch.sigmoid(output) * max_lbl_nums - 0.5\n",
    "        o_output = output.round().long().clamp(-0.5, 5.5)\n",
    "\n",
    "        targets.append(target)\n",
    "        o_outputs.append(o_output)\n",
    "        outputs.append(output)\n",
    "\n",
    "val_o_outputs = torch.cat(o_outputs).cpu().numpy()\n",
    "val_targets = torch.cat(targets).cpu().numpy()\n",
    "val_outputs = torch.cat(outputs).cpu().numpy()\n",
    "\n",
    "all_coefficients = []\n",
    "\n",
    "for epoch in range(10):\n",
    "    targets = []\n",
    "    o_outputs = []\n",
    "    outputs = []\n",
    "\n",
    "    with torch.no_grad():\n",
    "        for features, ys, xs, provider, target, gleason_score in train_loader:\n",
    "            b = features.shape[0]\n",
    "\n",
    "            features, target = features.to(evice), target.to(device)\n",
    "            target = target[:, None].float()\n",
    "\n",
    "            output, o_labels_class = model(features, ys, xs)\n",
    "            output = torch.sigmoid(output) * max_lbl_nums - 0.5\n",
    "            o_output = output.round().long().clamp(-0.5, 5.5)\n",
    "\n",
    "            targets.append(target)\n",
    "            o_outputs.append(o_output)\n",
    "            outputs.append(output)\n",
    "\n",
    "    o_outputs = torch.cat(o_outputs).cpu().numpy()\n",
    "    targets = torch.cat(targets).cpu().numpy()\n",
    "    outputs = torch.cat(outputs).cpu().numpy()\n",
    "\n",
    "    optimized_rounder = OptimizedRounder()\n",
    "    optimized_rounder.fit(outputs, targets)\n",
    "    coefficients = optimized_rounder.coefficients()\n",
    "    print(coefficients)\n",
    "    all_coefficients.append(coefficients)"
   ]
  }
 ],
 "metadata": {
  "kernelspec": {
   "display_name": "Python 3",
   "language": "python",
   "name": "python3"
  },
  "language_info": {
   "codemirror_mode": {
    "name": "ipython",
    "version": 3
   },
   "file_extension": ".py",
   "mimetype": "text/x-python",
   "name": "python",
   "nbconvert_exporter": "python",
   "pygments_lexer": "ipython3",
   "version": "3.7.4"
  }
 },
 "nbformat": 4,
 "nbformat_minor": 2
}
