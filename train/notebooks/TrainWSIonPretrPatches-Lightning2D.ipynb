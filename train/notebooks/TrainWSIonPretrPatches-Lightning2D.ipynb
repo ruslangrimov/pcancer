{
 "cells": [
  {
   "cell_type": "code",
   "execution_count": 1,
   "metadata": {
    "_last_msg_id": "9fdc91c5e2cd40f38d45774ff4598eaf"
   },
   "outputs": [],
   "source": [
    "import sys\n",
    "import os\n",
    "import psutil\n",
    "\n",
    "import random\n",
    "import math\n",
    "from functools import partial\n",
    "\n",
    "import torch \n",
    "from torch import optim\n",
    "from torch.optim import lr_scheduler\n",
    "from torch import nn\n",
    "from torch.nn import functional as F\n",
    "\n",
    "import multiprocessing.dummy as mp\n",
    "\n",
    "from pytorch_lightning import Trainer\n",
    "from pytorch_lightning.core import LightningModule\n",
    "from pytorch_lightning.callbacks import ModelCheckpoint\n",
    "from pytorch_lightning.loggers.tensorboard import TensorBoardLogger\n",
    "\n",
    "sys.path.append('../..')\n",
    "from lib.schedulers import DelayedScheduler\n",
    "from lib.datasets import (max_lbl_nums, actual_lbl_nums, \n",
    "                          patches_rgb_mean_av1, patches_rgb_std_av1, \n",
    "                          get_train_test_img_ids_split)\n",
    "from lib.dataloaders import PatchesDataset, WSIPatchesDatasetRaw, WSIPatchesDummyDataloader\n",
    "from lib.augmentations import augment_v1_clr_only, augment_empty_clr_only\n",
    "from lib.losses import SmoothLoss\n",
    "from lib.trainers import GeneralModule\n",
    "\n",
    "from lib.models.unetv1 import get_model\n",
    "from lib.models.features_map import FeaturesMap\n",
    "\n",
    "from sklearn.metrics import cohen_kappa_score\n",
    "\n",
    "from tqdm.auto import tqdm\n",
    "\n",
    "import matplotlib.pyplot as plt"
   ]
  },
  {
   "cell_type": "code",
   "execution_count": 2,
   "metadata": {
    "_last_msg_id": "874e663e1b4941c7bba2a2bcac2b1e27"
   },
   "outputs": [],
   "source": [
    "# import cv2\n",
    "import numpy as np\n",
    "# import pandas as pd\n",
    "# from lib.datasets import patches_csv_path, patches_path\n",
    "from lib.datasets import (patches_clean90_csv_path as patches_csv_path, patches_path,\n",
    "                          patches_clean90_pkl_path as patches_pkl_path)\n",
    "# from lib.dataloaders import imread, get_g_score_num, get_provider_num"
   ]
  },
  {
   "cell_type": "code",
   "execution_count": 3,
   "metadata": {
    "_last_msg_id": "fc10c80007864f168f0b7353a75f2b23"
   },
   "outputs": [
    {
     "data": {
      "text/plain": [
       "['e8baa3bb9dcfb9cef5ca599d62bb8046',\n",
       " '9b2948ff81b64677a1a152a1532c1a50',\n",
       " '5b003d43ec0ce5979062442486f84cf7',\n",
       " '375b2c9501320b35ceb638a3274812aa']"
      ]
     },
     "execution_count": 3,
     "metadata": {},
     "output_type": "execute_result"
    }
   ],
   "source": [
    "train_img_ids, test_img_ids = get_train_test_img_ids_split()\n",
    "\n",
    "test_img_ids[:4]"
   ]
  },
  {
   "cell_type": "code",
   "execution_count": 4,
   "metadata": {
    "_last_msg_id": "8ed2e880ac3e42fd8dab912e1e6cef78"
   },
   "outputs": [],
   "source": [
    "from lib.dataloaders import WSIPatchesDataloader, WSIPatchesDatasetRaw\n",
    "from lib.utils import get_pretrained_model, get_features"
   ]
  },
  {
   "cell_type": "code",
   "execution_count": 5,
   "metadata": {
    "_last_msg_id": "62f0b9bb8f264ce6896a8446659348cb"
   },
   "outputs": [],
   "source": [
    "# patches_device = torch.device('cuda:0')\n",
    "\n",
    "#rgb_mean, rgb_std = (torch.tensor(patches_rgb_mean_av1, dtype=torch.float32, device=patches_device), \n",
    "#                     torch.tensor(patches_rgb_std_av1, dtype=torch.float32, device=patches_device))\n",
    "\n",
    "#model = get_pretrained_model(get_model, {'classes': actual_lbl_nums}, \n",
    "#                             \"../Patches256TestRun/version_0/checkpoints/last.ckpt\", patches_device)\n",
    "\n",
    "#get_features_fn = partial(get_features, model=model, device=patches_device, \n",
    "#                          rgb_mean=rgb_mean, rgb_std=rgb_std, \n",
    "#                          features_batch_size=512)"
   ]
  },
  {
   "cell_type": "code",
   "execution_count": null,
   "metadata": {
    "_last_msg_id": "9a7c88b326e3434b866ba3a844e43af4"
   },
   "outputs": [],
   "source": []
  },
  {
   "cell_type": "code",
   "execution_count": 6,
   "metadata": {
    "_last_msg_id": "bc2a52b6fdcd4c638662e85c7d81e4b9"
   },
   "outputs": [],
   "source": [
    "main_batch_size = 64"
   ]
  },
  {
   "cell_type": "code",
   "execution_count": 7,
   "metadata": {
    "_last_msg_id": "3ad4757f6f3b4f5894cfe54ef3ab54f6"
   },
   "outputs": [],
   "source": [
    "train_batch_path = '/mnt/SSDData/pdata/processed/pretrained/train/{}/'\n",
    "test_batch_path = '/mnt/SSDData/pdata/processed/pretrained/val/'\n",
    "\n",
    "train_loader = WSIPatchesDummyDataloader(train_batch_path, precalc_epochs=50, shuffle=True)\n",
    "val_loader = WSIPatchesDummyDataloader(test_batch_path, precalc_epochs=50, shuffle=False)"
   ]
  },
  {
   "cell_type": "code",
   "execution_count": 8,
   "metadata": {
    "_last_msg_id": "af7b424b138b4dedbfb07aa659aec11b"
   },
   "outputs": [],
   "source": [
    "'''\n",
    "train_loader = WSIPatchesDataloader(WSIPatchesDatasetRaw(train_img_ids, patches_pkl_path, \n",
    "                                                         scale=0.5, transform=augment_v1_clr_only),\n",
    "                                    get_features_fn, (512, 8, 8),\n",
    "                                    main_batch_size, shuffle=True, num_workers=5, max_len=300)\n",
    "\n",
    "val_loader = WSIPatchesDataloader(WSIPatchesDatasetRaw(test_img_ids, patches_pkl_path, \n",
    "                                                       scale=0.5, transform=augment_empty_clr_only),\n",
    "                                    get_features_fn, (512, 8, 8),\n",
    "                                    main_batch_size, shuffle=True, num_workers=5, max_len=300)\n",
    "''';"
   ]
  },
  {
   "cell_type": "code",
   "execution_count": 9,
   "metadata": {
    "_last_msg_id": "a5df29d44f9b4206be3bd6f9ceabd75f"
   },
   "outputs": [],
   "source": [
    "class WSIModule1DV1(GeneralModule):\n",
    "    def __init__(self, model, hparams, log_train_every_batch=False):\n",
    "        super().__init__(model, hparams, log_train_every_batch)\n",
    "        self.hparams = hparams\n",
    "        self.model = model\n",
    "        self.log_train_every_batch = log_train_every_batch\n",
    "\n",
    "        self.reg_loss = nn.MSELoss()\n",
    "\n",
    "        label_smoothing = self.hparams['loss']['label_smoothing']\n",
    "        self.class_loss = SmoothLoss(nn.KLDivLoss(), smoothing=label_smoothing,\n",
    "                                     one_hot_target=True)\n",
    "\n",
    "        self.loss_weights = self.hparams['loss']['weights']\n",
    "\n",
    "        self.rgb_mean = torch.tensor(hparams['dataset']['rgb_mean'],\n",
    "                                     dtype=torch.float32)\n",
    "        self.rgb_std = torch.tensor(hparams['dataset']['rgb_std'],\n",
    "                                    dtype=torch.float32)\n",
    "        \n",
    "        self.process = psutil.Process(os.getpid())\n",
    "        \n",
    "        self.max_lbl_nums = hparams['dataset']['classes']\n",
    "        \n",
    "    @classmethod\n",
    "    def _accuracy(cls, output, target):\n",
    "        pred = output\n",
    "        eq = pred.eq(target.view_as(pred))\n",
    "        return eq.float().mean()\n",
    "\n",
    "    def step(self, batch, batch_idx, is_train):\n",
    "        # features, ys, xs, provider, isup_grade, gleason_score = batch \n",
    "        # features = features.mean(-1).mean(-1).transpose(1, -1)\n",
    "        features, ys, xs, provider, isup_grade, gleason_score = batch\n",
    "        \n",
    "        b = features.shape[0]\n",
    "        \n",
    "        labels = isup_grade\n",
    "        \n",
    "        labels_reg = labels[:, None].float()\n",
    "        labels_class = labels        \n",
    "        \n",
    "        o_labels_reg, o_labels_class = self.model(features, ys, xs)\n",
    "        \n",
    "        o_labels_reg = torch.sigmoid(o_labels_reg) * self.max_lbl_nums - 0.5\n",
    "        o_labels_class = F.log_softmax(o_labels_class, dim=-1)\n",
    "        \n",
    "        reg_loss = self.reg_loss(o_labels_reg, labels_reg)\n",
    "        class_loss = self.class_loss(o_labels_class, labels_class)\n",
    "\n",
    "        loss = (self.loss_weights['reg'] * reg_loss +\n",
    "                self.loss_weights['class'] * class_loss)\n",
    "\n",
    "        o_labels_reg = o_labels_reg.round().long().clamp(0, self.max_lbl_nums-1)\n",
    "        o_labels_class = o_labels_class.argmax(dim=-1)        \n",
    "        \n",
    "        acc_reg = self._accuracy(o_labels_reg, labels)\n",
    "        acc_class = self._accuracy(o_labels_class, labels) \n",
    "        \n",
    "        qwk_reg = cohen_kappa_score(o_labels_reg.cpu().numpy(), labels.cpu().numpy(), weights=\"quadratic\")\n",
    "        qwk_class = cohen_kappa_score(o_labels_class.cpu().numpy(), labels.cpu().numpy(), weights=\"quadratic\")        \n",
    "        \n",
    "        lr = self.optimizer.param_groups[0]['lr']\n",
    "\n",
    "        pr = '' if is_train else 'val_'\n",
    "\n",
    "        log_dict = {\n",
    "            pr+'loss': loss,\n",
    "            pr+'reg_loss': float(reg_loss),\n",
    "            pr+'class_loss': float(class_loss),\n",
    "            pr+'acc_reg': float(acc_reg),\n",
    "            pr+'acc_class': float(acc_class),            \n",
    "            pr+'qwk_reg': float(qwk_reg),\n",
    "            pr+'qwk_class': float(qwk_class),            \n",
    "            pr+'lr': lr,\n",
    "            pr+'memory': self.process.memory_info().rss\n",
    "        }\n",
    "\n",
    "        if is_train and self.log_train_every_batch:\n",
    "            return {'loss': loss, 'log': log_dict}\n",
    "        else:\n",
    "            return log_dict\n",
    "\n",
    "    def training_step(self, batch, batch_idx):\n",
    "        return self.step(batch, batch_idx, True)\n",
    "\n",
    "    def validation_step(self, batch, batch_idx):\n",
    "        return self.step(batch, batch_idx, False)\n",
    "\n",
    "    def _apply(self, fn):\n",
    "        super()._apply(fn)\n",
    "        self.rgb_mean = fn(self.rgb_mean)\n",
    "        self.rgb_std = fn(self.rgb_std)\n",
    "\n",
    "        return self"
   ]
  },
  {
   "cell_type": "code",
   "execution_count": 10,
   "metadata": {
    "_last_msg_id": "f60594301e4a42c9b3cac85d66c30119"
   },
   "outputs": [],
   "source": [
    "steps_in_epoh = 1\n",
    "\n",
    "epochs = 90\n",
    "\n",
    "warmup_epochs = 0\n",
    "# warmup_steps = 132\n",
    "warmup_steps = 0\n",
    "batch_size = 64\n",
    "\n",
    "hparams = {\n",
    "    'batch_size': batch_size,\n",
    "    #'learning_rate': 0.1 * batch_size / 256,\n",
    "    #'learning_rate': 0.1 * batch_size / 256 / 2.5,\n",
    "    'learning_rate': 0.001 * batch_size / 256,\n",
    "    #'learning_rate': 0.01 * batch_size / 256,\n",
    "    #'learning_rate': 0.01 * batch_size / 256 * 4,\n",
    "    #'learning_rate': 1.25e-5,\n",
    "    'dataset': {\n",
    "        'rgb_mean': patches_rgb_mean_av1,\n",
    "        'rgb_std': patches_rgb_std_av1,\n",
    "        'classes': max_lbl_nums\n",
    "    },\n",
    "    'optimizer': {\n",
    "        'name': 'torch.optim.Adam',\n",
    "        'params': {\n",
    "             #'momentum': 0.9,\n",
    "             #'weight_decay': 2e-3\n",
    "             'weight_decay': 1e-4\n",
    "             #'weight_decay': 0\n",
    "        }\n",
    "    },\n",
    "    'scheduler': {\n",
    "         #'name': 'torch.optim.lr_scheduler.ExponentialLR',\n",
    "        #'name': 'torch.optim.lr_scheduler.CosineAnnealingLR',\n",
    "        'name': 'lib.schedulers.ExponentialLRWithMin',\n",
    "        'params': {\n",
    "            #'gamma': 1.0,\n",
    "            'gamma': 0.92,\n",
    "            #'T_max': epochs * steps_in_epoh - warmup_steps,\n",
    "            #'eta_min': 1e-3\n",
    "            'eta_min': 1.25e-5\n",
    "        },\n",
    "        #'interval': 'step'\n",
    "        'interval': 'epoch'\n",
    "    },\n",
    "    'loss': {\n",
    "        'weights': {\n",
    "            'reg': 1 / 2, \n",
    "            'class': 9 / 2\n",
    "        },\n",
    "        'label_smoothing': 0.1\n",
    "    },\n",
    "    'warmup_steps': warmup_steps,\n",
    "    'steps_in_epoh': steps_in_epoh,\n",
    "    'epochs': epochs,\n",
    "    # 'source_code': open(__file__, 'rt').read()\n",
    "}"
   ]
  },
  {
   "cell_type": "code",
   "execution_count": 11,
   "metadata": {
    "_last_msg_id": "2504e4bd5831413b8f623984e3daf3b4"
   },
   "outputs": [],
   "source": [
    "steps_in_epoh = len(train_loader)"
   ]
  },
  {
   "cell_type": "code",
   "execution_count": 12,
   "metadata": {
    "_last_msg_id": "576d52c8a499411a801e5c6d0e2bc8bf"
   },
   "outputs": [
    {
     "data": {
      "text/plain": [
       "132"
      ]
     },
     "execution_count": 12,
     "metadata": {},
     "output_type": "execute_result"
    }
   ],
   "source": [
    "steps_in_epoh"
   ]
  },
  {
   "cell_type": "code",
   "execution_count": 13,
   "metadata": {
    "_last_msg_id": "de78645f193c4b038a809b829c7f3307"
   },
   "outputs": [],
   "source": [
    "hparams['steps_in_batch'] = steps_in_epoh\n",
    "#hparams['scheduler']['params']['T_max'] = (epochs * steps_in_epoh -\n",
    "#                                           warmup_steps)"
   ]
  },
  {
   "cell_type": "code",
   "execution_count": 14,
   "metadata": {
    "_last_msg_id": "5fc7c003939a40e081b776902682c9ce"
   },
   "outputs": [],
   "source": [
    "import torchvision.models as models\n",
    "\n",
    "class LambdaLayer(nn.Module):\n",
    "    def __init__(self, lambd):\n",
    "        super(LambdaLayer, self).__init__()\n",
    "        self.lambd = lambd\n",
    "    def forward(self, x):\n",
    "        return self.lambd(x)\n",
    "\n",
    "f_d_rate = 0.0\n",
    "d_rate = 0.0\n",
    "\n",
    "max_height = 70\n",
    "max_width = 40\n",
    "\n",
    "class MainModel(nn.Module):\n",
    "    def __init__(self):\n",
    "        super().__init__()\n",
    "        \n",
    "        self.f_map = FeaturesMap(True, 512, max_height, max_width)\n",
    "        \n",
    "        # self.backbone = models.resnext50_32x4d(pretrained=False)\n",
    "        self.backbone = models.resnet18(pretrained=False)\n",
    "        # self.backbone.conv1 = nn.Conv2d(512, 64, 1)\n",
    "        self.backbone.conv1 = nn.Sequential(\n",
    "            nn.BatchNorm2d(512),\n",
    "            nn.Conv2d(512, 256, 1),\n",
    "            nn.BatchNorm2d(256),\n",
    "            nn.ReLU(),\n",
    "            nn.Conv2d(256, 128, 1),\n",
    "            nn.BatchNorm2d(128),\n",
    "            nn.ReLU(),\n",
    "            nn.Conv2d(128, 64, 1),\n",
    "        )\n",
    "        # self.backbone.fc = nn.Linear(2048, 512)\n",
    "        self.backbone.fc = nn.Linear(512, 512)\n",
    "        self.backbone.maxpool = nn.Identity()\n",
    "        \n",
    "        self.reg_linear = nn.Linear(512, 1)\n",
    "        self.class_linear = nn.Linear(512, max_lbl_nums)\n",
    "\n",
    "    def forward(self, features, ys, xs):\n",
    "        f_map = self.f_map(features, ys, xs)\n",
    "        x = self.backbone(f_map)\n",
    "        return self.reg_linear(x), self.class_linear(x)\n",
    "\n",
    "model = MainModel()"
   ]
  },
  {
   "cell_type": "code",
   "execution_count": 15,
   "metadata": {
    "_last_msg_id": "1b0eeaead6844d50849bb78ad6ab4f4c"
   },
   "outputs": [],
   "source": [
    "# model.backbone"
   ]
  },
  {
   "cell_type": "code",
   "execution_count": 16,
   "metadata": {
    "_last_msg_id": "ab193a954bdf475b8dd824ac1ec4183a"
   },
   "outputs": [],
   "source": [
    "#from torchsummary import summary"
   ]
  },
  {
   "cell_type": "code",
   "execution_count": 17,
   "metadata": {
    "_last_msg_id": "71a4dc7800914aa584d01f8fc84da287"
   },
   "outputs": [],
   "source": [
    "#summary(model.backbone, (512, 70, 40), device='cpu')"
   ]
  },
  {
   "cell_type": "code",
   "execution_count": 18,
   "metadata": {
    "_last_msg_id": "b541ea64b25141ba92b65e9c51344032"
   },
   "outputs": [],
   "source": [
    "module = WSIModule1DV1(model, hparams, log_train_every_batch=False)"
   ]
  },
  {
   "cell_type": "code",
   "execution_count": 19,
   "metadata": {
    "_last_msg_id": "6e41a8e64809439297b88969d85e47c8"
   },
   "outputs": [
    {
     "name": "stderr",
     "output_type": "stream",
     "text": [
      "INFO:lightning:GPU available: True, used: True\n",
      "INFO:lightning:CUDA_VISIBLE_DEVICES: [1]\n"
     ]
    }
   ],
   "source": [
    "trainer = Trainer(max_epochs=hparams['epochs'], gpus=[1,], fast_dev_run=False, num_sanity_val_steps=0)"
   ]
  },
  {
   "cell_type": "code",
   "execution_count": null,
   "metadata": {
    "_last_msg_id": "9cd18416b06a43d888c7b008fd43d550",
    "scrolled": true
   },
   "outputs": [
    {
     "name": "stdout",
     "output_type": "stream",
     "text": [
      "[Adam (\n",
      "Parameter Group 0\n",
      "    amsgrad: False\n",
      "    betas: (0.9, 0.999)\n",
      "    eps: 1e-08\n",
      "    initial_lr: 0.00025\n",
      "    lr: 0.00025\n",
      "    weight_decay: 0.0001\n",
      ")] [{'interval': 'epoch', 'scheduler': <lib.schedulers.DelayedScheduler object at 0x7fd4856822d0>}]\n"
     ]
    },
    {
     "name": "stderr",
     "output_type": "stream",
     "text": [
      "INFO:lightning:\n",
      "   | Name                                 | Type              | Params\n",
      "-----------------------------------------------------------------------\n",
      "0  | model                                | MainModel         | 13 M  \n",
      "1  | model.f_map                          | FeaturesMap       | 1 M   \n",
      "2  | model.backbone                       | ResNet            | 11 M  \n",
      "3  | model.backbone.conv1                 | Sequential        | 174 K \n",
      "4  | model.backbone.conv1.0               | BatchNorm2d       | 1 K   \n",
      "5  | model.backbone.conv1.1               | Conv2d            | 131 K \n",
      "6  | model.backbone.conv1.2               | BatchNorm2d       | 512   \n",
      "7  | model.backbone.conv1.3               | ReLU              | 0     \n",
      "8  | model.backbone.conv1.4               | Conv2d            | 32 K  \n",
      "9  | model.backbone.conv1.5               | BatchNorm2d       | 256   \n",
      "10 | model.backbone.conv1.6               | ReLU              | 0     \n",
      "11 | model.backbone.conv1.7               | Conv2d            | 8 K   \n",
      "12 | model.backbone.bn1                   | BatchNorm2d       | 128   \n",
      "13 | model.backbone.relu                  | ReLU              | 0     \n",
      "14 | model.backbone.maxpool               | Identity          | 0     \n",
      "15 | model.backbone.layer1                | Sequential        | 147 K \n",
      "16 | model.backbone.layer1.0              | BasicBlock        | 73 K  \n",
      "17 | model.backbone.layer1.0.conv1        | Conv2d            | 36 K  \n",
      "18 | model.backbone.layer1.0.bn1          | BatchNorm2d       | 128   \n",
      "19 | model.backbone.layer1.0.relu         | ReLU              | 0     \n",
      "20 | model.backbone.layer1.0.conv2        | Conv2d            | 36 K  \n",
      "21 | model.backbone.layer1.0.bn2          | BatchNorm2d       | 128   \n",
      "22 | model.backbone.layer1.1              | BasicBlock        | 73 K  \n",
      "23 | model.backbone.layer1.1.conv1        | Conv2d            | 36 K  \n",
      "24 | model.backbone.layer1.1.bn1          | BatchNorm2d       | 128   \n",
      "25 | model.backbone.layer1.1.relu         | ReLU              | 0     \n",
      "26 | model.backbone.layer1.1.conv2        | Conv2d            | 36 K  \n",
      "27 | model.backbone.layer1.1.bn2          | BatchNorm2d       | 128   \n",
      "28 | model.backbone.layer2                | Sequential        | 525 K \n",
      "29 | model.backbone.layer2.0              | BasicBlock        | 230 K \n",
      "30 | model.backbone.layer2.0.conv1        | Conv2d            | 73 K  \n",
      "31 | model.backbone.layer2.0.bn1          | BatchNorm2d       | 256   \n",
      "32 | model.backbone.layer2.0.relu         | ReLU              | 0     \n",
      "33 | model.backbone.layer2.0.conv2        | Conv2d            | 147 K \n",
      "34 | model.backbone.layer2.0.bn2          | BatchNorm2d       | 256   \n",
      "35 | model.backbone.layer2.0.downsample   | Sequential        | 8 K   \n",
      "36 | model.backbone.layer2.0.downsample.0 | Conv2d            | 8 K   \n",
      "37 | model.backbone.layer2.0.downsample.1 | BatchNorm2d       | 256   \n",
      "38 | model.backbone.layer2.1              | BasicBlock        | 295 K \n",
      "39 | model.backbone.layer2.1.conv1        | Conv2d            | 147 K \n",
      "40 | model.backbone.layer2.1.bn1          | BatchNorm2d       | 256   \n",
      "41 | model.backbone.layer2.1.relu         | ReLU              | 0     \n",
      "42 | model.backbone.layer2.1.conv2        | Conv2d            | 147 K \n",
      "43 | model.backbone.layer2.1.bn2          | BatchNorm2d       | 256   \n",
      "44 | model.backbone.layer3                | Sequential        | 2 M   \n",
      "45 | model.backbone.layer3.0              | BasicBlock        | 919 K \n",
      "46 | model.backbone.layer3.0.conv1        | Conv2d            | 294 K \n",
      "47 | model.backbone.layer3.0.bn1          | BatchNorm2d       | 512   \n",
      "48 | model.backbone.layer3.0.relu         | ReLU              | 0     \n",
      "49 | model.backbone.layer3.0.conv2        | Conv2d            | 589 K \n",
      "50 | model.backbone.layer3.0.bn2          | BatchNorm2d       | 512   \n",
      "51 | model.backbone.layer3.0.downsample   | Sequential        | 33 K  \n",
      "52 | model.backbone.layer3.0.downsample.0 | Conv2d            | 32 K  \n",
      "53 | model.backbone.layer3.0.downsample.1 | BatchNorm2d       | 512   \n",
      "54 | model.backbone.layer3.1              | BasicBlock        | 1 M   \n",
      "55 | model.backbone.layer3.1.conv1        | Conv2d            | 589 K \n",
      "56 | model.backbone.layer3.1.bn1          | BatchNorm2d       | 512   \n",
      "57 | model.backbone.layer3.1.relu         | ReLU              | 0     \n",
      "58 | model.backbone.layer3.1.conv2        | Conv2d            | 589 K \n",
      "59 | model.backbone.layer3.1.bn2          | BatchNorm2d       | 512   \n",
      "60 | model.backbone.layer4                | Sequential        | 8 M   \n",
      "61 | model.backbone.layer4.0              | BasicBlock        | 3 M   \n",
      "62 | model.backbone.layer4.0.conv1        | Conv2d            | 1 M   \n",
      "63 | model.backbone.layer4.0.bn1          | BatchNorm2d       | 1 K   \n",
      "64 | model.backbone.layer4.0.relu         | ReLU              | 0     \n",
      "65 | model.backbone.layer4.0.conv2        | Conv2d            | 2 M   \n",
      "66 | model.backbone.layer4.0.bn2          | BatchNorm2d       | 1 K   \n",
      "67 | model.backbone.layer4.0.downsample   | Sequential        | 132 K \n",
      "68 | model.backbone.layer4.0.downsample.0 | Conv2d            | 131 K \n",
      "69 | model.backbone.layer4.0.downsample.1 | BatchNorm2d       | 1 K   \n",
      "70 | model.backbone.layer4.1              | BasicBlock        | 4 M   \n",
      "71 | model.backbone.layer4.1.conv1        | Conv2d            | 2 M   \n",
      "72 | model.backbone.layer4.1.bn1          | BatchNorm2d       | 1 K   \n",
      "73 | model.backbone.layer4.1.relu         | ReLU              | 0     \n",
      "74 | model.backbone.layer4.1.conv2        | Conv2d            | 2 M   \n",
      "75 | model.backbone.layer4.1.bn2          | BatchNorm2d       | 1 K   \n",
      "76 | model.backbone.avgpool               | AdaptiveAvgPool2d | 0     \n",
      "77 | model.backbone.fc                    | Linear            | 262 K \n",
      "78 | model.reg_linear                     | Linear            | 513   \n",
      "79 | model.class_linear                   | Linear            | 3 K   \n",
      "80 | reg_loss                             | MSELoss           | 0     \n",
      "81 | class_loss                           | SmoothLoss        | 0     \n",
      "82 | class_loss.criterion                 | KLDivLoss         | 0     \n",
      "/home/ruslan/anaconda3/lib/python3.7/site-packages/pytorch_lightning/utilities/distributed.py:23: RuntimeWarning: Displayed epoch numbers in the progress bar start from \"1\" until v0.6.x, but will start from \"0\" in v0.8.0.\n",
      "  warnings.warn(*args, **kwargs)\n"
     ]
    },
    {
     "data": {
      "application/vnd.jupyter.widget-view+json": {
       "model_id": "16b1e771986746a994e5b955cb1b7574",
       "version_major": 2,
       "version_minor": 0
      },
      "text/plain": [
       "HBox(children=(FloatProgress(value=1.0, bar_style='info', description='Training', layout=Layout(flex='2'), max…"
      ]
     },
     "metadata": {},
     "output_type": "display_data"
    },
    {
     "name": "stderr",
     "output_type": "stream",
     "text": [
      "/home/ruslan/anaconda3/lib/python3.7/site-packages/torch/nn/functional.py:1958: UserWarning: reduction: 'mean' divides the total loss by both the batch size and the support size.'batchmean' divides only by the batch size, and aligns with the KL div math definition.'mean' will be changed to behave the same as 'batchmean' in the next major release.\n",
      "  warnings.warn(\"reduction: 'mean' divides the total loss by both the batch size and the support size.\"\n"
     ]
    },
    {
     "data": {
      "application/vnd.jupyter.widget-view+json": {
       "model_id": "",
       "version_major": 2,
       "version_minor": 0
      },
      "text/plain": [
       "HBox(children=(FloatProgress(value=1.0, bar_style='info', description='Validating', layout=Layout(flex='2'), m…"
      ]
     },
     "metadata": {},
     "output_type": "display_data"
    },
    {
     "data": {
      "application/vnd.jupyter.widget-view+json": {
       "model_id": "",
       "version_major": 2,
       "version_minor": 0
      },
      "text/plain": [
       "HBox(children=(FloatProgress(value=1.0, bar_style='info', description='Validating', layout=Layout(flex='2'), m…"
      ]
     },
     "metadata": {},
     "output_type": "display_data"
    },
    {
     "data": {
      "application/vnd.jupyter.widget-view+json": {
       "model_id": "",
       "version_major": 2,
       "version_minor": 0
      },
      "text/plain": [
       "HBox(children=(FloatProgress(value=1.0, bar_style='info', description='Validating', layout=Layout(flex='2'), m…"
      ]
     },
     "metadata": {},
     "output_type": "display_data"
    },
    {
     "data": {
      "application/vnd.jupyter.widget-view+json": {
       "model_id": "",
       "version_major": 2,
       "version_minor": 0
      },
      "text/plain": [
       "HBox(children=(FloatProgress(value=1.0, bar_style='info', description='Validating', layout=Layout(flex='2'), m…"
      ]
     },
     "metadata": {},
     "output_type": "display_data"
    },
    {
     "data": {
      "application/vnd.jupyter.widget-view+json": {
       "model_id": "",
       "version_major": 2,
       "version_minor": 0
      },
      "text/plain": [
       "HBox(children=(FloatProgress(value=1.0, bar_style='info', description='Validating', layout=Layout(flex='2'), m…"
      ]
     },
     "metadata": {},
     "output_type": "display_data"
    },
    {
     "data": {
      "application/vnd.jupyter.widget-view+json": {
       "model_id": "",
       "version_major": 2,
       "version_minor": 0
      },
      "text/plain": [
       "HBox(children=(FloatProgress(value=1.0, bar_style='info', description='Validating', layout=Layout(flex='2'), m…"
      ]
     },
     "metadata": {},
     "output_type": "display_data"
    },
    {
     "data": {
      "application/vnd.jupyter.widget-view+json": {
       "model_id": "",
       "version_major": 2,
       "version_minor": 0
      },
      "text/plain": [
       "HBox(children=(FloatProgress(value=1.0, bar_style='info', description='Validating', layout=Layout(flex='2'), m…"
      ]
     },
     "metadata": {},
     "output_type": "display_data"
    },
    {
     "data": {
      "application/vnd.jupyter.widget-view+json": {
       "model_id": "",
       "version_major": 2,
       "version_minor": 0
      },
      "text/plain": [
       "HBox(children=(FloatProgress(value=1.0, bar_style='info', description='Validating', layout=Layout(flex='2'), m…"
      ]
     },
     "metadata": {},
     "output_type": "display_data"
    },
    {
     "data": {
      "application/vnd.jupyter.widget-view+json": {
       "model_id": "",
       "version_major": 2,
       "version_minor": 0
      },
      "text/plain": [
       "HBox(children=(FloatProgress(value=1.0, bar_style='info', description='Validating', layout=Layout(flex='2'), m…"
      ]
     },
     "metadata": {},
     "output_type": "display_data"
    },
    {
     "data": {
      "application/vnd.jupyter.widget-view+json": {
       "model_id": "",
       "version_major": 2,
       "version_minor": 0
      },
      "text/plain": [
       "HBox(children=(FloatProgress(value=1.0, bar_style='info', description='Validating', layout=Layout(flex='2'), m…"
      ]
     },
     "metadata": {},
     "output_type": "display_data"
    },
    {
     "data": {
      "application/vnd.jupyter.widget-view+json": {
       "model_id": "",
       "version_major": 2,
       "version_minor": 0
      },
      "text/plain": [
       "HBox(children=(FloatProgress(value=1.0, bar_style='info', description='Validating', layout=Layout(flex='2'), m…"
      ]
     },
     "metadata": {},
     "output_type": "display_data"
    },
    {
     "data": {
      "application/vnd.jupyter.widget-view+json": {
       "model_id": "",
       "version_major": 2,
       "version_minor": 0
      },
      "text/plain": [
       "HBox(children=(FloatProgress(value=1.0, bar_style='info', description='Validating', layout=Layout(flex='2'), m…"
      ]
     },
     "metadata": {},
     "output_type": "display_data"
    },
    {
     "data": {
      "application/vnd.jupyter.widget-view+json": {
       "model_id": "",
       "version_major": 2,
       "version_minor": 0
      },
      "text/plain": [
       "HBox(children=(FloatProgress(value=1.0, bar_style='info', description='Validating', layout=Layout(flex='2'), m…"
      ]
     },
     "metadata": {},
     "output_type": "display_data"
    },
    {
     "data": {
      "application/vnd.jupyter.widget-view+json": {
       "model_id": "",
       "version_major": 2,
       "version_minor": 0
      },
      "text/plain": [
       "HBox(children=(FloatProgress(value=1.0, bar_style='info', description='Validating', layout=Layout(flex='2'), m…"
      ]
     },
     "metadata": {},
     "output_type": "display_data"
    },
    {
     "data": {
      "application/vnd.jupyter.widget-view+json": {
       "model_id": "",
       "version_major": 2,
       "version_minor": 0
      },
      "text/plain": [
       "HBox(children=(FloatProgress(value=1.0, bar_style='info', description='Validating', layout=Layout(flex='2'), m…"
      ]
     },
     "metadata": {},
     "output_type": "display_data"
    },
    {
     "data": {
      "application/vnd.jupyter.widget-view+json": {
       "model_id": "",
       "version_major": 2,
       "version_minor": 0
      },
      "text/plain": [
       "HBox(children=(FloatProgress(value=1.0, bar_style='info', description='Validating', layout=Layout(flex='2'), m…"
      ]
     },
     "metadata": {},
     "output_type": "display_data"
    },
    {
     "data": {
      "application/vnd.jupyter.widget-view+json": {
       "model_id": "",
       "version_major": 2,
       "version_minor": 0
      },
      "text/plain": [
       "HBox(children=(FloatProgress(value=1.0, bar_style='info', description='Validating', layout=Layout(flex='2'), m…"
      ]
     },
     "metadata": {},
     "output_type": "display_data"
    },
    {
     "data": {
      "application/vnd.jupyter.widget-view+json": {
       "model_id": "",
       "version_major": 2,
       "version_minor": 0
      },
      "text/plain": [
       "HBox(children=(FloatProgress(value=1.0, bar_style='info', description='Validating', layout=Layout(flex='2'), m…"
      ]
     },
     "metadata": {},
     "output_type": "display_data"
    },
    {
     "data": {
      "application/vnd.jupyter.widget-view+json": {
       "model_id": "",
       "version_major": 2,
       "version_minor": 0
      },
      "text/plain": [
       "HBox(children=(FloatProgress(value=1.0, bar_style='info', description='Validating', layout=Layout(flex='2'), m…"
      ]
     },
     "metadata": {},
     "output_type": "display_data"
    },
    {
     "data": {
      "application/vnd.jupyter.widget-view+json": {
       "model_id": "",
       "version_major": 2,
       "version_minor": 0
      },
      "text/plain": [
       "HBox(children=(FloatProgress(value=1.0, bar_style='info', description='Validating', layout=Layout(flex='2'), m…"
      ]
     },
     "metadata": {},
     "output_type": "display_data"
    },
    {
     "data": {
      "application/vnd.jupyter.widget-view+json": {
       "model_id": "",
       "version_major": 2,
       "version_minor": 0
      },
      "text/plain": [
       "HBox(children=(FloatProgress(value=1.0, bar_style='info', description='Validating', layout=Layout(flex='2'), m…"
      ]
     },
     "metadata": {},
     "output_type": "display_data"
    },
    {
     "data": {
      "application/vnd.jupyter.widget-view+json": {
       "model_id": "",
       "version_major": 2,
       "version_minor": 0
      },
      "text/plain": [
       "HBox(children=(FloatProgress(value=1.0, bar_style='info', description='Validating', layout=Layout(flex='2'), m…"
      ]
     },
     "metadata": {},
     "output_type": "display_data"
    },
    {
     "data": {
      "application/vnd.jupyter.widget-view+json": {
       "model_id": "",
       "version_major": 2,
       "version_minor": 0
      },
      "text/plain": [
       "HBox(children=(FloatProgress(value=1.0, bar_style='info', description='Validating', layout=Layout(flex='2'), m…"
      ]
     },
     "metadata": {},
     "output_type": "display_data"
    },
    {
     "data": {
      "application/vnd.jupyter.widget-view+json": {
       "model_id": "",
       "version_major": 2,
       "version_minor": 0
      },
      "text/plain": [
       "HBox(children=(FloatProgress(value=1.0, bar_style='info', description='Validating', layout=Layout(flex='2'), m…"
      ]
     },
     "metadata": {},
     "output_type": "display_data"
    },
    {
     "data": {
      "application/vnd.jupyter.widget-view+json": {
       "model_id": "",
       "version_major": 2,
       "version_minor": 0
      },
      "text/plain": [
       "HBox(children=(FloatProgress(value=1.0, bar_style='info', description='Validating', layout=Layout(flex='2'), m…"
      ]
     },
     "metadata": {},
     "output_type": "display_data"
    },
    {
     "data": {
      "application/vnd.jupyter.widget-view+json": {
       "model_id": "",
       "version_major": 2,
       "version_minor": 0
      },
      "text/plain": [
       "HBox(children=(FloatProgress(value=1.0, bar_style='info', description='Validating', layout=Layout(flex='2'), m…"
      ]
     },
     "metadata": {},
     "output_type": "display_data"
    },
    {
     "data": {
      "application/vnd.jupyter.widget-view+json": {
       "model_id": "",
       "version_major": 2,
       "version_minor": 0
      },
      "text/plain": [
       "HBox(children=(FloatProgress(value=1.0, bar_style='info', description='Validating', layout=Layout(flex='2'), m…"
      ]
     },
     "metadata": {},
     "output_type": "display_data"
    },
    {
     "data": {
      "application/vnd.jupyter.widget-view+json": {
       "model_id": "",
       "version_major": 2,
       "version_minor": 0
      },
      "text/plain": [
       "HBox(children=(FloatProgress(value=1.0, bar_style='info', description='Validating', layout=Layout(flex='2'), m…"
      ]
     },
     "metadata": {},
     "output_type": "display_data"
    },
    {
     "data": {
      "application/vnd.jupyter.widget-view+json": {
       "model_id": "",
       "version_major": 2,
       "version_minor": 0
      },
      "text/plain": [
       "HBox(children=(FloatProgress(value=1.0, bar_style='info', description='Validating', layout=Layout(flex='2'), m…"
      ]
     },
     "metadata": {},
     "output_type": "display_data"
    },
    {
     "data": {
      "application/vnd.jupyter.widget-view+json": {
       "model_id": "",
       "version_major": 2,
       "version_minor": 0
      },
      "text/plain": [
       "HBox(children=(FloatProgress(value=1.0, bar_style='info', description='Validating', layout=Layout(flex='2'), m…"
      ]
     },
     "metadata": {},
     "output_type": "display_data"
    },
    {
     "data": {
      "application/vnd.jupyter.widget-view+json": {
       "model_id": "",
       "version_major": 2,
       "version_minor": 0
      },
      "text/plain": [
       "HBox(children=(FloatProgress(value=1.0, bar_style='info', description='Validating', layout=Layout(flex='2'), m…"
      ]
     },
     "metadata": {},
     "output_type": "display_data"
    },
    {
     "data": {
      "application/vnd.jupyter.widget-view+json": {
       "model_id": "",
       "version_major": 2,
       "version_minor": 0
      },
      "text/plain": [
       "HBox(children=(FloatProgress(value=1.0, bar_style='info', description='Validating', layout=Layout(flex='2'), m…"
      ]
     },
     "metadata": {},
     "output_type": "display_data"
    },
    {
     "data": {
      "application/vnd.jupyter.widget-view+json": {
       "model_id": "",
       "version_major": 2,
       "version_minor": 0
      },
      "text/plain": [
       "HBox(children=(FloatProgress(value=1.0, bar_style='info', description='Validating', layout=Layout(flex='2'), m…"
      ]
     },
     "metadata": {},
     "output_type": "display_data"
    },
    {
     "data": {
      "application/vnd.jupyter.widget-view+json": {
       "model_id": "",
       "version_major": 2,
       "version_minor": 0
      },
      "text/plain": [
       "HBox(children=(FloatProgress(value=1.0, bar_style='info', description='Validating', layout=Layout(flex='2'), m…"
      ]
     },
     "metadata": {},
     "output_type": "display_data"
    },
    {
     "data": {
      "application/vnd.jupyter.widget-view+json": {
       "model_id": "",
       "version_major": 2,
       "version_minor": 0
      },
      "text/plain": [
       "HBox(children=(FloatProgress(value=1.0, bar_style='info', description='Validating', layout=Layout(flex='2'), m…"
      ]
     },
     "metadata": {},
     "output_type": "display_data"
    },
    {
     "data": {
      "application/vnd.jupyter.widget-view+json": {
       "model_id": "",
       "version_major": 2,
       "version_minor": 0
      },
      "text/plain": [
       "HBox(children=(FloatProgress(value=1.0, bar_style='info', description='Validating', layout=Layout(flex='2'), m…"
      ]
     },
     "metadata": {},
     "output_type": "display_data"
    },
    {
     "data": {
      "application/vnd.jupyter.widget-view+json": {
       "model_id": "",
       "version_major": 2,
       "version_minor": 0
      },
      "text/plain": [
       "HBox(children=(FloatProgress(value=1.0, bar_style='info', description='Validating', layout=Layout(flex='2'), m…"
      ]
     },
     "metadata": {},
     "output_type": "display_data"
    },
    {
     "data": {
      "application/vnd.jupyter.widget-view+json": {
       "model_id": "",
       "version_major": 2,
       "version_minor": 0
      },
      "text/plain": [
       "HBox(children=(FloatProgress(value=1.0, bar_style='info', description='Validating', layout=Layout(flex='2'), m…"
      ]
     },
     "metadata": {},
     "output_type": "display_data"
    }
   ],
   "source": [
    "trainer.fit(module, train_loader, val_loader)\n",
    "trainer.save_checkpoint(os.path.join(trainer.checkpoint_callback.dirpath,\n",
    "                                     \"last.ckpt\"))"
   ]
  },
  {
   "cell_type": "code",
   "execution_count": null,
   "metadata": {},
   "outputs": [],
   "source": []
  },
  {
   "cell_type": "code",
   "execution_count": null,
   "metadata": {},
   "outputs": [],
   "source": []
  }
 ],
 "metadata": {
  "kernelspec": {
   "display_name": "Python 3",
   "language": "python",
   "name": "python3"
  },
  "language_info": {
   "codemirror_mode": {
    "name": "ipython",
    "version": 3
   },
   "file_extension": ".py",
   "mimetype": "text/x-python",
   "name": "python",
   "nbconvert_exporter": "python",
   "pygments_lexer": "ipython3",
   "version": "3.7.4"
  }
 },
 "nbformat": 4,
 "nbformat_minor": 2
}
