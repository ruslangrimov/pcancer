{
 "cells": [
  {
   "cell_type": "code",
   "execution_count": 2,
   "metadata": {
    "_last_msg_id": "0fcbee6bab7b4caf85f6b32fcfd8176f"
   },
   "outputs": [],
   "source": [
    "import sys\n",
    "import os\n",
    "\n",
    "import random\n",
    "import math\n",
    "\n",
    "import torch \n",
    "from torch import optim\n",
    "from torch.optim import lr_scheduler\n",
    "from torch import nn\n",
    "from torch.nn import functional as F\n",
    "\n",
    "from pytorch_lightning import Trainer\n",
    "from pytorch_lightning.core import LightningModule\n",
    "from pytorch_lightning.callbacks import ModelCheckpoint\n",
    "from pytorch_lightning.loggers.tensorboard import TensorBoardLogger\n",
    "\n",
    "sys.path.append('../..')\n",
    "from lib.schedulers import DelayedScheduler\n",
    "from lib.datasets import (max_lbl_nums, actual_lbl_nums, \n",
    "                          patches_rgb_mean_av1, patches_rgb_std_av1, \n",
    "                          get_train_test_img_ids_split)\n",
    "from lib.dataloaders import PatchesDataset, WSIPatchesDatasetRaw\n",
    "from lib.augmentations import augment_v1_clr_only, augment_empty_clr_only\n",
    "from lib.losses import SmoothLoss\n",
    "\n",
    "from lib.models.unetv1 import get_model\n",
    "\n",
    "from sklearn.metrics import cohen_kappa_score\n",
    "\n",
    "from sklearn.metrics import plot_confusion_matrix, confusion_matrix, ConfusionMatrixDisplay"
   ]
  },
  {
   "cell_type": "code",
   "execution_count": 2,
   "metadata": {
    "_last_msg_id": "45e0fc413c97490782912b5d4f889d51"
   },
   "outputs": [],
   "source": [
    "# import cv2\n",
    "import numpy as np\n",
    "# import pandas as pd\n",
    "# from lib.datasets import patches_csv_path, patches_path\n",
    "from lib.datasets import patches_clean90_csv_path as patches_csv_path, patches_path\n",
    "# from lib.dataloaders import imread, get_g_score_num, get_provider_num"
   ]
  },
  {
   "cell_type": "code",
   "execution_count": 3,
   "metadata": {
    "_last_msg_id": "6c319ffd3f4847dfb28f9de56ff2122b"
   },
   "outputs": [],
   "source": [
    "train_img_ids, test_img_ids = get_train_test_img_ids_split()"
   ]
  },
  {
   "cell_type": "code",
   "execution_count": 4,
   "metadata": {
    "_last_msg_id": "a368fa14a3184dbb8dfa01f5b634c43c"
   },
   "outputs": [
    {
     "data": {
      "text/plain": [
       "8420"
      ]
     },
     "execution_count": 4,
     "metadata": {},
     "output_type": "execute_result"
    }
   ],
   "source": [
    "len(train_img_ids)"
   ]
  },
  {
   "cell_type": "code",
   "execution_count": 5,
   "metadata": {
    "_last_msg_id": "2202ef2ee54645a1a8692852ebf49882"
   },
   "outputs": [
    {
     "data": {
      "text/plain": [
       "['e8baa3bb9dcfb9cef5ca599d62bb8046',\n",
       " '9b2948ff81b64677a1a152a1532c1a50',\n",
       " '5b003d43ec0ce5979062442486f84cf7',\n",
       " '375b2c9501320b35ceb638a3274812aa']"
      ]
     },
     "execution_count": 5,
     "metadata": {},
     "output_type": "execute_result"
    }
   ],
   "source": [
    "test_img_ids[:4]"
   ]
  },
  {
   "cell_type": "code",
   "execution_count": 6,
   "metadata": {
    "_last_msg_id": "6b707341a4884c4692902399a7cff711"
   },
   "outputs": [],
   "source": [
    "class LambdaLayer(nn.Module):\n",
    "    def __init__(self, lambd):\n",
    "        super(LambdaLayer, self).__init__()\n",
    "        self.lambd = lambd\n",
    "    def forward(self, x):\n",
    "        return self.lambd(x)"
   ]
  },
  {
   "cell_type": "code",
   "execution_count": 7,
   "metadata": {
    "_last_msg_id": "751f36db36f7423193a458db22d04598"
   },
   "outputs": [],
   "source": [
    "max_len = 300"
   ]
  },
  {
   "cell_type": "code",
   "execution_count": 8,
   "metadata": {
    "_last_msg_id": "38ee86f5775d424a9bf2d86d43e97e32"
   },
   "outputs": [],
   "source": [
    "main_device = torch.device('cuda:1')"
   ]
  },
  {
   "cell_type": "code",
   "execution_count": 9,
   "metadata": {
    "_last_msg_id": "26071d6a5cf4472487e25a8ef5830733"
   },
   "outputs": [],
   "source": [
    "from tqdm.auto import tqdm"
   ]
  },
  {
   "cell_type": "code",
   "execution_count": 10,
   "metadata": {
    "_last_msg_id": "58f3b2ab1e7b49ca8c705825a59f797e"
   },
   "outputs": [],
   "source": [
    "train_batch_path = '/mnt/SSDData/pdata/processed/tmp/tmp{}/'\n",
    "test_batch_path = '/mnt/SSDData/pdata/processed/tmp/val_tmp/'"
   ]
  },
  {
   "cell_type": "code",
   "execution_count": 11,
   "metadata": {
    "_last_msg_id": "b7471cc414d1488eb80c2201284234b9"
   },
   "outputs": [],
   "source": [
    "class WSIPatchesDummyDataset(torch.utils.data.Dataset):\n",
    "    def __init__(self, batch_path):\n",
    "        self.batch_path = batch_path\n",
    "        self.idxs = list(range(len(os.listdir(batch_path)) // 2))\n",
    "\n",
    "    def __len__(self):\n",
    "        return len(self.idxs)\n",
    "\n",
    "    def __getitem__(self, idx):\n",
    "        features = torch.load(os.path.join(self.batch_path, f\"features_{idx}.pth\"), map_location='cpu')\n",
    "        target = torch.load(os.path.join(self.batch_path, f\"target_{idx}.pth\"), map_location='cpu')\n",
    "\n",
    "        return features, target"
   ]
  },
  {
   "cell_type": "code",
   "execution_count": 12,
   "metadata": {
    "_last_msg_id": "94df12160f4c4d2aa2e055f1f6ade2e6"
   },
   "outputs": [],
   "source": [
    "#empty_mask = (main_features.view(b, max_len, -1) == 0).all(dim=-1)[..., None, None, None]\n",
    "#dummy_feature = nn.Parameter(torch.ones((1, 1, 512, 8, 8), dtype=torch.float32, device=main_device))\n",
    "#main_features = main_features + empty_mask * dummy_feature.expand(b, 1, 512, 8, 8)"
   ]
  },
  {
   "cell_type": "code",
   "execution_count": 17,
   "metadata": {
    "_last_msg_id": "308e6e14d70c42a182ea979b253fdf19"
   },
   "outputs": [],
   "source": [
    "f_d_rate = 0.5\n",
    "d_rate = 0.4\n",
    "\n",
    "class MainModel(nn.Module):\n",
    "    def __init__(self):\n",
    "        super().__init__()\n",
    "        \n",
    "        # self.dummy_feature = nn.Parameter(torch.randn((1, 512, 1), dtype=torch.float32))\n",
    "        \n",
    "        self.backbone = nn.Sequential(\n",
    "            nn.BatchNorm1d(512),\n",
    "            #nn.Dropout(f_d_rate),\n",
    "\n",
    "            nn.Conv1d(512, 64, 1),\n",
    "            #nn.Conv1d(512*8*8, 64, 1),\n",
    "            nn.ReLU(inplace=True),\n",
    "            #nn.Dropout(d_rate),\n",
    "            nn.BatchNorm1d(64),\n",
    "\n",
    "            nn.Conv1d(64, 64, 1),\n",
    "            nn.ReLU(inplace=True),\n",
    "            #nn.Dropout(d_rate),\n",
    "            nn.BatchNorm1d(64),\n",
    "\n",
    "            nn.AdaptiveMaxPool1d(1),\n",
    "            LambdaLayer(lambda x: x.view(-1, 64)),\n",
    "\n",
    "            nn.Linear(64, 64),\n",
    "            nn.ReLU(inplace=True),\n",
    "            #nn.Dropout(d_rate),\n",
    "            nn.BatchNorm1d(64),\n",
    "            # nn.LayerNorm(64),\n",
    "        )\n",
    "        \n",
    "        self.reg_linear = nn.Linear(64, 1)\n",
    "        self.class_linear = nn.Linear(64, max_lbl_nums)\n",
    "\n",
    "    def forward(self, x):\n",
    "        # b, 300, 512\n",
    "        b = x.shape[0]\n",
    "        \n",
    "        # empty_mask = (x == 0).all(dim=1)[:, None, :]\n",
    "        # x = x + empty_mask * self.dummy_feature.expand(b, 512, max_len)\n",
    "        \n",
    "        x = self.backbone(x)\n",
    "        return self.reg_linear(x), self.class_linear(x)\n",
    "\n",
    "main_model = MainModel().to(main_device)"
   ]
  },
  {
   "cell_type": "code",
   "execution_count": 18,
   "metadata": {
    "_last_msg_id": "b716256cf7a74bd78eef76d535bf992a"
   },
   "outputs": [
    {
     "data": {
      "text/plain": [
       "43015"
      ]
     },
     "execution_count": 18,
     "metadata": {},
     "output_type": "execute_result"
    }
   ],
   "source": [
    "sum([p.data.numel() for p in main_model.parameters()])"
   ]
  },
  {
   "cell_type": "code",
   "execution_count": 19,
   "metadata": {
    "_last_msg_id": "42a3eccd8c034c128e62b8e41271f5ac"
   },
   "outputs": [],
   "source": [
    "optimizer = optim.Adam(main_model.parameters(), lr=0.0004, weight_decay=2e-3)\n",
    "# optimizer = optim.SGD(main_model.parameters(), lr=0.01, weight_decay=2e-3)\n",
    "# optimizer = optim.SGD(main_model.parameters(), lr=0.01, weight_decay=1e-4)\n",
    "lr_scheduler = optim.lr_scheduler.ExponentialLR(optimizer, gamma=0.94, last_epoch=-1)\n",
    "\n",
    "criterion_reg = nn.MSELoss()\n",
    "criterion_class = SmoothLoss(lambda o, t: F.kl_div(o, t), smoothing=0.1, one_hot_target=True)\n",
    "# criterion = lambda output, target: ((output-target)**3).abs().mean() / 2.0\n",
    "# w_reg, w_class = 1, 0\n",
    "w_reg, w_class = 1 / 2, 9 / 2\n",
    "# w_reg, w_class = 0.2, 8 "
   ]
  },
  {
   "cell_type": "code",
   "execution_count": 20,
   "metadata": {
    "_last_msg_id": "109c5a597ecd41a78107eb64fbc50d15",
    "scrolled": true
   },
   "outputs": [
    {
     "data": {
      "application/vnd.jupyter.widget-view+json": {
       "model_id": "602e3b44773d437fb4fdbc4bd95524a0",
       "version_major": 2,
       "version_minor": 0
      },
      "text/plain": [
       "HBox(children=(FloatProgress(value=0.0, max=50.0), HTML(value='')))"
      ]
     },
     "metadata": {},
     "output_type": "display_data"
    },
    {
     "name": "stdout",
     "output_type": "stream",
     "text": [
      "0. train loss: 1.6287, acc: 0.2383/0.4778, qwk: 0.6584/0.6353, lr: 0.00038. \n",
      "0.   val loss: 1.1061, acc: 0.3399/0.6081, qwk: 0.7675/0.7846\n",
      "\n",
      "1. train loss: 1.2175, acc: 0.2923/0.6035, qwk: 0.7234/0.7419, lr: 0.00035. \n",
      "1.   val loss: 1.1493, acc: 0.2750/0.6062, qwk: 0.7530/0.7740\n",
      "\n",
      "2. train loss: 1.0901, acc: 0.3882/0.6123, qwk: 0.7565/0.7527, lr: 0.00033. \n",
      "2.   val loss: 0.9487, acc: 0.4776/0.6363, qwk: 0.8124/0.8072\n",
      "\n",
      "3. train loss: 1.0423, acc: 0.4552/0.6256, qwk: 0.7748/0.7602, lr: 0.00031. \n",
      "3.   val loss: 0.9632, acc: 0.5032/0.6279, qwk: 0.8035/0.7770\n",
      "\n",
      "4. train loss: 1.0020, acc: 0.4990/0.6330, qwk: 0.7908/0.7721, lr: 0.00029. \n",
      "4.   val loss: 1.0142, acc: 0.5123/0.6241, qwk: 0.7925/0.7640\n",
      "\n",
      "5. train loss: 1.0049, acc: 0.5064/0.6388, qwk: 0.7912/0.7607, lr: 0.00028. \n",
      "5.   val loss: 1.0515, acc: 0.5244/0.6200, qwk: 0.7732/0.7863\n",
      "\n",
      "6. train loss: 0.9791, acc: 0.5109/0.6451, qwk: 0.7991/0.7836, lr: 0.00026. \n",
      "6.   val loss: 0.9298, acc: 0.5375/0.6395, qwk: 0.8189/0.7981\n",
      "\n",
      "7. train loss: 0.9751, acc: 0.5145/0.6386, qwk: 0.7979/0.7802, lr: 0.00024. \n",
      "7.   val loss: 0.9190, acc: 0.5267/0.6430, qwk: 0.8219/0.8131\n",
      "\n",
      "8. train loss: 0.9542, acc: 0.5321/0.6438, qwk: 0.8068/0.7811, lr: 0.00023. \n",
      "8.   val loss: 0.9150, acc: 0.5512/0.6464, qwk: 0.8296/0.8102\n",
      "\n",
      "9. train loss: 0.9667, acc: 0.5219/0.6466, qwk: 0.8008/0.7800, lr: 0.00022. \n",
      "9.   val loss: 0.8989, acc: 0.5444/0.6576, qwk: 0.8346/0.8237\n",
      "\n",
      "10. train loss: 0.9595, acc: 0.5266/0.6461, qwk: 0.8033/0.7817, lr: 0.00020. \n",
      "10.   val loss: 0.9477, acc: 0.5274/0.6460, qwk: 0.8044/0.8052\n",
      "\n",
      "11. train loss: 0.9405, acc: 0.5351/0.6548, qwk: 0.8088/0.7924, lr: 0.00019. \n",
      "11.   val loss: 0.9117, acc: 0.5427/0.6499, qwk: 0.8397/0.8305\n",
      "\n",
      "12. train loss: 0.9242, acc: 0.5397/0.6563, qwk: 0.8180/0.7990, lr: 0.00018. \n",
      "12.   val loss: 0.9204, acc: 0.5408/0.6512, qwk: 0.8200/0.8079\n",
      "\n",
      "13. train loss: 0.9398, acc: 0.5342/0.6522, qwk: 0.8091/0.7860, lr: 0.00017. \n",
      "13.   val loss: 0.8937, acc: 0.5484/0.6542, qwk: 0.8315/0.8205\n",
      "\n",
      "14. train loss: 0.9218, acc: 0.5362/0.6575, qwk: 0.8121/0.7934, lr: 0.00016. \n",
      "14.   val loss: 0.9004, acc: 0.5232/0.6529, qwk: 0.8298/0.8245\n",
      "\n",
      "15. train loss: 0.9210, acc: 0.5404/0.6616, qwk: 0.8158/0.7956, lr: 0.00015. \n",
      "15.   val loss: 0.9129, acc: 0.5231/0.6621, qwk: 0.8136/0.8226\n",
      "\n",
      "16. train loss: 0.9105, acc: 0.5422/0.6632, qwk: 0.8177/0.8073, lr: 0.00014. \n",
      "16.   val loss: 0.9180, acc: 0.5392/0.6503, qwk: 0.8201/0.8113\n",
      "\n",
      "17. train loss: 0.9138, acc: 0.5402/0.6552, qwk: 0.8179/0.7970, lr: 0.00013. \n",
      "17.   val loss: 0.8855, acc: 0.5327/0.6621, qwk: 0.8332/0.8334\n",
      "\n",
      "18. train loss: 0.8918, acc: 0.5495/0.6684, qwk: 0.8241/0.8090, lr: 0.00012. \n",
      "18.   val loss: 0.8852, acc: 0.5454/0.6689, qwk: 0.8329/0.8267\n",
      "\n",
      "19. train loss: 0.9055, acc: 0.5418/0.6617, qwk: 0.8191/0.7988, lr: 0.00012. \n",
      "19.   val loss: 0.9069, acc: 0.5607/0.6613, qwk: 0.8235/0.8216\n",
      "\n",
      "20. train loss: 0.9039, acc: 0.5524/0.6622, qwk: 0.8216/0.7974, lr: 0.00011. \n",
      "20.   val loss: 0.8970, acc: 0.5482/0.6599, qwk: 0.8349/0.8290\n",
      "\n",
      "21. train loss: 0.8919, acc: 0.5471/0.6672, qwk: 0.8229/0.8059, lr: 0.00010. \n",
      "21.   val loss: 0.8838, acc: 0.5490/0.6548, qwk: 0.8337/0.8205\n",
      "\n",
      "22. train loss: 0.8772, acc: 0.5539/0.6661, qwk: 0.8274/0.8061, lr: 0.00010. \n",
      "22.   val loss: 0.8893, acc: 0.5292/0.6693, qwk: 0.8373/0.8357\n",
      "\n",
      "23. train loss: 0.8830, acc: 0.5507/0.6641, qwk: 0.8272/0.8053, lr: 0.00009. \n",
      "23.   val loss: 0.8760, acc: 0.5461/0.6712, qwk: 0.8354/0.8331\n",
      "\n",
      "24. train loss: 0.8724, acc: 0.5585/0.6686, qwk: 0.8310/0.8092, lr: 0.00009. \n",
      "24.   val loss: 0.8718, acc: 0.5300/0.6720, qwk: 0.8327/0.8337\n",
      "\n",
      "25. train loss: 0.8758, acc: 0.5541/0.6709, qwk: 0.8278/0.8049, lr: 0.00008. \n",
      "25.   val loss: 0.8960, acc: 0.5489/0.6634, qwk: 0.8286/0.8195\n",
      "\n",
      "26. train loss: 0.8718, acc: 0.5569/0.6758, qwk: 0.8294/0.8176, lr: 0.00008. \n",
      "26.   val loss: 0.8749, acc: 0.5529/0.6720, qwk: 0.8428/0.8303\n",
      "\n",
      "27. train loss: 0.8746, acc: 0.5549/0.6667, qwk: 0.8289/0.8032, lr: 0.00007. \n",
      "27.   val loss: 0.8780, acc: 0.5507/0.6695, qwk: 0.8423/0.8296\n",
      "\n",
      "28. train loss: 0.8521, acc: 0.5641/0.6719, qwk: 0.8358/0.8102, lr: 0.00007. \n",
      "28.   val loss: 0.8995, acc: 0.5448/0.6656, qwk: 0.8239/0.8250\n",
      "\n",
      "29. train loss: 0.8652, acc: 0.5520/0.6712, qwk: 0.8307/0.8058, lr: 0.00006. \n",
      "29.   val loss: 0.8800, acc: 0.5554/0.6660, qwk: 0.8475/0.8339\n",
      "\n",
      "30. train loss: 0.8665, acc: 0.5588/0.6675, qwk: 0.8325/0.8078, lr: 0.00006. \n",
      "30.   val loss: 0.8605, acc: 0.5652/0.6695, qwk: 0.8442/0.8334\n",
      "\n",
      "31. train loss: 0.8554, acc: 0.5612/0.6762, qwk: 0.8356/0.8128, lr: 0.00006. \n",
      "31.   val loss: 0.8782, acc: 0.5296/0.6660, qwk: 0.8411/0.8298\n",
      "\n",
      "32. train loss: 0.8447, acc: 0.5625/0.6751, qwk: 0.8388/0.8143, lr: 0.00005. \n",
      "32.   val loss: 0.8770, acc: 0.5545/0.6686, qwk: 0.8349/0.8335\n",
      "\n",
      "33. train loss: 0.8463, acc: 0.5673/0.6703, qwk: 0.8379/0.8133, lr: 0.00005. \n",
      "33.   val loss: 0.8746, acc: 0.5455/0.6706, qwk: 0.8382/0.8268\n",
      "\n",
      "34. train loss: 0.8434, acc: 0.5695/0.6727, qwk: 0.8401/0.8183, lr: 0.00005. \n",
      "34.   val loss: 0.8680, acc: 0.5483/0.6689, qwk: 0.8406/0.8321\n",
      "\n",
      "35. train loss: 0.8460, acc: 0.5637/0.6801, qwk: 0.8371/0.8129, lr: 0.00004. \n",
      "35.   val loss: 0.8721, acc: 0.5591/0.6744, qwk: 0.8423/0.8318\n",
      "\n",
      "36. train loss: 0.8452, acc: 0.5642/0.6779, qwk: 0.8379/0.8206, lr: 0.00004. \n",
      "36.   val loss: 0.8713, acc: 0.5570/0.6714, qwk: 0.8364/0.8285\n",
      "\n",
      "37. train loss: 0.8474, acc: 0.5606/0.6709, qwk: 0.8355/0.8131, lr: 0.00004. \n",
      "37.   val loss: 0.8783, acc: 0.5502/0.6706, qwk: 0.8362/0.8321\n",
      "\n",
      "38. train loss: 0.8281, acc: 0.5689/0.6782, qwk: 0.8414/0.8178, lr: 0.00004. \n",
      "38.   val loss: 0.8755, acc: 0.5494/0.6749, qwk: 0.8374/0.8289\n",
      "\n",
      "39. train loss: 0.8413, acc: 0.5610/0.6772, qwk: 0.8385/0.8164, lr: 0.00003. \n",
      "39.   val loss: 0.8738, acc: 0.5567/0.6715, qwk: 0.8382/0.8292\n",
      "\n",
      "40. train loss: 0.8464, acc: 0.5680/0.6737, qwk: 0.8375/0.8140, lr: 0.00003. \n",
      "40.   val loss: 0.8692, acc: 0.5671/0.6678, qwk: 0.8409/0.8288\n",
      "\n",
      "41. train loss: 0.8328, acc: 0.5649/0.6793, qwk: 0.8404/0.8163, lr: 0.00003. \n",
      "41.   val loss: 0.8719, acc: 0.5502/0.6698, qwk: 0.8370/0.8336\n",
      "\n",
      "42. train loss: 0.8225, acc: 0.5726/0.6773, qwk: 0.8469/0.8225, lr: 0.00003. \n",
      "42.   val loss: 0.8742, acc: 0.5425/0.6736, qwk: 0.8358/0.8305\n",
      "\n",
      "43. train loss: 0.8255, acc: 0.5688/0.6750, qwk: 0.8425/0.8196, lr: 0.00003. \n",
      "43.   val loss: 0.8701, acc: 0.5393/0.6717, qwk: 0.8364/0.8323\n",
      "\n",
      "44. train loss: 0.8219, acc: 0.5700/0.6781, qwk: 0.8462/0.8249, lr: 0.00002. \n",
      "44.   val loss: 0.8859, acc: 0.5611/0.6641, qwk: 0.8346/0.8283\n",
      "\n",
      "45. train loss: 0.8253, acc: 0.5709/0.6825, qwk: 0.8418/0.8178, lr: 0.00002. \n",
      "45.   val loss: 0.8749, acc: 0.5513/0.6668, qwk: 0.8352/0.8282\n",
      "\n",
      "46. train loss: 0.8283, acc: 0.5710/0.6809, qwk: 0.8432/0.8256, lr: 0.00002. \n",
      "46.   val loss: 0.8692, acc: 0.5493/0.6682, qwk: 0.8386/0.8265\n",
      "\n",
      "47. train loss: 0.8302, acc: 0.5637/0.6773, qwk: 0.8411/0.8194, lr: 0.00002. \n",
      "47.   val loss: 0.8700, acc: 0.5472/0.6763, qwk: 0.8395/0.8313\n",
      "\n",
      "48. train loss: 0.8110, acc: 0.5790/0.6808, qwk: 0.8464/0.8210, lr: 0.00002. \n",
      "48.   val loss: 0.8688, acc: 0.5594/0.6755, qwk: 0.8422/0.8320\n",
      "\n",
      "49. train loss: 0.8261, acc: 0.5664/0.6792, qwk: 0.8433/0.8200, lr: 0.00002. \n",
      "49.   val loss: 0.8792, acc: 0.5509/0.6698, qwk: 0.8351/0.8298\n",
      "\n",
      "\n"
     ]
    }
   ],
   "source": [
    "val_loader = torch.utils.data.DataLoader(WSIPatchesDummyDataset(test_batch_path),\n",
    "                                         batch_size=1, shuffle=False, num_workers=4,\n",
    "                                         pin_memory=True)\n",
    "\n",
    "n = 0\n",
    "for epoch in tqdm(range(50)):\n",
    "    train_loader = torch.utils.data.DataLoader(WSIPatchesDummyDataset(train_batch_path.format(epoch % 10)),\n",
    "                                               batch_size=1, shuffle=True, num_workers=4,\n",
    "                                               pin_memory=True)\n",
    "    \n",
    "    main_model.train()\n",
    "    \n",
    "    mean_train_loss = 0\n",
    "    mean_train_acc_reg = 0\n",
    "    mean_train_acc_class = 0    \n",
    "    mean_train_qwk_reg = 0\n",
    "    mean_train_qwk_class = 0    \n",
    "    \n",
    "    train_cnt = len(train_loader)\n",
    "    for features, target in train_loader:\n",
    "        b = features.shape[0]\n",
    "\n",
    "        features, target = features[0].to(main_device), target[0].to(main_device)\n",
    "        target_reg = target[:, None].float()\n",
    "        target_class = target\n",
    "        del target\n",
    "\n",
    "        optimizer.zero_grad()\n",
    "\n",
    "        output_reg, output_class = main_model(features)\n",
    "        output_reg = torch.sigmoid(output_reg) * max_lbl_nums\n",
    "        output_class = F.log_softmax(output_class, dim=-1)\n",
    "        \n",
    "        loss = (w_reg * criterion_reg(output_reg, target_reg) +\n",
    "                w_class * criterion_class(output_class, target_class))\n",
    "            \n",
    "\n",
    "        loss.backward()\n",
    "        # torch.nn.utils.clip_grad_norm_(main_model.parameters(), 0.01)\n",
    "        optimizer.step()\n",
    "        # lr_scheduler.step()\n",
    "\n",
    "        o_output_reg = output_reg.round().long().clamp(0, 5)\n",
    "        o_output_class = output_class.argmax(dim=-1)\n",
    "        \n",
    "        acc_reg = o_output_reg.eq(target_reg).float().mean()\n",
    "        acc_class = o_output_class.eq(target_class).float().mean()        \n",
    "        \n",
    "        qwk_reg = cohen_kappa_score(o_output_reg.cpu().numpy(), target_reg.cpu().numpy(), weights=\"quadratic\")\n",
    "        qwk_class = cohen_kappa_score(o_output_class.cpu().numpy(), target_class.cpu().numpy(), weights=\"quadratic\")        \n",
    "        \n",
    "        mean_train_loss += loss.item() / train_cnt\n",
    "        mean_train_acc_reg += acc_reg.item() / train_cnt\n",
    "        mean_train_acc_class += acc_class.item() / train_cnt        \n",
    "        mean_train_qwk_reg += qwk_reg / train_cnt\n",
    "        mean_train_qwk_class += qwk_class / train_cnt\n",
    "    \n",
    "    lr_scheduler.step()\n",
    "\n",
    "    main_model.eval()\n",
    "    with torch.no_grad():\n",
    "        mean_val_loss = 0\n",
    "        mean_val_acc_reg = 0\n",
    "        mean_val_acc_class = 0    \n",
    "        mean_val_qwk_reg = 0\n",
    "        mean_val_qwk_class = 0  \n",
    "\n",
    "        val_cnt = len(val_loader)\n",
    "          \n",
    "        for features, target in val_loader:\n",
    "            b = features.shape[0]\n",
    "\n",
    "            features, target = features[0].to(main_device), target[0].to(main_device)\n",
    "            target_reg = target[:, None].float()\n",
    "            target_class = target\n",
    "            del target\n",
    "\n",
    "            output_reg, output_class = main_model(features)\n",
    "            output_reg = torch.sigmoid(output_reg) * max_lbl_nums\n",
    "            output_class = F.log_softmax(output_class, dim=-1)\n",
    "\n",
    "            loss = (w_reg * criterion_reg(output_reg, target_reg) +\n",
    "                    w_class * criterion_class(output_class, target_class))\n",
    "\n",
    "            o_output_reg = output_reg.round().long().clamp(0, 5)\n",
    "            o_output_class = output_class.argmax(dim=-1)\n",
    "\n",
    "            acc_reg = o_output_reg.eq(target_reg).float().mean()\n",
    "            acc_class = o_output_class.eq(target_class).float().mean()        \n",
    "\n",
    "            qwk_reg = cohen_kappa_score(o_output_reg.cpu().numpy(), target_reg.cpu().numpy(), weights=\"quadratic\")\n",
    "            qwk_class = cohen_kappa_score(o_output_class.cpu().numpy(), target_class.cpu().numpy(), weights=\"quadratic\")        \n",
    "\n",
    "            mean_val_loss += loss.item() / val_cnt\n",
    "            mean_val_acc_reg += acc_reg.item() / val_cnt\n",
    "            mean_val_acc_class += acc_class.item() / val_cnt        \n",
    "            mean_val_qwk_reg += qwk_reg / val_cnt\n",
    "            mean_val_qwk_class += qwk_class / val_cnt        \n",
    "\n",
    "    print(f\"{epoch}. train loss: {mean_train_loss:.4f}, acc: {mean_train_acc_reg:.4f}/{mean_train_acc_class:.4f}, qwk: {mean_train_qwk_reg:.4f}/{mean_train_qwk_class:.4f}, lr: {optimizer.param_groups[0]['lr']:.5f}. \"+\n",
    "          f\"\\n{epoch}.   val loss: {mean_val_loss:.4f}, acc: {mean_val_acc_reg:.4f}/{mean_val_acc_class:.4f}, qwk: {mean_val_qwk_reg:.4f}/{mean_val_qwk_class:.4f}\\n\")\n",
    "          \n",
    "    n += 1"
   ]
  },
  {
   "cell_type": "code",
   "execution_count": 77,
   "metadata": {
    "_last_msg_id": "bb6aea95c9494b10873ceb27459a0727"
   },
   "outputs": [
    {
     "data": {
      "text/plain": [
       "tensor(-2.9840, device='cuda:1', grad_fn=<MinBackward1>)"
      ]
     },
     "execution_count": 77,
     "metadata": {},
     "output_type": "execute_result"
    }
   ],
   "source": [
    "main_model.dummy_feature.min()"
   ]
  },
  {
   "cell_type": "code",
   "execution_count": 131,
   "metadata": {
    "_last_msg_id": "62ecd0db5e144062a5263a5b176764a0"
   },
   "outputs": [],
   "source": [
    "#main_batch_size = 64\n",
    "\n",
    "#patches_batch_size = 2\n",
    "#num_workers = 11"
   ]
  },
  {
   "cell_type": "code",
   "execution_count": 132,
   "metadata": {
    "_last_msg_id": "76c1c6f70275487a8aa969529c2cfca0"
   },
   "outputs": [],
   "source": [
    "main_model.eval()\n",
    "\n",
    "targets = []\n",
    "o_outputs_reg = []\n",
    "o_outputs_class = []\n",
    "outputs_reg = []\n",
    "outputs_class = []\n",
    "\n",
    "with torch.no_grad():\n",
    "    for features, target in val_loader:\n",
    "        b = features.shape[0]\n",
    "\n",
    "        features, target = features[0].to(main_device), target[0].to(main_device)\n",
    "        target_reg = target[:, None].float()\n",
    "        target_class = target\n",
    "\n",
    "        output_reg, output_class = main_model(features)\n",
    "        output_reg = torch.sigmoid(output_reg) * max_lbl_nums\n",
    "        output_class = F.log_softmax(output_class, dim=-1)\n",
    "\n",
    "        loss = (w_reg * criterion_reg(output_reg, target_reg) +\n",
    "                w_class * criterion_class(output_class, target_class))\n",
    "\n",
    "        o_output_reg = output_reg.round().long().clamp(0, 5)\n",
    "        o_output_class = output_class.argmax(dim=-1)\n",
    "\n",
    "        targets.append(target)\n",
    "        o_outputs_reg.append(o_output_reg)\n",
    "        o_outputs_class.append(o_output_class)        \n",
    "        outputs_reg.append(output_reg)\n",
    "        outputs_class.append(output_class)\n",
    "\n",
    "val_o_outputs_reg = torch.cat(o_outputs_reg).cpu().numpy()        \n",
    "val_o_outputs_class = torch.cat(o_outputs_class).cpu().numpy()\n",
    "val_targets = torch.cat(targets).cpu().numpy()\n",
    "val_outputs_reg = torch.cat(outputs_reg).cpu().numpy()\n",
    "val_outputs_class = torch.cat(outputs_class).cpu().numpy()"
   ]
  },
  {
   "cell_type": "code",
   "execution_count": 133,
   "metadata": {
    "_last_msg_id": "0480406331d142f6868fc5f6932ea580"
   },
   "outputs": [],
   "source": [
    "val_outputs_class3 = val_outputs_class.copy()\n",
    "val_outputs_reg3 = val_outputs_reg.copy()"
   ]
  },
  {
   "cell_type": "code",
   "execution_count": 134,
   "metadata": {
    "_last_msg_id": "fe079ecff5c9448ebde8d5ebfce38de0"
   },
   "outputs": [
    {
     "data": {
      "text/plain": [
       "0.84482960553011"
      ]
     },
     "execution_count": 134,
     "metadata": {},
     "output_type": "execute_result"
    }
   ],
   "source": [
    "cohen_kappa_score(val_o_outputs_reg, val_targets, weights=\"quadratic\")"
   ]
  },
  {
   "cell_type": "code",
   "execution_count": 135,
   "metadata": {
    "_last_msg_id": "b35b17da844b42a697e334dcc67a8310"
   },
   "outputs": [
    {
     "data": {
      "text/plain": [
       "0.8354337145820343"
      ]
     },
     "execution_count": 135,
     "metadata": {},
     "output_type": "execute_result"
    }
   ],
   "source": [
    "cohen_kappa_score(val_o_outputs_class, val_targets, weights=\"quadratic\")"
   ]
  },
  {
   "cell_type": "code",
   "execution_count": 139,
   "metadata": {
    "_last_msg_id": "4b4743ce8a0f426a9b1727d255305dff"
   },
   "outputs": [
    {
     "data": {
      "text/plain": [
       "0.8509363010302554"
      ]
     },
     "execution_count": 139,
     "metadata": {},
     "output_type": "execute_result"
    }
   ],
   "source": [
    "cohen_kappa_score(torch.tensor((val_outputs_reg0 + val_outputs_reg1 +\n",
    "                                val_outputs_reg2) / 3).round().long().clamp(0, 5), \n",
    "                  val_targets, weights=\"quadratic\")"
   ]
  },
  {
   "cell_type": "code",
   "execution_count": null,
   "metadata": {},
   "outputs": [],
   "source": []
  },
  {
   "cell_type": "code",
   "execution_count": null,
   "metadata": {},
   "outputs": [],
   "source": []
  },
  {
   "cell_type": "code",
   "execution_count": null,
   "metadata": {},
   "outputs": [],
   "source": []
  },
  {
   "cell_type": "code",
   "execution_count": 20,
   "metadata": {
    "_last_msg_id": "b92dcf9d763f4f5f8cd000f212780c05"
   },
   "outputs": [
    {
     "name": "stdout",
     "output_type": "stream",
     "text": [
      "[0.54569598 1.62824866 2.35215448 3.27274745 4.14168655]\n",
      "[0.55146103 1.54651653 2.41228703 3.2341663  4.18983145]\n",
      "[0.52759456 1.66193384 2.42119538 3.22981731 4.1679057 ]\n",
      "[0.50560013 1.66279228 2.48869419 3.20977081 4.21148184]\n",
      "[0.59420817 1.58363668 2.40486243 3.21171697 4.22344555]\n",
      "[0.55964892 1.58687257 2.42119557 3.20594279 4.20727218]\n",
      "[0.52965801 1.62990205 2.56598612 3.18684522 4.0254026 ]\n",
      "[0.56310764 1.63544987 2.44483939 3.12796843 4.08308392]\n",
      "[0.54240544 1.61370524 2.52179569 3.2963418  4.09494376]\n",
      "[0.55924867 1.64874465 2.49730719 3.25221745 4.15355419]\n"
     ]
    }
   ],
   "source": [
    "main_model.eval()\n",
    "\n",
    "targets = []\n",
    "o_outputs = []\n",
    "outputs = []\n",
    "\n",
    "with torch.no_grad():\n",
    "    for features, target in val_loader:\n",
    "        b = features.shape[0]\n",
    "\n",
    "        features, target = features[0].to(main_device), target[0].to(main_device)\n",
    "        target = target[:, None].float()\n",
    "\n",
    "        output = main_model(features)\n",
    "        #output = torch.sigmoid(output) * (max_lbl_nums + 1) - 0.5\n",
    "        #o_output = output.round().long().clamp(-0.5, 5.5)\n",
    "        output = torch.sigmoid(output) * max_lbl_nums\n",
    "        o_output = output.round().long().clamp(0, max_lbl_nums)\n",
    "\n",
    "        targets.append(target)\n",
    "        o_outputs.append(o_output)\n",
    "        outputs.append(output)\n",
    "\n",
    "val_o_outputs = torch.cat(o_outputs).cpu().numpy()\n",
    "val_targets = torch.cat(targets).cpu().numpy()\n",
    "val_outputs = torch.cat(outputs).cpu().numpy()\n",
    "\n",
    "all_coefficients = []\n",
    "\n",
    "for epoch in range(10):\n",
    "    targets = []\n",
    "    o_outputs = []\n",
    "    outputs = []\n",
    "\n",
    "    train_loader = torch.utils.data.DataLoader(WSIPatchesDummyDataset(train_batch_path.format(epoch % 10)),\n",
    "                                               batch_size=1, shuffle=True, num_workers=4,\n",
    "                                               pin_memory=True)\n",
    "\n",
    "    with torch.no_grad():\n",
    "        for features, target in train_loader:\n",
    "            b = features.shape[0]\n",
    "\n",
    "            features, target = features[0].to(main_device), target[0].to(main_device)\n",
    "            target = target[:, None].float()\n",
    "\n",
    "            output = main_model(features)\n",
    "            #output = torch.sigmoid(output) * (max_lbl_nums + 1) - 0.5\n",
    "            #o_output = output.round().long().clamp(-0.5, 5.5)\n",
    "            output = torch.sigmoid(output) * max_lbl_nums\n",
    "            o_output = output.round().long().clamp(0, max_lbl_nums)\n",
    "\n",
    "            targets.append(target)\n",
    "            o_outputs.append(o_output)\n",
    "            outputs.append(output)\n",
    "\n",
    "    o_outputs = torch.cat(o_outputs).cpu().numpy()\n",
    "    targets = torch.cat(targets).cpu().numpy()\n",
    "    outputs = torch.cat(outputs).cpu().numpy()\n",
    "\n",
    "    optimized_rounder = OptimizedRounder()\n",
    "    optimized_rounder.fit(outputs, targets)\n",
    "    coefficients = optimized_rounder.coefficients()\n",
    "    print(coefficients)\n",
    "    all_coefficients.append(coefficients)"
   ]
  },
  {
   "cell_type": "code",
   "execution_count": 21,
   "metadata": {
    "_last_msg_id": "e17d941b47b945978decc3708f307399"
   },
   "outputs": [
    {
     "data": {
      "text/plain": [
       "0.5942992874109264"
      ]
     },
     "execution_count": 21,
     "metadata": {},
     "output_type": "execute_result"
    }
   ],
   "source": [
    "(o_outputs == targets).mean()"
   ]
  },
  {
   "cell_type": "code",
   "execution_count": 22,
   "metadata": {
    "_last_msg_id": "a94fb757781c437b836a9191e980c573"
   },
   "outputs": [
    {
     "data": {
      "text/plain": [
       "0.8607112278797365"
      ]
     },
     "execution_count": 22,
     "metadata": {},
     "output_type": "execute_result"
    }
   ],
   "source": [
    "cohen_kappa_score(o_outputs, targets, weights=\"quadratic\")"
   ]
  },
  {
   "cell_type": "code",
   "execution_count": null,
   "metadata": {},
   "outputs": [],
   "source": []
  },
  {
   "cell_type": "code",
   "execution_count": 23,
   "metadata": {
    "_last_msg_id": "e3ed7c73d5a74fde850e5fe22a08bc41"
   },
   "outputs": [
    {
     "data": {
      "text/plain": [
       "0.8409273104390406"
      ]
     },
     "execution_count": 23,
     "metadata": {},
     "output_type": "execute_result"
    }
   ],
   "source": [
    "cohen_kappa_score(val_o_outputs, val_targets, weights=\"quadratic\")"
   ]
  },
  {
   "cell_type": "code",
   "execution_count": 24,
   "metadata": {
    "_last_msg_id": "850316cd3acb48a48ca8cf511a6f5f16"
   },
   "outputs": [],
   "source": [
    "mean_coefficients = np.array(all_coefficients).mean(axis=0).tolist()"
   ]
  },
  {
   "cell_type": "code",
   "execution_count": 44,
   "metadata": {
    "_last_msg_id": "c73ce733117f424295495fbc026a9e7a"
   },
   "outputs": [
    {
     "data": {
      "text/plain": [
       "[0.5478628551988791,\n",
       " 1.619780236689681,\n",
       " 2.453031745958673,\n",
       " 3.2227534528497643,\n",
       " 4.149860773394976]"
      ]
     },
     "execution_count": 44,
     "metadata": {},
     "output_type": "execute_result"
    }
   ],
   "source": [
    "mean_coefficients"
   ]
  },
  {
   "cell_type": "code",
   "execution_count": 52,
   "metadata": {
    "_last_msg_id": "4f57c6636b5d46b6b424709dac23982d"
   },
   "outputs": [],
   "source": [
    "mean_coefficients[-1] = 4.15"
   ]
  },
  {
   "cell_type": "code",
   "execution_count": 53,
   "metadata": {
    "_last_msg_id": "540a613939d348c184bd1745043724f4"
   },
   "outputs": [],
   "source": [
    "val_o_outputs2 = optimized_rounder.predict(val_outputs, mean_coefficients)"
   ]
  },
  {
   "cell_type": "code",
   "execution_count": 54,
   "metadata": {
    "_last_msg_id": "d66781eaa3ca4f508180a2dc621107d9"
   },
   "outputs": [
    {
     "data": {
      "text/plain": [
       "0.8503462304870664"
      ]
     },
     "execution_count": 54,
     "metadata": {},
     "output_type": "execute_result"
    }
   ],
   "source": [
    "cohen_kappa_score(val_o_outputs2, val_targets, weights=\"quadratic\")"
   ]
  },
  {
   "cell_type": "code",
   "execution_count": 29,
   "metadata": {
    "_last_msg_id": "ce08d81b1ab743c68c817a69304b80e9"
   },
   "outputs": [],
   "source": []
  },
  {
   "cell_type": "code",
   "execution_count": 40,
   "metadata": {
    "_last_msg_id": "406e97ee1f41460f98acdb235dce8b5c"
   },
   "outputs": [],
   "source": [
    "cm = confusion_matrix(val_targets, val_o_outputs)\n",
    "cmd = ConfusionMatrixDisplay(cm, display_labels=[f'grade{n}' for n in range(max_lbl_nums)])"
   ]
  },
  {
   "cell_type": "code",
   "execution_count": 43,
   "metadata": {
    "_last_msg_id": "d10b8248a79a459dbeed28878b215dc6"
   },
   "outputs": [
    {
     "data": {
      "image/png": "[encoded data removed]",
      "text/plain": [
       "<Figure size 432x288 with 2 Axes>"
      ]
     },
     "metadata": {
      "needs_background": "light"
     },
     "output_type": "display_data"
    }
   ],
   "source": [
    "cmd.plot(values_format='d');"
   ]
  },
  {
   "cell_type": "code",
   "execution_count": 55,
   "metadata": {
    "_last_msg_id": "f6026151dc7d45fa881b8c3d1f495aec"
   },
   "outputs": [],
   "source": [
    "cm = confusion_matrix(val_targets, val_o_outputs2)\n",
    "cmd = ConfusionMatrixDisplay(cm, display_labels=[f'grade{n}' for n in range(max_lbl_nums)])"
   ]
  },
  {
   "cell_type": "code",
   "execution_count": 56,
   "metadata": {
    "_last_msg_id": "d62999b9ca5c4a5b89e9c40771480eb9"
   },
   "outputs": [
    {
     "data": {
      "image/png": "[encoded data removed]",
      "text/plain": [
       "<Figure size 432x288 with 2 Axes>"
      ]
     },
     "metadata": {
      "needs_background": "light"
     },
     "output_type": "display_data"
    }
   ],
   "source": [
    "cmd.plot(values_format='d');"
   ]
  },
  {
   "cell_type": "code",
   "execution_count": 60,
   "metadata": {
    "_last_msg_id": "c24800724213462fae348066b9e449f8"
   },
   "outputs": [
    {
     "data": {
      "text/plain": [
       "tensor([[ 0.,  1.,  4.,  9., 16., 25.],\n",
       "        [ 1.,  0.,  1.,  4.,  9., 16.],\n",
       "        [ 4.,  1.,  0.,  1.,  4.,  9.],\n",
       "        [ 9.,  4.,  1.,  0.,  1.,  4.],\n",
       "        [16.,  9.,  4.,  1.,  0.,  1.],\n",
       "        [25., 16.,  9.,  4.,  1.,  0.]])"
      ]
     },
     "execution_count": 60,
     "metadata": {},
     "output_type": "execute_result"
    }
   ],
   "source": [
    "w"
   ]
  },
  {
   "cell_type": "code",
   "execution_count": 75,
   "metadata": {
    "_last_msg_id": "718e037300f0410794b9c590357ff9eb"
   },
   "outputs": [],
   "source": [
    "cm = confusion_matrix(val_targets, val_o_outputs)\n",
    "cmd = ConfusionMatrixDisplay(cm, display_labels=[f'grade{n}' for n in range(max_lbl_nums)])"
   ]
  },
  {
   "cell_type": "code",
   "execution_count": 76,
   "metadata": {
    "_last_msg_id": "d52602278bd04f328525c81985ff65e6"
   },
   "outputs": [
    {
     "data": {
      "image/png": "[encoded data removed]",
      "text/plain": [
       "<Figure size 432x288 with 2 Axes>"
      ]
     },
     "metadata": {
      "needs_background": "light"
     },
     "output_type": "display_data"
    }
   ],
   "source": [
    "cmd.plot(values_format='d');"
   ]
  },
  {
   "cell_type": "code",
   "execution_count": null,
   "metadata": {},
   "outputs": [],
   "source": []
  },
  {
   "cell_type": "code",
   "execution_count": 56,
   "metadata": {
    "_last_msg_id": "9227175ef1974fab8b1ba822530b7c70"
   },
   "outputs": [],
   "source": [
    "cm = confusion_matrix(val_targets, val_o_outputs_reg)\n",
    "cmd = ConfusionMatrixDisplay(cm, display_labels=[f'grade{n}' for n in range(max_lbl_nums)])"
   ]
  },
  {
   "cell_type": "code",
   "execution_count": 57,
   "metadata": {
    "_last_msg_id": "827a8be9eb6b48cab7cf67ae12bfff96"
   },
   "outputs": [
    {
     "data": {
      "image/png": "[encoded data removed]",
      "text/plain": [
       "<Figure size 432x288 with 2 Axes>"
      ]
     },
     "metadata": {
      "needs_background": "light"
     },
     "output_type": "display_data"
    }
   ],
   "source": [
    "cmd.plot(values_format='d');"
   ]
  },
  {
   "cell_type": "code",
   "execution_count": 58,
   "metadata": {
    "_last_msg_id": "280dce070fd34db188b9506826642ab2"
   },
   "outputs": [],
   "source": [
    "cm = confusion_matrix(val_targets, val_o_outputs_class)\n",
    "cmd = ConfusionMatrixDisplay(cm, display_labels=[f'grade{n}' for n in range(max_lbl_nums)])"
   ]
  },
  {
   "cell_type": "code",
   "execution_count": 59,
   "metadata": {
    "_last_msg_id": "a3048b2094584ea5b636888247c07b9b"
   },
   "outputs": [
    {
     "data": {
      "image/png": "[encoded data removed]",
      "text/plain": [
       "<Figure size 432x288 with 2 Axes>"
      ]
     },
     "metadata": {
      "needs_background": "light"
     },
     "output_type": "display_data"
    }
   ],
   "source": [
    "cmd.plot(values_format='d');"
   ]
  },
  {
   "cell_type": "code",
   "execution_count": null,
   "metadata": {},
   "outputs": [],
   "source": []
  },
  {
   "cell_type": "code",
   "execution_count": null,
   "metadata": {},
   "outputs": [],
   "source": []
  },
  {
   "cell_type": "code",
   "execution_count": null,
   "metadata": {},
   "outputs": [],
   "source": [
    "coefficients = optimized_rounder.coefficients()\n",
    "final_preds = optimized_rounder.predict(preds, coefficients)"
   ]
  },
  {
   "cell_type": "code",
   "execution_count": 19,
   "metadata": {
    "_last_msg_id": "b118226b919b4df6b4deff19c2cea5ca"
   },
   "outputs": [],
   "source": [
    "import scipy as sp\n",
    "from functools import partial\n",
    "\n",
    "def quadratic_weighted_kappa(y_hat, y):\n",
    "    return cohen_kappa_score(y_hat, y, weights='quadratic')\n",
    "\n",
    "\n",
    "class OptimizedRounder():\n",
    "    def __init__(self):\n",
    "        self.coef_ = 0\n",
    "\n",
    "    def _kappa_loss(self, coef, X, y):\n",
    "        X_p = np.copy(X)\n",
    "        for i, pred in enumerate(X_p):\n",
    "            if pred < coef[0]:\n",
    "                X_p[i] = 0\n",
    "            elif pred >= coef[0] and pred < coef[1]:\n",
    "                X_p[i] = 1\n",
    "            elif pred >= coef[1] and pred < coef[2]:\n",
    "                X_p[i] = 2\n",
    "            elif pred >= coef[2] and pred < coef[3]:\n",
    "                X_p[i] = 3\n",
    "            elif pred >= coef[3] and pred < coef[4]:\n",
    "                X_p[i] = 4\n",
    "            else:\n",
    "                X_p[i] = 5\n",
    "\n",
    "        ll = quadratic_weighted_kappa(y, X_p)\n",
    "        return -ll\n",
    "\n",
    "    def fit(self, X, y):\n",
    "        loss_partial = partial(self._kappa_loss, X=X, y=y)\n",
    "        initial_coef = [0.5, 1.5, 2.5, 3.5, 4.5]\n",
    "        self.coef_ = sp.optimize.minimize(loss_partial, initial_coef, method='nelder-mead')\n",
    "\n",
    "    def predict(self, X, coef):\n",
    "        X_p = np.copy(X)\n",
    "        for i, pred in enumerate(X_p):\n",
    "            if pred < coef[0]:\n",
    "                X_p[i] = 0\n",
    "            elif pred >= coef[0] and pred < coef[1]:\n",
    "                X_p[i] = 1\n",
    "            elif pred >= coef[1] and pred < coef[2]:\n",
    "                X_p[i] = 2\n",
    "            elif pred >= coef[2] and pred < coef[3]:\n",
    "                X_p[i] = 3\n",
    "            elif pred >= coef[3] and pred < coef[4]:\n",
    "                X_p[i] = 4\n",
    "            else:\n",
    "                X_p[i] = 5\n",
    "        return X_p\n",
    "\n",
    "    def coefficients(self):\n",
    "        return self.coef_['x']"
   ]
  },
  {
   "cell_type": "code",
   "execution_count": null,
   "metadata": {},
   "outputs": [],
   "source": []
  },
  {
   "cell_type": "code",
   "execution_count": null,
   "metadata": {},
   "outputs": [],
   "source": []
  },
  {
   "cell_type": "code",
   "execution_count": null,
   "metadata": {},
   "outputs": [],
   "source": []
  },
  {
   "cell_type": "code",
   "execution_count": null,
   "metadata": {},
   "outputs": [],
   "source": [
    "output, target"
   ]
  },
  {
   "cell_type": "code",
   "execution_count": 44,
   "metadata": {
    "_last_msg_id": "621ef5070f524700bd5aebf781f68642"
   },
   "outputs": [],
   "source": [
    "o_output = output.argmax(dim=-1)"
   ]
  },
  {
   "cell_type": "code",
   "execution_count": 45,
   "metadata": {
    "_last_msg_id": "ba109ce7899547cab29d7423926a6981"
   },
   "outputs": [
    {
     "data": {
      "text/plain": [
       "tensor([1, 0, 3, 5, 1, 1, 2, 1, 0, 0, 1, 0, 5, 4, 4, 4, 5, 1, 3, 0, 2, 3, 0, 0,\n",
       "        1, 3, 0, 0, 1, 1, 1, 1, 0, 1, 1, 3, 4, 3, 0, 4, 1, 0, 2, 1, 5, 5, 1, 3,\n",
       "        0, 0, 5, 1, 0, 1, 5, 5, 3, 1, 1, 0, 0, 0, 0, 4], device='cuda:1')"
      ]
     },
     "execution_count": 45,
     "metadata": {},
     "output_type": "execute_result"
    }
   ],
   "source": [
    "o_output"
   ]
  },
  {
   "cell_type": "code",
   "execution_count": 46,
   "metadata": {
    "_last_msg_id": "fa26785d6f8744a3a20657f77626fae8"
   },
   "outputs": [
    {
     "data": {
      "text/plain": [
       "tensor([5, 0, 3, 4, 1, 4, 3, 0, 0, 0, 1, 3, 5, 3, 4, 5, 5, 1, 4, 0, 3, 5, 0, 1,\n",
       "        0, 1, 0, 0, 1, 2, 2, 1, 0, 2, 1, 3, 3, 4, 0, 0, 1, 2, 1, 1, 5, 5, 4, 4,\n",
       "        1, 5, 5, 2, 0, 1, 3, 5, 5, 1, 1, 0, 4, 0, 0, 4], device='cuda:1')"
      ]
     },
     "execution_count": 46,
     "metadata": {},
     "output_type": "execute_result"
    }
   ],
   "source": [
    "target"
   ]
  },
  {
   "cell_type": "code",
   "execution_count": null,
   "metadata": {},
   "outputs": [],
   "source": []
  },
  {
   "cell_type": "code",
   "execution_count": 47,
   "metadata": {
    "_last_msg_id": "8f087de68017411dbf0d3a6ade8f97a3"
   },
   "outputs": [],
   "source": []
  },
  {
   "cell_type": "code",
   "execution_count": 49,
   "metadata": {
    "_last_msg_id": "b5965095f3d54d1884725c844234efd7"
   },
   "outputs": [
    {
     "data": {
      "text/plain": [
       "0.6770040959625512"
      ]
     },
     "execution_count": 49,
     "metadata": {},
     "output_type": "execute_result"
    }
   ],
   "source": [
    "cohen_kappa_score(o_output.cpu().numpy(), target.cpu().numpy(), weights=\"quadratic\")"
   ]
  },
  {
   "cell_type": "code",
   "execution_count": null,
   "metadata": {
    "_last_msg_id": "46fc79353ade44368a942b6bceac24b5"
   },
   "outputs": [],
   "source": [
    "oh_target = torch.tensor((b, max_lbl_nums), device=main_device)\n",
    "oh_o_output = torch.tensor((b, max_lbl_nums), device=main_device)"
   ]
  },
  {
   "cell_type": "code",
   "execution_count": null,
   "metadata": {
    "_last_msg_id": "2b89118f8de847858da1a28ed82f3e33"
   },
   "outputs": [],
   "source": [
    "o_output"
   ]
  },
  {
   "cell_type": "code",
   "execution_count": null,
   "metadata": {
    "_last_msg_id": "2e64d9ccc48041fb826e5da25ac5c720"
   },
   "outputs": [],
   "source": [
    "oh_target[target] = 1\n",
    "oh_o_output[o_output] = 1"
   ]
  },
  {
   "cell_type": "code",
   "execution_count": 52,
   "metadata": {
    "_last_msg_id": "e710b44d6c404bd18c49039b4f12e31d"
   },
   "outputs": [],
   "source": [
    "cm = torch.matmul(oh_target[:, :, None], oh_o_output[:, None, :]).sum(0)"
   ]
  },
  {
   "cell_type": "code",
   "execution_count": null,
   "metadata": {},
   "outputs": [],
   "source": []
  },
  {
   "cell_type": "code",
   "execution_count": null,
   "metadata": {},
   "outputs": [],
   "source": []
  },
  {
   "cell_type": "code",
   "execution_count": null,
   "metadata": {},
   "outputs": [],
   "source": []
  },
  {
   "cell_type": "code",
   "execution_count": null,
   "metadata": {},
   "outputs": [],
   "source": [
    "@dataclass\n",
    "class KappaScore(ConfusionMatrix):\n",
    "    \"Computes the rate of agreement (Cohens Kappa).\"\n",
    "    weights:Optional[str]=None      # None, `linear`, or `quadratic`\n",
    "\n",
    "    def on_epoch_end(self, last_metrics, **kwargs):\n",
    "        sum0 = self.cm.sum(dim=0)\n",
    "        sum1 = self.cm.sum(dim=1)\n",
    "        expected = torch.einsum('i,j->ij', (sum0, sum1)) / sum0.sum()\n",
    "        if self.weights is None:\n",
    "            w = torch.ones((self.n_classes, self.n_classes))\n",
    "            w[self.x, self.x] = 0\n",
    "        elif self.weights == \"linear\" or self.weights == \"quadratic\":\n",
    "            w = torch.zeros((self.n_classes, self.n_classes))\n",
    "            w += torch.arange(self.n_classes, dtype=torch.float)\n",
    "            w = torch.abs(w - torch.t(w)) if self.weights == \"linear\" else (w - torch.t(w)) ** 2\n",
    "        else: raise ValueError('Unknown weights. Expected None, \"linear\", or \"quadratic\".')\n",
    "        k = torch.sum(w * self.cm) / torch.sum(w * expected)\n",
    "        return add_metrics(last_metrics, 1-k)"
   ]
  },
  {
   "cell_type": "code",
   "execution_count": null,
   "metadata": {},
   "outputs": [],
   "source": []
  },
  {
   "cell_type": "code",
   "execution_count": 58,
   "metadata": {
    "_last_msg_id": "8981bbafdcf04c8c8025a40a55d0f060"
   },
   "outputs": [],
   "source": [
    "w = torch.zeros((6, 6))\n",
    "w += torch.arange(6, dtype=torch.float)\n",
    "w = (w - torch.t(w)) ** 2"
   ]
  },
  {
   "cell_type": "code",
   "execution_count": 59,
   "metadata": {
    "_last_msg_id": "8d88c36f392145828732ab559f81f5fd"
   },
   "outputs": [
    {
     "data": {
      "text/plain": [
       "tensor([[ 0.,  1.,  4.,  9., 16., 25.],\n",
       "        [ 1.,  0.,  1.,  4.,  9., 16.],\n",
       "        [ 4.,  1.,  0.,  1.,  4.,  9.],\n",
       "        [ 9.,  4.,  1.,  0.,  1.,  4.],\n",
       "        [16.,  9.,  4.,  1.,  0.,  1.],\n",
       "        [25., 16.,  9.,  4.,  1.,  0.]])"
      ]
     },
     "execution_count": 59,
     "metadata": {},
     "output_type": "execute_result"
    }
   ],
   "source": [
    "w"
   ]
  },
  {
   "cell_type": "code",
   "execution_count": null,
   "metadata": {},
   "outputs": [],
   "source": []
  },
  {
   "cell_type": "code",
   "execution_count": 31,
   "metadata": {
    "_last_msg_id": "9442d4898c694d9eb66188952ab9ea55"
   },
   "outputs": [],
   "source": [
    "#empty_mask = (main_features.view(b, max_len, -1) == 0).all(dim=-1)[..., None, None, None]\n",
    "#dummy_feature = nn.Parameter(torch.ones((1, 1, 512, 8, 8), dtype=torch.float32, device=main_device))\n",
    "#main_features = main_features + empty_mask * dummy_feature.expand(b, 1, 512, 8, 8)"
   ]
  },
  {
   "cell_type": "code",
   "execution_count": 105,
   "metadata": {
    "_last_msg_id": "b378cb3e88e54bebb8c3ef680758a783"
   },
   "outputs": [],
   "source": []
  },
  {
   "cell_type": "code",
   "execution_count": 106,
   "metadata": {
    "_last_msg_id": "3d47f5f9340f475b9e8f42f5bcab8824"
   },
   "outputs": [],
   "source": []
  },
  {
   "cell_type": "code",
   "execution_count": null,
   "metadata": {
    "_last_msg_id": "d5d54a861315407f875c739057c6f907"
   },
   "outputs": [],
   "source": [
    "# 8*55 - 200 сек"
   ]
  },
  {
   "cell_type": "code",
   "execution_count": null,
   "metadata": {
    "_last_msg_id": "9db22436e0d94292826b764517cb5861"
   },
   "outputs": [],
   "source": [
    "# imgs, ys, xs, provider, isup_grade, gleason_score"
   ]
  },
  {
   "cell_type": "code",
   "execution_count": null,
   "metadata": {},
   "outputs": [],
   "source": []
  },
  {
   "cell_type": "code",
   "execution_count": null,
   "metadata": {},
   "outputs": [],
   "source": []
  },
  {
   "cell_type": "code",
   "execution_count": null,
   "metadata": {
    "_last_msg_id": "d82948714cb3453eb4761169a387bb5f"
   },
   "outputs": [],
   "source": [
    "import matplotlib.pyplot as plt"
   ]
  },
  {
   "cell_type": "code",
   "execution_count": null,
   "metadata": {
    "_last_msg_id": "49adedcd20004fe383497646f9a5afdc"
   },
   "outputs": [],
   "source": [
    "train_wsipatches_dataset_iter = iter(train_wsipatches_dataset)"
   ]
  },
  {
   "cell_type": "code",
   "execution_count": null,
   "metadata": {
    "_last_msg_id": "056646e2e9d04785833ea2d3a11e6bf0"
   },
   "outputs": [],
   "source": [
    "fig, axs = plt.subplots(6, 6, figsize=(18, 18))\n",
    "axs = axs.ravel()\n",
    "n = 0\n",
    "for imgs, ys, xs, provider, isup_grade, gleason_score in train_wsipatches_dataset_iter:\n",
    "    imgs = imgs.transpose([0, 2, 3, 1])\n",
    "    height = ys.max() + 1\n",
    "    width = xs.max() + 1\n",
    "    wsi_img = np.zeros((height, width, 3), dtype=np.float32)\n",
    "    for y, x, img in zip(ys, xs, imgs):\n",
    "        wsi_img[y, x] = img.reshape(-1, 3).mean(0)\n",
    "        \n",
    "    axs[n].imshow(wsi_img);\n",
    "    axs[n].set_title(f\"{n}: {provider}\")\n",
    "    \n",
    "    n += 1\n",
    "    \n",
    "    if n == 36:\n",
    "        break"
   ]
  },
  {
   "cell_type": "code",
   "execution_count": null,
   "metadata": {},
   "outputs": [],
   "source": []
  }
 ],
 "metadata": {
  "kernelspec": {
   "display_name": "Python 3",
   "language": "python",
   "name": "python3"
  },
  "language_info": {
   "codemirror_mode": {
    "name": "ipython",
    "version": 3
   },
   "file_extension": ".py",
   "mimetype": "text/x-python",
   "name": "python",
   "nbconvert_exporter": "python",
   "pygments_lexer": "ipython3",
   "version": "3.7.4"
  }
 },
 "nbformat": 4,
 "nbformat_minor": 2
}
