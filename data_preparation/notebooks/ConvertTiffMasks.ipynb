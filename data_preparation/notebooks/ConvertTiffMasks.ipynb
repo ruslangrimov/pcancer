{
 "cells": [
  {
   "cell_type": "code",
   "execution_count": 1,
   "metadata": {
    "_last_msg_id": "169c5e10d5fa4b39872da1bda03348d7"
   },
   "outputs": [],
   "source": [
    "import os\n",
    "\n",
    "import random\n",
    "import cv2\n",
    "import numpy as np\n",
    "import pandas as pd\n",
    "\n",
    "from skimage.external import tifffile\n",
    "\n",
    "from tqdm.auto import tqdm"
   ]
  },
  {
   "cell_type": "markdown",
   "metadata": {},
   "source": [
    "#### Radboud: Prostate glands are individually labelled. Valid values are:\n",
    "\n",
    "0: background (non tissue) or unknown\n",
    "\n",
    "1: stroma (connective tissue, non-epithelium tissue)\n",
    "\n",
    "2: healthy (benign) epithelium\n",
    "\n",
    "3: cancerous epithelium (Gleason 3)\n",
    "\n",
    "4: cancerous epithelium (Gleason 4)\n",
    "\n",
    "5: cancerous epithelium (Gleason 5)\n",
    "\n",
    "\n",
    "#### Karolinska: Regions are labelled. Valid values are:\n",
    "\n",
    "1: background (non tissue) or unknown\n",
    "\n",
    "2: benign tissue (stroma and epithelium combined)\n",
    "\n",
    "3: cancerous tissue (stroma and epithelium combined)\n"
   ]
  },
  {
   "cell_type": "code",
   "execution_count": 2,
   "metadata": {
    "_last_msg_id": "f2440fbad203451f82931873483109c3"
   },
   "outputs": [],
   "source": [
    "colors = {\n",
    "    'radboud': {0: '#ffffff',\n",
    "                1: '#8080ff',\n",
    "                2: '#80ff80',\n",
    "                3: '#ff8080',                \n",
    "                4: '#ff4040',                \n",
    "                5: '#ff0000'},\n",
    "    'karolinska': {0: '#ffffff',\n",
    "                   1: '#808080',\n",
    "                   2: '#ff0000'},\n",
    "}\n",
    "\n",
    "def hex2rgb(h):\n",
    "    h = h.lstrip('#')\n",
    "    return [int(h[i:i+2], 16) for i in (0, 2, 4)]"
   ]
  },
  {
   "cell_type": "code",
   "execution_count": 3,
   "metadata": {
    "_last_msg_id": "64138522881e45508d9448624da04521"
   },
   "outputs": [],
   "source": [
    "wsi_csv_path = \"/mnt/HDDData/pdata/train.csv\"\n",
    "wsi_masks_path = \"/mnt/HDDData/pdata/train_label_masks/\"\n",
    "wsi_rgb_masks_path = \"/mnt/HDDData/pdata/train_label_rgb_masks/\""
   ]
  },
  {
   "cell_type": "code",
   "execution_count": 4,
   "metadata": {
    "_last_msg_id": "d2b9203e7dd24a9bbe476170f9138438"
   },
   "outputs": [],
   "source": [
    "os.makedirs(wsi_rgb_masks_path, exist_ok=True)"
   ]
  },
  {
   "cell_type": "code",
   "execution_count": 5,
   "metadata": {
    "_last_msg_id": "e6c4871a46bc45f2865085169e4d98a5"
   },
   "outputs": [],
   "source": [
    "wsi_df = pd.read_csv(wsi_csv_path)"
   ]
  },
  {
   "cell_type": "code",
   "execution_count": 6,
   "metadata": {
    "_last_msg_id": "dc1f1d34d96144e8be9131a7a88cd1d7"
   },
   "outputs": [],
   "source": [
    "fnames = os.listdir(wsi_masks_path)"
   ]
  },
  {
   "cell_type": "code",
   "execution_count": 7,
   "metadata": {
    "_last_msg_id": "94648e611c254269a5c1b0463a0fbd2d"
   },
   "outputs": [],
   "source": [
    "fnames.sort()"
   ]
  },
  {
   "cell_type": "code",
   "execution_count": 8,
   "metadata": {
    "_last_msg_id": "d4c805bb94434b24852dfaf2837c1696"
   },
   "outputs": [],
   "source": [
    "random.shuffle(fnames)"
   ]
  },
  {
   "cell_type": "code",
   "execution_count": null,
   "metadata": {
    "_last_msg_id": "0558fe65da6c449699cd43cde54a1a94"
   },
   "outputs": [
    {
     "data": {
      "application/vnd.jupyter.widget-view+json": {
       "model_id": "284387cd275b4889a6825ef6cc218eb1",
       "version_major": 2,
       "version_minor": 0
      },
      "text/plain": [
       "HBox(children=(FloatProgress(value=0.0, max=10516.0), HTML(value='')))"
      ]
     },
     "metadata": {},
     "output_type": "display_data"
    }
   ],
   "source": [
    "for fname in tqdm(fnames):\n",
    "    image_id = fname.split('_')[0]\n",
    "    img_row = wsi_df[wsi_df['image_id'] == image_id].iloc[0] \n",
    "    \n",
    "    full_fname = os.path.join(wsi_masks_path, f\"{image_id}_mask.tiff\")\n",
    "    n_img = tifffile.imread(full_fname)\n",
    "    o_img = n_img[..., 0]\n",
    "    # n_img = np.zeros(o_img.shape + (3,), dtype=np.uint8)\n",
    "    \n",
    "    for i in range(6):\n",
    "        k = o_img == i\n",
    "        if k.sum() > 0:\n",
    "            n_img[k] = hex2rgb(colors[img_row.data_provider][i])\n",
    "        \n",
    "    for i, (k, v) in enumerate(colors[img_row.data_provider].items()):\n",
    "        n_img[10:110, 10+i*110:(i+1)*110] = hex2rgb(v)\n",
    "\n",
    "    cv2.putText(n_img, f\"{img_row.data_provider}, grade: {img_row.isup_grade}, g_score: {img_row.gleason_score}\",\n",
    "                (10, 240), cv2.FONT_HERSHEY_SIMPLEX, 5, 0, thickness=8);\n",
    "\n",
    "    cv2.imwrite(os.path.join(wsi_rgb_masks_path, f\"{image_id}_mask.tiff\"), \n",
    "                cv2.cvtColor(n_img, cv2.COLOR_RGB2BGR))\n",
    "    \n",
    "    del o_img, n_img"
   ]
  },
  {
   "cell_type": "code",
   "execution_count": null,
   "metadata": {
    "_last_msg_id": "773903d7f7f1451d8319712f03233eb4"
   },
   "outputs": [],
   "source": []
  },
  {
   "cell_type": "code",
   "execution_count": null,
   "metadata": {
    "_last_msg_id": "d4e0214d185146e6883e5016fb55d7a1"
   },
   "outputs": [],
   "source": []
  },
  {
   "cell_type": "code",
   "execution_count": null,
   "metadata": {
    "_last_msg_id": "97933d5fd1dd4192ad30304f4005c703"
   },
   "outputs": [],
   "source": []
  },
  {
   "cell_type": "code",
   "execution_count": null,
   "metadata": {
    "_last_msg_id": "5892030b2380412c8b0b435aa4c2fa8f"
   },
   "outputs": [],
   "source": []
  },
  {
   "cell_type": "code",
   "execution_count": null,
   "metadata": {
    "_last_msg_id": "03ac327ff4374e558fcca155f02403f9"
   },
   "outputs": [],
   "source": []
  },
  {
   "cell_type": "code",
   "execution_count": null,
   "metadata": {
    "_last_msg_id": "c2ba77c69e7e4e64bfc3a81e41cfa4b0"
   },
   "outputs": [],
   "source": []
  },
  {
   "cell_type": "code",
   "execution_count": null,
   "metadata": {},
   "outputs": [],
   "source": []
  }
 ],
 "metadata": {
  "kernelspec": {
   "display_name": "Python 3",
   "language": "python",
   "name": "python3"
  },
  "language_info": {
   "codemirror_mode": {
    "name": "ipython",
    "version": 3
   },
   "file_extension": ".py",
   "mimetype": "text/x-python",
   "name": "python",
   "nbconvert_exporter": "python",
   "pygments_lexer": "ipython3",
   "version": "3.7.4"
  }
 },
 "nbformat": 4,
 "nbformat_minor": 2
}
