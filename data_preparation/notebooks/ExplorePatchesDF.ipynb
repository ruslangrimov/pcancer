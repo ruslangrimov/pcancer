{
 "cells": [
  {
   "cell_type": "code",
   "execution_count": 1,
   "metadata": {
    "_last_msg_id": "2f1d6a25881e4440be9346c3c7fc07bb"
   },
   "outputs": [],
   "source": [
    "import os, sys\n",
    "import numpy as np\n",
    "import pandas as pd\n",
    "\n",
    "import matplotlib.pyplot as plt"
   ]
  },
  {
   "cell_type": "code",
   "execution_count": 2,
   "metadata": {
    "_last_msg_id": "0e44d37bab2d4747ab42b9cf9a05cc75"
   },
   "outputs": [],
   "source": [
    "patches_csv_path = \"/mnt/SSDData/pdata/processed/patches_512.csv\""
   ]
  },
  {
   "cell_type": "code",
   "execution_count": 3,
   "metadata": {
    "_last_msg_id": "d67df3fe7fed4089853ae2012f23058a"
   },
   "outputs": [],
   "source": [
    "df = pd.read_csv(patches_csv_path)"
   ]
  },
  {
   "cell_type": "code",
   "execution_count": 4,
   "metadata": {
    "_last_msg_id": "e56e992649b44dc785552b2e365af572"
   },
   "outputs": [
    {
     "data": {
      "text/plain": [
       "257.6729"
      ]
     },
     "execution_count": 4,
     "metadata": {},
     "output_type": "execute_result"
    }
   ],
   "source": [
    "df.shape[0] / 10000"
   ]
  },
  {
   "cell_type": "code",
   "execution_count": 5,
   "metadata": {
    "_last_msg_id": "9dd70b240fe64dda840fab24c0bdbe8c"
   },
   "outputs": [
    {
     "data": {
      "text/html": [
       "<div>\n",
       "<style scoped>\n",
       "    .dataframe tbody tr th:only-of-type {\n",
       "        vertical-align: middle;\n",
       "    }\n",
       "\n",
       "    .dataframe tbody tr th {\n",
       "        vertical-align: top;\n",
       "    }\n",
       "\n",
       "    .dataframe thead th {\n",
       "        text-align: right;\n",
       "    }\n",
       "</style>\n",
       "<table border=\"1\" class=\"dataframe\">\n",
       "  <thead>\n",
       "    <tr style=\"text-align: right;\">\n",
       "      <th></th>\n",
       "      <th>image_id</th>\n",
       "      <th>isup_grade</th>\n",
       "      <th>gleason_score</th>\n",
       "      <th>y</th>\n",
       "      <th>x</th>\n",
       "      <th>label0</th>\n",
       "      <th>label1</th>\n",
       "      <th>label2</th>\n",
       "      <th>label3</th>\n",
       "      <th>label4</th>\n",
       "      <th>label5</th>\n",
       "    </tr>\n",
       "    <tr>\n",
       "      <th>data_provider</th>\n",
       "      <th></th>\n",
       "      <th></th>\n",
       "      <th></th>\n",
       "      <th></th>\n",
       "      <th></th>\n",
       "      <th></th>\n",
       "      <th></th>\n",
       "      <th></th>\n",
       "      <th></th>\n",
       "      <th></th>\n",
       "      <th></th>\n",
       "    </tr>\n",
       "  </thead>\n",
       "  <tbody>\n",
       "    <tr>\n",
       "      <td>karolinska</td>\n",
       "      <td>1119543</td>\n",
       "      <td>1119543</td>\n",
       "      <td>1119543</td>\n",
       "      <td>1119543</td>\n",
       "      <td>1119543</td>\n",
       "      <td>1119543</td>\n",
       "      <td>1119543</td>\n",
       "      <td>1119543</td>\n",
       "      <td>1119543</td>\n",
       "      <td>1119543</td>\n",
       "      <td>1119543</td>\n",
       "    </tr>\n",
       "    <tr>\n",
       "      <td>radboud</td>\n",
       "      <td>1457186</td>\n",
       "      <td>1457186</td>\n",
       "      <td>1457186</td>\n",
       "      <td>1457186</td>\n",
       "      <td>1457186</td>\n",
       "      <td>1457186</td>\n",
       "      <td>1457186</td>\n",
       "      <td>1457186</td>\n",
       "      <td>1457186</td>\n",
       "      <td>1457186</td>\n",
       "      <td>1457186</td>\n",
       "    </tr>\n",
       "  </tbody>\n",
       "</table>\n",
       "</div>"
      ],
      "text/plain": [
       "               image_id  isup_grade  gleason_score        y        x   label0  \\\n",
       "data_provider                                                                   \n",
       "karolinska      1119543     1119543        1119543  1119543  1119543  1119543   \n",
       "radboud         1457186     1457186        1457186  1457186  1457186  1457186   \n",
       "\n",
       "                label1   label2   label3   label4   label5  \n",
       "data_provider                                               \n",
       "karolinska     1119543  1119543  1119543  1119543  1119543  \n",
       "radboud        1457186  1457186  1457186  1457186  1457186  "
      ]
     },
     "execution_count": 5,
     "metadata": {},
     "output_type": "execute_result"
    }
   ],
   "source": [
    "df.groupby('data_provider').count()"
   ]
  },
  {
   "cell_type": "code",
   "execution_count": null,
   "metadata": {},
   "outputs": [],
   "source": []
  },
  {
   "cell_type": "code",
   "execution_count": 6,
   "metadata": {
    "_last_msg_id": "8d0a8444ff8f453d83c5e98773d548ad"
   },
   "outputs": [
    {
     "data": {
      "text/html": [
       "<div>\n",
       "<style scoped>\n",
       "    .dataframe tbody tr th:only-of-type {\n",
       "        vertical-align: middle;\n",
       "    }\n",
       "\n",
       "    .dataframe tbody tr th {\n",
       "        vertical-align: top;\n",
       "    }\n",
       "\n",
       "    .dataframe thead th {\n",
       "        text-align: right;\n",
       "    }\n",
       "</style>\n",
       "<table border=\"1\" class=\"dataframe\">\n",
       "  <thead>\n",
       "    <tr style=\"text-align: right;\">\n",
       "      <th></th>\n",
       "      <th>image_id</th>\n",
       "      <th>data_provider</th>\n",
       "      <th>gleason_score</th>\n",
       "      <th>y</th>\n",
       "      <th>x</th>\n",
       "      <th>label0</th>\n",
       "      <th>label1</th>\n",
       "      <th>label2</th>\n",
       "      <th>label3</th>\n",
       "      <th>label4</th>\n",
       "      <th>label5</th>\n",
       "    </tr>\n",
       "    <tr>\n",
       "      <th>isup_grade</th>\n",
       "      <th></th>\n",
       "      <th></th>\n",
       "      <th></th>\n",
       "      <th></th>\n",
       "      <th></th>\n",
       "      <th></th>\n",
       "      <th></th>\n",
       "      <th></th>\n",
       "      <th></th>\n",
       "      <th></th>\n",
       "      <th></th>\n",
       "    </tr>\n",
       "  </thead>\n",
       "  <tbody>\n",
       "    <tr>\n",
       "      <td>0</td>\n",
       "      <td>390462</td>\n",
       "      <td>390462</td>\n",
       "      <td>390462</td>\n",
       "      <td>390462</td>\n",
       "      <td>390462</td>\n",
       "      <td>390462</td>\n",
       "      <td>390462</td>\n",
       "      <td>390462</td>\n",
       "      <td>390462</td>\n",
       "      <td>390462</td>\n",
       "      <td>390462</td>\n",
       "    </tr>\n",
       "    <tr>\n",
       "      <td>1</td>\n",
       "      <td>369335</td>\n",
       "      <td>369335</td>\n",
       "      <td>369335</td>\n",
       "      <td>369335</td>\n",
       "      <td>369335</td>\n",
       "      <td>369335</td>\n",
       "      <td>369335</td>\n",
       "      <td>369335</td>\n",
       "      <td>369335</td>\n",
       "      <td>369335</td>\n",
       "      <td>369335</td>\n",
       "    </tr>\n",
       "    <tr>\n",
       "      <td>2</td>\n",
       "      <td>138821</td>\n",
       "      <td>138821</td>\n",
       "      <td>138821</td>\n",
       "      <td>138821</td>\n",
       "      <td>138821</td>\n",
       "      <td>138821</td>\n",
       "      <td>138821</td>\n",
       "      <td>138821</td>\n",
       "      <td>138821</td>\n",
       "      <td>138821</td>\n",
       "      <td>138821</td>\n",
       "    </tr>\n",
       "    <tr>\n",
       "      <td>3</td>\n",
       "      <td>65326</td>\n",
       "      <td>65326</td>\n",
       "      <td>65326</td>\n",
       "      <td>65326</td>\n",
       "      <td>65326</td>\n",
       "      <td>65326</td>\n",
       "      <td>65326</td>\n",
       "      <td>65326</td>\n",
       "      <td>65326</td>\n",
       "      <td>65326</td>\n",
       "      <td>65326</td>\n",
       "    </tr>\n",
       "    <tr>\n",
       "      <td>4</td>\n",
       "      <td>99424</td>\n",
       "      <td>99424</td>\n",
       "      <td>99424</td>\n",
       "      <td>99424</td>\n",
       "      <td>99424</td>\n",
       "      <td>99424</td>\n",
       "      <td>99424</td>\n",
       "      <td>99424</td>\n",
       "      <td>99424</td>\n",
       "      <td>99424</td>\n",
       "      <td>99424</td>\n",
       "    </tr>\n",
       "    <tr>\n",
       "      <td>5</td>\n",
       "      <td>56175</td>\n",
       "      <td>56175</td>\n",
       "      <td>56175</td>\n",
       "      <td>56175</td>\n",
       "      <td>56175</td>\n",
       "      <td>56175</td>\n",
       "      <td>56175</td>\n",
       "      <td>56175</td>\n",
       "      <td>56175</td>\n",
       "      <td>56175</td>\n",
       "      <td>56175</td>\n",
       "    </tr>\n",
       "  </tbody>\n",
       "</table>\n",
       "</div>"
      ],
      "text/plain": [
       "            image_id  data_provider  gleason_score       y       x  label0  \\\n",
       "isup_grade                                                                   \n",
       "0             390462         390462         390462  390462  390462  390462   \n",
       "1             369335         369335         369335  369335  369335  369335   \n",
       "2             138821         138821         138821  138821  138821  138821   \n",
       "3              65326          65326          65326   65326   65326   65326   \n",
       "4              99424          99424          99424   99424   99424   99424   \n",
       "5              56175          56175          56175   56175   56175   56175   \n",
       "\n",
       "            label1  label2  label3  label4  label5  \n",
       "isup_grade                                          \n",
       "0           390462  390462  390462  390462  390462  \n",
       "1           369335  369335  369335  369335  369335  \n",
       "2           138821  138821  138821  138821  138821  \n",
       "3            65326   65326   65326   65326   65326  \n",
       "4            99424   99424   99424   99424   99424  \n",
       "5            56175   56175   56175   56175   56175  "
      ]
     },
     "execution_count": 6,
     "metadata": {},
     "output_type": "execute_result"
    }
   ],
   "source": [
    "df[df['data_provider'] == 'karolinska'].groupby('isup_grade').count()"
   ]
  },
  {
   "cell_type": "code",
   "execution_count": 7,
   "metadata": {
    "_last_msg_id": "98d337c9dea7404ca82fe48df366389d"
   },
   "outputs": [
    {
     "data": {
      "text/html": [
       "<div>\n",
       "<style scoped>\n",
       "    .dataframe tbody tr th:only-of-type {\n",
       "        vertical-align: middle;\n",
       "    }\n",
       "\n",
       "    .dataframe tbody tr th {\n",
       "        vertical-align: top;\n",
       "    }\n",
       "\n",
       "    .dataframe thead th {\n",
       "        text-align: right;\n",
       "    }\n",
       "</style>\n",
       "<table border=\"1\" class=\"dataframe\">\n",
       "  <thead>\n",
       "    <tr style=\"text-align: right;\">\n",
       "      <th></th>\n",
       "      <th>image_id</th>\n",
       "      <th>data_provider</th>\n",
       "      <th>gleason_score</th>\n",
       "      <th>y</th>\n",
       "      <th>x</th>\n",
       "      <th>label0</th>\n",
       "      <th>label1</th>\n",
       "      <th>label2</th>\n",
       "      <th>label3</th>\n",
       "      <th>label4</th>\n",
       "      <th>label5</th>\n",
       "    </tr>\n",
       "    <tr>\n",
       "      <th>isup_grade</th>\n",
       "      <th></th>\n",
       "      <th></th>\n",
       "      <th></th>\n",
       "      <th></th>\n",
       "      <th></th>\n",
       "      <th></th>\n",
       "      <th></th>\n",
       "      <th></th>\n",
       "      <th></th>\n",
       "      <th></th>\n",
       "      <th></th>\n",
       "    </tr>\n",
       "  </thead>\n",
       "  <tbody>\n",
       "    <tr>\n",
       "      <td>0</td>\n",
       "      <td>293088</td>\n",
       "      <td>293088</td>\n",
       "      <td>293088</td>\n",
       "      <td>293088</td>\n",
       "      <td>293088</td>\n",
       "      <td>293088</td>\n",
       "      <td>293088</td>\n",
       "      <td>293088</td>\n",
       "      <td>293088</td>\n",
       "      <td>293088</td>\n",
       "      <td>293088</td>\n",
       "    </tr>\n",
       "    <tr>\n",
       "      <td>1</td>\n",
       "      <td>225636</td>\n",
       "      <td>225636</td>\n",
       "      <td>225636</td>\n",
       "      <td>225636</td>\n",
       "      <td>225636</td>\n",
       "      <td>225636</td>\n",
       "      <td>225636</td>\n",
       "      <td>225636</td>\n",
       "      <td>225636</td>\n",
       "      <td>225636</td>\n",
       "      <td>225636</td>\n",
       "    </tr>\n",
       "    <tr>\n",
       "      <td>2</td>\n",
       "      <td>198804</td>\n",
       "      <td>198804</td>\n",
       "      <td>198804</td>\n",
       "      <td>198804</td>\n",
       "      <td>198804</td>\n",
       "      <td>198804</td>\n",
       "      <td>198804</td>\n",
       "      <td>198804</td>\n",
       "      <td>198804</td>\n",
       "      <td>198804</td>\n",
       "      <td>198804</td>\n",
       "    </tr>\n",
       "    <tr>\n",
       "      <td>3</td>\n",
       "      <td>254215</td>\n",
       "      <td>254215</td>\n",
       "      <td>254215</td>\n",
       "      <td>254215</td>\n",
       "      <td>254215</td>\n",
       "      <td>254215</td>\n",
       "      <td>254215</td>\n",
       "      <td>254215</td>\n",
       "      <td>254215</td>\n",
       "      <td>254215</td>\n",
       "      <td>254215</td>\n",
       "    </tr>\n",
       "    <tr>\n",
       "      <td>4</td>\n",
       "      <td>203872</td>\n",
       "      <td>203872</td>\n",
       "      <td>203872</td>\n",
       "      <td>203872</td>\n",
       "      <td>203872</td>\n",
       "      <td>203872</td>\n",
       "      <td>203872</td>\n",
       "      <td>203872</td>\n",
       "      <td>203872</td>\n",
       "      <td>203872</td>\n",
       "      <td>203872</td>\n",
       "    </tr>\n",
       "    <tr>\n",
       "      <td>5</td>\n",
       "      <td>281571</td>\n",
       "      <td>281571</td>\n",
       "      <td>281571</td>\n",
       "      <td>281571</td>\n",
       "      <td>281571</td>\n",
       "      <td>281571</td>\n",
       "      <td>281571</td>\n",
       "      <td>281571</td>\n",
       "      <td>281571</td>\n",
       "      <td>281571</td>\n",
       "      <td>281571</td>\n",
       "    </tr>\n",
       "  </tbody>\n",
       "</table>\n",
       "</div>"
      ],
      "text/plain": [
       "            image_id  data_provider  gleason_score       y       x  label0  \\\n",
       "isup_grade                                                                   \n",
       "0             293088         293088         293088  293088  293088  293088   \n",
       "1             225636         225636         225636  225636  225636  225636   \n",
       "2             198804         198804         198804  198804  198804  198804   \n",
       "3             254215         254215         254215  254215  254215  254215   \n",
       "4             203872         203872         203872  203872  203872  203872   \n",
       "5             281571         281571         281571  281571  281571  281571   \n",
       "\n",
       "            label1  label2  label3  label4  label5  \n",
       "isup_grade                                          \n",
       "0           293088  293088  293088  293088  293088  \n",
       "1           225636  225636  225636  225636  225636  \n",
       "2           198804  198804  198804  198804  198804  \n",
       "3           254215  254215  254215  254215  254215  \n",
       "4           203872  203872  203872  203872  203872  \n",
       "5           281571  281571  281571  281571  281571  "
      ]
     },
     "execution_count": 7,
     "metadata": {},
     "output_type": "execute_result"
    }
   ],
   "source": [
    "df[df['data_provider'] == 'radboud'].groupby('isup_grade').count()"
   ]
  },
  {
   "cell_type": "code",
   "execution_count": null,
   "metadata": {},
   "outputs": [],
   "source": []
  },
  {
   "cell_type": "code",
   "execution_count": 8,
   "metadata": {
    "_last_msg_id": "e441018dac754ce58b75dc3d23e0c391"
   },
   "outputs": [
    {
     "data": {
      "text/plain": [
       "549723.5294494629"
      ]
     },
     "execution_count": 8,
     "metadata": {},
     "output_type": "execute_result"
    }
   ],
   "source": [
    "df[df['data_provider'] == 'karolinska']['label0'].sum()"
   ]
  },
  {
   "cell_type": "code",
   "execution_count": 9,
   "metadata": {
    "_last_msg_id": "96e5bc5a0c554051b9c1b6e5bfb59ca3"
   },
   "outputs": [
    {
     "data": {
      "text/plain": [
       "419386.23165130615"
      ]
     },
     "execution_count": 9,
     "metadata": {},
     "output_type": "execute_result"
    }
   ],
   "source": [
    "df[df['data_provider'] == 'karolinska']['label1'].sum()"
   ]
  },
  {
   "cell_type": "code",
   "execution_count": 10,
   "metadata": {
    "_last_msg_id": "2b91557354a54ae18ecc19d79cab8932"
   },
   "outputs": [
    {
     "data": {
      "text/plain": [
       "150433.23889923096"
      ]
     },
     "execution_count": 10,
     "metadata": {},
     "output_type": "execute_result"
    }
   ],
   "source": [
    "df[df['data_provider'] == 'karolinska']['label2'].sum()"
   ]
  },
  {
   "cell_type": "code",
   "execution_count": 11,
   "metadata": {
    "_last_msg_id": "d99067d364d443f6ad5e6faf51a396dd"
   },
   "outputs": [
    {
     "data": {
      "text/plain": [
       "0.0"
      ]
     },
     "execution_count": 11,
     "metadata": {},
     "output_type": "execute_result"
    }
   ],
   "source": [
    "df[df['data_provider'] == 'karolinska']['label3'].sum()"
   ]
  },
  {
   "cell_type": "code",
   "execution_count": 12,
   "metadata": {
    "_last_msg_id": "a8386bcd28c64d049b72c924c58bcae6"
   },
   "outputs": [
    {
     "data": {
      "text/html": [
       "<div>\n",
       "<style scoped>\n",
       "    .dataframe tbody tr th:only-of-type {\n",
       "        vertical-align: middle;\n",
       "    }\n",
       "\n",
       "    .dataframe tbody tr th {\n",
       "        vertical-align: top;\n",
       "    }\n",
       "\n",
       "    .dataframe thead th {\n",
       "        text-align: right;\n",
       "    }\n",
       "</style>\n",
       "<table border=\"1\" class=\"dataframe\">\n",
       "  <thead>\n",
       "    <tr style=\"text-align: right;\">\n",
       "      <th></th>\n",
       "      <th>label0</th>\n",
       "      <th>label1</th>\n",
       "      <th>label2</th>\n",
       "      <th>label3</th>\n",
       "      <th>label4</th>\n",
       "      <th>label5</th>\n",
       "    </tr>\n",
       "    <tr>\n",
       "      <th>isup_grade</th>\n",
       "      <th></th>\n",
       "      <th></th>\n",
       "      <th></th>\n",
       "      <th></th>\n",
       "      <th></th>\n",
       "      <th></th>\n",
       "    </tr>\n",
       "  </thead>\n",
       "  <tbody>\n",
       "    <tr>\n",
       "      <td>0</td>\n",
       "      <td>156822.581947</td>\n",
       "      <td>233639.418053</td>\n",
       "      <td>0.000000</td>\n",
       "      <td>0.0</td>\n",
       "      <td>0.0</td>\n",
       "      <td>0.0</td>\n",
       "    </tr>\n",
       "    <tr>\n",
       "      <td>1</td>\n",
       "      <td>204723.677643</td>\n",
       "      <td>115962.348625</td>\n",
       "      <td>48648.973732</td>\n",
       "      <td>0.0</td>\n",
       "      <td>0.0</td>\n",
       "      <td>0.0</td>\n",
       "    </tr>\n",
       "    <tr>\n",
       "      <td>2</td>\n",
       "      <td>75164.029778</td>\n",
       "      <td>31173.296535</td>\n",
       "      <td>32483.673687</td>\n",
       "      <td>0.0</td>\n",
       "      <td>0.0</td>\n",
       "      <td>0.0</td>\n",
       "    </tr>\n",
       "    <tr>\n",
       "      <td>3</td>\n",
       "      <td>34316.908569</td>\n",
       "      <td>11025.116741</td>\n",
       "      <td>19983.974689</td>\n",
       "      <td>0.0</td>\n",
       "      <td>0.0</td>\n",
       "      <td>0.0</td>\n",
       "    </tr>\n",
       "    <tr>\n",
       "      <td>4</td>\n",
       "      <td>51331.326836</td>\n",
       "      <td>20611.457172</td>\n",
       "      <td>27481.215992</td>\n",
       "      <td>0.0</td>\n",
       "      <td>0.0</td>\n",
       "      <td>0.0</td>\n",
       "    </tr>\n",
       "    <tr>\n",
       "      <td>5</td>\n",
       "      <td>27365.004677</td>\n",
       "      <td>6974.594524</td>\n",
       "      <td>21835.400799</td>\n",
       "      <td>0.0</td>\n",
       "      <td>0.0</td>\n",
       "      <td>0.0</td>\n",
       "    </tr>\n",
       "  </tbody>\n",
       "</table>\n",
       "</div>"
      ],
      "text/plain": [
       "                   label0         label1        label2  label3  label4  label5\n",
       "isup_grade                                                                    \n",
       "0           156822.581947  233639.418053      0.000000     0.0     0.0     0.0\n",
       "1           204723.677643  115962.348625  48648.973732     0.0     0.0     0.0\n",
       "2            75164.029778   31173.296535  32483.673687     0.0     0.0     0.0\n",
       "3            34316.908569   11025.116741  19983.974689     0.0     0.0     0.0\n",
       "4            51331.326836   20611.457172  27481.215992     0.0     0.0     0.0\n",
       "5            27365.004677    6974.594524  21835.400799     0.0     0.0     0.0"
      ]
     },
     "execution_count": 12,
     "metadata": {},
     "output_type": "execute_result"
    }
   ],
   "source": [
    "df[df['data_provider'] == 'karolinska'].groupby('isup_grade')[[f'label{i}' for i in range(6)]].sum()"
   ]
  },
  {
   "cell_type": "code",
   "execution_count": 13,
   "metadata": {
    "_last_msg_id": "34f8ab5c1db84035bd52fcc9e3a273ad"
   },
   "outputs": [
    {
     "data": {
      "text/html": [
       "<div>\n",
       "<style scoped>\n",
       "    .dataframe tbody tr th:only-of-type {\n",
       "        vertical-align: middle;\n",
       "    }\n",
       "\n",
       "    .dataframe tbody tr th {\n",
       "        vertical-align: top;\n",
       "    }\n",
       "\n",
       "    .dataframe thead th {\n",
       "        text-align: right;\n",
       "    }\n",
       "</style>\n",
       "<table border=\"1\" class=\"dataframe\">\n",
       "  <thead>\n",
       "    <tr style=\"text-align: right;\">\n",
       "      <th></th>\n",
       "      <th>label0</th>\n",
       "      <th>label1</th>\n",
       "      <th>label2</th>\n",
       "      <th>label3</th>\n",
       "      <th>label4</th>\n",
       "      <th>label5</th>\n",
       "    </tr>\n",
       "    <tr>\n",
       "      <th>isup_grade</th>\n",
       "      <th></th>\n",
       "      <th></th>\n",
       "      <th></th>\n",
       "      <th></th>\n",
       "      <th></th>\n",
       "      <th></th>\n",
       "    </tr>\n",
       "  </thead>\n",
       "  <tbody>\n",
       "    <tr>\n",
       "      <td>0</td>\n",
       "      <td>197719.336090</td>\n",
       "      <td>85034.240402</td>\n",
       "      <td>10334.423508</td>\n",
       "      <td>0.000000</td>\n",
       "      <td>0.000000</td>\n",
       "      <td>0.000000</td>\n",
       "    </tr>\n",
       "    <tr>\n",
       "      <td>1</td>\n",
       "      <td>135521.577148</td>\n",
       "      <td>75205.695999</td>\n",
       "      <td>5054.923248</td>\n",
       "      <td>9853.802521</td>\n",
       "      <td>0.001083</td>\n",
       "      <td>0.000000</td>\n",
       "    </tr>\n",
       "    <tr>\n",
       "      <td>2</td>\n",
       "      <td>114831.331924</td>\n",
       "      <td>65801.978119</td>\n",
       "      <td>2753.085205</td>\n",
       "      <td>10485.587250</td>\n",
       "      <td>4932.017502</td>\n",
       "      <td>0.000000</td>\n",
       "    </tr>\n",
       "    <tr>\n",
       "      <td>3</td>\n",
       "      <td>143929.067307</td>\n",
       "      <td>86525.848083</td>\n",
       "      <td>3749.667023</td>\n",
       "      <td>5199.027161</td>\n",
       "      <td>14811.390427</td>\n",
       "      <td>0.000000</td>\n",
       "    </tr>\n",
       "    <tr>\n",
       "      <td>4</td>\n",
       "      <td>120581.006638</td>\n",
       "      <td>67816.954178</td>\n",
       "      <td>2591.484192</td>\n",
       "      <td>963.889404</td>\n",
       "      <td>10739.215149</td>\n",
       "      <td>1179.450439</td>\n",
       "    </tr>\n",
       "    <tr>\n",
       "      <td>5</td>\n",
       "      <td>160412.530472</td>\n",
       "      <td>98617.650589</td>\n",
       "      <td>2434.898499</td>\n",
       "      <td>0.000000</td>\n",
       "      <td>12913.173721</td>\n",
       "      <td>7192.746719</td>\n",
       "    </tr>\n",
       "  </tbody>\n",
       "</table>\n",
       "</div>"
      ],
      "text/plain": [
       "                   label0        label1        label2        label3  \\\n",
       "isup_grade                                                            \n",
       "0           197719.336090  85034.240402  10334.423508      0.000000   \n",
       "1           135521.577148  75205.695999   5054.923248   9853.802521   \n",
       "2           114831.331924  65801.978119   2753.085205  10485.587250   \n",
       "3           143929.067307  86525.848083   3749.667023   5199.027161   \n",
       "4           120581.006638  67816.954178   2591.484192    963.889404   \n",
       "5           160412.530472  98617.650589   2434.898499      0.000000   \n",
       "\n",
       "                  label4       label5  \n",
       "isup_grade                             \n",
       "0               0.000000     0.000000  \n",
       "1               0.001083     0.000000  \n",
       "2            4932.017502     0.000000  \n",
       "3           14811.390427     0.000000  \n",
       "4           10739.215149  1179.450439  \n",
       "5           12913.173721  7192.746719  "
      ]
     },
     "execution_count": 13,
     "metadata": {},
     "output_type": "execute_result"
    }
   ],
   "source": [
    "df[df['data_provider'] == 'radboud'].groupby('isup_grade')[[f'label{i}' for i in range(6)]].sum()"
   ]
  },
  {
   "cell_type": "code",
   "execution_count": null,
   "metadata": {},
   "outputs": [],
   "source": []
  },
  {
   "cell_type": "code",
   "execution_count": 14,
   "metadata": {
    "_last_msg_id": "7d43ced7731c42b68d3c077d6c0d5998"
   },
   "outputs": [],
   "source": [
    "df_g = df.groupby('image_id')"
   ]
  },
  {
   "cell_type": "code",
   "execution_count": 18,
   "metadata": {
    "_last_msg_id": "d9be739ff0984e1c89e16a2266fdbcee"
   },
   "outputs": [],
   "source": [
    "patches_per_id  = df_g.count()['data_provider'].values"
   ]
  },
  {
   "cell_type": "code",
   "execution_count": 19,
   "metadata": {
    "_last_msg_id": "b8e5cdea6b5742088c45091677c74dae"
   },
   "outputs": [
    {
     "data": {
      "text/plain": [
       "(8, 1101)"
      ]
     },
     "execution_count": 19,
     "metadata": {},
     "output_type": "execute_result"
    }
   ],
   "source": [
    "patches_per_id.min(), patches_per_id.max()"
   ]
  },
  {
   "cell_type": "code",
   "execution_count": 21,
   "metadata": {
    "_last_msg_id": "a2a917c81c8b465a854e44808d3b3502"
   },
   "outputs": [
    {
     "data": {
      "image/png": "[encoded data removed]",
      "text/plain": [
       "<Figure size 432x288 with 1 Axes>"
      ]
     },
     "metadata": {
      "needs_background": "light"
     },
     "output_type": "display_data"
    }
   ],
   "source": [
    "plt.hist(patches_per_id, bins=50);"
   ]
  },
  {
   "cell_type": "code",
   "execution_count": 25,
   "metadata": {
    "_last_msg_id": "e01e5553d58b4df1a9fff54e99a17e58"
   },
   "outputs": [],
   "source": [
    "min_y_x = df_g.min()[['y', 'x']].values\n",
    "max_y_x = df_g.max()[['y', 'x']].values"
   ]
  },
  {
   "cell_type": "code",
   "execution_count": 27,
   "metadata": {
    "_last_msg_id": "d26c4611b9714d90be2ad52839a45c84",
    "scrolled": true
   },
   "outputs": [],
   "source": [
    "size_y_x = max_y_x - min_y_x"
   ]
  },
  {
   "cell_type": "code",
   "execution_count": 28,
   "metadata": {
    "_last_msg_id": "9f7e4ac447a6407682478aa9994ca897"
   },
   "outputs": [
    {
     "data": {
      "image/png": "[encoded data removed]",
      "text/plain": [
       "<Figure size 432x288 with 1 Axes>"
      ]
     },
     "metadata": {
      "needs_background": "light"
     },
     "output_type": "display_data"
    }
   ],
   "source": [
    "plt.hist(size_y_x[:, 0], bins=50);"
   ]
  },
  {
   "cell_type": "code",
   "execution_count": 29,
   "metadata": {
    "_last_msg_id": "146f36a783534a5781a4121773c1456e"
   },
   "outputs": [
    {
     "data": {
      "image/png": "[encoded data removed]",
      "text/plain": [
       "<Figure size 432x288 with 1 Axes>"
      ]
     },
     "metadata": {
      "needs_background": "light"
     },
     "output_type": "display_data"
    }
   ],
   "source": [
    "plt.hist(size_y_x[:, 1], bins=50);"
   ]
  },
  {
   "cell_type": "code",
   "execution_count": 31,
   "metadata": {
    "_last_msg_id": "44598874794e43dd80de11a24b3fd37a"
   },
   "outputs": [
    {
     "data": {
      "text/plain": [
       "4096"
      ]
     },
     "execution_count": 31,
     "metadata": {},
     "output_type": "execute_result"
    }
   ],
   "source": [
    "64*64"
   ]
  },
  {
   "cell_type": "code",
   "execution_count": 32,
   "metadata": {
    "_last_msg_id": "1a7973f7e8ea41ceb35e51cddeb63569"
   },
   "outputs": [
    {
     "data": {
      "text/plain": [
       "256.0"
      ]
     },
     "execution_count": 32,
     "metadata": {},
     "output_type": "execute_result"
    }
   ],
   "source": [
    "64*64 / 16"
   ]
  },
  {
   "cell_type": "code",
   "execution_count": null,
   "metadata": {},
   "outputs": [],
   "source": []
  },
  {
   "cell_type": "code",
   "execution_count": null,
   "metadata": {},
   "outputs": [],
   "source": []
  },
  {
   "cell_type": "code",
   "execution_count": null,
   "metadata": {},
   "outputs": [],
   "source": []
  }
 ],
 "metadata": {
  "kernelspec": {
   "display_name": "Python 3",
   "language": "python",
   "name": "python3"
  },
  "language_info": {
   "codemirror_mode": {
    "name": "ipython",
    "version": 3
   },
   "file_extension": ".py",
   "mimetype": "text/x-python",
   "name": "python",
   "nbconvert_exporter": "python",
   "pygments_lexer": "ipython3",
   "version": "3.7.4"
  }
 },
 "nbformat": 4,
 "nbformat_minor": 2
}
