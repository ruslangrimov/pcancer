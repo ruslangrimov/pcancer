{
 "cells": [
  {
   "cell_type": "code",
   "execution_count": 14,
   "metadata": {
    "_last_msg_id": "a6373b6e585d4c9fa8f3d47a69295d64"
   },
   "outputs": [],
   "source": [
    "import re"
   ]
  },
  {
   "cell_type": "code",
   "execution_count": 1,
   "metadata": {
    "_last_msg_id": "de9e4a7eace44a898928f39370b11797"
   },
   "outputs": [],
   "source": [
    "err_list = [{'040b2c98538ec7ead1cbd6daacdb3f64': 'EXCEPTION IN (wsi_to_patches.py, LINE 70 \"img = tifffile.imread(os.path.join(wsi_masks_path, f\"{img_id}_mask.tiff\"))\"): [Errno 2] No such file or directory: \\'/mnt/HDDData/pdata/train_label_masks/040b2c98538ec7ead1cbd6daacdb3f64_mask.tiff\\''}, {'05f2ae45ead3e5737d102656366752df': 'EXCEPTION IN (wsi_to_patches.py, LINE 70 \"img = tifffile.imread(os.path.join(wsi_masks_path, f\"{img_id}_mask.tiff\"))\"): [Errno 2] No such file or directory: \\'/mnt/HDDData/pdata/train_label_masks/05f2ae45ead3e5737d102656366752df_mask.tiff\\''}, {'0cbadddd6fd3eca47c33e48752f680cd': 'EXCEPTION IN (wsi_to_patches.py, LINE 70 \"img = tifffile.imread(os.path.join(wsi_masks_path,\"): [Errno 2] No such file or directory: \\'/mnt/HDDData/pdata/train_label_masks/0cbadddd6fd3eca47c33e48752f680cd_mask.tiff\\''}, {'0ebea13245a2b04ca3e6a482091e35d6': 'EXCEPTION IN (wsi_to_patches.py, LINE 70 \"img = tifffile.imread(os.path.join(wsi_masks_path,\"): [Errno 2] No such file or directory: \\'/mnt/HDDData/pdata/train_label_masks/0ebea13245a2b04ca3e6a482091e35d6_mask.tiff\\''}, {'11641ccf5569bc94de323bb50b7fec7e': 'EXCEPTION IN (wsi_to_patches.py, LINE 70 \"img = tifffile.imread(os.path.join(wsi_masks_path,\"): [Errno 2] No such file or directory: \\'/mnt/HDDData/pdata/train_label_masks/11641ccf5569bc94de323bb50b7fec7e_mask.tiff\\''}, {'13ab419e772cf0dd8140f34f905bd918': 'EXCEPTION IN (wsi_to_patches.py, LINE 70 \"img = tifffile.imread(os.path.join(wsi_masks_path,\"): [Errno 2] No such file or directory: \\'/mnt/HDDData/pdata/train_label_masks/13ab419e772cf0dd8140f34f905bd918_mask.tiff\\''}, {'13aba34105b637fcf77e4efdc4ccaef4': 'EXCEPTION IN (wsi_to_patches.py, LINE 70 \"img = tifffile.imread(os.path.join(wsi_masks_path,\"): [Errno 2] No such file or directory: \\'/mnt/HDDData/pdata/train_label_masks/13aba34105b637fcf77e4efdc4ccaef4_mask.tiff\\''}, {'148b753bb4a61f27bc4f17c6d123e1ec': 'EXCEPTION IN (wsi_to_patches.py, LINE 70 \"row = [img_id, df_row.data_provider, df_row.isup_grade,\"): [Errno 2] No such file or directory: \\'/mnt/HDDData/pdata/train_label_masks/148b753bb4a61f27bc4f17c6d123e1ec_mask.tiff\\''}, {'1563523865810e5763f7f1dd1a30da85': 'EXCEPTION IN (wsi_to_patches.py, LINE 70 \"df_row.gleason_score, y, x]\"): [Errno 2] No such file or directory: \\'/mnt/HDDData/pdata/train_label_masks/1563523865810e5763f7f1dd1a30da85_mask.tiff\\''}, {'1a14633255dc8b2dd5a36fd6f3eaf839': 'EXCEPTION IN (wsi_to_patches.py, LINE 70 \"df_row.gleason_score, y, x]\"): [Errno 2] No such file or directory: \\'/mnt/HDDData/pdata/train_label_masks/1a14633255dc8b2dd5a36fd6f3eaf839_mask.tiff\\''}, {'1aff7ddcd1864b0e2fa4fdf61e965a83': 'EXCEPTION IN (wsi_to_patches.py, LINE 70 \"df_row.gleason_score, y, x]\"): [Errno 2] No such file or directory: \\'/mnt/HDDData/pdata/train_label_masks/1aff7ddcd1864b0e2fa4fdf61e965a83_mask.tiff\\''}, {'2ac36a2e35654c0be9e818f9f9407807': 'EXCEPTION IN (wsi_to_patches.py, LINE 70 \"df_row.gleason_score, y, x]\"): [Errno 2] No such file or directory: \\'/mnt/HDDData/pdata/train_label_masks/2ac36a2e35654c0be9e818f9f9407807_mask.tiff\\''}, {'2d7eef10a777361cd0872f70dda344ba': 'EXCEPTION IN (wsi_to_patches.py, LINE 70 \"df_row.gleason_score, y, x]\"): [Errno 2] No such file or directory: \\'/mnt/HDDData/pdata/train_label_masks/2d7eef10a777361cd0872f70dda344ba_mask.tiff\\''}, {'2f178956e9fc7df485c50395b9664b40': 'EXCEPTION IN (wsi_to_patches.py, LINE 70 \"df_row.gleason_score, y, x]\"): [Errno 2] No such file or directory: \\'/mnt/HDDData/pdata/train_label_masks/2f178956e9fc7df485c50395b9664b40_mask.tiff\\''}, {'31fd11d1920dede9f0fa0dcb35baa34e': 'EXCEPTION IN (wsi_to_patches.py, LINE 70 \"df_row.gleason_score, y, x]\"): [Errno 2] No such file or directory: \\'/mnt/HDDData/pdata/train_label_masks/31fd11d1920dede9f0fa0dcb35baa34e_mask.tiff\\''}, {'33105f777ddf03e095ed3350179b41da': 'EXCEPTION IN (wsi_to_patches.py, LINE 70 \"df_row.gleason_score, y, x]\"): [Errno 2] No such file or directory: \\'/mnt/HDDData/pdata/train_label_masks/33105f777ddf03e095ed3350179b41da_mask.tiff\\''}, {'34b9896eebff5d0501dc23156b26f2b3': 'EXCEPTION IN (wsi_to_patches.py, LINE 70 \"df_row.gleason_score, y, x]\"): [Errno 2] No such file or directory: \\'/mnt/HDDData/pdata/train_label_masks/34b9896eebff5d0501dc23156b26f2b3_mask.tiff\\''}, {'3756141b86ca5f2afcacf5113d4e8f83': 'EXCEPTION IN (wsi_to_patches.py, LINE 70 \"df_row.gleason_score, y, x]\"): [Errno 2] No such file or directory: \\'/mnt/HDDData/pdata/train_label_masks/3756141b86ca5f2afcacf5113d4e8f83_mask.tiff\\''}, {'3ac1b4146a8bea81e2ff2b1f2c0bb0c8': 'EXCEPTION IN (wsi_to_patches.py, LINE 70 \"df_row.gleason_score, y, x]\"): [Errno 2] No such file or directory: \\'/mnt/HDDData/pdata/train_label_masks/3ac1b4146a8bea81e2ff2b1f2c0bb0c8_mask.tiff\\''}, {'3ae66332c2dd50c6ce458937d49f8232': 'EXCEPTION IN (wsi_to_patches.py, LINE 70 \"df_row.gleason_score, y, x]\"): [Errno 2] No such file or directory: \\'/mnt/HDDData/pdata/train_label_masks/3ae66332c2dd50c6ce458937d49f8232_mask.tiff\\''}, {'3ec8cdd4bcb971eea9c54d7dd1a49e1c': 'EXCEPTION IN (wsi_to_patches.py, LINE 70 \"df_row.gleason_score, y, x]\"): [Errno 2] No such file or directory: \\'/mnt/HDDData/pdata/train_label_masks/3ec8cdd4bcb971eea9c54d7dd1a49e1c_mask.tiff\\''}, {'41bfc11a16555808e8ddf2af836e6943': 'EXCEPTION IN (wsi_to_patches.py, LINE 70 \"df_row.gleason_score, y, x]\"): [Errno 2] No such file or directory: \\'/mnt/HDDData/pdata/train_label_masks/41bfc11a16555808e8ddf2af836e6943_mask.tiff\\''}, {'458b3e1c2f1f56179d89fec4d56bd8d6': 'EXCEPTION IN (wsi_to_patches.py, LINE 70 \"df_row.gleason_score, y, x]\"): [Errno 2] No such file or directory: \\'/mnt/HDDData/pdata/train_label_masks/458b3e1c2f1f56179d89fec4d56bd8d6_mask.tiff\\''}, {'4da79675b490fd611075cd6b84b83adb': 'EXCEPTION IN (wsi_to_patches.py, LINE 70 \"df_row.gleason_score, y, x]\"): [Errno 2] No such file or directory: \\'/mnt/HDDData/pdata/train_label_masks/4da79675b490fd611075cd6b84b83adb_mask.tiff\\''}, {'4e3f861386c391790eea8f0de4ab5015': 'EXCEPTION IN (wsi_to_patches.py, LINE 70 \"df_row.gleason_score, y, x]\"): [Errno 2] No such file or directory: \\'/mnt/HDDData/pdata/train_label_masks/4e3f861386c391790eea8f0de4ab5015_mask.tiff\\''}, {'5037b3b05aec2c96a034ce9301a43326': 'EXCEPTION IN (wsi_to_patches.py, LINE 70 \"df_row.gleason_score, y, x]\"): [Errno 2] No such file or directory: \\'/mnt/HDDData/pdata/train_label_masks/5037b3b05aec2c96a034ce9301a43326_mask.tiff\\''}, {'53f2d7fc3b642a8b6cc2d2780f6bb48b': 'EXCEPTION IN (wsi_to_patches.py, LINE 70 \"df_row.gleason_score, y, x]\"): [Errno 2] No such file or directory: \\'/mnt/HDDData/pdata/train_label_masks/53f2d7fc3b642a8b6cc2d2780f6bb48b_mask.tiff\\''}, {'5477d1fe122c0b899b4be1634d3d8da5': 'EXCEPTION IN (wsi_to_patches.py, LINE 70 \"df_row.gleason_score, y, x]\"): [Errno 2] No such file or directory: \\'/mnt/HDDData/pdata/train_label_masks/5477d1fe122c0b899b4be1634d3d8da5_mask.tiff\\''}, {'54f5546d5e8afe397e0180510148fb85': 'EXCEPTION IN (wsi_to_patches.py, LINE 70 \"df_row.gleason_score, y, x]\"): [Errno 2] No such file or directory: \\'/mnt/HDDData/pdata/train_label_masks/54f5546d5e8afe397e0180510148fb85_mask.tiff\\''}, {'5983afd79b3d81e4fa5d23eccdcac8c4': 'EXCEPTION IN (wsi_to_patches.py, LINE 70 \"df_row.gleason_score, y, x]\"): [Errno 2] No such file or directory: \\'/mnt/HDDData/pdata/train_label_masks/5983afd79b3d81e4fa5d23eccdcac8c4_mask.tiff\\''}, {'5a4d7035c9741c06a1c38b4c7dccdba0': 'EXCEPTION IN (wsi_to_patches.py, LINE 70 \"df_row.gleason_score, y, x]\"): [Errno 2] No such file or directory: \\'/mnt/HDDData/pdata/train_label_masks/5a4d7035c9741c06a1c38b4c7dccdba0_mask.tiff\\''}, {'5fcce7dc17349db4badc8e94e41f45eb': 'EXCEPTION IN (wsi_to_patches.py, LINE 70 \"df_row.gleason_score, y, x]\"): [Errno 2] No such file or directory: \\'/mnt/HDDData/pdata/train_label_masks/5fcce7dc17349db4badc8e94e41f45eb_mask.tiff\\''}, {'632e75c2e505dca41ae57573e70932b9': 'EXCEPTION IN (wsi_to_patches.py, LINE 70 \"df_row.gleason_score, y, x]\"): [Errno 2] No such file or directory: \\'/mnt/HDDData/pdata/train_label_masks/632e75c2e505dca41ae57573e70932b9_mask.tiff\\''}, {'6437f1be7543631458919813cc6ba8cf': 'EXCEPTION IN (wsi_to_patches.py, LINE 70 \"df_row.gleason_score, y, x]\"): [Errno 2] No such file or directory: \\'/mnt/HDDData/pdata/train_label_masks/6437f1be7543631458919813cc6ba8cf_mask.tiff\\''}, {'6519a41ad0cd0eadde0cde1ee256d141': 'EXCEPTION IN (wsi_to_patches.py, LINE 70 \"df_row.gleason_score, y, x]\"): [Errno 2] No such file or directory: \\'/mnt/HDDData/pdata/train_label_masks/6519a41ad0cd0eadde0cde1ee256d141_mask.tiff\\''}, {'663be089197be4c5f7f4a6e1718f9c50': 'EXCEPTION IN (wsi_to_patches.py, LINE 70 \"df_row.gleason_score, y, x]\"): [Errno 2] No such file or directory: \\'/mnt/HDDData/pdata/train_label_masks/663be089197be4c5f7f4a6e1718f9c50_mask.tiff\\''}, {'6806e41cd6048002dfa52e2f4ad88900': 'EXCEPTION IN (wsi_to_patches.py, LINE 70 \"df_row.gleason_score, y, x]\"): [Errno 2] No such file or directory: \\'/mnt/HDDData/pdata/train_label_masks/6806e41cd6048002dfa52e2f4ad88900_mask.tiff\\''}, {'685b3fd17cdb8da60494694df414dc20': 'EXCEPTION IN (wsi_to_patches.py, LINE 70 \"df_row.gleason_score, y, x]\"): [Errno 2] No such file or directory: \\'/mnt/HDDData/pdata/train_label_masks/685b3fd17cdb8da60494694df414dc20_mask.tiff\\''}, {'695c5b79a3c75deea1f333f56e305e85': 'EXCEPTION IN (wsi_to_patches.py, LINE 70 \"df_row.gleason_score, y, x]\"): [Errno 2] No such file or directory: \\'/mnt/HDDData/pdata/train_label_masks/695c5b79a3c75deea1f333f56e305e85_mask.tiff\\''}, {'69cbb87f131ddaa6b2ea5e9b6694c01d': 'EXCEPTION IN (wsi_to_patches.py, LINE 70 \"df_row.gleason_score, y, x]\"): [Errno 2] No such file or directory: \\'/mnt/HDDData/pdata/train_label_masks/69cbb87f131ddaa6b2ea5e9b6694c01d_mask.tiff\\''}, {'6df7a3d8b4955d162fcc11bce003860a': 'EXCEPTION IN (wsi_to_patches.py, LINE 70 \"df_row.gleason_score, y, x]\"): [Errno 2] No such file or directory: \\'/mnt/HDDData/pdata/train_label_masks/6df7a3d8b4955d162fcc11bce003860a_mask.tiff\\''}, {'6ffaf27156505265f49d0dbc2d14a745': 'EXCEPTION IN (wsi_to_patches.py, LINE 70 \"df_row.gleason_score, y, x]\"): [Errno 2] No such file or directory: \\'/mnt/HDDData/pdata/train_label_masks/6ffaf27156505265f49d0dbc2d14a745_mask.tiff\\''}, {'741c3cea01151450aa8a04c021978b70': 'EXCEPTION IN (wsi_to_patches.py, LINE 70 \"df_row.gleason_score, y, x]\"): [Errno 2] No such file or directory: \\'/mnt/HDDData/pdata/train_label_masks/741c3cea01151450aa8a04c021978b70_mask.tiff\\''}, {'746223e2679f7697dc6b6aad326a01df': 'EXCEPTION IN (wsi_to_patches.py, LINE 70 \"df_row.gleason_score, y, x]\"): [Errno 2] No such file or directory: \\'/mnt/HDDData/pdata/train_label_masks/746223e2679f7697dc6b6aad326a01df_mask.tiff\\''}, {'81e8daac3be77e62ac181304eec1ceec': 'EXCEPTION IN (wsi_to_patches.py, LINE 70 \"df_row.gleason_score, y, x]\"): [Errno 2] No such file or directory: \\'/mnt/HDDData/pdata/train_label_masks/81e8daac3be77e62ac181304eec1ceec_mask.tiff\\''}, {'81f1706e615ff80757a041cf70d022f5': 'EXCEPTION IN (wsi_to_patches.py, LINE 70 \"df_row.gleason_score, y, x]\"): [Errno 2] No such file or directory: \\'/mnt/HDDData/pdata/train_label_masks/81f1706e615ff80757a041cf70d022f5_mask.tiff\\''}, {'829dd10a2effb3f6aad826dc06217f58': 'EXCEPTION IN (wsi_to_patches.py, LINE 70 \"df_row.gleason_score, y, x]\"): [Errno 2] No such file or directory: \\'/mnt/HDDData/pdata/train_label_masks/829dd10a2effb3f6aad826dc06217f58_mask.tiff\\''}, {'84859c9c3bf27b78b300204cb328baf0': 'EXCEPTION IN (wsi_to_patches.py, LINE 70 \"df_row.gleason_score, y, x]\"): [Errno 2] No such file or directory: \\'/mnt/HDDData/pdata/train_label_masks/84859c9c3bf27b78b300204cb328baf0_mask.tiff\\''}, {'90155f31bd058a8f7b959346103bdc0c': 'EXCEPTION IN (wsi_to_patches.py, LINE 70 \"df_row.gleason_score, y, x]\"): [Errno 2] No such file or directory: \\'/mnt/HDDData/pdata/train_label_masks/90155f31bd058a8f7b959346103bdc0c_mask.tiff\\''}, {'933e0a326144bffd98a22ef54fa1466a': 'EXCEPTION IN (wsi_to_patches.py, LINE 70 \"df_row.gleason_score, y, x]\"): [Errno 2] No such file or directory: \\'/mnt/HDDData/pdata/train_label_masks/933e0a326144bffd98a22ef54fa1466a_mask.tiff\\''}, {'990cfa4d540e7a0a0e90dd79bb82a527': 'EXCEPTION IN (wsi_to_patches.py, LINE 70 \"df_row.gleason_score, y, x]\"): [Errno 2] No such file or directory: \\'/mnt/HDDData/pdata/train_label_masks/990cfa4d540e7a0a0e90dd79bb82a527_mask.tiff\\''}, {'995d89d079e8b1e4e06217d3f7fd6d9e': 'EXCEPTION IN (wsi_to_patches.py, LINE 70 \"df_row.gleason_score, y, x]\"): [Errno 2] No such file or directory: \\'/mnt/HDDData/pdata/train_label_masks/995d89d079e8b1e4e06217d3f7fd6d9e_mask.tiff\\''}, {'9b6513bd810e25a7b7f3bd91b4d16803': 'EXCEPTION IN (wsi_to_patches.py, LINE 70 \"df_row.gleason_score, y, x]\"): [Errno 2] No such file or directory: \\'/mnt/HDDData/pdata/train_label_masks/9b6513bd810e25a7b7f3bd91b4d16803_mask.tiff\\''}, {'a109197ed889dd998c52e3f9d0bd98f0': 'EXCEPTION IN (wsi_to_patches.py, LINE 70 \"df_row.gleason_score, y, x]\"): [Errno 2] No such file or directory: \\'/mnt/HDDData/pdata/train_label_masks/a109197ed889dd998c52e3f9d0bd98f0_mask.tiff\\''}, {'a1385e79c61705772c03a7cd134c72e7': 'EXCEPTION IN (wsi_to_patches.py, LINE 70 \"df_row.gleason_score, y, x]\"): [Errno 2] No such file or directory: \\'/mnt/HDDData/pdata/train_label_masks/a1385e79c61705772c03a7cd134c72e7_mask.tiff\\''}, {'a1b7055a495ac4a160336b66acc62b4b': 'EXCEPTION IN (wsi_to_patches.py, LINE 71 \"\"): Unable to allocate array with shape (35328, 22528, 3) and data type uint8'}, {'a61bde5fa031a829eed61c44ea348963': 'EXCEPTION IN (wsi_to_patches.py, LINE 70 \"df_row.gleason_score, y, x]\"): [Errno 2] No such file or directory: \\'/mnt/HDDData/pdata/train_label_masks/a61bde5fa031a829eed61c44ea348963_mask.tiff\\''}, {'a65a4942b32e64ab56e8128575f81f9b': 'EXCEPTION IN (wsi_to_patches.py, LINE 70 \"df_row.gleason_score, y, x]\"): [Errno 2] No such file or directory: \\'/mnt/HDDData/pdata/train_label_masks/a65a4942b32e64ab56e8128575f81f9b_mask.tiff\\''}, {'a8ddb6294c3f4b9123471e92b3947b20': 'EXCEPTION IN (wsi_to_patches.py, LINE 70 \"df_row.gleason_score, y, x]\"): [Errno 2] No such file or directory: \\'/mnt/HDDData/pdata/train_label_masks/a8ddb6294c3f4b9123471e92b3947b20_mask.tiff\\''}, {'aad60997596c9d820acb6cb4b39a32ca': 'EXCEPTION IN (wsi_to_patches.py, LINE 70 \"df_row.gleason_score, y, x]\"): [Errno 2] No such file or directory: \\'/mnt/HDDData/pdata/train_label_masks/aad60997596c9d820acb6cb4b39a32ca_mask.tiff\\''}, {'ac9f59ca466750dbc43bae3ade2676a3': 'EXCEPTION IN (wsi_to_patches.py, LINE 70 \"df_row.gleason_score, y, x]\"): [Errno 2] No such file or directory: \\'/mnt/HDDData/pdata/train_label_masks/ac9f59ca466750dbc43bae3ade2676a3_mask.tiff\\''}, {'af964131a5f92d123d0fb1061e7aa24a': 'EXCEPTION IN (wsi_to_patches.py, LINE 70 \"df_row.gleason_score, y, x]\"): [Errno 2] No such file or directory: \\'/mnt/HDDData/pdata/train_label_masks/af964131a5f92d123d0fb1061e7aa24a_mask.tiff\\''}, {'af9a7c64f3218dcb1ed01cc10d3f7e50': 'EXCEPTION IN (wsi_to_patches.py, LINE 70 \"df_row.gleason_score, y, x]\"): [Errno 2] No such file or directory: \\'/mnt/HDDData/pdata/train_label_masks/af9a7c64f3218dcb1ed01cc10d3f7e50_mask.tiff\\''}, {'b28cbb288d6f8bb2f45895287a621f43': 'EXCEPTION IN (wsi_to_patches.py, LINE 70 \"df_row.gleason_score, y, x]\"): [Errno 2] No such file or directory: \\'/mnt/HDDData/pdata/train_label_masks/b28cbb288d6f8bb2f45895287a621f43_mask.tiff\\''}, {'b5d27a874ddb2c49f7a77e70b97e0021': 'EXCEPTION IN (wsi_to_patches.py, LINE 70 \"df_row.gleason_score, y, x]\"): [Errno 2] No such file or directory: \\'/mnt/HDDData/pdata/train_label_masks/b5d27a874ddb2c49f7a77e70b97e0021_mask.tiff\\''}, {'b5db121ca6ba4d979a6bef814d5fdb17': 'EXCEPTION IN (wsi_to_patches.py, LINE 70 \"df_row.gleason_score, y, x]\"): [Errno 2] No such file or directory: \\'/mnt/HDDData/pdata/train_label_masks/b5db121ca6ba4d979a6bef814d5fdb17_mask.tiff\\''}, {'b6808a211b62298e06b0ac7f30f29882': 'EXCEPTION IN (wsi_to_patches.py, LINE 70 \"df_row.gleason_score, y, x]\"): [Errno 2] No such file or directory: \\'/mnt/HDDData/pdata/train_label_masks/b6808a211b62298e06b0ac7f30f29882_mask.tiff\\''}, {'b768b6c84849f2ba435eae0f5be52c76': 'EXCEPTION IN (wsi_to_patches.py, LINE 70 \"df_row.gleason_score, y, x]\"): [Errno 2] No such file or directory: \\'/mnt/HDDData/pdata/train_label_masks/b768b6c84849f2ba435eae0f5be52c76_mask.tiff\\''}, {'b94e363b5500bffeb841e2f5ddaad50b': 'EXCEPTION IN (wsi_to_patches.py, LINE 70 \"df_row.gleason_score, y, x]\"): [Errno 2] No such file or directory: \\'/mnt/HDDData/pdata/train_label_masks/b94e363b5500bffeb841e2f5ddaad50b_mask.tiff\\''}, {'b9df338c2d3db201e2bd938ddbd1c913': 'EXCEPTION IN (wsi_to_patches.py, LINE 70 \"df_row.gleason_score, y, x]\"): [Errno 2] No such file or directory: \\'/mnt/HDDData/pdata/train_label_masks/b9df338c2d3db201e2bd938ddbd1c913_mask.tiff\\''}, {'ba8bc951801ef17040b62f984c291d70': 'EXCEPTION IN (wsi_to_patches.py, LINE 70 \"df_row.gleason_score, y, x]\"): [Errno 2] No such file or directory: \\'/mnt/HDDData/pdata/train_label_masks/ba8bc951801ef17040b62f984c291d70_mask.tiff\\''}, {'bc6e1ebec08a9503689da9a095690dfe': 'EXCEPTION IN (wsi_to_patches.py, LINE 70 \"df_row.gleason_score, y, x]\"): [Errno 2] No such file or directory: \\'/mnt/HDDData/pdata/train_label_masks/bc6e1ebec08a9503689da9a095690dfe_mask.tiff\\''}, {'bd5aa0e284c6dc0b0b09513731f252a8': 'EXCEPTION IN (wsi_to_patches.py, LINE 70 \"df_row.gleason_score, y, x]\"): [Errno 2] No such file or directory: \\'/mnt/HDDData/pdata/train_label_masks/bd5aa0e284c6dc0b0b09513731f252a8_mask.tiff\\''}, {'bd68158ecb3eec132592d14fecc35cc0': 'EXCEPTION IN (wsi_to_patches.py, LINE 70 \"df_row.gleason_score, y, x]\"): [Errno 2] No such file or directory: \\'/mnt/HDDData/pdata/train_label_masks/bd68158ecb3eec132592d14fecc35cc0_mask.tiff\\''}, {'bd6f8389b1d1f39c832d30ab4df72816': 'EXCEPTION IN (wsi_to_patches.py, LINE 70 \"df_row.gleason_score, y, x]\"): [Errno 2] No such file or directory: \\'/mnt/HDDData/pdata/train_label_masks/bd6f8389b1d1f39c832d30ab4df72816_mask.tiff\\''}, {'c3ca4a75be0055aefe79f6849804d62c': 'EXCEPTION IN (wsi_to_patches.py, LINE 70 \"df_row.gleason_score, y, x]\"): [Errno 2] No such file or directory: \\'/mnt/HDDData/pdata/train_label_masks/c3ca4a75be0055aefe79f6849804d62c_mask.tiff\\''}, {'c40fab4c4c3658f40cc9a73c8602d8d0': 'EXCEPTION IN (wsi_to_patches.py, LINE 70 \"df_row.gleason_score, y, x]\"): [Errno 2] No such file or directory: \\'/mnt/HDDData/pdata/train_label_masks/c40fab4c4c3658f40cc9a73c8602d8d0_mask.tiff\\''}, {'c7664405d98a76f0b30a1c18b6ae270b': 'EXCEPTION IN (wsi_to_patches.py, LINE 70 \"df_row.gleason_score, y, x]\"): [Errno 2] No such file or directory: \\'/mnt/HDDData/pdata/train_label_masks/c7664405d98a76f0b30a1c18b6ae270b_mask.tiff\\''}, {'cde2247ec66faa1d9ed7cb325d14bcd4': 'EXCEPTION IN (wsi_to_patches.py, LINE 70 \"df_row.gleason_score, y, x]\"): [Errno 2] No such file or directory: \\'/mnt/HDDData/pdata/train_label_masks/cde2247ec66faa1d9ed7cb325d14bcd4_mask.tiff\\''}, {'ce703fe24b485beaf1668ffc3ec6c858': 'EXCEPTION IN (wsi_to_patches.py, LINE 70 \"df_row.gleason_score, y, x]\"): [Errno 2] No such file or directory: \\'/mnt/HDDData/pdata/train_label_masks/ce703fe24b485beaf1668ffc3ec6c858_mask.tiff\\''}, {'d0115a12026bc4b8a10ad05fe4992ded': 'EXCEPTION IN (wsi_to_patches.py, LINE 70 \"df_row.gleason_score, y, x]\"): [Errno 2] No such file or directory: \\'/mnt/HDDData/pdata/train_label_masks/d0115a12026bc4b8a10ad05fe4992ded_mask.tiff\\''}, {'d66e101c469f93f92262aa671d10feec': 'EXCEPTION IN (wsi_to_patches.py, LINE 70 \"df_row.gleason_score, y, x]\"): [Errno 2] No such file or directory: \\'/mnt/HDDData/pdata/train_label_masks/d66e101c469f93f92262aa671d10feec_mask.tiff\\''}, {'d756b18ac015e7d53b31b5c8b50acabe': 'EXCEPTION IN (wsi_to_patches.py, LINE 70 \"df_row.gleason_score, y, x]\"): [Errno 2] No such file or directory: \\'/mnt/HDDData/pdata/train_label_masks/d756b18ac015e7d53b31b5c8b50acabe_mask.tiff\\''}, {'d8dab9eef691dc2a83874a3560fbaddb': 'EXCEPTION IN (wsi_to_patches.py, LINE 70 \"df_row.gleason_score, y, x]\"): [Errno 2] No such file or directory: \\'/mnt/HDDData/pdata/train_label_masks/d8dab9eef691dc2a83874a3560fbaddb_mask.tiff\\''}, {'d8e6c24dadbb377b6934a21ba7ce02c4': 'EXCEPTION IN (wsi_to_patches.py, LINE 70 \"df_row.gleason_score, y, x]\"): [Errno 2] No such file or directory: \\'/mnt/HDDData/pdata/train_label_masks/d8e6c24dadbb377b6934a21ba7ce02c4_mask.tiff\\''}, {'da765c184811f60cbff3d669bb6bcc62': 'EXCEPTION IN (wsi_to_patches.py, LINE 70 \"df_row.gleason_score, y, x]\"): [Errno 2] No such file or directory: \\'/mnt/HDDData/pdata/train_label_masks/da765c184811f60cbff3d669bb6bcc62_mask.tiff\\''}, {'dc4034659aa2ae3585cdbe6febd3540b': 'EXCEPTION IN (wsi_to_patches.py, LINE 70 \"df_row.gleason_score, y, x]\"): [Errno 2] No such file or directory: \\'/mnt/HDDData/pdata/train_label_masks/dc4034659aa2ae3585cdbe6febd3540b_mask.tiff\\''}, {'e0f8b96960ada384a00e493545f783da': 'EXCEPTION IN (wsi_to_patches.py, LINE 70 \"df_row.gleason_score, y, x]\"): [Errno 2] No such file or directory: \\'/mnt/HDDData/pdata/train_label_masks/e0f8b96960ada384a00e493545f783da_mask.tiff\\''}, {'e4e48b9bb72df7391a12304ccddffc4e': 'EXCEPTION IN (wsi_to_patches.py, LINE 70 \"df_row.gleason_score, y, x]\"): [Errno 2] No such file or directory: \\'/mnt/HDDData/pdata/train_label_masks/e4e48b9bb72df7391a12304ccddffc4e_mask.tiff\\''}, {'e643797bc1d667d5b6a4f43ddd91c27b': 'EXCEPTION IN (wsi_to_patches.py, LINE 70 \"df_row.gleason_score, y, x]\"): [Errno 2] No such file or directory: \\'/mnt/HDDData/pdata/train_label_masks/e643797bc1d667d5b6a4f43ddd91c27b_mask.tiff\\''}, {'e6725d72152aee9323a8c8ba910828b5': 'EXCEPTION IN (wsi_to_patches.py, LINE 70 \"df_row.gleason_score, y, x]\"): [Errno 2] No such file or directory: \\'/mnt/HDDData/pdata/train_label_masks/e6725d72152aee9323a8c8ba910828b5_mask.tiff\\''}, {'eafd9197171d786210aa97a3bd9f74e6': 'EXCEPTION IN (wsi_to_patches.py, LINE 70 \"df_row.gleason_score, y, x]\"): [Errno 2] No such file or directory: \\'/mnt/HDDData/pdata/train_label_masks/eafd9197171d786210aa97a3bd9f74e6_mask.tiff\\''}, {'eb15d508d434c2fede99f7227d03fb4d': 'EXCEPTION IN (wsi_to_patches.py, LINE 70 \"df_row.gleason_score, y, x]\"): [Errno 2] No such file or directory: \\'/mnt/HDDData/pdata/train_label_masks/eb15d508d434c2fede99f7227d03fb4d_mask.tiff\\''}, {'ec1a371b933875ff0a2b65e315838294': 'EXCEPTION IN (wsi_to_patches.py, LINE 70 \"df_row.gleason_score, y, x]\"): [Errno 2] No such file or directory: \\'/mnt/HDDData/pdata/train_label_masks/ec1a371b933875ff0a2b65e315838294_mask.tiff\\''}, {'eec36dafc7b16caaadf5418529dc29cd': 'EXCEPTION IN (wsi_to_patches.py, LINE 70 \"df_row.gleason_score, y, x]\"): [Errno 2] No such file or directory: \\'/mnt/HDDData/pdata/train_label_masks/eec36dafc7b16caaadf5418529dc29cd_mask.tiff\\''}, {'ef370f7b011f0c0303a7ae14fe0c0770': 'EXCEPTION IN (wsi_to_patches.py, LINE 70 \"df_row.gleason_score, y, x]\"): [Errno 2] No such file or directory: \\'/mnt/HDDData/pdata/train_label_masks/ef370f7b011f0c0303a7ae14fe0c0770_mask.tiff\\''}, {'ef528624c588c2f9d04c79d400f1aacc': 'EXCEPTION IN (wsi_to_patches.py, LINE 70 \"df_row.gleason_score, y, x]\"): [Errno 2] No such file or directory: \\'/mnt/HDDData/pdata/train_label_masks/ef528624c588c2f9d04c79d400f1aacc_mask.tiff\\''}, {'f12da90682826a7b149fc550722e14c4': 'EXCEPTION IN (wsi_to_patches.py, LINE 70 \"df_row.gleason_score, y, x]\"): [Errno 2] No such file or directory: \\'/mnt/HDDData/pdata/train_label_masks/f12da90682826a7b149fc550722e14c4_mask.tiff\\''}, {'f948e5f2b0a49af2c0a7f3f74093262e': 'EXCEPTION IN (wsi_to_patches.py, LINE 71 \"\"): Unable to allocate array with shape (54784, 98304, 3) and data type uint8'}, {'f9b2162716bb1679a53424b0e6bc7f9b': 'EXCEPTION IN (wsi_to_patches.py, LINE 70 \"df_row.gleason_score, y, x]\"): [Errno 2] No such file or directory: \\'/mnt/HDDData/pdata/train_label_masks/f9b2162716bb1679a53424b0e6bc7f9b_mask.tiff\\''}, {'fc9f4ed1a24d73f80ded47ebdd145dd3': 'EXCEPTION IN (wsi_to_patches.py, LINE 70 \"df_row.gleason_score, y, x]\"): [Errno 2] No such file or directory: \\'/mnt/HDDData/pdata/train_label_masks/fc9f4ed1a24d73f80ded47ebdd145dd3_mask.tiff\\''}, {'fd03054e356d9e95da6ebba5d9c7fb07': 'EXCEPTION IN (wsi_to_patches.py, LINE 70 \"df_row.gleason_score, y, x]\"): [Errno 2] No such file or directory: \\'/mnt/HDDData/pdata/train_label_masks/fd03054e356d9e95da6ebba5d9c7fb07_mask.tiff\\''}]"
   ]
  },
  {
   "cell_type": "code",
   "execution_count": 2,
   "metadata": {
    "_last_msg_id": "433338aa5c9046698a579bc89ac4552f"
   },
   "outputs": [
    {
     "data": {
      "text/plain": [
       "102"
      ]
     },
     "execution_count": 2,
     "metadata": {},
     "output_type": "execute_result"
    }
   ],
   "source": [
    "len(err_list)"
   ]
  },
  {
   "cell_type": "code",
   "execution_count": 3,
   "metadata": {
    "_last_msg_id": "7568032241a949d7be1901c6f0c97278"
   },
   "outputs": [
    {
     "data": {
      "text/plain": [
       "{'040b2c98538ec7ead1cbd6daacdb3f64': 'EXCEPTION IN (wsi_to_patches.py, LINE 70 \"img = tifffile.imread(os.path.join(wsi_masks_path, f\"{img_id}_mask.tiff\"))\"): [Errno 2] No such file or directory: \\'/mnt/HDDData/pdata/train_label_masks/040b2c98538ec7ead1cbd6daacdb3f64_mask.tiff\\''}"
      ]
     },
     "execution_count": 3,
     "metadata": {},
     "output_type": "execute_result"
    }
   ],
   "source": [
    "err_list[0]"
   ]
  },
  {
   "cell_type": "code",
   "execution_count": null,
   "metadata": {
    "_last_msg_id": "c22ec55b88e84d27b95082a228bd4f3e"
   },
   "outputs": [],
   "source": [
    "for err_row in err_list:\n",
    "    image_id, err_str = next(iter(err_row.items()))\n",
    "    line = int(re.search(r'LINE[\\s]+([\\d]+)', err_str).group(1))\n",
    "    if line != 70:\n",
    "        print(image_id, err_str)"
   ]
  },
  {
   "cell_type": "code",
   "execution_count": 30,
   "metadata": {
    "_last_msg_id": "99fe2af5760943a085baa80e30387c39"
   },
   "outputs": [],
   "source": [
    "res = re.search(r'LINE[\\s]+([\\d]+)', err_str).group(1)"
   ]
  },
  {
   "cell_type": "code",
   "execution_count": 29,
   "metadata": {
    "_last_msg_id": "4d77e5ca24904091bae08c2a64037c7f"
   },
   "outputs": [
    {
     "data": {
      "text/plain": [
       "'70'"
      ]
     },
     "execution_count": 29,
     "metadata": {},
     "output_type": "execute_result"
    }
   ],
   "source": [
    "res.group(1)"
   ]
  },
  {
   "cell_type": "code",
   "execution_count": null,
   "metadata": {},
   "outputs": [],
   "source": []
  }
 ],
 "metadata": {
  "kernelspec": {
   "display_name": "Python 3",
   "language": "python",
   "name": "python3"
  },
  "language_info": {
   "codemirror_mode": {
    "name": "ipython",
    "version": 3
   },
   "file_extension": ".py",
   "mimetype": "text/x-python",
   "name": "python",
   "nbconvert_exporter": "python",
   "pygments_lexer": "ipython3",
   "version": "3.7.4"
  }
 },
 "nbformat": 4,
 "nbformat_minor": 2
}
