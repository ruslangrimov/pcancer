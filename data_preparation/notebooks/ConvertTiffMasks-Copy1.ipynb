{
 "cells": [
  {
   "cell_type": "code",
   "execution_count": 32,
   "metadata": {
    "_last_msg_id": "655d680100ed4b72b27fed9c34f6c0a3"
   },
   "outputs": [],
   "source": [
    "import os\n",
    "\n",
    "import numpy as np\n",
    "import pandas as pd\n",
    "\n",
    "from skimage.external import tifffile"
   ]
  },
  {
   "cell_type": "markdown",
   "metadata": {},
   "source": [
    "#### Radboud: Prostate glands are individually labelled. Valid values are:\n",
    "\n",
    "0: background (non tissue) or unknown\n",
    "\n",
    "1: stroma (connective tissue, non-epithelium tissue)\n",
    "\n",
    "2: healthy (benign) epithelium\n",
    "\n",
    "3: cancerous epithelium (Gleason 3)\n",
    "\n",
    "4: cancerous epithelium (Gleason 4)\n",
    "\n",
    "5: cancerous epithelium (Gleason 5)\n",
    "\n",
    "\n",
    "#### Karolinska: Regions are labelled. Valid values are:\n",
    "\n",
    "1: background (non tissue) or unknown\n",
    "\n",
    "2: benign tissue (stroma and epithelium combined)\n",
    "\n",
    "3: cancerous tissue (stroma and epithelium combined)\n"
   ]
  },
  {
   "cell_type": "code",
   "execution_count": 24,
   "metadata": {
    "_last_msg_id": "fc908996bc0141949c87333c264fbba6"
   },
   "outputs": [],
   "source": [
    "colors = {\n",
    "    'radboud': {0: '#ffffff',\n",
    "                1: '#0000ff',\n",
    "                2: '#008000',\n",
    "                3: '#400000',                \n",
    "                4: '#800000',                \n",
    "                5: '#ff0000'},\n",
    "    'karolinska': {0: '#ffffff',\n",
    "                   1: '#808080',\n",
    "                   2: '#ff0000'},\n",
    "}"
   ]
  },
  {
   "cell_type": "code",
   "execution_count": 17,
   "metadata": {
    "_last_msg_id": "5c0397d5c9c34ce2945ace96cd25f108"
   },
   "outputs": [],
   "source": [
    "wsi_csv_path = \"/mnt/HDDData/pdata/train.csv\""
   ]
  },
  {
   "cell_type": "code",
   "execution_count": 19,
   "metadata": {
    "_last_msg_id": "a466b84fe88e4800842798930428bbe9"
   },
   "outputs": [],
   "source": [
    "wsi_df = pd.read_csv(wsi_csv_path)"
   ]
  },
  {
   "cell_type": "code",
   "execution_count": 2,
   "metadata": {
    "_last_msg_id": "f585bde121fa45f4912bdd64c2e6d9fe"
   },
   "outputs": [],
   "source": [
    "fname = \"/mnt/HDDData/pdata/train_label_masks/0018ae58b01bdadc8e347995b69f99aa_mask.tiff\""
   ]
  },
  {
   "cell_type": "code",
   "execution_count": 15,
   "metadata": {
    "_last_msg_id": "43f7cdceb66b47b181ce7d163bf06a46"
   },
   "outputs": [],
   "source": [
    "image_id = fname.split('/')[-1].split('_')[0]"
   ]
  },
  {
   "cell_type": "code",
   "execution_count": 20,
   "metadata": {
    "_last_msg_id": "e636b0e7faaf4a358c13ed25ad1abc3a"
   },
   "outputs": [],
   "source": [
    "img_row = wsi_df[wsi_df['image_id'] == image_id].iloc[0] "
   ]
  },
  {
   "cell_type": "code",
   "execution_count": 30,
   "metadata": {
    "_last_msg_id": "7bddd9f9396240cfa3b36213cbb33938"
   },
   "outputs": [],
   "source": [
    "o_img = tifffile.imread(fname)[..., 0]"
   ]
  },
  {
   "cell_type": "code",
   "execution_count": 73,
   "metadata": {
    "_last_msg_id": "864f5377dd2a45658239f704285bca5c"
   },
   "outputs": [],
   "source": [
    "n_img = np.zeros(o_img.shape + (3,), dtype=np.uint8)"
   ]
  },
  {
   "cell_type": "code",
   "execution_count": 74,
   "metadata": {
    "_last_msg_id": "8a6985c457e445dc9941529991c8fa0a"
   },
   "outputs": [],
   "source": [
    "def hex2rgb(h):\n",
    "    h = h.lstrip('#')\n",
    "    return [int(h[i:i+2], 16) for i in (0, 2, 4)]\n",
    "\n",
    "for i in range(6):\n",
    "    k = o_img == i\n",
    "    if k.sum() > 0:\n",
    "        n_img[k] = hex2rgb(colors[img_row.data_provider][i])"
   ]
  },
  {
   "cell_type": "code",
   "execution_count": 75,
   "metadata": {
    "_last_msg_id": "9279d3655c254cb48dc31081f69f2a80"
   },
   "outputs": [
    {
     "data": {
      "text/plain": [
       "447676416"
      ]
     },
     "execution_count": 75,
     "metadata": {},
     "output_type": "execute_result"
    }
   ],
   "source": [
    "np.prod(n_img.shape)"
   ]
  },
  {
   "cell_type": "code",
   "execution_count": 81,
   "metadata": {
    "_last_msg_id": "b294c523848f4c8a827be311e4719830"
   },
   "outputs": [],
   "source": [
    "import cv2"
   ]
  },
  {
   "cell_type": "code",
   "execution_count": 82,
   "metadata": {
    "_last_msg_id": "236f360112c9498a9ddf68641592b5f5"
   },
   "outputs": [],
   "source": [
    "t_img = cv2.resize(n_img, None, fx=0.1, fy=0.1)"
   ]
  },
  {
   "cell_type": "code",
   "execution_count": 83,
   "metadata": {
    "_last_msg_id": "a0d5a6abc540429cbaa4e9bd3e5d51ac"
   },
   "outputs": [],
   "source": [
    "import matplotlib.pyplot as plt"
   ]
  },
  {
   "cell_type": "code",
   "execution_count": 85,
   "metadata": {
    "_last_msg_id": "20629d452d274029a58ba8cf47ce7712"
   },
   "outputs": [
    {
     "data": {
      "image/png": "[encoded data removed]",
      "text/plain": [
       "<Figure size 432x288 with 1 Axes>"
      ]
     },
     "metadata": {
      "needs_background": "light"
     },
     "output_type": "display_data"
    }
   ],
   "source": [
    "plt.imshow(t_img);"
   ]
  },
  {
   "cell_type": "code",
   "execution_count": null,
   "metadata": {},
   "outputs": [],
   "source": []
  },
  {
   "cell_type": "code",
   "execution_count": 96,
   "metadata": {
    "_last_msg_id": "7549082f21114ab4897c52b460ea7c3c"
   },
   "outputs": [],
   "source": [
    "# tifffile.imsave('/mnt/HDDData/pdata/tmp.tiff', t_img, compress='lzma', tile=(512, 512))\n",
    "# tifffile.imsave('/mnt/HDDData/pdata/tmp.tiff', t_img, compress=9)"
   ]
  },
  {
   "cell_type": "code",
   "execution_count": 110,
   "metadata": {
    "_last_msg_id": "3bf08f9c819f4fce8a9a14a81026f360"
   },
   "outputs": [
    {
     "data": {
      "text/plain": [
       "True"
      ]
     },
     "execution_count": 110,
     "metadata": {},
     "output_type": "execute_result"
    }
   ],
   "source": [
    "cv2.imwrite('/mnt/HDDData/pdata/tmp.tiff', cv2.cvtColor(n_img, cv2.COLOR_RGB2BGR))"
   ]
  },
  {
   "cell_type": "code",
   "execution_count": 109,
   "metadata": {
    "_last_msg_id": "6fa1dfeea8f94f48b47a96ffe04f4fc4",
    "scrolled": true
   },
   "outputs": [
    {
     "name": "stdout",
     "output_type": "stream",
     "text": [
      "TIFF Directory at offset 0x22d80 (142720)\r\n",
      "  Image Width: 589 Image Length: 2534\r\n",
      "  Bits/Sample: 8\r\n",
      "  Sample Format: unsigned integer\r\n",
      "  Compression Scheme: LZW\r\n",
      "  Photometric Interpretation: RGB color\r\n",
      "  Samples/Pixel: 3\r\n",
      "  Rows/Strip: 4\r\n",
      "  Planar Configuration: single image plane\r\n",
      "  Predictor: horizontal differencing 2 (0x2)\r\n"
     ]
    }
   ],
   "source": [
    "!tiffinfo '/mnt/HDDData/pdata/tmp.tiff'"
   ]
  },
  {
   "cell_type": "code",
   "execution_count": 104,
   "metadata": {
    "_last_msg_id": "69639c5a3d6c461d824e361cd17c79df"
   },
   "outputs": [],
   "source": [
    "t2_img = cv2.imread('/mnt/HDDData/pdata/tmp.tiff')\n",
    "t2_img = cv2.cvtColor(t2_img, cv2.COLOR_BGR2RGB)"
   ]
  },
  {
   "cell_type": "code",
   "execution_count": 106,
   "metadata": {
    "_last_msg_id": "b3ddb79cca9d4ab4a1081b37bd1ad252"
   },
   "outputs": [
    {
     "data": {
      "image/png": "[encoded data removed]",
      "text/plain": [
       "<Figure size 432x288 with 1 Axes>"
      ]
     },
     "metadata": {
      "needs_background": "light"
     },
     "output_type": "display_data"
    }
   ],
   "source": [
    "plt.imshow(t2_img);"
   ]
  },
  {
   "cell_type": "code",
   "execution_count": null,
   "metadata": {},
   "outputs": [],
   "source": []
  },
  {
   "cell_type": "code",
   "execution_count": null,
   "metadata": {},
   "outputs": [],
   "source": []
  },
  {
   "cell_type": "code",
   "execution_count": 51,
   "metadata": {
    "_last_msg_id": "238fe55aa6ed4a298e37cb20dd2fe885"
   },
   "outputs": [
    {
     "name": "stdout",
     "output_type": "stream",
     "text": [
      "TIFF Directory at offset 0x1d293c (1911100)\r\n",
      "  Image Width: 5888 Image Length: 25344\r\n",
      "  Tile Width: 512 Tile Length: 512\r\n",
      "  Resolution: 20833.4, 20833.4 pixels/cm\r\n",
      "  Bits/Sample: 8\r\n",
      "  Sample Format: unsigned integer\r\n",
      "  Compression Scheme: LZW\r\n",
      "  Photometric Interpretation: RGB color\r\n",
      "  Orientation: row 0 top, col 0 lhs\r\n",
      "  Samples/Pixel: 3\r\n",
      "  SMin Sample Value: 0\r\n",
      "  SMax Sample Value: 4\r\n",
      "  Planar Configuration: single image plane\r\n",
      "TIFF Directory at offset 0x20a4c8 (2139336)\r\n",
      "  Subfile Type: reduced-resolution image (1 = 0x1)\r\n",
      "  Image Width: 1472 Image Length: 6336\r\n",
      "  Tile Width: 512 Tile Length: 512\r\n",
      "  Resolution: 5208.34, 5208.34 pixels/cm\r\n",
      "  Bits/Sample: 8\r\n",
      "  Sample Format: unsigned integer\r\n",
      "  Compression Scheme: LZW\r\n",
      "  Photometric Interpretation: RGB color\r\n",
      "  Orientation: row 0 top, col 0 lhs\r\n",
      "  Samples/Pixel: 3\r\n",
      "  Planar Configuration: single image plane\r\n",
      "TIFF Directory at offset 0x211738 (2168632)\r\n",
      "  Subfile Type: reduced-resolution image (1 = 0x1)\r\n",
      "  Image Width: 368 Image Length: 1584\r\n",
      "  Tile Width: 512 Tile Length: 512\r\n",
      "  Resolution: 1302.08, 1302.08 pixels/cm\r\n",
      "  Bits/Sample: 8\r\n",
      "  Sample Format: unsigned integer\r\n",
      "  Compression Scheme: LZW\r\n",
      "  Photometric Interpretation: RGB color\r\n",
      "  Orientation: row 0 top, col 0 lhs\r\n",
      "  Samples/Pixel: 3\r\n",
      "  Planar Configuration: single image plane\r\n"
     ]
    }
   ],
   "source": [
    "!tiffinfo {fname}"
   ]
  },
  {
   "cell_type": "code",
   "execution_count": null,
   "metadata": {},
   "outputs": [],
   "source": []
  }
 ],
 "metadata": {
  "kernelspec": {
   "display_name": "Python 3",
   "language": "python",
   "name": "python3"
  },
  "language_info": {
   "codemirror_mode": {
    "name": "ipython",
    "version": 3
   },
   "file_extension": ".py",
   "mimetype": "text/x-python",
   "name": "python",
   "nbconvert_exporter": "python",
   "pygments_lexer": "ipython3",
   "version": "3.7.4"
  }
 },
 "nbformat": 4,
 "nbformat_minor": 2
}
