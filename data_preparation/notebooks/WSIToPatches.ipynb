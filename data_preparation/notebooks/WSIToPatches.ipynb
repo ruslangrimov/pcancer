{
 "cells": [
  {
   "cell_type": "code",
   "execution_count": 4,
   "metadata": {
    "_last_msg_id": "bdffc71d2ac2421780c22b378067b6bb"
   },
   "outputs": [],
   "source": [
    "import sys\n",
    "sys.path.append('../../')"
   ]
  },
  {
   "cell_type": "code",
   "execution_count": 6,
   "metadata": {
    "_last_msg_id": "c5bb034f1c4146e3b88691a13fbee74d"
   },
   "outputs": [],
   "source": [
    "%matplotlib inline\n",
    "\n",
    "import os\n",
    "\n",
    "import logging\n",
    "\n",
    "from skimage.io import imread, imsave\n",
    "import numpy as np\n",
    "import pandas as pd\n",
    "\n",
    "import shutil\n",
    "import warnings\n",
    "import tempfile\n",
    "import subprocess\n",
    "import linecache\n",
    "\n",
    "from multiprocessing import Pool\n",
    "\n",
    "import matplotlib.pyplot as plt\n",
    "\n",
    "import cv2\n",
    "\n",
    "from tqdm.auto import tqdm\n",
    "\n",
    "import tifffile\n",
    "\n",
    "from lib.utils import init_script, array2patches"
   ]
  },
  {
   "cell_type": "code",
   "execution_count": 24,
   "metadata": {
    "_last_msg_id": "3350db8ec8b846e4a18464085150abd6"
   },
   "outputs": [],
   "source": [
    "TIFFTILES2JPG_BIN = '../../../tiff/tifftiles2jpg/tifftiles2jpg'"
   ]
  },
  {
   "cell_type": "code",
   "execution_count": 8,
   "metadata": {
    "_last_msg_id": "88a4a28a634e454581a6252722356a53"
   },
   "outputs": [],
   "source": [
    "wsi_path = \"/mnt/HDDData/pdata/train_images/\"\n",
    "wsi_masks_path = \"/mnt/HDDData/pdata/train_label_masks/\"\n",
    "wsi_csv_path = \"/mnt/HDDData/pdata/train.csv\"\n",
    "patches_path = \"/mnt/HDDData/pdata/processed/patches_512/\"\n",
    "patches_csv_path = \"/mnt/HDDData/pdata/processed/patches_512.csv\"\n",
    "\n",
    "patch_sz = 512\n",
    "\n",
    "threads = 4"
   ]
  },
  {
   "cell_type": "code",
   "execution_count": 9,
   "metadata": {
    "_last_msg_id": "11bf567bc15a40bf85a4867759c42324"
   },
   "outputs": [],
   "source": [
    "for d in [\"imgs\", \"masks\"]:\n",
    "    os.makedirs(os.path.join(patches_path, d), exist_ok=True)"
   ]
  },
  {
   "cell_type": "code",
   "execution_count": 10,
   "metadata": {
    "_last_msg_id": "327427680a774e5b8f6c595d1c49f75b"
   },
   "outputs": [],
   "source": [
    "wsi_df = pd.read_csv(wsi_csv_path)"
   ]
  },
  {
   "cell_type": "code",
   "execution_count": 11,
   "metadata": {
    "_last_msg_id": "1972a6f5231746ba87e22e931a5fc87b"
   },
   "outputs": [
    {
     "data": {
      "text/html": [
       "<div>\n",
       "<style scoped>\n",
       "    .dataframe tbody tr th:only-of-type {\n",
       "        vertical-align: middle;\n",
       "    }\n",
       "\n",
       "    .dataframe tbody tr th {\n",
       "        vertical-align: top;\n",
       "    }\n",
       "\n",
       "    .dataframe thead th {\n",
       "        text-align: right;\n",
       "    }\n",
       "</style>\n",
       "<table border=\"1\" class=\"dataframe\">\n",
       "  <thead>\n",
       "    <tr style=\"text-align: right;\">\n",
       "      <th></th>\n",
       "      <th>image_id</th>\n",
       "      <th>data_provider</th>\n",
       "      <th>isup_grade</th>\n",
       "      <th>gleason_score</th>\n",
       "    </tr>\n",
       "  </thead>\n",
       "  <tbody>\n",
       "    <tr>\n",
       "      <td>0</td>\n",
       "      <td>0005f7aaab2800f6170c399693a96917</td>\n",
       "      <td>karolinska</td>\n",
       "      <td>0</td>\n",
       "      <td>0+0</td>\n",
       "    </tr>\n",
       "    <tr>\n",
       "      <td>1</td>\n",
       "      <td>000920ad0b612851f8e01bcc880d9b3d</td>\n",
       "      <td>karolinska</td>\n",
       "      <td>0</td>\n",
       "      <td>0+0</td>\n",
       "    </tr>\n",
       "    <tr>\n",
       "      <td>2</td>\n",
       "      <td>0018ae58b01bdadc8e347995b69f99aa</td>\n",
       "      <td>radboud</td>\n",
       "      <td>4</td>\n",
       "      <td>4+4</td>\n",
       "    </tr>\n",
       "    <tr>\n",
       "      <td>3</td>\n",
       "      <td>001c62abd11fa4b57bf7a6c603a11bb9</td>\n",
       "      <td>karolinska</td>\n",
       "      <td>4</td>\n",
       "      <td>4+4</td>\n",
       "    </tr>\n",
       "    <tr>\n",
       "      <td>4</td>\n",
       "      <td>001d865e65ef5d2579c190a0e0350d8f</td>\n",
       "      <td>karolinska</td>\n",
       "      <td>0</td>\n",
       "      <td>0+0</td>\n",
       "    </tr>\n",
       "    <tr>\n",
       "      <td>...</td>\n",
       "      <td>...</td>\n",
       "      <td>...</td>\n",
       "      <td>...</td>\n",
       "      <td>...</td>\n",
       "    </tr>\n",
       "    <tr>\n",
       "      <td>10611</td>\n",
       "      <td>ffd2841373b39792ab0c84cccd066e31</td>\n",
       "      <td>radboud</td>\n",
       "      <td>0</td>\n",
       "      <td>negative</td>\n",
       "    </tr>\n",
       "    <tr>\n",
       "      <td>10612</td>\n",
       "      <td>ffdc59cd580a1468eac0e6a32dd1ff2d</td>\n",
       "      <td>radboud</td>\n",
       "      <td>5</td>\n",
       "      <td>4+5</td>\n",
       "    </tr>\n",
       "    <tr>\n",
       "      <td>10613</td>\n",
       "      <td>ffe06afd66a93258f8fabdef6044e181</td>\n",
       "      <td>radboud</td>\n",
       "      <td>0</td>\n",
       "      <td>negative</td>\n",
       "    </tr>\n",
       "    <tr>\n",
       "      <td>10614</td>\n",
       "      <td>ffe236a25d4cbed59438220799920749</td>\n",
       "      <td>radboud</td>\n",
       "      <td>2</td>\n",
       "      <td>3+4</td>\n",
       "    </tr>\n",
       "    <tr>\n",
       "      <td>10615</td>\n",
       "      <td>ffe9bcababc858e04840669e788065a1</td>\n",
       "      <td>radboud</td>\n",
       "      <td>4</td>\n",
       "      <td>4+4</td>\n",
       "    </tr>\n",
       "  </tbody>\n",
       "</table>\n",
       "<p>10616 rows × 4 columns</p>\n",
       "</div>"
      ],
      "text/plain": [
       "                               image_id data_provider  isup_grade  \\\n",
       "0      0005f7aaab2800f6170c399693a96917    karolinska           0   \n",
       "1      000920ad0b612851f8e01bcc880d9b3d    karolinska           0   \n",
       "2      0018ae58b01bdadc8e347995b69f99aa       radboud           4   \n",
       "3      001c62abd11fa4b57bf7a6c603a11bb9    karolinska           4   \n",
       "4      001d865e65ef5d2579c190a0e0350d8f    karolinska           0   \n",
       "...                                 ...           ...         ...   \n",
       "10611  ffd2841373b39792ab0c84cccd066e31       radboud           0   \n",
       "10612  ffdc59cd580a1468eac0e6a32dd1ff2d       radboud           5   \n",
       "10613  ffe06afd66a93258f8fabdef6044e181       radboud           0   \n",
       "10614  ffe236a25d4cbed59438220799920749       radboud           2   \n",
       "10615  ffe9bcababc858e04840669e788065a1       radboud           4   \n",
       "\n",
       "      gleason_score  \n",
       "0               0+0  \n",
       "1               0+0  \n",
       "2               4+4  \n",
       "3               4+4  \n",
       "4               0+0  \n",
       "...             ...  \n",
       "10611      negative  \n",
       "10612           4+5  \n",
       "10613      negative  \n",
       "10614           3+4  \n",
       "10615           4+4  \n",
       "\n",
       "[10616 rows x 4 columns]"
      ]
     },
     "execution_count": 11,
     "metadata": {},
     "output_type": "execute_result"
    }
   ],
   "source": [
    "wsi_df"
   ]
  },
  {
   "cell_type": "code",
   "execution_count": 12,
   "metadata": {
    "_last_msg_id": "48dcf3ebf6fa475a893d36005e4ba327"
   },
   "outputs": [
    {
     "data": {
      "text/plain": [
       "array([0, 4, 1, 3, 5, 2])"
      ]
     },
     "execution_count": 12,
     "metadata": {},
     "output_type": "execute_result"
    }
   ],
   "source": [
    "wsi_df['isup_grade'].unique()"
   ]
  },
  {
   "cell_type": "code",
   "execution_count": 13,
   "metadata": {
    "_last_msg_id": "e654f0ba992944f485848a9bdd7ca67b"
   },
   "outputs": [],
   "source": [
    "have_masks = True"
   ]
  },
  {
   "cell_type": "code",
   "execution_count": 25,
   "metadata": {
    "_last_msg_id": "7f5edadfda0c4d8ebe47f6e4bd9ddce9"
   },
   "outputs": [],
   "source": [
    "def process_wsi(df_row):\n",
    "    def get_exception():\n",
    "        exc_type, exc_obj, tb = sys.exc_info()\n",
    "        f = tb.tb_frame\n",
    "        lineno = tb.tb_lineno\n",
    "        filename = f.f_code.co_filename\n",
    "        linecache.checkcache(filename)\n",
    "        line = linecache.getline(filename, lineno, f.f_globals)\n",
    "        return 'EXCEPTION IN ({}, LINE {} \"{}\"): {}'.format(filename, lineno, line.strip(), exc_obj)   \n",
    "    \n",
    "    rows = []\n",
    "    \n",
    "    try:\n",
    "        img_id = df_row.image_id\n",
    "        print(img_id)\n",
    "        \n",
    "        with tempfile.TemporaryDirectory() as tmp_path:\n",
    "            result = subprocess.run([TIFFTILES2JPG_BIN, \n",
    "                                     os.path.join(wsi_path, f\"{img_id}.tiff\"), \n",
    "                                     '0', tmp_path], \n",
    "                                     stdout=subprocess.PIPE)\n",
    "\n",
    "            if result.returncode != 0:\n",
    "                raise Exception(f\"TIFFTILES2JPG error. Return code: {result.returncode}. \\n\" + \n",
    "                                result.stdout.decode(\"utf-8\"))\n",
    "\n",
    "            if have_masks:\n",
    "                img = tifffile.imread(os.path.join(wsi_masks_path, f\"{img_id}_mask.tiff\"))\n",
    "                mask_patches = array2patches(img, patch_sz)\n",
    "\n",
    "            for y in range(mask_patches.shape[0]):\n",
    "                for x in range(mask_patches.shape[1]):\n",
    "                    t_patch_path = os.path.join(tmp_path, f\"{y}_{x}.jpeg\")\n",
    "                    patch = imread(t_patch_path)\n",
    "                    mask_patch = mask_patches[y, x, ..., 0]\n",
    "\n",
    "                    if patch.mean() != 255:\n",
    "                        row = [img_id, df_row.data_provider, df_row.isup_grade, \n",
    "                               df_row.gleason_score, y, x]\n",
    "\n",
    "                        mask_sz = np.prod(mask_patch.shape)\n",
    "\n",
    "                        row += [(mask_patch == i).sum() / mask_sz for i in range(6)]\n",
    "\n",
    "                        with warnings.catch_warnings():\n",
    "                            warnings.filterwarnings(\"ignore\", message=\".*low contrast image.*\")\n",
    "                            shutil.copyfile(t_patch_path, os.path.join(patches_path, \n",
    "                                                                       f\"imgs/{img_id}_{y}_{x}.jpeg\"))\n",
    "                            imsave(os.path.join(patches_path, \n",
    "                                                f\"masks/{img_id}_{y}_{x}.png\"), mask_patch)\n",
    "                        rows.append(row)\n",
    "                \n",
    "        err = None\n",
    "                \n",
    "    except:\n",
    "        err = get_exception()\n",
    "    \n",
    "    return rows, err"
   ]
  },
  {
   "cell_type": "code",
   "execution_count": 33,
   "metadata": {
    "_last_msg_id": "71ed062f1e844e9cb729d93c9a85a504"
   },
   "outputs": [],
   "source": [
    "patches_rows = []"
   ]
  },
  {
   "cell_type": "code",
   "execution_count": 36,
   "metadata": {
    "_last_msg_id": "d03f8cfef1654c429af68abff5adb385"
   },
   "outputs": [],
   "source": [
    "# Те что не были обработаны скриптом из-за нехватки памяти\n",
    "# df_row = wsi_df[wsi_df['image_id'] == 'a1b7055a495ac4a160336b66acc62b4b'].iloc[0]\n",
    "#df_row = wsi_df[wsi_df['image_id'] == 'f948e5f2b0a49af2c0a7f3f74093262e'].iloc[0]"
   ]
  },
  {
   "cell_type": "code",
   "execution_count": 37,
   "metadata": {
    "_last_msg_id": "e6a9ee361a0e480683728b64469f3247"
   },
   "outputs": [
    {
     "data": {
      "text/plain": [
       "image_id         f948e5f2b0a49af2c0a7f3f74093262e\n",
       "data_provider                          karolinska\n",
       "isup_grade                                      1\n",
       "gleason_score                                 3+3\n",
       "Name: 10315, dtype: object"
      ]
     },
     "execution_count": 37,
     "metadata": {},
     "output_type": "execute_result"
    }
   ],
   "source": [
    "df_row"
   ]
  },
  {
   "cell_type": "code",
   "execution_count": 38,
   "metadata": {
    "_last_msg_id": "244077b9dfaf4da18d953453739d6e11"
   },
   "outputs": [
    {
     "name": "stdout",
     "output_type": "stream",
     "text": [
      "f948e5f2b0a49af2c0a7f3f74093262e\n"
     ]
    }
   ],
   "source": [
    "res = process_wsi(df_row)"
   ]
  },
  {
   "cell_type": "code",
   "execution_count": 39,
   "metadata": {
    "_last_msg_id": "34d96deea98e4ddc8a25175a17f93a6d"
   },
   "outputs": [],
   "source": [
    "rows, err = res"
   ]
  },
  {
   "cell_type": "code",
   "execution_count": 40,
   "metadata": {
    "_last_msg_id": "d96cd6282ad649649f3b1a68df28a7dd"
   },
   "outputs": [
    {
     "data": {
      "text/plain": [
       "499"
      ]
     },
     "execution_count": 40,
     "metadata": {},
     "output_type": "execute_result"
    }
   ],
   "source": [
    "len(rows)"
   ]
  },
  {
   "cell_type": "code",
   "execution_count": 41,
   "metadata": {
    "_last_msg_id": "578305eebc2d4b0b946804e8a2526647",
    "scrolled": true
   },
   "outputs": [],
   "source": [
    "err"
   ]
  },
  {
   "cell_type": "code",
   "execution_count": 42,
   "metadata": {
    "_last_msg_id": "33863cd4a58043fe86c6a923094fb7d9"
   },
   "outputs": [],
   "source": [
    "patches_rows.extend(rows)"
   ]
  },
  {
   "cell_type": "code",
   "execution_count": 43,
   "metadata": {
    "_last_msg_id": "3f4241093b7b42fbbe8736bd1b879bfd"
   },
   "outputs": [
    {
     "data": {
      "text/plain": [
       "684"
      ]
     },
     "execution_count": 43,
     "metadata": {},
     "output_type": "execute_result"
    }
   ],
   "source": [
    "len(patches_rows)"
   ]
  },
  {
   "cell_type": "code",
   "execution_count": 47,
   "metadata": {
    "_last_msg_id": "9b86c92e2faa47fb8363295a8f11406b"
   },
   "outputs": [],
   "source": [
    "patches_csv_path = \"/mnt/SSDData/pdata/processed/patches_512.csv\""
   ]
  },
  {
   "cell_type": "code",
   "execution_count": 48,
   "metadata": {
    "_last_msg_id": "65ab9455799e462d8cdc1b7bfed28fe6"
   },
   "outputs": [],
   "source": [
    "!cp {patches_csv_path} '/mnt/SSDData/pdata/processed/patches_512_copy.csv'"
   ]
  },
  {
   "cell_type": "code",
   "execution_count": 49,
   "metadata": {
    "_last_msg_id": "35e79620dc9844458c9fe8a1c4fbef59"
   },
   "outputs": [],
   "source": [
    "patches_df0 = pd.read_csv(patches_csv_path)"
   ]
  },
  {
   "cell_type": "code",
   "execution_count": 50,
   "metadata": {
    "_last_msg_id": "541d017d4a4c4bff8fcd43b62a436d1e"
   },
   "outputs": [],
   "source": [
    "patches_df1 = pd.DataFrame(patches_rows,\n",
    "                          columns=['image_id', 'data_provider',\n",
    "                                   'isup_grade', 'gleason_score',\n",
    "                                   'y', 'x'] + [f\"label{i}\"\n",
    "                                                for i in range(6)])\n",
    "\n",
    "# patches_df.to_csv(patches_csv_path, index=False)"
   ]
  },
  {
   "cell_type": "code",
   "execution_count": 51,
   "metadata": {
    "_last_msg_id": "a794c7fecd7e445f868d741890752af7"
   },
   "outputs": [],
   "source": [
    "patches_df = pd.concat([patches_df0, patches_df1])"
   ]
  },
  {
   "cell_type": "code",
   "execution_count": 53,
   "metadata": {
    "_last_msg_id": "b87162a07d684db486e1c5fe0a099487"
   },
   "outputs": [
    {
     "data": {
      "text/plain": [
       "(2576045, 12)"
      ]
     },
     "execution_count": 53,
     "metadata": {},
     "output_type": "execute_result"
    }
   ],
   "source": [
    "patches_df0.shape"
   ]
  },
  {
   "cell_type": "code",
   "execution_count": 52,
   "metadata": {
    "_last_msg_id": "f800acc304d84e488fd344e751ab5f29"
   },
   "outputs": [
    {
     "data": {
      "text/plain": [
       "(2576729, 12)"
      ]
     },
     "execution_count": 52,
     "metadata": {},
     "output_type": "execute_result"
    }
   ],
   "source": [
    "patches_df.shape"
   ]
  },
  {
   "cell_type": "code",
   "execution_count": null,
   "metadata": {
    "_last_msg_id": "9cef39fc05214e5facda5ce231af81d1"
   },
   "outputs": [],
   "source": [
    "patches_df.to_csv(patches_csv_path, index=False)"
   ]
  },
  {
   "cell_type": "code",
   "execution_count": 24,
   "metadata": {
    "_last_msg_id": "c892c85a8fa543408d7e1c47c0eeee36"
   },
   "outputs": [],
   "source": [
    "patches_rows = []\n",
    "error_wsis = []"
   ]
  },
  {
   "cell_type": "code",
   "execution_count": 25,
   "metadata": {
    "_last_msg_id": "c7963e8119984e728fd22722ae45c9d4"
   },
   "outputs": [],
   "source": [
    "tmp_df = wsi_df.iloc[:10]"
   ]
  },
  {
   "cell_type": "code",
   "execution_count": 26,
   "metadata": {
    "_last_msg_id": "f1766e530b4b4aeaa5df83112d22a6f3"
   },
   "outputs": [
    {
     "name": "stdout",
     "output_type": "stream",
     "text": [
      "000920ad0b612851f8e01bcc880d9b3d\n",
      "0005f7aaab2800f6170c399693a96917\n",
      "001c62abd11fa4b57bf7a6c603a11bb9\n"
     ]
    },
    {
     "data": {
      "application/vnd.jupyter.widget-view+json": {
       "model_id": "6dfa698b00be4d64a21df00160bb5297",
       "version_major": 2,
       "version_minor": 0
      },
      "text/plain": [
       "HBox(children=(FloatProgress(value=0.0, max=10.0), HTML(value='')))"
      ]
     },
     "metadata": {},
     "output_type": "display_data"
    },
    {
     "name": "stdout",
     "output_type": "stream",
     "text": [
      "0018ae58b01bdadc8e347995b69f99aa\n",
      "001d865e65ef5d2579c190a0e0350d8f\n",
      "002a4db09dad406c85505a00fb6f6144\n",
      "003046e27c8ead3e3db155780dc5498e\n",
      "0032bfa835ce0f43a92ae0bbab6871cb\n",
      "003a91841da04a5a31f808fb5c21538a\n",
      "003d4dd6bd61221ebc0bfb9350db333f\n",
      "\n"
     ]
    }
   ],
   "source": [
    "l_rows = []\n",
    "\n",
    "with Pool(processes=threads) as pool:\n",
    "    for rows, err in tqdm(pool.imap_unordered(process_wsi, \n",
    "                                              (r[1] for r in tmp_df.iterrows())), \n",
    "                          total=len(tmp_df)):\n",
    "        if err:\n",
    "            error_wsis.append({img_id: err})\n",
    "        else:\n",
    "            patches_rows.extend(rows)"
   ]
  },
  {
   "cell_type": "code",
   "execution_count": 27,
   "metadata": {
    "_last_msg_id": "e91b41c874124f039082a333a416cd63"
   },
   "outputs": [
    {
     "data": {
      "text/plain": [
       "[]"
      ]
     },
     "execution_count": 27,
     "metadata": {},
     "output_type": "execute_result"
    }
   ],
   "source": [
    "error_wsis"
   ]
  },
  {
   "cell_type": "code",
   "execution_count": 28,
   "metadata": {
    "_last_msg_id": "6417a0e243914f88888551c0b2379d68"
   },
   "outputs": [],
   "source": [
    "if len(error_wsis) > 0:\n",
    "    logging.error(\"Slides processed with errors %s\", str(error_wsis))"
   ]
  },
  {
   "cell_type": "code",
   "execution_count": null,
   "metadata": {
    "_last_msg_id": "2e9cf1f5511e484d8a8f9e5009411167"
   },
   "outputs": [],
   "source": [
    "len(patches_rows)"
   ]
  },
  {
   "cell_type": "code",
   "execution_count": 29,
   "metadata": {
    "_last_msg_id": "6efc3df8aa544be684d2a5fb527ac8d6"
   },
   "outputs": [],
   "source": [
    "patches_df = pd.DataFrame(patches_rows, \n",
    "                          columns=['image_id', 'data_provider', \n",
    "                                   'isup_grade', 'gleason_score', \n",
    "                                   'y', 'x'] + [f\"label{i}\" for i in range(6)])"
   ]
  },
  {
   "cell_type": "code",
   "execution_count": 30,
   "metadata": {
    "_last_msg_id": "32f60b068782471f8309eda9e3acdde4"
   },
   "outputs": [],
   "source": [
    "patches_df.to_csv(patches_csv_path, index=False)"
   ]
  },
  {
   "cell_type": "code",
   "execution_count": null,
   "metadata": {},
   "outputs": [],
   "source": []
  },
  {
   "cell_type": "code",
   "execution_count": null,
   "metadata": {},
   "outputs": [],
   "source": []
  },
  {
   "cell_type": "code",
   "execution_count": 215,
   "metadata": {
    "_last_msg_id": "71a2395bddab4fd18bcec12dfb1aa399"
   },
   "outputs": [
    {
     "name": "stdout",
     "output_type": "stream",
     "text": [
      "EXCEPTION IN (<ipython-input-215-7f2a340f6b82>, LINE 15 \"print(1/0)\"): division by zero\n"
     ]
    }
   ],
   "source": [
    "import linecache\n",
    "import sys\n",
    "\n",
    "def PrintException():\n",
    "    exc_type, exc_obj, tb = sys.exc_info()\n",
    "    f = tb.tb_frame\n",
    "    lineno = tb.tb_lineno\n",
    "    filename = f.f_code.co_filename\n",
    "    linecache.checkcache(filename)\n",
    "    line = linecache.getline(filename, lineno, f.f_globals)\n",
    "    print('EXCEPTION IN ({}, LINE {} \"{}\"): {}'.format(filename, lineno, line.strip(), exc_obj))\n",
    "\n",
    "\n",
    "try:\n",
    "    print(1/0)\n",
    "except:\n",
    "    PrintException()"
   ]
  },
  {
   "cell_type": "code",
   "execution_count": null,
   "metadata": {},
   "outputs": [],
   "source": []
  },
  {
   "cell_type": "code",
   "execution_count": null,
   "metadata": {},
   "outputs": [],
   "source": []
  },
  {
   "cell_type": "code",
   "execution_count": 70,
   "metadata": {
    "_last_msg_id": "26b811c898db4b4b9a3d7202d250a68d"
   },
   "outputs": [
    {
     "data": {
      "text/plain": [
       "image_id         9bc70f1bfc8dbca7c881616b0198edcb\n",
       "data_provider                             radboud\n",
       "isup_grade                                      4\n",
       "gleason_score                                 4+4\n",
       "Name: 6363, dtype: object"
      ]
     },
     "execution_count": 70,
     "metadata": {},
     "output_type": "execute_result"
    }
   ],
   "source": [
    "df_row"
   ]
  },
  {
   "cell_type": "code",
   "execution_count": 113,
   "metadata": {
    "_last_msg_id": "ac471229b512451c8d4196030907f214"
   },
   "outputs": [
    {
     "data": {
      "text/plain": [
       "'9bc70f1bfc8dbca7c881616b0198edcb.tiff'"
      ]
     },
     "execution_count": 113,
     "metadata": {},
     "output_type": "execute_result"
    }
   ],
   "source": [
    "fname"
   ]
  },
  {
   "cell_type": "code",
   "execution_count": null,
   "metadata": {},
   "outputs": [],
   "source": []
  },
  {
   "cell_type": "code",
   "execution_count": null,
   "metadata": {},
   "outputs": [],
   "source": []
  },
  {
   "cell_type": "code",
   "execution_count": 126,
   "metadata": {
    "_last_msg_id": "07e272f84ee2402b83ee50dce7294684"
   },
   "outputs": [
    {
     "data": {
      "text/plain": [
       "'/mnt/HDDData/pdata/train_images/9bc70f1bfc8dbca7c881616b0198edcb.tiff'"
      ]
     },
     "execution_count": 126,
     "metadata": {},
     "output_type": "execute_result"
    }
   ],
   "source": [
    "os.path.join(wsi_path, fname)"
   ]
  },
  {
   "cell_type": "code",
   "execution_count": 137,
   "metadata": {
    "_last_msg_id": "c92cc23156704b9a8c43487c75f336a8"
   },
   "outputs": [
    {
     "name": "stdout",
     "output_type": "stream",
     "text": [
      "Image width: 9216, Image lenght: 32000\n",
      "Tile width: 512, Tile lenght: 512\n",
      "Tiles in width: 18, Tiles in lenght: 63\n",
      "BitsPerSample: 8\n",
      "SamplesPerPixel: 3\n",
      "Compression: 7\n",
      "Photometric: 2\n",
      "JPEGTables size 289\n",
      "Number of tiles: 1134\n",
      "_\r",
      "tile: 0\r",
      "tile: 100\r",
      "tile: 200\r",
      "tile: 300\r",
      "tile: 400\r",
      "tile: 500\r",
      "tile: 600\r",
      "tile: 700\r",
      "tile: 800\r",
      "tile: 900\r",
      "tile: 1000\r",
      "tile: 1100\r",
      "finished..............\n",
      "\n"
     ]
    }
   ],
   "source": [
    "result = subprocess.run([TIFFTILES2JPG_BIN, os.path.join(wsi_path, fname), '0', '../tmp/patches2/'], \n",
    "                         stdout=subprocess.PIPE)\n",
    "\n",
    "result.returncode == 0\n",
    "\n",
    "print(result.stdout.decode(\"utf-8\"))"
   ]
  },
  {
   "cell_type": "code",
   "execution_count": 134,
   "metadata": {
    "_last_msg_id": "de00b070b90e41f7898787f7501bef86"
   },
   "outputs": [
    {
     "data": {
      "text/plain": [
       "0"
      ]
     },
     "execution_count": 134,
     "metadata": {},
     "output_type": "execute_result"
    }
   ],
   "source": []
  },
  {
   "cell_type": "code",
   "execution_count": 136,
   "metadata": {
    "_last_msg_id": "51222d8f90544f89815e738a26eff03a"
   },
   "outputs": [
    {
     "name": "stdout",
     "output_type": "stream",
     "text": [
      "Image width: 9216, Image lenght: 32000\n",
      "Tile width: 512, Tile lenght: 512\n",
      "Tiles in width: 18, Tiles in lenght: 63\n",
      "BitsPerSample: 8\n",
      "SamplesPerPixel: 3\n",
      "Compression: 7\n",
      "Photometric: 2\n",
      "JPEGTables size 289\n",
      "Number of tiles: 1134\n",
      "_\r",
      "tile: 0\r",
      "tile: 100\r",
      "tile: 200\r",
      "tile: 300\r",
      "tile: 400\r",
      "tile: 500\r",
      "tile: 600\r",
      "tile: 700\r",
      "tile: 800\r",
      "tile: 900\r",
      "tile: 1000\r",
      "tile: 1100\r",
      "finished..............\n",
      "\n"
     ]
    }
   ],
   "source": []
  },
  {
   "cell_type": "code",
   "execution_count": null,
   "metadata": {},
   "outputs": [],
   "source": []
  }
 ],
 "metadata": {
  "kernelspec": {
   "display_name": "Python 3",
   "language": "python",
   "name": "python3"
  },
  "language_info": {
   "codemirror_mode": {
    "name": "ipython",
    "version": 3
   },
   "file_extension": ".py",
   "mimetype": "text/x-python",
   "name": "python",
   "nbconvert_exporter": "python",
   "pygments_lexer": "ipython3",
   "version": "3.7.4"
  }
 },
 "nbformat": 4,
 "nbformat_minor": 2
}
