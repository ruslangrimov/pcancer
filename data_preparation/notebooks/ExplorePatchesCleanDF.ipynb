{
 "cells": [
  {
   "cell_type": "code",
   "execution_count": 2,
   "metadata": {
    "_last_msg_id": "ac774e67503e4ad4909b4b5275db6787"
   },
   "outputs": [],
   "source": [
    "import os, sys\n",
    "import numpy as np\n",
    "import pandas as pd\n",
    "\n",
    "import matplotlib.pyplot as plt"
   ]
  },
  {
   "cell_type": "code",
   "execution_count": 3,
   "metadata": {
    "_last_msg_id": "44c32f849f4d4769b6be3c21968870dc"
   },
   "outputs": [],
   "source": [
    "patches_csv_path = \"/mnt/SSDData/pdata/processed/patches_clean90_512.csv\""
   ]
  },
  {
   "cell_type": "code",
   "execution_count": 4,
   "metadata": {
    "_last_msg_id": "c730e5fe17f64c2e8c2b52df0c9981fb"
   },
   "outputs": [],
   "source": [
    "df = pd.read_csv(patches_csv_path)"
   ]
  },
  {
   "cell_type": "code",
   "execution_count": 5,
   "metadata": {
    "_last_msg_id": "03fda30e092743c984f34a6e84183bdc"
   },
   "outputs": [
    {
     "data": {
      "text/plain": [
       "164.8199"
      ]
     },
     "execution_count": 5,
     "metadata": {},
     "output_type": "execute_result"
    }
   ],
   "source": [
    "df.shape[0] / 10000"
   ]
  },
  {
   "cell_type": "code",
   "execution_count": 6,
   "metadata": {
    "_last_msg_id": "e2c4321a4a734e8dbaa38190714c9f9e"
   },
   "outputs": [
    {
     "data": {
      "text/html": [
       "<div>\n",
       "<style scoped>\n",
       "    .dataframe tbody tr th:only-of-type {\n",
       "        vertical-align: middle;\n",
       "    }\n",
       "\n",
       "    .dataframe tbody tr th {\n",
       "        vertical-align: top;\n",
       "    }\n",
       "\n",
       "    .dataframe thead th {\n",
       "        text-align: right;\n",
       "    }\n",
       "</style>\n",
       "<table border=\"1\" class=\"dataframe\">\n",
       "  <thead>\n",
       "    <tr style=\"text-align: right;\">\n",
       "      <th></th>\n",
       "      <th>image_id</th>\n",
       "      <th>isup_grade</th>\n",
       "      <th>gleason_score</th>\n",
       "      <th>y</th>\n",
       "      <th>x</th>\n",
       "      <th>label0</th>\n",
       "      <th>label1</th>\n",
       "      <th>label2</th>\n",
       "      <th>label3</th>\n",
       "      <th>label4</th>\n",
       "      <th>label5</th>\n",
       "    </tr>\n",
       "    <tr>\n",
       "      <th>data_provider</th>\n",
       "      <th></th>\n",
       "      <th></th>\n",
       "      <th></th>\n",
       "      <th></th>\n",
       "      <th></th>\n",
       "      <th></th>\n",
       "      <th></th>\n",
       "      <th></th>\n",
       "      <th></th>\n",
       "      <th></th>\n",
       "      <th></th>\n",
       "    </tr>\n",
       "  </thead>\n",
       "  <tbody>\n",
       "    <tr>\n",
       "      <td>karolinska</td>\n",
       "      <td>940304</td>\n",
       "      <td>940304</td>\n",
       "      <td>940304</td>\n",
       "      <td>940304</td>\n",
       "      <td>940304</td>\n",
       "      <td>940304</td>\n",
       "      <td>940304</td>\n",
       "      <td>940304</td>\n",
       "      <td>940304</td>\n",
       "      <td>940304</td>\n",
       "      <td>940304</td>\n",
       "    </tr>\n",
       "    <tr>\n",
       "      <td>radboud</td>\n",
       "      <td>707895</td>\n",
       "      <td>707895</td>\n",
       "      <td>707895</td>\n",
       "      <td>707895</td>\n",
       "      <td>707895</td>\n",
       "      <td>707895</td>\n",
       "      <td>707895</td>\n",
       "      <td>707895</td>\n",
       "      <td>707895</td>\n",
       "      <td>707895</td>\n",
       "      <td>707895</td>\n",
       "    </tr>\n",
       "  </tbody>\n",
       "</table>\n",
       "</div>"
      ],
      "text/plain": [
       "               image_id  isup_grade  gleason_score       y       x  label0  \\\n",
       "data_provider                                                                \n",
       "karolinska       940304      940304         940304  940304  940304  940304   \n",
       "radboud          707895      707895         707895  707895  707895  707895   \n",
       "\n",
       "               label1  label2  label3  label4  label5  \n",
       "data_provider                                          \n",
       "karolinska     940304  940304  940304  940304  940304  \n",
       "radboud        707895  707895  707895  707895  707895  "
      ]
     },
     "execution_count": 6,
     "metadata": {},
     "output_type": "execute_result"
    }
   ],
   "source": [
    "df.groupby('data_provider').count()"
   ]
  },
  {
   "cell_type": "code",
   "execution_count": null,
   "metadata": {},
   "outputs": [],
   "source": []
  },
  {
   "cell_type": "code",
   "execution_count": 7,
   "metadata": {
    "_last_msg_id": "5bc8f69941ff471ab7617d60767ca31e"
   },
   "outputs": [
    {
     "data": {
      "text/html": [
       "<div>\n",
       "<style scoped>\n",
       "    .dataframe tbody tr th:only-of-type {\n",
       "        vertical-align: middle;\n",
       "    }\n",
       "\n",
       "    .dataframe tbody tr th {\n",
       "        vertical-align: top;\n",
       "    }\n",
       "\n",
       "    .dataframe thead th {\n",
       "        text-align: right;\n",
       "    }\n",
       "</style>\n",
       "<table border=\"1\" class=\"dataframe\">\n",
       "  <thead>\n",
       "    <tr style=\"text-align: right;\">\n",
       "      <th></th>\n",
       "      <th>image_id</th>\n",
       "      <th>data_provider</th>\n",
       "      <th>gleason_score</th>\n",
       "      <th>y</th>\n",
       "      <th>x</th>\n",
       "      <th>label0</th>\n",
       "      <th>label1</th>\n",
       "      <th>label2</th>\n",
       "      <th>label3</th>\n",
       "      <th>label4</th>\n",
       "      <th>label5</th>\n",
       "    </tr>\n",
       "    <tr>\n",
       "      <th>isup_grade</th>\n",
       "      <th></th>\n",
       "      <th></th>\n",
       "      <th></th>\n",
       "      <th></th>\n",
       "      <th></th>\n",
       "      <th></th>\n",
       "      <th></th>\n",
       "      <th></th>\n",
       "      <th></th>\n",
       "      <th></th>\n",
       "      <th></th>\n",
       "    </tr>\n",
       "  </thead>\n",
       "  <tbody>\n",
       "    <tr>\n",
       "      <td>0</td>\n",
       "      <td>332119</td>\n",
       "      <td>332119</td>\n",
       "      <td>332119</td>\n",
       "      <td>332119</td>\n",
       "      <td>332119</td>\n",
       "      <td>332119</td>\n",
       "      <td>332119</td>\n",
       "      <td>332119</td>\n",
       "      <td>332119</td>\n",
       "      <td>332119</td>\n",
       "      <td>332119</td>\n",
       "    </tr>\n",
       "    <tr>\n",
       "      <td>1</td>\n",
       "      <td>308811</td>\n",
       "      <td>308811</td>\n",
       "      <td>308811</td>\n",
       "      <td>308811</td>\n",
       "      <td>308811</td>\n",
       "      <td>308811</td>\n",
       "      <td>308811</td>\n",
       "      <td>308811</td>\n",
       "      <td>308811</td>\n",
       "      <td>308811</td>\n",
       "      <td>308811</td>\n",
       "    </tr>\n",
       "    <tr>\n",
       "      <td>2</td>\n",
       "      <td>116365</td>\n",
       "      <td>116365</td>\n",
       "      <td>116365</td>\n",
       "      <td>116365</td>\n",
       "      <td>116365</td>\n",
       "      <td>116365</td>\n",
       "      <td>116365</td>\n",
       "      <td>116365</td>\n",
       "      <td>116365</td>\n",
       "      <td>116365</td>\n",
       "      <td>116365</td>\n",
       "    </tr>\n",
       "    <tr>\n",
       "      <td>3</td>\n",
       "      <td>53931</td>\n",
       "      <td>53931</td>\n",
       "      <td>53931</td>\n",
       "      <td>53931</td>\n",
       "      <td>53931</td>\n",
       "      <td>53931</td>\n",
       "      <td>53931</td>\n",
       "      <td>53931</td>\n",
       "      <td>53931</td>\n",
       "      <td>53931</td>\n",
       "      <td>53931</td>\n",
       "    </tr>\n",
       "    <tr>\n",
       "      <td>4</td>\n",
       "      <td>81490</td>\n",
       "      <td>81490</td>\n",
       "      <td>81490</td>\n",
       "      <td>81490</td>\n",
       "      <td>81490</td>\n",
       "      <td>81490</td>\n",
       "      <td>81490</td>\n",
       "      <td>81490</td>\n",
       "      <td>81490</td>\n",
       "      <td>81490</td>\n",
       "      <td>81490</td>\n",
       "    </tr>\n",
       "    <tr>\n",
       "      <td>5</td>\n",
       "      <td>47588</td>\n",
       "      <td>47588</td>\n",
       "      <td>47588</td>\n",
       "      <td>47588</td>\n",
       "      <td>47588</td>\n",
       "      <td>47588</td>\n",
       "      <td>47588</td>\n",
       "      <td>47588</td>\n",
       "      <td>47588</td>\n",
       "      <td>47588</td>\n",
       "      <td>47588</td>\n",
       "    </tr>\n",
       "  </tbody>\n",
       "</table>\n",
       "</div>"
      ],
      "text/plain": [
       "            image_id  data_provider  gleason_score       y       x  label0  \\\n",
       "isup_grade                                                                   \n",
       "0             332119         332119         332119  332119  332119  332119   \n",
       "1             308811         308811         308811  308811  308811  308811   \n",
       "2             116365         116365         116365  116365  116365  116365   \n",
       "3              53931          53931          53931   53931   53931   53931   \n",
       "4              81490          81490          81490   81490   81490   81490   \n",
       "5              47588          47588          47588   47588   47588   47588   \n",
       "\n",
       "            label1  label2  label3  label4  label5  \n",
       "isup_grade                                          \n",
       "0           332119  332119  332119  332119  332119  \n",
       "1           308811  308811  308811  308811  308811  \n",
       "2           116365  116365  116365  116365  116365  \n",
       "3            53931   53931   53931   53931   53931  \n",
       "4            81490   81490   81490   81490   81490  \n",
       "5            47588   47588   47588   47588   47588  "
      ]
     },
     "execution_count": 7,
     "metadata": {},
     "output_type": "execute_result"
    }
   ],
   "source": [
    "df[df['data_provider'] == 'karolinska'].groupby('isup_grade').count()"
   ]
  },
  {
   "cell_type": "code",
   "execution_count": 8,
   "metadata": {
    "_last_msg_id": "98a0fe8f27e5472c94b6e7111f5bcdc8"
   },
   "outputs": [
    {
     "data": {
      "text/html": [
       "<div>\n",
       "<style scoped>\n",
       "    .dataframe tbody tr th:only-of-type {\n",
       "        vertical-align: middle;\n",
       "    }\n",
       "\n",
       "    .dataframe tbody tr th {\n",
       "        vertical-align: top;\n",
       "    }\n",
       "\n",
       "    .dataframe thead th {\n",
       "        text-align: right;\n",
       "    }\n",
       "</style>\n",
       "<table border=\"1\" class=\"dataframe\">\n",
       "  <thead>\n",
       "    <tr style=\"text-align: right;\">\n",
       "      <th></th>\n",
       "      <th>image_id</th>\n",
       "      <th>data_provider</th>\n",
       "      <th>gleason_score</th>\n",
       "      <th>y</th>\n",
       "      <th>x</th>\n",
       "      <th>label0</th>\n",
       "      <th>label1</th>\n",
       "      <th>label2</th>\n",
       "      <th>label3</th>\n",
       "      <th>label4</th>\n",
       "      <th>label5</th>\n",
       "    </tr>\n",
       "    <tr>\n",
       "      <th>isup_grade</th>\n",
       "      <th></th>\n",
       "      <th></th>\n",
       "      <th></th>\n",
       "      <th></th>\n",
       "      <th></th>\n",
       "      <th></th>\n",
       "      <th></th>\n",
       "      <th></th>\n",
       "      <th></th>\n",
       "      <th></th>\n",
       "      <th></th>\n",
       "    </tr>\n",
       "  </thead>\n",
       "  <tbody>\n",
       "    <tr>\n",
       "      <td>0</td>\n",
       "      <td>116305</td>\n",
       "      <td>116305</td>\n",
       "      <td>116305</td>\n",
       "      <td>116305</td>\n",
       "      <td>116305</td>\n",
       "      <td>116305</td>\n",
       "      <td>116305</td>\n",
       "      <td>116305</td>\n",
       "      <td>116305</td>\n",
       "      <td>116305</td>\n",
       "      <td>116305</td>\n",
       "    </tr>\n",
       "    <tr>\n",
       "      <td>1</td>\n",
       "      <td>111611</td>\n",
       "      <td>111611</td>\n",
       "      <td>111611</td>\n",
       "      <td>111611</td>\n",
       "      <td>111611</td>\n",
       "      <td>111611</td>\n",
       "      <td>111611</td>\n",
       "      <td>111611</td>\n",
       "      <td>111611</td>\n",
       "      <td>111611</td>\n",
       "      <td>111611</td>\n",
       "    </tr>\n",
       "    <tr>\n",
       "      <td>2</td>\n",
       "      <td>101613</td>\n",
       "      <td>101613</td>\n",
       "      <td>101613</td>\n",
       "      <td>101613</td>\n",
       "      <td>101613</td>\n",
       "      <td>101613</td>\n",
       "      <td>101613</td>\n",
       "      <td>101613</td>\n",
       "      <td>101613</td>\n",
       "      <td>101613</td>\n",
       "      <td>101613</td>\n",
       "    </tr>\n",
       "    <tr>\n",
       "      <td>3</td>\n",
       "      <td>131533</td>\n",
       "      <td>131533</td>\n",
       "      <td>131533</td>\n",
       "      <td>131533</td>\n",
       "      <td>131533</td>\n",
       "      <td>131533</td>\n",
       "      <td>131533</td>\n",
       "      <td>131533</td>\n",
       "      <td>131533</td>\n",
       "      <td>131533</td>\n",
       "      <td>131533</td>\n",
       "    </tr>\n",
       "    <tr>\n",
       "      <td>4</td>\n",
       "      <td>100912</td>\n",
       "      <td>100912</td>\n",
       "      <td>100912</td>\n",
       "      <td>100912</td>\n",
       "      <td>100912</td>\n",
       "      <td>100912</td>\n",
       "      <td>100912</td>\n",
       "      <td>100912</td>\n",
       "      <td>100912</td>\n",
       "      <td>100912</td>\n",
       "      <td>100912</td>\n",
       "    </tr>\n",
       "    <tr>\n",
       "      <td>5</td>\n",
       "      <td>145921</td>\n",
       "      <td>145921</td>\n",
       "      <td>145921</td>\n",
       "      <td>145921</td>\n",
       "      <td>145921</td>\n",
       "      <td>145921</td>\n",
       "      <td>145921</td>\n",
       "      <td>145921</td>\n",
       "      <td>145921</td>\n",
       "      <td>145921</td>\n",
       "      <td>145921</td>\n",
       "    </tr>\n",
       "  </tbody>\n",
       "</table>\n",
       "</div>"
      ],
      "text/plain": [
       "            image_id  data_provider  gleason_score       y       x  label0  \\\n",
       "isup_grade                                                                   \n",
       "0             116305         116305         116305  116305  116305  116305   \n",
       "1             111611         111611         111611  111611  111611  111611   \n",
       "2             101613         101613         101613  101613  101613  101613   \n",
       "3             131533         131533         131533  131533  131533  131533   \n",
       "4             100912         100912         100912  100912  100912  100912   \n",
       "5             145921         145921         145921  145921  145921  145921   \n",
       "\n",
       "            label1  label2  label3  label4  label5  \n",
       "isup_grade                                          \n",
       "0           116305  116305  116305  116305  116305  \n",
       "1           111611  111611  111611  111611  111611  \n",
       "2           101613  101613  101613  101613  101613  \n",
       "3           131533  131533  131533  131533  131533  \n",
       "4           100912  100912  100912  100912  100912  \n",
       "5           145921  145921  145921  145921  145921  "
      ]
     },
     "execution_count": 8,
     "metadata": {},
     "output_type": "execute_result"
    }
   ],
   "source": [
    "df[df['data_provider'] == 'radboud'].groupby('isup_grade').count()"
   ]
  },
  {
   "cell_type": "code",
   "execution_count": null,
   "metadata": {},
   "outputs": [],
   "source": []
  },
  {
   "cell_type": "code",
   "execution_count": 9,
   "metadata": {
    "_last_msg_id": "b06b63f62a2a42559be2187223c09355"
   },
   "outputs": [
    {
     "data": {
      "text/plain": [
       "376603.5518569946"
      ]
     },
     "execution_count": 9,
     "metadata": {},
     "output_type": "execute_result"
    }
   ],
   "source": [
    "df[df['data_provider'] == 'karolinska']['label0'].sum()"
   ]
  },
  {
   "cell_type": "code",
   "execution_count": 10,
   "metadata": {
    "_last_msg_id": "76349ef671004498be51b0c275903bc0"
   },
   "outputs": [
    {
     "data": {
      "text/plain": [
       "414717.4648094177"
      ]
     },
     "execution_count": 10,
     "metadata": {},
     "output_type": "execute_result"
    }
   ],
   "source": [
    "df[df['data_provider'] == 'karolinska']['label1'].sum()"
   ]
  },
  {
   "cell_type": "code",
   "execution_count": 11,
   "metadata": {
    "_last_msg_id": "f35fcf2dd7f04f5da4c6feb362a0dc59"
   },
   "outputs": [
    {
     "data": {
      "text/plain": [
       "148982.98333358765"
      ]
     },
     "execution_count": 11,
     "metadata": {},
     "output_type": "execute_result"
    }
   ],
   "source": [
    "df[df['data_provider'] == 'karolinska']['label2'].sum()"
   ]
  },
  {
   "cell_type": "code",
   "execution_count": 12,
   "metadata": {
    "_last_msg_id": "980290d2435f47cd90efbf6c718c99d7"
   },
   "outputs": [
    {
     "data": {
      "text/plain": [
       "0.0"
      ]
     },
     "execution_count": 12,
     "metadata": {},
     "output_type": "execute_result"
    }
   ],
   "source": [
    "df[df['data_provider'] == 'karolinska']['label3'].sum()"
   ]
  },
  {
   "cell_type": "code",
   "execution_count": 13,
   "metadata": {
    "_last_msg_id": "955632812bc0441f8e391c75a56be8d2"
   },
   "outputs": [
    {
     "data": {
      "text/html": [
       "<div>\n",
       "<style scoped>\n",
       "    .dataframe tbody tr th:only-of-type {\n",
       "        vertical-align: middle;\n",
       "    }\n",
       "\n",
       "    .dataframe tbody tr th {\n",
       "        vertical-align: top;\n",
       "    }\n",
       "\n",
       "    .dataframe thead th {\n",
       "        text-align: right;\n",
       "    }\n",
       "</style>\n",
       "<table border=\"1\" class=\"dataframe\">\n",
       "  <thead>\n",
       "    <tr style=\"text-align: right;\">\n",
       "      <th></th>\n",
       "      <th>label0</th>\n",
       "      <th>label1</th>\n",
       "      <th>label2</th>\n",
       "      <th>label3</th>\n",
       "      <th>label4</th>\n",
       "      <th>label5</th>\n",
       "    </tr>\n",
       "    <tr>\n",
       "      <th>isup_grade</th>\n",
       "      <th></th>\n",
       "      <th></th>\n",
       "      <th></th>\n",
       "      <th></th>\n",
       "      <th></th>\n",
       "      <th></th>\n",
       "    </tr>\n",
       "  </thead>\n",
       "  <tbody>\n",
       "    <tr>\n",
       "      <td>0</td>\n",
       "      <td>100827.761032</td>\n",
       "      <td>231291.238968</td>\n",
       "      <td>0.000000</td>\n",
       "      <td>0.0</td>\n",
       "      <td>0.0</td>\n",
       "      <td>0.0</td>\n",
       "    </tr>\n",
       "    <tr>\n",
       "      <td>1</td>\n",
       "      <td>146036.662758</td>\n",
       "      <td>114599.573204</td>\n",
       "      <td>48174.764038</td>\n",
       "      <td>0.0</td>\n",
       "      <td>0.0</td>\n",
       "      <td>0.0</td>\n",
       "    </tr>\n",
       "    <tr>\n",
       "      <td>2</td>\n",
       "      <td>53382.259941</td>\n",
       "      <td>30790.589436</td>\n",
       "      <td>32192.150623</td>\n",
       "      <td>0.0</td>\n",
       "      <td>0.0</td>\n",
       "      <td>0.0</td>\n",
       "    </tr>\n",
       "    <tr>\n",
       "      <td>3</td>\n",
       "      <td>23289.912422</td>\n",
       "      <td>10860.653229</td>\n",
       "      <td>19780.434349</td>\n",
       "      <td>0.0</td>\n",
       "      <td>0.0</td>\n",
       "      <td>0.0</td>\n",
       "    </tr>\n",
       "    <tr>\n",
       "      <td>4</td>\n",
       "      <td>34006.551952</td>\n",
       "      <td>20293.183430</td>\n",
       "      <td>27190.264618</td>\n",
       "      <td>0.0</td>\n",
       "      <td>0.0</td>\n",
       "      <td>0.0</td>\n",
       "    </tr>\n",
       "    <tr>\n",
       "      <td>5</td>\n",
       "      <td>19060.403751</td>\n",
       "      <td>6882.226543</td>\n",
       "      <td>21645.369705</td>\n",
       "      <td>0.0</td>\n",
       "      <td>0.0</td>\n",
       "      <td>0.0</td>\n",
       "    </tr>\n",
       "  </tbody>\n",
       "</table>\n",
       "</div>"
      ],
      "text/plain": [
       "                   label0         label1        label2  label3  label4  label5\n",
       "isup_grade                                                                    \n",
       "0           100827.761032  231291.238968      0.000000     0.0     0.0     0.0\n",
       "1           146036.662758  114599.573204  48174.764038     0.0     0.0     0.0\n",
       "2            53382.259941   30790.589436  32192.150623     0.0     0.0     0.0\n",
       "3            23289.912422   10860.653229  19780.434349     0.0     0.0     0.0\n",
       "4            34006.551952   20293.183430  27190.264618     0.0     0.0     0.0\n",
       "5            19060.403751    6882.226543  21645.369705     0.0     0.0     0.0"
      ]
     },
     "execution_count": 13,
     "metadata": {},
     "output_type": "execute_result"
    }
   ],
   "source": [
    "df[df['data_provider'] == 'karolinska'].groupby('isup_grade')[[f'label{i}' for i in range(6)]].sum()"
   ]
  },
  {
   "cell_type": "code",
   "execution_count": 14,
   "metadata": {
    "_last_msg_id": "ec3fa7ce640949c689ba07eaee11cf0c"
   },
   "outputs": [
    {
     "data": {
      "text/html": [
       "<div>\n",
       "<style scoped>\n",
       "    .dataframe tbody tr th:only-of-type {\n",
       "        vertical-align: middle;\n",
       "    }\n",
       "\n",
       "    .dataframe tbody tr th {\n",
       "        vertical-align: top;\n",
       "    }\n",
       "\n",
       "    .dataframe thead th {\n",
       "        text-align: right;\n",
       "    }\n",
       "</style>\n",
       "<table border=\"1\" class=\"dataframe\">\n",
       "  <thead>\n",
       "    <tr style=\"text-align: right;\">\n",
       "      <th></th>\n",
       "      <th>label0</th>\n",
       "      <th>label1</th>\n",
       "      <th>label2</th>\n",
       "      <th>label3</th>\n",
       "      <th>label4</th>\n",
       "      <th>label5</th>\n",
       "    </tr>\n",
       "    <tr>\n",
       "      <th>isup_grade</th>\n",
       "      <th></th>\n",
       "      <th></th>\n",
       "      <th></th>\n",
       "      <th></th>\n",
       "      <th></th>\n",
       "      <th></th>\n",
       "    </tr>\n",
       "  </thead>\n",
       "  <tbody>\n",
       "    <tr>\n",
       "      <td>0</td>\n",
       "      <td>25338.921829</td>\n",
       "      <td>80807.616409</td>\n",
       "      <td>10158.461761</td>\n",
       "      <td>0.000000</td>\n",
       "      <td>0.000000</td>\n",
       "      <td>0.000000</td>\n",
       "    </tr>\n",
       "    <tr>\n",
       "      <td>1</td>\n",
       "      <td>25062.729248</td>\n",
       "      <td>71804.746231</td>\n",
       "      <td>4955.885300</td>\n",
       "      <td>9787.639221</td>\n",
       "      <td>0.000000</td>\n",
       "      <td>0.000000</td>\n",
       "    </tr>\n",
       "    <tr>\n",
       "      <td>2</td>\n",
       "      <td>20757.194534</td>\n",
       "      <td>62841.656006</td>\n",
       "      <td>2691.481110</td>\n",
       "      <td>10421.675323</td>\n",
       "      <td>4900.993027</td>\n",
       "      <td>0.000000</td>\n",
       "    </tr>\n",
       "    <tr>\n",
       "      <td>3</td>\n",
       "      <td>25453.434586</td>\n",
       "      <td>82540.506454</td>\n",
       "      <td>3664.549454</td>\n",
       "      <td>5159.451752</td>\n",
       "      <td>14715.057755</td>\n",
       "      <td>0.000000</td>\n",
       "    </tr>\n",
       "    <tr>\n",
       "      <td>4</td>\n",
       "      <td>20807.945801</td>\n",
       "      <td>64780.446457</td>\n",
       "      <td>2532.393570</td>\n",
       "      <td>958.796906</td>\n",
       "      <td>10659.891571</td>\n",
       "      <td>1172.525696</td>\n",
       "    </tr>\n",
       "    <tr>\n",
       "      <td>5</td>\n",
       "      <td>29142.772827</td>\n",
       "      <td>94434.986130</td>\n",
       "      <td>2371.470520</td>\n",
       "      <td>0.000000</td>\n",
       "      <td>12832.275238</td>\n",
       "      <td>7139.495285</td>\n",
       "    </tr>\n",
       "  </tbody>\n",
       "</table>\n",
       "</div>"
      ],
      "text/plain": [
       "                  label0        label1        label2        label3  \\\n",
       "isup_grade                                                           \n",
       "0           25338.921829  80807.616409  10158.461761      0.000000   \n",
       "1           25062.729248  71804.746231   4955.885300   9787.639221   \n",
       "2           20757.194534  62841.656006   2691.481110  10421.675323   \n",
       "3           25453.434586  82540.506454   3664.549454   5159.451752   \n",
       "4           20807.945801  64780.446457   2532.393570    958.796906   \n",
       "5           29142.772827  94434.986130   2371.470520      0.000000   \n",
       "\n",
       "                  label4       label5  \n",
       "isup_grade                             \n",
       "0               0.000000     0.000000  \n",
       "1               0.000000     0.000000  \n",
       "2            4900.993027     0.000000  \n",
       "3           14715.057755     0.000000  \n",
       "4           10659.891571  1172.525696  \n",
       "5           12832.275238  7139.495285  "
      ]
     },
     "execution_count": 14,
     "metadata": {},
     "output_type": "execute_result"
    }
   ],
   "source": [
    "df[df['data_provider'] == 'radboud'].groupby('isup_grade')[[f'label{i}' for i in range(6)]].sum()"
   ]
  },
  {
   "cell_type": "code",
   "execution_count": null,
   "metadata": {},
   "outputs": [],
   "source": []
  },
  {
   "cell_type": "code",
   "execution_count": 15,
   "metadata": {
    "_last_msg_id": "b6c81b08ec534408893d1a534201bb8d"
   },
   "outputs": [],
   "source": [
    "df_all_g = df.groupby('image_id')\n",
    "df_k_g = df[df['data_provider'] == 'karolinska'].groupby('image_id')\n",
    "df_r_g = df[df['data_provider'] == 'radboud'].groupby('image_id')"
   ]
  },
  {
   "cell_type": "code",
   "execution_count": 16,
   "metadata": {
    "_last_msg_id": "38557847c2254dfa9f9213512e00ad64"
   },
   "outputs": [],
   "source": [
    "dfs_g = [df_all_g, df_k_g, df_r_g]"
   ]
  },
  {
   "cell_type": "code",
   "execution_count": 17,
   "metadata": {
    "_last_msg_id": "919e50c2f4f74c4c86b39e277f478890"
   },
   "outputs": [],
   "source": [
    "patches_per_id = [df_g.count()['data_provider'].values for df_g in dfs_g]"
   ]
  },
  {
   "cell_type": "code",
   "execution_count": 18,
   "metadata": {
    "_last_msg_id": "158ba075627a44978e6fd7beec2017be"
   },
   "outputs": [
    {
     "data": {
      "image/png": "[encoded data removed]",
      "text/plain": [
       "<Figure size 1296x288 with 3 Axes>"
      ]
     },
     "metadata": {
      "needs_background": "light"
     },
     "output_type": "display_data"
    }
   ],
   "source": [
    "fig, axs = plt.subplots(1, 3, figsize=(18, 4))\n",
    "for n in range(3):\n",
    "    axs[n].hist(patches_per_id[n], bins=50);"
   ]
  },
  {
   "cell_type": "code",
   "execution_count": 19,
   "metadata": {
    "_last_msg_id": "f5d38d29379343c4826fcf7013334dc6"
   },
   "outputs": [
    {
     "data": {
      "image/png": "[encoded data removed]",
      "text/plain": [
       "<Figure size 1296x288 with 3 Axes>"
      ]
     },
     "metadata": {
      "needs_background": "light"
     },
     "output_type": "display_data"
    }
   ],
   "source": [
    "fig, axs = plt.subplots(1, 3, figsize=(18, 4))\n",
    "for n in range(3):\n",
    "    min_y_x = dfs_g[n].min()[['y', 'x']].values\n",
    "    max_y_x = dfs_g[n].max()[['y', 'x']].values\n",
    "\n",
    "    size_y_x = max_y_x - min_y_x\n",
    "\n",
    "    axs[n].hist(size_y_x[:, 0], bins=50);"
   ]
  },
  {
   "cell_type": "code",
   "execution_count": 20,
   "metadata": {
    "_last_msg_id": "c8cc74eff90041a3a72be621f5c97553"
   },
   "outputs": [
    {
     "data": {
      "image/png": "[encoded data removed]",
      "text/plain": [
       "<Figure size 1296x288 with 3 Axes>"
      ]
     },
     "metadata": {
      "needs_background": "light"
     },
     "output_type": "display_data"
    }
   ],
   "source": [
    "fig, axs = plt.subplots(1, 3, figsize=(18, 4))\n",
    "for n in range(3):\n",
    "    min_y_x = dfs_g[n].min()[['y', 'x']].values\n",
    "    max_y_x = dfs_g[n].max()[['y', 'x']].values\n",
    "\n",
    "    size_y_x = max_y_x - min_y_x\n",
    "\n",
    "    axs[n].hist(size_y_x[:, 1], bins=50);"
   ]
  },
  {
   "cell_type": "code",
   "execution_count": null,
   "metadata": {},
   "outputs": [],
   "source": []
  }
 ],
 "metadata": {
  "kernelspec": {
   "display_name": "Python 3",
   "language": "python",
   "name": "python3"
  },
  "language_info": {
   "codemirror_mode": {
    "name": "ipython",
    "version": 3
   },
   "file_extension": ".py",
   "mimetype": "text/x-python",
   "name": "python",
   "nbconvert_exporter": "python",
   "pygments_lexer": "ipython3",
   "version": "3.7.4"
  }
 },
 "nbformat": 4,
 "nbformat_minor": 2
}
